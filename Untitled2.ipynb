{
 "cells": [
  {
   "cell_type": "code",
   "execution_count": 25,
   "id": "28275141",
   "metadata": {},
   "outputs": [],
   "source": [
    "import pandas as pd"
   ]
  },
  {
   "cell_type": "code",
   "execution_count": 31,
   "id": "d2ea5230",
   "metadata": {},
   "outputs": [],
   "source": [
    "csv = pd.read_csv(\"final_resto_list.csv\", index_col=0)"
   ]
  },
  {
   "cell_type": "code",
   "execution_count": 32,
   "id": "0138e5ea",
   "metadata": {},
   "outputs": [
    {
     "data": {
      "text/plain": [
       "alias           0\n",
       "name            0\n",
       "url             0\n",
       "categories      0\n",
       "latitude        0\n",
       "longitude       0\n",
       "address         7\n",
       "zip_code        0\n",
       "price           0\n",
       "rating          0\n",
       "review_count    0\n",
       "dtype: int64"
      ]
     },
     "execution_count": 32,
     "metadata": {},
     "output_type": "execute_result"
    }
   ],
   "source": [
    "csv.isnull().sum()"
   ]
  },
  {
   "cell_type": "code",
   "execution_count": 33,
   "id": "4ee9f3f1",
   "metadata": {},
   "outputs": [
    {
     "data": {
      "text/html": [
       "<div>\n",
       "<style scoped>\n",
       "    .dataframe tbody tr th:only-of-type {\n",
       "        vertical-align: middle;\n",
       "    }\n",
       "\n",
       "    .dataframe tbody tr th {\n",
       "        vertical-align: top;\n",
       "    }\n",
       "\n",
       "    .dataframe thead th {\n",
       "        text-align: right;\n",
       "    }\n",
       "</style>\n",
       "<table border=\"1\" class=\"dataframe\">\n",
       "  <thead>\n",
       "    <tr style=\"text-align: right;\">\n",
       "      <th></th>\n",
       "      <th>alias</th>\n",
       "      <th>name</th>\n",
       "      <th>url</th>\n",
       "      <th>categories</th>\n",
       "      <th>latitude</th>\n",
       "      <th>longitude</th>\n",
       "      <th>address</th>\n",
       "      <th>zip_code</th>\n",
       "      <th>price</th>\n",
       "      <th>rating</th>\n",
       "      <th>review_count</th>\n",
       "    </tr>\n",
       "  </thead>\n",
       "  <tbody>\n",
       "    <tr>\n",
       "      <th>114</th>\n",
       "      <td>le-réfectoire-foodtruck-paris-3</td>\n",
       "      <td>Le Réfectoire - Foodtruck</td>\n",
       "      <td>https://www.yelp.com/biz/le-r%C3%A9fectoire-fo...</td>\n",
       "      <td>foodtrucks, burgers</td>\n",
       "      <td>48.856930</td>\n",
       "      <td>2.341200</td>\n",
       "      <td>NaN</td>\n",
       "      <td>75000</td>\n",
       "      <td>2</td>\n",
       "      <td>4.5</td>\n",
       "      <td>12.0</td>\n",
       "    </tr>\n",
       "    <tr>\n",
       "      <th>197</th>\n",
       "      <td>new-soul-food-paris</td>\n",
       "      <td>New Soul Food</td>\n",
       "      <td>https://www.yelp.com/biz/new-soul-food-paris</td>\n",
       "      <td>foodtrucks, african, caribbean</td>\n",
       "      <td>48.830120</td>\n",
       "      <td>2.362240</td>\n",
       "      <td>NaN</td>\n",
       "      <td>75013</td>\n",
       "      <td>0</td>\n",
       "      <td>4.5</td>\n",
       "      <td>7.0</td>\n",
       "    </tr>\n",
       "    <tr>\n",
       "      <th>702</th>\n",
       "      <td>cheesers-paris</td>\n",
       "      <td>Cheesers</td>\n",
       "      <td>https://www.yelp.com/biz/cheesers-paris</td>\n",
       "      <td>foodtrucks, tradamerican</td>\n",
       "      <td>48.832180</td>\n",
       "      <td>2.355100</td>\n",
       "      <td>NaN</td>\n",
       "      <td>75013</td>\n",
       "      <td>1</td>\n",
       "      <td>3.5</td>\n",
       "      <td>4.0</td>\n",
       "    </tr>\n",
       "    <tr>\n",
       "      <th>738</th>\n",
       "      <td>l-orange-bleue-pantin</td>\n",
       "      <td>l'orange bleue</td>\n",
       "      <td>https://www.yelp.com/biz/l-orange-bleue-pantin</td>\n",
       "      <td>mideastern</td>\n",
       "      <td>48.900566</td>\n",
       "      <td>2.408726</td>\n",
       "      <td>NaN</td>\n",
       "      <td>93500</td>\n",
       "      <td>2</td>\n",
       "      <td>3.5</td>\n",
       "      <td>2.0</td>\n",
       "    </tr>\n",
       "    <tr>\n",
       "      <th>819</th>\n",
       "      <td>le-cinq-paris</td>\n",
       "      <td>Le Cinq</td>\n",
       "      <td>https://www.yelp.com/biz/le-cinq-paris</td>\n",
       "      <td>french</td>\n",
       "      <td>48.868800</td>\n",
       "      <td>2.300830</td>\n",
       "      <td>NaN</td>\n",
       "      <td>75008</td>\n",
       "      <td>4</td>\n",
       "      <td>4.5</td>\n",
       "      <td>136.0</td>\n",
       "    </tr>\n",
       "    <tr>\n",
       "      <th>832</th>\n",
       "      <td>alain-ducasse-au-plaza-athénée-paris-4</td>\n",
       "      <td>Alain Ducasse au Plaza Athénée</td>\n",
       "      <td>https://www.yelp.com/biz/alain-ducasse-au-plaz...</td>\n",
       "      <td>french</td>\n",
       "      <td>48.866171</td>\n",
       "      <td>2.304417</td>\n",
       "      <td>NaN</td>\n",
       "      <td>75008</td>\n",
       "      <td>4</td>\n",
       "      <td>4.0</td>\n",
       "      <td>96.0</td>\n",
       "    </tr>\n",
       "    <tr>\n",
       "      <th>1865</th>\n",
       "      <td>le-camion-qui-fume-paris</td>\n",
       "      <td>Le Camion qui Fume</td>\n",
       "      <td>https://www.yelp.com/biz/le-camion-qui-fume-paris</td>\n",
       "      <td>burgers, foodtrucks</td>\n",
       "      <td>48.857210</td>\n",
       "      <td>2.341440</td>\n",
       "      <td>NaN</td>\n",
       "      <td>0</td>\n",
       "      <td>2</td>\n",
       "      <td>3.5</td>\n",
       "      <td>162.0</td>\n",
       "    </tr>\n",
       "  </tbody>\n",
       "</table>\n",
       "</div>"
      ],
      "text/plain": [
       "                                       alias                            name  \\\n",
       "114          le-réfectoire-foodtruck-paris-3       Le Réfectoire - Foodtruck   \n",
       "197                      new-soul-food-paris                   New Soul Food   \n",
       "702                           cheesers-paris                        Cheesers   \n",
       "738                    l-orange-bleue-pantin                  l'orange bleue   \n",
       "819                            le-cinq-paris                         Le Cinq   \n",
       "832   alain-ducasse-au-plaza-athénée-paris-4  Alain Ducasse au Plaza Athénée   \n",
       "1865                le-camion-qui-fume-paris              Le Camion qui Fume   \n",
       "\n",
       "                                                    url  \\\n",
       "114   https://www.yelp.com/biz/le-r%C3%A9fectoire-fo...   \n",
       "197        https://www.yelp.com/biz/new-soul-food-paris   \n",
       "702             https://www.yelp.com/biz/cheesers-paris   \n",
       "738      https://www.yelp.com/biz/l-orange-bleue-pantin   \n",
       "819              https://www.yelp.com/biz/le-cinq-paris   \n",
       "832   https://www.yelp.com/biz/alain-ducasse-au-plaz...   \n",
       "1865  https://www.yelp.com/biz/le-camion-qui-fume-paris   \n",
       "\n",
       "                          categories   latitude  longitude address  zip_code  \\\n",
       "114              foodtrucks, burgers  48.856930   2.341200     NaN     75000   \n",
       "197   foodtrucks, african, caribbean  48.830120   2.362240     NaN     75013   \n",
       "702         foodtrucks, tradamerican  48.832180   2.355100     NaN     75013   \n",
       "738                       mideastern  48.900566   2.408726     NaN     93500   \n",
       "819                           french  48.868800   2.300830     NaN     75008   \n",
       "832                           french  48.866171   2.304417     NaN     75008   \n",
       "1865             burgers, foodtrucks  48.857210   2.341440     NaN         0   \n",
       "\n",
       "      price  rating  review_count  \n",
       "114       2     4.5          12.0  \n",
       "197       0     4.5           7.0  \n",
       "702       1     3.5           4.0  \n",
       "738       2     3.5           2.0  \n",
       "819       4     4.5         136.0  \n",
       "832       4     4.0          96.0  \n",
       "1865      2     3.5         162.0  "
      ]
     },
     "execution_count": 33,
     "metadata": {},
     "output_type": "execute_result"
    }
   ],
   "source": [
    "csv[pd.isna(csv[\"address\"])]"
   ]
  },
  {
   "cell_type": "code",
   "execution_count": 43,
   "id": "d6ec1d04",
   "metadata": {},
   "outputs": [
    {
     "name": "stderr",
     "output_type": "stream",
     "text": [
      "/var/folders/s6/nxj_k6112bj7cnd89_8b9l0c0000gn/T/ipykernel_65394/3567283003.py:1: SettingWithCopyWarning: \n",
      "A value is trying to be set on a copy of a slice from a DataFrame.\n",
      "Try using .loc[row_indexer,col_indexer] = value instead\n",
      "\n",
      "See the caveats in the documentation: https://pandas.pydata.org/pandas-docs/stable/user_guide/indexing.html#returning-a-view-versus-a-copy\n",
      "  csv[csv[\"alias\"] == \"le-réfectoire-foodtruck-paris-3\"][\"address\"]= 103\n"
     ]
    }
   ],
   "source": [
    "csv[csv[\"alias\"] == \"le-réfectoire-foodtruck-paris-3\"][\"address\"]= 103"
   ]
  },
  {
   "cell_type": "code",
   "execution_count": null,
   "id": "e59822c8",
   "metadata": {},
   "outputs": [],
   "source": []
  },
  {
   "cell_type": "code",
   "execution_count": null,
   "id": "ef2b6848",
   "metadata": {},
   "outputs": [],
   "source": []
  },
  {
   "cell_type": "code",
   "execution_count": null,
   "id": "e04f9b7c",
   "metadata": {},
   "outputs": [],
   "source": []
  }
 ],
 "metadata": {
  "kernelspec": {
   "display_name": "Python 3 (ipykernel)",
   "language": "python",
   "name": "python3"
  },
  "language_info": {
   "codemirror_mode": {
    "name": "ipython",
    "version": 3
   },
   "file_extension": ".py",
   "mimetype": "text/x-python",
   "name": "python",
   "nbconvert_exporter": "python",
   "pygments_lexer": "ipython3",
   "version": "3.8.12"
  },
  "toc": {
   "base_numbering": 1,
   "nav_menu": {},
   "number_sections": true,
   "sideBar": true,
   "skip_h1_title": false,
   "title_cell": "Table of Contents",
   "title_sidebar": "Contents",
   "toc_cell": false,
   "toc_position": {},
   "toc_section_display": true,
   "toc_window_display": false
  }
 },
 "nbformat": 4,
 "nbformat_minor": 5
}
