{
 "cells": [
  {
   "cell_type": "code",
   "execution_count": 1,
   "id": "62f5a045",
   "metadata": {},
   "outputs": [],
   "source": [
    "import requests"
   ]
  },
  {
   "cell_type": "code",
   "execution_count": 2,
   "id": "f7ea25f5",
   "metadata": {},
   "outputs": [
    {
     "name": "stdout",
     "output_type": "stream",
     "text": [
      "CPU times: user 5 µs, sys: 4 µs, total: 9 µs\n",
      "Wall time: 11 µs\n"
     ]
    }
   ],
   "source": [
    "%time\n",
    "responses = requests.get(\"https://api9-2rnijzpfva-uc.a.run.app/summary_reviews?text=%22I%20want%20a%20burger%22&n_best=10&n_prox=3000&min_review=0\").json()"
   ]
  },
  {
   "cell_type": "code",
   "execution_count": 8,
   "id": "27977aca",
   "metadata": {},
   "outputs": [
    {
     "name": "stdout",
     "output_type": "stream",
     "text": [
      "CPU times: user 30.5 ms, sys: 6.02 ms, total: 36.5 ms\n",
      "Wall time: 10.8 s\n"
     ]
    }
   ],
   "source": [
    "%%time\n",
    "responses = requests.get(\"https://api9-2rnijzpfva-uc.a.run.app/summary_reviews?text=%22I%20want%20a%20burger%22&n_best=10&n_prox=3000&min_review=0\").json()"
   ]
  },
  {
   "cell_type": "code",
   "execution_count": 10,
   "id": "2dd1bb06",
   "metadata": {},
   "outputs": [
    {
     "name": "stdout",
     "output_type": "stream",
     "text": [
      "CPU times: user 32.2 ms, sys: 7 ms, total: 39.2 ms\n",
      "Wall time: 6.5 s\n"
     ]
    }
   ],
   "source": [
    "\n",
    "%%time\n",
    "responses = requests.get(\"https://api8-2rnijzpfva-ew.a.run.app/summary_reviews?text=%22I%20want%20a%20burger%22&n_best=10&n_prox=3000&min_review=0\").json()"
   ]
  },
  {
   "cell_type": "code",
   "execution_count": 12,
   "id": "6f12e77a",
   "metadata": {},
   "outputs": [
    {
     "name": "stdout",
     "output_type": "stream",
     "text": [
      "CPU times: user 28.9 ms, sys: 7.36 ms, total: 36.2 ms\n",
      "Wall time: 4.65 s\n"
     ]
    }
   ],
   "source": [
    "%%time\n",
    "responses = requests.get(\"https://api9-2rnijzpfva-ew.a.run.app/summary_reviews?text=%22I%20want%20a%20burger%22&n_best=10&n_prox=3000&min_review=0\").json()"
   ]
  },
  {
   "cell_type": "code",
   "execution_count": 13,
   "id": "64eb62a6",
   "metadata": {},
   "outputs": [
    {
     "name": "stdout",
     "output_type": "stream",
     "text": [
      "CPU times: user 55 ms, sys: 31.5 ms, total: 86.5 ms\n",
      "Wall time: 1min 9s\n"
     ]
    }
   ],
   "source": [
    "%%time\n",
    "responses = requests.get(\"https://api9-2rnijzpfva-ew.a.run.app/summary_reviews2?text=%22I%20want%20a%20burger%22&n_best=10&n_prox=3000&min_review=0\").json()"
   ]
  },
  {
   "cell_type": "code",
   "execution_count": null,
   "id": "e86191a8",
   "metadata": {},
   "outputs": [],
   "source": [
    "\n",
    "%%time\n",
    "responses = requests.get(\"https://api8-2rnijzpfva-ew.a.run.app/summary_reviews?text=%22I%20want%20a%20burger%22&n_best=10&n_prox=3000&min_review=0\").json()"
   ]
  }
 ],
 "metadata": {
  "kernelspec": {
   "display_name": "Python 3 (ipykernel)",
   "language": "python",
   "name": "python3"
  },
  "language_info": {
   "codemirror_mode": {
    "name": "ipython",
    "version": 3
   },
   "file_extension": ".py",
   "mimetype": "text/x-python",
   "name": "python",
   "nbconvert_exporter": "python",
   "pygments_lexer": "ipython3",
   "version": "3.8.12"
  },
  "toc": {
   "base_numbering": 1,
   "nav_menu": {},
   "number_sections": true,
   "sideBar": true,
   "skip_h1_title": false,
   "title_cell": "Table of Contents",
   "title_sidebar": "Contents",
   "toc_cell": false,
   "toc_position": {},
   "toc_section_display": true,
   "toc_window_display": false
  }
 },
 "nbformat": 4,
 "nbformat_minor": 5
}
