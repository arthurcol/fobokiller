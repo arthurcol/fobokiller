{
 "cells": [
  {
   "cell_type": "code",
   "execution_count": 17,
   "id": "2cae7d12",
   "metadata": {},
   "outputs": [
    {
     "name": "stdout",
     "output_type": "stream",
     "text": [
      "Collecting textblob\n",
      "  Downloading textblob-0.17.1-py2.py3-none-any.whl (636 kB)\n",
      "     |████████████████████████████████| 636 kB 2.3 MB/s            \n",
      "\u001b[?25hRequirement already satisfied: nltk>=3.1 in /Users/manoharan/.pyenv/versions/3.8.12/envs/FOBO/lib/python3.8/site-packages (from textblob) (3.6.5)\n",
      "Requirement already satisfied: tqdm in /Users/manoharan/.pyenv/versions/3.8.12/envs/FOBO/lib/python3.8/site-packages (from nltk>=3.1->textblob) (4.62.3)\n",
      "Requirement already satisfied: joblib in /Users/manoharan/.pyenv/versions/3.8.12/envs/FOBO/lib/python3.8/site-packages (from nltk>=3.1->textblob) (1.1.0)\n",
      "Requirement already satisfied: click in /Users/manoharan/.pyenv/versions/3.8.12/envs/FOBO/lib/python3.8/site-packages (from nltk>=3.1->textblob) (8.0.3)\n",
      "Requirement already satisfied: regex>=2021.8.3 in /Users/manoharan/.pyenv/versions/3.8.12/envs/FOBO/lib/python3.8/site-packages (from nltk>=3.1->textblob) (2021.11.10)\n",
      "Installing collected packages: textblob\n",
      "Successfully installed textblob-0.17.1\n",
      "Note: you may need to restart the kernel to use updated packages.\n"
     ]
    }
   ],
   "source": []
  },
  {
   "cell_type": "code",
   "execution_count": 73,
   "id": "640b2640",
   "metadata": {},
   "outputs": [],
   "source": [
    "import pandas as pd\n",
    "from textblob import TextBlob"
   ]
  },
  {
   "cell_type": "code",
   "execution_count": 91,
   "id": "244a0fe6",
   "metadata": {},
   "outputs": [],
   "source": [
    "data = pd.read_csv(\"../fobokiller/data/scrapping_cleaned_top2vec.csv\")"
   ]
  },
  {
   "cell_type": "code",
   "execution_count": 125,
   "id": "f5de1b5f",
   "metadata": {},
   "outputs": [],
   "source": [
    "data[\"review_clean\"] = [str(i) for i in data[\"review_clean\"]]"
   ]
  },
  {
   "cell_type": "code",
   "execution_count": 127,
   "id": "fab745cd",
   "metadata": {},
   "outputs": [],
   "source": [
    "A = [TextBlob(i) for i in data[\"review_clean\"]]"
   ]
  },
  {
   "cell_type": "code",
   "execution_count": 128,
   "id": "dcfabc89",
   "metadata": {},
   "outputs": [],
   "source": [
    "A = [TextBlob(i).raw_sentences for i in data[\"review_clean\"]]"
   ]
  },
  {
   "cell_type": "code",
   "execution_count": 133,
   "id": "284c98bb",
   "metadata": {},
   "outputs": [],
   "source": [
    "data[\"sentences\"] = A"
   ]
  },
  {
   "cell_type": "code",
   "execution_count": 134,
   "id": "b85781c7",
   "metadata": {},
   "outputs": [],
   "source": [
    "final = data.explode(column= \"sentences\")"
   ]
  },
  {
   "cell_type": "code",
   "execution_count": 136,
   "id": "bbb86ca2",
   "metadata": {},
   "outputs": [],
   "source": [
    "final.to_csv(\"raw_sentences_clean.csv\")"
   ]
  },
  {
   "cell_type": "code",
   "execution_count": 137,
   "id": "4b3cc859",
   "metadata": {},
   "outputs": [
    {
     "name": "stdout",
     "output_type": "stream",
     "text": [
      "/Users/manoharan/code/fobokiller/fobokiller\r\n"
     ]
    }
   ],
   "source": [
    "!pwd"
   ]
  },
  {
   "cell_type": "code",
   "execution_count": 139,
   "id": "63e8808c",
   "metadata": {},
   "outputs": [
    {
     "data": {
      "text/html": [
       "<div>\n",
       "<style scoped>\n",
       "    .dataframe tbody tr th:only-of-type {\n",
       "        vertical-align: middle;\n",
       "    }\n",
       "\n",
       "    .dataframe tbody tr th {\n",
       "        vertical-align: top;\n",
       "    }\n",
       "\n",
       "    .dataframe thead th {\n",
       "        text-align: right;\n",
       "    }\n",
       "</style>\n",
       "<table border=\"1\" class=\"dataframe\">\n",
       "  <thead>\n",
       "    <tr style=\"text-align: right;\">\n",
       "      <th></th>\n",
       "      <th>Unnamed: 0</th>\n",
       "      <th>alias</th>\n",
       "      <th>date</th>\n",
       "      <th>rate</th>\n",
       "      <th>review</th>\n",
       "      <th>review_clean</th>\n",
       "      <th>sentence</th>\n",
       "      <th>sentences</th>\n",
       "    </tr>\n",
       "  </thead>\n",
       "  <tbody>\n",
       "    <tr>\n",
       "      <th>0</th>\n",
       "      <td>0</td>\n",
       "      <td>le-sud-paris</td>\n",
       "      <td>2018-11-20</td>\n",
       "      <td>5</td>\n",
       "      <td>Ed W.\\nElite 2021\\nMiami, FL\\n259\\n562\\n4232\\n...</td>\n",
       "      <td>this is not your traditional parisian cooking ...</td>\n",
       "      <td>1</td>\n",
       "      <td>this is not your traditional parisian cooking ...</td>\n",
       "    </tr>\n",
       "    <tr>\n",
       "      <th>0</th>\n",
       "      <td>0</td>\n",
       "      <td>le-sud-paris</td>\n",
       "      <td>2018-11-20</td>\n",
       "      <td>5</td>\n",
       "      <td>Ed W.\\nElite 2021\\nMiami, FL\\n259\\n562\\n4232\\n...</td>\n",
       "      <td>this is not your traditional parisian cooking ...</td>\n",
       "      <td>1</td>\n",
       "      <td>we were looking for a good boulliabese .... an...</td>\n",
       "    </tr>\n",
       "    <tr>\n",
       "      <th>0</th>\n",
       "      <td>0</td>\n",
       "      <td>le-sud-paris</td>\n",
       "      <td>2018-11-20</td>\n",
       "      <td>5</td>\n",
       "      <td>Ed W.\\nElite 2021\\nMiami, FL\\n259\\n562\\n4232\\n...</td>\n",
       "      <td>this is not your traditional parisian cooking ...</td>\n",
       "      <td>1</td>\n",
       "      <td>is almost the same but thickened with egg yolks.</td>\n",
       "    </tr>\n",
       "    <tr>\n",
       "      <th>0</th>\n",
       "      <td>0</td>\n",
       "      <td>le-sud-paris</td>\n",
       "      <td>2018-11-20</td>\n",
       "      <td>5</td>\n",
       "      <td>Ed W.\\nElite 2021\\nMiami, FL\\n259\\n562\\n4232\\n...</td>\n",
       "      <td>this is not your traditional parisian cooking ...</td>\n",
       "      <td>1</td>\n",
       "      <td>this is a most have.</td>\n",
       "    </tr>\n",
       "    <tr>\n",
       "      <th>0</th>\n",
       "      <td>0</td>\n",
       "      <td>le-sud-paris</td>\n",
       "      <td>2018-11-20</td>\n",
       "      <td>5</td>\n",
       "      <td>Ed W.\\nElite 2021\\nMiami, FL\\n259\\n562\\n4232\\n...</td>\n",
       "      <td>this is not your traditional parisian cooking ...</td>\n",
       "      <td>1</td>\n",
       "      <td>it was delicious!</td>\n",
       "    </tr>\n",
       "    <tr>\n",
       "      <th>...</th>\n",
       "      <td>...</td>\n",
       "      <td>...</td>\n",
       "      <td>...</td>\n",
       "      <td>...</td>\n",
       "      <td>...</td>\n",
       "      <td>...</td>\n",
       "      <td>...</td>\n",
       "      <td>...</td>\n",
       "    </tr>\n",
       "    <tr>\n",
       "      <th>56742</th>\n",
       "      <td>56742</td>\n",
       "      <td>chez-julien-paris-2</td>\n",
       "      <td>2015-05-29</td>\n",
       "      <td>4</td>\n",
       "      <td>Samantha H.\\nElite 2021\\nChicago, IL\\n273\\n605...</td>\n",
       "      <td>we didn't eat here so this review is for the b...</td>\n",
       "      <td>1</td>\n",
       "      <td>but i'll be back next time i'm there!</td>\n",
       "    </tr>\n",
       "    <tr>\n",
       "      <th>56743</th>\n",
       "      <td>56743</td>\n",
       "      <td>chez-julien-paris-2</td>\n",
       "      <td>2016-05-10</td>\n",
       "      <td>4</td>\n",
       "      <td>Chris R.\\nUphall, United Kingdom\\n3\\n13\\n20\\n5...</td>\n",
       "      <td>nice little hole-in-the-wall kinda place. i at...</td>\n",
       "      <td>1</td>\n",
       "      <td>nice little hole-in-the-wall kinda place.</td>\n",
       "    </tr>\n",
       "    <tr>\n",
       "      <th>56743</th>\n",
       "      <td>56743</td>\n",
       "      <td>chez-julien-paris-2</td>\n",
       "      <td>2016-05-10</td>\n",
       "      <td>4</td>\n",
       "      <td>Chris R.\\nUphall, United Kingdom\\n3\\n13\\n20\\n5...</td>\n",
       "      <td>nice little hole-in-the-wall kinda place. i at...</td>\n",
       "      <td>1</td>\n",
       "      <td>i ate the very well priced dish of the day; co...</td>\n",
       "    </tr>\n",
       "    <tr>\n",
       "      <th>56743</th>\n",
       "      <td>56743</td>\n",
       "      <td>chez-julien-paris-2</td>\n",
       "      <td>2016-05-10</td>\n",
       "      <td>4</td>\n",
       "      <td>Chris R.\\nUphall, United Kingdom\\n3\\n13\\n20\\n5...</td>\n",
       "      <td>nice little hole-in-the-wall kinda place. i at...</td>\n",
       "      <td>1</td>\n",
       "      <td>it was delicious accompanied with a happy hour...</td>\n",
       "    </tr>\n",
       "    <tr>\n",
       "      <th>56743</th>\n",
       "      <td>56743</td>\n",
       "      <td>chez-julien-paris-2</td>\n",
       "      <td>2016-05-10</td>\n",
       "      <td>4</td>\n",
       "      <td>Chris R.\\nUphall, United Kingdom\\n3\\n13\\n20\\n5...</td>\n",
       "      <td>nice little hole-in-the-wall kinda place. i at...</td>\n",
       "      <td>1</td>\n",
       "      <td>very french, would recommend.</td>\n",
       "    </tr>\n",
       "  </tbody>\n",
       "</table>\n",
       "<p>438055 rows × 8 columns</p>\n",
       "</div>"
      ],
      "text/plain": [
       "       Unnamed: 0                alias        date  rate  \\\n",
       "0               0         le-sud-paris  2018-11-20     5   \n",
       "0               0         le-sud-paris  2018-11-20     5   \n",
       "0               0         le-sud-paris  2018-11-20     5   \n",
       "0               0         le-sud-paris  2018-11-20     5   \n",
       "0               0         le-sud-paris  2018-11-20     5   \n",
       "...           ...                  ...         ...   ...   \n",
       "56742       56742  chez-julien-paris-2  2015-05-29     4   \n",
       "56743       56743  chez-julien-paris-2  2016-05-10     4   \n",
       "56743       56743  chez-julien-paris-2  2016-05-10     4   \n",
       "56743       56743  chez-julien-paris-2  2016-05-10     4   \n",
       "56743       56743  chez-julien-paris-2  2016-05-10     4   \n",
       "\n",
       "                                                  review  \\\n",
       "0      Ed W.\\nElite 2021\\nMiami, FL\\n259\\n562\\n4232\\n...   \n",
       "0      Ed W.\\nElite 2021\\nMiami, FL\\n259\\n562\\n4232\\n...   \n",
       "0      Ed W.\\nElite 2021\\nMiami, FL\\n259\\n562\\n4232\\n...   \n",
       "0      Ed W.\\nElite 2021\\nMiami, FL\\n259\\n562\\n4232\\n...   \n",
       "0      Ed W.\\nElite 2021\\nMiami, FL\\n259\\n562\\n4232\\n...   \n",
       "...                                                  ...   \n",
       "56742  Samantha H.\\nElite 2021\\nChicago, IL\\n273\\n605...   \n",
       "56743  Chris R.\\nUphall, United Kingdom\\n3\\n13\\n20\\n5...   \n",
       "56743  Chris R.\\nUphall, United Kingdom\\n3\\n13\\n20\\n5...   \n",
       "56743  Chris R.\\nUphall, United Kingdom\\n3\\n13\\n20\\n5...   \n",
       "56743  Chris R.\\nUphall, United Kingdom\\n3\\n13\\n20\\n5...   \n",
       "\n",
       "                                            review_clean  sentence  \\\n",
       "0      this is not your traditional parisian cooking ...         1   \n",
       "0      this is not your traditional parisian cooking ...         1   \n",
       "0      this is not your traditional parisian cooking ...         1   \n",
       "0      this is not your traditional parisian cooking ...         1   \n",
       "0      this is not your traditional parisian cooking ...         1   \n",
       "...                                                  ...       ...   \n",
       "56742  we didn't eat here so this review is for the b...         1   \n",
       "56743  nice little hole-in-the-wall kinda place. i at...         1   \n",
       "56743  nice little hole-in-the-wall kinda place. i at...         1   \n",
       "56743  nice little hole-in-the-wall kinda place. i at...         1   \n",
       "56743  nice little hole-in-the-wall kinda place. i at...         1   \n",
       "\n",
       "                                               sentences  \n",
       "0      this is not your traditional parisian cooking ...  \n",
       "0      we were looking for a good boulliabese .... an...  \n",
       "0       is almost the same but thickened with egg yolks.  \n",
       "0                                   this is a most have.  \n",
       "0                                      it was delicious!  \n",
       "...                                                  ...  \n",
       "56742              but i'll be back next time i'm there!  \n",
       "56743          nice little hole-in-the-wall kinda place.  \n",
       "56743  i ate the very well priced dish of the day; co...  \n",
       "56743  it was delicious accompanied with a happy hour...  \n",
       "56743                      very french, would recommend.  \n",
       "\n",
       "[438055 rows x 8 columns]"
      ]
     },
     "execution_count": 139,
     "metadata": {},
     "output_type": "execute_result"
    }
   ],
   "source": [
    "final"
   ]
  },
  {
   "cell_type": "code",
   "execution_count": 77,
   "id": "826eccf4",
   "metadata": {},
   "outputs": [
    {
     "ename": "KeyError",
     "evalue": "'sentences'",
     "output_type": "error",
     "traceback": [
      "\u001b[0;31m---------------------------------------------------------------------------\u001b[0m",
      "\u001b[0;31mKeyError\u001b[0m                                  Traceback (most recent call last)",
      "\u001b[0;32m~/.pyenv/versions/3.8.12/envs/FOBO/lib/python3.8/site-packages/pandas/core/indexes/base.py\u001b[0m in \u001b[0;36mget_loc\u001b[0;34m(self, key, method, tolerance)\u001b[0m\n\u001b[1;32m   3360\u001b[0m             \u001b[0;32mtry\u001b[0m\u001b[0;34m:\u001b[0m\u001b[0;34m\u001b[0m\u001b[0;34m\u001b[0m\u001b[0m\n\u001b[0;32m-> 3361\u001b[0;31m                 \u001b[0;32mreturn\u001b[0m \u001b[0mself\u001b[0m\u001b[0;34m.\u001b[0m\u001b[0m_engine\u001b[0m\u001b[0;34m.\u001b[0m\u001b[0mget_loc\u001b[0m\u001b[0;34m(\u001b[0m\u001b[0mcasted_key\u001b[0m\u001b[0;34m)\u001b[0m\u001b[0;34m\u001b[0m\u001b[0;34m\u001b[0m\u001b[0m\n\u001b[0m\u001b[1;32m   3362\u001b[0m             \u001b[0;32mexcept\u001b[0m \u001b[0mKeyError\u001b[0m \u001b[0;32mas\u001b[0m \u001b[0merr\u001b[0m\u001b[0;34m:\u001b[0m\u001b[0;34m\u001b[0m\u001b[0;34m\u001b[0m\u001b[0m\n",
      "\u001b[0;32m~/.pyenv/versions/3.8.12/envs/FOBO/lib/python3.8/site-packages/pandas/_libs/index.pyx\u001b[0m in \u001b[0;36mpandas._libs.index.IndexEngine.get_loc\u001b[0;34m()\u001b[0m\n",
      "\u001b[0;32m~/.pyenv/versions/3.8.12/envs/FOBO/lib/python3.8/site-packages/pandas/_libs/index.pyx\u001b[0m in \u001b[0;36mpandas._libs.index.IndexEngine.get_loc\u001b[0;34m()\u001b[0m\n",
      "\u001b[0;32mpandas/_libs/hashtable_class_helper.pxi\u001b[0m in \u001b[0;36mpandas._libs.hashtable.PyObjectHashTable.get_item\u001b[0;34m()\u001b[0m\n",
      "\u001b[0;32mpandas/_libs/hashtable_class_helper.pxi\u001b[0m in \u001b[0;36mpandas._libs.hashtable.PyObjectHashTable.get_item\u001b[0;34m()\u001b[0m\n",
      "\u001b[0;31mKeyError\u001b[0m: 'sentences'",
      "\nThe above exception was the direct cause of the following exception:\n",
      "\u001b[0;31mKeyError\u001b[0m                                  Traceback (most recent call last)",
      "\u001b[0;32m/var/folders/s6/nxj_k6112bj7cnd89_8b9l0c0000gn/T/ipykernel_47715/3194209674.py\u001b[0m in \u001b[0;36m<module>\u001b[0;34m\u001b[0m\n\u001b[0;32m----> 1\u001b[0;31m \u001b[0mfinal\u001b[0m \u001b[0;34m=\u001b[0m \u001b[0mdata\u001b[0m\u001b[0;34m.\u001b[0m\u001b[0mexplode\u001b[0m\u001b[0;34m(\u001b[0m\u001b[0mcolumn\u001b[0m\u001b[0;34m=\u001b[0m \u001b[0;34m\"sentences\"\u001b[0m\u001b[0;34m)\u001b[0m\u001b[0;34m\u001b[0m\u001b[0;34m\u001b[0m\u001b[0m\n\u001b[0m",
      "\u001b[0;32m~/.pyenv/versions/3.8.12/envs/FOBO/lib/python3.8/site-packages/pandas/core/frame.py\u001b[0m in \u001b[0;36mexplode\u001b[0;34m(self, column, ignore_index)\u001b[0m\n\u001b[1;32m   8246\u001b[0m         \u001b[0mdf\u001b[0m \u001b[0;34m=\u001b[0m \u001b[0mself\u001b[0m\u001b[0;34m.\u001b[0m\u001b[0mreset_index\u001b[0m\u001b[0;34m(\u001b[0m\u001b[0mdrop\u001b[0m\u001b[0;34m=\u001b[0m\u001b[0;32mTrue\u001b[0m\u001b[0;34m)\u001b[0m\u001b[0;34m\u001b[0m\u001b[0;34m\u001b[0m\u001b[0m\n\u001b[1;32m   8247\u001b[0m         \u001b[0;32mif\u001b[0m \u001b[0mlen\u001b[0m\u001b[0;34m(\u001b[0m\u001b[0mcolumns\u001b[0m\u001b[0;34m)\u001b[0m \u001b[0;34m==\u001b[0m \u001b[0;36m1\u001b[0m\u001b[0;34m:\u001b[0m\u001b[0;34m\u001b[0m\u001b[0;34m\u001b[0m\u001b[0m\n\u001b[0;32m-> 8248\u001b[0;31m             \u001b[0mresult\u001b[0m \u001b[0;34m=\u001b[0m \u001b[0mdf\u001b[0m\u001b[0;34m[\u001b[0m\u001b[0mcolumns\u001b[0m\u001b[0;34m[\u001b[0m\u001b[0;36m0\u001b[0m\u001b[0;34m]\u001b[0m\u001b[0;34m]\u001b[0m\u001b[0;34m.\u001b[0m\u001b[0mexplode\u001b[0m\u001b[0;34m(\u001b[0m\u001b[0;34m)\u001b[0m\u001b[0;34m\u001b[0m\u001b[0;34m\u001b[0m\u001b[0m\n\u001b[0m\u001b[1;32m   8249\u001b[0m         \u001b[0;32melse\u001b[0m\u001b[0;34m:\u001b[0m\u001b[0;34m\u001b[0m\u001b[0;34m\u001b[0m\u001b[0m\n\u001b[1;32m   8250\u001b[0m             \u001b[0mmylen\u001b[0m \u001b[0;34m=\u001b[0m \u001b[0;32mlambda\u001b[0m \u001b[0mx\u001b[0m\u001b[0;34m:\u001b[0m \u001b[0mlen\u001b[0m\u001b[0;34m(\u001b[0m\u001b[0mx\u001b[0m\u001b[0;34m)\u001b[0m \u001b[0;32mif\u001b[0m \u001b[0mis_list_like\u001b[0m\u001b[0;34m(\u001b[0m\u001b[0mx\u001b[0m\u001b[0;34m)\u001b[0m \u001b[0;32melse\u001b[0m \u001b[0;34m-\u001b[0m\u001b[0;36m1\u001b[0m\u001b[0;34m\u001b[0m\u001b[0;34m\u001b[0m\u001b[0m\n",
      "\u001b[0;32m~/.pyenv/versions/3.8.12/envs/FOBO/lib/python3.8/site-packages/pandas/core/frame.py\u001b[0m in \u001b[0;36m__getitem__\u001b[0;34m(self, key)\u001b[0m\n\u001b[1;32m   3456\u001b[0m             \u001b[0;32mif\u001b[0m \u001b[0mself\u001b[0m\u001b[0;34m.\u001b[0m\u001b[0mcolumns\u001b[0m\u001b[0;34m.\u001b[0m\u001b[0mnlevels\u001b[0m \u001b[0;34m>\u001b[0m \u001b[0;36m1\u001b[0m\u001b[0;34m:\u001b[0m\u001b[0;34m\u001b[0m\u001b[0;34m\u001b[0m\u001b[0m\n\u001b[1;32m   3457\u001b[0m                 \u001b[0;32mreturn\u001b[0m \u001b[0mself\u001b[0m\u001b[0;34m.\u001b[0m\u001b[0m_getitem_multilevel\u001b[0m\u001b[0;34m(\u001b[0m\u001b[0mkey\u001b[0m\u001b[0;34m)\u001b[0m\u001b[0;34m\u001b[0m\u001b[0;34m\u001b[0m\u001b[0m\n\u001b[0;32m-> 3458\u001b[0;31m             \u001b[0mindexer\u001b[0m \u001b[0;34m=\u001b[0m \u001b[0mself\u001b[0m\u001b[0;34m.\u001b[0m\u001b[0mcolumns\u001b[0m\u001b[0;34m.\u001b[0m\u001b[0mget_loc\u001b[0m\u001b[0;34m(\u001b[0m\u001b[0mkey\u001b[0m\u001b[0;34m)\u001b[0m\u001b[0;34m\u001b[0m\u001b[0;34m\u001b[0m\u001b[0m\n\u001b[0m\u001b[1;32m   3459\u001b[0m             \u001b[0;32mif\u001b[0m \u001b[0mis_integer\u001b[0m\u001b[0;34m(\u001b[0m\u001b[0mindexer\u001b[0m\u001b[0;34m)\u001b[0m\u001b[0;34m:\u001b[0m\u001b[0;34m\u001b[0m\u001b[0;34m\u001b[0m\u001b[0m\n\u001b[1;32m   3460\u001b[0m                 \u001b[0mindexer\u001b[0m \u001b[0;34m=\u001b[0m \u001b[0;34m[\u001b[0m\u001b[0mindexer\u001b[0m\u001b[0;34m]\u001b[0m\u001b[0;34m\u001b[0m\u001b[0;34m\u001b[0m\u001b[0m\n",
      "\u001b[0;32m~/.pyenv/versions/3.8.12/envs/FOBO/lib/python3.8/site-packages/pandas/core/indexes/base.py\u001b[0m in \u001b[0;36mget_loc\u001b[0;34m(self, key, method, tolerance)\u001b[0m\n\u001b[1;32m   3361\u001b[0m                 \u001b[0;32mreturn\u001b[0m \u001b[0mself\u001b[0m\u001b[0;34m.\u001b[0m\u001b[0m_engine\u001b[0m\u001b[0;34m.\u001b[0m\u001b[0mget_loc\u001b[0m\u001b[0;34m(\u001b[0m\u001b[0mcasted_key\u001b[0m\u001b[0;34m)\u001b[0m\u001b[0;34m\u001b[0m\u001b[0;34m\u001b[0m\u001b[0m\n\u001b[1;32m   3362\u001b[0m             \u001b[0;32mexcept\u001b[0m \u001b[0mKeyError\u001b[0m \u001b[0;32mas\u001b[0m \u001b[0merr\u001b[0m\u001b[0;34m:\u001b[0m\u001b[0;34m\u001b[0m\u001b[0;34m\u001b[0m\u001b[0m\n\u001b[0;32m-> 3363\u001b[0;31m                 \u001b[0;32mraise\u001b[0m \u001b[0mKeyError\u001b[0m\u001b[0;34m(\u001b[0m\u001b[0mkey\u001b[0m\u001b[0;34m)\u001b[0m \u001b[0;32mfrom\u001b[0m \u001b[0merr\u001b[0m\u001b[0;34m\u001b[0m\u001b[0;34m\u001b[0m\u001b[0m\n\u001b[0m\u001b[1;32m   3364\u001b[0m \u001b[0;34m\u001b[0m\u001b[0m\n\u001b[1;32m   3365\u001b[0m         \u001b[0;32mif\u001b[0m \u001b[0mis_scalar\u001b[0m\u001b[0;34m(\u001b[0m\u001b[0mkey\u001b[0m\u001b[0;34m)\u001b[0m \u001b[0;32mand\u001b[0m \u001b[0misna\u001b[0m\u001b[0;34m(\u001b[0m\u001b[0mkey\u001b[0m\u001b[0;34m)\u001b[0m \u001b[0;32mand\u001b[0m \u001b[0;32mnot\u001b[0m \u001b[0mself\u001b[0m\u001b[0;34m.\u001b[0m\u001b[0mhasnans\u001b[0m\u001b[0;34m:\u001b[0m\u001b[0;34m\u001b[0m\u001b[0;34m\u001b[0m\u001b[0m\n",
      "\u001b[0;31mKeyError\u001b[0m: 'sentences'"
     ]
    }
   ],
   "source": []
  },
  {
   "cell_type": "code",
   "execution_count": 42,
   "id": "8a718183",
   "metadata": {
    "scrolled": true
   },
   "outputs": [
    {
     "data": {
      "text/plain": [
       "0     (t, h, i, s,  , i, s,  , n, o, t,  , y, o, u, ...\n",
       "1     (i, ', m,  , n, o, t,  , s, u, r, e,  , w, h, ...\n",
       "2     (a, m, b, i, e, n, c, e,  , i, s,  , e, n, t, ...\n",
       "3     (a, m, b, i, e, n, c, e,  , h, e, r, e,  , i, ...\n",
       "4     (w, o, r, s, t,  , r, e, s, t, a, u, r, a, n, ...\n",
       "                            ...                        \n",
       "95    (f, i, n, a, l, l, y,  , f, o, o, d,  , t, o, ...\n",
       "96    (i, t,  , w, a, s,  , n, i, c, e,  , t, o,  , ...\n",
       "97    (v, e, r, y,  , c, o, z, y,  , c, a, f, e,  , ...\n",
       "98    (a, b, o, u, t,  , b, l, o, c, k, s,  , f, r, ...\n",
       "99    (n, i, c, e,  , l, o, c, a, l,  , b, i, s, t, ...\n",
       "Name: sentences, Length: 100, dtype: object"
      ]
     },
     "execution_count": 42,
     "metadata": {},
     "output_type": "execute_result"
    }
   ],
   "source": [
    "data[\"sentences\"]"
   ]
  },
  {
   "cell_type": "code",
   "execution_count": 11,
   "id": "39df6fb7",
   "metadata": {},
   "outputs": [],
   "source": [
    "punctuations = '\\.\\!\\?'\n"
   ]
  },
  {
   "cell_type": "code",
   "execution_count": 15,
   "id": "649de437",
   "metadata": {},
   "outputs": [
    {
     "ename": "ModuleNotFoundError",
     "evalue": "No module named 'textblob'",
     "output_type": "error",
     "traceback": [
      "\u001b[0;31m---------------------------------------------------------------------------\u001b[0m",
      "\u001b[0;31mModuleNotFoundError\u001b[0m                       Traceback (most recent call last)",
      "\u001b[0;32m/var/folders/s6/nxj_k6112bj7cnd89_8b9l0c0000gn/T/ipykernel_47715/583843842.py\u001b[0m in \u001b[0;36m<module>\u001b[0;34m\u001b[0m\n\u001b[0;32m----> 1\u001b[0;31m \u001b[0;32mfrom\u001b[0m \u001b[0mtextblob\u001b[0m \u001b[0;32mimport\u001b[0m \u001b[0mTextBlob\u001b[0m\u001b[0;34m\u001b[0m\u001b[0;34m\u001b[0m\u001b[0m\n\u001b[0m",
      "\u001b[0;31mModuleNotFoundError\u001b[0m: No module named 'textblob'"
     ]
    }
   ],
   "source": []
  },
  {
   "cell_type": "code",
   "execution_count": null,
   "id": "f5257155",
   "metadata": {},
   "outputs": [],
   "source": []
  },
  {
   "cell_type": "code",
   "execution_count": null,
   "id": "988c55ef",
   "metadata": {},
   "outputs": [],
   "source": [
    "(original_df.drop('text',axis=1)\n",
    "    .merge(original_df.text\n",
    "               .str.extractall(f'(?P<sentence>[^{punctuations}]+[{punctuations}])\\s?')\n",
    "               .reset_index('match'),aaa\n",
    "           left_index=True, right_index=True, how='left')\n",
    ")"
   ]
  }
 ],
 "metadata": {
  "kernelspec": {
   "display_name": "Python 3 (ipykernel)",
   "language": "python",
   "name": "python3"
  },
  "language_info": {
   "codemirror_mode": {
    "name": "ipython",
    "version": 3
   },
   "file_extension": ".py",
   "mimetype": "text/x-python",
   "name": "python",
   "nbconvert_exporter": "python",
   "pygments_lexer": "ipython3",
   "version": "3.8.12"
  },
  "toc": {
   "base_numbering": 1,
   "nav_menu": {},
   "number_sections": true,
   "sideBar": true,
   "skip_h1_title": false,
   "title_cell": "Table of Contents",
   "title_sidebar": "Contents",
   "toc_cell": false,
   "toc_position": {},
   "toc_section_display": true,
   "toc_window_display": false
  }
 },
 "nbformat": 4,
 "nbformat_minor": 5
}
