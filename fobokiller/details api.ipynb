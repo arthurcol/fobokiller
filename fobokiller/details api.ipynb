{
 "cells": [
  {
   "cell_type": "code",
   "execution_count": 5,
   "id": "7d98077e",
   "metadata": {},
   "outputs": [],
   "source": [
    "from fobokiller.heatmap import load_reviews_dataset, heatmap_sentences, \\\n",
    "load_model,apply_heatmap_html,apply_heatmap_polarity\n",
    "\n",
    "from fastapi import FastAPI, Query\n",
    "from fastapi.middleware.cors import CORSMiddleware\n",
    "import pandas as pd\n",
    "from typing import List\n",
    "\n",
    "from fobokiller.cosim import compute_sim_df, load_embedding, summary_reviews\n",
    "#words/sentences  preprocessing\n",
    "from tensorflow.keras.preprocessing.sequence import pad_sequences\n",
    "from tensorflow.keras import backend as K\n",
    "#modeling\n",
    "from tensorflow import GradientTape\n",
    "import tensorflow as tf#modeling\n",
    "from tensorflow.keras import models, layers"
   ]
  },
  {
   "cell_type": "code",
   "execution_count": 6,
   "id": "1c68951e",
   "metadata": {},
   "outputs": [],
   "source": [
    "resto_list = pd.read_csv(\"../api/final_resto_list.csv\", index_col=0)"
   ]
  },
  {
   "cell_type": "code",
   "execution_count": 7,
   "id": "388ba837",
   "metadata": {},
   "outputs": [],
   "source": [
    "\n",
    "\n",
    "\n",
    "\n",
    "embedding = load_embedding()\n",
    "\n",
    "reviews_dataset = load_reviews_dataset()\n",
    "\n",
    "model_heatmap = load_model()\n"
   ]
  },
  {
   "cell_type": "code",
   "execution_count": 8,
   "id": "ca3e0531",
   "metadata": {},
   "outputs": [],
   "source": [
    "\n",
    "\n",
    "app = FastAPI()\n",
    "\n",
    "\n",
    "app.add_middleware(\n",
    "    CORSMiddleware,\n",
    "    allow_origins=[\"*\"],  # Allows all origins\n",
    "    allow_credentials=True,\n",
    "    allow_methods=[\"*\"],  # Allows all methods\n",
    "    allow_headers=[\"*\"],  # Allows all headers\n",
    ")\n",
    "\n",
    "\n",
    "temp =[]\n",
    "result = []\n",
    "\n",
    "@app.get(\"/\")\n",
    "def index():\n",
    "    return {\"greeting\": \"Hello world\"}\n",
    "\n",
    "\n",
    "#Input list of restaurant (alias)\n",
    "# detail\n",
    "@app.get(\"/detail\")\n",
    "def get_details(alias):\n",
    "\n",
    "    alias = [alias]\n",
    "    pd_liste = resto_list.loc[resto_list['alias'].isin(alias), :]\n",
    "    return pd_liste.to_dict()\n",
    "\n",
    "\n",
    "\n",
    "@app.get(\"/details/\")\n",
    "def read_items(alias: List[str] = Query(None)):\n",
    "    print(alias)\n",
    "    pd_liste = resto_list.loc[resto_list['alias'].isin(alias), :]\n",
    "    print(pd_liste)\n",
    "\n",
    "    return pd_liste.to_dict()\n",
    "\n",
    "@app.get(\"/summary_reviews\")\n",
    "def sr(text, n_best=10, n_prox=3000, min_review=0):\n",
    "    min_review = int(min_review)\n",
    "    print(type(n_prox))\n",
    "    if pd.isna(n_prox):\n",
    "        pass\n",
    "    else:\n",
    "\n",
    "        n_prox = int(n_prox)\n",
    "    temp = compute_sim_df(text, embedding, n_prox, min_review)\n",
    "    n_best = int(n_best)\n",
    "    result = summary_reviews(temp, n_best)\n",
    "    return result.to_dict()\n",
    "\n",
    "\n",
    "\n",
    "@app.get(\"/summary_reviews2\")\n",
    "def sr2(text, n_best=1, n_prox=3000, min_review=10):\n",
    "\n",
    "    #setting types\n",
    "    min_review = int(min_review)\n",
    "    if pd.isna(n_prox):\n",
    "        pass\n",
    "    else:\n",
    "        n_prox = int(n_prox)\n",
    "    n_best = int(n_best)\n",
    "\n",
    "    #loading datasets\n",
    "    results = compute_sim_df(text, embedding, n_prox, min_review)\n",
    "    summary = summary_reviews(results, n_best)\n",
    "    results['is_sim'] = 1\n",
    "    summary['is_in_summary'] = 1\n",
    "    results_trimed = results.drop(\n",
    "        columns=['alias', 'rate', 'review_sentences'])\n",
    "\n",
    "    #merging datasets and house cleaning\n",
    "\n",
    "    tmp_df = reviews_dataset.merge(results_trimed,\n",
    "                                   on='review_clean',\n",
    "                                   how='left')\n",
    "    tmp_df['is_sim'].fillna(0, inplace=True)\n",
    "    all_df = tmp_df.merge(summary, on='alias', how='left')\n",
    "    all_df.fillna(0, inplace=True)\n",
    "    all_df = all_df[all_df[\"is_in_summary\"]==1]\n",
    "\n",
    "    #apply heatmap for html and polarity score\n",
    "    all_df['reviews_heatmaps_html'] = all_df.apply(apply_heatmap_html,axis=1)\n",
    "    all_df['reviews_heatmaps_polarity'] = all_df.apply(apply_heatmap_polarity, axis=1)\n",
    "    ####  metrics for the val of the request\n",
    "    all_df['request_metric'] = all_df[(all_df['is_in_summary'] == 1) & (\n",
    "        all_df['is_sim'] == 1)]['nb_sentences'].sum() *100 /3000\n",
    "    summary_reconstructed = all_df.groupby('alias').agg({\n",
    "        'review_clean':\n",
    "        list,\n",
    "        'nb_sentences':\n",
    "        'mean',\n",
    "        'nb_review':\n",
    "        'mean',\n",
    "        'metric sim_ratio':\n",
    "        'mean',\n",
    "        'reviews_heatmaps_html':\n",
    "        list,\n",
    "        'reviews_heatmaps_polarity':\n",
    "        list\n",
    "    })\n",
    "\n",
    "    #print(\"check\")\n",
    "    #print(type(summary_reconstructed))\n",
    "    #print(summary_reconstructed.columns)\n",
    "    #print(summary_reconstructed.shape)\n",
    "    output_json = summary_reconstructed.to_dict()\n",
    "    return output_json\n"
   ]
  },
  {
   "cell_type": "code",
   "execution_count": 18,
   "id": "a96941d0",
   "metadata": {},
   "outputs": [
    {
     "name": "stdout",
     "output_type": "stream",
     "text": [
      "CPU times: user 15 µs, sys: 1 µs, total: 16 µs\n",
      "Wall time: 21 µs\n"
     ]
    }
   ],
   "source": [
    "%%time\n",
    "text = \"I want a burger\"\n",
    "n_best=10\n",
    "n_prox=3000\n",
    "min_review=10\n",
    "\n",
    "\n",
    "min_review = int(min_review)\n",
    "if pd.isna(n_prox):\n",
    "    pass\n",
    "else:\n",
    "    n_prox = int(n_prox)\n",
    "n_best = int(n_best)"
   ]
  },
  {
   "cell_type": "code",
   "execution_count": 19,
   "id": "1a4264b5",
   "metadata": {},
   "outputs": [
    {
     "name": "stdout",
     "output_type": "stream",
     "text": [
      "CPU times: user 1.44 s, sys: 6.22 s, total: 7.66 s\n",
      "Wall time: 1min 13s\n"
     ]
    }
   ],
   "source": [
    "%%time\n",
    "#loading datasets\n",
    "results = compute_sim_df(text, embedding, n_prox, min_review)\n",
    "summary = summary_reviews(results, n_best)\n",
    "results['is_sim'] = 1\n",
    "summary['is_in_summary'] = 1\n",
    "results_trimed = results.drop(\n",
    "        columns=['alias', 'rate', 'review_sentences'])"
   ]
  },
  {
   "cell_type": "code",
   "execution_count": 20,
   "id": "396be462",
   "metadata": {},
   "outputs": [
    {
     "name": "stdout",
     "output_type": "stream",
     "text": [
      "CPU times: user 222 ms, sys: 187 ms, total: 409 ms\n",
      "Wall time: 697 ms\n"
     ]
    }
   ],
   "source": [
    "%%time\n",
    "#merging datasets and house cleaning\n",
    "\n",
    "tmp_df = reviews_dataset.merge(results_trimed,\n",
    "                                   on='review_clean',\n",
    "                                   how='left')\n",
    "tmp_df['is_sim'].fillna(0, inplace=True)\n",
    "all_df = tmp_df.merge(summary, on='alias', how='left')\n",
    "all_df.fillna(0, inplace=True)\n",
    "all_df = all_df[all_df[\"is_in_summary\"]==1]\n"
   ]
  },
  {
   "cell_type": "code",
   "execution_count": null,
   "id": "0c70a114",
   "metadata": {},
   "outputs": [],
   "source": [
    "%%time\n",
    "#apply heatmap for html and polarity score\n",
    "all_df['reviews_heatmaps_html'] = all_df.apply(apply_heatmap_html,axis=1)\n",
    "all_df['reviews_heatmaps_polarity'] = all_df.apply(apply_heatmap_polarity, axis=1)\n"
   ]
  },
  {
   "cell_type": "code",
   "execution_count": null,
   "id": "fb665049",
   "metadata": {},
   "outputs": [],
   "source": [
    "%%time\n",
    "####  metrics for the val of the request\n",
    "all_df['request_metric'] = all_df[(all_df['is_in_summary'] == 1) & (\n",
    "        all_df['is_sim'] == 1)]['nb_sentences'].sum() *100 /3000\n",
    "summary_reconstructed = all_df.groupby('alias').agg({\n",
    "        'review_clean':\n",
    "        list,\n",
    "        'nb_sentences':\n",
    "        'mean',\n",
    "        'nb_review':\n",
    "        'mean',\n",
    "        'metric sim_ratio':\n",
    "        'mean',\n",
    "        'reviews_heatmaps_html':\n",
    "        list,\n",
    "        'reviews_heatmaps_polarity':\n",
    "        list\n",
    "    })\n"
   ]
  },
  {
   "cell_type": "code",
   "execution_count": null,
   "id": "658450c8",
   "metadata": {},
   "outputs": [],
   "source": [
    "%%time\n",
    "    #print(\"check\")\n",
    "    #print(type(summary_reconstructed))\n",
    "    #print(summary_reconstructed.columns)\n",
    "    #print(summary_reconstructed.shape)\n",
    "output_json = summary_reconstructed.to_dict()\n",
    " \n"
   ]
  },
  {
   "cell_type": "code",
   "execution_count": null,
   "id": "37528cae",
   "metadata": {},
   "outputs": [],
   "source": [
    "output_json"
   ]
  },
  {
   "cell_type": "code",
   "execution_count": null,
   "id": "3dcd3196",
   "metadata": {},
   "outputs": [],
   "source": []
  },
  {
   "cell_type": "code",
   "execution_count": null,
   "id": "ccf76295",
   "metadata": {},
   "outputs": [],
   "source": []
  }
 ],
 "metadata": {
  "kernelspec": {
   "display_name": "Python 3 (ipykernel)",
   "language": "python",
   "name": "python3"
  },
  "language_info": {
   "codemirror_mode": {
    "name": "ipython",
    "version": 3
   },
   "file_extension": ".py",
   "mimetype": "text/x-python",
   "name": "python",
   "nbconvert_exporter": "python",
   "pygments_lexer": "ipython3",
   "version": "3.8.12"
  },
  "toc": {
   "base_numbering": 1,
   "nav_menu": {},
   "number_sections": true,
   "sideBar": true,
   "skip_h1_title": false,
   "title_cell": "Table of Contents",
   "title_sidebar": "Contents",
   "toc_cell": false,
   "toc_position": {},
   "toc_section_display": true,
   "toc_window_display": false
  }
 },
 "nbformat": 4,
 "nbformat_minor": 5
}
