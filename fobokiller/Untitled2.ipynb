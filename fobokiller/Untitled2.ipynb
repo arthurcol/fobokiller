{
 "cells": [
  {
   "cell_type": "code",
   "execution_count": 1,
   "id": "1be82f32",
   "metadata": {},
   "outputs": [],
   "source": [
    "import requests"
   ]
  },
  {
   "cell_type": "code",
   "execution_count": 2,
   "id": "1c72bc8a",
   "metadata": {},
   "outputs": [
    {
     "name": "stdout",
     "output_type": "stream",
     "text": [
      "CPU times: user 44.5 ms, sys: 13.7 ms, total: 58.2 ms\n",
      "Wall time: 8.01 s\n",
      "CPU times: user 45.1 ms, sys: 13.9 ms, total: 59 ms\n",
      "Wall time: 8.01 s\n"
     ]
    }
   ],
   "source": [
    "%%time\n",
    "response = requests.get(\"https://api9-2rnijzpfva-ew.a.run.app/summary_reviews2?text=I%20want%20the%20best%20burger&n_best=5&n_prox=3000&min_review=3\").json()"
   ]
  },
  {
   "cell_type": "code",
   "execution_count": 5,
   "id": "f8711bf7",
   "metadata": {},
   "outputs": [
    {
     "name": "stdout",
     "output_type": "stream",
     "text": [
      "CPU times: user 33.2 ms, sys: 7 ms, total: 40.2 ms\n",
      "Wall time: 9.69 s\n"
     ]
    }
   ],
   "source": [
    "%%time\n",
    "response = requests.get(\"https://api9-2rnijzpfva-ew.a.run.app/summary_reviews2?text=i want the best burger&n_best=5&n_prox=3000&min_review=3\").json()"
   ]
  },
  {
   "cell_type": "code",
   "execution_count": 6,
   "id": "97f856aa",
   "metadata": {},
   "outputs": [
    {
     "name": "stdout",
     "output_type": "stream",
     "text": [
      "CPU times: user 42.8 ms, sys: 10.2 ms, total: 53 ms\n",
      "Wall time: 12.3 s\n"
     ]
    }
   ],
   "source": [
    "%%time\n",
    "response = requests.get(\"https://api9-2rnijzpfva-ew.a.run.app/summary_reviews2?text=I want a burger without meat&n_best=5&n_prox=3000&min_review=3\").json()"
   ]
  },
  {
   "cell_type": "code",
   "execution_count": 7,
   "id": "560dacd6",
   "metadata": {},
   "outputs": [
    {
     "name": "stdout",
     "output_type": "stream",
     "text": [
      "CPU times: user 38.2 ms, sys: 7.56 ms, total: 45.8 ms\n",
      "Wall time: 7.33 s\n"
     ]
    }
   ],
   "source": [
    "%%time\n",
    "response = requests.get(\"https://api9-2rnijzpfva-ew.a.run.app/summary_reviews2?text=I want the best seafood plate&n_best=5&n_prox=3000&min_review=3\").json()"
   ]
  },
  {
   "cell_type": "code",
   "execution_count": null,
   "id": "8ba6a246",
   "metadata": {},
   "outputs": [],
   "source": []
  }
 ],
 "metadata": {
  "kernelspec": {
   "display_name": "Python 3 (ipykernel)",
   "language": "python",
   "name": "python3"
  },
  "language_info": {
   "codemirror_mode": {
    "name": "ipython",
    "version": 3
   },
   "file_extension": ".py",
   "mimetype": "text/x-python",
   "name": "python",
   "nbconvert_exporter": "python",
   "pygments_lexer": "ipython3",
   "version": "3.8.12"
  },
  "toc": {
   "base_numbering": 1,
   "nav_menu": {},
   "number_sections": true,
   "sideBar": true,
   "skip_h1_title": false,
   "title_cell": "Table of Contents",
   "title_sidebar": "Contents",
   "toc_cell": false,
   "toc_position": {},
   "toc_section_display": true,
   "toc_window_display": false
  }
 },
 "nbformat": 4,
 "nbformat_minor": 5
}
