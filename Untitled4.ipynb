{
 "cells": [
  {
   "cell_type": "code",
   "execution_count": 22,
   "id": "84db16b7",
   "metadata": {},
   "outputs": [],
   "source": [
    "test = \"<span style='background-color:rgba(200,105.05108579993248,0,1)'>september ,  after leaving montmartre, we were famished </span><span style='background-color:rgba(200,235.752315223217,0,1)'> we decided to go with the first yelp restaurant that had the best reviews and was open for lunch </span><span style='background-color:rgba(200,194.3223175406456,0,1)'> we caught a short uber ride and arrived at the restaurant </span><span style='background-color:rgba(200,155.62571078538895,0,1)'> the waiter asked us if we preferred inside or out and we chose in </span><span style='background-color:rgba(200,191.39288753271103,0,1)'> he finished up with the party before us and then sat us inside </span><span style='background-color:rgba(200,155.9211677312851,0,1)'> as we were led to our tables, we were greeted by who would turn out to be the manager </span><span style='background-color:rgba(200,168.27894061803818,0,1)'> on the wall behind us were the drinks of the day written out </span><span style='background-color:rgba(200,194.8563864827156,0,1)'> i ordered the margarita and it was gooooood </span><span style='background-color:rgba(200,177.2262141108513,0,1)'> it also had me buzzed </span><span style='background-color:rgba(200,112.19571322202682,0,1)'> thank goodness for the complimentary water </span><span style='background-color:rgba(200,133.85958194732666,0,1)'> my friend ordered the cider beer </span><span style='background-color:rgba(200,186.9264703989029,0,1)'> i cannot recall the name </span><span style='background-color:rgba(200,201.6165429353714,0,1)'> let's talk burgers </span><span style='background-color:rgba(200,176.39225006103516,0,1)'> now i had zero intentions of eating burgers in paris because i love french cuisine and in my mind burgers were not part of the equation </span><span style='background-color:rgba(200,150.3281870484352,0,1)'> however, the french people know how to put together a tasty burger amongst other things </span><span style='background-color:rgba(200,96.88510358333588,0,1)'> we both ordered the cheddar burger and fries </span><span style='background-color:rgba(200,146.21050000190735,0,1)'> the ingredients were fresh </span><span style='background-color:rgba(200,163.42588663101196,0,1)'> the cheese was so good </span><span style='background-color:rgba(200,177.9033225774765,0,1)'> the fries with the dipping sauce also good </span><span style='background-color:rgba(200,166.78160816431046,0,1)'> we savored each bite and agreed it was so delicious </span><span style='background-color:rgba(200,193.76576900482178,0,1)'> we started to fill the effects of itis and decided that once we departed we would walk to the metro line instead of grabbing an uber </span><span style='background-color:rgba(200,107.66494274139404,0,1)'> we needed some physical activity post meal </span><span style='background-color:rgba(200,205.21362751722336,0,1)'> for the dog lovers, you are welcome to dine with your dog inside </span><span style='background-color:rgba(200,170.81623166799545,0,1)'> to the left of me a family sat down with their adorable doggie and he just chilled next to my foot </span><span style='background-color:rgba(200,211.25244587659836,0,1)'> also, for those who have rusty french language skills such as myself, do not worry if you get a french only speaking waiter as the manager speaks english </span><span style='background-color:rgba(200,190.06128698587418,0,1)'> lastly, i was loving all of the marvin gaye selections being played throughout the restaurant </span><span style='background-color:rgba(200,255.0,0,1)'> such a nice, chill restaurant </span><span style='background-color:rgba(200,197.37066596746445,0,1)'> great place to get together and connect with friends </span><span style='background-color:rgba(200,166.20330959558487,0,1)'> tip: the bathroom is downstairs and the stairs are across from the bar to your right if you are facing the entrance </span><span style='background-color:rgba(200,110.67609876394272,0,1)'> it is a single unisex bathroom </span>\""
   ]
  },
  {
   "cell_type": "code",
   "execution_count": 23,
   "id": "93c43343",
   "metadata": {},
   "outputs": [],
   "source": [
    "from IPython.display import HTML"
   ]
  },
  {
   "cell_type": "code",
   "execution_count": 24,
   "id": "b907ff4a",
   "metadata": {},
   "outputs": [
    {
     "data": {
      "text/html": [
       "<span style='background-color:rgba(200,105.05108579993248,0,1)'>september ,  after leaving montmartre, we were famished </span><span style='background-color:rgba(200,235.752315223217,0,1)'> we decided to go with the first yelp restaurant that had the best reviews and was open for lunch </span><span style='background-color:rgba(200,194.3223175406456,0,1)'> we caught a short uber ride and arrived at the restaurant </span><span style='background-color:rgba(200,155.62571078538895,0,1)'> the waiter asked us if we preferred inside or out and we chose in </span><span style='background-color:rgba(200,191.39288753271103,0,1)'> he finished up with the party before us and then sat us inside </span><span style='background-color:rgba(200,155.9211677312851,0,1)'> as we were led to our tables, we were greeted by who would turn out to be the manager </span><span style='background-color:rgba(200,168.27894061803818,0,1)'> on the wall behind us were the drinks of the day written out </span><span style='background-color:rgba(200,194.8563864827156,0,1)'> i ordered the margarita and it was gooooood </span><span style='background-color:rgba(200,177.2262141108513,0,1)'> it also had me buzzed </span><span style='background-color:rgba(200,112.19571322202682,0,1)'> thank goodness for the complimentary water </span><span style='background-color:rgba(200,133.85958194732666,0,1)'> my friend ordered the cider beer </span><span style='background-color:rgba(200,186.9264703989029,0,1)'> i cannot recall the name </span><span style='background-color:rgba(200,201.6165429353714,0,1)'> let's talk burgers </span><span style='background-color:rgba(200,176.39225006103516,0,1)'> now i had zero intentions of eating burgers in paris because i love french cuisine and in my mind burgers were not part of the equation </span><span style='background-color:rgba(200,150.3281870484352,0,1)'> however, the french people know how to put together a tasty burger amongst other things </span><span style='background-color:rgba(200,96.88510358333588,0,1)'> we both ordered the cheddar burger and fries </span><span style='background-color:rgba(200,146.21050000190735,0,1)'> the ingredients were fresh </span><span style='background-color:rgba(200,163.42588663101196,0,1)'> the cheese was so good </span><span style='background-color:rgba(200,177.9033225774765,0,1)'> the fries with the dipping sauce also good </span><span style='background-color:rgba(200,166.78160816431046,0,1)'> we savored each bite and agreed it was so delicious </span><span style='background-color:rgba(200,193.76576900482178,0,1)'> we started to fill the effects of itis and decided that once we departed we would walk to the metro line instead of grabbing an uber </span><span style='background-color:rgba(200,107.66494274139404,0,1)'> we needed some physical activity post meal </span><span style='background-color:rgba(200,205.21362751722336,0,1)'> for the dog lovers, you are welcome to dine with your dog inside </span><span style='background-color:rgba(200,170.81623166799545,0,1)'> to the left of me a family sat down with their adorable doggie and he just chilled next to my foot </span><span style='background-color:rgba(200,211.25244587659836,0,1)'> also, for those who have rusty french language skills such as myself, do not worry if you get a french only speaking waiter as the manager speaks english </span><span style='background-color:rgba(200,190.06128698587418,0,1)'> lastly, i was loving all of the marvin gaye selections being played throughout the restaurant </span><span style='background-color:rgba(200,255.0,0,1)'> such a nice, chill restaurant </span><span style='background-color:rgba(200,197.37066596746445,0,1)'> great place to get together and connect with friends </span><span style='background-color:rgba(200,166.20330959558487,0,1)'> tip: the bathroom is downstairs and the stairs are across from the bar to your right if you are facing the entrance </span><span style='background-color:rgba(200,110.67609876394272,0,1)'> it is a single unisex bathroom </span>"
      ],
      "text/plain": [
       "<IPython.core.display.HTML object>"
      ]
     },
     "execution_count": 24,
     "metadata": {},
     "output_type": "execute_result"
    }
   ],
   "source": [
    "HTML(test)"
   ]
  },
  {
   "cell_type": "code",
   "execution_count": 6,
   "id": "bdcab829",
   "metadata": {},
   "outputs": [],
   "source": [
    "test2 = \"<span style='background-color:rgba(200,62.68598109483719,0,1)'>really delicious a flavorful burgers, and friendly, american-style service </span><span style='background-color:rgba(200,0.0,0,1)'> the sweet potato fries were a little burnt, but i think this was our batch, rather than the norm </span><span style='background-color:rgba(200,25.009725987911224,0,1)'> i would enjoy coming here again </span>\""
   ]
  },
  {
   "cell_type": "code",
   "execution_count": 7,
   "id": "0311d6fc",
   "metadata": {},
   "outputs": [
    {
     "data": {
      "text/html": [
       "<span style='background-color:rgba(200,62.68598109483719,0,1)'>really delicious a flavorful burgers, and friendly, american-style service </span><span style='background-color:rgba(200,0.0,0,1)'> the sweet potato fries were a little burnt, but i think this was our batch, rather than the norm </span><span style='background-color:rgba(200,25.009725987911224,0,1)'> i would enjoy coming here again </span>"
      ],
      "text/plain": [
       "<IPython.core.display.HTML object>"
      ]
     },
     "execution_count": 7,
     "metadata": {},
     "output_type": "execute_result"
    }
   ],
   "source": [
    "HTML(test2)"
   ]
  },
  {
   "cell_type": "code",
   "execution_count": 9,
   "id": "7e467a35",
   "metadata": {},
   "outputs": [],
   "source": [
    "test = \"\"\" <span style='background-color:rgba(200,102.52795279026031,0,1)'>stopped into blend for a quick burger before we caught the train </span><span style='background-color:rgba(200,19.607890248298645,0,1)'> not that it was really on the way, but we had made up our minds we wanted to have a burger and sweet potato fries </span><span style='background-color:rgba(200,21.79977983236313,0,1)'> it was worth the trip </span><span style='background-color:rgba(200,55.760974287986755,0,1)'> we were able to sit down right away and mentioned to the waiter we were sort of in a hurry </span><span style='background-color:rgba(200,56.610380709171295,0,1)'> he was friendly and took our order right away </span><span style='background-color:rgba(200,52.88147360086441,0,1)'> the place was not too busy, but it was nice of him to accommodate us </span><span style='background-color:rgba(200,0.0,0,1)'> i had the \\\"cheesy\\\" and sweet potato fries </span><span style='background-color:rgba(200,82.32019633054733,0,1)'> the burger was tasty, but the bun was the star </span><span style='background-color:rgba(200,56.182812452316284,0,1)'> very fresh, soft and added to the overall flavor of the burger and toppings </span><span style='background-color:rgba(200,101.39860779047012,0,1)'> the sweet potato fries were great, but order extra garlic mayo </span><span style='background-color:rgba(200,114.91802394390106,0,1)'> if you're hankerin' for a burger in paris, it is definitely worth stopping in at a blend </span>\"\"\""
   ]
  },
  {
   "cell_type": "code",
   "execution_count": null,
   "id": "1f2eea23",
   "metadata": {},
   "outputs": [],
   "source": []
  }
 ],
 "metadata": {
  "kernelspec": {
   "display_name": "Python 3 (ipykernel)",
   "language": "python",
   "name": "python3"
  },
  "language_info": {
   "codemirror_mode": {
    "name": "ipython",
    "version": 3
   },
   "file_extension": ".py",
   "mimetype": "text/x-python",
   "name": "python",
   "nbconvert_exporter": "python",
   "pygments_lexer": "ipython3",
   "version": "3.8.12"
  },
  "toc": {
   "base_numbering": 1,
   "nav_menu": {},
   "number_sections": true,
   "sideBar": true,
   "skip_h1_title": false,
   "title_cell": "Table of Contents",
   "title_sidebar": "Contents",
   "toc_cell": false,
   "toc_position": {},
   "toc_section_display": true,
   "toc_window_display": false
  }
 },
 "nbformat": 4,
 "nbformat_minor": 5
}
