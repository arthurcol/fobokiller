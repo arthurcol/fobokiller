{
 "cells": [
  {
   "cell_type": "code",
   "execution_count": 1,
   "id": "886435b9",
   "metadata": {
    "scrolled": true
   },
   "outputs": [
    {
     "data": {
      "text/html": [
       "<div>\n",
       "<style scoped>\n",
       "    .dataframe tbody tr th:only-of-type {\n",
       "        vertical-align: middle;\n",
       "    }\n",
       "\n",
       "    .dataframe tbody tr th {\n",
       "        vertical-align: top;\n",
       "    }\n",
       "\n",
       "    .dataframe thead th {\n",
       "        text-align: right;\n",
       "    }\n",
       "</style>\n",
       "<table border=\"1\" class=\"dataframe\">\n",
       "  <thead>\n",
       "    <tr style=\"text-align: right;\">\n",
       "      <th></th>\n",
       "      <th>Unnamed: 0</th>\n",
       "      <th>Rating</th>\n",
       "      <th>Dates</th>\n",
       "      <th>Reviews</th>\n",
       "    </tr>\n",
       "  </thead>\n",
       "  <tbody>\n",
       "    <tr>\n",
       "      <th>0</th>\n",
       "      <td>0</td>\n",
       "      <td>4 star rating</td>\n",
       "      <td>11/3/2021</td>\n",
       "      <td>Emily B.\\nSan Francisco, CA\\n4\\n6\\n11/3/2021\\n...</td>\n",
       "    </tr>\n",
       "    <tr>\n",
       "      <th>1</th>\n",
       "      <td>1</td>\n",
       "      <td>3 star rating</td>\n",
       "      <td>10/22/2021</td>\n",
       "      <td>Elliott P.\\nGlen Arm, MD\\n78\\n53\\n10/22/2021\\n...</td>\n",
       "    </tr>\n",
       "    <tr>\n",
       "      <th>2</th>\n",
       "      <td>2</td>\n",
       "      <td>5 star rating</td>\n",
       "      <td>8/29/2021</td>\n",
       "      <td>Erick C.\\nLincoln, CA\\n0\\n4\\n9\\n8/29/2021\\n6 p...</td>\n",
       "    </tr>\n",
       "    <tr>\n",
       "      <th>3</th>\n",
       "      <td>3</td>\n",
       "      <td>5 star rating</td>\n",
       "      <td>9/20/2021</td>\n",
       "      <td>Greg M.\\nHuntington Beach, CA\\n0\\n8\\n9/20/2021...</td>\n",
       "    </tr>\n",
       "    <tr>\n",
       "      <th>4</th>\n",
       "      <td>4</td>\n",
       "      <td>4 star rating</td>\n",
       "      <td>11/30/2019</td>\n",
       "      <td>Bushra H.\\nElite 2021\\nEdison, NJ\\n285\\n429\\n9...</td>\n",
       "    </tr>\n",
       "  </tbody>\n",
       "</table>\n",
       "</div>"
      ],
      "text/plain": [
       "   Unnamed: 0         Rating       Dates  \\\n",
       "0           0  4 star rating   11/3/2021   \n",
       "1           1  3 star rating  10/22/2021   \n",
       "2           2  5 star rating   8/29/2021   \n",
       "3           3  5 star rating   9/20/2021   \n",
       "4           4  4 star rating  11/30/2019   \n",
       "\n",
       "                                             Reviews  \n",
       "0  Emily B.\\nSan Francisco, CA\\n4\\n6\\n11/3/2021\\n...  \n",
       "1  Elliott P.\\nGlen Arm, MD\\n78\\n53\\n10/22/2021\\n...  \n",
       "2  Erick C.\\nLincoln, CA\\n0\\n4\\n9\\n8/29/2021\\n6 p...  \n",
       "3  Greg M.\\nHuntington Beach, CA\\n0\\n8\\n9/20/2021...  \n",
       "4  Bushra H.\\nElite 2021\\nEdison, NJ\\n285\\n429\\n9...  "
      ]
     },
     "execution_count": 1,
     "metadata": {},
     "output_type": "execute_result"
    }
   ],
   "source": [
    "import pandas as pd\n",
    "import numpy as np\n",
    "import string\n",
    "from nltk.corpus import stopwords\n",
    "from nltk.tokenize import word_tokenize\n",
    "import seaborn as sns\n",
    "import matplotlib.pyplot as plt\n",
    "import pandas as pd\n",
    "import numpy as np\n",
    "from datetime import datetime\n",
    "data = pd.read_csv('review_yelp.csv')\n",
    "data.head()"
   ]
  },
  {
   "cell_type": "code",
   "execution_count": 2,
   "id": "d388f22b",
   "metadata": {},
   "outputs": [],
   "source": [
    "def clear_data_text(text, language):\n",
    "    #remove before the begin of the comment\n",
    "    for i in range(5):\n",
    "        pos = 0\n",
    "        pos = text.find('\\n')\n",
    "        text = text[pos+1:]\n",
    "    \n",
    "    #remove punctuation\n",
    "    for punctuation in string.punctuation:\n",
    "        text = text.replace(punctuation, '')\n",
    "\n",
    "    # remove number\n",
    "    text = ''.join(word for word in text if not word.isdigit())\n",
    "\n",
    "    #pass in lowercase\n",
    "    text = text.lower()\n",
    "\n",
    "    #remove stop words\n",
    "    stop_words = set(stopwords.words(language))\n",
    "    \n",
    "    #text to list of word\n",
    "    word_tokens = word_tokenize(text)\n",
    "\n",
    "    #list to string\n",
    "    text = \" \".join([w for w in word_tokens if not w in stop_words])\n",
    "    #remove after the end of the comment\n",
    "    text = text.rstrip('useful funny cool')\n",
    "    return text"
   ]
  },
  {
   "cell_type": "code",
   "execution_count": null,
   "id": "85141412",
   "metadata": {},
   "outputs": [],
   "source": [
    "#Transform rates in int and date to datetime\n",
    "for i in range(len(data.Dates)):\n",
    "    date = datetime.strptime(data['Dates'][i], '%m/%d/%Y').date().isoformat()\n",
    "    data.loc[i,'Dates'] = pd.to_datetime(date, format='%Y-%m-%d')\n",
    "    for e in data['Rating'][i]:\n",
    "        if e.isdigit():\n",
    "            data.loc[i, 'Rating'] = e"
   ]
  },
  {
   "cell_type": "code",
   "execution_count": null,
   "id": "7b639bc6",
   "metadata": {},
   "outputs": [],
   "source": [
    "data['Review_clean'] = ''\n",
    "for i,rev in data['Reviews'].items():\n",
    "    c_r = clear_data_text(rev, 'english')\n",
    "    data.loc[i,'Review_clean'] = c_r"
   ]
  },
  {
   "cell_type": "code",
   "execution_count": null,
   "id": "c78f0813",
   "metadata": {},
   "outputs": [],
   "source": [
    "data.drop('Unnamed: 0', axis = 1, inplace = True)"
   ]
  },
  {
   "cell_type": "code",
   "execution_count": null,
   "id": "fb917d14",
   "metadata": {},
   "outputs": [],
   "source": [
    "data"
   ]
  },
  {
   "cell_type": "code",
   "execution_count": null,
   "id": "e974cfdb",
   "metadata": {},
   "outputs": [],
   "source": []
  }
 ],
 "metadata": {
  "kernelspec": {
   "display_name": "Python 3 (ipykernel)",
   "language": "python",
   "name": "python3"
  },
  "language_info": {
   "codemirror_mode": {
    "name": "ipython",
    "version": 3
   },
   "file_extension": ".py",
   "mimetype": "text/x-python",
   "name": "python",
   "nbconvert_exporter": "python",
   "pygments_lexer": "ipython3",
   "version": "3.8.12"
  },
  "toc": {
   "base_numbering": 1,
   "nav_menu": {},
   "number_sections": true,
   "sideBar": true,
   "skip_h1_title": false,
   "title_cell": "Table of Contents",
   "title_sidebar": "Contents",
   "toc_cell": false,
   "toc_position": {},
   "toc_section_display": true,
   "toc_window_display": false
  }
 },
 "nbformat": 4,
 "nbformat_minor": 5
}
