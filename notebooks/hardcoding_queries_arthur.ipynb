{
 "cells": [
  {
   "cell_type": "code",
   "execution_count": 12,
   "id": "d483af60",
   "metadata": {
    "ExecuteTime": {
     "end_time": "2021-12-02T18:47:11.406896Z",
     "start_time": "2021-12-02T18:47:11.312575Z"
    }
   },
   "outputs": [],
   "source": [
    "%load_ext autoreload\n",
    "%autoreload 2"
   ]
  },
  {
   "cell_type": "code",
   "execution_count": 1,
   "id": "eee9ebe1",
   "metadata": {
    "ExecuteTime": {
     "end_time": "2021-12-02T18:30:53.427496Z",
     "start_time": "2021-12-02T18:30:52.763749Z"
    }
   },
   "outputs": [],
   "source": [
    "import pandas as pd \n",
    "import numpy as np\n",
    "import requests"
   ]
  },
  {
   "cell_type": "markdown",
   "id": "f33f8a69",
   "metadata": {},
   "source": [
    "# WITH API"
   ]
  },
  {
   "cell_type": "code",
   "execution_count": 3,
   "id": "6c1daa58",
   "metadata": {
    "ExecuteTime": {
     "end_time": "2021-12-02T18:31:57.612232Z",
     "start_time": "2021-12-02T18:31:57.608712Z"
    }
   },
   "outputs": [],
   "source": [
    "url_api = 'https://api9-2rnijzpfva-ew.a.run.app/summary_reviews2'"
   ]
  },
  {
   "cell_type": "code",
   "execution_count": 9,
   "id": "6d674957",
   "metadata": {
    "ExecuteTime": {
     "end_time": "2021-12-02T18:40:41.019630Z",
     "start_time": "2021-12-02T18:39:13.232724Z"
    }
   },
   "outputs": [],
   "source": [
    "## first sentence params\n",
    "text = 'I would like a good pizza but I am allergic to gluten'\n",
    "n_best=10\n",
    "n_prox=3000\n",
    "min_review=10\n",
    "\n",
    "params1=dict(text=text,n_best=n_best,n_prox=n_prox,min_review=min_review)\n",
    "response1 = requests.get(url_api,params=params1)"
   ]
  },
  {
   "cell_type": "code",
   "execution_count": 10,
   "id": "820ad752",
   "metadata": {
    "ExecuteTime": {
     "end_time": "2021-12-02T18:40:42.554142Z",
     "start_time": "2021-12-02T18:40:42.544806Z"
    }
   },
   "outputs": [
    {
     "data": {
      "text/plain": [
       "500"
      ]
     },
     "execution_count": 10,
     "metadata": {},
     "output_type": "execute_result"
    }
   ],
   "source": [
    "response1.status_code"
   ]
  },
  {
   "cell_type": "code",
   "execution_count": 7,
   "id": "dad7e889",
   "metadata": {
    "ExecuteTime": {
     "end_time": "2021-12-02T18:37:46.355857Z",
     "start_time": "2021-12-02T18:36:36.639755Z"
    }
   },
   "outputs": [
    {
     "name": "stdout",
     "output_type": "stream",
     "text": [
      "CPU times: user 22.9 ms, sys: 6.75 ms, total: 29.7 ms\n",
      "Wall time: 1min 9s\n"
     ]
    }
   ],
   "source": [
    "%%time\n",
    "## second sentence params\n",
    "text = 'I want to eat a traditional french meal with music'\n",
    "n_best=10\n",
    "n_prox=3000\n",
    "min_review=10\n",
    "\n",
    "params2=dict(text=text,n_best=n_best,n_prox=n_prox,min_review=min_review)\n",
    "response2 = requests.get(url_api,params=params2)"
   ]
  },
  {
   "cell_type": "code",
   "execution_count": null,
   "id": "a88e6dbc",
   "metadata": {},
   "outputs": [],
   "source": [
    "%%time\n",
    "## third sentence params\n",
    "text = 'I want to eat lasagnas without meat'\n",
    "n_best=10\n",
    "n_prox=3000\n",
    "min_review=10\n",
    "\n",
    "params3=dict(text=text,n_best=n_best,n_prox=n_prox,min_review=min_review)\n",
    "response3 = requests.get(url_api,params=params3)"
   ]
  },
  {
   "cell_type": "markdown",
   "id": "8fdbf4e8",
   "metadata": {},
   "source": [
    "# BARBARE"
   ]
  },
  {
   "cell_type": "code",
   "execution_count": 13,
   "id": "a003f6dd",
   "metadata": {
    "ExecuteTime": {
     "end_time": "2021-12-02T18:47:12.958209Z",
     "start_time": "2021-12-02T18:47:12.871587Z"
    }
   },
   "outputs": [],
   "source": [
    "from fobokiller.heatmap import *"
   ]
  },
  {
   "cell_type": "code",
   "execution_count": 55,
   "id": "4d89959f",
   "metadata": {
    "ExecuteTime": {
     "end_time": "2021-12-02T19:49:42.276630Z",
     "start_time": "2021-12-02T19:49:42.210617Z"
    }
   },
   "outputs": [],
   "source": [
    "from IPython.display import HTML,display"
   ]
  },
  {
   "cell_type": "code",
   "execution_count": null,
   "id": "e398ad3b",
   "metadata": {},
   "outputs": [],
   "source": []
  },
  {
   "cell_type": "code",
   "execution_count": 40,
   "id": "e1a371f9",
   "metadata": {
    "ExecuteTime": {
     "end_time": "2021-12-02T19:17:22.795607Z",
     "start_time": "2021-12-02T19:17:22.693762Z"
    }
   },
   "outputs": [],
   "source": [
    "def viking(all_df):\n",
    "    summary_reconstructed = all_df.groupby('alias').agg({\n",
    "                                                    'review_clean':list,\n",
    "                                                    'nb_sentences':'mean',\n",
    "                                                    'nb_review':'mean',\n",
    "                                                    'metric sim_ratio':'mean',\n",
    "                                                    'rate_filtered_y':'mean',\n",
    "                                                    'reviews_heatmaps_html':list,\n",
    "                                                    'reviews_heatmaps_polarity':list\n",
    "                                                })\n",
    "    return summary_reconstructed"
   ]
  },
  {
   "cell_type": "code",
   "execution_count": 14,
   "id": "cf6ef351",
   "metadata": {
    "ExecuteTime": {
     "end_time": "2021-12-02T18:48:39.017970Z",
     "start_time": "2021-12-02T18:48:35.950927Z"
    }
   },
   "outputs": [],
   "source": [
    "#loading embedding\n",
    "embedding = load_embedding()"
   ]
  },
  {
   "cell_type": "code",
   "execution_count": 15,
   "id": "5aa53d02",
   "metadata": {
    "ExecuteTime": {
     "end_time": "2021-12-02T18:49:25.122088Z",
     "start_time": "2021-12-02T18:49:08.376192Z"
    }
   },
   "outputs": [],
   "source": [
    "#loading reviews dataset\n",
    "reviews_dataset = load_reviews_dataset()"
   ]
  },
  {
   "cell_type": "code",
   "execution_count": 16,
   "id": "723dec2a",
   "metadata": {
    "ExecuteTime": {
     "end_time": "2021-12-02T18:49:54.757471Z",
     "start_time": "2021-12-02T18:49:54.618318Z"
    }
   },
   "outputs": [],
   "source": [
    "#Setting params once and for all\n",
    "n_prox= 3000\n",
    "min_review=10\n",
    "n_best=10"
   ]
  },
  {
   "cell_type": "markdown",
   "id": "5315c4ef",
   "metadata": {},
   "source": [
    "## First query"
   ]
  },
  {
   "cell_type": "code",
   "execution_count": 18,
   "id": "ff888ded",
   "metadata": {
    "ExecuteTime": {
     "end_time": "2021-12-02T18:53:08.069040Z",
     "start_time": "2021-12-02T18:52:49.798824Z"
    }
   },
   "outputs": [],
   "source": [
    "#creating one query_dataset per sentence\n",
    "# First sentence\n",
    "query_1 = 'I would like a good pizza but I am allergic to gluten'\n",
    "dataset_query_1 = creating_query_dataset(embedding=embedding,reviews_dataset=reviews_dataset,query=query_1,n_prox=n_prox,min_review=min_review,n_best=n_best)"
   ]
  },
  {
   "cell_type": "code",
   "execution_count": 31,
   "id": "1a755d6a",
   "metadata": {
    "ExecuteTime": {
     "end_time": "2021-12-02T19:08:04.286468Z",
     "start_time": "2021-12-02T19:08:04.166056Z"
    }
   },
   "outputs": [],
   "source": [
    "#filtering only reviews that poped up in our cosim query\n",
    "dataset_query_1 = dataset_query_1[(dataset_query_1['is_sim']==1)&(dataset_query_1['is_in_summary']==1)]"
   ]
  },
  {
   "cell_type": "code",
   "execution_count": 33,
   "id": "5082c236",
   "metadata": {
    "ExecuteTime": {
     "end_time": "2021-12-02T19:08:25.482127Z",
     "start_time": "2021-12-02T19:08:25.405361Z"
    }
   },
   "outputs": [
    {
     "data": {
      "text/plain": [
       "(415, 24)"
      ]
     },
     "execution_count": 33,
     "metadata": {},
     "output_type": "execute_result"
    }
   ],
   "source": [
    "dataset_query_1.shape"
   ]
  },
  {
   "cell_type": "code",
   "execution_count": 61,
   "id": "c2ddbc78",
   "metadata": {
    "ExecuteTime": {
     "end_time": "2021-12-02T19:52:31.046104Z",
     "start_time": "2021-12-02T19:52:19.111025Z"
    }
   },
   "outputs": [],
   "source": [
    "#Applying heatmap functions\n",
    "dataset_query_1['reviews_heatmaps_html'] = dataset_query_1.apply(apply_heatmap_html,axis=1)\n",
    "dataset_query_1['reviews_heatmaps_polarity'] = dataset_query_1.apply(apply_heatmap_polarity,axis=1)"
   ]
  },
  {
   "cell_type": "code",
   "execution_count": 62,
   "id": "79e046f4",
   "metadata": {
    "ExecuteTime": {
     "end_time": "2021-12-02T19:52:31.111811Z",
     "start_time": "2021-12-02T19:52:31.048760Z"
    }
   },
   "outputs": [
    {
     "data": {
      "text/plain": [
       "(415, 26)"
      ]
     },
     "execution_count": 62,
     "metadata": {},
     "output_type": "execute_result"
    }
   ],
   "source": [
    "dataset_query_1.shape"
   ]
  },
  {
   "cell_type": "code",
   "execution_count": 63,
   "id": "83dd391c",
   "metadata": {
    "ExecuteTime": {
     "end_time": "2021-12-02T19:52:31.180234Z",
     "start_time": "2021-12-02T19:52:31.113571Z"
    }
   },
   "outputs": [],
   "source": [
    "result1=viking(dataset_query_1)"
   ]
  },
  {
   "cell_type": "code",
   "execution_count": 64,
   "id": "7de22c61",
   "metadata": {
    "ExecuteTime": {
     "end_time": "2021-12-02T19:52:31.389540Z",
     "start_time": "2021-12-02T19:52:31.183122Z"
    },
    "collapsed": true
   },
   "outputs": [
    {
     "name": "stdout",
     "output_type": "stream",
     "text": [
      "review with polarity =0.9746661186218262\n"
     ]
    },
    {
     "data": {
      "text/html": [
       "<span style='background-color:rgba(200,110.519759953022,0,.6)'>% gluten free restaurant </span><span style='background-color:rgba(200,0.0,0,.6)'> menu is big and amazing </span><span style='background-color:rgba(200,49.44664031267166,0,.6)'> had two different pizzas, bruschetta and the tiramisu </span><span style='background-color:rgba(200,40.59735596179962,0,.6)'> no need to worry about cross contamination here, everything is safe </span><span style='background-color:rgba(200,161.258285343647,0,.6)'> menu is not in english so come prepared with a translator, but so worth it </span>"
      ],
      "text/plain": [
       "<IPython.core.display.HTML object>"
      ]
     },
     "metadata": {},
     "output_type": "display_data"
    },
    {
     "name": "stdout",
     "output_type": "stream",
     "text": [
      "--------------------------\n",
      "review with polarity =0.9746661186218262\n"
     ]
    },
    {
     "data": {
      "text/html": [
       "<span style='background-color:rgba(200,110.519759953022,0,.6)'>% gluten free restaurant </span><span style='background-color:rgba(200,0.0,0,.6)'> menu is big and amazing </span><span style='background-color:rgba(200,49.44664031267166,0,.6)'> had two different pizzas, bruschetta and the tiramisu </span><span style='background-color:rgba(200,40.59735596179962,0,.6)'> no need to worry about cross contamination here, everything is safe </span><span style='background-color:rgba(200,161.258285343647,0,.6)'> menu is not in english so come prepared with a translator, but so worth it </span>"
      ],
      "text/plain": [
       "<IPython.core.display.HTML object>"
      ]
     },
     "metadata": {},
     "output_type": "display_data"
    },
    {
     "name": "stdout",
     "output_type": "stream",
     "text": [
      "--------------------------\n",
      "review with polarity =0.0\n"
     ]
    },
    {
     "data": {
      "text/html": [
       "<span style='background-color:rgba(200,255.0,0,.6)'>a lot better places for gluten-free food in paris </span><span style='background-color:rgba(200,255.0,0,.6)'> service was extremely slow and we felt ignored </span><span style='background-color:rgba(200,255.0,0,.6)'> pizza we had was bland (basically a combination of cold cut ham and mozzarella) </span><span style='background-color:rgba(200,255.0,0,.6)'> i love that they were attempting to be gluten-free but the application left a lot to be desired </span>"
      ],
      "text/plain": [
       "<IPython.core.display.HTML object>"
      ]
     },
     "metadata": {},
     "output_type": "display_data"
    },
    {
     "name": "stdout",
     "output_type": "stream",
     "text": [
      "--------------------------\n",
      "review with polarity =0.0\n"
     ]
    },
    {
     "data": {
      "text/html": [
       "<span style='background-color:rgba(200,255.0,0,.6)'>a lot better places for gluten-free food in paris </span><span style='background-color:rgba(200,255.0,0,.6)'> service was extremely slow and we felt ignored </span><span style='background-color:rgba(200,255.0,0,.6)'> pizza we had was bland (basically a combination of cold cut ham and mozzarella) </span><span style='background-color:rgba(200,255.0,0,.6)'> i love that they were attempting to be gluten-free but the application left a lot to be desired </span>"
      ],
      "text/plain": [
       "<IPython.core.display.HTML object>"
      ]
     },
     "metadata": {},
     "output_type": "display_data"
    },
    {
     "name": "stdout",
     "output_type": "stream",
     "text": [
      "--------------------------\n",
      "review with polarity =0.9729760885238647\n"
     ]
    },
    {
     "data": {
      "text/html": [
       "<span style='background-color:rgba(200,150.50158694386482,0,.6)'>absolutely amazing gluten free options </span><span style='background-color:rgba(200,0.0,0,.6)'> the staff were super friendly and offered an english menu on saying hello </span><span style='background-color:rgba(200,34.447355568408966,0,.6)'> loved the atmosphere and the pizza </span>"
      ],
      "text/plain": [
       "<IPython.core.display.HTML object>"
      ]
     },
     "metadata": {},
     "output_type": "display_data"
    },
    {
     "name": "stdout",
     "output_type": "stream",
     "text": [
      "--------------------------\n",
      "review with polarity =0.9618536233901978\n"
     ]
    },
    {
     "data": {
      "text/html": [
       "<span style='background-color:rgba(200,164.6996694803238,0,.6)'>best gluten-free pizza i have had hands down </span><span style='background-color:rgba(200,0.0,0,.6)'> can't wait to return to paris to visit this place </span>"
      ],
      "text/plain": [
       "<IPython.core.display.HTML object>"
      ]
     },
     "metadata": {},
     "output_type": "display_data"
    },
    {
     "name": "stdout",
     "output_type": "stream",
     "text": [
      "--------------------------\n",
      "review with polarity =0.9680736064910889\n"
     ]
    },
    {
     "data": {
      "text/html": [
       "<span style='background-color:rgba(200,105.60464769601822,0,.6)'>first to review everything on the menu is gluten free </span><span style='background-color:rgba(200,38.85688215494156,0,.6)'> pizza, pasta, desserts </span><span style='background-color:rgba(200,0.0,0,.6)'> we had an amazing meal here , and were confused by the fact that it wasn't even on yelp </span><span style='background-color:rgba(200,29.01776611804962,0,.6)'> do yourself a favor and go </span><span style='background-color:rgba(200,121.02809607982635,0,.6)'> enjoy </span>"
      ],
      "text/plain": [
       "<IPython.core.display.HTML object>"
      ]
     },
     "metadata": {},
     "output_type": "display_data"
    },
    {
     "name": "stdout",
     "output_type": "stream",
     "text": [
      "--------------------------\n",
      "review with polarity =0.9680736064910889\n"
     ]
    },
    {
     "data": {
      "text/html": [
       "<span style='background-color:rgba(200,105.60464769601822,0,.6)'>first to review everything on the menu is gluten free </span><span style='background-color:rgba(200,38.85688215494156,0,.6)'> pizza, pasta, desserts </span><span style='background-color:rgba(200,0.0,0,.6)'> we had an amazing meal here , and were confused by the fact that it wasn't even on yelp </span><span style='background-color:rgba(200,29.01776611804962,0,.6)'> do yourself a favor and go </span><span style='background-color:rgba(200,121.02809607982635,0,.6)'> enjoy </span>"
      ],
      "text/plain": [
       "<IPython.core.display.HTML object>"
      ]
     },
     "metadata": {},
     "output_type": "display_data"
    },
    {
     "name": "stdout",
     "output_type": "stream",
     "text": [
      "--------------------------\n",
      "review with polarity =0.9779748320579529\n"
     ]
    },
    {
     "data": {
      "text/html": [
       "<span style='background-color:rgba(200,172.29268804192543,0,.6)'>gluten free gem of paris </span><span style='background-color:rgba(200,118.62551540136337,0,.6)'> we ordered the burratina (mozzarella and tomatoes) which was delish and two separate pizzas </span><span style='background-color:rgba(200,33.368031084537506,0,.6)'> everything in this place is gluten free but they do have regular beer so keep an eye out </span><span style='background-color:rgba(200,50.11598199605942,0,.6)'> they brought gluten free bread with oil which always deserves at least two stars and they have menus in french and english </span><span style='background-color:rgba(200,0.0,0,.6)'> the servers were nice and accommodating and didn't scold my butchered french to my face which was greatly appreciated </span><span style='background-color:rgba(200,72.7849879860878,0,.6)'> only thing i was a bit disappointed with was the amount of cheese on the pizzas </span><span style='background-color:rgba(200,69.13900762796402,0,.6)'> having just been to italy, i was expecting something similar in terms of cheese quantity </span><span style='background-color:rgba(200,106.02864414453506,0,.6)'> i must have had a momentary lapse of where i was and how there is no such thing as too much cheese here </span><span style='background-color:rgba(200,176.6855563223362,0,.6)'> i will remember for next time so i'll have room to order dessert </span>"
      ],
      "text/plain": [
       "<IPython.core.display.HTML object>"
      ]
     },
     "metadata": {},
     "output_type": "display_data"
    },
    {
     "name": "stdout",
     "output_type": "stream",
     "text": [
      "--------------------------\n",
      "review with polarity =0.9779748320579529\n"
     ]
    },
    {
     "data": {
      "text/html": [
       "<span style='background-color:rgba(200,172.29268804192543,0,.6)'>gluten free gem of paris </span><span style='background-color:rgba(200,118.62551540136337,0,.6)'> we ordered the burratina (mozzarella and tomatoes) which was delish and two separate pizzas </span><span style='background-color:rgba(200,33.368031084537506,0,.6)'> everything in this place is gluten free but they do have regular beer so keep an eye out </span><span style='background-color:rgba(200,50.11598199605942,0,.6)'> they brought gluten free bread with oil which always deserves at least two stars and they have menus in french and english </span><span style='background-color:rgba(200,0.0,0,.6)'> the servers were nice and accommodating and didn't scold my butchered french to my face which was greatly appreciated </span><span style='background-color:rgba(200,72.7849879860878,0,.6)'> only thing i was a bit disappointed with was the amount of cheese on the pizzas </span><span style='background-color:rgba(200,69.13900762796402,0,.6)'> having just been to italy, i was expecting something similar in terms of cheese quantity </span><span style='background-color:rgba(200,106.02864414453506,0,.6)'> i must have had a momentary lapse of where i was and how there is no such thing as too much cheese here </span><span style='background-color:rgba(200,176.6855563223362,0,.6)'> i will remember for next time so i'll have room to order dessert </span>"
      ],
      "text/plain": [
       "<IPython.core.display.HTML object>"
      ]
     },
     "metadata": {},
     "output_type": "display_data"
    },
    {
     "name": "stdout",
     "output_type": "stream",
     "text": [
      "--------------------------\n",
      "review with polarity =0.9779748320579529\n"
     ]
    },
    {
     "data": {
      "text/html": [
       "<span style='background-color:rgba(200,172.29268804192543,0,.6)'>gluten free gem of paris </span><span style='background-color:rgba(200,118.62551540136337,0,.6)'> we ordered the burratina (mozzarella and tomatoes) which was delish and two separate pizzas </span><span style='background-color:rgba(200,33.368031084537506,0,.6)'> everything in this place is gluten free but they do have regular beer so keep an eye out </span><span style='background-color:rgba(200,50.11598199605942,0,.6)'> they brought gluten free bread with oil which always deserves at least two stars and they have menus in french and english </span><span style='background-color:rgba(200,0.0,0,.6)'> the servers were nice and accommodating and didn't scold my butchered french to my face which was greatly appreciated </span><span style='background-color:rgba(200,72.7849879860878,0,.6)'> only thing i was a bit disappointed with was the amount of cheese on the pizzas </span><span style='background-color:rgba(200,69.13900762796402,0,.6)'> having just been to italy, i was expecting something similar in terms of cheese quantity </span><span style='background-color:rgba(200,106.02864414453506,0,.6)'> i must have had a momentary lapse of where i was and how there is no such thing as too much cheese here </span><span style='background-color:rgba(200,176.6855563223362,0,.6)'> i will remember for next time so i'll have room to order dessert </span>"
      ],
      "text/plain": [
       "<IPython.core.display.HTML object>"
      ]
     },
     "metadata": {},
     "output_type": "display_data"
    },
    {
     "name": "stdout",
     "output_type": "stream",
     "text": [
      "--------------------------\n",
      "review with polarity =0.9735102653503418\n"
     ]
    },
    {
     "data": {
      "text/html": [
       "<span style='background-color:rgba(200,208.3024513721466,0,.6)'>gluten free italian restaurant with italian chefs </span><span style='background-color:rgba(200,0.0,0,.6)'> staff is super friendly and place is super cute </span><span style='background-color:rgba(200,30.55773228406906,0,.6)'> food was excellent and very aromatic </span><span style='background-color:rgba(200,27.719922959804535,0,.6)'> recommend </span><span style='background-color:rgba(200,185.00329479575157,0,.6)'> figuissimo </span>"
      ],
      "text/plain": [
       "<IPython.core.display.HTML object>"
      ]
     },
     "metadata": {},
     "output_type": "display_data"
    },
    {
     "name": "stdout",
     "output_type": "stream",
     "text": [
      "--------------------------\n",
      "review with polarity =0.9727110266685486\n"
     ]
    },
    {
     "data": {
      "text/html": [
       "<span style='background-color:rgba(200,197.5381799787283,0,.6)'>i cannot believe we found an italian, gluten-free restaurant in paris </span><span style='background-color:rgba(200,61.348772048950195,0,.6)'> hands down the best gluten free pizza crust i have ever had </span><span style='background-color:rgba(200,59.84032899141312,0,.6)'> the rigatoni bolognese was perfect, yes perfect </span><span style='background-color:rgba(200,38.72530281543732,0,.6)'> the wait staff were very friendly and the food was served quickly </span><span style='background-color:rgba(200,0.0,0,.6)'> oh, i forgot about the bruschetta that tasted like real italian bread,absolutely delicious </span><span style='background-color:rgba(200,25.191797018051147,0,.6)'> if this restaurant were in the united states it would be the hugest hit </span><span style='background-color:rgba(200,32.63226896524429,0,.6)'> and why can't they replicate this in the us </span><span style='background-color:rgba(200,145.07638245821,0,.6)'> this was a big treat </span><span style='background-color:rgba(200,139.20211046934128,0,.6)'> if you love italian food and craving authentic and delicious gluten free food- you must come here  </span>"
      ],
      "text/plain": [
       "<IPython.core.display.HTML object>"
      ]
     },
     "metadata": {},
     "output_type": "display_data"
    },
    {
     "name": "stdout",
     "output_type": "stream",
     "text": [
      "--------------------------\n",
      "review with polarity =0.9727110266685486\n"
     ]
    },
    {
     "data": {
      "text/html": [
       "<span style='background-color:rgba(200,197.5381799787283,0,.6)'>i cannot believe we found an italian, gluten-free restaurant in paris </span><span style='background-color:rgba(200,61.348772048950195,0,.6)'> hands down the best gluten free pizza crust i have ever had </span><span style='background-color:rgba(200,59.84032899141312,0,.6)'> the rigatoni bolognese was perfect, yes perfect </span><span style='background-color:rgba(200,38.72530281543732,0,.6)'> the wait staff were very friendly and the food was served quickly </span><span style='background-color:rgba(200,0.0,0,.6)'> oh, i forgot about the bruschetta that tasted like real italian bread,absolutely delicious </span><span style='background-color:rgba(200,25.191797018051147,0,.6)'> if this restaurant were in the united states it would be the hugest hit </span><span style='background-color:rgba(200,32.63226896524429,0,.6)'> and why can't they replicate this in the us </span><span style='background-color:rgba(200,145.07638245821,0,.6)'> this was a big treat </span><span style='background-color:rgba(200,139.20211046934128,0,.6)'> if you love italian food and craving authentic and delicious gluten free food- you must come here  </span>"
      ],
      "text/plain": [
       "<IPython.core.display.HTML object>"
      ]
     },
     "metadata": {},
     "output_type": "display_data"
    },
    {
     "name": "stdout",
     "output_type": "stream",
     "text": [
      "--------------------------\n",
      "review with polarity =0.9727110266685486\n"
     ]
    },
    {
     "data": {
      "text/html": [
       "<span style='background-color:rgba(200,197.5381799787283,0,.6)'>i cannot believe we found an italian, gluten-free restaurant in paris </span><span style='background-color:rgba(200,61.348772048950195,0,.6)'> hands down the best gluten free pizza crust i have ever had </span><span style='background-color:rgba(200,59.84032899141312,0,.6)'> the rigatoni bolognese was perfect, yes perfect </span><span style='background-color:rgba(200,38.72530281543732,0,.6)'> the wait staff were very friendly and the food was served quickly </span><span style='background-color:rgba(200,0.0,0,.6)'> oh, i forgot about the bruschetta that tasted like real italian bread,absolutely delicious </span><span style='background-color:rgba(200,25.191797018051147,0,.6)'> if this restaurant were in the united states it would be the hugest hit </span><span style='background-color:rgba(200,32.63226896524429,0,.6)'> and why can't they replicate this in the us </span><span style='background-color:rgba(200,145.07638245821,0,.6)'> this was a big treat </span><span style='background-color:rgba(200,139.20211046934128,0,.6)'> if you love italian food and craving authentic and delicious gluten free food- you must come here  </span>"
      ],
      "text/plain": [
       "<IPython.core.display.HTML object>"
      ]
     },
     "metadata": {},
     "output_type": "display_data"
    },
    {
     "name": "stdout",
     "output_type": "stream",
     "text": [
      "--------------------------\n",
      "review with polarity =0.9774717092514038\n"
     ]
    },
    {
     "data": {
      "text/html": [
       "<span style='background-color:rgba(200,206.8040055781603,0,.6)'>i love this pizza place in paris, gluten free lovers will really enjoy this restaurant </span><span style='background-color:rgba(200,87.95839458703995,0,.6)'> even if you are not gluten free you will enjoy it, everything one the menu is gluten free </span><span style='background-color:rgba(200,138.3272910118103,0,.6)'> the staff is super friendly and the service is amazing </span><span style='background-color:rgba(200,76.64813429117203,0,.6)'> my friend recommend and it did not disappoint </span><span style='background-color:rgba(200,59.66708868741989,0,.6)'> i am impressed by all the gluten free options in paris </span><span style='background-color:rgba(200,0.0,0,.6)'> this is definitely on my top gluten free restaurants there </span><span style='background-color:rgba(200,2.611493468284607,0,.6)'> the price points are great, not only is the pizza amazing but so are the dessert options </span><span style='background-color:rgba(200,88.83760660886765,0,.6)'> the fig cheese cake is a must, the presentation is simply picture perfect </span><span style='background-color:rgba(200,103.68784815073013,0,.6)'> a perfect spot to enjoy great conversation and food, not far from the metro </span><span style='background-color:rgba(200,114.30143862962723,0,.6)'> will definitely be back and recommend little nonna </span>"
      ],
      "text/plain": [
       "<IPython.core.display.HTML object>"
      ]
     },
     "metadata": {},
     "output_type": "display_data"
    },
    {
     "name": "stdout",
     "output_type": "stream",
     "text": [
      "--------------------------\n",
      "review with polarity =0.9774717092514038\n"
     ]
    },
    {
     "data": {
      "text/html": [
       "<span style='background-color:rgba(200,206.8040055781603,0,.6)'>i love this pizza place in paris, gluten free lovers will really enjoy this restaurant </span><span style='background-color:rgba(200,87.95839458703995,0,.6)'> even if you are not gluten free you will enjoy it, everything one the menu is gluten free </span><span style='background-color:rgba(200,138.3272910118103,0,.6)'> the staff is super friendly and the service is amazing </span><span style='background-color:rgba(200,76.64813429117203,0,.6)'> my friend recommend and it did not disappoint </span><span style='background-color:rgba(200,59.66708868741989,0,.6)'> i am impressed by all the gluten free options in paris </span><span style='background-color:rgba(200,0.0,0,.6)'> this is definitely on my top gluten free restaurants there </span><span style='background-color:rgba(200,2.611493468284607,0,.6)'> the price points are great, not only is the pizza amazing but so are the dessert options </span><span style='background-color:rgba(200,88.83760660886765,0,.6)'> the fig cheese cake is a must, the presentation is simply picture perfect </span><span style='background-color:rgba(200,103.68784815073013,0,.6)'> a perfect spot to enjoy great conversation and food, not far from the metro </span><span style='background-color:rgba(200,114.30143862962723,0,.6)'> will definitely be back and recommend little nonna </span>"
      ],
      "text/plain": [
       "<IPython.core.display.HTML object>"
      ]
     },
     "metadata": {},
     "output_type": "display_data"
    },
    {
     "name": "stdout",
     "output_type": "stream",
     "text": [
      "--------------------------\n",
      "review with polarity =0.9774717092514038\n"
     ]
    },
    {
     "data": {
      "text/html": [
       "<span style='background-color:rgba(200,206.8040055781603,0,.6)'>i love this pizza place in paris, gluten free lovers will really enjoy this restaurant </span><span style='background-color:rgba(200,87.95839458703995,0,.6)'> even if you are not gluten free you will enjoy it, everything one the menu is gluten free </span><span style='background-color:rgba(200,138.3272910118103,0,.6)'> the staff is super friendly and the service is amazing </span><span style='background-color:rgba(200,76.64813429117203,0,.6)'> my friend recommend and it did not disappoint </span><span style='background-color:rgba(200,59.66708868741989,0,.6)'> i am impressed by all the gluten free options in paris </span><span style='background-color:rgba(200,0.0,0,.6)'> this is definitely on my top gluten free restaurants there </span><span style='background-color:rgba(200,2.611493468284607,0,.6)'> the price points are great, not only is the pizza amazing but so are the dessert options </span><span style='background-color:rgba(200,88.83760660886765,0,.6)'> the fig cheese cake is a must, the presentation is simply picture perfect </span><span style='background-color:rgba(200,103.68784815073013,0,.6)'> a perfect spot to enjoy great conversation and food, not far from the metro </span><span style='background-color:rgba(200,114.30143862962723,0,.6)'> will definitely be back and recommend little nonna </span>"
      ],
      "text/plain": [
       "<IPython.core.display.HTML object>"
      ]
     },
     "metadata": {},
     "output_type": "display_data"
    },
    {
     "name": "stdout",
     "output_type": "stream",
     "text": [
      "--------------------------\n",
      "review with polarity =0.9774717092514038\n"
     ]
    },
    {
     "data": {
      "text/html": [
       "<span style='background-color:rgba(200,206.8040055781603,0,.6)'>i love this pizza place in paris, gluten free lovers will really enjoy this restaurant </span><span style='background-color:rgba(200,87.95839458703995,0,.6)'> even if you are not gluten free you will enjoy it, everything one the menu is gluten free </span><span style='background-color:rgba(200,138.3272910118103,0,.6)'> the staff is super friendly and the service is amazing </span><span style='background-color:rgba(200,76.64813429117203,0,.6)'> my friend recommend and it did not disappoint </span><span style='background-color:rgba(200,59.66708868741989,0,.6)'> i am impressed by all the gluten free options in paris </span><span style='background-color:rgba(200,0.0,0,.6)'> this is definitely on my top gluten free restaurants there </span><span style='background-color:rgba(200,2.611493468284607,0,.6)'> the price points are great, not only is the pizza amazing but so are the dessert options </span><span style='background-color:rgba(200,88.83760660886765,0,.6)'> the fig cheese cake is a must, the presentation is simply picture perfect </span><span style='background-color:rgba(200,103.68784815073013,0,.6)'> a perfect spot to enjoy great conversation and food, not far from the metro </span><span style='background-color:rgba(200,114.30143862962723,0,.6)'> will definitely be back and recommend little nonna </span>"
      ],
      "text/plain": [
       "<IPython.core.display.HTML object>"
      ]
     },
     "metadata": {},
     "output_type": "display_data"
    },
    {
     "name": "stdout",
     "output_type": "stream",
     "text": [
      "--------------------------\n",
      "review with polarity =0.9774717092514038\n"
     ]
    },
    {
     "data": {
      "text/html": [
       "<span style='background-color:rgba(200,206.8040055781603,0,.6)'>i love this pizza place in paris, gluten free lovers will really enjoy this restaurant </span><span style='background-color:rgba(200,87.95839458703995,0,.6)'> even if you are not gluten free you will enjoy it, everything one the menu is gluten free </span><span style='background-color:rgba(200,138.3272910118103,0,.6)'> the staff is super friendly and the service is amazing </span><span style='background-color:rgba(200,76.64813429117203,0,.6)'> my friend recommend and it did not disappoint </span><span style='background-color:rgba(200,59.66708868741989,0,.6)'> i am impressed by all the gluten free options in paris </span><span style='background-color:rgba(200,0.0,0,.6)'> this is definitely on my top gluten free restaurants there </span><span style='background-color:rgba(200,2.611493468284607,0,.6)'> the price points are great, not only is the pizza amazing but so are the dessert options </span><span style='background-color:rgba(200,88.83760660886765,0,.6)'> the fig cheese cake is a must, the presentation is simply picture perfect </span><span style='background-color:rgba(200,103.68784815073013,0,.6)'> a perfect spot to enjoy great conversation and food, not far from the metro </span><span style='background-color:rgba(200,114.30143862962723,0,.6)'> will definitely be back and recommend little nonna </span>"
      ],
      "text/plain": [
       "<IPython.core.display.HTML object>"
      ]
     },
     "metadata": {},
     "output_type": "display_data"
    },
    {
     "name": "stdout",
     "output_type": "stream",
     "text": [
      "--------------------------\n",
      "review with polarity =0.9758530855178833\n"
     ]
    },
    {
     "data": {
      "text/html": [
       "<span style='background-color:rgba(200,188.13320204615593,0,.6)'>i've been gluten-free for over years now and this is the best gluten free pizza i've ever had </span><span style='background-color:rgba(200,84.87586319446564,0,.6)'> the bread given was also great </span><span style='background-color:rgba(200,2.358548641204834,0,.6)'> they provide an english menu wish is really helpful, as well as the server spoke some english </span><span style='background-color:rgba(200,70.82833617925644,0,.6)'> service, food, everything was overall great and i couldn't recommend little nonna more </span><span style='background-color:rgba(200,106.69718027114868,0,.6)'> a really tasty place for gluten-free people or not </span><span style='background-color:rgba(200,62.08277106285095,0,.6)'> very welcoming and a cute place </span><span style='background-color:rgba(200,0.0,0,.6)'> see all photos from carson d </span><span style='background-color:rgba(200,150.66610291600227,0,.6)'> for little nonna </span>"
      ],
      "text/plain": [
       "<IPython.core.display.HTML object>"
      ]
     },
     "metadata": {},
     "output_type": "display_data"
    },
    {
     "name": "stdout",
     "output_type": "stream",
     "text": [
      "--------------------------\n",
      "review with polarity =0.9758530855178833\n"
     ]
    },
    {
     "data": {
      "text/html": [
       "<span style='background-color:rgba(200,188.13320204615593,0,.6)'>i've been gluten-free for over years now and this is the best gluten free pizza i've ever had </span><span style='background-color:rgba(200,84.87586319446564,0,.6)'> the bread given was also great </span><span style='background-color:rgba(200,2.358548641204834,0,.6)'> they provide an english menu wish is really helpful, as well as the server spoke some english </span><span style='background-color:rgba(200,70.82833617925644,0,.6)'> service, food, everything was overall great and i couldn't recommend little nonna more </span><span style='background-color:rgba(200,106.69718027114868,0,.6)'> a really tasty place for gluten-free people or not </span><span style='background-color:rgba(200,62.08277106285095,0,.6)'> very welcoming and a cute place </span><span style='background-color:rgba(200,0.0,0,.6)'> see all photos from carson d </span><span style='background-color:rgba(200,150.66610291600227,0,.6)'> for little nonna </span>"
      ],
      "text/plain": [
       "<IPython.core.display.HTML object>"
      ]
     },
     "metadata": {},
     "output_type": "display_data"
    },
    {
     "name": "stdout",
     "output_type": "stream",
     "text": [
      "--------------------------\n",
      "review with polarity =0.9772168397903442\n"
     ]
    },
    {
     "data": {
      "text/html": [
       "<span style='background-color:rgba(200,229.88227240741253,0,.6)'>little nonna is one of the most highly rated gluten-free restaurants by search categary i've ever seen, with an average rating of  </span><span style='background-color:rgba(200,101.95275485515594,0,.6)'> stars from reviews </span><span style='background-color:rgba(200,148.8955195248127,0,.6)'> little nonna is a gluten-free pizzeria, they do have some other dishes including pasta but the main feature is the pizza </span><span style='background-color:rgba(200,75.33244729042053,0,.6)'> i ended up going for a margarita which was reasonably priced at euros, some pizzas went up to around the euro mark however many of the other pizzas and dishes overall seemed to have at least one item i didn't like, they seemed to be going fancy rather than good, simple dishes </span><span style='background-color:rgba(200,101.20711326599121,0,.6)'> they didn't have an english menu, it was easy to understand even for my friend who doesn't speak french as it was part italian and part english </span><span style='background-color:rgba(200,89.07214522361755,0,.6)'> my pizza overall was okay, it was seasoned well however i did find the base to be a little too thick, and the cheese had a slight chewiness too it, but overall it was a pretty decent pizza </span><span style='background-color:rgba(200,43.74688535928726,0,.6)'> they had nice tables inside, the restauraunt and toilets were clean </span><span style='background-color:rgba(200,0.0,0,.6)'> as with the majority of restaurants in france, there is a good amount of outdoor seating too </span><span style='background-color:rgba(200,33.888998329639435,0,.6)'> * - no thrills but sometimes that's the price to pay for a safe gluten-free meal </span><span style='background-color:rgba(200,130.7697169482708,0,.6)'> although i'm unlikely to return, i wouldn't avoid this place either </span>"
      ],
      "text/plain": [
       "<IPython.core.display.HTML object>"
      ]
     },
     "metadata": {},
     "output_type": "display_data"
    },
    {
     "name": "stdout",
     "output_type": "stream",
     "text": [
      "--------------------------\n",
      "review with polarity =0.9772168397903442\n"
     ]
    },
    {
     "data": {
      "text/html": [
       "<span style='background-color:rgba(200,229.88227240741253,0,.6)'>little nonna is one of the most highly rated gluten-free restaurants by search categary i've ever seen, with an average rating of  </span><span style='background-color:rgba(200,101.95275485515594,0,.6)'> stars from reviews </span><span style='background-color:rgba(200,148.8955195248127,0,.6)'> little nonna is a gluten-free pizzeria, they do have some other dishes including pasta but the main feature is the pizza </span><span style='background-color:rgba(200,75.33244729042053,0,.6)'> i ended up going for a margarita which was reasonably priced at euros, some pizzas went up to around the euro mark however many of the other pizzas and dishes overall seemed to have at least one item i didn't like, they seemed to be going fancy rather than good, simple dishes </span><span style='background-color:rgba(200,101.20711326599121,0,.6)'> they didn't have an english menu, it was easy to understand even for my friend who doesn't speak french as it was part italian and part english </span><span style='background-color:rgba(200,89.07214522361755,0,.6)'> my pizza overall was okay, it was seasoned well however i did find the base to be a little too thick, and the cheese had a slight chewiness too it, but overall it was a pretty decent pizza </span><span style='background-color:rgba(200,43.74688535928726,0,.6)'> they had nice tables inside, the restauraunt and toilets were clean </span><span style='background-color:rgba(200,0.0,0,.6)'> as with the majority of restaurants in france, there is a good amount of outdoor seating too </span><span style='background-color:rgba(200,33.888998329639435,0,.6)'> * - no thrills but sometimes that's the price to pay for a safe gluten-free meal </span><span style='background-color:rgba(200,130.7697169482708,0,.6)'> although i'm unlikely to return, i wouldn't avoid this place either </span>"
      ],
      "text/plain": [
       "<IPython.core.display.HTML object>"
      ]
     },
     "metadata": {},
     "output_type": "display_data"
    },
    {
     "name": "stdout",
     "output_type": "stream",
     "text": [
      "--------------------------\n",
      "review with polarity =0.9772168397903442\n"
     ]
    },
    {
     "data": {
      "text/html": [
       "<span style='background-color:rgba(200,229.88227240741253,0,.6)'>little nonna is one of the most highly rated gluten-free restaurants by search categary i've ever seen, with an average rating of  </span><span style='background-color:rgba(200,101.95275485515594,0,.6)'> stars from reviews </span><span style='background-color:rgba(200,148.8955195248127,0,.6)'> little nonna is a gluten-free pizzeria, they do have some other dishes including pasta but the main feature is the pizza </span><span style='background-color:rgba(200,75.33244729042053,0,.6)'> i ended up going for a margarita which was reasonably priced at euros, some pizzas went up to around the euro mark however many of the other pizzas and dishes overall seemed to have at least one item i didn't like, they seemed to be going fancy rather than good, simple dishes </span><span style='background-color:rgba(200,101.20711326599121,0,.6)'> they didn't have an english menu, it was easy to understand even for my friend who doesn't speak french as it was part italian and part english </span><span style='background-color:rgba(200,89.07214522361755,0,.6)'> my pizza overall was okay, it was seasoned well however i did find the base to be a little too thick, and the cheese had a slight chewiness too it, but overall it was a pretty decent pizza </span><span style='background-color:rgba(200,43.74688535928726,0,.6)'> they had nice tables inside, the restauraunt and toilets were clean </span><span style='background-color:rgba(200,0.0,0,.6)'> as with the majority of restaurants in france, there is a good amount of outdoor seating too </span><span style='background-color:rgba(200,33.888998329639435,0,.6)'> * - no thrills but sometimes that's the price to pay for a safe gluten-free meal </span><span style='background-color:rgba(200,130.7697169482708,0,.6)'> although i'm unlikely to return, i wouldn't avoid this place either </span>"
      ],
      "text/plain": [
       "<IPython.core.display.HTML object>"
      ]
     },
     "metadata": {},
     "output_type": "display_data"
    },
    {
     "name": "stdout",
     "output_type": "stream",
     "text": [
      "--------------------------\n",
      "review with polarity =0.9651741981506348\n"
     ]
    },
    {
     "data": {
      "text/html": [
       "<span style='background-color:rgba(200,106.06497019529343,0,.6)'>my celiac wife and i were so happy to find many great food options in paris, but this was our favorite spot </span><span style='background-color:rgba(200,16.32111221551895,0,.6)'> pizza crust was so tasty and chewy, i honestly did a double take </span><span style='background-color:rgba(200,0.0,0,.6)'> my wife asked several times to make sure it was indeed gluten free </span><span style='background-color:rgba(200,42.11200028657913,0,.6)'> on another level from our options in the states </span><span style='background-color:rgba(200,132.47972398996353,0,.6)'> a wonderful spot that we'll revisit during our next trip to paris </span>"
      ],
      "text/plain": [
       "<IPython.core.display.HTML object>"
      ]
     },
     "metadata": {},
     "output_type": "display_data"
    },
    {
     "name": "stdout",
     "output_type": "stream",
     "text": [
      "--------------------------\n",
      "review with polarity =0.9651741981506348\n"
     ]
    },
    {
     "data": {
      "text/html": [
       "<span style='background-color:rgba(200,106.06497019529343,0,.6)'>my celiac wife and i were so happy to find many great food options in paris, but this was our favorite spot </span><span style='background-color:rgba(200,16.32111221551895,0,.6)'> pizza crust was so tasty and chewy, i honestly did a double take </span><span style='background-color:rgba(200,0.0,0,.6)'> my wife asked several times to make sure it was indeed gluten free </span><span style='background-color:rgba(200,42.11200028657913,0,.6)'> on another level from our options in the states </span><span style='background-color:rgba(200,132.47972398996353,0,.6)'> a wonderful spot that we'll revisit during our next trip to paris </span>"
      ],
      "text/plain": [
       "<IPython.core.display.HTML object>"
      ]
     },
     "metadata": {},
     "output_type": "display_data"
    },
    {
     "name": "stdout",
     "output_type": "stream",
     "text": [
      "--------------------------\n",
      "review with polarity =0.9764962792396545\n"
     ]
    },
    {
     "data": {
      "text/html": [
       "<span style='background-color:rgba(200,174.3023318052292,0,.6)'>omg this place was amazing </span><span style='background-color:rgba(200,35.68630188703537,0,.6)'> this was definitely the highlight of our paris trip, so much do that we ended up coming back a second night </span><span style='background-color:rgba(200,0.0,0,.6)'> it was amazing being able to get anything you wanted off the menu </span><span style='background-color:rgba(200,23.421076834201813,0,.6)'> we were especially excited up because able to get gf draft beer, which rarely happens anywhere </span><span style='background-color:rgba(200,115.12736231088638,0,.6)'> the first night we got pizzas, which were so good </span><span style='background-color:rgba(200,75.88270336389542,0,.6)'> the dough had a bit of chew to it even though it was gluten free </span><span style='background-color:rgba(200,107.69964247941971,0,.6)'> the nonnargherita was especially good with tons of cheese </span><span style='background-color:rgba(200,100.38232952356339,0,.6)'> the marco polo would have been amazing if they could have added dairy free cheese but it was still very good </span><span style='background-color:rgba(200,106.6242241859436,0,.6)'> the fritters mari e monti was probably the most disappointing part of the meal the first night as it was a little overdone so it was quite chewy </span><span style='background-color:rgba(200,94.88508850336075,0,.6)'> the tiramisu made up for it though </span><span style='background-color:rgba(200,133.50686967372894,0,.6)'> it was moist and decadent and was the perfect way to end the meal </span><span style='background-color:rgba(200,99.66859102249146,0,.6)'> the next time we tried the gnocchi, risotto and the burger </span><span style='background-color:rgba(200,139.04758036136627,0,.6)'> they were all very good, although my husband said the burger bun was s little dry (typical of gf) </span><span style='background-color:rgba(200,134.3676146864891,0,.6)'> the pasta and risotto were filling but not as good as the pizzas, so if you come in i highly recommend just sticking to those </span><span style='background-color:rgba(200,105.93404442071915,0,.6)'> i will definitely be back the next time i am in paris </span>"
      ],
      "text/plain": [
       "<IPython.core.display.HTML object>"
      ]
     },
     "metadata": {},
     "output_type": "display_data"
    },
    {
     "name": "stdout",
     "output_type": "stream",
     "text": [
      "--------------------------\n",
      "review with polarity =0.9764962792396545\n"
     ]
    },
    {
     "data": {
      "text/html": [
       "<span style='background-color:rgba(200,174.3023318052292,0,.6)'>omg this place was amazing </span><span style='background-color:rgba(200,35.68630188703537,0,.6)'> this was definitely the highlight of our paris trip, so much do that we ended up coming back a second night </span><span style='background-color:rgba(200,0.0,0,.6)'> it was amazing being able to get anything you wanted off the menu </span><span style='background-color:rgba(200,23.421076834201813,0,.6)'> we were especially excited up because able to get gf draft beer, which rarely happens anywhere </span><span style='background-color:rgba(200,115.12736231088638,0,.6)'> the first night we got pizzas, which were so good </span><span style='background-color:rgba(200,75.88270336389542,0,.6)'> the dough had a bit of chew to it even though it was gluten free </span><span style='background-color:rgba(200,107.69964247941971,0,.6)'> the nonnargherita was especially good with tons of cheese </span><span style='background-color:rgba(200,100.38232952356339,0,.6)'> the marco polo would have been amazing if they could have added dairy free cheese but it was still very good </span><span style='background-color:rgba(200,106.6242241859436,0,.6)'> the fritters mari e monti was probably the most disappointing part of the meal the first night as it was a little overdone so it was quite chewy </span><span style='background-color:rgba(200,94.88508850336075,0,.6)'> the tiramisu made up for it though </span><span style='background-color:rgba(200,133.50686967372894,0,.6)'> it was moist and decadent and was the perfect way to end the meal </span><span style='background-color:rgba(200,99.66859102249146,0,.6)'> the next time we tried the gnocchi, risotto and the burger </span><span style='background-color:rgba(200,139.04758036136627,0,.6)'> they were all very good, although my husband said the burger bun was s little dry (typical of gf) </span><span style='background-color:rgba(200,134.3676146864891,0,.6)'> the pasta and risotto were filling but not as good as the pizzas, so if you come in i highly recommend just sticking to those </span><span style='background-color:rgba(200,105.93404442071915,0,.6)'> i will definitely be back the next time i am in paris </span>"
      ],
      "text/plain": [
       "<IPython.core.display.HTML object>"
      ]
     },
     "metadata": {},
     "output_type": "display_data"
    },
    {
     "name": "stdout",
     "output_type": "stream",
     "text": [
      "--------------------------\n",
      "review with polarity =0.9661061763763428\n"
     ]
    },
    {
     "data": {
      "text/html": [
       "<span style='background-color:rgba(200,157.8627571463585,0,.6)'>on our recent trip to paris, we ate here times in days </span><span style='background-color:rgba(200,43.6326938867569,0,.6)'> my wife is gluten free, my daughter and i are not, but it doesn't matter </span><span style='background-color:rgba(200,143.57772767543793,0,.6)'> as others have said, you would never know the pizza crust was gf </span><span style='background-color:rgba(200,9.377167224884033,0,.6)'> overall the food was very good </span><span style='background-color:rgba(200,0.0,0,.6)'> my only suggestion for improvement would be to add more vegetarian options to the pizza menu </span><span style='background-color:rgba(200,105.87820261716843,0,.6)'> nevertheless,  s </span>"
      ],
      "text/plain": [
       "<IPython.core.display.HTML object>"
      ]
     },
     "metadata": {},
     "output_type": "display_data"
    },
    {
     "name": "stdout",
     "output_type": "stream",
     "text": [
      "--------------------------\n",
      "review with polarity =0.9661061763763428\n"
     ]
    },
    {
     "data": {
      "text/html": [
       "<span style='background-color:rgba(200,157.8627571463585,0,.6)'>on our recent trip to paris, we ate here times in days </span><span style='background-color:rgba(200,43.6326938867569,0,.6)'> my wife is gluten free, my daughter and i are not, but it doesn't matter </span><span style='background-color:rgba(200,143.57772767543793,0,.6)'> as others have said, you would never know the pizza crust was gf </span><span style='background-color:rgba(200,9.377167224884033,0,.6)'> overall the food was very good </span><span style='background-color:rgba(200,0.0,0,.6)'> my only suggestion for improvement would be to add more vegetarian options to the pizza menu </span><span style='background-color:rgba(200,105.87820261716843,0,.6)'> nevertheless,  s </span>"
      ],
      "text/plain": [
       "<IPython.core.display.HTML object>"
      ]
     },
     "metadata": {},
     "output_type": "display_data"
    },
    {
     "name": "stdout",
     "output_type": "stream",
     "text": [
      "--------------------------\n",
      "review with polarity =0.9661061763763428\n"
     ]
    },
    {
     "data": {
      "text/html": [
       "<span style='background-color:rgba(200,157.8627571463585,0,.6)'>on our recent trip to paris, we ate here times in days </span><span style='background-color:rgba(200,43.6326938867569,0,.6)'> my wife is gluten free, my daughter and i are not, but it doesn't matter </span><span style='background-color:rgba(200,143.57772767543793,0,.6)'> as others have said, you would never know the pizza crust was gf </span><span style='background-color:rgba(200,9.377167224884033,0,.6)'> overall the food was very good </span><span style='background-color:rgba(200,0.0,0,.6)'> my only suggestion for improvement would be to add more vegetarian options to the pizza menu </span><span style='background-color:rgba(200,105.87820261716843,0,.6)'> nevertheless,  s </span>"
      ],
      "text/plain": [
       "<IPython.core.display.HTML object>"
      ]
     },
     "metadata": {},
     "output_type": "display_data"
    },
    {
     "name": "stdout",
     "output_type": "stream",
     "text": [
      "--------------------------\n",
      "review with polarity =0.9752357006072998\n"
     ]
    },
    {
     "data": {
      "text/html": [
       "<span style='background-color:rgba(200,87.56649881601334,0,.6)'>terrific food, nice atmosphere and a friendly team serving us </span><span style='background-color:rgba(200,0.0,0,.6)'> can't say enough good things about this % gf italian restaurant </span><span style='background-color:rgba(200,21.0022634267807,0,.6)'> the pizza is fantastic </span><span style='background-color:rgba(200,26.34632706642151,0,.6)'> the deep fried calamari is great </span><span style='background-color:rgba(200,84.85681861639023,0,.6)'> the bruschetta was great </span><span style='background-color:rgba(200,13.845301866531372,0,.6)'> and the profiteroles were excellent </span><span style='background-color:rgba(200,74.99461501836777,0,.6)'> really an all round great restaurant </span><span style='background-color:rgba(200,58.61636906862259,0,.6)'> can't wait to return </span>"
      ],
      "text/plain": [
       "<IPython.core.display.HTML object>"
      ]
     },
     "metadata": {},
     "output_type": "display_data"
    },
    {
     "name": "stdout",
     "output_type": "stream",
     "text": [
      "--------------------------\n",
      "review with polarity =1.0\n"
     ]
    },
    {
     "data": {
      "text/html": [
       "<span style='background-color:rgba(200,255.0,0,.6)'>the pizza was absolutely delicious and it was such a treat to order anything and know it would be gluten free </span>"
      ],
      "text/plain": [
       "<IPython.core.display.HTML object>"
      ]
     },
     "metadata": {},
     "output_type": "display_data"
    },
    {
     "name": "stdout",
     "output_type": "stream",
     "text": [
      "--------------------------\n",
      "review with polarity =0.9757619500160217\n"
     ]
    },
    {
     "data": {
      "text/html": [
       "<span style='background-color:rgba(200,61.27493441104889,0,.6)'>they we're extremely welcoming, sat us right away </span><span style='background-color:rgba(200,32.89051830768585,0,.6)'> very kind, could easily tell that we didn't speak french so they gave us the english menu and said if we had any questions to just ask </span><span style='background-color:rgba(200,41.45384520292282,0,.6)'> our waitress helped us pick a sweet wine that paired nicely with the meal </span><span style='background-color:rgba(200,40.11528342962265,0,.6)'> cool atmosphere, with optional indoor or outside seating </span><span style='background-color:rgba(200,0.0,0,.6)'> unlike other places that turn you away early if it was within the closing mark, forty-five minutes, they didn't and they closed in twenty four minutes </span><span style='background-color:rgba(200,154.32980552315712,0,.6)'> husband loved his pizza, even though the penne bolognese was yummy i did like his pizza better </span><span style='background-color:rgba(200,71.41719818115234,0,.6)'> thank you for having us and we will definitely be recommending you to our friends </span><span style='background-color:rgba(200,76.37646406888962,0,.6)'> :) </span>"
      ],
      "text/plain": [
       "<IPython.core.display.HTML object>"
      ]
     },
     "metadata": {},
     "output_type": "display_data"
    },
    {
     "name": "stdout",
     "output_type": "stream",
     "text": [
      "--------------------------\n",
      "review with polarity =0.9643253087997437\n"
     ]
    },
    {
     "data": {
      "text/html": [
       "<span style='background-color:rgba(200,184.04386147856712,0,.6)'>this is substantially the best gluten free anything i've ever had </span><span style='background-color:rgba(200,50.8376544713974,0,.6)'> the pizza crust has elasticity, bite </span><span style='background-color:rgba(200,49.83269959688187,0,.6)'> everything </span><span style='background-color:rgba(200,0.0,0,.6)'> the staff is also very friendly and accommodating to english speakers </span><span style='background-color:rgba(200,30.171414613723755,0,.6)'> i highly recommend </span>"
      ],
      "text/plain": [
       "<IPython.core.display.HTML object>"
      ]
     },
     "metadata": {},
     "output_type": "display_data"
    },
    {
     "name": "stdout",
     "output_type": "stream",
     "text": [
      "--------------------------\n",
      "review with polarity =0.9643253087997437\n"
     ]
    },
    {
     "data": {
      "text/html": [
       "<span style='background-color:rgba(200,184.04386147856712,0,.6)'>this is substantially the best gluten free anything i've ever had </span><span style='background-color:rgba(200,50.8376544713974,0,.6)'> the pizza crust has elasticity, bite </span><span style='background-color:rgba(200,49.83269959688187,0,.6)'> everything </span><span style='background-color:rgba(200,0.0,0,.6)'> the staff is also very friendly and accommodating to english speakers </span><span style='background-color:rgba(200,30.171414613723755,0,.6)'> i highly recommend </span>"
      ],
      "text/plain": [
       "<IPython.core.display.HTML object>"
      ]
     },
     "metadata": {},
     "output_type": "display_data"
    },
    {
     "name": "stdout",
     "output_type": "stream",
     "text": [
      "--------------------------\n",
      "review with polarity =0.971210777759552\n"
     ]
    },
    {
     "data": {
      "text/html": [
       "<span style='background-color:rgba(200,220.54580099880695,0,.6)'>this little gem is a gluten-free eater's paradise </span><span style='background-color:rgba(200,0.0,0,.6)'> since moving to southern france with allergies to wheat, barley, and rye, i have been disappointed time and time again by the utter lack of gluten free options available there </span><span style='background-color:rgba(200,5.472207963466644,0,.6)'> whenever i find myself in paris, i make a point of eating here at least twice a trip </span><span style='background-color:rgba(200,16.059519052505493,0,.6)'> unlike most gluten-free cuisine, you would never guess you were eating anything but a wheat crust, plus their appetizers and wine selections are outstanding </span><span style='background-color:rgba(200,76.88166975975037,0,.6)'> while i normally struggle to clear my plate, that's never an issue here </span><span style='background-color:rgba(200,180.2276350557804,0,.6)'> gluten-free or not, little nonna's will not disappoint </span>"
      ],
      "text/plain": [
       "<IPython.core.display.HTML object>"
      ]
     },
     "metadata": {},
     "output_type": "display_data"
    },
    {
     "name": "stdout",
     "output_type": "stream",
     "text": [
      "--------------------------\n",
      "review with polarity =0.971210777759552\n"
     ]
    },
    {
     "data": {
      "text/html": [
       "<span style='background-color:rgba(200,220.54580099880695,0,.6)'>this little gem is a gluten-free eater's paradise </span><span style='background-color:rgba(200,0.0,0,.6)'> since moving to southern france with allergies to wheat, barley, and rye, i have been disappointed time and time again by the utter lack of gluten free options available there </span><span style='background-color:rgba(200,5.472207963466644,0,.6)'> whenever i find myself in paris, i make a point of eating here at least twice a trip </span><span style='background-color:rgba(200,16.059519052505493,0,.6)'> unlike most gluten-free cuisine, you would never guess you were eating anything but a wheat crust, plus their appetizers and wine selections are outstanding </span><span style='background-color:rgba(200,76.88166975975037,0,.6)'> while i normally struggle to clear my plate, that's never an issue here </span><span style='background-color:rgba(200,180.2276350557804,0,.6)'> gluten-free or not, little nonna's will not disappoint </span>"
      ],
      "text/plain": [
       "<IPython.core.display.HTML object>"
      ]
     },
     "metadata": {},
     "output_type": "display_data"
    },
    {
     "name": "stdout",
     "output_type": "stream",
     "text": [
      "--------------------------\n",
      "review with polarity =0.971210777759552\n"
     ]
    },
    {
     "data": {
      "text/html": [
       "<span style='background-color:rgba(200,220.54580099880695,0,.6)'>this little gem is a gluten-free eater's paradise </span><span style='background-color:rgba(200,0.0,0,.6)'> since moving to southern france with allergies to wheat, barley, and rye, i have been disappointed time and time again by the utter lack of gluten free options available there </span><span style='background-color:rgba(200,5.472207963466644,0,.6)'> whenever i find myself in paris, i make a point of eating here at least twice a trip </span><span style='background-color:rgba(200,16.059519052505493,0,.6)'> unlike most gluten-free cuisine, you would never guess you were eating anything but a wheat crust, plus their appetizers and wine selections are outstanding </span><span style='background-color:rgba(200,76.88166975975037,0,.6)'> while i normally struggle to clear my plate, that's never an issue here </span><span style='background-color:rgba(200,180.2276350557804,0,.6)'> gluten-free or not, little nonna's will not disappoint </span>"
      ],
      "text/plain": [
       "<IPython.core.display.HTML object>"
      ]
     },
     "metadata": {},
     "output_type": "display_data"
    },
    {
     "name": "stdout",
     "output_type": "stream",
     "text": [
      "--------------------------\n",
      "review with polarity =0.9795916080474854\n"
     ]
    },
    {
     "data": {
      "text/html": [
       "<span style='background-color:rgba(200,181.61591336131096,0,.6)'>this may be my favorite restaurant on earth, and the next time i am in paris i will be sure to stay within walking distance </span><span style='background-color:rgba(200,41.57169967889786,0,.6)'> i went there times in week on my last trip </span><span style='background-color:rgba(200,117.77939200401306,0,.6)'> the pizza was amazing--the best gf pizza you can find </span><span style='background-color:rgba(200,99.52906250953674,0,.6)'> the gnocchi made me want to crawl up in the bowl and take a nap in it </span><span style='background-color:rgba(200,106.93158209323883,0,.6)'> the charcuterie board was generously portioned and superb </span><span style='background-color:rgba(200,109.41096425056458,0,.6)'> the caesar salad was crisp and fresh (if i order it again, i will get it without dressing, or with the dressing) </span><span style='background-color:rgba(200,88.98921847343445,0,.6)'> i certainly didn't need another reason to visit paris, but i just found one </span><span style='background-color:rgba(200,0.0,0,.6)'> some people go there to fall in love </span><span style='background-color:rgba(200,157.98285350203514,0,.6)'>i just fell for a restaurant </span>"
      ],
      "text/plain": [
       "<IPython.core.display.HTML object>"
      ]
     },
     "metadata": {},
     "output_type": "display_data"
    },
    {
     "name": "stdout",
     "output_type": "stream",
     "text": [
      "--------------------------\n",
      "review with polarity =0.9706642627716064\n"
     ]
    },
    {
     "data": {
      "text/html": [
       "<span style='background-color:rgba(200,187.25871697068214,0,.6)'>this place has the best gluten free pizza crust i've ever eaten </span><span style='background-color:rgba(200,7.065629661083221,0,.6)'> i got the diabolo and it was good but a little spicy </span><span style='background-color:rgba(200,45.53154319524765,0,.6)'> the four cheese was good to </span><span style='background-color:rgba(200,0.0,0,.6)'> excellent pizza </span><span style='background-color:rgba(200,90.53222447633743,0,.6)'> for desert we got tiramisu, cheesecake and figuissmo which were all great too </span><span style='background-color:rgba(200,19.213517010211945,0,.6)'> if you eat gluten free you have to eat here </span>"
      ],
      "text/plain": [
       "<IPython.core.display.HTML object>"
      ]
     },
     "metadata": {},
     "output_type": "display_data"
    },
    {
     "name": "stdout",
     "output_type": "stream",
     "text": [
      "--------------------------\n",
      "review with polarity =0.9706642627716064\n"
     ]
    },
    {
     "data": {
      "text/html": [
       "<span style='background-color:rgba(200,187.25871697068214,0,.6)'>this place has the best gluten free pizza crust i've ever eaten </span><span style='background-color:rgba(200,7.065629661083221,0,.6)'> i got the diabolo and it was good but a little spicy </span><span style='background-color:rgba(200,45.53154319524765,0,.6)'> the four cheese was good to </span><span style='background-color:rgba(200,0.0,0,.6)'> excellent pizza </span><span style='background-color:rgba(200,90.53222447633743,0,.6)'> for desert we got tiramisu, cheesecake and figuissmo which were all great too </span><span style='background-color:rgba(200,19.213517010211945,0,.6)'> if you eat gluten free you have to eat here </span>"
      ],
      "text/plain": [
       "<IPython.core.display.HTML object>"
      ]
     },
     "metadata": {},
     "output_type": "display_data"
    },
    {
     "name": "stdout",
     "output_type": "stream",
     "text": [
      "--------------------------\n",
      "review with polarity =0.9706642627716064\n"
     ]
    },
    {
     "data": {
      "text/html": [
       "<span style='background-color:rgba(200,187.25871697068214,0,.6)'>this place has the best gluten free pizza crust i've ever eaten </span><span style='background-color:rgba(200,7.065629661083221,0,.6)'> i got the diabolo and it was good but a little spicy </span><span style='background-color:rgba(200,45.53154319524765,0,.6)'> the four cheese was good to </span><span style='background-color:rgba(200,0.0,0,.6)'> excellent pizza </span><span style='background-color:rgba(200,90.53222447633743,0,.6)'> for desert we got tiramisu, cheesecake and figuissmo which were all great too </span><span style='background-color:rgba(200,19.213517010211945,0,.6)'> if you eat gluten free you have to eat here </span>"
      ],
      "text/plain": [
       "<IPython.core.display.HTML object>"
      ]
     },
     "metadata": {},
     "output_type": "display_data"
    },
    {
     "name": "stdout",
     "output_type": "stream",
     "text": [
      "--------------------------\n",
      "review with polarity =0.0\n"
     ]
    },
    {
     "data": {
      "text/html": [
       "<span style='background-color:rgba(200,255.0,0,.6)'>this restaurant is a quick walk from the arc </span><span style='background-color:rgba(200,255.0,0,.6)'> we did not have reservations and waited only minutes to be seated </span><span style='background-color:rgba(200,255.0,0,.6)'> we ordered the pizza with mushrooms and an order of pasta w meatballs </span><span style='background-color:rgba(200,255.0,0,.6)'> the pizza was great and couldn't even tell it was gluten free </span><span style='background-color:rgba(200,255.0,0,.6)'> the pasta was super bland </span><span style='background-color:rgba(200,255.0,0,.6)'> it tasted like cardboard - definitely skip this </span><span style='background-color:rgba(200,255.0,0,.6)'> the hostess took forever to get to our table and take our order </span><span style='background-color:rgba(200,255.0,0,.6)'>  i would go back here and just order the pizza  </span>"
      ],
      "text/plain": [
       "<IPython.core.display.HTML object>"
      ]
     },
     "metadata": {},
     "output_type": "display_data"
    },
    {
     "name": "stdout",
     "output_type": "stream",
     "text": [
      "--------------------------\n",
      "review with polarity =0.0\n"
     ]
    },
    {
     "data": {
      "text/html": [
       "<span style='background-color:rgba(200,255.0,0,.6)'>this restaurant is a quick walk from the arc </span><span style='background-color:rgba(200,255.0,0,.6)'> we did not have reservations and waited only minutes to be seated </span><span style='background-color:rgba(200,255.0,0,.6)'> we ordered the pizza with mushrooms and an order of pasta w meatballs </span><span style='background-color:rgba(200,255.0,0,.6)'> the pizza was great and couldn't even tell it was gluten free </span><span style='background-color:rgba(200,255.0,0,.6)'> the pasta was super bland </span><span style='background-color:rgba(200,255.0,0,.6)'> it tasted like cardboard - definitely skip this </span><span style='background-color:rgba(200,255.0,0,.6)'> the hostess took forever to get to our table and take our order </span><span style='background-color:rgba(200,255.0,0,.6)'>  i would go back here and just order the pizza  </span>"
      ],
      "text/plain": [
       "<IPython.core.display.HTML object>"
      ]
     },
     "metadata": {},
     "output_type": "display_data"
    },
    {
     "name": "stdout",
     "output_type": "stream",
     "text": [
      "--------------------------\n",
      "review with polarity =0.0\n"
     ]
    },
    {
     "data": {
      "text/html": [
       "<span style='background-color:rgba(200,255.0,0,.6)'>this restaurant is a quick walk from the arc </span><span style='background-color:rgba(200,255.0,0,.6)'> we did not have reservations and waited only minutes to be seated </span><span style='background-color:rgba(200,255.0,0,.6)'> we ordered the pizza with mushrooms and an order of pasta w meatballs </span><span style='background-color:rgba(200,255.0,0,.6)'> the pizza was great and couldn't even tell it was gluten free </span><span style='background-color:rgba(200,255.0,0,.6)'> the pasta was super bland </span><span style='background-color:rgba(200,255.0,0,.6)'> it tasted like cardboard - definitely skip this </span><span style='background-color:rgba(200,255.0,0,.6)'> the hostess took forever to get to our table and take our order </span><span style='background-color:rgba(200,255.0,0,.6)'>  i would go back here and just order the pizza  </span>"
      ],
      "text/plain": [
       "<IPython.core.display.HTML object>"
      ]
     },
     "metadata": {},
     "output_type": "display_data"
    },
    {
     "name": "stdout",
     "output_type": "stream",
     "text": [
      "--------------------------\n",
      "review with polarity =0.9717645049095154\n"
     ]
    },
    {
     "data": {
      "text/html": [
       "<span style='background-color:rgba(200,139.64702859520912,0,.6)'>we travel extensively and this is the best % gluten free restaurant we have ever been to </span><span style='background-color:rgba(200,75.23909389972687,0,.6)'> the pizza is by far the best - they have managed to make the crust soft and chewy and the bread for the bruschetta was thick, soft on the inside and crisp perfection on the outside </span><span style='background-color:rgba(200,54.113808274269104,0,.6)'> i wanted to cry - it was like eating regular bread </span><span style='background-color:rgba(200,75.06802707910538,0,.6)'> we also had the duck, which was cooked perfectly and full of rich flavors </span><span style='background-color:rgba(200,70.88753700256348,0,.6)'> in addition to the food, the atmosphere is delightful </span><span style='background-color:rgba(200,0.0,0,.6)'> not too loud </span><span style='background-color:rgba(200,112.4299630522728,0,.6)'> cozy, with wonderful background music </span><span style='background-color:rgba(200,63.730590641498566,0,.6)'> we are only in paris a few days but will for sure be back here again </span>"
      ],
      "text/plain": [
       "<IPython.core.display.HTML object>"
      ]
     },
     "metadata": {},
     "output_type": "display_data"
    },
    {
     "name": "stdout",
     "output_type": "stream",
     "text": [
      "--------------------------\n",
      "review with polarity =0.9717645049095154\n"
     ]
    },
    {
     "data": {
      "text/html": [
       "<span style='background-color:rgba(200,139.64702859520912,0,.6)'>we travel extensively and this is the best % gluten free restaurant we have ever been to </span><span style='background-color:rgba(200,75.23909389972687,0,.6)'> the pizza is by far the best - they have managed to make the crust soft and chewy and the bread for the bruschetta was thick, soft on the inside and crisp perfection on the outside </span><span style='background-color:rgba(200,54.113808274269104,0,.6)'> i wanted to cry - it was like eating regular bread </span><span style='background-color:rgba(200,75.06802707910538,0,.6)'> we also had the duck, which was cooked perfectly and full of rich flavors </span><span style='background-color:rgba(200,70.88753700256348,0,.6)'> in addition to the food, the atmosphere is delightful </span><span style='background-color:rgba(200,0.0,0,.6)'> not too loud </span><span style='background-color:rgba(200,112.4299630522728,0,.6)'> cozy, with wonderful background music </span><span style='background-color:rgba(200,63.730590641498566,0,.6)'> we are only in paris a few days but will for sure be back here again </span>"
      ],
      "text/plain": [
       "<IPython.core.display.HTML object>"
      ]
     },
     "metadata": {},
     "output_type": "display_data"
    },
    {
     "name": "stdout",
     "output_type": "stream",
     "text": [
      "--------------------------\n"
     ]
    }
   ],
   "source": [
    "for r,pol in zip(result1.loc['little-nonna-paris','reviews_heatmaps_html'],result1.loc['little-nonna-paris','reviews_heatmaps_polarity']):\n",
    "    print(f'review with polarity ={pol}')\n",
    "    display(HTML(r))\n",
    "    print('--------------------------')"
   ]
  },
  {
   "cell_type": "code",
   "execution_count": 71,
   "id": "5f324628",
   "metadata": {
    "ExecuteTime": {
     "end_time": "2021-12-02T19:59:43.117710Z",
     "start_time": "2021-12-02T19:59:42.992129Z"
    }
   },
   "outputs": [],
   "source": [
    "result1.to_csv('query_1.csv')"
   ]
  },
  {
   "cell_type": "markdown",
   "id": "a50aa553",
   "metadata": {},
   "source": [
    "## 2eme phrase"
   ]
  },
  {
   "cell_type": "code",
   "execution_count": 72,
   "id": "f0342edd",
   "metadata": {
    "ExecuteTime": {
     "end_time": "2021-12-02T20:05:26.172982Z",
     "start_time": "2021-12-02T20:05:12.237774Z"
    }
   },
   "outputs": [],
   "source": [
    "#creating one query_dataset per sentence\n",
    "# First sentence\n",
    "query_2 = 'I want to eat a traditional french meal with music'\n",
    "dataset_query_2 = creating_query_dataset(embedding=embedding,reviews_dataset=reviews_dataset,query=query_2,n_prox=n_prox,min_review=min_review,n_best=n_best)"
   ]
  },
  {
   "cell_type": "code",
   "execution_count": 73,
   "id": "1039229e",
   "metadata": {
    "ExecuteTime": {
     "end_time": "2021-12-02T20:05:26.348552Z",
     "start_time": "2021-12-02T20:05:26.179946Z"
    }
   },
   "outputs": [],
   "source": [
    "#filtering only reviews that poped up in our cosim query\n",
    "dataset_query_2 = dataset_query_2[(dataset_query_2['is_sim']==1)&(dataset_query_2['is_in_summary']==1)]"
   ]
  },
  {
   "cell_type": "code",
   "execution_count": 74,
   "id": "0cb15b32",
   "metadata": {
    "ExecuteTime": {
     "end_time": "2021-12-02T20:05:26.416817Z",
     "start_time": "2021-12-02T20:05:26.350724Z"
    }
   },
   "outputs": [
    {
     "data": {
      "text/plain": [
       "(116, 24)"
      ]
     },
     "execution_count": 74,
     "metadata": {},
     "output_type": "execute_result"
    }
   ],
   "source": [
    "dataset_query_2.shape"
   ]
  },
  {
   "cell_type": "code",
   "execution_count": 75,
   "id": "3fed4c0a",
   "metadata": {
    "ExecuteTime": {
     "end_time": "2021-12-02T20:05:33.894311Z",
     "start_time": "2021-12-02T20:05:32.194858Z"
    }
   },
   "outputs": [],
   "source": [
    "#Applying heatmap functions\n",
    "dataset_query_2['reviews_heatmaps_html'] = dataset_query_2.apply(apply_heatmap_html,axis=1)\n",
    "dataset_query_2['reviews_heatmaps_polarity'] = dataset_query_2.apply(apply_heatmap_polarity,axis=1)"
   ]
  },
  {
   "cell_type": "code",
   "execution_count": 76,
   "id": "02f08f7b",
   "metadata": {
    "ExecuteTime": {
     "end_time": "2021-12-02T20:05:43.216488Z",
     "start_time": "2021-12-02T20:05:43.135693Z"
    }
   },
   "outputs": [],
   "source": [
    "result2=viking(dataset_query_2)"
   ]
  },
  {
   "cell_type": "code",
   "execution_count": 86,
   "id": "45581a84",
   "metadata": {
    "ExecuteTime": {
     "end_time": "2021-12-02T20:02:12.922877Z",
     "start_time": "2021-12-02T20:02:12.842055Z"
    }
   },
   "outputs": [],
   "source": [
    "result2.to_csv('query_2.csv')"
   ]
  },
  {
   "cell_type": "markdown",
   "id": "6d699092",
   "metadata": {},
   "source": [
    "## 3eme phrase"
   ]
  },
  {
   "cell_type": "code",
   "execution_count": null,
   "id": "bd6bda21",
   "metadata": {},
   "outputs": [],
   "source": []
  },
  {
   "cell_type": "code",
   "execution_count": 79,
   "id": "a2829c10",
   "metadata": {
    "ExecuteTime": {
     "end_time": "2021-12-02T20:05:26.172982Z",
     "start_time": "2021-12-02T20:05:12.237774Z"
    }
   },
   "outputs": [],
   "source": [
    "#creating one query_dataset per sentence\n",
    "# First sentence\n",
    "query_3 = 'I want to eat lasagnas without meat'\n",
    "dataset_query_3 = creating_query_dataset(embedding=embedding,reviews_dataset=reviews_dataset,query=query_3,n_prox=n_prox,min_review=min_review,n_best=n_best)"
   ]
  },
  {
   "cell_type": "code",
   "execution_count": 80,
   "id": "150b7a94",
   "metadata": {
    "ExecuteTime": {
     "end_time": "2021-12-02T20:05:26.348552Z",
     "start_time": "2021-12-02T20:05:26.179946Z"
    }
   },
   "outputs": [],
   "source": [
    "#filtering only reviews that poped up in our cosim query\n",
    "dataset_query_3 = dataset_query_3[(dataset_query_3['is_sim']==1)&(dataset_query_3['is_in_summary']==1)]"
   ]
  },
  {
   "cell_type": "code",
   "execution_count": 81,
   "id": "eb3472f2",
   "metadata": {
    "ExecuteTime": {
     "end_time": "2021-12-02T20:05:26.416817Z",
     "start_time": "2021-12-02T20:05:26.350724Z"
    }
   },
   "outputs": [
    {
     "data": {
      "text/plain": [
       "(261, 24)"
      ]
     },
     "execution_count": 81,
     "metadata": {},
     "output_type": "execute_result"
    }
   ],
   "source": [
    "dataset_query_3.shape"
   ]
  },
  {
   "cell_type": "code",
   "execution_count": 82,
   "id": "253f9c7d",
   "metadata": {
    "ExecuteTime": {
     "end_time": "2021-12-02T20:05:33.894311Z",
     "start_time": "2021-12-02T20:05:32.194858Z"
    }
   },
   "outputs": [],
   "source": [
    "#Applying heatmap functions\n",
    "dataset_query_3['reviews_heatmaps_html'] = dataset_query_3.apply(apply_heatmap_html,axis=1)\n",
    "dataset_query_3['reviews_heatmaps_polarity'] = dataset_query_3.apply(apply_heatmap_polarity,axis=1)"
   ]
  },
  {
   "cell_type": "code",
   "execution_count": 83,
   "id": "a622f6c7",
   "metadata": {
    "ExecuteTime": {
     "end_time": "2021-12-02T20:05:43.216488Z",
     "start_time": "2021-12-02T20:05:43.135693Z"
    }
   },
   "outputs": [],
   "source": [
    "result3=viking(dataset_query_3)"
   ]
  },
  {
   "cell_type": "code",
   "execution_count": 85,
   "id": "a8c850c6",
   "metadata": {
    "ExecuteTime": {
     "end_time": "2021-12-02T20:02:08.426650Z",
     "start_time": "2021-12-02T20:02:08.339628Z"
    }
   },
   "outputs": [],
   "source": [
    "result3.to_csv('query3.csv')"
   ]
  },
  {
   "cell_type": "code",
   "execution_count": 104,
   "id": "bf8fecfe",
   "metadata": {
    "ExecuteTime": {
     "end_time": "2021-12-02T20:48:54.091073Z",
     "start_time": "2021-12-02T20:48:53.957174Z"
    }
   },
   "outputs": [
    {
     "data": {
      "text/html": [
       "<div>\n",
       "<style scoped>\n",
       "    .dataframe tbody tr th:only-of-type {\n",
       "        vertical-align: middle;\n",
       "    }\n",
       "\n",
       "    .dataframe tbody tr th {\n",
       "        vertical-align: top;\n",
       "    }\n",
       "\n",
       "    .dataframe thead th {\n",
       "        text-align: right;\n",
       "    }\n",
       "</style>\n",
       "<table border=\"1\" class=\"dataframe\">\n",
       "  <thead>\n",
       "    <tr style=\"text-align: right;\">\n",
       "      <th></th>\n",
       "      <th>review_clean</th>\n",
       "      <th>nb_sentences</th>\n",
       "      <th>nb_review</th>\n",
       "      <th>metric sim_ratio</th>\n",
       "      <th>rate_filtered_y</th>\n",
       "      <th>reviews_heatmaps_html</th>\n",
       "      <th>reviews_heatmaps_polarity</th>\n",
       "    </tr>\n",
       "    <tr>\n",
       "      <th>alias</th>\n",
       "      <th></th>\n",
       "      <th></th>\n",
       "      <th></th>\n",
       "      <th></th>\n",
       "      <th></th>\n",
       "      <th></th>\n",
       "      <th></th>\n",
       "    </tr>\n",
       "  </thead>\n",
       "  <tbody>\n",
       "    <tr>\n",
       "      <th>east-side-burgers-paris</th>\n",
       "      <td>[came here the other day with some friends. i ...</td>\n",
       "      <td>13.0</td>\n",
       "      <td>9.0</td>\n",
       "      <td>0.162199</td>\n",
       "      <td>3.769231</td>\n",
       "      <td>[&lt;span style='background-color:rgba(200,255.0,...</td>\n",
       "      <td>[0.0, 0.0, 0.972322940826416, 0.0, 0.0, 0.9736...</td>\n",
       "    </tr>\n",
       "    <tr>\n",
       "      <th>hank-paris-2</th>\n",
       "      <td>[% vegan. there are choices of burgers, extra ...</td>\n",
       "      <td>69.0</td>\n",
       "      <td>58.0</td>\n",
       "      <td>0.159676</td>\n",
       "      <td>4.666667</td>\n",
       "      <td>[&lt;span style='background-color:rgba(200,155.53...</td>\n",
       "      <td>[0.9768351912498474, 0.0, 0.9708529114723206, ...</td>\n",
       "    </tr>\n",
       "    <tr>\n",
       "      <th>jardin-des-pâtes-paris-2</th>\n",
       "      <td>[delightful pasta place in the latin quarter. ...</td>\n",
       "      <td>7.0</td>\n",
       "      <td>7.0</td>\n",
       "      <td>0.127711</td>\n",
       "      <td>3.428571</td>\n",
       "      <td>[&lt;span style='background-color:rgba(200,186.50...</td>\n",
       "      <td>[0.9703953862190247, 0.9770104289054871, 0.985...</td>\n",
       "    </tr>\n",
       "    <tr>\n",
       "      <th>le-grenier-de-notre-dame-paris</th>\n",
       "      <td>[*blush* this place is like walking down the s...</td>\n",
       "      <td>32.0</td>\n",
       "      <td>24.0</td>\n",
       "      <td>0.164899</td>\n",
       "      <td>4.312500</td>\n",
       "      <td>[&lt;span style='background-color:rgba(200,255.0,...</td>\n",
       "      <td>[0.0, 0.0, 0.9765569567680359, 0.9765569567680...</td>\n",
       "    </tr>\n",
       "    <tr>\n",
       "      <th>le-potager-du-marais-paris</th>\n",
       "      <td>[a vegetarian's boeuf bourguignon dream come t...</td>\n",
       "      <td>64.0</td>\n",
       "      <td>43.0</td>\n",
       "      <td>0.169082</td>\n",
       "      <td>4.250000</td>\n",
       "      <td>[&lt;span style='background-color:rgba(200,146.68...</td>\n",
       "      <td>[0.9954218864440918, 0.9547789692878723, 0.964...</td>\n",
       "    </tr>\n",
       "    <tr>\n",
       "      <th>massawa-paris</th>\n",
       "      <td>[delicious, simple, inexpensive. i had the veg...</td>\n",
       "      <td>4.0</td>\n",
       "      <td>3.0</td>\n",
       "      <td>0.129295</td>\n",
       "      <td>5.000000</td>\n",
       "      <td>[&lt;span style='background-color:rgba(200,157.01...</td>\n",
       "      <td>[0.9761936068534851, 0.9761936068534851, 0.974...</td>\n",
       "    </tr>\n",
       "    <tr>\n",
       "      <th>soya-paris</th>\n",
       "      <td>[. stars i get lost a lot. i don't usually use...</td>\n",
       "      <td>22.0</td>\n",
       "      <td>17.0</td>\n",
       "      <td>0.157692</td>\n",
       "      <td>4.409091</td>\n",
       "      <td>[&lt;span style='background-color:rgba(200,181.18...</td>\n",
       "      <td>[0.9808386564254761, 0.9803980588912964, 0.969...</td>\n",
       "    </tr>\n",
       "    <tr>\n",
       "      <th>tamarind-paris</th>\n",
       "      <td>[a perfect date night romantic dinner spot wit...</td>\n",
       "      <td>10.0</td>\n",
       "      <td>9.0</td>\n",
       "      <td>0.114659</td>\n",
       "      <td>4.600000</td>\n",
       "      <td>[&lt;span style='background-color:rgba(200,166.18...</td>\n",
       "      <td>[0.9715473055839539, 0.9714557528495789, 0.971...</td>\n",
       "    </tr>\n",
       "    <tr>\n",
       "      <th>tien-hiang-paris-2</th>\n",
       "      <td>[after days of eating food meant for carnivore...</td>\n",
       "      <td>20.0</td>\n",
       "      <td>16.0</td>\n",
       "      <td>0.232053</td>\n",
       "      <td>4.650000</td>\n",
       "      <td>[&lt;span style='background-color:rgba(200,147.59...</td>\n",
       "      <td>[0.9732578992843628, 0.9783346056938171, 0.976...</td>\n",
       "    </tr>\n",
       "    <tr>\n",
       "      <th>végét-halles-paris</th>\n",
       "      <td>[been in paris a few days and had my best vege...</td>\n",
       "      <td>20.0</td>\n",
       "      <td>16.0</td>\n",
       "      <td>0.160915</td>\n",
       "      <td>4.450000</td>\n",
       "      <td>[&lt;span style='background-color:rgba(200,132.54...</td>\n",
       "      <td>[0.9599137306213379, 0.9774571061134338, 0.978...</td>\n",
       "    </tr>\n",
       "  </tbody>\n",
       "</table>\n",
       "</div>"
      ],
      "text/plain": [
       "                                                                     review_clean  \\\n",
       "alias                                                                               \n",
       "east-side-burgers-paris         [came here the other day with some friends. i ...   \n",
       "hank-paris-2                    [% vegan. there are choices of burgers, extra ...   \n",
       "jardin-des-pâtes-paris-2        [delightful pasta place in the latin quarter. ...   \n",
       "le-grenier-de-notre-dame-paris  [*blush* this place is like walking down the s...   \n",
       "le-potager-du-marais-paris      [a vegetarian's boeuf bourguignon dream come t...   \n",
       "massawa-paris                   [delicious, simple, inexpensive. i had the veg...   \n",
       "soya-paris                      [. stars i get lost a lot. i don't usually use...   \n",
       "tamarind-paris                  [a perfect date night romantic dinner spot wit...   \n",
       "tien-hiang-paris-2              [after days of eating food meant for carnivore...   \n",
       "végét-halles-paris              [been in paris a few days and had my best vege...   \n",
       "\n",
       "                                nb_sentences  nb_review  metric sim_ratio  \\\n",
       "alias                                                                       \n",
       "east-side-burgers-paris                 13.0        9.0          0.162199   \n",
       "hank-paris-2                            69.0       58.0          0.159676   \n",
       "jardin-des-pâtes-paris-2                 7.0        7.0          0.127711   \n",
       "le-grenier-de-notre-dame-paris          32.0       24.0          0.164899   \n",
       "le-potager-du-marais-paris              64.0       43.0          0.169082   \n",
       "massawa-paris                            4.0        3.0          0.129295   \n",
       "soya-paris                              22.0       17.0          0.157692   \n",
       "tamarind-paris                          10.0        9.0          0.114659   \n",
       "tien-hiang-paris-2                      20.0       16.0          0.232053   \n",
       "végét-halles-paris                      20.0       16.0          0.160915   \n",
       "\n",
       "                                rate_filtered_y  \\\n",
       "alias                                             \n",
       "east-side-burgers-paris                3.769231   \n",
       "hank-paris-2                           4.666667   \n",
       "jardin-des-pâtes-paris-2               3.428571   \n",
       "le-grenier-de-notre-dame-paris         4.312500   \n",
       "le-potager-du-marais-paris             4.250000   \n",
       "massawa-paris                          5.000000   \n",
       "soya-paris                             4.409091   \n",
       "tamarind-paris                         4.600000   \n",
       "tien-hiang-paris-2                     4.650000   \n",
       "végét-halles-paris                     4.450000   \n",
       "\n",
       "                                                            reviews_heatmaps_html  \\\n",
       "alias                                                                               \n",
       "east-side-burgers-paris         [<span style='background-color:rgba(200,255.0,...   \n",
       "hank-paris-2                    [<span style='background-color:rgba(200,155.53...   \n",
       "jardin-des-pâtes-paris-2        [<span style='background-color:rgba(200,186.50...   \n",
       "le-grenier-de-notre-dame-paris  [<span style='background-color:rgba(200,255.0,...   \n",
       "le-potager-du-marais-paris      [<span style='background-color:rgba(200,146.68...   \n",
       "massawa-paris                   [<span style='background-color:rgba(200,157.01...   \n",
       "soya-paris                      [<span style='background-color:rgba(200,181.18...   \n",
       "tamarind-paris                  [<span style='background-color:rgba(200,166.18...   \n",
       "tien-hiang-paris-2              [<span style='background-color:rgba(200,147.59...   \n",
       "végét-halles-paris              [<span style='background-color:rgba(200,132.54...   \n",
       "\n",
       "                                                        reviews_heatmaps_polarity  \n",
       "alias                                                                              \n",
       "east-side-burgers-paris         [0.0, 0.0, 0.972322940826416, 0.0, 0.0, 0.9736...  \n",
       "hank-paris-2                    [0.9768351912498474, 0.0, 0.9708529114723206, ...  \n",
       "jardin-des-pâtes-paris-2        [0.9703953862190247, 0.9770104289054871, 0.985...  \n",
       "le-grenier-de-notre-dame-paris  [0.0, 0.0, 0.9765569567680359, 0.9765569567680...  \n",
       "le-potager-du-marais-paris      [0.9954218864440918, 0.9547789692878723, 0.964...  \n",
       "massawa-paris                   [0.9761936068534851, 0.9761936068534851, 0.974...  \n",
       "soya-paris                      [0.9808386564254761, 0.9803980588912964, 0.969...  \n",
       "tamarind-paris                  [0.9715473055839539, 0.9714557528495789, 0.971...  \n",
       "tien-hiang-paris-2              [0.9732578992843628, 0.9783346056938171, 0.976...  \n",
       "végét-halles-paris              [0.9599137306213379, 0.9774571061134338, 0.978...  "
      ]
     },
     "execution_count": 104,
     "metadata": {},
     "output_type": "execute_result"
    }
   ],
   "source": [
    "result3"
   ]
  },
  {
   "cell_type": "code",
   "execution_count": 105,
   "id": "ad9b4548",
   "metadata": {
    "ExecuteTime": {
     "end_time": "2021-12-02T20:50:49.209295Z",
     "start_time": "2021-12-02T20:50:49.014902Z"
    }
   },
   "outputs": [
    {
     "name": "stdout",
     "output_type": "stream",
     "text": [
      "review with polarity =0.9732578992843628\n"
     ]
    },
    {
     "data": {
      "text/html": [
       "<span style='background-color:rgba(200,147.5953584909439,0,.6)'>after days of eating food meant for carnivores with the meat eliminated, this restaurant was a gem and is a must visit if you're vegetarian and in paris </span><span style='background-color:rgba(200,0.0,0,.6)'> would be a , if not for slow service (which seems to be the norm in paris) </span><span style='background-color:rgba(200,51.742659509181976,0,.6)'> my family shared the pho, banh cuon, clay pot duck w taro, cashew chicken </span><span style='background-color:rgba(200,28.678201138973236,0,.6)'> all were delicious </span><span style='background-color:rgba(200,67.70928114652634,0,.6)'> oh also, the menu listed something called limonade </span><span style='background-color:rgba(200,17.868419587612152,0,.6)'> which was nothing close to lemonade but more like flavored non alcoholic beer </span><span style='background-color:rgba(200,26.801193058490753,0,.6)'> be warned </span><span style='background-color:rgba(200,76.68184608221054,0,.6)'> please see my other posts for some vegetarian (or not) friendly restaurants in paris </span><span style='background-color:rgba(200,83.61478686332703,0,.6)'> it was quite a chore to find decent vegetarian food around paris </span>"
      ],
      "text/plain": [
       "<IPython.core.display.HTML object>"
      ]
     },
     "metadata": {},
     "output_type": "display_data"
    },
    {
     "name": "stdout",
     "output_type": "stream",
     "text": [
      "--------------------------\n",
      "review with polarity =0.9783346056938171\n"
     ]
    },
    {
     "data": {
      "text/html": [
       "<span style='background-color:rgba(200,158.81012231111526,0,.6)'>an excellent first meal in paris </span><span style='background-color:rgba(200,0.0,0,.6)'> the food was absolutely delicious (the black pepper beef and ginger chicken were to die for) and the service was super speedy </span><span style='background-color:rgba(200,3.938519060611725,0,.6)'> they offered a menu in english which put me at ease because my french is super rusty and i was nervous about having to put it to the test </span><span style='background-color:rgba(200,136.69464021921158,0,.6)'> i definitely recommend getting a few dishes to try and split with some friends </span><span style='background-color:rgba(200,166.230348944664,0,.6)'> potentially the best veganvegetarian food i've ever had </span>"
      ],
      "text/plain": [
       "<IPython.core.display.HTML object>"
      ]
     },
     "metadata": {},
     "output_type": "display_data"
    },
    {
     "name": "stdout",
     "output_type": "stream",
     "text": [
      "--------------------------\n",
      "review with polarity =0.9763484597206116\n"
     ]
    },
    {
     "data": {
      "text/html": [
       "<span style='background-color:rgba(200,150.9495297074318,0,.6)'>as the french say, miam miam </span><span style='background-color:rgba(200,118.90153259038925,0,.6)'> this place is absolutely delicious, and a great find for vegetarians in paris </span><span style='background-color:rgba(200,0.0,0,.6)'> it was quite busy when we stopped in around :pm on a sunday, and got absolutely packed when a group of + walked in and were graciouly accomodated by the small staff (albeit at different communal tables) </span><span style='background-color:rgba(200,72.6974406838417,0,.6)'> i took a menu- thai spring rolls, cashew 'chicken,' rice, and a pineapple beignet for e, with a e tsingtao to wash it all down </span><span style='background-color:rgba(200,59.78711664676666,0,.6)'> my dining companion had a craving for pho, and even though he eats meat (and plenty of it </span><span style='background-color:rgba(200,150.58733314275742,0,.6)'>) he said that it really hit the spot </span><span style='background-color:rgba(200,139.47261795401573,0,.6)'> i had a bite or two myself, and was amazed at how flavourful the broth was without any meat </span><span style='background-color:rgba(200,128.0192269384861,0,.6)'> service was very attentive- our mains came out right after we finished the app, and the bill was available without us having to flag anyone down </span><span style='background-color:rgba(200,161.41705602407455,0,.6)'> we'll definitely be back </span>"
      ],
      "text/plain": [
       "<IPython.core.display.HTML object>"
      ]
     },
     "metadata": {},
     "output_type": "display_data"
    },
    {
     "name": "stdout",
     "output_type": "stream",
     "text": [
      "--------------------------\n",
      "review with polarity =0.9763484597206116\n"
     ]
    },
    {
     "data": {
      "text/html": [
       "<span style='background-color:rgba(200,150.9495297074318,0,.6)'>as the french say, miam miam </span><span style='background-color:rgba(200,118.90153259038925,0,.6)'> this place is absolutely delicious, and a great find for vegetarians in paris </span><span style='background-color:rgba(200,0.0,0,.6)'> it was quite busy when we stopped in around :pm on a sunday, and got absolutely packed when a group of + walked in and were graciouly accomodated by the small staff (albeit at different communal tables) </span><span style='background-color:rgba(200,72.6974406838417,0,.6)'> i took a menu- thai spring rolls, cashew 'chicken,' rice, and a pineapple beignet for e, with a e tsingtao to wash it all down </span><span style='background-color:rgba(200,59.78711664676666,0,.6)'> my dining companion had a craving for pho, and even though he eats meat (and plenty of it </span><span style='background-color:rgba(200,150.58733314275742,0,.6)'>) he said that it really hit the spot </span><span style='background-color:rgba(200,139.47261795401573,0,.6)'> i had a bite or two myself, and was amazed at how flavourful the broth was without any meat </span><span style='background-color:rgba(200,128.0192269384861,0,.6)'> service was very attentive- our mains came out right after we finished the app, and the bill was available without us having to flag anyone down </span><span style='background-color:rgba(200,161.41705602407455,0,.6)'> we'll definitely be back </span>"
      ],
      "text/plain": [
       "<IPython.core.display.HTML object>"
      ]
     },
     "metadata": {},
     "output_type": "display_data"
    },
    {
     "name": "stdout",
     "output_type": "stream",
     "text": [
      "--------------------------\n",
      "review with polarity =0.9735530018806458\n"
     ]
    },
    {
     "data": {
      "text/html": [
       "<span style='background-color:rgba(200,138.4267696738243,0,.6)'>being an unapologetic carnivore, yet one who will do the vegan thing for the bemusement of my precious sweetheart, i have come to know one thing - that when i'm eating at such places, i rarely ever forget that i'm not eating meat </span><span style='background-color:rgba(200,85.35858929157257,0,.6)'> this is one of those places where the food is so delicious, the thought of eating meat didn't once cross my mind </span><span style='background-color:rgba(200,111.43047988414764,0,.6)'> specifically, the pepper beef dish is so convincing and satisfying - like meat - that i couldn't wait to lock my jaws on it and sink my canines in again - which i did a second time like a ravenous wolf devouring fallen prey </span><span style='background-color:rgba(200,0.0,0,.6)'> and if i had the luxury of staying in paris longer, i would've gone a third or or more times </span><span style='background-color:rgba(200,12.891674637794495,0,.6)'> i also experienced pressure from the watchful eyes of the wait staff who appeared to want us to hustle down our food because of the lineups outside (it seems parisians are not particularly keen on foreign customers and would rather serve locals as they are more likely to return) </span><span style='background-color:rgba(200,16.175352036952972,0,.6)'> to combat this, i decided to make it worth their while by ordering a humongous amount of food and desserts just for myself </span><span style='background-color:rgba(200,31.96844458580017,0,.6)'> but that was like asking thieves to guard a jewelry store </span><span style='background-color:rgba(200,124.3965545296669,0,.6)'> the waitress was visibly astonished as she kept jotting down item after item (i don't think parisians eat like this) </span><span style='background-color:rgba(200,81.4419874548912,0,.6)'> every bite hit my satiety levels like an amusement park hammer ringing the gong at the top of the tower </span><span style='background-color:rgba(200,111.61414682865143,0,.6)'> let me put it this way, on my next flight to paris, i will be taking a taxi straight from cdg to this place </span>"
      ],
      "text/plain": [
       "<IPython.core.display.HTML object>"
      ]
     },
     "metadata": {},
     "output_type": "display_data"
    },
    {
     "name": "stdout",
     "output_type": "stream",
     "text": [
      "--------------------------\n",
      "review with polarity =0.9735530018806458\n"
     ]
    },
    {
     "data": {
      "text/html": [
       "<span style='background-color:rgba(200,138.4267696738243,0,.6)'>being an unapologetic carnivore, yet one who will do the vegan thing for the bemusement of my precious sweetheart, i have come to know one thing - that when i'm eating at such places, i rarely ever forget that i'm not eating meat </span><span style='background-color:rgba(200,85.35858929157257,0,.6)'> this is one of those places where the food is so delicious, the thought of eating meat didn't once cross my mind </span><span style='background-color:rgba(200,111.43047988414764,0,.6)'> specifically, the pepper beef dish is so convincing and satisfying - like meat - that i couldn't wait to lock my jaws on it and sink my canines in again - which i did a second time like a ravenous wolf devouring fallen prey </span><span style='background-color:rgba(200,0.0,0,.6)'> and if i had the luxury of staying in paris longer, i would've gone a third or or more times </span><span style='background-color:rgba(200,12.891674637794495,0,.6)'> i also experienced pressure from the watchful eyes of the wait staff who appeared to want us to hustle down our food because of the lineups outside (it seems parisians are not particularly keen on foreign customers and would rather serve locals as they are more likely to return) </span><span style='background-color:rgba(200,16.175352036952972,0,.6)'> to combat this, i decided to make it worth their while by ordering a humongous amount of food and desserts just for myself </span><span style='background-color:rgba(200,31.96844458580017,0,.6)'> but that was like asking thieves to guard a jewelry store </span><span style='background-color:rgba(200,124.3965545296669,0,.6)'> the waitress was visibly astonished as she kept jotting down item after item (i don't think parisians eat like this) </span><span style='background-color:rgba(200,81.4419874548912,0,.6)'> every bite hit my satiety levels like an amusement park hammer ringing the gong at the top of the tower </span><span style='background-color:rgba(200,111.61414682865143,0,.6)'> let me put it this way, on my next flight to paris, i will be taking a taxi straight from cdg to this place </span>"
      ],
      "text/plain": [
       "<IPython.core.display.HTML object>"
      ]
     },
     "metadata": {},
     "output_type": "display_data"
    },
    {
     "name": "stdout",
     "output_type": "stream",
     "text": [
      "--------------------------\n",
      "review with polarity =0.9779520034790039\n"
     ]
    },
    {
     "data": {
      "text/html": [
       "<span style='background-color:rgba(200,196.10925905406475,0,.6)'>hands down, the best vegetarian restaurant in paris </span><span style='background-color:rgba(200,77.64165937900543,0,.6)'> just fabulous </span><span style='background-color:rgba(200,13.336433172225952,0,.6)'> this place is always popular and always popping, so try to get here early </span><span style='background-color:rgba(200,12.377395033836365,0,.6)'> if you get here at opening ( i believe), you should be good since noone eats that early in france usually lol </span><span style='background-color:rgba(200,87.9813301563263,0,.6)'> anywho, everything on the menu is awesome and delicious and all around fabulous </span><span style='background-color:rgba(200,87.6318097114563,0,.6)'> they are all made with tofu fake meat, and are pretty excellent substitutes for meat </span><span style='background-color:rgba(200,140.98986893892288,0,.6)'> you pretty much won't even realize you're not eating meat </span><span style='background-color:rgba(200,184.69953149557114,0,.6)'> the food is tasty and filling, and the menu is super extensive and covers a variety of asian dishes </span><span style='background-color:rgba(200,22.862430810928345,0,.6)'> there's really something for everyone </span><span style='background-color:rgba(200,0.0,0,.6)'> stars because this place is really one of a kind in paris, where good veggie restaurants are not really a thing </span><span style='background-color:rgba(200,14.71168577671051,0,.6)'> and it really stands out from the rest of the restaurant scene in paris </span><span style='background-color:rgba(200,25.061357617378235,0,.6)'> stars for a well-executed veggie place which will also be sure to delight non-veggies </span><span style='background-color:rgba(200,76.31484657526016,0,.6)'> :) </span>"
      ],
      "text/plain": [
       "<IPython.core.display.HTML object>"
      ]
     },
     "metadata": {},
     "output_type": "display_data"
    },
    {
     "name": "stdout",
     "output_type": "stream",
     "text": [
      "--------------------------\n",
      "review with polarity =0.9779520034790039\n"
     ]
    },
    {
     "data": {
      "text/html": [
       "<span style='background-color:rgba(200,196.10925905406475,0,.6)'>hands down, the best vegetarian restaurant in paris </span><span style='background-color:rgba(200,77.64165937900543,0,.6)'> just fabulous </span><span style='background-color:rgba(200,13.336433172225952,0,.6)'> this place is always popular and always popping, so try to get here early </span><span style='background-color:rgba(200,12.377395033836365,0,.6)'> if you get here at opening ( i believe), you should be good since noone eats that early in france usually lol </span><span style='background-color:rgba(200,87.9813301563263,0,.6)'> anywho, everything on the menu is awesome and delicious and all around fabulous </span><span style='background-color:rgba(200,87.6318097114563,0,.6)'> they are all made with tofu fake meat, and are pretty excellent substitutes for meat </span><span style='background-color:rgba(200,140.98986893892288,0,.6)'> you pretty much won't even realize you're not eating meat </span><span style='background-color:rgba(200,184.69953149557114,0,.6)'> the food is tasty and filling, and the menu is super extensive and covers a variety of asian dishes </span><span style='background-color:rgba(200,22.862430810928345,0,.6)'> there's really something for everyone </span><span style='background-color:rgba(200,0.0,0,.6)'> stars because this place is really one of a kind in paris, where good veggie restaurants are not really a thing </span><span style='background-color:rgba(200,14.71168577671051,0,.6)'> and it really stands out from the rest of the restaurant scene in paris </span><span style='background-color:rgba(200,25.061357617378235,0,.6)'> stars for a well-executed veggie place which will also be sure to delight non-veggies </span><span style='background-color:rgba(200,76.31484657526016,0,.6)'> :) </span>"
      ],
      "text/plain": [
       "<IPython.core.display.HTML object>"
      ]
     },
     "metadata": {},
     "output_type": "display_data"
    },
    {
     "name": "stdout",
     "output_type": "stream",
     "text": [
      "--------------------------\n",
      "review with polarity =0.9763777256011963\n"
     ]
    },
    {
     "data": {
      "text/html": [
       "<span style='background-color:rgba(200,196.74329303205013,0,.6)'>hidden gem in paris </span><span style='background-color:rgba(200,62.82025068998337,0,.6)'> very very good vegan pho </span><span style='background-color:rgba(200,24.90629553794861,0,.6)'> great service </span><span style='background-color:rgba(200,0.0,0,.6)'> strange little environment, but wonderful staff that speaks english and paris </span><span style='background-color:rgba(200,44.43932980298996,0,.6)'> i will definitely recommend their pho to all vegans in paris </span>"
      ],
      "text/plain": [
       "<IPython.core.display.HTML object>"
      ]
     },
     "metadata": {},
     "output_type": "display_data"
    },
    {
     "name": "stdout",
     "output_type": "stream",
     "text": [
      "--------------------------\n",
      "review with polarity =0.961328387260437\n"
     ]
    },
    {
     "data": {
      "text/html": [
       "<span style='background-color:rgba(200,89.14862751960754,0,.6)'>i came here about years ago, when i was on holiday with my mom and sister </span><span style='background-color:rgba(200,26.40201687812805,0,.6)'> we were getting tired of heavy, cheese-filled meals, so wanted something more veggie-focused and with asian flavours, so my mom found tien hiang and we made the trek out here </span><span style='background-color:rgba(200,0.0,0,.6)'> we had a great meal that was memorable enough that we came back a few months ago when my mom came to visit, and then i came back for the third time a few days ago </span><span style='background-color:rgba(200,37.35807538032532,0,.6)'> each time i've been here the food has consistently been great </span><span style='background-color:rgba(200,47.71969377994537,0,.6)'> if you don't like veggie \"meat\", maybe its not the spot for you, but if you haven't tried it before it's worth it to give it a go </span><span style='background-color:rgba(200,108.59903901815414,0,.6)'> i came with my meat-eating boyfriend who had never tried soy meat products, and he can't wait to come back </span><span style='background-color:rgba(200,60.237058103084564,0,.6)'> last week we ordered dishes with one plain rice between two, and it was the perfect amount </span><span style='background-color:rgba(200,112.20655024051666,0,.6)'> we got the caramelized clay pot chicken (which is their specialty, you have to try it), lemongrass beef skewers (came with some veggies and crispy tofu, really good), and then a pork dish, which was also really good but didn't compare to the other two </span><span style='background-color:rgba(200,22.766311168670654,0,.6)'> i think our whole meal came to around - euros or so (we also had two beers), which is great for the quality and quantity we got </span><span style='background-color:rgba(200,77.86048203706741,0,.6)'> if you're veggie or even just looking for food with amazing flavours, definitely give this place a try </span>"
      ],
      "text/plain": [
       "<IPython.core.display.HTML object>"
      ]
     },
     "metadata": {},
     "output_type": "display_data"
    },
    {
     "name": "stdout",
     "output_type": "stream",
     "text": [
      "--------------------------\n",
      "review with polarity =0.9669031500816345\n"
     ]
    },
    {
     "data": {
      "text/html": [
       "<span style='background-color:rgba(200,101.55943036079407,0,.6)'>of the two east asian restaurants i went to in paris (the other being bodhi), i had a slight preference for this one </span><span style='background-color:rgba(200,3.922681510448456,0,.6)'> i ordered the satay noodle soup (€), which came in a clay pot and was very rich and flavourful </span><span style='background-color:rgba(200,40.83472162485123,0,.6)'> i do wish there was more veggies in there </span><span style='background-color:rgba(200,0.0,0,.6)'> fairly filling even if the portion was only moderate </span><span style='background-color:rgba(200,75.60702055692673,0,.6)'> friendly service - they give you tap water without asking and don't charge (thank you) </span><span style='background-color:rgba(200,31.060369312763214,0,.6)'> recommended </span>"
      ],
      "text/plain": [
       "<IPython.core.display.HTML object>"
      ]
     },
     "metadata": {},
     "output_type": "display_data"
    },
    {
     "name": "stdout",
     "output_type": "stream",
     "text": [
      "--------------------------\n",
      "review with polarity =0.9788476824760437\n"
     ]
    },
    {
     "data": {
      "text/html": [
       "<span style='background-color:rgba(200,167.0986707508564,0,.6)'>really tasty meals with bluffing meat-like soya proteins </span><span style='background-color:rgba(200,93.12034159898758,0,.6)'> enjoyed a lot despite tiny size of the restaurant </span><span style='background-color:rgba(200,0.0,0,.6)'> it gets quickly full in the rush hours </span>"
      ],
      "text/plain": [
       "<IPython.core.display.HTML object>"
      ]
     },
     "metadata": {},
     "output_type": "display_data"
    },
    {
     "name": "stdout",
     "output_type": "stream",
     "text": [
      "--------------------------\n",
      "review with polarity =0.9712145924568176\n"
     ]
    },
    {
     "data": {
      "text/html": [
       "<span style='background-color:rgba(200,175.6810650229454,0,.6)'>s u p e r b e </span><span style='background-color:rgba(200,115.95412194728851,0,.6)'> i think is the best vegetarian restaurant that i've ever tried </span><span style='background-color:rgba(200,104.74568098783493,0,.6)'> i started with a -potage au lait de coco-, a delicious vegetarian soup with \"shrimp\", tomato, champignons paille, \"chicken\", corn and pineapple </span><span style='background-color:rgba(200,0.0,0,.6)'> amazing soup </span><span style='background-color:rgba(200,101.71996414661407,0,.6)'> then i ordered the -\"porc\" a la sauce aigre douce-, served with pineapples, carrots, tomato, cucumber and corn </span><span style='background-color:rgba(200,111.38649344444275,0,.6)'> (this dish you may ordered with tofu or with their vegetarian pork) </span><span style='background-color:rgba(200,112.51782953739166,0,.6)'> i truly recommend this place to anyone </span><span style='background-color:rgba(200,120.56484013795853,0,.6)'> meat eaters: don't be afraid to try it </span>"
      ],
      "text/plain": [
       "<IPython.core.display.HTML object>"
      ]
     },
     "metadata": {},
     "output_type": "display_data"
    },
    {
     "name": "stdout",
     "output_type": "stream",
     "text": [
      "--------------------------\n",
      "review with polarity =0.9712145924568176\n"
     ]
    },
    {
     "data": {
      "text/html": [
       "<span style='background-color:rgba(200,175.6810650229454,0,.6)'>s u p e r b e </span><span style='background-color:rgba(200,115.95412194728851,0,.6)'> i think is the best vegetarian restaurant that i've ever tried </span><span style='background-color:rgba(200,104.74568098783493,0,.6)'> i started with a -potage au lait de coco-, a delicious vegetarian soup with \"shrimp\", tomato, champignons paille, \"chicken\", corn and pineapple </span><span style='background-color:rgba(200,0.0,0,.6)'> amazing soup </span><span style='background-color:rgba(200,101.71996414661407,0,.6)'> then i ordered the -\"porc\" a la sauce aigre douce-, served with pineapples, carrots, tomato, cucumber and corn </span><span style='background-color:rgba(200,111.38649344444275,0,.6)'> (this dish you may ordered with tofu or with their vegetarian pork) </span><span style='background-color:rgba(200,112.51782953739166,0,.6)'> i truly recommend this place to anyone </span><span style='background-color:rgba(200,120.56484013795853,0,.6)'> meat eaters: don't be afraid to try it </span>"
      ],
      "text/plain": [
       "<IPython.core.display.HTML object>"
      ]
     },
     "metadata": {},
     "output_type": "display_data"
    },
    {
     "name": "stdout",
     "output_type": "stream",
     "text": [
      "--------------------------\n",
      "review with polarity =0.947928249835968\n"
     ]
    },
    {
     "data": {
      "text/html": [
       "<span style='background-color:rgba(200,23.072194755077362,0,.6)'>so so so good </span><span style='background-color:rgba(200,0.0,0,.6)'> one of my favorite vegetarianvegan restaurants in paris thus far - even two meat-eaters loved it </span>"
      ],
      "text/plain": [
       "<IPython.core.display.HTML object>"
      ]
     },
     "metadata": {},
     "output_type": "display_data"
    },
    {
     "name": "stdout",
     "output_type": "stream",
     "text": [
      "--------------------------\n",
      "review with polarity =0.9767065644264221\n"
     ]
    },
    {
     "data": {
      "text/html": [
       "<span style='background-color:rgba(200,97.04264312982559,0,.6)'>super delicious food and awesome atmosphere </span><span style='background-color:rgba(200,0.0,0,.6)'> not too pricy and instantly became my gf's favorite restaurant in paris </span><span style='background-color:rgba(200,19.805890023708344,0,.6)'> we got the fried tofu, sticky rice, and pho my gf said it was immediately her favorite restaurant in paris </span><span style='background-color:rgba(200,65.33329904079437,0,.6)'> the fried tofu appetizer, the pho, and her sticky rice dish </span><span style='background-color:rgba(200,113.06778162717819,0,.6)'> super delicious pho </span><span style='background-color:rgba(200,102.53965616226196,0,.6)'> my gf said it changed her life </span><span style='background-color:rgba(200,115.107481777668,0,.6)'> very tasty vegetarian food and not too pricy either </span>"
      ],
      "text/plain": [
       "<IPython.core.display.HTML object>"
      ]
     },
     "metadata": {},
     "output_type": "display_data"
    },
    {
     "name": "stdout",
     "output_type": "stream",
     "text": [
      "--------------------------\n",
      "review with polarity =0.973548173904419\n"
     ]
    },
    {
     "data": {
      "text/html": [
       "<span style='background-color:rgba(200,224.19159326702356,0,.6)'>tien hiang is more than a restaurant, it's like a second home for a hungry vegetarian who doesn't eat fish and eggs as well </span><span style='background-color:rgba(200,137.91141852736473,0,.6)'> i first visited in jan, have been going ever since </span><span style='background-color:rgba(200,141.84203401207924,0,.6)'> soy is fabricated to look like meat, and even i was skeptical in the beginning, but was proven wrong </span><span style='background-color:rgba(200,182.52547815442085,0,.6)'> try everything on the menu </span><span style='background-color:rgba(200,76.56610429286957,0,.6)'> my simple favorites are the tofu frites, cantonese rice and a few other whose names i can't remember (mainly because i'm too busy polishing off the plate) </span><span style='background-color:rgba(200,0.0,0,.6)'> superb food, friendly service and it's off the tourist grid </span><span style='background-color:rgba(200,56.56098335981369,0,.6)'> vegetarians, you now have a place to call home </span>"
      ],
      "text/plain": [
       "<IPython.core.display.HTML object>"
      ]
     },
     "metadata": {},
     "output_type": "display_data"
    },
    {
     "name": "stdout",
     "output_type": "stream",
     "text": [
      "--------------------------\n",
      "review with polarity =0.9722663760185242\n"
     ]
    },
    {
     "data": {
      "text/html": [
       "<span style='background-color:rgba(200,117.27447509765625,0,.6)'>we came on an earlier trip to paris, upon a recommendation, and loved it </span><span style='background-color:rgba(200,15.937575995922089,0,.6)'> cheap and excellent, and everything vegetarian </span><span style='background-color:rgba(200,0.0,0,.6)'> we now live in paris and come regularly </span><span style='background-color:rgba(200,25.555407106876373,0,.6)'> one of us is a meat eater, but both of us are always happy here </span><span style='background-color:rgba(200,52.25092023611069,0,.6)'> we find the service efficient and helpful </span><span style='background-color:rgba(200,55.89038014411926,0,.6)'> they no longer take reservations, and they are often busy, so it's possible you'll have to wait a bit for a table </span>"
      ],
      "text/plain": [
       "<IPython.core.display.HTML object>"
      ]
     },
     "metadata": {},
     "output_type": "display_data"
    },
    {
     "name": "stdout",
     "output_type": "stream",
     "text": [
      "--------------------------\n",
      "review with polarity =0.9788520336151123\n"
     ]
    },
    {
     "data": {
      "text/html": [
       "<span style='background-color:rgba(200,224.3494101986289,0,.6)'>what a gem this place is </span><span style='background-color:rgba(200,144.7942703962326,0,.6)'> extraordinary vegan meats that could pass any carnivores test </span><span style='background-color:rgba(200,137.91538551449776,0,.6)'> not to mention the phenomenal, prompt, and quick service by the extremely friendly staff </span><span style='background-color:rgba(200,0.0,0,.6)'> it was wild to see all the online orders coming out of this place </span><span style='background-color:rgba(200,127.34660983085632,0,.6)'> we highly recommend this restaurant and wish we had a location back home </span>"
      ],
      "text/plain": [
       "<IPython.core.display.HTML object>"
      ]
     },
     "metadata": {},
     "output_type": "display_data"
    },
    {
     "name": "stdout",
     "output_type": "stream",
     "text": [
      "--------------------------\n",
      "review with polarity =0.9704182147979736\n"
     ]
    },
    {
     "data": {
      "text/html": [
       "<span style='background-color:rgba(200,109.81322586536407,0,.6)'>when you think of paris good vegetarian asian food is not generally what comes to mind </span><span style='background-color:rgba(200,19.68119591474533,0,.6)'> at least for me </span><span style='background-color:rgba(200,0.0,0,.6)'> tien hiang has an impressive menue </span><span style='background-color:rgba(200,124.71123844385147,0,.6)'> soups, spring rolls, kebabs, clay pots, wok dishes </span><span style='background-color:rgba(200,72.56423503160477,0,.6)'>the list goes on and on </span><span style='background-color:rgba(200,130.48205718398094,0,.6)'> i only tried beef and chicken items </span><span style='background-color:rgba(200,126.33594006299973,0,.6)'> the texture of the imitation meat was great, and the dishes were filled with flavor </span><span style='background-color:rgba(200,94.5989790558815,0,.6)'> the service was very friendly, and the chefs will work to accomodate any dietary restrictions you may have (vegan, gluten free, food allergies) </span><span style='background-color:rgba(200,57.3817241191864,0,.6)'> if you go i recommend the banana and coconut milk dessert with sesame seeds </span><span style='background-color:rgba(200,11.009407639503479,0,.6)'> it is to die for </span>"
      ],
      "text/plain": [
       "<IPython.core.display.HTML object>"
      ]
     },
     "metadata": {},
     "output_type": "display_data"
    },
    {
     "name": "stdout",
     "output_type": "stream",
     "text": [
      "--------------------------\n"
     ]
    }
   ],
   "source": [
    "for r,pol in zip(result3.loc['tien-hiang-paris-2','reviews_heatmaps_html'],result3.loc['tien-hiang-paris-2','reviews_heatmaps_polarity']):\n",
    "    print(f'review with polarity ={pol}')\n",
    "    display(HTML(r))\n",
    "    print('--------------------------')"
   ]
  },
  {
   "cell_type": "markdown",
   "id": "fef2dce4",
   "metadata": {},
   "source": [
    "## 4eme phrase"
   ]
  },
  {
   "cell_type": "code",
   "execution_count": 87,
   "id": "5c816be6",
   "metadata": {
    "ExecuteTime": {
     "end_time": "2021-12-02T20:05:26.172982Z",
     "start_time": "2021-12-02T20:05:12.237774Z"
    }
   },
   "outputs": [],
   "source": [
    "#creating one query_dataset per sentence\n",
    "# First sentence\n",
    "query_4 = 'I am visiting paris and I want to eat good french food, in an authentic place but not with many people'\n",
    "dataset_query_4 = creating_query_dataset(embedding=embedding,reviews_dataset=reviews_dataset,query=query_4,n_prox=n_prox,min_review=min_review,n_best=n_best)"
   ]
  },
  {
   "cell_type": "code",
   "execution_count": 88,
   "id": "cc218314",
   "metadata": {
    "ExecuteTime": {
     "end_time": "2021-12-02T20:05:26.348552Z",
     "start_time": "2021-12-02T20:05:26.179946Z"
    }
   },
   "outputs": [],
   "source": [
    "#filtering only reviews that poped up in our cosim query\n",
    "dataset_query_4 = dataset_query_4[(dataset_query_4['is_sim']==1)&(dataset_query_4['is_in_summary']==1)]"
   ]
  },
  {
   "cell_type": "code",
   "execution_count": 89,
   "id": "977d6431",
   "metadata": {
    "ExecuteTime": {
     "end_time": "2021-12-02T20:05:26.416817Z",
     "start_time": "2021-12-02T20:05:26.350724Z"
    }
   },
   "outputs": [
    {
     "data": {
      "text/plain": [
       "(60, 24)"
      ]
     },
     "execution_count": 89,
     "metadata": {},
     "output_type": "execute_result"
    }
   ],
   "source": [
    "dataset_query_4.shape"
   ]
  },
  {
   "cell_type": "code",
   "execution_count": 90,
   "id": "f5580f76",
   "metadata": {
    "ExecuteTime": {
     "end_time": "2021-12-02T20:05:33.894311Z",
     "start_time": "2021-12-02T20:05:32.194858Z"
    }
   },
   "outputs": [],
   "source": [
    "#Applying heatmap functions\n",
    "dataset_query_4['reviews_heatmaps_html'] = dataset_query_4.apply(apply_heatmap_html,axis=1)\n",
    "dataset_query_4['reviews_heatmaps_polarity'] = dataset_query_4.apply(apply_heatmap_polarity,axis=1)"
   ]
  },
  {
   "cell_type": "code",
   "execution_count": 91,
   "id": "5d6edc3b",
   "metadata": {
    "ExecuteTime": {
     "end_time": "2021-12-02T20:25:04.308138Z",
     "start_time": "2021-12-02T20:24:52.839333Z"
    }
   },
   "outputs": [
    {
     "data": {
      "text/plain": [
       "(60, 26)"
      ]
     },
     "execution_count": 91,
     "metadata": {},
     "output_type": "execute_result"
    }
   ],
   "source": [
    "dataset_query_4.shape"
   ]
  },
  {
   "cell_type": "code",
   "execution_count": 93,
   "id": "db24082a",
   "metadata": {
    "ExecuteTime": {
     "end_time": "2021-12-02T20:05:43.216488Z",
     "start_time": "2021-12-02T20:05:43.135693Z"
    }
   },
   "outputs": [],
   "source": [
    "result4=viking(dataset_query_4)"
   ]
  },
  {
   "cell_type": "code",
   "execution_count": 94,
   "id": "6c75755c",
   "metadata": {
    "ExecuteTime": {
     "end_time": "2021-12-02T20:04:18.842897Z",
     "start_time": "2021-12-02T20:04:18.755331Z"
    }
   },
   "outputs": [],
   "source": [
    "result4.to_csv('query4.csv')"
   ]
  },
  {
   "cell_type": "markdown",
   "id": "ce0de36d",
   "metadata": {
    "ExecuteTime": {
     "end_time": "2021-12-02T19:55:46.642117Z",
     "start_time": "2021-12-02T19:55:46.575197Z"
    }
   },
   "source": [
    "## 5eme phrase"
   ]
  },
  {
   "cell_type": "code",
   "execution_count": 95,
   "id": "1f5e1958",
   "metadata": {
    "ExecuteTime": {
     "end_time": "2021-12-02T20:05:26.172982Z",
     "start_time": "2021-12-02T20:05:12.237774Z"
    }
   },
   "outputs": [],
   "source": [
    "#creating one query_dataset per sentence\n",
    "# First sentence\n",
    "query_5 = \"I don't know what to eat but I feel like having something original. Surprise me!\"\n",
    "dataset_query_5 = creating_query_dataset(embedding=embedding,reviews_dataset=reviews_dataset,query=query_5,n_prox=n_prox,min_review=min_review,n_best=n_best)"
   ]
  },
  {
   "cell_type": "code",
   "execution_count": 96,
   "id": "5414360e",
   "metadata": {
    "ExecuteTime": {
     "end_time": "2021-12-02T20:05:26.348552Z",
     "start_time": "2021-12-02T20:05:26.179946Z"
    }
   },
   "outputs": [],
   "source": [
    "#filtering only reviews that poped up in our cosim query\n",
    "dataset_query_5 = dataset_query_5[(dataset_query_5['is_sim']==1)&(dataset_query_5['is_in_summary']==1)]"
   ]
  },
  {
   "cell_type": "code",
   "execution_count": 97,
   "id": "bdd728c9",
   "metadata": {
    "ExecuteTime": {
     "end_time": "2021-12-02T20:05:26.416817Z",
     "start_time": "2021-12-02T20:05:26.350724Z"
    }
   },
   "outputs": [
    {
     "data": {
      "text/plain": [
       "(50, 24)"
      ]
     },
     "execution_count": 97,
     "metadata": {},
     "output_type": "execute_result"
    }
   ],
   "source": [
    "dataset_query_5.shape"
   ]
  },
  {
   "cell_type": "code",
   "execution_count": 98,
   "id": "3d25e3ce",
   "metadata": {
    "ExecuteTime": {
     "end_time": "2021-12-02T20:05:33.894311Z",
     "start_time": "2021-12-02T20:05:32.194858Z"
    }
   },
   "outputs": [],
   "source": [
    "#Applying heatmap functions\n",
    "dataset_query_5['reviews_heatmaps_html'] = dataset_query_5.apply(apply_heatmap_html,axis=1)\n",
    "dataset_query_5['reviews_heatmaps_polarity'] = dataset_query_5.apply(apply_heatmap_polarity,axis=1)"
   ]
  },
  {
   "cell_type": "code",
   "execution_count": 102,
   "id": "f651ac7b",
   "metadata": {
    "ExecuteTime": {
     "end_time": "2021-12-02T20:25:04.308138Z",
     "start_time": "2021-12-02T20:24:52.839333Z"
    }
   },
   "outputs": [
    {
     "data": {
      "text/plain": [
       "(50, 26)"
      ]
     },
     "execution_count": 102,
     "metadata": {},
     "output_type": "execute_result"
    }
   ],
   "source": [
    "dataset_query_5.shape"
   ]
  },
  {
   "cell_type": "code",
   "execution_count": 100,
   "id": "f008cd16",
   "metadata": {
    "ExecuteTime": {
     "end_time": "2021-12-02T20:05:43.216488Z",
     "start_time": "2021-12-02T20:05:43.135693Z"
    }
   },
   "outputs": [],
   "source": [
    "result5=viking(dataset_query_5)"
   ]
  },
  {
   "cell_type": "code",
   "execution_count": 101,
   "id": "6653f092",
   "metadata": {
    "ExecuteTime": {
     "end_time": "2021-12-02T20:05:52.276756Z",
     "start_time": "2021-12-02T20:05:52.192310Z"
    }
   },
   "outputs": [],
   "source": [
    "result5.to_csv('query5.csv')"
   ]
  },
  {
   "cell_type": "code",
   "execution_count": null,
   "id": "9bb00374",
   "metadata": {},
   "outputs": [],
   "source": []
  },
  {
   "cell_type": "code",
   "execution_count": null,
   "id": "47ab84ce",
   "metadata": {},
   "outputs": [],
   "source": []
  }
 ],
 "metadata": {
  "kernelspec": {
   "display_name": "Python 3 (ipykernel)",
   "language": "python",
   "name": "python3"
  },
  "language_info": {
   "codemirror_mode": {
    "name": "ipython",
    "version": 3
   },
   "file_extension": ".py",
   "mimetype": "text/x-python",
   "name": "python",
   "nbconvert_exporter": "python",
   "pygments_lexer": "ipython3",
   "version": "3.8.12"
  },
  "toc": {
   "base_numbering": 1,
   "nav_menu": {},
   "number_sections": true,
   "sideBar": true,
   "skip_h1_title": false,
   "title_cell": "Table of Contents",
   "title_sidebar": "Contents",
   "toc_cell": false,
   "toc_position": {},
   "toc_section_display": true,
   "toc_window_display": false
  }
 },
 "nbformat": 4,
 "nbformat_minor": 5
}
