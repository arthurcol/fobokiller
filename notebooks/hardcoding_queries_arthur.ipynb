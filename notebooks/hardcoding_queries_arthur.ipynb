{
 "cells": [
  {
   "cell_type": "code",
   "execution_count": 12,
   "id": "a814352d",
   "metadata": {
    "ExecuteTime": {
     "end_time": "2021-12-02T18:47:11.406896Z",
     "start_time": "2021-12-02T18:47:11.312575Z"
    }
   },
   "outputs": [],
   "source": [
    "%load_ext autoreload\n",
    "%autoreload 2"
   ]
  },
  {
   "cell_type": "code",
   "execution_count": 1,
   "id": "df4aa966",
   "metadata": {
    "ExecuteTime": {
     "end_time": "2021-12-02T18:30:53.427496Z",
     "start_time": "2021-12-02T18:30:52.763749Z"
    }
   },
   "outputs": [],
   "source": [
    "import pandas as pd \n",
    "import numpy as np\n",
    "import requests"
   ]
  },
  {
   "cell_type": "markdown",
   "id": "0c523625",
   "metadata": {},
   "source": [
    "# WITH API"
   ]
  },
  {
   "cell_type": "code",
   "execution_count": 3,
   "id": "8404d36c",
   "metadata": {
    "ExecuteTime": {
     "end_time": "2021-12-02T18:31:57.612232Z",
     "start_time": "2021-12-02T18:31:57.608712Z"
    }
   },
   "outputs": [],
   "source": [
    "url_api = 'https://api9-2rnijzpfva-ew.a.run.app/summary_reviews2'"
   ]
  },
  {
   "cell_type": "code",
   "execution_count": 9,
   "id": "ebac86a7",
   "metadata": {
    "ExecuteTime": {
     "end_time": "2021-12-02T18:40:41.019630Z",
     "start_time": "2021-12-02T18:39:13.232724Z"
    }
   },
   "outputs": [],
   "source": [
    "## first sentence params\n",
    "text = 'I would like a good pizza but I am allergic to gluten'\n",
    "n_best=10\n",
    "n_prox=3000\n",
    "min_review=10\n",
    "\n",
    "params1=dict(text=text,n_best=n_best,n_prox=n_prox,min_review=min_review)\n",
    "response1 = requests.get(url_api,params=params1)"
   ]
  },
  {
   "cell_type": "code",
   "execution_count": 10,
   "id": "328d8a4e",
   "metadata": {
    "ExecuteTime": {
     "end_time": "2021-12-02T18:40:42.554142Z",
     "start_time": "2021-12-02T18:40:42.544806Z"
    }
   },
   "outputs": [
    {
     "data": {
      "text/plain": [
       "500"
      ]
     },
     "execution_count": 10,
     "metadata": {},
     "output_type": "execute_result"
    }
   ],
   "source": [
    "response1.status_code"
   ]
  },
  {
   "cell_type": "code",
   "execution_count": 7,
   "id": "053685a5",
   "metadata": {
    "ExecuteTime": {
     "end_time": "2021-12-02T18:37:46.355857Z",
     "start_time": "2021-12-02T18:36:36.639755Z"
    }
   },
   "outputs": [
    {
     "name": "stdout",
     "output_type": "stream",
     "text": [
      "CPU times: user 22.9 ms, sys: 6.75 ms, total: 29.7 ms\n",
      "Wall time: 1min 9s\n"
     ]
    }
   ],
   "source": [
    "%%time\n",
    "## second sentence params\n",
    "text = 'I want to eat a traditional french meal with music'\n",
    "n_best=10\n",
    "n_prox=3000\n",
    "min_review=10\n",
    "\n",
    "params2=dict(text=text,n_best=n_best,n_prox=n_prox,min_review=min_review)\n",
    "response2 = requests.get(url_api,params=params2)"
   ]
  },
  {
   "cell_type": "code",
   "execution_count": null,
   "id": "c061341a",
   "metadata": {},
   "outputs": [],
   "source": [
    "%%time\n",
    "## third sentence params\n",
    "text = 'I want to eat lasagnas without meat'\n",
    "n_best=10\n",
    "n_prox=3000\n",
    "min_review=10\n",
    "\n",
    "params3=dict(text=text,n_best=n_best,n_prox=n_prox,min_review=min_review)\n",
    "response3 = requests.get(url_api,params=params3)"
   ]
  },
  {
   "cell_type": "markdown",
   "id": "77610431",
   "metadata": {},
   "source": [
    "# BARBARE"
   ]
  },
  {
   "cell_type": "code",
   "execution_count": 13,
   "id": "e902b305",
   "metadata": {
    "ExecuteTime": {
     "end_time": "2021-12-02T18:47:12.958209Z",
     "start_time": "2021-12-02T18:47:12.871587Z"
    }
   },
   "outputs": [],
   "source": [
    "from fobokiller.heatmap import *"
   ]
  },
  {
   "cell_type": "code",
   "execution_count": 55,
   "id": "09629403",
   "metadata": {
    "ExecuteTime": {
     "end_time": "2021-12-02T19:49:42.276630Z",
     "start_time": "2021-12-02T19:49:42.210617Z"
    }
   },
   "outputs": [],
   "source": [
    "from IPython.display import HTML,display"
   ]
  },
  {
   "cell_type": "code",
   "execution_count": null,
   "id": "764e985b",
   "metadata": {},
   "outputs": [],
   "source": []
  },
  {
   "cell_type": "code",
   "execution_count": 40,
   "id": "06f35489",
   "metadata": {
    "ExecuteTime": {
     "end_time": "2021-12-02T19:17:22.795607Z",
     "start_time": "2021-12-02T19:17:22.693762Z"
    }
   },
   "outputs": [],
   "source": [
    "def viking(all_df):\n",
    "    summary_reconstructed = all_df.groupby('alias').agg({\n",
    "                                                    'review_clean':list,\n",
    "                                                    'nb_sentences':'mean',\n",
    "                                                    'nb_review':'mean',\n",
    "                                                    'metric sim_ratio':'mean',\n",
    "                                                    'rate_filtered_y':'mean',\n",
    "                                                    'reviews_heatmaps_html':list,\n",
    "                                                    'reviews_heatmaps_polarity':list\n",
    "                                                })\n",
    "    return summary_reconstructed"
   ]
  },
  {
   "cell_type": "code",
   "execution_count": 14,
   "id": "39d4b302",
   "metadata": {
    "ExecuteTime": {
     "end_time": "2021-12-02T18:48:39.017970Z",
     "start_time": "2021-12-02T18:48:35.950927Z"
    }
   },
   "outputs": [],
   "source": [
    "#loading embedding\n",
    "embedding = load_embedding()"
   ]
  },
  {
   "cell_type": "code",
   "execution_count": 15,
   "id": "77abefc7",
   "metadata": {
    "ExecuteTime": {
     "end_time": "2021-12-02T18:49:25.122088Z",
     "start_time": "2021-12-02T18:49:08.376192Z"
    }
   },
   "outputs": [],
   "source": [
    "#loading reviews dataset\n",
    "reviews_dataset = load_reviews_dataset()"
   ]
  },
  {
   "cell_type": "code",
   "execution_count": 16,
   "id": "417afa99",
   "metadata": {
    "ExecuteTime": {
     "end_time": "2021-12-02T18:49:54.757471Z",
     "start_time": "2021-12-02T18:49:54.618318Z"
    }
   },
   "outputs": [],
   "source": [
    "#Setting params once and for all\n",
    "n_prox= 3000\n",
    "min_review=10\n",
    "n_best=10"
   ]
  },
  {
   "cell_type": "markdown",
   "id": "cc3a9801",
   "metadata": {
    "heading_collapsed": true
   },
   "source": [
    "## First query"
   ]
  },
  {
   "cell_type": "code",
   "execution_count": 18,
   "id": "c3a8eb4f",
   "metadata": {
    "ExecuteTime": {
     "end_time": "2021-12-02T18:53:08.069040Z",
     "start_time": "2021-12-02T18:52:49.798824Z"
    },
    "hidden": true
   },
   "outputs": [],
   "source": [
    "#creating one query_dataset per sentence\n",
    "# First sentence\n",
    "query_1 = 'I would like a good pizza but I am allergic to gluten'\n",
    "dataset_query_1 = creating_query_dataset(embedding=embedding,reviews_dataset=reviews_dataset,query=query_1,n_prox=n_prox,min_review=min_review,n_best=n_best)"
   ]
  },
  {
   "cell_type": "code",
   "execution_count": 31,
   "id": "e8e325d9",
   "metadata": {
    "ExecuteTime": {
     "end_time": "2021-12-02T19:08:04.286468Z",
     "start_time": "2021-12-02T19:08:04.166056Z"
    },
    "hidden": true
   },
   "outputs": [],
   "source": [
    "#filtering only reviews that poped up in our cosim query\n",
    "dataset_query_1 = dataset_query_1[(dataset_query_1['is_sim']==1)&(dataset_query_1['is_in_summary']==1)]"
   ]
  },
  {
   "cell_type": "code",
   "execution_count": 33,
   "id": "6b9df070",
   "metadata": {
    "ExecuteTime": {
     "end_time": "2021-12-02T19:08:25.482127Z",
     "start_time": "2021-12-02T19:08:25.405361Z"
    },
    "hidden": true
   },
   "outputs": [
    {
     "data": {
      "text/plain": [
       "(415, 24)"
      ]
     },
     "execution_count": 33,
     "metadata": {},
     "output_type": "execute_result"
    }
   ],
   "source": [
    "dataset_query_1.shape"
   ]
  },
  {
   "cell_type": "code",
   "execution_count": 61,
   "id": "5478f006",
   "metadata": {
    "ExecuteTime": {
     "end_time": "2021-12-02T19:52:31.046104Z",
     "start_time": "2021-12-02T19:52:19.111025Z"
    },
    "hidden": true
   },
   "outputs": [],
   "source": [
    "#Applying heatmap functions\n",
    "dataset_query_1['reviews_heatmaps_html'] = dataset_query_1.apply(apply_heatmap_html,axis=1)\n",
    "dataset_query_1['reviews_heatmaps_polarity'] = dataset_query_1.apply(apply_heatmap_polarity,axis=1)"
   ]
  },
  {
   "cell_type": "code",
   "execution_count": 62,
   "id": "5b2c6e71",
   "metadata": {
    "ExecuteTime": {
     "end_time": "2021-12-02T19:52:31.111811Z",
     "start_time": "2021-12-02T19:52:31.048760Z"
    },
    "hidden": true
   },
   "outputs": [
    {
     "data": {
      "text/plain": [
       "(415, 26)"
      ]
     },
     "execution_count": 62,
     "metadata": {},
     "output_type": "execute_result"
    }
   ],
   "source": [
    "dataset_query_1.shape"
   ]
  },
  {
   "cell_type": "code",
   "execution_count": 63,
   "id": "5445cc46",
   "metadata": {
    "ExecuteTime": {
     "end_time": "2021-12-02T19:52:31.180234Z",
     "start_time": "2021-12-02T19:52:31.113571Z"
    },
    "hidden": true
   },
   "outputs": [],
   "source": [
    "result1=viking(dataset_query_1)"
   ]
  },
  {
   "cell_type": "code",
   "execution_count": 64,
   "id": "b8283175",
   "metadata": {
    "ExecuteTime": {
     "end_time": "2021-12-02T19:52:31.389540Z",
     "start_time": "2021-12-02T19:52:31.183122Z"
    },
    "collapsed": true,
    "hidden": true
   },
   "outputs": [
    {
     "name": "stdout",
     "output_type": "stream",
     "text": [
      "review with polarity =0.9746661186218262\n"
     ]
    },
    {
     "data": {
      "text/html": [
       "<span style='background-color:rgba(200,110.519759953022,0,.6)'>% gluten free restaurant </span><span style='background-color:rgba(200,0.0,0,.6)'> menu is big and amazing </span><span style='background-color:rgba(200,49.44664031267166,0,.6)'> had two different pizzas, bruschetta and the tiramisu </span><span style='background-color:rgba(200,40.59735596179962,0,.6)'> no need to worry about cross contamination here, everything is safe </span><span style='background-color:rgba(200,161.258285343647,0,.6)'> menu is not in english so come prepared with a translator, but so worth it </span>"
      ],
      "text/plain": [
       "<IPython.core.display.HTML object>"
      ]
     },
     "metadata": {},
     "output_type": "display_data"
    },
    {
     "name": "stdout",
     "output_type": "stream",
     "text": [
      "--------------------------\n",
      "review with polarity =0.9746661186218262\n"
     ]
    },
    {
     "data": {
      "text/html": [
       "<span style='background-color:rgba(200,110.519759953022,0,.6)'>% gluten free restaurant </span><span style='background-color:rgba(200,0.0,0,.6)'> menu is big and amazing </span><span style='background-color:rgba(200,49.44664031267166,0,.6)'> had two different pizzas, bruschetta and the tiramisu </span><span style='background-color:rgba(200,40.59735596179962,0,.6)'> no need to worry about cross contamination here, everything is safe </span><span style='background-color:rgba(200,161.258285343647,0,.6)'> menu is not in english so come prepared with a translator, but so worth it </span>"
      ],
      "text/plain": [
       "<IPython.core.display.HTML object>"
      ]
     },
     "metadata": {},
     "output_type": "display_data"
    },
    {
     "name": "stdout",
     "output_type": "stream",
     "text": [
      "--------------------------\n",
      "review with polarity =0.0\n"
     ]
    },
    {
     "data": {
      "text/html": [
       "<span style='background-color:rgba(200,255.0,0,.6)'>a lot better places for gluten-free food in paris </span><span style='background-color:rgba(200,255.0,0,.6)'> service was extremely slow and we felt ignored </span><span style='background-color:rgba(200,255.0,0,.6)'> pizza we had was bland (basically a combination of cold cut ham and mozzarella) </span><span style='background-color:rgba(200,255.0,0,.6)'> i love that they were attempting to be gluten-free but the application left a lot to be desired </span>"
      ],
      "text/plain": [
       "<IPython.core.display.HTML object>"
      ]
     },
     "metadata": {},
     "output_type": "display_data"
    },
    {
     "name": "stdout",
     "output_type": "stream",
     "text": [
      "--------------------------\n",
      "review with polarity =0.0\n"
     ]
    },
    {
     "data": {
      "text/html": [
       "<span style='background-color:rgba(200,255.0,0,.6)'>a lot better places for gluten-free food in paris </span><span style='background-color:rgba(200,255.0,0,.6)'> service was extremely slow and we felt ignored </span><span style='background-color:rgba(200,255.0,0,.6)'> pizza we had was bland (basically a combination of cold cut ham and mozzarella) </span><span style='background-color:rgba(200,255.0,0,.6)'> i love that they were attempting to be gluten-free but the application left a lot to be desired </span>"
      ],
      "text/plain": [
       "<IPython.core.display.HTML object>"
      ]
     },
     "metadata": {},
     "output_type": "display_data"
    },
    {
     "name": "stdout",
     "output_type": "stream",
     "text": [
      "--------------------------\n",
      "review with polarity =0.9729760885238647\n"
     ]
    },
    {
     "data": {
      "text/html": [
       "<span style='background-color:rgba(200,150.50158694386482,0,.6)'>absolutely amazing gluten free options </span><span style='background-color:rgba(200,0.0,0,.6)'> the staff were super friendly and offered an english menu on saying hello </span><span style='background-color:rgba(200,34.447355568408966,0,.6)'> loved the atmosphere and the pizza </span>"
      ],
      "text/plain": [
       "<IPython.core.display.HTML object>"
      ]
     },
     "metadata": {},
     "output_type": "display_data"
    },
    {
     "name": "stdout",
     "output_type": "stream",
     "text": [
      "--------------------------\n",
      "review with polarity =0.9618536233901978\n"
     ]
    },
    {
     "data": {
      "text/html": [
       "<span style='background-color:rgba(200,164.6996694803238,0,.6)'>best gluten-free pizza i have had hands down </span><span style='background-color:rgba(200,0.0,0,.6)'> can't wait to return to paris to visit this place </span>"
      ],
      "text/plain": [
       "<IPython.core.display.HTML object>"
      ]
     },
     "metadata": {},
     "output_type": "display_data"
    },
    {
     "name": "stdout",
     "output_type": "stream",
     "text": [
      "--------------------------\n",
      "review with polarity =0.9680736064910889\n"
     ]
    },
    {
     "data": {
      "text/html": [
       "<span style='background-color:rgba(200,105.60464769601822,0,.6)'>first to review everything on the menu is gluten free </span><span style='background-color:rgba(200,38.85688215494156,0,.6)'> pizza, pasta, desserts </span><span style='background-color:rgba(200,0.0,0,.6)'> we had an amazing meal here , and were confused by the fact that it wasn't even on yelp </span><span style='background-color:rgba(200,29.01776611804962,0,.6)'> do yourself a favor and go </span><span style='background-color:rgba(200,121.02809607982635,0,.6)'> enjoy </span>"
      ],
      "text/plain": [
       "<IPython.core.display.HTML object>"
      ]
     },
     "metadata": {},
     "output_type": "display_data"
    },
    {
     "name": "stdout",
     "output_type": "stream",
     "text": [
      "--------------------------\n",
      "review with polarity =0.9680736064910889\n"
     ]
    },
    {
     "data": {
      "text/html": [
       "<span style='background-color:rgba(200,105.60464769601822,0,.6)'>first to review everything on the menu is gluten free </span><span style='background-color:rgba(200,38.85688215494156,0,.6)'> pizza, pasta, desserts </span><span style='background-color:rgba(200,0.0,0,.6)'> we had an amazing meal here , and were confused by the fact that it wasn't even on yelp </span><span style='background-color:rgba(200,29.01776611804962,0,.6)'> do yourself a favor and go </span><span style='background-color:rgba(200,121.02809607982635,0,.6)'> enjoy </span>"
      ],
      "text/plain": [
       "<IPython.core.display.HTML object>"
      ]
     },
     "metadata": {},
     "output_type": "display_data"
    },
    {
     "name": "stdout",
     "output_type": "stream",
     "text": [
      "--------------------------\n",
      "review with polarity =0.9779748320579529\n"
     ]
    },
    {
     "data": {
      "text/html": [
       "<span style='background-color:rgba(200,172.29268804192543,0,.6)'>gluten free gem of paris </span><span style='background-color:rgba(200,118.62551540136337,0,.6)'> we ordered the burratina (mozzarella and tomatoes) which was delish and two separate pizzas </span><span style='background-color:rgba(200,33.368031084537506,0,.6)'> everything in this place is gluten free but they do have regular beer so keep an eye out </span><span style='background-color:rgba(200,50.11598199605942,0,.6)'> they brought gluten free bread with oil which always deserves at least two stars and they have menus in french and english </span><span style='background-color:rgba(200,0.0,0,.6)'> the servers were nice and accommodating and didn't scold my butchered french to my face which was greatly appreciated </span><span style='background-color:rgba(200,72.7849879860878,0,.6)'> only thing i was a bit disappointed with was the amount of cheese on the pizzas </span><span style='background-color:rgba(200,69.13900762796402,0,.6)'> having just been to italy, i was expecting something similar in terms of cheese quantity </span><span style='background-color:rgba(200,106.02864414453506,0,.6)'> i must have had a momentary lapse of where i was and how there is no such thing as too much cheese here </span><span style='background-color:rgba(200,176.6855563223362,0,.6)'> i will remember for next time so i'll have room to order dessert </span>"
      ],
      "text/plain": [
       "<IPython.core.display.HTML object>"
      ]
     },
     "metadata": {},
     "output_type": "display_data"
    },
    {
     "name": "stdout",
     "output_type": "stream",
     "text": [
      "--------------------------\n",
      "review with polarity =0.9779748320579529\n"
     ]
    },
    {
     "data": {
      "text/html": [
       "<span style='background-color:rgba(200,172.29268804192543,0,.6)'>gluten free gem of paris </span><span style='background-color:rgba(200,118.62551540136337,0,.6)'> we ordered the burratina (mozzarella and tomatoes) which was delish and two separate pizzas </span><span style='background-color:rgba(200,33.368031084537506,0,.6)'> everything in this place is gluten free but they do have regular beer so keep an eye out </span><span style='background-color:rgba(200,50.11598199605942,0,.6)'> they brought gluten free bread with oil which always deserves at least two stars and they have menus in french and english </span><span style='background-color:rgba(200,0.0,0,.6)'> the servers were nice and accommodating and didn't scold my butchered french to my face which was greatly appreciated </span><span style='background-color:rgba(200,72.7849879860878,0,.6)'> only thing i was a bit disappointed with was the amount of cheese on the pizzas </span><span style='background-color:rgba(200,69.13900762796402,0,.6)'> having just been to italy, i was expecting something similar in terms of cheese quantity </span><span style='background-color:rgba(200,106.02864414453506,0,.6)'> i must have had a momentary lapse of where i was and how there is no such thing as too much cheese here </span><span style='background-color:rgba(200,176.6855563223362,0,.6)'> i will remember for next time so i'll have room to order dessert </span>"
      ],
      "text/plain": [
       "<IPython.core.display.HTML object>"
      ]
     },
     "metadata": {},
     "output_type": "display_data"
    },
    {
     "name": "stdout",
     "output_type": "stream",
     "text": [
      "--------------------------\n",
      "review with polarity =0.9779748320579529\n"
     ]
    },
    {
     "data": {
      "text/html": [
       "<span style='background-color:rgba(200,172.29268804192543,0,.6)'>gluten free gem of paris </span><span style='background-color:rgba(200,118.62551540136337,0,.6)'> we ordered the burratina (mozzarella and tomatoes) which was delish and two separate pizzas </span><span style='background-color:rgba(200,33.368031084537506,0,.6)'> everything in this place is gluten free but they do have regular beer so keep an eye out </span><span style='background-color:rgba(200,50.11598199605942,0,.6)'> they brought gluten free bread with oil which always deserves at least two stars and they have menus in french and english </span><span style='background-color:rgba(200,0.0,0,.6)'> the servers were nice and accommodating and didn't scold my butchered french to my face which was greatly appreciated </span><span style='background-color:rgba(200,72.7849879860878,0,.6)'> only thing i was a bit disappointed with was the amount of cheese on the pizzas </span><span style='background-color:rgba(200,69.13900762796402,0,.6)'> having just been to italy, i was expecting something similar in terms of cheese quantity </span><span style='background-color:rgba(200,106.02864414453506,0,.6)'> i must have had a momentary lapse of where i was and how there is no such thing as too much cheese here </span><span style='background-color:rgba(200,176.6855563223362,0,.6)'> i will remember for next time so i'll have room to order dessert </span>"
      ],
      "text/plain": [
       "<IPython.core.display.HTML object>"
      ]
     },
     "metadata": {},
     "output_type": "display_data"
    },
    {
     "name": "stdout",
     "output_type": "stream",
     "text": [
      "--------------------------\n",
      "review with polarity =0.9735102653503418\n"
     ]
    },
    {
     "data": {
      "text/html": [
       "<span style='background-color:rgba(200,208.3024513721466,0,.6)'>gluten free italian restaurant with italian chefs </span><span style='background-color:rgba(200,0.0,0,.6)'> staff is super friendly and place is super cute </span><span style='background-color:rgba(200,30.55773228406906,0,.6)'> food was excellent and very aromatic </span><span style='background-color:rgba(200,27.719922959804535,0,.6)'> recommend </span><span style='background-color:rgba(200,185.00329479575157,0,.6)'> figuissimo </span>"
      ],
      "text/plain": [
       "<IPython.core.display.HTML object>"
      ]
     },
     "metadata": {},
     "output_type": "display_data"
    },
    {
     "name": "stdout",
     "output_type": "stream",
     "text": [
      "--------------------------\n",
      "review with polarity =0.9727110266685486\n"
     ]
    },
    {
     "data": {
      "text/html": [
       "<span style='background-color:rgba(200,197.5381799787283,0,.6)'>i cannot believe we found an italian, gluten-free restaurant in paris </span><span style='background-color:rgba(200,61.348772048950195,0,.6)'> hands down the best gluten free pizza crust i have ever had </span><span style='background-color:rgba(200,59.84032899141312,0,.6)'> the rigatoni bolognese was perfect, yes perfect </span><span style='background-color:rgba(200,38.72530281543732,0,.6)'> the wait staff were very friendly and the food was served quickly </span><span style='background-color:rgba(200,0.0,0,.6)'> oh, i forgot about the bruschetta that tasted like real italian bread,absolutely delicious </span><span style='background-color:rgba(200,25.191797018051147,0,.6)'> if this restaurant were in the united states it would be the hugest hit </span><span style='background-color:rgba(200,32.63226896524429,0,.6)'> and why can't they replicate this in the us </span><span style='background-color:rgba(200,145.07638245821,0,.6)'> this was a big treat </span><span style='background-color:rgba(200,139.20211046934128,0,.6)'> if you love italian food and craving authentic and delicious gluten free food- you must come here  </span>"
      ],
      "text/plain": [
       "<IPython.core.display.HTML object>"
      ]
     },
     "metadata": {},
     "output_type": "display_data"
    },
    {
     "name": "stdout",
     "output_type": "stream",
     "text": [
      "--------------------------\n",
      "review with polarity =0.9727110266685486\n"
     ]
    },
    {
     "data": {
      "text/html": [
       "<span style='background-color:rgba(200,197.5381799787283,0,.6)'>i cannot believe we found an italian, gluten-free restaurant in paris </span><span style='background-color:rgba(200,61.348772048950195,0,.6)'> hands down the best gluten free pizza crust i have ever had </span><span style='background-color:rgba(200,59.84032899141312,0,.6)'> the rigatoni bolognese was perfect, yes perfect </span><span style='background-color:rgba(200,38.72530281543732,0,.6)'> the wait staff were very friendly and the food was served quickly </span><span style='background-color:rgba(200,0.0,0,.6)'> oh, i forgot about the bruschetta that tasted like real italian bread,absolutely delicious </span><span style='background-color:rgba(200,25.191797018051147,0,.6)'> if this restaurant were in the united states it would be the hugest hit </span><span style='background-color:rgba(200,32.63226896524429,0,.6)'> and why can't they replicate this in the us </span><span style='background-color:rgba(200,145.07638245821,0,.6)'> this was a big treat </span><span style='background-color:rgba(200,139.20211046934128,0,.6)'> if you love italian food and craving authentic and delicious gluten free food- you must come here  </span>"
      ],
      "text/plain": [
       "<IPython.core.display.HTML object>"
      ]
     },
     "metadata": {},
     "output_type": "display_data"
    },
    {
     "name": "stdout",
     "output_type": "stream",
     "text": [
      "--------------------------\n",
      "review with polarity =0.9727110266685486\n"
     ]
    },
    {
     "data": {
      "text/html": [
       "<span style='background-color:rgba(200,197.5381799787283,0,.6)'>i cannot believe we found an italian, gluten-free restaurant in paris </span><span style='background-color:rgba(200,61.348772048950195,0,.6)'> hands down the best gluten free pizza crust i have ever had </span><span style='background-color:rgba(200,59.84032899141312,0,.6)'> the rigatoni bolognese was perfect, yes perfect </span><span style='background-color:rgba(200,38.72530281543732,0,.6)'> the wait staff were very friendly and the food was served quickly </span><span style='background-color:rgba(200,0.0,0,.6)'> oh, i forgot about the bruschetta that tasted like real italian bread,absolutely delicious </span><span style='background-color:rgba(200,25.191797018051147,0,.6)'> if this restaurant were in the united states it would be the hugest hit </span><span style='background-color:rgba(200,32.63226896524429,0,.6)'> and why can't they replicate this in the us </span><span style='background-color:rgba(200,145.07638245821,0,.6)'> this was a big treat </span><span style='background-color:rgba(200,139.20211046934128,0,.6)'> if you love italian food and craving authentic and delicious gluten free food- you must come here  </span>"
      ],
      "text/plain": [
       "<IPython.core.display.HTML object>"
      ]
     },
     "metadata": {},
     "output_type": "display_data"
    },
    {
     "name": "stdout",
     "output_type": "stream",
     "text": [
      "--------------------------\n",
      "review with polarity =0.9774717092514038\n"
     ]
    },
    {
     "data": {
      "text/html": [
       "<span style='background-color:rgba(200,206.8040055781603,0,.6)'>i love this pizza place in paris, gluten free lovers will really enjoy this restaurant </span><span style='background-color:rgba(200,87.95839458703995,0,.6)'> even if you are not gluten free you will enjoy it, everything one the menu is gluten free </span><span style='background-color:rgba(200,138.3272910118103,0,.6)'> the staff is super friendly and the service is amazing </span><span style='background-color:rgba(200,76.64813429117203,0,.6)'> my friend recommend and it did not disappoint </span><span style='background-color:rgba(200,59.66708868741989,0,.6)'> i am impressed by all the gluten free options in paris </span><span style='background-color:rgba(200,0.0,0,.6)'> this is definitely on my top gluten free restaurants there </span><span style='background-color:rgba(200,2.611493468284607,0,.6)'> the price points are great, not only is the pizza amazing but so are the dessert options </span><span style='background-color:rgba(200,88.83760660886765,0,.6)'> the fig cheese cake is a must, the presentation is simply picture perfect </span><span style='background-color:rgba(200,103.68784815073013,0,.6)'> a perfect spot to enjoy great conversation and food, not far from the metro </span><span style='background-color:rgba(200,114.30143862962723,0,.6)'> will definitely be back and recommend little nonna </span>"
      ],
      "text/plain": [
       "<IPython.core.display.HTML object>"
      ]
     },
     "metadata": {},
     "output_type": "display_data"
    },
    {
     "name": "stdout",
     "output_type": "stream",
     "text": [
      "--------------------------\n",
      "review with polarity =0.9774717092514038\n"
     ]
    },
    {
     "data": {
      "text/html": [
       "<span style='background-color:rgba(200,206.8040055781603,0,.6)'>i love this pizza place in paris, gluten free lovers will really enjoy this restaurant </span><span style='background-color:rgba(200,87.95839458703995,0,.6)'> even if you are not gluten free you will enjoy it, everything one the menu is gluten free </span><span style='background-color:rgba(200,138.3272910118103,0,.6)'> the staff is super friendly and the service is amazing </span><span style='background-color:rgba(200,76.64813429117203,0,.6)'> my friend recommend and it did not disappoint </span><span style='background-color:rgba(200,59.66708868741989,0,.6)'> i am impressed by all the gluten free options in paris </span><span style='background-color:rgba(200,0.0,0,.6)'> this is definitely on my top gluten free restaurants there </span><span style='background-color:rgba(200,2.611493468284607,0,.6)'> the price points are great, not only is the pizza amazing but so are the dessert options </span><span style='background-color:rgba(200,88.83760660886765,0,.6)'> the fig cheese cake is a must, the presentation is simply picture perfect </span><span style='background-color:rgba(200,103.68784815073013,0,.6)'> a perfect spot to enjoy great conversation and food, not far from the metro </span><span style='background-color:rgba(200,114.30143862962723,0,.6)'> will definitely be back and recommend little nonna </span>"
      ],
      "text/plain": [
       "<IPython.core.display.HTML object>"
      ]
     },
     "metadata": {},
     "output_type": "display_data"
    },
    {
     "name": "stdout",
     "output_type": "stream",
     "text": [
      "--------------------------\n",
      "review with polarity =0.9774717092514038\n"
     ]
    },
    {
     "data": {
      "text/html": [
       "<span style='background-color:rgba(200,206.8040055781603,0,.6)'>i love this pizza place in paris, gluten free lovers will really enjoy this restaurant </span><span style='background-color:rgba(200,87.95839458703995,0,.6)'> even if you are not gluten free you will enjoy it, everything one the menu is gluten free </span><span style='background-color:rgba(200,138.3272910118103,0,.6)'> the staff is super friendly and the service is amazing </span><span style='background-color:rgba(200,76.64813429117203,0,.6)'> my friend recommend and it did not disappoint </span><span style='background-color:rgba(200,59.66708868741989,0,.6)'> i am impressed by all the gluten free options in paris </span><span style='background-color:rgba(200,0.0,0,.6)'> this is definitely on my top gluten free restaurants there </span><span style='background-color:rgba(200,2.611493468284607,0,.6)'> the price points are great, not only is the pizza amazing but so are the dessert options </span><span style='background-color:rgba(200,88.83760660886765,0,.6)'> the fig cheese cake is a must, the presentation is simply picture perfect </span><span style='background-color:rgba(200,103.68784815073013,0,.6)'> a perfect spot to enjoy great conversation and food, not far from the metro </span><span style='background-color:rgba(200,114.30143862962723,0,.6)'> will definitely be back and recommend little nonna </span>"
      ],
      "text/plain": [
       "<IPython.core.display.HTML object>"
      ]
     },
     "metadata": {},
     "output_type": "display_data"
    },
    {
     "name": "stdout",
     "output_type": "stream",
     "text": [
      "--------------------------\n",
      "review with polarity =0.9774717092514038\n"
     ]
    },
    {
     "data": {
      "text/html": [
       "<span style='background-color:rgba(200,206.8040055781603,0,.6)'>i love this pizza place in paris, gluten free lovers will really enjoy this restaurant </span><span style='background-color:rgba(200,87.95839458703995,0,.6)'> even if you are not gluten free you will enjoy it, everything one the menu is gluten free </span><span style='background-color:rgba(200,138.3272910118103,0,.6)'> the staff is super friendly and the service is amazing </span><span style='background-color:rgba(200,76.64813429117203,0,.6)'> my friend recommend and it did not disappoint </span><span style='background-color:rgba(200,59.66708868741989,0,.6)'> i am impressed by all the gluten free options in paris </span><span style='background-color:rgba(200,0.0,0,.6)'> this is definitely on my top gluten free restaurants there </span><span style='background-color:rgba(200,2.611493468284607,0,.6)'> the price points are great, not only is the pizza amazing but so are the dessert options </span><span style='background-color:rgba(200,88.83760660886765,0,.6)'> the fig cheese cake is a must, the presentation is simply picture perfect </span><span style='background-color:rgba(200,103.68784815073013,0,.6)'> a perfect spot to enjoy great conversation and food, not far from the metro </span><span style='background-color:rgba(200,114.30143862962723,0,.6)'> will definitely be back and recommend little nonna </span>"
      ],
      "text/plain": [
       "<IPython.core.display.HTML object>"
      ]
     },
     "metadata": {},
     "output_type": "display_data"
    },
    {
     "name": "stdout",
     "output_type": "stream",
     "text": [
      "--------------------------\n",
      "review with polarity =0.9774717092514038\n"
     ]
    },
    {
     "data": {
      "text/html": [
       "<span style='background-color:rgba(200,206.8040055781603,0,.6)'>i love this pizza place in paris, gluten free lovers will really enjoy this restaurant </span><span style='background-color:rgba(200,87.95839458703995,0,.6)'> even if you are not gluten free you will enjoy it, everything one the menu is gluten free </span><span style='background-color:rgba(200,138.3272910118103,0,.6)'> the staff is super friendly and the service is amazing </span><span style='background-color:rgba(200,76.64813429117203,0,.6)'> my friend recommend and it did not disappoint </span><span style='background-color:rgba(200,59.66708868741989,0,.6)'> i am impressed by all the gluten free options in paris </span><span style='background-color:rgba(200,0.0,0,.6)'> this is definitely on my top gluten free restaurants there </span><span style='background-color:rgba(200,2.611493468284607,0,.6)'> the price points are great, not only is the pizza amazing but so are the dessert options </span><span style='background-color:rgba(200,88.83760660886765,0,.6)'> the fig cheese cake is a must, the presentation is simply picture perfect </span><span style='background-color:rgba(200,103.68784815073013,0,.6)'> a perfect spot to enjoy great conversation and food, not far from the metro </span><span style='background-color:rgba(200,114.30143862962723,0,.6)'> will definitely be back and recommend little nonna </span>"
      ],
      "text/plain": [
       "<IPython.core.display.HTML object>"
      ]
     },
     "metadata": {},
     "output_type": "display_data"
    },
    {
     "name": "stdout",
     "output_type": "stream",
     "text": [
      "--------------------------\n",
      "review with polarity =0.9758530855178833\n"
     ]
    },
    {
     "data": {
      "text/html": [
       "<span style='background-color:rgba(200,188.13320204615593,0,.6)'>i've been gluten-free for over years now and this is the best gluten free pizza i've ever had </span><span style='background-color:rgba(200,84.87586319446564,0,.6)'> the bread given was also great </span><span style='background-color:rgba(200,2.358548641204834,0,.6)'> they provide an english menu wish is really helpful, as well as the server spoke some english </span><span style='background-color:rgba(200,70.82833617925644,0,.6)'> service, food, everything was overall great and i couldn't recommend little nonna more </span><span style='background-color:rgba(200,106.69718027114868,0,.6)'> a really tasty place for gluten-free people or not </span><span style='background-color:rgba(200,62.08277106285095,0,.6)'> very welcoming and a cute place </span><span style='background-color:rgba(200,0.0,0,.6)'> see all photos from carson d </span><span style='background-color:rgba(200,150.66610291600227,0,.6)'> for little nonna </span>"
      ],
      "text/plain": [
       "<IPython.core.display.HTML object>"
      ]
     },
     "metadata": {},
     "output_type": "display_data"
    },
    {
     "name": "stdout",
     "output_type": "stream",
     "text": [
      "--------------------------\n",
      "review with polarity =0.9758530855178833\n"
     ]
    },
    {
     "data": {
      "text/html": [
       "<span style='background-color:rgba(200,188.13320204615593,0,.6)'>i've been gluten-free for over years now and this is the best gluten free pizza i've ever had </span><span style='background-color:rgba(200,84.87586319446564,0,.6)'> the bread given was also great </span><span style='background-color:rgba(200,2.358548641204834,0,.6)'> they provide an english menu wish is really helpful, as well as the server spoke some english </span><span style='background-color:rgba(200,70.82833617925644,0,.6)'> service, food, everything was overall great and i couldn't recommend little nonna more </span><span style='background-color:rgba(200,106.69718027114868,0,.6)'> a really tasty place for gluten-free people or not </span><span style='background-color:rgba(200,62.08277106285095,0,.6)'> very welcoming and a cute place </span><span style='background-color:rgba(200,0.0,0,.6)'> see all photos from carson d </span><span style='background-color:rgba(200,150.66610291600227,0,.6)'> for little nonna </span>"
      ],
      "text/plain": [
       "<IPython.core.display.HTML object>"
      ]
     },
     "metadata": {},
     "output_type": "display_data"
    },
    {
     "name": "stdout",
     "output_type": "stream",
     "text": [
      "--------------------------\n",
      "review with polarity =0.9772168397903442\n"
     ]
    },
    {
     "data": {
      "text/html": [
       "<span style='background-color:rgba(200,229.88227240741253,0,.6)'>little nonna is one of the most highly rated gluten-free restaurants by search categary i've ever seen, with an average rating of  </span><span style='background-color:rgba(200,101.95275485515594,0,.6)'> stars from reviews </span><span style='background-color:rgba(200,148.8955195248127,0,.6)'> little nonna is a gluten-free pizzeria, they do have some other dishes including pasta but the main feature is the pizza </span><span style='background-color:rgba(200,75.33244729042053,0,.6)'> i ended up going for a margarita which was reasonably priced at euros, some pizzas went up to around the euro mark however many of the other pizzas and dishes overall seemed to have at least one item i didn't like, they seemed to be going fancy rather than good, simple dishes </span><span style='background-color:rgba(200,101.20711326599121,0,.6)'> they didn't have an english menu, it was easy to understand even for my friend who doesn't speak french as it was part italian and part english </span><span style='background-color:rgba(200,89.07214522361755,0,.6)'> my pizza overall was okay, it was seasoned well however i did find the base to be a little too thick, and the cheese had a slight chewiness too it, but overall it was a pretty decent pizza </span><span style='background-color:rgba(200,43.74688535928726,0,.6)'> they had nice tables inside, the restauraunt and toilets were clean </span><span style='background-color:rgba(200,0.0,0,.6)'> as with the majority of restaurants in france, there is a good amount of outdoor seating too </span><span style='background-color:rgba(200,33.888998329639435,0,.6)'> * - no thrills but sometimes that's the price to pay for a safe gluten-free meal </span><span style='background-color:rgba(200,130.7697169482708,0,.6)'> although i'm unlikely to return, i wouldn't avoid this place either </span>"
      ],
      "text/plain": [
       "<IPython.core.display.HTML object>"
      ]
     },
     "metadata": {},
     "output_type": "display_data"
    },
    {
     "name": "stdout",
     "output_type": "stream",
     "text": [
      "--------------------------\n",
      "review with polarity =0.9772168397903442\n"
     ]
    },
    {
     "data": {
      "text/html": [
       "<span style='background-color:rgba(200,229.88227240741253,0,.6)'>little nonna is one of the most highly rated gluten-free restaurants by search categary i've ever seen, with an average rating of  </span><span style='background-color:rgba(200,101.95275485515594,0,.6)'> stars from reviews </span><span style='background-color:rgba(200,148.8955195248127,0,.6)'> little nonna is a gluten-free pizzeria, they do have some other dishes including pasta but the main feature is the pizza </span><span style='background-color:rgba(200,75.33244729042053,0,.6)'> i ended up going for a margarita which was reasonably priced at euros, some pizzas went up to around the euro mark however many of the other pizzas and dishes overall seemed to have at least one item i didn't like, they seemed to be going fancy rather than good, simple dishes </span><span style='background-color:rgba(200,101.20711326599121,0,.6)'> they didn't have an english menu, it was easy to understand even for my friend who doesn't speak french as it was part italian and part english </span><span style='background-color:rgba(200,89.07214522361755,0,.6)'> my pizza overall was okay, it was seasoned well however i did find the base to be a little too thick, and the cheese had a slight chewiness too it, but overall it was a pretty decent pizza </span><span style='background-color:rgba(200,43.74688535928726,0,.6)'> they had nice tables inside, the restauraunt and toilets were clean </span><span style='background-color:rgba(200,0.0,0,.6)'> as with the majority of restaurants in france, there is a good amount of outdoor seating too </span><span style='background-color:rgba(200,33.888998329639435,0,.6)'> * - no thrills but sometimes that's the price to pay for a safe gluten-free meal </span><span style='background-color:rgba(200,130.7697169482708,0,.6)'> although i'm unlikely to return, i wouldn't avoid this place either </span>"
      ],
      "text/plain": [
       "<IPython.core.display.HTML object>"
      ]
     },
     "metadata": {},
     "output_type": "display_data"
    },
    {
     "name": "stdout",
     "output_type": "stream",
     "text": [
      "--------------------------\n",
      "review with polarity =0.9772168397903442\n"
     ]
    },
    {
     "data": {
      "text/html": [
       "<span style='background-color:rgba(200,229.88227240741253,0,.6)'>little nonna is one of the most highly rated gluten-free restaurants by search categary i've ever seen, with an average rating of  </span><span style='background-color:rgba(200,101.95275485515594,0,.6)'> stars from reviews </span><span style='background-color:rgba(200,148.8955195248127,0,.6)'> little nonna is a gluten-free pizzeria, they do have some other dishes including pasta but the main feature is the pizza </span><span style='background-color:rgba(200,75.33244729042053,0,.6)'> i ended up going for a margarita which was reasonably priced at euros, some pizzas went up to around the euro mark however many of the other pizzas and dishes overall seemed to have at least one item i didn't like, they seemed to be going fancy rather than good, simple dishes </span><span style='background-color:rgba(200,101.20711326599121,0,.6)'> they didn't have an english menu, it was easy to understand even for my friend who doesn't speak french as it was part italian and part english </span><span style='background-color:rgba(200,89.07214522361755,0,.6)'> my pizza overall was okay, it was seasoned well however i did find the base to be a little too thick, and the cheese had a slight chewiness too it, but overall it was a pretty decent pizza </span><span style='background-color:rgba(200,43.74688535928726,0,.6)'> they had nice tables inside, the restauraunt and toilets were clean </span><span style='background-color:rgba(200,0.0,0,.6)'> as with the majority of restaurants in france, there is a good amount of outdoor seating too </span><span style='background-color:rgba(200,33.888998329639435,0,.6)'> * - no thrills but sometimes that's the price to pay for a safe gluten-free meal </span><span style='background-color:rgba(200,130.7697169482708,0,.6)'> although i'm unlikely to return, i wouldn't avoid this place either </span>"
      ],
      "text/plain": [
       "<IPython.core.display.HTML object>"
      ]
     },
     "metadata": {},
     "output_type": "display_data"
    },
    {
     "name": "stdout",
     "output_type": "stream",
     "text": [
      "--------------------------\n",
      "review with polarity =0.9651741981506348\n"
     ]
    },
    {
     "data": {
      "text/html": [
       "<span style='background-color:rgba(200,106.06497019529343,0,.6)'>my celiac wife and i were so happy to find many great food options in paris, but this was our favorite spot </span><span style='background-color:rgba(200,16.32111221551895,0,.6)'> pizza crust was so tasty and chewy, i honestly did a double take </span><span style='background-color:rgba(200,0.0,0,.6)'> my wife asked several times to make sure it was indeed gluten free </span><span style='background-color:rgba(200,42.11200028657913,0,.6)'> on another level from our options in the states </span><span style='background-color:rgba(200,132.47972398996353,0,.6)'> a wonderful spot that we'll revisit during our next trip to paris </span>"
      ],
      "text/plain": [
       "<IPython.core.display.HTML object>"
      ]
     },
     "metadata": {},
     "output_type": "display_data"
    },
    {
     "name": "stdout",
     "output_type": "stream",
     "text": [
      "--------------------------\n",
      "review with polarity =0.9651741981506348\n"
     ]
    },
    {
     "data": {
      "text/html": [
       "<span style='background-color:rgba(200,106.06497019529343,0,.6)'>my celiac wife and i were so happy to find many great food options in paris, but this was our favorite spot </span><span style='background-color:rgba(200,16.32111221551895,0,.6)'> pizza crust was so tasty and chewy, i honestly did a double take </span><span style='background-color:rgba(200,0.0,0,.6)'> my wife asked several times to make sure it was indeed gluten free </span><span style='background-color:rgba(200,42.11200028657913,0,.6)'> on another level from our options in the states </span><span style='background-color:rgba(200,132.47972398996353,0,.6)'> a wonderful spot that we'll revisit during our next trip to paris </span>"
      ],
      "text/plain": [
       "<IPython.core.display.HTML object>"
      ]
     },
     "metadata": {},
     "output_type": "display_data"
    },
    {
     "name": "stdout",
     "output_type": "stream",
     "text": [
      "--------------------------\n",
      "review with polarity =0.9764962792396545\n"
     ]
    },
    {
     "data": {
      "text/html": [
       "<span style='background-color:rgba(200,174.3023318052292,0,.6)'>omg this place was amazing </span><span style='background-color:rgba(200,35.68630188703537,0,.6)'> this was definitely the highlight of our paris trip, so much do that we ended up coming back a second night </span><span style='background-color:rgba(200,0.0,0,.6)'> it was amazing being able to get anything you wanted off the menu </span><span style='background-color:rgba(200,23.421076834201813,0,.6)'> we were especially excited up because able to get gf draft beer, which rarely happens anywhere </span><span style='background-color:rgba(200,115.12736231088638,0,.6)'> the first night we got pizzas, which were so good </span><span style='background-color:rgba(200,75.88270336389542,0,.6)'> the dough had a bit of chew to it even though it was gluten free </span><span style='background-color:rgba(200,107.69964247941971,0,.6)'> the nonnargherita was especially good with tons of cheese </span><span style='background-color:rgba(200,100.38232952356339,0,.6)'> the marco polo would have been amazing if they could have added dairy free cheese but it was still very good </span><span style='background-color:rgba(200,106.6242241859436,0,.6)'> the fritters mari e monti was probably the most disappointing part of the meal the first night as it was a little overdone so it was quite chewy </span><span style='background-color:rgba(200,94.88508850336075,0,.6)'> the tiramisu made up for it though </span><span style='background-color:rgba(200,133.50686967372894,0,.6)'> it was moist and decadent and was the perfect way to end the meal </span><span style='background-color:rgba(200,99.66859102249146,0,.6)'> the next time we tried the gnocchi, risotto and the burger </span><span style='background-color:rgba(200,139.04758036136627,0,.6)'> they were all very good, although my husband said the burger bun was s little dry (typical of gf) </span><span style='background-color:rgba(200,134.3676146864891,0,.6)'> the pasta and risotto were filling but not as good as the pizzas, so if you come in i highly recommend just sticking to those </span><span style='background-color:rgba(200,105.93404442071915,0,.6)'> i will definitely be back the next time i am in paris </span>"
      ],
      "text/plain": [
       "<IPython.core.display.HTML object>"
      ]
     },
     "metadata": {},
     "output_type": "display_data"
    },
    {
     "name": "stdout",
     "output_type": "stream",
     "text": [
      "--------------------------\n",
      "review with polarity =0.9764962792396545\n"
     ]
    },
    {
     "data": {
      "text/html": [
       "<span style='background-color:rgba(200,174.3023318052292,0,.6)'>omg this place was amazing </span><span style='background-color:rgba(200,35.68630188703537,0,.6)'> this was definitely the highlight of our paris trip, so much do that we ended up coming back a second night </span><span style='background-color:rgba(200,0.0,0,.6)'> it was amazing being able to get anything you wanted off the menu </span><span style='background-color:rgba(200,23.421076834201813,0,.6)'> we were especially excited up because able to get gf draft beer, which rarely happens anywhere </span><span style='background-color:rgba(200,115.12736231088638,0,.6)'> the first night we got pizzas, which were so good </span><span style='background-color:rgba(200,75.88270336389542,0,.6)'> the dough had a bit of chew to it even though it was gluten free </span><span style='background-color:rgba(200,107.69964247941971,0,.6)'> the nonnargherita was especially good with tons of cheese </span><span style='background-color:rgba(200,100.38232952356339,0,.6)'> the marco polo would have been amazing if they could have added dairy free cheese but it was still very good </span><span style='background-color:rgba(200,106.6242241859436,0,.6)'> the fritters mari e monti was probably the most disappointing part of the meal the first night as it was a little overdone so it was quite chewy </span><span style='background-color:rgba(200,94.88508850336075,0,.6)'> the tiramisu made up for it though </span><span style='background-color:rgba(200,133.50686967372894,0,.6)'> it was moist and decadent and was the perfect way to end the meal </span><span style='background-color:rgba(200,99.66859102249146,0,.6)'> the next time we tried the gnocchi, risotto and the burger </span><span style='background-color:rgba(200,139.04758036136627,0,.6)'> they were all very good, although my husband said the burger bun was s little dry (typical of gf) </span><span style='background-color:rgba(200,134.3676146864891,0,.6)'> the pasta and risotto were filling but not as good as the pizzas, so if you come in i highly recommend just sticking to those </span><span style='background-color:rgba(200,105.93404442071915,0,.6)'> i will definitely be back the next time i am in paris </span>"
      ],
      "text/plain": [
       "<IPython.core.display.HTML object>"
      ]
     },
     "metadata": {},
     "output_type": "display_data"
    },
    {
     "name": "stdout",
     "output_type": "stream",
     "text": [
      "--------------------------\n",
      "review with polarity =0.9661061763763428\n"
     ]
    },
    {
     "data": {
      "text/html": [
       "<span style='background-color:rgba(200,157.8627571463585,0,.6)'>on our recent trip to paris, we ate here times in days </span><span style='background-color:rgba(200,43.6326938867569,0,.6)'> my wife is gluten free, my daughter and i are not, but it doesn't matter </span><span style='background-color:rgba(200,143.57772767543793,0,.6)'> as others have said, you would never know the pizza crust was gf </span><span style='background-color:rgba(200,9.377167224884033,0,.6)'> overall the food was very good </span><span style='background-color:rgba(200,0.0,0,.6)'> my only suggestion for improvement would be to add more vegetarian options to the pizza menu </span><span style='background-color:rgba(200,105.87820261716843,0,.6)'> nevertheless,  s </span>"
      ],
      "text/plain": [
       "<IPython.core.display.HTML object>"
      ]
     },
     "metadata": {},
     "output_type": "display_data"
    },
    {
     "name": "stdout",
     "output_type": "stream",
     "text": [
      "--------------------------\n",
      "review with polarity =0.9661061763763428\n"
     ]
    },
    {
     "data": {
      "text/html": [
       "<span style='background-color:rgba(200,157.8627571463585,0,.6)'>on our recent trip to paris, we ate here times in days </span><span style='background-color:rgba(200,43.6326938867569,0,.6)'> my wife is gluten free, my daughter and i are not, but it doesn't matter </span><span style='background-color:rgba(200,143.57772767543793,0,.6)'> as others have said, you would never know the pizza crust was gf </span><span style='background-color:rgba(200,9.377167224884033,0,.6)'> overall the food was very good </span><span style='background-color:rgba(200,0.0,0,.6)'> my only suggestion for improvement would be to add more vegetarian options to the pizza menu </span><span style='background-color:rgba(200,105.87820261716843,0,.6)'> nevertheless,  s </span>"
      ],
      "text/plain": [
       "<IPython.core.display.HTML object>"
      ]
     },
     "metadata": {},
     "output_type": "display_data"
    },
    {
     "name": "stdout",
     "output_type": "stream",
     "text": [
      "--------------------------\n",
      "review with polarity =0.9661061763763428\n"
     ]
    },
    {
     "data": {
      "text/html": [
       "<span style='background-color:rgba(200,157.8627571463585,0,.6)'>on our recent trip to paris, we ate here times in days </span><span style='background-color:rgba(200,43.6326938867569,0,.6)'> my wife is gluten free, my daughter and i are not, but it doesn't matter </span><span style='background-color:rgba(200,143.57772767543793,0,.6)'> as others have said, you would never know the pizza crust was gf </span><span style='background-color:rgba(200,9.377167224884033,0,.6)'> overall the food was very good </span><span style='background-color:rgba(200,0.0,0,.6)'> my only suggestion for improvement would be to add more vegetarian options to the pizza menu </span><span style='background-color:rgba(200,105.87820261716843,0,.6)'> nevertheless,  s </span>"
      ],
      "text/plain": [
       "<IPython.core.display.HTML object>"
      ]
     },
     "metadata": {},
     "output_type": "display_data"
    },
    {
     "name": "stdout",
     "output_type": "stream",
     "text": [
      "--------------------------\n",
      "review with polarity =0.9752357006072998\n"
     ]
    },
    {
     "data": {
      "text/html": [
       "<span style='background-color:rgba(200,87.56649881601334,0,.6)'>terrific food, nice atmosphere and a friendly team serving us </span><span style='background-color:rgba(200,0.0,0,.6)'> can't say enough good things about this % gf italian restaurant </span><span style='background-color:rgba(200,21.0022634267807,0,.6)'> the pizza is fantastic </span><span style='background-color:rgba(200,26.34632706642151,0,.6)'> the deep fried calamari is great </span><span style='background-color:rgba(200,84.85681861639023,0,.6)'> the bruschetta was great </span><span style='background-color:rgba(200,13.845301866531372,0,.6)'> and the profiteroles were excellent </span><span style='background-color:rgba(200,74.99461501836777,0,.6)'> really an all round great restaurant </span><span style='background-color:rgba(200,58.61636906862259,0,.6)'> can't wait to return </span>"
      ],
      "text/plain": [
       "<IPython.core.display.HTML object>"
      ]
     },
     "metadata": {},
     "output_type": "display_data"
    },
    {
     "name": "stdout",
     "output_type": "stream",
     "text": [
      "--------------------------\n",
      "review with polarity =1.0\n"
     ]
    },
    {
     "data": {
      "text/html": [
       "<span style='background-color:rgba(200,255.0,0,.6)'>the pizza was absolutely delicious and it was such a treat to order anything and know it would be gluten free </span>"
      ],
      "text/plain": [
       "<IPython.core.display.HTML object>"
      ]
     },
     "metadata": {},
     "output_type": "display_data"
    },
    {
     "name": "stdout",
     "output_type": "stream",
     "text": [
      "--------------------------\n",
      "review with polarity =0.9757619500160217\n"
     ]
    },
    {
     "data": {
      "text/html": [
       "<span style='background-color:rgba(200,61.27493441104889,0,.6)'>they we're extremely welcoming, sat us right away </span><span style='background-color:rgba(200,32.89051830768585,0,.6)'> very kind, could easily tell that we didn't speak french so they gave us the english menu and said if we had any questions to just ask </span><span style='background-color:rgba(200,41.45384520292282,0,.6)'> our waitress helped us pick a sweet wine that paired nicely with the meal </span><span style='background-color:rgba(200,40.11528342962265,0,.6)'> cool atmosphere, with optional indoor or outside seating </span><span style='background-color:rgba(200,0.0,0,.6)'> unlike other places that turn you away early if it was within the closing mark, forty-five minutes, they didn't and they closed in twenty four minutes </span><span style='background-color:rgba(200,154.32980552315712,0,.6)'> husband loved his pizza, even though the penne bolognese was yummy i did like his pizza better </span><span style='background-color:rgba(200,71.41719818115234,0,.6)'> thank you for having us and we will definitely be recommending you to our friends </span><span style='background-color:rgba(200,76.37646406888962,0,.6)'> :) </span>"
      ],
      "text/plain": [
       "<IPython.core.display.HTML object>"
      ]
     },
     "metadata": {},
     "output_type": "display_data"
    },
    {
     "name": "stdout",
     "output_type": "stream",
     "text": [
      "--------------------------\n",
      "review with polarity =0.9643253087997437\n"
     ]
    },
    {
     "data": {
      "text/html": [
       "<span style='background-color:rgba(200,184.04386147856712,0,.6)'>this is substantially the best gluten free anything i've ever had </span><span style='background-color:rgba(200,50.8376544713974,0,.6)'> the pizza crust has elasticity, bite </span><span style='background-color:rgba(200,49.83269959688187,0,.6)'> everything </span><span style='background-color:rgba(200,0.0,0,.6)'> the staff is also very friendly and accommodating to english speakers </span><span style='background-color:rgba(200,30.171414613723755,0,.6)'> i highly recommend </span>"
      ],
      "text/plain": [
       "<IPython.core.display.HTML object>"
      ]
     },
     "metadata": {},
     "output_type": "display_data"
    },
    {
     "name": "stdout",
     "output_type": "stream",
     "text": [
      "--------------------------\n",
      "review with polarity =0.9643253087997437\n"
     ]
    },
    {
     "data": {
      "text/html": [
       "<span style='background-color:rgba(200,184.04386147856712,0,.6)'>this is substantially the best gluten free anything i've ever had </span><span style='background-color:rgba(200,50.8376544713974,0,.6)'> the pizza crust has elasticity, bite </span><span style='background-color:rgba(200,49.83269959688187,0,.6)'> everything </span><span style='background-color:rgba(200,0.0,0,.6)'> the staff is also very friendly and accommodating to english speakers </span><span style='background-color:rgba(200,30.171414613723755,0,.6)'> i highly recommend </span>"
      ],
      "text/plain": [
       "<IPython.core.display.HTML object>"
      ]
     },
     "metadata": {},
     "output_type": "display_data"
    },
    {
     "name": "stdout",
     "output_type": "stream",
     "text": [
      "--------------------------\n",
      "review with polarity =0.971210777759552\n"
     ]
    },
    {
     "data": {
      "text/html": [
       "<span style='background-color:rgba(200,220.54580099880695,0,.6)'>this little gem is a gluten-free eater's paradise </span><span style='background-color:rgba(200,0.0,0,.6)'> since moving to southern france with allergies to wheat, barley, and rye, i have been disappointed time and time again by the utter lack of gluten free options available there </span><span style='background-color:rgba(200,5.472207963466644,0,.6)'> whenever i find myself in paris, i make a point of eating here at least twice a trip </span><span style='background-color:rgba(200,16.059519052505493,0,.6)'> unlike most gluten-free cuisine, you would never guess you were eating anything but a wheat crust, plus their appetizers and wine selections are outstanding </span><span style='background-color:rgba(200,76.88166975975037,0,.6)'> while i normally struggle to clear my plate, that's never an issue here </span><span style='background-color:rgba(200,180.2276350557804,0,.6)'> gluten-free or not, little nonna's will not disappoint </span>"
      ],
      "text/plain": [
       "<IPython.core.display.HTML object>"
      ]
     },
     "metadata": {},
     "output_type": "display_data"
    },
    {
     "name": "stdout",
     "output_type": "stream",
     "text": [
      "--------------------------\n",
      "review with polarity =0.971210777759552\n"
     ]
    },
    {
     "data": {
      "text/html": [
       "<span style='background-color:rgba(200,220.54580099880695,0,.6)'>this little gem is a gluten-free eater's paradise </span><span style='background-color:rgba(200,0.0,0,.6)'> since moving to southern france with allergies to wheat, barley, and rye, i have been disappointed time and time again by the utter lack of gluten free options available there </span><span style='background-color:rgba(200,5.472207963466644,0,.6)'> whenever i find myself in paris, i make a point of eating here at least twice a trip </span><span style='background-color:rgba(200,16.059519052505493,0,.6)'> unlike most gluten-free cuisine, you would never guess you were eating anything but a wheat crust, plus their appetizers and wine selections are outstanding </span><span style='background-color:rgba(200,76.88166975975037,0,.6)'> while i normally struggle to clear my plate, that's never an issue here </span><span style='background-color:rgba(200,180.2276350557804,0,.6)'> gluten-free or not, little nonna's will not disappoint </span>"
      ],
      "text/plain": [
       "<IPython.core.display.HTML object>"
      ]
     },
     "metadata": {},
     "output_type": "display_data"
    },
    {
     "name": "stdout",
     "output_type": "stream",
     "text": [
      "--------------------------\n",
      "review with polarity =0.971210777759552\n"
     ]
    },
    {
     "data": {
      "text/html": [
       "<span style='background-color:rgba(200,220.54580099880695,0,.6)'>this little gem is a gluten-free eater's paradise </span><span style='background-color:rgba(200,0.0,0,.6)'> since moving to southern france with allergies to wheat, barley, and rye, i have been disappointed time and time again by the utter lack of gluten free options available there </span><span style='background-color:rgba(200,5.472207963466644,0,.6)'> whenever i find myself in paris, i make a point of eating here at least twice a trip </span><span style='background-color:rgba(200,16.059519052505493,0,.6)'> unlike most gluten-free cuisine, you would never guess you were eating anything but a wheat crust, plus their appetizers and wine selections are outstanding </span><span style='background-color:rgba(200,76.88166975975037,0,.6)'> while i normally struggle to clear my plate, that's never an issue here </span><span style='background-color:rgba(200,180.2276350557804,0,.6)'> gluten-free or not, little nonna's will not disappoint </span>"
      ],
      "text/plain": [
       "<IPython.core.display.HTML object>"
      ]
     },
     "metadata": {},
     "output_type": "display_data"
    },
    {
     "name": "stdout",
     "output_type": "stream",
     "text": [
      "--------------------------\n",
      "review with polarity =0.9795916080474854\n"
     ]
    },
    {
     "data": {
      "text/html": [
       "<span style='background-color:rgba(200,181.61591336131096,0,.6)'>this may be my favorite restaurant on earth, and the next time i am in paris i will be sure to stay within walking distance </span><span style='background-color:rgba(200,41.57169967889786,0,.6)'> i went there times in week on my last trip </span><span style='background-color:rgba(200,117.77939200401306,0,.6)'> the pizza was amazing--the best gf pizza you can find </span><span style='background-color:rgba(200,99.52906250953674,0,.6)'> the gnocchi made me want to crawl up in the bowl and take a nap in it </span><span style='background-color:rgba(200,106.93158209323883,0,.6)'> the charcuterie board was generously portioned and superb </span><span style='background-color:rgba(200,109.41096425056458,0,.6)'> the caesar salad was crisp and fresh (if i order it again, i will get it without dressing, or with the dressing) </span><span style='background-color:rgba(200,88.98921847343445,0,.6)'> i certainly didn't need another reason to visit paris, but i just found one </span><span style='background-color:rgba(200,0.0,0,.6)'> some people go there to fall in love </span><span style='background-color:rgba(200,157.98285350203514,0,.6)'>i just fell for a restaurant </span>"
      ],
      "text/plain": [
       "<IPython.core.display.HTML object>"
      ]
     },
     "metadata": {},
     "output_type": "display_data"
    },
    {
     "name": "stdout",
     "output_type": "stream",
     "text": [
      "--------------------------\n",
      "review with polarity =0.9706642627716064\n"
     ]
    },
    {
     "data": {
      "text/html": [
       "<span style='background-color:rgba(200,187.25871697068214,0,.6)'>this place has the best gluten free pizza crust i've ever eaten </span><span style='background-color:rgba(200,7.065629661083221,0,.6)'> i got the diabolo and it was good but a little spicy </span><span style='background-color:rgba(200,45.53154319524765,0,.6)'> the four cheese was good to </span><span style='background-color:rgba(200,0.0,0,.6)'> excellent pizza </span><span style='background-color:rgba(200,90.53222447633743,0,.6)'> for desert we got tiramisu, cheesecake and figuissmo which were all great too </span><span style='background-color:rgba(200,19.213517010211945,0,.6)'> if you eat gluten free you have to eat here </span>"
      ],
      "text/plain": [
       "<IPython.core.display.HTML object>"
      ]
     },
     "metadata": {},
     "output_type": "display_data"
    },
    {
     "name": "stdout",
     "output_type": "stream",
     "text": [
      "--------------------------\n",
      "review with polarity =0.9706642627716064\n"
     ]
    },
    {
     "data": {
      "text/html": [
       "<span style='background-color:rgba(200,187.25871697068214,0,.6)'>this place has the best gluten free pizza crust i've ever eaten </span><span style='background-color:rgba(200,7.065629661083221,0,.6)'> i got the diabolo and it was good but a little spicy </span><span style='background-color:rgba(200,45.53154319524765,0,.6)'> the four cheese was good to </span><span style='background-color:rgba(200,0.0,0,.6)'> excellent pizza </span><span style='background-color:rgba(200,90.53222447633743,0,.6)'> for desert we got tiramisu, cheesecake and figuissmo which were all great too </span><span style='background-color:rgba(200,19.213517010211945,0,.6)'> if you eat gluten free you have to eat here </span>"
      ],
      "text/plain": [
       "<IPython.core.display.HTML object>"
      ]
     },
     "metadata": {},
     "output_type": "display_data"
    },
    {
     "name": "stdout",
     "output_type": "stream",
     "text": [
      "--------------------------\n",
      "review with polarity =0.9706642627716064\n"
     ]
    },
    {
     "data": {
      "text/html": [
       "<span style='background-color:rgba(200,187.25871697068214,0,.6)'>this place has the best gluten free pizza crust i've ever eaten </span><span style='background-color:rgba(200,7.065629661083221,0,.6)'> i got the diabolo and it was good but a little spicy </span><span style='background-color:rgba(200,45.53154319524765,0,.6)'> the four cheese was good to </span><span style='background-color:rgba(200,0.0,0,.6)'> excellent pizza </span><span style='background-color:rgba(200,90.53222447633743,0,.6)'> for desert we got tiramisu, cheesecake and figuissmo which were all great too </span><span style='background-color:rgba(200,19.213517010211945,0,.6)'> if you eat gluten free you have to eat here </span>"
      ],
      "text/plain": [
       "<IPython.core.display.HTML object>"
      ]
     },
     "metadata": {},
     "output_type": "display_data"
    },
    {
     "name": "stdout",
     "output_type": "stream",
     "text": [
      "--------------------------\n",
      "review with polarity =0.0\n"
     ]
    },
    {
     "data": {
      "text/html": [
       "<span style='background-color:rgba(200,255.0,0,.6)'>this restaurant is a quick walk from the arc </span><span style='background-color:rgba(200,255.0,0,.6)'> we did not have reservations and waited only minutes to be seated </span><span style='background-color:rgba(200,255.0,0,.6)'> we ordered the pizza with mushrooms and an order of pasta w meatballs </span><span style='background-color:rgba(200,255.0,0,.6)'> the pizza was great and couldn't even tell it was gluten free </span><span style='background-color:rgba(200,255.0,0,.6)'> the pasta was super bland </span><span style='background-color:rgba(200,255.0,0,.6)'> it tasted like cardboard - definitely skip this </span><span style='background-color:rgba(200,255.0,0,.6)'> the hostess took forever to get to our table and take our order </span><span style='background-color:rgba(200,255.0,0,.6)'>  i would go back here and just order the pizza  </span>"
      ],
      "text/plain": [
       "<IPython.core.display.HTML object>"
      ]
     },
     "metadata": {},
     "output_type": "display_data"
    },
    {
     "name": "stdout",
     "output_type": "stream",
     "text": [
      "--------------------------\n",
      "review with polarity =0.0\n"
     ]
    },
    {
     "data": {
      "text/html": [
       "<span style='background-color:rgba(200,255.0,0,.6)'>this restaurant is a quick walk from the arc </span><span style='background-color:rgba(200,255.0,0,.6)'> we did not have reservations and waited only minutes to be seated </span><span style='background-color:rgba(200,255.0,0,.6)'> we ordered the pizza with mushrooms and an order of pasta w meatballs </span><span style='background-color:rgba(200,255.0,0,.6)'> the pizza was great and couldn't even tell it was gluten free </span><span style='background-color:rgba(200,255.0,0,.6)'> the pasta was super bland </span><span style='background-color:rgba(200,255.0,0,.6)'> it tasted like cardboard - definitely skip this </span><span style='background-color:rgba(200,255.0,0,.6)'> the hostess took forever to get to our table and take our order </span><span style='background-color:rgba(200,255.0,0,.6)'>  i would go back here and just order the pizza  </span>"
      ],
      "text/plain": [
       "<IPython.core.display.HTML object>"
      ]
     },
     "metadata": {},
     "output_type": "display_data"
    },
    {
     "name": "stdout",
     "output_type": "stream",
     "text": [
      "--------------------------\n",
      "review with polarity =0.0\n"
     ]
    },
    {
     "data": {
      "text/html": [
       "<span style='background-color:rgba(200,255.0,0,.6)'>this restaurant is a quick walk from the arc </span><span style='background-color:rgba(200,255.0,0,.6)'> we did not have reservations and waited only minutes to be seated </span><span style='background-color:rgba(200,255.0,0,.6)'> we ordered the pizza with mushrooms and an order of pasta w meatballs </span><span style='background-color:rgba(200,255.0,0,.6)'> the pizza was great and couldn't even tell it was gluten free </span><span style='background-color:rgba(200,255.0,0,.6)'> the pasta was super bland </span><span style='background-color:rgba(200,255.0,0,.6)'> it tasted like cardboard - definitely skip this </span><span style='background-color:rgba(200,255.0,0,.6)'> the hostess took forever to get to our table and take our order </span><span style='background-color:rgba(200,255.0,0,.6)'>  i would go back here and just order the pizza  </span>"
      ],
      "text/plain": [
       "<IPython.core.display.HTML object>"
      ]
     },
     "metadata": {},
     "output_type": "display_data"
    },
    {
     "name": "stdout",
     "output_type": "stream",
     "text": [
      "--------------------------\n",
      "review with polarity =0.9717645049095154\n"
     ]
    },
    {
     "data": {
      "text/html": [
       "<span style='background-color:rgba(200,139.64702859520912,0,.6)'>we travel extensively and this is the best % gluten free restaurant we have ever been to </span><span style='background-color:rgba(200,75.23909389972687,0,.6)'> the pizza is by far the best - they have managed to make the crust soft and chewy and the bread for the bruschetta was thick, soft on the inside and crisp perfection on the outside </span><span style='background-color:rgba(200,54.113808274269104,0,.6)'> i wanted to cry - it was like eating regular bread </span><span style='background-color:rgba(200,75.06802707910538,0,.6)'> we also had the duck, which was cooked perfectly and full of rich flavors </span><span style='background-color:rgba(200,70.88753700256348,0,.6)'> in addition to the food, the atmosphere is delightful </span><span style='background-color:rgba(200,0.0,0,.6)'> not too loud </span><span style='background-color:rgba(200,112.4299630522728,0,.6)'> cozy, with wonderful background music </span><span style='background-color:rgba(200,63.730590641498566,0,.6)'> we are only in paris a few days but will for sure be back here again </span>"
      ],
      "text/plain": [
       "<IPython.core.display.HTML object>"
      ]
     },
     "metadata": {},
     "output_type": "display_data"
    },
    {
     "name": "stdout",
     "output_type": "stream",
     "text": [
      "--------------------------\n",
      "review with polarity =0.9717645049095154\n"
     ]
    },
    {
     "data": {
      "text/html": [
       "<span style='background-color:rgba(200,139.64702859520912,0,.6)'>we travel extensively and this is the best % gluten free restaurant we have ever been to </span><span style='background-color:rgba(200,75.23909389972687,0,.6)'> the pizza is by far the best - they have managed to make the crust soft and chewy and the bread for the bruschetta was thick, soft on the inside and crisp perfection on the outside </span><span style='background-color:rgba(200,54.113808274269104,0,.6)'> i wanted to cry - it was like eating regular bread </span><span style='background-color:rgba(200,75.06802707910538,0,.6)'> we also had the duck, which was cooked perfectly and full of rich flavors </span><span style='background-color:rgba(200,70.88753700256348,0,.6)'> in addition to the food, the atmosphere is delightful </span><span style='background-color:rgba(200,0.0,0,.6)'> not too loud </span><span style='background-color:rgba(200,112.4299630522728,0,.6)'> cozy, with wonderful background music </span><span style='background-color:rgba(200,63.730590641498566,0,.6)'> we are only in paris a few days but will for sure be back here again </span>"
      ],
      "text/plain": [
       "<IPython.core.display.HTML object>"
      ]
     },
     "metadata": {},
     "output_type": "display_data"
    },
    {
     "name": "stdout",
     "output_type": "stream",
     "text": [
      "--------------------------\n"
     ]
    }
   ],
   "source": [
    "for r,pol in zip(result1.loc['little-nonna-paris','reviews_heatmaps_html'],result1.loc['little-nonna-paris','reviews_heatmaps_polarity']):\n",
    "    print(f'review with polarity ={pol}')\n",
    "    display(HTML(r))\n",
    "    print('--------------------------')"
   ]
  },
  {
   "cell_type": "code",
   "execution_count": 71,
   "id": "59dcccf5",
   "metadata": {
    "ExecuteTime": {
     "end_time": "2021-12-02T19:59:43.117710Z",
     "start_time": "2021-12-02T19:59:42.992129Z"
    },
    "hidden": true
   },
   "outputs": [],
   "source": [
    "result1.to_csv('query_1.csv')"
   ]
  },
  {
   "cell_type": "markdown",
   "id": "8f3b955d",
   "metadata": {
    "heading_collapsed": true
   },
   "source": [
    "## 2eme phrase"
   ]
  },
  {
   "cell_type": "code",
   "execution_count": 72,
   "id": "03735eff",
   "metadata": {
    "ExecuteTime": {
     "end_time": "2021-12-02T20:05:26.172982Z",
     "start_time": "2021-12-02T20:05:12.237774Z"
    }
   },
   "outputs": [],
   "source": [
    "#creating one query_dataset per sentence\n",
    "# First sentence\n",
    "query_2 = 'I want to eat a traditional french meal with music'\n",
    "dataset_query_2 = creating_query_dataset(embedding=embedding,reviews_dataset=reviews_dataset,query=query_2,n_prox=n_prox,min_review=min_review,n_best=n_best)"
   ]
  },
  {
   "cell_type": "code",
   "execution_count": 73,
   "id": "df73efe1",
   "metadata": {
    "ExecuteTime": {
     "end_time": "2021-12-02T20:05:26.348552Z",
     "start_time": "2021-12-02T20:05:26.179946Z"
    }
   },
   "outputs": [],
   "source": [
    "#filtering only reviews that poped up in our cosim query\n",
    "dataset_query_2 = dataset_query_2[(dataset_query_2['is_sim']==1)&(dataset_query_2['is_in_summary']==1)]"
   ]
  },
  {
   "cell_type": "code",
   "execution_count": 74,
   "id": "5807a8e0",
   "metadata": {
    "ExecuteTime": {
     "end_time": "2021-12-02T20:05:26.416817Z",
     "start_time": "2021-12-02T20:05:26.350724Z"
    }
   },
   "outputs": [
    {
     "data": {
      "text/plain": [
       "(116, 24)"
      ]
     },
     "execution_count": 74,
     "metadata": {},
     "output_type": "execute_result"
    }
   ],
   "source": [
    "dataset_query_2.shape"
   ]
  },
  {
   "cell_type": "code",
   "execution_count": 75,
   "id": "ac1fa708",
   "metadata": {
    "ExecuteTime": {
     "end_time": "2021-12-02T20:05:33.894311Z",
     "start_time": "2021-12-02T20:05:32.194858Z"
    }
   },
   "outputs": [],
   "source": [
    "#Applying heatmap functions\n",
    "dataset_query_2['reviews_heatmaps_html'] = dataset_query_2.apply(apply_heatmap_html,axis=1)\n",
    "dataset_query_2['reviews_heatmaps_polarity'] = dataset_query_2.apply(apply_heatmap_polarity,axis=1)"
   ]
  },
  {
   "cell_type": "code",
   "execution_count": 76,
   "id": "0fa64610",
   "metadata": {
    "ExecuteTime": {
     "end_time": "2021-12-02T20:05:43.216488Z",
     "start_time": "2021-12-02T20:05:43.135693Z"
    }
   },
   "outputs": [],
   "source": [
    "result2=viking(dataset_query_2)"
   ]
  },
  {
   "cell_type": "code",
   "execution_count": 86,
   "id": "4f79b17a",
   "metadata": {
    "ExecuteTime": {
     "end_time": "2021-12-02T20:02:12.922877Z",
     "start_time": "2021-12-02T20:02:12.842055Z"
    },
    "hidden": true
   },
   "outputs": [],
   "source": [
    "result2.to_csv('query_2.csv')"
   ]
  },
  {
   "cell_type": "markdown",
   "id": "b87cf88a",
   "metadata": {
    "heading_collapsed": true
   },
   "source": [
    "## 3eme phrase"
   ]
  },
  {
   "cell_type": "code",
   "execution_count": null,
   "id": "247622b1",
   "metadata": {
    "hidden": true
   },
   "outputs": [],
   "source": []
  },
  {
   "cell_type": "code",
   "execution_count": 79,
   "id": "4c6c27f1",
   "metadata": {
    "ExecuteTime": {
     "end_time": "2021-12-02T20:05:26.172982Z",
     "start_time": "2021-12-02T20:05:12.237774Z"
    }
   },
   "outputs": [],
   "source": [
    "#creating one query_dataset per sentence\n",
    "# First sentence\n",
    "query_3 = 'I want to eat lasagnas without meat'\n",
    "dataset_query_3 = creating_query_dataset(embedding=embedding,reviews_dataset=reviews_dataset,query=query_3,n_prox=n_prox,min_review=min_review,n_best=n_best)"
   ]
  },
  {
   "cell_type": "code",
   "execution_count": 80,
   "id": "882080e0",
   "metadata": {
    "ExecuteTime": {
     "end_time": "2021-12-02T20:05:26.348552Z",
     "start_time": "2021-12-02T20:05:26.179946Z"
    }
   },
   "outputs": [],
   "source": [
    "#filtering only reviews that poped up in our cosim query\n",
    "dataset_query_3 = dataset_query_3[(dataset_query_3['is_sim']==1)&(dataset_query_3['is_in_summary']==1)]"
   ]
  },
  {
   "cell_type": "code",
   "execution_count": 81,
   "id": "feeb4122",
   "metadata": {
    "ExecuteTime": {
     "end_time": "2021-12-02T20:05:26.416817Z",
     "start_time": "2021-12-02T20:05:26.350724Z"
    }
   },
   "outputs": [
    {
     "data": {
      "text/plain": [
       "(261, 24)"
      ]
     },
     "execution_count": 81,
     "metadata": {},
     "output_type": "execute_result"
    }
   ],
   "source": [
    "dataset_query_3.shape"
   ]
  },
  {
   "cell_type": "code",
   "execution_count": 82,
   "id": "5a2f5786",
   "metadata": {
    "ExecuteTime": {
     "end_time": "2021-12-02T20:05:33.894311Z",
     "start_time": "2021-12-02T20:05:32.194858Z"
    }
   },
   "outputs": [],
   "source": [
    "#Applying heatmap functions\n",
    "dataset_query_3['reviews_heatmaps_html'] = dataset_query_3.apply(apply_heatmap_html,axis=1)\n",
    "dataset_query_3['reviews_heatmaps_polarity'] = dataset_query_3.apply(apply_heatmap_polarity,axis=1)"
   ]
  },
  {
   "cell_type": "code",
   "execution_count": 83,
   "id": "bf8bcb29",
   "metadata": {
    "ExecuteTime": {
     "end_time": "2021-12-02T20:05:43.216488Z",
     "start_time": "2021-12-02T20:05:43.135693Z"
    }
   },
   "outputs": [],
   "source": [
    "result3=viking(dataset_query_3)"
   ]
  },
  {
   "cell_type": "code",
   "execution_count": 85,
   "id": "94a14f2c",
   "metadata": {
    "ExecuteTime": {
     "end_time": "2021-12-02T20:02:08.426650Z",
     "start_time": "2021-12-02T20:02:08.339628Z"
    },
    "hidden": true
   },
   "outputs": [],
   "source": [
    "result3.to_csv('query3.csv')"
   ]
  },
  {
   "cell_type": "markdown",
   "id": "f4a9d9b5",
   "metadata": {},
   "source": [
    "## 4eme phrase"
   ]
  },
  {
   "cell_type": "code",
   "execution_count": 87,
   "id": "dd49e19d",
   "metadata": {
    "ExecuteTime": {
     "end_time": "2021-12-02T20:05:26.172982Z",
     "start_time": "2021-12-02T20:05:12.237774Z"
    }
   },
   "outputs": [],
   "source": [
    "#creating one query_dataset per sentence\n",
    "# First sentence\n",
    "query_4 = 'I am visiting paris and I want to eat good french food, in an authentic place but not with many people'\n",
    "dataset_query_4 = creating_query_dataset(embedding=embedding,reviews_dataset=reviews_dataset,query=query_4,n_prox=n_prox,min_review=min_review,n_best=n_best)"
   ]
  },
  {
   "cell_type": "code",
   "execution_count": 88,
   "id": "80c0f981",
   "metadata": {
    "ExecuteTime": {
     "end_time": "2021-12-02T20:05:26.348552Z",
     "start_time": "2021-12-02T20:05:26.179946Z"
    }
   },
   "outputs": [],
   "source": [
    "#filtering only reviews that poped up in our cosim query\n",
    "dataset_query_4 = dataset_query_4[(dataset_query_4['is_sim']==1)&(dataset_query_4['is_in_summary']==1)]"
   ]
  },
  {
   "cell_type": "code",
   "execution_count": 89,
   "id": "18bb4837",
   "metadata": {
    "ExecuteTime": {
     "end_time": "2021-12-02T20:05:26.416817Z",
     "start_time": "2021-12-02T20:05:26.350724Z"
    }
   },
   "outputs": [
    {
     "data": {
      "text/plain": [
       "(60, 24)"
      ]
     },
     "execution_count": 89,
     "metadata": {},
     "output_type": "execute_result"
    }
   ],
   "source": [
    "dataset_query_4.shape"
   ]
  },
  {
   "cell_type": "code",
   "execution_count": 90,
   "id": "c2905b56",
   "metadata": {
    "ExecuteTime": {
     "end_time": "2021-12-02T20:05:33.894311Z",
     "start_time": "2021-12-02T20:05:32.194858Z"
    }
   },
   "outputs": [],
   "source": [
    "#Applying heatmap functions\n",
    "dataset_query_4['reviews_heatmaps_html'] = dataset_query_4.apply(apply_heatmap_html,axis=1)\n",
    "dataset_query_4['reviews_heatmaps_polarity'] = dataset_query_4.apply(apply_heatmap_polarity,axis=1)"
   ]
  },
  {
   "cell_type": "code",
   "execution_count": 91,
   "id": "c1d8b0f9",
   "metadata": {
    "ExecuteTime": {
     "end_time": "2021-12-02T20:05:37.479976Z",
     "start_time": "2021-12-02T20:05:37.403729Z"
    }
   },
   "outputs": [
    {
     "data": {
      "text/plain": [
       "(60, 26)"
      ]
     },
     "execution_count": 91,
     "metadata": {},
     "output_type": "execute_result"
    }
   ],
   "source": [
    "dataset_query_4.shape"
   ]
  },
  {
   "cell_type": "code",
   "execution_count": 93,
   "id": "538c906b",
   "metadata": {
    "ExecuteTime": {
     "end_time": "2021-12-02T20:05:43.216488Z",
     "start_time": "2021-12-02T20:05:43.135693Z"
    }
   },
   "outputs": [],
   "source": [
    "result4=viking(dataset_query_4)"
   ]
  },
  {
   "cell_type": "code",
   "execution_count": 94,
   "id": "7b59290f",
   "metadata": {
    "ExecuteTime": {
     "end_time": "2021-12-02T20:04:18.842897Z",
     "start_time": "2021-12-02T20:04:18.755331Z"
    }
   },
   "outputs": [],
   "source": [
    "result4.to_csv('query4.csv')"
   ]
  },
  {
   "cell_type": "markdown",
   "id": "151f579c",
   "metadata": {
    "ExecuteTime": {
     "end_time": "2021-12-02T19:55:46.642117Z",
     "start_time": "2021-12-02T19:55:46.575197Z"
    }
   },
   "source": [
    "## 5eme phrase"
   ]
  },
  {
   "cell_type": "code",
   "execution_count": 95,
   "id": "51b8e66c",
   "metadata": {
    "ExecuteTime": {
     "end_time": "2021-12-02T20:05:26.172982Z",
     "start_time": "2021-12-02T20:05:12.237774Z"
    }
   },
   "outputs": [],
   "source": [
    "#creating one query_dataset per sentence\n",
    "# First sentence\n",
    "query_5 = \"I don't know what to eat but I feel like having something original. Surprise me!\"\n",
    "dataset_query_5 = creating_query_dataset(embedding=embedding,reviews_dataset=reviews_dataset,query=query_5,n_prox=n_prox,min_review=min_review,n_best=n_best)"
   ]
  },
  {
   "cell_type": "code",
   "execution_count": 96,
   "id": "7f9c1614",
   "metadata": {
    "ExecuteTime": {
     "end_time": "2021-12-02T20:05:26.348552Z",
     "start_time": "2021-12-02T20:05:26.179946Z"
    }
   },
   "outputs": [],
   "source": [
    "#filtering only reviews that poped up in our cosim query\n",
    "dataset_query_5 = dataset_query_5[(dataset_query_5['is_sim']==1)&(dataset_query_5['is_in_summary']==1)]"
   ]
  },
  {
   "cell_type": "code",
   "execution_count": 97,
   "id": "ee99b2c7",
   "metadata": {
    "ExecuteTime": {
     "end_time": "2021-12-02T20:05:26.416817Z",
     "start_time": "2021-12-02T20:05:26.350724Z"
    }
   },
   "outputs": [
    {
     "data": {
      "text/plain": [
       "(50, 24)"
      ]
     },
     "execution_count": 97,
     "metadata": {},
     "output_type": "execute_result"
    }
   ],
   "source": [
    "dataset_query_5.shape"
   ]
  },
  {
   "cell_type": "code",
   "execution_count": 98,
   "id": "4c837d4e",
   "metadata": {
    "ExecuteTime": {
     "end_time": "2021-12-02T20:05:33.894311Z",
     "start_time": "2021-12-02T20:05:32.194858Z"
    }
   },
   "outputs": [],
   "source": [
    "#Applying heatmap functions\n",
    "dataset_query_5['reviews_heatmaps_html'] = dataset_query_5.apply(apply_heatmap_html,axis=1)\n",
    "dataset_query_5['reviews_heatmaps_polarity'] = dataset_query_5.apply(apply_heatmap_polarity,axis=1)"
   ]
  },
  {
   "cell_type": "code",
   "execution_count": 99,
   "id": "2827fb39",
   "metadata": {
    "ExecuteTime": {
     "end_time": "2021-12-02T20:05:37.479976Z",
     "start_time": "2021-12-02T20:05:37.403729Z"
    }
   },
   "outputs": [
    {
     "data": {
      "text/plain": [
       "(50, 26)"
      ]
     },
     "execution_count": 99,
     "metadata": {},
     "output_type": "execute_result"
    }
   ],
   "source": [
    "dataset_query_5.shape"
   ]
  },
  {
   "cell_type": "code",
   "execution_count": 100,
   "id": "89c12da0",
   "metadata": {
    "ExecuteTime": {
     "end_time": "2021-12-02T20:05:43.216488Z",
     "start_time": "2021-12-02T20:05:43.135693Z"
    }
   },
   "outputs": [],
   "source": [
    "result5=viking(dataset_query_5)"
   ]
  },
  {
   "cell_type": "code",
   "execution_count": 101,
   "id": "99511ee7",
   "metadata": {
    "ExecuteTime": {
     "end_time": "2021-12-02T20:05:52.276756Z",
     "start_time": "2021-12-02T20:05:52.192310Z"
    }
   },
   "outputs": [],
   "source": [
    "result5.to_csv('query5.csv')"
   ]
  },
  {
   "cell_type": "code",
   "execution_count": null,
   "id": "7c901f27",
   "metadata": {},
   "outputs": [],
   "source": []
  }
 ],
 "metadata": {
  "kernelspec": {
   "display_name": "Python 3 (ipykernel)",
   "language": "python",
   "name": "python3"
  },
  "language_info": {
   "codemirror_mode": {
    "name": "ipython",
    "version": 3
   },
   "file_extension": ".py",
   "mimetype": "text/x-python",
   "name": "python",
   "nbconvert_exporter": "python",
   "pygments_lexer": "ipython3",
   "version": "3.8.12"
  },
  "toc": {
   "base_numbering": 1,
   "nav_menu": {},
   "number_sections": true,
   "sideBar": true,
   "skip_h1_title": false,
   "title_cell": "Table of Contents",
   "title_sidebar": "Contents",
   "toc_cell": false,
   "toc_position": {},
   "toc_section_display": true,
   "toc_window_display": false
  }
 },
 "nbformat": 4,
 "nbformat_minor": 5
}
