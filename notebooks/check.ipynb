{
 "cells": [
  {
   "cell_type": "code",
   "execution_count": 9,
   "id": "802840a2",
   "metadata": {},
   "outputs": [
    {
     "name": "stdout",
     "output_type": "stream",
     "text": [
      "The autoreload extension is already loaded. To reload it, use:\n",
      "  %reload_ext autoreload\n"
     ]
    }
   ],
   "source": [
    "%load_ext autoreload\n",
    "%autoreload 2"
   ]
  },
  {
   "cell_type": "code",
   "execution_count": 10,
   "id": "c8666cad",
   "metadata": {
    "ExecuteTime": {
     "end_time": "2021-11-26T09:58:12.408881Z",
     "start_time": "2021-11-26T09:58:04.194477Z"
    }
   },
   "outputs": [],
   "source": [
    "import pandas as pd \n",
    "import numpy as np\n",
    "import time\n",
    "from sentence_transformers import SentenceTransformer,util\n",
    "import tensorflow\n",
    "import pickle"
   ]
  },
  {
   "cell_type": "code",
   "execution_count": 11,
   "id": "8c822e7b",
   "metadata": {},
   "outputs": [],
   "source": [
    "from fobokiller.cosim import load_embedding , compute_sim_df ,model"
   ]
  },
  {
   "cell_type": "code",
   "execution_count": 12,
   "id": "0e2b9df4",
   "metadata": {
    "ExecuteTime": {
     "end_time": "2021-11-26T09:58:37.126538Z",
     "start_time": "2021-11-26T09:58:29.565403Z"
    },
    "scrolled": false
   },
   "outputs": [],
   "source": [
    "embedding = load_embedding()"
   ]
  },
  {
   "cell_type": "code",
   "execution_count": 29,
   "id": "37ec6a84",
   "metadata": {
    "ExecuteTime": {
     "end_time": "2021-11-26T09:58:39.068063Z",
     "start_time": "2021-11-26T09:58:37.130531Z"
    }
   },
   "outputs": [],
   "source": [
    "def generate_result(sentence) :\n",
    "    print(\"en cours : -- \" + sentence)\n",
    "    df = compute_sim_df(sentence,np.array(embedding), n_prox = 1000 )\n",
    "    df[\"sentence\"] = sentence\n",
    "    df[\"pertinence\"] = \"\"\n",
    "    df.to_csv(sentence.replace(\" \",\"_\") + \".csv\")"
   ]
  },
  {
   "cell_type": "code",
   "execution_count": 127,
   "id": "fc15acda",
   "metadata": {
    "ExecuteTime": {
     "end_time": "2021-11-26T10:00:26.905692Z",
     "start_time": "2021-11-26T10:00:11.790666Z"
    },
    "scrolled": true
   },
   "outputs": [],
   "source": [
    "liste = [\n",
    "   \"Spicy Food with nice view\"\n",
    "\n",
    "]"
   ]
  },
  {
   "cell_type": "code",
   "execution_count": 128,
   "id": "35ff8c89",
   "metadata": {},
   "outputs": [
    {
     "name": "stdout",
     "output_type": "stream",
     "text": [
      "en cours : -- Spicy Food with nice view\n",
      "CPU times: user 5.26 s, sys: 14.5 s, total: 19.8 s\n",
      "Wall time: 47.9 s\n"
     ]
    },
    {
     "data": {
      "text/plain": [
       "[None]"
      ]
     },
     "execution_count": 128,
     "metadata": {},
     "output_type": "execute_result"
    }
   ],
   "source": [
    "%%time\n",
    "[generate_result(i) for i in liste]"
   ]
  },
  {
   "cell_type": "code",
   "execution_count": 125,
   "id": "39068267",
   "metadata": {},
   "outputs": [
    {
     "name": "stdout",
     "output_type": "stream",
     "text": [
      "Spice Food with nice view\n"
     ]
    }
   ],
   "source": [
    "for i in liste :\n",
    "    print(i)"
   ]
  },
  {
   "cell_type": "code",
   "execution_count": 126,
   "id": "610ba9a6",
   "metadata": {},
   "outputs": [
    {
     "data": {
      "text/plain": [
       "Index(['alias', 'date', 'rate', 'review_clean', 'review_sentences', 'sim_s',\n",
       "       'rate_filtered', 'review_filtered', 'sim_r', 'rate_all', 'review_all',\n",
       "       'ratio', 'sentence', 'pertinence'],\n",
       "      dtype='object')"
      ]
     },
     "execution_count": 126,
     "metadata": {},
     "output_type": "execute_result"
    }
   ],
   "source": [
    "temp.columns"
   ]
  },
  {
   "cell_type": "code",
   "execution_count": null,
   "id": "47af51a6",
   "metadata": {},
   "outputs": [],
   "source": []
  },
  {
   "cell_type": "code",
   "execution_count": 120,
   "id": "3a64855c",
   "metadata": {},
   "outputs": [],
   "source": [
    "alias = []\n",
    "sentence=[]\n",
    "pertinence=[]\n",
    "sims_s=[]\n",
    "sims_r=[]\n",
    "review_clean=[]\n",
    "rate_filtered=[]\n",
    "review_filtered=[]\n",
    "review_all=[]\n",
    "rate_all=[]\n",
    "ratio=[]\n",
    "sentence=[]\n",
    "pertinence=[]\n",
    "date=[]\n",
    "review_sentences= []\n",
    "\n",
    "for i in range(0,len(liste)) :\n",
    "    temp = pd.read_csv(liste[i].replace(\" \",\"_\") + \".csv\", index_col=0).head()\n",
    "    temp\n",
    "    alias.extend(temp[\"alias\"])\n",
    "    date.extend(temp[\"date\"])\n",
    "    sentence.extend(temp[\"sentence\"])\n",
    "    pertinence.extend(temp[\"pertinence\"])\n",
    "    sims_s.extend(temp[\"sim_s\"])\n",
    "    sims_r.extend(temp[\"sim_r\"])\n",
    "    review_clean.extend(temp[\"review_clean\"])\n",
    "    rate_filtered.extend(temp[\"rate_filtered\"])\n",
    "    review_filtered.extend(temp[\"review_filtered\"])\n",
    "    review_all.extend(temp[\"review_all\"])\n",
    "    rate_all.extend(temp[\"rate_all\"])\n",
    "    ratio.extend(temp[\"ratio\"])\n",
    "    review_sentences.extend(temp[\"review_sentences\"])\n",
    "    pertinence.extend(temp[\"pertinence\"])\n",
    "\n",
    "\n",
    "    "
   ]
  },
  {
   "cell_type": "code",
   "execution_count": 121,
   "id": "ee3ff85d",
   "metadata": {},
   "outputs": [],
   "source": [
    "result = pd.DataFrame(zip(alias,sentence,pertinence,sims_s,sims_r,review_clean,\n",
    "   rate_filtered,review_filtered,review_all,rate_all,ratio,review_sentences))\n",
    "\n"
   ]
  },
  {
   "cell_type": "code",
   "execution_count": 122,
   "id": "d7eabfb4",
   "metadata": {},
   "outputs": [
    {
     "data": {
      "text/html": [
       "<div>\n",
       "<style scoped>\n",
       "    .dataframe tbody tr th:only-of-type {\n",
       "        vertical-align: middle;\n",
       "    }\n",
       "\n",
       "    .dataframe tbody tr th {\n",
       "        vertical-align: top;\n",
       "    }\n",
       "\n",
       "    .dataframe thead th {\n",
       "        text-align: right;\n",
       "    }\n",
       "</style>\n",
       "<table border=\"1\" class=\"dataframe\">\n",
       "  <thead>\n",
       "    <tr style=\"text-align: right;\">\n",
       "      <th></th>\n",
       "      <th>0</th>\n",
       "      <th>1</th>\n",
       "      <th>2</th>\n",
       "      <th>3</th>\n",
       "      <th>4</th>\n",
       "      <th>5</th>\n",
       "      <th>6</th>\n",
       "      <th>7</th>\n",
       "      <th>8</th>\n",
       "      <th>9</th>\n",
       "      <th>10</th>\n",
       "      <th>11</th>\n",
       "    </tr>\n",
       "  </thead>\n",
       "  <tbody>\n",
       "    <tr>\n",
       "      <th>0</th>\n",
       "      <td>la-crête-paris-2</td>\n",
       "      <td>Spice Food with nice view</td>\n",
       "      <td>NaN</td>\n",
       "      <td>0.731803</td>\n",
       "      <td>0.731803</td>\n",
       "      <td>best place to get vegetarian food!!! delicious...</td>\n",
       "      <td>5.000000</td>\n",
       "      <td>1</td>\n",
       "      <td>27</td>\n",
       "      <td>4.815217</td>\n",
       "      <td>0.037037</td>\n",
       "      <td>delicious hot food with nice touch of herbs a...</td>\n",
       "    </tr>\n",
       "    <tr>\n",
       "      <th>1</th>\n",
       "      <td>café-de-l-homme-paris-2</td>\n",
       "      <td>Spice Food with nice view</td>\n",
       "      <td>NaN</td>\n",
       "      <td>0.724971</td>\n",
       "      <td>0.589312</td>\n",
       "      <td>amazing food with an amazing view! came here a...</td>\n",
       "      <td>4.285714</td>\n",
       "      <td>7</td>\n",
       "      <td>66</td>\n",
       "      <td>2.855372</td>\n",
       "      <td>0.106061</td>\n",
       "      <td>amazing food with an amazing view</td>\n",
       "    </tr>\n",
       "    <tr>\n",
       "      <th>2</th>\n",
       "      <td>le-comptoir-de-la-gastronomie-paris</td>\n",
       "      <td>Spice Food with nice view</td>\n",
       "      <td>NaN</td>\n",
       "      <td>0.688794</td>\n",
       "      <td>0.580279</td>\n",
       "      <td>my friends and my fiancee really enjoyed this ...</td>\n",
       "      <td>4.727273</td>\n",
       "      <td>11</td>\n",
       "      <td>1030</td>\n",
       "      <td>4.455240</td>\n",
       "      <td>0.010680</td>\n",
       "      <td>delicious food that is also beautiful</td>\n",
       "    </tr>\n",
       "    <tr>\n",
       "      <th>3</th>\n",
       "      <td>robert-et-louise-paris-2</td>\n",
       "      <td>Spice Food with nice view</td>\n",
       "      <td>NaN</td>\n",
       "      <td>0.684668</td>\n",
       "      <td>0.597908</td>\n",
       "      <td>want to try a fire grilled true french restaur...</td>\n",
       "      <td>5.000000</td>\n",
       "      <td>3</td>\n",
       "      <td>245</td>\n",
       "      <td>4.071719</td>\n",
       "      <td>0.012245</td>\n",
       "      <td>want to eat awesome food in a cozy charming p...</td>\n",
       "    </tr>\n",
       "    <tr>\n",
       "      <th>4</th>\n",
       "      <td>la-boussole-paris</td>\n",
       "      <td>Spice Food with nice view</td>\n",
       "      <td>NaN</td>\n",
       "      <td>0.683735</td>\n",
       "      <td>0.602670</td>\n",
       "      <td>our parisian friend recommended this restauran...</td>\n",
       "      <td>4.666667</td>\n",
       "      <td>3</td>\n",
       "      <td>27</td>\n",
       "      <td>3.743961</td>\n",
       "      <td>0.111111</td>\n",
       "      <td>we recommend this restaurant for those you wh...</td>\n",
       "    </tr>\n",
       "  </tbody>\n",
       "</table>\n",
       "</div>"
      ],
      "text/plain": [
       "                                    0                          1   2   \\\n",
       "0                     la-crête-paris-2  Spice Food with nice view NaN   \n",
       "1              café-de-l-homme-paris-2  Spice Food with nice view NaN   \n",
       "2  le-comptoir-de-la-gastronomie-paris  Spice Food with nice view NaN   \n",
       "3             robert-et-louise-paris-2  Spice Food with nice view NaN   \n",
       "4                    la-boussole-paris  Spice Food with nice view NaN   \n",
       "\n",
       "         3         4                                                  5   \\\n",
       "0  0.731803  0.731803  best place to get vegetarian food!!! delicious...   \n",
       "1  0.724971  0.589312  amazing food with an amazing view! came here a...   \n",
       "2  0.688794  0.580279  my friends and my fiancee really enjoyed this ...   \n",
       "3  0.684668  0.597908  want to try a fire grilled true french restaur...   \n",
       "4  0.683735  0.602670  our parisian friend recommended this restauran...   \n",
       "\n",
       "         6   7     8         9         10  \\\n",
       "0  5.000000   1    27  4.815217  0.037037   \n",
       "1  4.285714   7    66  2.855372  0.106061   \n",
       "2  4.727273  11  1030  4.455240  0.010680   \n",
       "3  5.000000   3   245  4.071719  0.012245   \n",
       "4  4.666667   3    27  3.743961  0.111111   \n",
       "\n",
       "                                                  11  \n",
       "0   delicious hot food with nice touch of herbs a...  \n",
       "1                  amazing food with an amazing view  \n",
       "2              delicious food that is also beautiful  \n",
       "3   want to eat awesome food in a cozy charming p...  \n",
       "4   we recommend this restaurant for those you wh...  "
      ]
     },
     "execution_count": 122,
     "metadata": {},
     "output_type": "execute_result"
    }
   ],
   "source": [
    "result"
   ]
  },
  {
   "cell_type": "code",
   "execution_count": 116,
   "id": "35a67f49",
   "metadata": {},
   "outputs": [],
   "source": [
    "result.rename(columns={\n",
    "    0:\"alias\",\n",
    "    1:\"sentence\",\n",
    "    2:\"pertinence\",\n",
    "    3:\"sims_s\",\n",
    "    4:\"sims_r\",\n",
    "    5:\"review_clean\",\n",
    "    6:\"rate_filtered\",\n",
    "    7:\"review_filtered\",\n",
    "    8:\"review_all\",\n",
    "    9:\"rate_all\",\n",
    "    10:\"ratio\",\n",
    "    11 :\"review_sentences\"\n",
    "}, inplace=True)"
   ]
  },
  {
   "cell_type": "code",
   "execution_count": 117,
   "id": "fe47766a",
   "metadata": {},
   "outputs": [],
   "source": [
    "result.to_csv(\"result2.csv\")"
   ]
  },
  {
   "cell_type": "code",
   "execution_count": 98,
   "id": "873de6ce",
   "metadata": {},
   "outputs": [
    {
     "data": {
      "text/html": [
       "<div>\n",
       "<style scoped>\n",
       "    .dataframe tbody tr th:only-of-type {\n",
       "        vertical-align: middle;\n",
       "    }\n",
       "\n",
       "    .dataframe tbody tr th {\n",
       "        vertical-align: top;\n",
       "    }\n",
       "\n",
       "    .dataframe thead th {\n",
       "        text-align: right;\n",
       "    }\n",
       "</style>\n",
       "<table border=\"1\" class=\"dataframe\">\n",
       "  <thead>\n",
       "    <tr style=\"text-align: right;\">\n",
       "      <th></th>\n",
       "      <th>alias</th>\n",
       "      <th>sentence</th>\n",
       "      <th>pertinence</th>\n",
       "      <th>sims_s</th>\n",
       "      <th>sims_r</th>\n",
       "      <th>review_clean</th>\n",
       "      <th>rate_filtered</th>\n",
       "      <th>review_filtered</th>\n",
       "      <th>review_all</th>\n",
       "      <th>rate_all</th>\n",
       "      <th>ratio</th>\n",
       "      <th>review_sentences</th>\n",
       "    </tr>\n",
       "  </thead>\n",
       "  <tbody>\n",
       "    <tr>\n",
       "      <th>0</th>\n",
       "      <td>maria-luisa-paris-4</td>\n",
       "      <td>I want a pizza gluten free</td>\n",
       "      <td>NaN</td>\n",
       "      <td>0.759861</td>\n",
       "      <td>0.510533</td>\n",
       "      <td>yes, they have really good pizza. i had some, ...</td>\n",
       "      <td>4.250000</td>\n",
       "      <td>10</td>\n",
       "      <td>15</td>\n",
       "      <td>4.046296</td>\n",
       "      <td>0.666667</td>\n",
       "      <td>gluten-free notes: sorry, you can't eat the p...</td>\n",
       "    </tr>\n",
       "    <tr>\n",
       "      <th>1</th>\n",
       "      <td>little-nonna-paris</td>\n",
       "      <td>I want a pizza gluten free</td>\n",
       "      <td>NaN</td>\n",
       "      <td>0.742942</td>\n",
       "      <td>0.551378</td>\n",
       "      <td>this place has the best gluten free pizza crus...</td>\n",
       "      <td>4.685714</td>\n",
       "      <td>20</td>\n",
       "      <td>23</td>\n",
       "      <td>4.690323</td>\n",
       "      <td>0.869565</td>\n",
       "      <td>this place has the best gluten free pizza crus...</td>\n",
       "    </tr>\n",
       "    <tr>\n",
       "      <th>2</th>\n",
       "      <td>little-nonna-paris</td>\n",
       "      <td>I want a pizza gluten free</td>\n",
       "      <td>NaN</td>\n",
       "      <td>0.708875</td>\n",
       "      <td>0.551378</td>\n",
       "      <td>best gluten-free pizza i have had hands down. ...</td>\n",
       "      <td>4.685714</td>\n",
       "      <td>20</td>\n",
       "      <td>23</td>\n",
       "      <td>4.690323</td>\n",
       "      <td>0.869565</td>\n",
       "      <td>best gluten-free pizza i have had hands down</td>\n",
       "    </tr>\n",
       "    <tr>\n",
       "      <th>3</th>\n",
       "      <td>little-nonna-paris</td>\n",
       "      <td>I want a pizza gluten free</td>\n",
       "      <td>NaN</td>\n",
       "      <td>0.676715</td>\n",
       "      <td>0.551378</td>\n",
       "      <td>i cannot believe we found an italian, gluten-f...</td>\n",
       "      <td>4.685714</td>\n",
       "      <td>20</td>\n",
       "      <td>23</td>\n",
       "      <td>4.690323</td>\n",
       "      <td>0.869565</td>\n",
       "      <td>hands down the best gluten free pizza crust i...</td>\n",
       "    </tr>\n",
       "    <tr>\n",
       "      <th>4</th>\n",
       "      <td>biglove-caffè-paris-2</td>\n",
       "      <td>I want a pizza gluten free</td>\n",
       "      <td>NaN</td>\n",
       "      <td>0.676686</td>\n",
       "      <td>0.535101</td>\n",
       "      <td>my daughter is gluten-free and she couldn't be...</td>\n",
       "      <td>3.666667</td>\n",
       "      <td>9</td>\n",
       "      <td>34</td>\n",
       "      <td>3.788889</td>\n",
       "      <td>0.264706</td>\n",
       "      <td>my daughter is gluten-free and she couldn't be...</td>\n",
       "    </tr>\n",
       "  </tbody>\n",
       "</table>\n",
       "</div>"
      ],
      "text/plain": [
       "                   alias                    sentence  pertinence    sims_s  \\\n",
       "0    maria-luisa-paris-4  I want a pizza gluten free         NaN  0.759861   \n",
       "1     little-nonna-paris  I want a pizza gluten free         NaN  0.742942   \n",
       "2     little-nonna-paris  I want a pizza gluten free         NaN  0.708875   \n",
       "3     little-nonna-paris  I want a pizza gluten free         NaN  0.676715   \n",
       "4  biglove-caffè-paris-2  I want a pizza gluten free         NaN  0.676686   \n",
       "\n",
       "     sims_r                                       review_clean  rate_filtered  \\\n",
       "0  0.510533  yes, they have really good pizza. i had some, ...       4.250000   \n",
       "1  0.551378  this place has the best gluten free pizza crus...       4.685714   \n",
       "2  0.551378  best gluten-free pizza i have had hands down. ...       4.685714   \n",
       "3  0.551378  i cannot believe we found an italian, gluten-f...       4.685714   \n",
       "4  0.535101  my daughter is gluten-free and she couldn't be...       3.666667   \n",
       "\n",
       "   review_filtered  review_all  rate_all     ratio  \\\n",
       "0               10          15  4.046296  0.666667   \n",
       "1               20          23  4.690323  0.869565   \n",
       "2               20          23  4.690323  0.869565   \n",
       "3               20          23  4.690323  0.869565   \n",
       "4                9          34  3.788889  0.264706   \n",
       "\n",
       "                                    review_sentences  \n",
       "0   gluten-free notes: sorry, you can't eat the p...  \n",
       "1  this place has the best gluten free pizza crus...  \n",
       "2       best gluten-free pizza i have had hands down  \n",
       "3   hands down the best gluten free pizza crust i...  \n",
       "4  my daughter is gluten-free and she couldn't be...  "
      ]
     },
     "execution_count": 98,
     "metadata": {},
     "output_type": "execute_result"
    }
   ],
   "source": [
    "result.head()"
   ]
  },
  {
   "cell_type": "code",
   "execution_count": null,
   "id": "5725c844",
   "metadata": {},
   "outputs": [],
   "source": []
  },
  {
   "cell_type": "code",
   "execution_count": 102,
   "id": "873a14bc",
   "metadata": {},
   "outputs": [
    {
     "data": {
      "text/plain": [
       "'N'"
      ]
     },
     "execution_count": 102,
     "metadata": {},
     "output_type": "execute_result"
    }
   ],
   "source": []
  },
  {
   "cell_type": "code",
   "execution_count": 21,
   "id": "7e66097a",
   "metadata": {},
   "outputs": [],
   "source": []
  },
  {
   "cell_type": "code",
   "execution_count": null,
   "id": "f0515338",
   "metadata": {},
   "outputs": [],
   "source": []
  },
  {
   "cell_type": "code",
   "execution_count": 26,
   "id": "32cd56cc",
   "metadata": {},
   "outputs": [
    {
     "name": "stdout",
     "output_type": "stream",
     "text": [
      "en cours : -- I want a pizza gluten free\n",
      "en cours : -- pizza gluten free\n",
      "en cours : -- best pizza gluten free\n",
      "en cours : -- I want the best pizza gluten free\n",
      "en cours : -- I want a burger\n",
      "en cours : -- I want a burger in a quiet place\n",
      "en cours : -- I want the best burger\n",
      "en cours : -- I want the best burger in a quiet place\n",
      "en cours : -- burger quiet\n",
      "en cours : -- best burger\n",
      "en cours : -- I feel like eating ramens today!\n",
      "en cours : -- Best ramens\n",
      "en cours : -- best ramens\n",
      "en cours : -- ramens\n",
      "en cours : -- I’d like to brunch at a nice place with pancakes and great coffee\n",
      "en cours : -- I would like to brunch at a nice place with pancakes and great coffee\n",
      "en cours : -- pancakes greate coffee\n",
      "en cours : -- I want to eat in a traditional Japanese restaurant with floor seats.\n",
      "en cours : -- eat in a traditional Japanese restaurant with floor seats.\n",
      "en cours : -- I would like to eat with loud music  !eat loud music\n",
      "en cours : -- I would like some typical sushis not too expensive\n",
      "en cours : -- some typical sushis not too expensive\n",
      "en cours : -- I'd love some salmon lasagna\n",
      "en cours : -- some salmon lasagna\n",
      "en cours : -- I'd like a good steak!\n",
      "en cours : -- I would like a good steak\n",
      "en cours : -- a good steak\n",
      "en cours : -- I want to eat a fresh salad with shrimps and nuts.\n",
      "en cours : -- fresh salad shrimps nuts\n",
      "CPU times: user 2min 32s, sys: 4min 24s, total: 6min 57s\n",
      "Wall time: 9min 24s\n"
     ]
    },
    {
     "data": {
      "text/plain": [
       "[None,\n",
       " None,\n",
       " None,\n",
       " None,\n",
       " None,\n",
       " None,\n",
       " None,\n",
       " None,\n",
       " None,\n",
       " None,\n",
       " None,\n",
       " None,\n",
       " None,\n",
       " None,\n",
       " None,\n",
       " None,\n",
       " None,\n",
       " None,\n",
       " None,\n",
       " None,\n",
       " None,\n",
       " None,\n",
       " None,\n",
       " None,\n",
       " None,\n",
       " None,\n",
       " None,\n",
       " None,\n",
       " None]"
      ]
     },
     "execution_count": 26,
     "metadata": {},
     "output_type": "execute_result"
    }
   ],
   "source": []
  },
  {
   "cell_type": "code",
   "execution_count": null,
   "id": "6a1e0dc9",
   "metadata": {},
   "outputs": [],
   "source": []
  }
 ],
 "metadata": {
  "kernelspec": {
   "display_name": "Python 3 (ipykernel)",
   "language": "python",
   "name": "python3"
  },
  "language_info": {
   "codemirror_mode": {
    "name": "ipython",
    "version": 3
   },
   "file_extension": ".py",
   "mimetype": "text/x-python",
   "name": "python",
   "nbconvert_exporter": "python",
   "pygments_lexer": "ipython3",
   "version": "3.8.12"
  },
  "toc": {
   "base_numbering": 1,
   "nav_menu": {},
   "number_sections": true,
   "sideBar": true,
   "skip_h1_title": false,
   "title_cell": "Table of Contents",
   "title_sidebar": "Contents",
   "toc_cell": false,
   "toc_position": {},
   "toc_section_display": true,
   "toc_window_display": false
  }
 },
 "nbformat": 4,
 "nbformat_minor": 5
}
