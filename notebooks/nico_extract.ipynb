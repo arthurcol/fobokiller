{
 "cells": [
  {
   "cell_type": "code",
   "execution_count": 3,
   "id": "3e633904",
   "metadata": {
    "ExecuteTime": {
     "end_time": "2021-11-26T10:37:18.144446Z",
     "start_time": "2021-11-26T10:37:17.885047Z"
    }
   },
   "outputs": [
    {
     "name": "stdout",
     "output_type": "stream",
     "text": [
      "The autoreload extension is already loaded. To reload it, use:\n",
      "  %reload_ext autoreload\n"
     ]
    }
   ],
   "source": [
    "%load_ext autoreload \n",
    "%autoreload 2"
   ]
  },
  {
   "cell_type": "code",
   "execution_count": 4,
   "id": "c8666cad",
   "metadata": {
    "ExecuteTime": {
     "end_time": "2021-11-26T11:18:35.719720Z",
     "start_time": "2021-11-26T11:18:35.642744Z"
    }
   },
   "outputs": [],
   "source": [
    "import pandas as pd \n",
    "import numpy as np\n",
    "import time\n",
    "from sentence_transformers import SentenceTransformer,util\n",
    "import pickle\n",
    "from wordcloud import WordCloud"
   ]
  },
  {
   "cell_type": "code",
   "execution_count": 5,
   "id": "0e2b9df4",
   "metadata": {
    "ExecuteTime": {
     "end_time": "2021-11-26T11:07:51.149978Z",
     "start_time": "2021-11-26T11:07:42.643726Z"
    }
   },
   "outputs": [],
   "source": [
    "from fobokiller.cosim import load_embedding , compute_sim_df ,model"
   ]
  },
  {
   "cell_type": "code",
   "execution_count": null,
   "id": "513593ca",
   "metadata": {},
   "outputs": [],
   "source": []
  },
  {
   "cell_type": "code",
   "execution_count": 6,
   "id": "37ec6a84",
   "metadata": {
    "ExecuteTime": {
     "end_time": "2021-11-26T11:18:56.726867Z",
     "start_time": "2021-11-26T11:18:55.095773Z"
    }
   },
   "outputs": [
    {
     "name": "stderr",
     "output_type": "stream",
     "text": [
      "2021-11-26 15:32:10.515948: I tensorflow/core/platform/cpu_feature_guard.cc:151] This TensorFlow binary is optimized with oneAPI Deep Neural Network Library (oneDNN) to use the following CPU instructions in performance-critical operations:  AVX2 FMA\n",
      "To enable them in other operations, rebuild TensorFlow with the appropriate compiler flags.\n"
     ]
    }
   ],
   "source": [
    "embedding = load_embedding()"
   ]
  },
  {
   "cell_type": "code",
   "execution_count": 34,
   "id": "7aa8e444",
   "metadata": {},
   "outputs": [
    {
     "name": "stderr",
     "output_type": "stream",
     "text": [
      "UsageError: %%time is a cell magic, but the cell body is empty. Did you mean the line magic %time (single %)?\n"
     ]
    }
   ],
   "source": [
    "%%time"
   ]
  },
  {
   "cell_type": "code",
   "execution_count": 37,
   "id": "fc15acda",
   "metadata": {
    "ExecuteTime": {
     "end_time": "2021-11-26T11:08:07.793925Z",
     "start_time": "2021-11-26T11:07:52.943534Z"
    }
   },
   "outputs": [
    {
     "name": "stdout",
     "output_type": "stream",
     "text": [
      "CPU times: user 6.06 s, sys: 13.1 s, total: 19.2 s\n",
      "Wall time: 30.4 s\n"
     ]
    }
   ],
   "source": []
  },
  {
   "cell_type": "code",
   "execution_count": 42,
   "id": "3ae3e71f",
   "metadata": {
    "ExecuteTime": {
     "end_time": "2021-11-26T11:19:22.896821Z",
     "start_time": "2021-11-26T11:19:22.667981Z"
    }
   },
   "outputs": [
    {
     "name": "stdout",
     "output_type": "stream",
     "text": [
      "CPU times: user 9.27 s, sys: 23.3 s, total: 32.6 s\n",
      "Wall time: 2min 24s\n"
     ]
    }
   ],
   "source": [
    "%%time\n",
    "sentence = 'I feel like eating ramens today!'\n",
    "df = compute_sim_df(sentence,np.array(embedding),n_prox=100,min_review=10)\n",
    "df.to_csv(sentence.replace( \" \",\"_\")+ \".csv\", sep=\",\")"
   ]
  },
  {
   "cell_type": "code",
   "execution_count": 43,
   "id": "51880c30",
   "metadata": {
    "ExecuteTime": {
     "end_time": "2021-11-26T11:21:23.526836Z",
     "start_time": "2021-11-26T11:21:21.816730Z"
    }
   },
   "outputs": [
    {
     "name": "stdout",
     "output_type": "stream",
     "text": [
      "CPU times: user 8.32 s, sys: 19.9 s, total: 28.2 s\n",
      "Wall time: 58.7 s\n"
     ]
    }
   ],
   "source": [
    "%%time\n",
    "sentence = 'ramens'\n",
    "df = compute_sim_df(sentence,np.array(embedding),n_prox=100,min_review=10)\n",
    "df.to_csv(sentence.replace( \" \",\"_\")+ \".csv\", sep=\",\")"
   ]
  },
  {
   "cell_type": "code",
   "execution_count": 44,
   "id": "209af63c",
   "metadata": {
    "ExecuteTime": {
     "end_time": "2021-11-26T11:22:25.437870Z",
     "start_time": "2021-11-26T11:22:22.549582Z"
    }
   },
   "outputs": [],
   "source": [
    "sentence = 'authentic ramens'\n",
    "df = compute_sim_df(sentence,np.array(embedding),n_prox=100,min_review=10)\n",
    "df.to_csv(sentence.replace( \" \",\"_\")+ \".csv\", sep=\",\")"
   ]
  },
  {
   "cell_type": "code",
   "execution_count": null,
   "id": "03a90446",
   "metadata": {},
   "outputs": [],
   "source": [
    "sentence = ''\n",
    "df = compute_sim_df(sentence,np.array(embedding),n_prox=100,min_review=10)\n",
    "df.to_csv('I_want_a_pizza_gluten_free.csv')"
   ]
  },
  {
   "cell_type": "code",
   "execution_count": null,
   "id": "26c52547",
   "metadata": {},
   "outputs": [],
   "source": [
    "sentence = 'I want a burger in a quiet place'\n",
    "df = compute_sim_df(sentence,np.array(embedding),n_prox=100,min_review=10)\n",
    "df.to_csv(sentence.replace( \" \",\"_\")+ \".csv\", sep=\",\")"
   ]
  },
  {
   "cell_type": "code",
   "execution_count": null,
   "id": "c40fc1ad",
   "metadata": {},
   "outputs": [],
   "source": [
    "sentence = 'I want the best burger'\n",
    "df = compute_sim_df(sentence,np.array(embedding),n_prox=100,min_review=10)\n",
    "df.to_csv(sentence.replace( \" \",\"_\")+ \".csv\", sep=\",\")"
   ]
  },
  {
   "cell_type": "code",
   "execution_count": null,
   "id": "6ef3c0d8",
   "metadata": {},
   "outputs": [],
   "source": [
    "sentence = 'I want the best burger in a quiet place'\n",
    "df = compute_sim_df(sentence,np.array(embedding),n_prox=100,min_review=10)\n",
    "df.to_csv(sentence.replace( \" \",\"_\")+ \".csv\", sep=\",\")"
   ]
  },
  {
   "cell_type": "code",
   "execution_count": 8,
   "id": "63b551f1",
   "metadata": {
    "ExecuteTime": {
     "end_time": "2021-11-26T11:23:53.020898Z",
     "start_time": "2021-11-26T11:23:52.951728Z"
    }
   },
   "outputs": [],
   "source": [
    "import bz2\n",
    "import gzip\n",
    "import lzma\n",
    "import pickle\n",
    "import brotli"
   ]
  },
  {
   "cell_type": "code",
   "execution_count": null,
   "id": "51b327d9",
   "metadata": {},
   "outputs": [],
   "source": []
  },
  {
   "cell_type": "code",
   "execution_count": null,
   "id": "73379812",
   "metadata": {
    "ExecuteTime": {
     "end_time": "2021-11-26T11:41:17.977641Z",
     "start_time": "2021-11-26T11:26:16.274540Z"
    }
   },
   "outputs": [],
   "source": [
    "with open('no_compression.pickle', 'wb') as f:\n",
    "    pickle.dump(embedding['embeddings'], f)\n",
    "\n",
    "with gzip.open(\"gzip_test.gz\", \"wb\") as f:\n",
    "    pickle.dump(embedding['embeddings'], f)\n",
    "\n",
    "with bz2.BZ2File('bz2_test.pbz2', 'wb') as f:\n",
    "    pickle.dump(embedding['embeddings'], f)\n",
    "\n",
    "with lzma.open(\"lmza_test.xz\", \"wb\") as f:\n",
    "    pickle.dump(embedding['embeddings'], f)"
   ]
  },
  {
   "cell_type": "code",
   "execution_count": null,
   "id": "eb537b42",
   "metadata": {
    "ExecuteTime": {
     "end_time": "2021-11-26T11:56:34.179302Z",
     "start_time": "2021-11-26T11:53:32.503102Z"
    }
   },
   "outputs": [],
   "source": [
    "start_time = time.time()\n",
    "\n",
    "with open('no_compression.pickle', 'rb') as f:\n",
    "    a=pickle.load(f)\n",
    "\n",
    "pickle_time=time.time()\n",
    "print('pickle file loaded in ',pickle_time-start_time)\n",
    "\n",
    "with gzip.open(\"gzip_test.gz\", \"rb\") as f:\n",
    "    b=pickle.load(f)\n",
    "    \n",
    "gzip_time=time.time()\n",
    "print('gzip file loaded in ',gzip_time-pickle_time)\n",
    "\n",
    "with bz2.BZ2File('bz2_test.pbz2', 'rb') as f:\n",
    "    c=pickle.load(f)\n",
    "    \n",
    "bz2_time=time.time()\n",
    "print('bz2 file loaded in ',bz2_time-gzip_time)\n",
    "\n",
    "with lzma.open(\"lmza_test.xz\", \"rb\") as f:\n",
    "    d=pickle.load(f)\n",
    "    \n",
    "lzma_time=time.time()\n",
    "print('lzma file loaded in ',lzma_time-bz2_time)"
   ]
  },
  {
   "cell_type": "code",
   "execution_count": null,
   "id": "b5f87a66",
   "metadata": {
    "ExecuteTime": {
     "end_time": "2021-11-26T11:57:26.809737Z",
     "start_time": "2021-11-26T11:57:26.529091Z"
    }
   },
   "outputs": [],
   "source": [
    "!ls -lh"
   ]
  },
  {
   "cell_type": "code",
   "execution_count": null,
   "id": "ffa82b6e",
   "metadata": {
    "ExecuteTime": {
     "end_time": "2021-11-26T11:52:37.212815Z",
     "start_time": "2021-11-26T11:52:37.127325Z"
    }
   },
   "outputs": [],
   "source": [
    "time.time()"
   ]
  },
  {
   "cell_type": "code",
   "execution_count": null,
   "id": "31193170",
   "metadata": {},
   "outputs": [],
   "source": []
  }
 ],
 "metadata": {
  "kernelspec": {
   "display_name": "Python 3 (ipykernel)",
   "language": "python",
   "name": "python3"
  },
  "language_info": {
   "codemirror_mode": {
    "name": "ipython",
    "version": 3
   },
   "file_extension": ".py",
   "mimetype": "text/x-python",
   "name": "python",
   "nbconvert_exporter": "python",
   "pygments_lexer": "ipython3",
   "version": "3.8.12"
  },
  "toc": {
   "base_numbering": 1,
   "nav_menu": {},
   "number_sections": true,
   "sideBar": true,
   "skip_h1_title": false,
   "title_cell": "Table of Contents",
   "title_sidebar": "Contents",
   "toc_cell": false,
   "toc_position": {},
   "toc_section_display": true,
   "toc_window_display": false
  }
 },
 "nbformat": 4,
 "nbformat_minor": 5
}
