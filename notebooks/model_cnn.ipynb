{
  "nbformat": 4,
  "nbformat_minor": 0,
  "metadata": {
    "colab": {
      "name": "model_cnn.ipynb",
      "provenance": [],
      "collapsed_sections": [
        "JCOJICwwjvDw"
      ]
    },
    "kernelspec": {
      "name": "python3",
      "display_name": "Python 3"
    },
    "language_info": {
      "name": "python"
    },
    "accelerator": "GPU"
  },
  "cells": [
    {
      "cell_type": "markdown",
      "metadata": {
        "id": "wTOzQCLwInsh"
      },
      "source": [
        "## Imports & data\n"
      ]
    },
    {
      "cell_type": "code",
      "metadata": {
        "id": "TEPpnpZiIf_E"
      },
      "source": [
        "!pip install -q sentence-transformers"
      ],
      "execution_count": 3,
      "outputs": []
    },
    {
      "cell_type": "code",
      "metadata": {
        "id": "8x88xxVLItVx"
      },
      "source": [
        "!pip install pickle5 -q"
      ],
      "execution_count": 4,
      "outputs": []
    },
    {
      "cell_type": "code",
      "metadata": {
        "id": "_KIdrE2DIuj9"
      },
      "source": [
        "#canonical\n",
        "import pandas as pd\n",
        "import numpy as np \n",
        "\n",
        "#words/sentences  preprocessing\n",
        "from gensim.models import Word2Vec\n",
        "from sklearn.model_selection import train_test_split\n",
        "from sentence_transformers import SentenceTransformer\n",
        "from tensorflow.keras.utils import to_categorical\n",
        "from tensorflow.keras.preprocessing.sequence import pad_sequences\n",
        "from tensorflow.keras.callbacks import EarlyStopping\n",
        "from tensorflow.keras import backend as K\n",
        "\n",
        "from tensorflow import GradientTape\n",
        "import tensorflow as tf \n",
        "\n",
        "from IPython.display import HTML,display\n",
        "\n",
        "\n",
        "#modeling\n",
        "from tensorflow.keras import models,layers\n",
        "\n",
        "#google import\n",
        "from google.colab import auth\n",
        "from google.colab import drive\n",
        "import pickle5 as pickle"
      ],
      "execution_count": 5,
      "outputs": []
    },
    {
      "cell_type": "code",
      "metadata": {
        "colab": {
          "base_uri": "https://localhost:8080/"
        },
        "id": "czDwQpAYIwGh",
        "outputId": "b07207a2-87c8-45fc-e21a-eeb40ddfcfad"
      },
      "source": [
        "drive.mount('/content/drive',force_remount=True)"
      ],
      "execution_count": 6,
      "outputs": [
        {
          "output_type": "stream",
          "name": "stdout",
          "text": [
            "Mounted at /content/drive\n"
          ]
        }
      ]
    },
    {
      "cell_type": "code",
      "metadata": {
        "id": "o2AmPS-QIxg8"
      },
      "source": [
        "import matplotlib.pyplot as plt\n",
        "import seaborn as sns\n",
        "def plot_loss_metrics(history, title=None):\n",
        "    \"\"\"\n",
        "    used in DL to plot accuracy and metrics\n",
        "    must be passed the history of the fitted model\n",
        "    \"\"\"\n",
        "    # -- Retrieve metrics used\n",
        "    metrics = []\n",
        "    val_metrics = []\n",
        "\n",
        "    for m in history.history.keys():\n",
        "        if m.startswith('val_'):\n",
        "            val_metrics.append(m)\n",
        "        else:\n",
        "            metrics.append(m)\n",
        "\n",
        "    if len(metrics) % 2 != 0:\n",
        "        row = len(metrics) // 2 + 1\n",
        "\n",
        "    if len(metrics) % 2 == 0:\n",
        "        row = len(metrics) // 2\n",
        "\n",
        "    fig,axs = plt.subplots(row,2,figsize=(13, 4 * row))\n",
        "\n",
        "    for m,ax in zip(metrics,axs.flat):\n",
        "        ax.plot(history.history[m])\n",
        "        ax.plot(history.history[f'val_{m}'])\n",
        "        ax.set_title(f'Model {m}')\n",
        "        ax.set_ylabel(f'{m}')\n",
        "        ax.set_xlabel('Epoch')\n",
        "        ax.legend(['Train', 'Test'], loc='best')\n",
        "        ax.grid(axis=\"x\", linewidth=0.5)\n",
        "        ax.grid(axis=\"y\", linewidth=0.5)\n",
        "\n",
        "    if len(metrics) % 2 != 0:\n",
        "        fig.delaxes[axs.flat[-1]]\n",
        "\n",
        "    if title:\n",
        "        fig.suptitle(title)\n",
        "\n",
        "    pass"
      ],
      "execution_count": 7,
      "outputs": []
    },
    {
      "cell_type": "code",
      "metadata": {
        "id": "kmPqVPQ7IzdN"
      },
      "source": [
        "#loading embedding\n",
        "with open('/content/drive/MyDrive/FOBOKILLER/data/review_embed.pkl','rb') as file:\n",
        "  dataset = pickle.load(file)"
      ],
      "execution_count": 8,
      "outputs": []
    },
    {
      "cell_type": "code",
      "metadata": {
        "id": "bS5TF9xySEtk"
      },
      "source": [
        "#dataset=pd.read_csv('/content/drive/MyDrive/FOBOKILLER/data/scrapping_cleaned_sentences.csv',index_col=0)"
      ],
      "execution_count": 7,
      "outputs": []
    },
    {
      "cell_type": "code",
      "metadata": {
        "colab": {
          "base_uri": "https://localhost:8080/"
        },
        "id": "6SGa8N0e8-vd",
        "outputId": "b8bed11d-756c-4229-faa8-5e096ab9142b"
      },
      "source": [
        "dataset[dataset['rate']==5].shape"
      ],
      "execution_count": 8,
      "outputs": [
        {
          "output_type": "execute_result",
          "data": {
            "text/plain": [
              "(27903, 4)"
            ]
          },
          "metadata": {},
          "execution_count": 8
        }
      ]
    },
    {
      "cell_type": "code",
      "metadata": {
        "colab": {
          "base_uri": "https://localhost:8080/"
        },
        "id": "rMXa13NDJEeF",
        "outputId": "87271f23-4e78-42e4-8c84-3a58f63b3f13"
      },
      "source": [
        "# Creating balanced dataset\n",
        "df1=dataset[dataset['rate']==1].sample(5000,replace=True)\n",
        "df2=dataset[dataset['rate']==2].sample(5000,replace=True)\n",
        "df3=dataset[dataset['rate']==3].sample(5000,replace=True)\n",
        "df4=dataset[dataset['rate']==4].sample(5000)\n",
        "df5=dataset[dataset['rate']==5].sample(5000)\n",
        "\n",
        "dataset_balanced=pd.concat([df1,df2,df3,df4,df5])\n",
        "df1.shape,df2.shape,df3.shape,df4.shape,df5.shape,dataset_balanced.shape"
      ],
      "execution_count": 9,
      "outputs": [
        {
          "output_type": "execute_result",
          "data": {
            "text/plain": [
              "((5000, 4), (5000, 4), (5000, 4), (5000, 4), (5000, 4), (25000, 4))"
            ]
          },
          "metadata": {},
          "execution_count": 9
        }
      ]
    },
    {
      "cell_type": "code",
      "metadata": {
        "id": "lp1s07G1JGZ6"
      },
      "source": [
        "#X y\n",
        "X=np.array(dataset_balanced['embedding'])\n",
        "y=dataset_balanced['rate']\n",
        "\n",
        "    ### BINARY ###\n",
        "y_binary = np.where(y <4,0,1)\n",
        "#split train test BINARY\n",
        "X_train,X_test,y_train,y_test = train_test_split(X,y_binary,test_size=.3)\n",
        "\n",
        "    ### CATEGORICAL ###\n",
        "#y_cat=to_categorical(y)\n",
        "#X_cat_train,X_cat_test,y_cat_train,y_cat_test = train_test_split(X,y_cat,test_size=.3)\n",
        "\n",
        "# Pad the training and test embedded sentences\n",
        "X_train_pad = pad_sequences(X_train, dtype='float32', padding='post', maxlen=30)\n",
        "X_test_pad = pad_sequences(X_test, dtype='float32', padding='post', maxlen=30)\n",
        "\n"
      ],
      "execution_count": 10,
      "outputs": []
    },
    {
      "cell_type": "code",
      "metadata": {
        "id": "W6JKkJLmLx3z"
      },
      "source": [
        "X_test_pad.shape"
      ],
      "execution_count": null,
      "outputs": []
    },
    {
      "cell_type": "markdown",
      "metadata": {
        "id": "WxXhegE4qWCw"
      },
      "source": [
        "## Dump review padded"
      ]
    },
    {
      "cell_type": "code",
      "metadata": {
        "id": "ePNwKq1XqUg7"
      },
      "source": [
        "with open('/content/drive/MyDrive/FOBOKILLER/data/review_padded_train.pkl','wb') as file:\n",
        "  pickle.dump(X_train_pad,file)"
      ],
      "execution_count": 13,
      "outputs": []
    },
    {
      "cell_type": "code",
      "metadata": {
        "id": "dg05hZtxq155"
      },
      "source": [
        "with open('/content/drive/MyDrive/FOBOKILLER/data/review_padded_test.pkl','wb') as file:\n",
        "  pickle.dump(X_test_pad,file)"
      ],
      "execution_count": 14,
      "outputs": []
    },
    {
      "cell_type": "code",
      "metadata": {
        "id": "dB_aks3fsAl3"
      },
      "source": [
        "with open('/content/drive/MyDrive/FOBOKILLER/data/review_padded_train.pkl','rb') as file:\n",
        "  pickle.dump(X_train_pad,file)"
      ],
      "execution_count": null,
      "outputs": []
    },
    {
      "cell_type": "code",
      "metadata": {
        "id": "6F2DYGl3JY3G"
      },
      "source": [
        "def binary_model():\n",
        "  model=models.Sequential()\n",
        "  model.add(layers.Conv1D(300,3,padding='same',input_shape=(30,768)))\n",
        "  model.add(layers.MaxPool1D(2))\n",
        "  model.add(layers.Conv1D(300,3,padding='same'))\n",
        "  model.add(layers.MaxPool1D(2))\n",
        "  model.add(layers.Flatten())\n",
        "  model.add(layers.Dense(130,activation='relu'))\n",
        "  model.add(layers.Dense(1,activation='sigmoid'))\n",
        "  \n",
        "  model.compile(optimizer='adam',loss='binary_crossentropy',metrics=['accuracy'])\n",
        "\n",
        "  return model"
      ],
      "execution_count": 11,
      "outputs": []
    },
    {
      "cell_type": "code",
      "metadata": {
        "id": "jPi0YLvBMgZB"
      },
      "source": [
        "model=binary_model()\n",
        "#model.summary()"
      ],
      "execution_count": 12,
      "outputs": []
    },
    {
      "cell_type": "code",
      "metadata": {
        "colab": {
          "base_uri": "https://localhost:8080/",
          "height": 469
        },
        "id": "MkndP54jMj-m",
        "outputId": "385a0989-db65-4eef-a3ba-617ec288177a"
      },
      "source": [
        "es=EarlyStopping(patience=2,restore_best_weights=True)\n",
        "history = model.fit(X_train_pad,y_train,validation_split=.2,batch_size=32,epochs=50,callbacks=[es])\n",
        "plot_loss_metrics(history)"
      ],
      "execution_count": 13,
      "outputs": [
        {
          "output_type": "stream",
          "name": "stdout",
          "text": [
            "Epoch 1/50\n",
            "438/438 [==============================] - 30s 18ms/step - loss: 0.2786 - accuracy: 0.8869 - val_loss: 0.2611 - val_accuracy: 0.8963\n",
            "Epoch 2/50\n",
            "438/438 [==============================] - 6s 13ms/step - loss: 0.2084 - accuracy: 0.9143 - val_loss: 0.2596 - val_accuracy: 0.9017\n",
            "Epoch 3/50\n",
            "438/438 [==============================] - 6s 13ms/step - loss: 0.1559 - accuracy: 0.9368 - val_loss: 0.2407 - val_accuracy: 0.9057\n",
            "Epoch 4/50\n",
            "438/438 [==============================] - 6s 13ms/step - loss: 0.1023 - accuracy: 0.9601 - val_loss: 0.3413 - val_accuracy: 0.8994\n",
            "Epoch 5/50\n",
            "438/438 [==============================] - 6s 13ms/step - loss: 0.0557 - accuracy: 0.9785 - val_loss: 0.4073 - val_accuracy: 0.9031\n"
          ]
        },
        {
          "output_type": "display_data",
          "data": {
            "image/png": "[encoded data removed]",
            "text/plain": [
              "<Figure size 936x288 with 2 Axes>"
            ]
          },
          "metadata": {
            "needs_background": "light"
          }
        }
      ]
    },
    {
      "cell_type": "code",
      "metadata": {
        "id": "kImE-sAAPQ74"
      },
      "source": [
        "import joblib"
      ],
      "execution_count": 14,
      "outputs": []
    },
    {
      "cell_type": "code",
      "metadata": {
        "colab": {
          "base_uri": "https://localhost:8080/"
        },
        "id": "Ao3Ve-0xs-6G",
        "outputId": "25ab18b6-e8f5-472a-ec32-82498b43921b"
      },
      "source": [
        "model.save('/content/drive/MyDrive/FOBOKILLER/model')"
      ],
      "execution_count": 16,
      "outputs": [
        {
          "output_type": "stream",
          "name": "stdout",
          "text": [
            "INFO:tensorflow:Assets written to: /content/drive/MyDrive/FOBOKILLER/model/assets\n"
          ]
        }
      ]
    },
    {
      "cell_type": "code",
      "metadata": {
        "id": "lLuUMGGQcCwZ"
      },
      "source": [
        "def heatmap_sentences(review_sentences,review_embedded,model,layer):\n",
        "  #padding\n",
        "  review_embedded=pad_sequences([review_embedded], dtype='float32', padding='post', maxlen=30)\n",
        "  # predict for X_test_pad[1]\n",
        "  preds = model.predict(review_embedded)  \n",
        "  with tf.GradientTape() as tape:\n",
        "    class_idx = np.argmax(preds[0])\n",
        "    last_conv_layer = model.get_layer(layer)\n",
        "    iterate = tf.keras.models.Model([model.inputs], [model.output, last_conv_layer.output])\n",
        "    model_out, last_conv_layer = iterate(review_embedded)\n",
        "    class_out = model_out[:, class_idx]\n",
        "    grads = tape.gradient(class_out, last_conv_layer)\n",
        "    #pooled_grads = K.mean(grads, axis=(0, 1, 2))\n",
        "    pooled_grads = tf.reduce_mean(grads)\n",
        "  \n",
        "  heatmap = tf.reduce_mean(tf.multiply(pooled_grads, last_conv_layer), axis=-1)\n",
        "  heatmap = np.maximum(heatmap, 0)\n",
        "  heatmap /= np.max(heatmap)  \n",
        "  \n",
        "  html=\"\"\n",
        "  for j,i in enumerate(review_sentences):\n",
        "    html += f\"<span style='background-color:rgba(0,{heatmap[0][j]*255},0,0.6)'>{i} </span>\"\n",
        "\n",
        "  return heatmap,html"
      ],
      "execution_count": 17,
      "outputs": []
    },
    {
      "cell_type": "code",
      "metadata": {
        "colab": {
          "base_uri": "https://localhost:8080/"
        },
        "id": "o49nYP1tczWg",
        "outputId": "77d97da1-0e91-4942-df09-f1282c152ecf"
      },
      "source": [
        "test=dataset.loc[2436]\n",
        "test"
      ],
      "execution_count": 18,
      "outputs": [
        {
          "output_type": "execute_result",
          "data": {
            "text/plain": [
              "review_clean        after visiting the tour eiffel, we came here t...\n",
              "review_sentences    [after visiting the tour eiffel, we came here ...\n",
              "embedding           [[-0.020146683, 0.03199018, -0.012785325, 0.01...\n",
              "rate                                                                5\n",
              "Name: 2436, dtype: object"
            ]
          },
          "metadata": {},
          "execution_count": 18
        }
      ]
    },
    {
      "cell_type": "code",
      "metadata": {
        "id": "tCOqjL3xubtP"
      },
      "source": [
        "array=np.array(test['embedding'])\n",
        "array\n",
        "b=np.array([np.vstack([array,np.zeros((0,768))])])"
      ],
      "execution_count": null,
      "outputs": []
    },
    {
      "cell_type": "code",
      "metadata": {
        "colab": {
          "base_uri": "https://localhost:8080/"
        },
        "id": "AziCNt-yxk65",
        "outputId": "10b30921-65b7-4032-d0f7-14f28ee93a37"
      },
      "source": [
        "pad_sequences([array], dtype='float32', padding='post', maxlen=30).shape"
      ],
      "execution_count": null,
      "outputs": [
        {
          "output_type": "execute_result",
          "data": {
            "text/plain": [
              "(1, 30, 768)"
            ]
          },
          "metadata": {},
          "execution_count": 358
        }
      ]
    },
    {
      "cell_type": "code",
      "metadata": {
        "id": "ErGPBLRrc_er"
      },
      "source": [
        "h,html=heatmap_sentences(test['review_sentences'],test['embedding'],model,'conv1d')"
      ],
      "execution_count": 19,
      "outputs": []
    },
    {
      "cell_type": "code",
      "metadata": {
        "colab": {
          "base_uri": "https://localhost:8080/",
          "height": 164
        },
        "id": "vh0l6UrHlFyA",
        "outputId": "b2c1ac32-cf8a-4fce-8fce-256f716924db"
      },
      "source": [
        "plt.matshow(h)\n",
        "plt.colorbar()"
      ],
      "execution_count": 41,
      "outputs": [
        {
          "output_type": "execute_result",
          "data": {
            "text/plain": [
              "<matplotlib.colorbar.Colorbar at 0x7f6329f15850>"
            ]
          },
          "metadata": {},
          "execution_count": 41
        },
        {
          "output_type": "display_data",
          "data": {
            "image/png": "[encoded data removed]",
            "text/plain": [
              "<Figure size 1152x144 with 2 Axes>"
            ]
          },
          "metadata": {
            "needs_background": "light"
          }
        }
      ]
    },
    {
      "cell_type": "code",
      "metadata": {
        "colab": {
          "base_uri": "https://localhost:8080/",
          "height": 69
        },
        "id": "v8IBp0JidmPN",
        "outputId": "980a245d-0e78-4b07-a874-2d8d37f957b9"
      },
      "source": [
        "HTML(html)"
      ],
      "execution_count": 20,
      "outputs": [
        {
          "output_type": "execute_result",
          "data": {
            "text/html": [
              "<span style='background-color:rgba(0,170.5035388469696,0,0.6)'>after visiting the tour eiffel, we came here to rest and refresh ourselves </span><span style='background-color:rgba(0,200.44673770666122,0,0.6)'> the group didn't really want to eat a heavy meal but to get some drinks and pastries (something you'll be doing a lot of when in paris) </span><span style='background-color:rgba(0,204.05655920505524,0,0.6)'> our server hustled the crowd like a real professional </span><span style='background-color:rgba(0,213.50048124790192,0,0.6)'> he took care of business and made sure that we had everything we needed </span><span style='background-color:rgba(0,241.01082265377045,0,0.6)'> i can't rave enough about the pastries and coffee in paris </span><span style='background-color:rgba(0,255.0,0,0.6)'> it's life changing and if you like pastries and coffee, you'll want to move there </span><span style='background-color:rgba(0,227.34257608652115,0,0.6)'> this place will make you want to move there too </span><span style='background-color:rgba(0,127.45773106813431,0,0.6)'> it was another great experience while in paris </span>"
            ],
            "text/plain": [
              "<IPython.core.display.HTML object>"
            ]
          },
          "metadata": {},
          "execution_count": 20
        }
      ]
    },
    {
      "cell_type": "code",
      "metadata": {
        "id": "1aMetOQld_Dy",
        "colab": {
          "base_uri": "https://localhost:8080/",
          "height": 206
        },
        "outputId": "6a3b0015-7771-441d-bcf8-55d65990ccd1"
      },
      "source": [
        "dataset.head()"
      ],
      "execution_count": 43,
      "outputs": [
        {
          "output_type": "execute_result",
          "data": {
            "text/html": [
              "<div>\n",
              "<style scoped>\n",
              "    .dataframe tbody tr th:only-of-type {\n",
              "        vertical-align: middle;\n",
              "    }\n",
              "\n",
              "    .dataframe tbody tr th {\n",
              "        vertical-align: top;\n",
              "    }\n",
              "\n",
              "    .dataframe thead th {\n",
              "        text-align: right;\n",
              "    }\n",
              "</style>\n",
              "<table border=\"1\" class=\"dataframe\">\n",
              "  <thead>\n",
              "    <tr style=\"text-align: right;\">\n",
              "      <th></th>\n",
              "      <th>review_clean</th>\n",
              "      <th>review_sentences</th>\n",
              "      <th>embedding</th>\n",
              "      <th>rate</th>\n",
              "    </tr>\n",
              "  </thead>\n",
              "  <tbody>\n",
              "    <tr>\n",
              "      <th>0</th>\n",
              "      <td>!!! a theif working amongst you!!! myself, my ...</td>\n",
              "      <td>[ a theif working amongst you,  myself, my sis...</td>\n",
              "      <td>[[0.045603834, -0.017338777, 0.0012167644, 0.0...</td>\n",
              "      <td>1.0</td>\n",
              "    </tr>\n",
              "    <tr>\n",
              "      <th>1</th>\n",
              "      <td>\"\"\"\"avoid at all costs\"\"\"\"\"\" this was an absol...</td>\n",
              "      <td>[\"\"\"\"avoid at all costs\"\"\"\"\"\" this was an abso...</td>\n",
              "      <td>[[0.019589972, 0.048924193, -0.015198772, -0.0...</td>\n",
              "      <td>1.0</td>\n",
              "    </tr>\n",
              "    <tr>\n",
              "      <th>2</th>\n",
              "      <td>\"$$$\" food but only at a \"$\" price. will be co...</td>\n",
              "      <td>[\"$$$\" food but only at a \"$\" price,  will be ...</td>\n",
              "      <td>[[0.016501594, 0.1083755, 0.014006043, -0.0319...</td>\n",
              "      <td>5.0</td>\n",
              "    </tr>\n",
              "    <tr>\n",
              "      <th>3</th>\n",
              "      <td>\"a middle finger salute\" well i haven't had ma...</td>\n",
              "      <td>[\"a middle finger salute\" well i haven't had m...</td>\n",
              "      <td>[[0.019542666, -0.017905522, 0.0037664298, 0.0...</td>\n",
              "      <td>1.0</td>\n",
              "    </tr>\n",
              "    <tr>\n",
              "      <th>4</th>\n",
              "      <td>\"a true disappointment and a waste of money an...</td>\n",
              "      <td>[\"a true disappointment and a waste of money a...</td>\n",
              "      <td>[[0.036009785, 0.0029092361, 0.0132899275, 0.0...</td>\n",
              "      <td>1.0</td>\n",
              "    </tr>\n",
              "  </tbody>\n",
              "</table>\n",
              "</div>"
            ],
            "text/plain": [
              "                                        review_clean  ... rate\n",
              "0  !!! a theif working amongst you!!! myself, my ...  ...  1.0\n",
              "1  \"\"\"\"avoid at all costs\"\"\"\"\"\" this was an absol...  ...  1.0\n",
              "2  \"$$$\" food but only at a \"$\" price. will be co...  ...  5.0\n",
              "3  \"a middle finger salute\" well i haven't had ma...  ...  1.0\n",
              "4  \"a true disappointment and a waste of money an...  ...  1.0\n",
              "\n",
              "[5 rows x 4 columns]"
            ]
          },
          "metadata": {},
          "execution_count": 43
        }
      ]
    },
    {
      "cell_type": "code",
      "metadata": {
        "id": "wrtm09MwDcya"
      },
      "source": [
        "def html_df(df):\n",
        "  heatmap,html=heatmap_sentences(df['review_sentences'],df['embedding'],model,'conv1d')\n",
        "  return html"
      ],
      "execution_count": 21,
      "outputs": []
    },
    {
      "cell_type": "code",
      "metadata": {
        "colab": {
          "base_uri": "https://localhost:8080/",
          "height": 346
        },
        "id": "eFuNIWaODcwB",
        "outputId": "0394aceb-07f3-4c57-e65b-0ad3257903d9"
      },
      "source": [
        "sub_df=dataset.sample(200)\n",
        "sub_df['html']=sub_df.apply(html_df,axis=1)"
      ],
      "execution_count": 34,
      "outputs": [
        {
          "output_type": "stream",
          "name": "stderr",
          "text": [
            "/usr/local/lib/python3.7/dist-packages/ipykernel_launcher.py:18: RuntimeWarning: invalid value encountered in true_divide\n"
          ]
        },
        {
          "output_type": "error",
          "ename": "IndexError",
          "evalue": "ignored",
          "traceback": [
            "\u001b[0;31m---------------------------------------------------------------------------\u001b[0m",
            "\u001b[0;31mIndexError\u001b[0m                                Traceback (most recent call last)",
            "\u001b[0;32m<ipython-input-34-c62a3b8b515e>\u001b[0m in \u001b[0;36m<module>\u001b[0;34m()\u001b[0m\n\u001b[1;32m      1\u001b[0m \u001b[0msub_df\u001b[0m\u001b[0;34m=\u001b[0m\u001b[0mdataset\u001b[0m\u001b[0;34m.\u001b[0m\u001b[0msample\u001b[0m\u001b[0;34m(\u001b[0m\u001b[0;36m200\u001b[0m\u001b[0;34m)\u001b[0m\u001b[0;34m\u001b[0m\u001b[0;34m\u001b[0m\u001b[0m\n\u001b[0;32m----> 2\u001b[0;31m \u001b[0msub_df\u001b[0m\u001b[0;34m[\u001b[0m\u001b[0;34m'html'\u001b[0m\u001b[0;34m]\u001b[0m\u001b[0;34m=\u001b[0m\u001b[0msub_df\u001b[0m\u001b[0;34m.\u001b[0m\u001b[0mapply\u001b[0m\u001b[0;34m(\u001b[0m\u001b[0mhtml_df\u001b[0m\u001b[0;34m,\u001b[0m\u001b[0maxis\u001b[0m\u001b[0;34m=\u001b[0m\u001b[0;36m1\u001b[0m\u001b[0;34m)\u001b[0m\u001b[0;34m\u001b[0m\u001b[0;34m\u001b[0m\u001b[0m\n\u001b[0m",
            "\u001b[0;32m/usr/local/lib/python3.7/dist-packages/pandas/core/frame.py\u001b[0m in \u001b[0;36mapply\u001b[0;34m(self, func, axis, raw, result_type, args, **kwds)\u001b[0m\n\u001b[1;32m   7550\u001b[0m             \u001b[0mkwds\u001b[0m\u001b[0;34m=\u001b[0m\u001b[0mkwds\u001b[0m\u001b[0;34m,\u001b[0m\u001b[0;34m\u001b[0m\u001b[0;34m\u001b[0m\u001b[0m\n\u001b[1;32m   7551\u001b[0m         )\n\u001b[0;32m-> 7552\u001b[0;31m         \u001b[0;32mreturn\u001b[0m \u001b[0mop\u001b[0m\u001b[0;34m.\u001b[0m\u001b[0mget_result\u001b[0m\u001b[0;34m(\u001b[0m\u001b[0;34m)\u001b[0m\u001b[0;34m\u001b[0m\u001b[0;34m\u001b[0m\u001b[0m\n\u001b[0m\u001b[1;32m   7553\u001b[0m \u001b[0;34m\u001b[0m\u001b[0m\n\u001b[1;32m   7554\u001b[0m     \u001b[0;32mdef\u001b[0m \u001b[0mapplymap\u001b[0m\u001b[0;34m(\u001b[0m\u001b[0mself\u001b[0m\u001b[0;34m,\u001b[0m \u001b[0mfunc\u001b[0m\u001b[0;34m)\u001b[0m \u001b[0;34m->\u001b[0m \u001b[0;34m\"DataFrame\"\u001b[0m\u001b[0;34m:\u001b[0m\u001b[0;34m\u001b[0m\u001b[0;34m\u001b[0m\u001b[0m\n",
            "\u001b[0;32m/usr/local/lib/python3.7/dist-packages/pandas/core/apply.py\u001b[0m in \u001b[0;36mget_result\u001b[0;34m(self)\u001b[0m\n\u001b[1;32m    183\u001b[0m             \u001b[0;32mreturn\u001b[0m \u001b[0mself\u001b[0m\u001b[0;34m.\u001b[0m\u001b[0mapply_raw\u001b[0m\u001b[0;34m(\u001b[0m\u001b[0;34m)\u001b[0m\u001b[0;34m\u001b[0m\u001b[0;34m\u001b[0m\u001b[0m\n\u001b[1;32m    184\u001b[0m \u001b[0;34m\u001b[0m\u001b[0m\n\u001b[0;32m--> 185\u001b[0;31m         \u001b[0;32mreturn\u001b[0m \u001b[0mself\u001b[0m\u001b[0;34m.\u001b[0m\u001b[0mapply_standard\u001b[0m\u001b[0;34m(\u001b[0m\u001b[0;34m)\u001b[0m\u001b[0;34m\u001b[0m\u001b[0;34m\u001b[0m\u001b[0m\n\u001b[0m\u001b[1;32m    186\u001b[0m \u001b[0;34m\u001b[0m\u001b[0m\n\u001b[1;32m    187\u001b[0m     \u001b[0;32mdef\u001b[0m \u001b[0mapply_empty_result\u001b[0m\u001b[0;34m(\u001b[0m\u001b[0mself\u001b[0m\u001b[0;34m)\u001b[0m\u001b[0;34m:\u001b[0m\u001b[0;34m\u001b[0m\u001b[0;34m\u001b[0m\u001b[0m\n",
            "\u001b[0;32m/usr/local/lib/python3.7/dist-packages/pandas/core/apply.py\u001b[0m in \u001b[0;36mapply_standard\u001b[0;34m(self)\u001b[0m\n\u001b[1;32m    274\u001b[0m \u001b[0;34m\u001b[0m\u001b[0m\n\u001b[1;32m    275\u001b[0m     \u001b[0;32mdef\u001b[0m \u001b[0mapply_standard\u001b[0m\u001b[0;34m(\u001b[0m\u001b[0mself\u001b[0m\u001b[0;34m)\u001b[0m\u001b[0;34m:\u001b[0m\u001b[0;34m\u001b[0m\u001b[0;34m\u001b[0m\u001b[0m\n\u001b[0;32m--> 276\u001b[0;31m         \u001b[0mresults\u001b[0m\u001b[0;34m,\u001b[0m \u001b[0mres_index\u001b[0m \u001b[0;34m=\u001b[0m \u001b[0mself\u001b[0m\u001b[0;34m.\u001b[0m\u001b[0mapply_series_generator\u001b[0m\u001b[0;34m(\u001b[0m\u001b[0;34m)\u001b[0m\u001b[0;34m\u001b[0m\u001b[0;34m\u001b[0m\u001b[0m\n\u001b[0m\u001b[1;32m    277\u001b[0m \u001b[0;34m\u001b[0m\u001b[0m\n\u001b[1;32m    278\u001b[0m         \u001b[0;31m# wrap results\u001b[0m\u001b[0;34m\u001b[0m\u001b[0;34m\u001b[0m\u001b[0;34m\u001b[0m\u001b[0m\n",
            "\u001b[0;32m/usr/local/lib/python3.7/dist-packages/pandas/core/apply.py\u001b[0m in \u001b[0;36mapply_series_generator\u001b[0;34m(self)\u001b[0m\n\u001b[1;32m    303\u001b[0m                 \u001b[0;32mfor\u001b[0m \u001b[0mi\u001b[0m\u001b[0;34m,\u001b[0m \u001b[0mv\u001b[0m \u001b[0;32min\u001b[0m \u001b[0menumerate\u001b[0m\u001b[0;34m(\u001b[0m\u001b[0mseries_gen\u001b[0m\u001b[0;34m)\u001b[0m\u001b[0;34m:\u001b[0m\u001b[0;34m\u001b[0m\u001b[0;34m\u001b[0m\u001b[0m\n\u001b[1;32m    304\u001b[0m                     \u001b[0;31m# ignore SettingWithCopy here in case the user mutates\u001b[0m\u001b[0;34m\u001b[0m\u001b[0;34m\u001b[0m\u001b[0;34m\u001b[0m\u001b[0m\n\u001b[0;32m--> 305\u001b[0;31m                     \u001b[0mresults\u001b[0m\u001b[0;34m[\u001b[0m\u001b[0mi\u001b[0m\u001b[0;34m]\u001b[0m \u001b[0;34m=\u001b[0m \u001b[0mself\u001b[0m\u001b[0;34m.\u001b[0m\u001b[0mf\u001b[0m\u001b[0;34m(\u001b[0m\u001b[0mv\u001b[0m\u001b[0;34m)\u001b[0m\u001b[0;34m\u001b[0m\u001b[0;34m\u001b[0m\u001b[0m\n\u001b[0m\u001b[1;32m    306\u001b[0m                     \u001b[0;32mif\u001b[0m \u001b[0misinstance\u001b[0m\u001b[0;34m(\u001b[0m\u001b[0mresults\u001b[0m\u001b[0;34m[\u001b[0m\u001b[0mi\u001b[0m\u001b[0;34m]\u001b[0m\u001b[0;34m,\u001b[0m \u001b[0mABCSeries\u001b[0m\u001b[0;34m)\u001b[0m\u001b[0;34m:\u001b[0m\u001b[0;34m\u001b[0m\u001b[0;34m\u001b[0m\u001b[0m\n\u001b[1;32m    307\u001b[0m                         \u001b[0;31m# If we have a view on v, we need to make a copy because\u001b[0m\u001b[0;34m\u001b[0m\u001b[0;34m\u001b[0m\u001b[0;34m\u001b[0m\u001b[0m\n",
            "\u001b[0;32m<ipython-input-21-27afddd046de>\u001b[0m in \u001b[0;36mhtml_df\u001b[0;34m(df)\u001b[0m\n\u001b[1;32m      1\u001b[0m \u001b[0;32mdef\u001b[0m \u001b[0mhtml_df\u001b[0m\u001b[0;34m(\u001b[0m\u001b[0mdf\u001b[0m\u001b[0;34m)\u001b[0m\u001b[0;34m:\u001b[0m\u001b[0;34m\u001b[0m\u001b[0;34m\u001b[0m\u001b[0m\n\u001b[0;32m----> 2\u001b[0;31m   \u001b[0mheatmap\u001b[0m\u001b[0;34m,\u001b[0m\u001b[0mhtml\u001b[0m\u001b[0;34m=\u001b[0m\u001b[0mheatmap_sentences\u001b[0m\u001b[0;34m(\u001b[0m\u001b[0mdf\u001b[0m\u001b[0;34m[\u001b[0m\u001b[0;34m'review_sentences'\u001b[0m\u001b[0;34m]\u001b[0m\u001b[0;34m,\u001b[0m\u001b[0mdf\u001b[0m\u001b[0;34m[\u001b[0m\u001b[0;34m'embedding'\u001b[0m\u001b[0;34m]\u001b[0m\u001b[0;34m,\u001b[0m\u001b[0mmodel\u001b[0m\u001b[0;34m,\u001b[0m\u001b[0;34m'conv1d'\u001b[0m\u001b[0;34m)\u001b[0m\u001b[0;34m\u001b[0m\u001b[0;34m\u001b[0m\u001b[0m\n\u001b[0m\u001b[1;32m      3\u001b[0m   \u001b[0;32mreturn\u001b[0m \u001b[0mhtml\u001b[0m\u001b[0;34m\u001b[0m\u001b[0;34m\u001b[0m\u001b[0m\n",
            "\u001b[0;32m<ipython-input-17-1d76199777f0>\u001b[0m in \u001b[0;36mheatmap_sentences\u001b[0;34m(review_sentences, review_embedded, model, layer)\u001b[0m\n\u001b[1;32m     20\u001b[0m   \u001b[0mhtml\u001b[0m\u001b[0;34m=\u001b[0m\u001b[0;34m\"\"\u001b[0m\u001b[0;34m\u001b[0m\u001b[0;34m\u001b[0m\u001b[0m\n\u001b[1;32m     21\u001b[0m   \u001b[0;32mfor\u001b[0m \u001b[0mj\u001b[0m\u001b[0;34m,\u001b[0m\u001b[0mi\u001b[0m \u001b[0;32min\u001b[0m \u001b[0menumerate\u001b[0m\u001b[0;34m(\u001b[0m\u001b[0mreview_sentences\u001b[0m\u001b[0;34m)\u001b[0m\u001b[0;34m:\u001b[0m\u001b[0;34m\u001b[0m\u001b[0;34m\u001b[0m\u001b[0m\n\u001b[0;32m---> 22\u001b[0;31m     \u001b[0mhtml\u001b[0m \u001b[0;34m+=\u001b[0m \u001b[0;34mf\"<span style='background-color:rgba(0,{heatmap[0][j]*255},0,0.6)'>{i} </span>\"\u001b[0m\u001b[0;34m\u001b[0m\u001b[0;34m\u001b[0m\u001b[0m\n\u001b[0m\u001b[1;32m     23\u001b[0m \u001b[0;34m\u001b[0m\u001b[0m\n\u001b[1;32m     24\u001b[0m   \u001b[0;32mreturn\u001b[0m \u001b[0mheatmap\u001b[0m\u001b[0;34m,\u001b[0m\u001b[0mhtml\u001b[0m\u001b[0;34m\u001b[0m\u001b[0;34m\u001b[0m\u001b[0m\n",
            "\u001b[0;31mIndexError\u001b[0m: index 30 is out of bounds for axis 0 with size 30"
          ]
        }
      ]
    },
    {
      "cell_type": "code",
      "metadata": {
        "id": "VLuMYkUZFItL"
      },
      "source": [
        "sub_df.reset_index(inplace=True,drop=True)"
      ],
      "execution_count": 32,
      "outputs": []
    },
    {
      "cell_type": "code",
      "metadata": {
        "colab": {
          "base_uri": "https://localhost:8080/",
          "height": 1000
        },
        "id": "PIO7i49rEepe",
        "outputId": "f08d603c-2beb-4555-8390-08174e5dbe69"
      },
      "source": [
        "for i in range(100):\n",
        "  review = sub_df.loc[i,'html']\n",
        "  rate = sub_df.loc[i,'rate']\n",
        "  \n",
        "  review_embedded=pad_sequences([sub_df.loc[i,'embedding']], dtype='float32', padding='post', maxlen=30)\n",
        "  pred = model.predict(review_embedded)  \n",
        "\n",
        "  print(f'----- model predict : {pred[0]} ----- real rate : {rate}')\n",
        "  display(HTML(review))"
      ],
      "execution_count": 33,
      "outputs": [
        {
          "output_type": "stream",
          "name": "stdout",
          "text": [
            "----- model predict : [0.13183762] ----- real rate : 4.0\n"
          ]
        },
        {
          "output_type": "display_data",
          "data": {
            "text/html": [
              "<span style='background-color:rgba(0,0.0,0,0.6)'>our last night in france we wanted to eat some more escargot and foie gras and found pretty good reviews for this place </span><span style='background-color:rgba(0,0.0,0,0.6)'> we tried the onion soup, escargot, and the sampler foie gras </span><span style='background-color:rgba(0,0.0,0,0.6)'> everyone thought it was amazing but i personally thought it was good but not amazing </span><span style='background-color:rgba(0,0.0,0,0.6)'> i think i would have given it  </span><span style='background-color:rgba(0,255.0,0,0.6)'> stars but everyone else thought it was amazing so i bumped it to stars </span><span style='background-color:rgba(0,0.0,0,0.6)'> if you are in the area then i would suggest trying it but don't make it a mission to get here </span>"
            ],
            "text/plain": [
              "<IPython.core.display.HTML object>"
            ]
          },
          "metadata": {}
        },
        {
          "output_type": "stream",
          "name": "stdout",
          "text": [
            "----- model predict : [0.99415165] ----- real rate : 4.0\n"
          ]
        },
        {
          "output_type": "display_data",
          "data": {
            "text/html": [
              "<span style='background-color:rgba(0,86.4045287668705,0,0.6)'>my first trip to paris france and my little sister took me here </span><span style='background-color:rgba(0,222.65384048223495,0,0.6)'> it was wonderful </span><span style='background-color:rgba(0,255.0,0,0.6)'> the food was fantastic and the owners friendly - brothers i believe </span><span style='background-color:rgba(0,204.23662394285202,0,0.6)'> it was very relaxing to sit at the back under the atrium-like sky lights </span>"
            ],
            "text/plain": [
              "<IPython.core.display.HTML object>"
            ]
          },
          "metadata": {}
        },
        {
          "output_type": "stream",
          "name": "stdout",
          "text": [
            "----- model predict : [0.9934797] ----- real rate : 4.0\n"
          ]
        },
        {
          "output_type": "display_data",
          "data": {
            "text/html": [
              "<span style='background-color:rgba(0,108.40523421764374,0,0.6)'>this is one of many restaurants located on the rue guisarde which gets extremely busy during evenings when visitors as well as locals go in search of places to dine </span><span style='background-color:rgba(0,239.53665375709534,0,0.6)'> we don't make reservations and it isn't necessary yet it does get crowded </span><span style='background-color:rgba(0,183.1286957859993,0,0.6)'> as stated in other reviews everyone is sat next to the other at tables that are put together </span><span style='background-color:rgba(0,182.0305699110031,0,0.6)'> so, as is common, the person who sits against the wall needs to have the staff move their tables if they need to exit </span><span style='background-color:rgba(0,151.72143548727036,0,0.6)'>  the food is simple, classic fare like boeuf bourgignon, escargot, and steak frites </span><span style='background-color:rgba(0,187.33365654945374,0,0.6)'> and it's all cooked well </span><span style='background-color:rgba(0,255.0,0,0.6)'> staff are accommodating, bit at times are in a hurry to take orders due to the crowds </span><span style='background-color:rgba(0,153.65496933460236,0,0.6)'> so it may not be the place if one wants to have a quiet meal </span>"
            ],
            "text/plain": [
              "<IPython.core.display.HTML object>"
            ]
          },
          "metadata": {}
        },
        {
          "output_type": "stream",
          "name": "stdout",
          "text": [
            "----- model predict : [0.9914091] ----- real rate : 5.0\n"
          ]
        },
        {
          "output_type": "display_data",
          "data": {
            "text/html": [
              "<span style='background-color:rgba(0,112.3664228618145,0,0.6)'>we decided taking a tour on the seine via boat was a must when in paris and why not do it with a meal </span><span style='background-color:rgba(0,194.2905056476593,0,0.6)'> after reading many reviews, we decided to go with le calife </span><span style='background-color:rgba(0,237.7336809039116,0,0.6)'> it definitely lived up to the hype </span><span style='background-color:rgba(0,251.03658467531204,0,0.6)'> we were greeted and escorted to our table immediately upon arrival </span><span style='background-color:rgba(0,212.80473858118057,0,0.6)'> we decided to go with the more expensive menu </span><span style='background-color:rgba(0,177.83053368330002,0,0.6)'> i ordered the duck and it was cooked to perfection </span><span style='background-color:rgba(0,158.1947073340416,0,0.6)'> if you decide to go with the cheaper menu option though, you will not be disappointed </span><span style='background-color:rgba(0,167.93052971363068,0,0.6)'> the table next to us went with that option and all of their food looked fantastic </span><span style='background-color:rgba(0,174.59670960903168,0,0.6)'> our waitress took great care of us </span><span style='background-color:rgba(0,146.5027043223381,0,0.6)'> even offered to bring other drink for us when she realized we only took a sip of our champagne (i'm pregnant and my husband doesn't drink bubbly </span><span style='background-color:rgba(0,168.08320552110672,0,0.6)'>) </span><span style='background-color:rgba(0,141.02643817663193,0,0.6)'> as for the actual boat ride, it was a nice and relaxing smooth ride </span><span style='background-color:rgba(0,222.53258138895035,0,0.6)'> like other reviewers have mentioned, they time going in front of the eiffel tower when it sparkles perfectly and turn around to give ample opportunity for pictures </span><span style='background-color:rgba(0,187.8266116976738,0,0.6)'> this was definitely our favorite thing we did during our week stay in paris </span><span style='background-color:rgba(0,255.0,0,0.6)'> if you're looking to do a boat tour, look no further </span><span style='background-color:rgba(0,111.16558849811554,0,0.6)'> this was worth every penny </span>"
            ],
            "text/plain": [
              "<IPython.core.display.HTML object>"
            ]
          },
          "metadata": {}
        },
        {
          "output_type": "stream",
          "name": "stdout",
          "text": [
            "----- model predict : [0.00347103] ----- real rate : 3.0\n"
          ]
        },
        {
          "output_type": "display_data",
          "data": {
            "text/html": [
              "<span style='background-color:rgba(0,nan,0,0.6)'>i'll give the restaurant stars just because my daughter was entranced with the history and tradition of the restaurant </span><span style='background-color:rgba(0,nan,0,0.6)'> the euro soup was really just a blended medley of super bland vegetables but the oeuf (eggs) mayonnaise were nice enough </span><span style='background-color:rgba(0,nan,0,0.6)'> i had the chicken and fries which was (as others have mentioned) more warm than hot, but my daughter enjoyed the duck confit with potatoes </span><span style='background-color:rgba(0,nan,0,0.6)'> unfortunately, however, my sister in law ordered the sausage and took one bite and thought it was undercooked and asked me to taste </span><span style='background-color:rgba(0,nan,0,0.6)'> i did and said that well, maybe it was liver </span><span style='background-color:rgba(0,nan,0,0.6)'> so we asked the server who responded that it was made of tripe (as if we would have known </span><span style='background-color:rgba(0,nan,0,0.6)'> it didn't say on the menu) </span><span style='background-color:rgba(0,nan,0,0.6)'> lesson learned </span><span style='background-color:rgba(0,nan,0,0.6)'> don't order sausage unless it says what kind of meat is in it :) also as noted, the place is so old school they write your order on the paper tablecloth and add up the prices from there </span>"
            ],
            "text/plain": [
              "<IPython.core.display.HTML object>"
            ]
          },
          "metadata": {}
        },
        {
          "output_type": "stream",
          "name": "stdout",
          "text": [
            "----- model predict : [0.98770267] ----- real rate : 5.0\n"
          ]
        },
        {
          "output_type": "display_data",
          "data": {
            "text/html": [
              "<span style='background-color:rgba(0,48.7450497597456,0,0.6)'>stars, hands down </span><span style='background-color:rgba(0,235.8510947227478,0,0.6)'> cute spot very close to eiffel tower </span><span style='background-color:rgba(0,255.0,0,0.6)'> french onion soup was authentic and yummy </span><span style='background-color:rgba(0,210.3350231051445,0,0.6)'> great prices for the quality of meals </span>"
            ],
            "text/plain": [
              "<IPython.core.display.HTML object>"
            ]
          },
          "metadata": {}
        },
        {
          "output_type": "stream",
          "name": "stdout",
          "text": [
            "----- model predict : [0.0001466] ----- real rate : 2.0\n"
          ]
        },
        {
          "output_type": "display_data",
          "data": {
            "text/html": [
              "<span style='background-color:rgba(0,nan,0,0.6)'>very mediocre, especially for the prices they charge </span><span style='background-color:rgba(0,nan,0,0.6)'> they specialize in soufflés and while they do manage to execute their soufflés properly, the food just isn't particularly outstanding </span><span style='background-color:rgba(0,nan,0,0.6)'> i ordered the camembert and apple appetizer, the chicken, and a chocolate soufflé from le menu tradition </span><span style='background-color:rgba(0,nan,0,0.6)'> although the camembert appetizer was okay, but the julienned apples were a bit soggy and had far too much dressingsauce </span><span style='background-color:rgba(0,nan,0,0.6)'> the main course was quite disappointing; the chicken breast was overcooked, dry, and chewy, and the sauce for the henri iv soufflé was far too greasy </span><span style='background-color:rgba(0,nan,0,0.6)'> the chocolate soufflé for dessert was passable; not particularly good or bad </span><span style='background-color:rgba(0,nan,0,0.6)'> service was poor </span><span style='background-color:rgba(0,nan,0,0.6)'> while bringing out a sauce, one of the waiters spilled it all over my chair - i was fortunate to be able to shift quickly enough so that none landed on me, but a tiny bit splashed onto my jacket </span><span style='background-color:rgba(0,nan,0,0.6)'> although not a huge deal, very little was done to help rectify the situation; i had to specifically ask for a new chair and napkins to help wipe away the spill, and the offending waiter disappeared without an apology </span><span style='background-color:rgba(0,nan,0,0.6)'> overpriced for the quality </span><span style='background-color:rgba(0,nan,0,0.6)'> decor is a bit sparse, and the restaurant is very quiet; there's no background music or anything so there is a bit of an awkward silence </span>"
            ],
            "text/plain": [
              "<IPython.core.display.HTML object>"
            ]
          },
          "metadata": {}
        },
        {
          "output_type": "stream",
          "name": "stdout",
          "text": [
            "----- model predict : [0.9986105] ----- real rate : 5.0\n"
          ]
        },
        {
          "output_type": "display_data",
          "data": {
            "text/html": [
              "<span style='background-color:rgba(0,138.57654243707657,0,0.6)'>this is a must when visiting paris </span><span style='background-color:rgba(0,255.0,0,0.6)'> wonderful food, very simplistic, delicious, and fresh with a friendly staff to boot </span><span style='background-color:rgba(0,211.58428966999054,0,0.6)'> every meal is home cooked, and tastes it (the lamb stew is my personal favorite and is amazing </span><span style='background-color:rgba(0,190.49092233181,0,0.6)'>) the restaurant also has an english menu which is perfect if you haven't gotten around to mastering french </span><span style='background-color:rgba(0,195.48883974552155,0,0.6)'> a calm, clean atmosphere and daily specials that are sure to please await one at every visit, make sure to stop into this lovely establishment when your stomach is growling </span>"
            ],
            "text/plain": [
              "<IPython.core.display.HTML object>"
            ]
          },
          "metadata": {}
        },
        {
          "output_type": "stream",
          "name": "stdout",
          "text": [
            "----- model predict : [5.169203e-06] ----- real rate : 1.0\n"
          ]
        },
        {
          "output_type": "display_data",
          "data": {
            "text/html": [
              "<span style='background-color:rgba(0,0.0,0,0.6)'>i am confident this place has the worst steak in the world </span><span style='background-color:rgba(0,0.0,0,0.6)'> if i could travel back in time, i would trick hitler into eating this food just to make him suffer </span><span style='background-color:rgba(0,0.0,0,0.6)'> it is impossible to overstate how bad it was </span><span style='background-color:rgba(0,0.0,0,0.6)'> also, if you spill on yourself and wipe it off with one of their red napkins, the color will bleed onto your clothes </span><span style='background-color:rgba(0,0.0,0,0.6)'> there were no redeeming qualities here </span>"
            ],
            "text/plain": [
              "<IPython.core.display.HTML object>"
            ]
          },
          "metadata": {}
        },
        {
          "output_type": "stream",
          "name": "stdout",
          "text": [
            "----- model predict : [0.85749614] ----- real rate : 5.0\n"
          ]
        },
        {
          "output_type": "display_data",
          "data": {
            "text/html": [
              "<span style='background-color:rgba(0,131.60960108041763,0,0.6)'>these crepes were the perfect way to enter into the world of french crepes </span><span style='background-color:rgba(0,187.80109226703644,0,0.6)'> i had the ham, cheese and egg crepe, a fruit cider, and shared a chocolate banana crepe with my boyfriend </span><span style='background-color:rgba(0,242.3449158668518,0,0.6)'> they were crispy but smooth </span><span style='background-color:rgba(0,236.0897371172905,0,0.6)'> they were delicious as could be </span><span style='background-color:rgba(0,239.3621063232422,0,0.6)'> the waiter who was helping us spoke english fairly well and asked us over and over whether we liked our meal--something that i hadn't experienced yet it europe </span><span style='background-color:rgba(0,255.0,0,0.6)'> it was only euros for crepes and two ciders and was worth every cent </span><span style='background-color:rgba(0,237.5990617275238,0,0.6)'> they aren't open on sundays, so if you're only there for a weekend, make sure to go early </span>"
            ],
            "text/plain": [
              "<IPython.core.display.HTML object>"
            ]
          },
          "metadata": {}
        },
        {
          "output_type": "stream",
          "name": "stdout",
          "text": [
            "----- model predict : [0.9990257] ----- real rate : 5.0\n"
          ]
        },
        {
          "output_type": "display_data",
          "data": {
            "text/html": [
              "<span style='background-color:rgba(0,83.41738745570183,0,0.6)'>was looking for a small vegan vegetarian place and came across \"hank\" </span><span style='background-color:rgba(0,71.58039942383766,0,0.6)'> i had some delicious vegetarian burgers in my life but these were amazing </span><span style='background-color:rgba(0,234.09837037324905,0,0.6)'> loved every single bite </span><span style='background-color:rgba(0,255.0,0,0.6)'> they helped us out in english and had english menus </span><span style='background-color:rgba(0,173.1075695157051,0,0.6)'> the place is really small but worth getting just a to-go box and taking it to a bench or park to enjoy </span>"
            ],
            "text/plain": [
              "<IPython.core.display.HTML object>"
            ]
          },
          "metadata": {}
        },
        {
          "output_type": "stream",
          "name": "stdout",
          "text": [
            "----- model predict : [0.98408496] ----- real rate : 5.0\n"
          ]
        },
        {
          "output_type": "display_data",
          "data": {
            "text/html": [
              "<span style='background-color:rgba(0,99.08975288271904,0,0.6)'>we were wandering around montmartre and were able to get a table as soon as the doors opened at  </span><span style='background-color:rgba(0,176.44970297813416,0,0.6)'> any later and we would have been out of luck </span><span style='background-color:rgba(0,167.16680109500885,0,0.6)'> make a reservation </span><span style='background-color:rgba(0,95.66635698080063,0,0.6)'> the poached eggs with morels in morel cream sauce was so good i almost cried </span><span style='background-color:rgba(0,113.54196578264236,0,0.6)'> superb lamb with a garlic cream sauce that was out of this world </span><span style='background-color:rgba(0,85.82306876778603,0,0.6)'> herbed mashed potatoes and a whole young carrot that had been perfectly steamed with cumin infused water </span><span style='background-color:rgba(0,195.18914222717285,0,0.6)'> the vibe was casual, lively and local </span><span style='background-color:rgba(0,240.35224199295044,0,0.6)'> loved the staff </span><span style='background-color:rgba(0,255.0,0,0.6)'> would return in a heartbeat </span><span style='background-color:rgba(0,0.0,0,0.6)'> the poached eggs with morels </span><span style='background-color:rgba(0,40.61204217374325,0,0.6)'> superb </span>"
            ],
            "text/plain": [
              "<IPython.core.display.HTML object>"
            ]
          },
          "metadata": {}
        },
        {
          "output_type": "stream",
          "name": "stdout",
          "text": [
            "----- model predict : [0.1503336] ----- real rate : 2.0\n"
          ]
        },
        {
          "output_type": "display_data",
          "data": {
            "text/html": [
              "<span style='background-color:rgba(0,nan,0,0.6)'>i've been coming here for over years now </span><span style='background-color:rgba(0,nan,0,0.6)'> the quality of the food has gone down tremendously and it's now a tourist trap </span><span style='background-color:rgba(0,nan,0,0.6)'> le coupe chou was always a great neighborhood place that had the perfect bohemian bourgeois air of a classic paris romance without being stuffy (like baccart's restaurant) </span><span style='background-color:rgba(0,nan,0,0.6)'> i still adore the aesthetic of the restaurant as it has three rooms and each are from a different century </span><span style='background-color:rgba(0,nan,0,0.6)'> it 's a unique spot that i would always recommend for a drink (or maybe a dessert) for visitors, especially couples who are new to paris and intimated by anything too french </span><span style='background-color:rgba(0,nan,0,0.6)'> that being said, on my last visit we saw a rat </span><span style='background-color:rgba(0,nan,0,0.6)'> we had just sat down at the table and while pursing the menu my boyfriend found ratatouille scurrying about </span><span style='background-color:rgba(0,nan,0,0.6)'> when we informed the waiter, he didn't seemed shocked nor was he apologetic </span><span style='background-color:rgba(0,nan,0,0.6)'> it is a clean restaurant and i've never had food poisoning the + times i've been, but i don't think i can go back again </span>"
            ],
            "text/plain": [
              "<IPython.core.display.HTML object>"
            ]
          },
          "metadata": {}
        },
        {
          "output_type": "stream",
          "name": "stdout",
          "text": [
            "----- model predict : [0.0007045] ----- real rate : 2.0\n"
          ]
        },
        {
          "output_type": "display_data",
          "data": {
            "text/html": [
              "<span style='background-color:rgba(0,nan,0,0.6)'>this place is probably really nice when the weather is good but on a cold night in november you don't get to enjoy the scenery of la villette </span><span style='background-color:rgba(0,nan,0,0.6)'> food is basic </span><span style='background-color:rgba(0,nan,0,0.6)'> mostly pizza and lasagna </span><span style='background-color:rgba(0,nan,0,0.6)'> interesting building though </span><span style='background-color:rgba(0,nan,0,0.6)'> certainly not what one would expect for an italian restaurant </span>"
            ],
            "text/plain": [
              "<IPython.core.display.HTML object>"
            ]
          },
          "metadata": {}
        },
        {
          "output_type": "stream",
          "name": "stdout",
          "text": [
            "----- model predict : [0.8798736] ----- real rate : 4.0\n"
          ]
        },
        {
          "output_type": "display_data",
          "data": {
            "text/html": [
              "<span style='background-color:rgba(0,81.81176081299782,0,0.6)'>if you find yourself in the montmartre area and enjoy all things poultry then i would suggest veering off the crowded streets and enjoy a nice upscale-ish meal and this quaint little spot </span><span style='background-color:rgba(0,211.14784508943558,0,0.6)'> you can be conservative or as experimental as you feel here </span><span style='background-color:rgba(0,179.6523231267929,0,0.6)'> lot's of choices for lovers of coqs, poulets or pigeons </span><span style='background-color:rgba(0,255.0,0,0.6)'> oh, and ask for the english menu if you're not fluent in french </span><span style='background-color:rgba(0,191.4058220386505,0,0.6)'> otherwise you might be unknowingly adventerous </span>"
            ],
            "text/plain": [
              "<IPython.core.display.HTML object>"
            ]
          },
          "metadata": {}
        },
        {
          "output_type": "stream",
          "name": "stdout",
          "text": [
            "----- model predict : [3.9731088e-07] ----- real rate : 1.0\n"
          ]
        },
        {
          "output_type": "display_data",
          "data": {
            "text/html": [
              "<span style='background-color:rgba(0,nan,0,0.6)'>this place is overpriced and the food sub-par </span><span style='background-color:rgba(0,nan,0,0.6)'> it's a tourist trap </span><span style='background-color:rgba(0,nan,0,0.6)'> the staff is rude, even more than the usual paris waiters </span><span style='background-color:rgba(0,nan,0,0.6)'> i suggest another place that actually wants your business </span><span style='background-color:rgba(0,nan,0,0.6)'> there are lots of great places in this area and this is not one of them </span>"
            ],
            "text/plain": [
              "<IPython.core.display.HTML object>"
            ]
          },
          "metadata": {}
        },
        {
          "output_type": "stream",
          "name": "stdout",
          "text": [
            "----- model predict : [0.28663182] ----- real rate : 3.0\n"
          ]
        },
        {
          "output_type": "display_data",
          "data": {
            "text/html": [
              "<span style='background-color:rgba(0,106.20113208889961,0,0.6)'>great pho for paris, but it was nowhere near the best i've ever had </span>"
            ],
            "text/plain": [
              "<IPython.core.display.HTML object>"
            ]
          },
          "metadata": {}
        },
        {
          "output_type": "stream",
          "name": "stdout",
          "text": [
            "----- model predict : [0.99869424] ----- real rate : 4.0\n"
          ]
        },
        {
          "output_type": "display_data",
          "data": {
            "text/html": [
              "<span style='background-color:rgba(0,141.60982847213745,0,0.6)'>walked in for lunch and had a wonderful time </span><span style='background-color:rgba(0,255.0,0,0.6)'> food was delicious, service was very good, and the price was reasonable </span><span style='background-color:rgba(0,189.36489075422287,0,0.6)'> the restaurant was quaint and casual </span><span style='background-color:rgba(0,169.96013760566711,0,0.6)'> highly recommended </span>"
            ],
            "text/plain": [
              "<IPython.core.display.HTML object>"
            ]
          },
          "metadata": {}
        },
        {
          "output_type": "stream",
          "name": "stdout",
          "text": [
            "----- model predict : [0.03707924] ----- real rate : 1.0\n"
          ]
        },
        {
          "output_type": "display_data",
          "data": {
            "text/html": [
              "<span style='background-color:rgba(0,nan,0,0.6)'>horrible experience - when the rest of paris (museumsrestaurantsshops) had no problem letting me in with my vaccination papers , this tiny restaurant alone refused to sit me because i did not have the local qr code (health pass) on my phone </span><span style='background-color:rgba(0,nan,0,0.6)'> owner was adamant that such was the rule, and told me to go and get a test done to eat there </span><span style='background-color:rgba(0,nan,0,0.6)'> suffice to say we all left (and i was with locals that were regular patrons) and went instead to kb, a lovely korean restaurant nearby (this is how you stop going to a restaurant) </span><span style='background-color:rgba(0,nan,0,0.6)'> we later surmised that songsan recently got into trouble with this health pass checking, and now categorically refuses to accept any non-local customer </span><span style='background-color:rgba(0,nan,0,0.6)'> dont take the chance if you are a tourist like me, they are not worth the trouble to go all the way out there </span>"
            ],
            "text/plain": [
              "<IPython.core.display.HTML object>"
            ]
          },
          "metadata": {}
        },
        {
          "output_type": "stream",
          "name": "stdout",
          "text": [
            "----- model predict : [0.18761566] ----- real rate : 3.0\n"
          ]
        },
        {
          "output_type": "display_data",
          "data": {
            "text/html": [
              "<span style='background-color:rgba(0,142.13739216327667,0,0.6)'>this was our nd visit here </span><span style='background-color:rgba(0,163.28567415475845,0,0.6)'> the stunning backdrop of the eiffel tower makes for a romantic dinner date in paris </span><span style='background-color:rgba(0,255.0,0,0.6)'> service is spot on </span><span style='background-color:rgba(0,174.13567274808884,0,0.6)'> the staff is friendly and our course meal flowed smoothly </span><span style='background-color:rgba(0,125.8990091085434,0,0.6)'> i ordered the prawns which was disappointing in portion </span><span style='background-color:rgba(0,101.85561686754227,0,0.6)'> i only received  </span><span style='background-color:rgba(0,102.54537105560303,0,0.6)'> my husband ordered the filet which was a generous portion </span><span style='background-color:rgba(0,140.85877597332,0,0.6)'> my strawberry dessert was more aesthetically appealing than appetizing </span><span style='background-color:rgba(0,44.165064319968224,0,0.6)'> the bread pudding was a fab favorite among our dinner companions </span><span style='background-color:rgba(0,216.27921134233475,0,0.6)'> see all photos from cat t </span><span style='background-color:rgba(0,94.50922787189484,0,0.6)'> for chez francis </span>"
            ],
            "text/plain": [
              "<IPython.core.display.HTML object>"
            ]
          },
          "metadata": {}
        },
        {
          "output_type": "stream",
          "name": "stdout",
          "text": [
            "----- model predict : [0.5544613] ----- real rate : 5.0\n"
          ]
        },
        {
          "output_type": "display_data",
          "data": {
            "text/html": [
              "<span style='background-color:rgba(0,157.34221547842026,0,0.6)'>we stopped here to have a drink and enjoy the view </span><span style='background-color:rgba(0,255.0,0,0.6)'> it's a great location and close to the eiffel tower </span><span style='background-color:rgba(0,178.6097502708435,0,0.6)'> service was good too </span>"
            ],
            "text/plain": [
              "<IPython.core.display.HTML object>"
            ]
          },
          "metadata": {}
        },
        {
          "output_type": "stream",
          "name": "stdout",
          "text": [
            "----- model predict : [0.99984825] ----- real rate : 5.0\n"
          ]
        },
        {
          "output_type": "display_data",
          "data": {
            "text/html": [
              "<span style='background-color:rgba(0,61.83165393769741,0,0.6)'>french toast and avocado toast with everything </span><span style='background-color:rgba(0,202.4220085144043,0,0.6)'> i can see why this place received a star </span><span style='background-color:rgba(0,190.1047718524933,0,0.6)'> it was absolutely perfect </span><span style='background-color:rgba(0,134.94632363319397,0,0.6)'> excellent service, comfortable environment and delicious food </span><span style='background-color:rgba(0,205.26132255792618,0,0.6)'> my sisters had the best experience and wished we would have been able to come back the following day </span><span style='background-color:rgba(0,255.0,0,0.6)'> note: closed on sundays </span><span style='background-color:rgba(0,139.58326041698456,0,0.6)'> french toast and avocado toast with everything </span>"
            ],
            "text/plain": [
              "<IPython.core.display.HTML object>"
            ]
          },
          "metadata": {}
        },
        {
          "output_type": "stream",
          "name": "stdout",
          "text": [
            "----- model predict : [0.9999728] ----- real rate : 5.0\n"
          ]
        },
        {
          "output_type": "display_data",
          "data": {
            "text/html": [
              "<span style='background-color:rgba(0,9.63011110201478,0,0.6)'>best fish we've ever had </span><span style='background-color:rgba(0,113.12480136752129,0,0.6)'> (and, as fish-lovers, that's saying a lot </span><span style='background-color:rgba(0,125.28724953532219,0,0.6)'>) veggies were perfect </span><span style='background-color:rgba(0,209.76069152355194,0,0.6)'> amazing desserts </span><span style='background-color:rgba(0,216.34370148181915,0,0.6)'> great wine selection </span><span style='background-color:rgba(0,255.0,0,0.6)'> ben the managerbarkeep, is a charming mensch </span><span style='background-color:rgba(0,94.20519098639488,0,0.6)'> this was the culinary highlight of our paris trip </span><span style='background-color:rgba(0,209.53930020332336,0,0.6)'> don't miss it </span>"
            ],
            "text/plain": [
              "<IPython.core.display.HTML object>"
            ]
          },
          "metadata": {}
        },
        {
          "output_type": "stream",
          "name": "stdout",
          "text": [
            "----- model predict : [0.9889965] ----- real rate : 4.0\n"
          ]
        },
        {
          "output_type": "display_data",
          "data": {
            "text/html": [
              "<span style='background-color:rgba(0,128.66038173437119,0,0.6)'>love the blues & soul soundtrack </span><span style='background-color:rgba(0,155.22227883338928,0,0.6)'> motown-style american euro-produced music sets the perfect mood for this lively yet laid-back local hang </span><span style='background-color:rgba(0,255.0,0,0.6)'> eaten here a few times and never disapointed </span><span style='background-color:rgba(0,90.37099912762642,0,0.6)'> the duck is simple rustic perfection </span>"
            ],
            "text/plain": [
              "<IPython.core.display.HTML object>"
            ]
          },
          "metadata": {}
        },
        {
          "output_type": "stream",
          "name": "stdout",
          "text": [
            "----- model predict : [0.9999244] ----- real rate : 5.0\n"
          ]
        },
        {
          "output_type": "display_data",
          "data": {
            "text/html": [
              "<span style='background-color:rgba(0,106.03813603520393,0,0.6)'>we had this on our list of places to eat in paris, mainly because of the setting and decor </span><span style='background-color:rgba(0,191.0643419623375,0,0.6)'> le train bleu was a lovely experience </span><span style='background-color:rgba(0,203.77674221992493,0,0.6)'> the table was beautiful, the building itself is amazing </span><span style='background-color:rgba(0,219.08558875322342,0,0.6)'> the paintings all over the ceilings depict places one might have gone and things one might have done taking the train back in the day - such fun to look at </span><span style='background-color:rgba(0,250.30168890953064,0,0.6)'> the food was really good, as well </span><span style='background-color:rgba(0,255.0,0,0.6)'> the service is in keeping with the beautiful decor, formal but friendly </span><span style='background-color:rgba(0,201.08837127685547,0,0.6)'> we ate very well all over paris and this meal was right up there </span><span style='background-color:rgba(0,234.070206284523,0,0.6)'> we paid what we thought we would, which was about $ per person - we had only a glass of wine each otherwise it would have been more </span><span style='background-color:rgba(0,124.60778519511223,0,0.6)'> it's helpful to look at the menu in advance, but when we arrived, the menu was nothing like what we had seen online (not sure where we found it, but it must have been old) so we were a little lost at the french, but what we ordered was very good </span><span style='background-color:rgba(0,132.00681656599045,0,0.6)'> i definitely recommend this restaurant if you want a fancy dining experience in a historic location </span><span style='background-color:rgba(0,197.4923050403595,0,0.6)'> and </span><span style='background-color:rgba(0,126.91072762012482,0,0.6)'> if you love the color blue </span>"
            ],
            "text/plain": [
              "<IPython.core.display.HTML object>"
            ]
          },
          "metadata": {}
        },
        {
          "output_type": "stream",
          "name": "stdout",
          "text": [
            "----- model predict : [3.1704587e-07] ----- real rate : 1.0\n"
          ]
        },
        {
          "output_type": "display_data",
          "data": {
            "text/html": [
              "<span style='background-color:rgba(0,nan,0,0.6)'>awful place </span><span style='background-color:rgba(0,nan,0,0.6)'> will never visit again, and am telling everyone i know to stay as far away as possible </span><span style='background-color:rgba(0,nan,0,0.6)'> our waiter was rude, racist, and a loud aggressive boor </span><span style='background-color:rgba(0,nan,0,0.6)'> he demanded i give up my table when my wife went to the restroom in between her meal and coffee </span><span style='background-color:rgba(0,nan,0,0.6)'> then he actually asked me to find another restaurant </span><span style='background-color:rgba(0,nan,0,0.6)'> terrible ghastly experience </span><span style='background-color:rgba(0,nan,0,0.6)'> a disgrace to this beautiful city </span>"
            ],
            "text/plain": [
              "<IPython.core.display.HTML object>"
            ]
          },
          "metadata": {}
        },
        {
          "output_type": "stream",
          "name": "stdout",
          "text": [
            "----- model predict : [0.99724716] ----- real rate : 5.0\n"
          ]
        },
        {
          "output_type": "display_data",
          "data": {
            "text/html": [
              "<span style='background-color:rgba(0,69.0216775238514,0,0.6)'>i recently celebrated my one year anniversary of moving to paris and wanted something unique to commemorate that </span><span style='background-color:rgba(0,244.68888849020004,0,0.6)'> making an online reservation was simple and you receive an sms the day before to confirm the reservation </span><span style='background-color:rgba(0,75.78575536608696,0,0.6)'> we ordered champagne and were brought little cheese stuffed entrees (appetizers in english) which were just perfect and set the tone for the evening </span><span style='background-color:rgba(0,141.21408730745316,0,0.6)'> the lobster ravioli melted in my mouth and i could easily have made a meal of those </span><span style='background-color:rgba(0,106.9134646654129,0,0.6)'> i ordered the steak and requested it be done medium rare as steaks here usually are too rare for me </span><span style='background-color:rgba(0,126.68756559491158,0,0.6)'> some places will not accommodate that, however, it was no problem and it was done to perfection </span><span style='background-color:rgba(0,140.33639520406723,0,0.6)'> the sommelier suggested an appropriate red wine which was perfect </span><span style='background-color:rgba(0,178.3390375971794,0,0.6)'> choices by the glass are limited and i cannot drink a bottle by myself </span><span style='background-color:rgba(0,103.90409454703331,0,0.6)'> the bread basket was never empty and it was i who consumed it continuously along with the fabulously salted normandy butter on the table </span><span style='background-color:rgba(0,157.92832642793655,0,0.6)'> a nice melange of vegetables accompanied my steak </span><span style='background-color:rgba(0,163.54003250598907,0,0.6)'> finally, the piece de resistance was the millefeuille, which was huge as well as delicious </span><span style='background-color:rgba(0,255.0,0,0.6)'> also interestingly one can order decaf coffee </span><span style='background-color:rgba(0,195.5502900481224,0,0.6)'> you also get an additional dessert, more like petit fours, but not exactly </span><span style='background-color:rgba(0,177.33560264110565,0,0.6)'> all in all a wonderful meal, and considering the quality of the food one would expect to pay more as this is a michelin star restaurant </span><span style='background-color:rgba(0,96.0088250041008,0,0.6)'> both food and service worth every penny </span>"
            ],
            "text/plain": [
              "<IPython.core.display.HTML object>"
            ]
          },
          "metadata": {}
        },
        {
          "output_type": "stream",
          "name": "stdout",
          "text": [
            "----- model predict : [0.99368274] ----- real rate : 5.0\n"
          ]
        },
        {
          "output_type": "display_data",
          "data": {
            "text/html": [
              "<span style='background-color:rgba(0,151.40362054109573,0,0.6)'>this place was recommended to my husband and i by our friend, who is a local </span><span style='background-color:rgba(0,204.47777420282364,0,0.6)'> delicious crepes and sandwiches to go </span><span style='background-color:rgba(0,219.3613475561142,0,0.6)'> sandwiches look fresh, and some are toasted to perfection </span><span style='background-color:rgba(0,255.0,0,0.6)'> the stand front looks clean and very approachable </span><span style='background-color:rgba(0,182.01704263687134,0,0.6)'> highly recommended, must have when you're in the area </span>"
            ],
            "text/plain": [
              "<IPython.core.display.HTML object>"
            ]
          },
          "metadata": {}
        },
        {
          "output_type": "stream",
          "name": "stdout",
          "text": [
            "----- model predict : [0.811572] ----- real rate : 5.0\n"
          ]
        },
        {
          "output_type": "display_data",
          "data": {
            "text/html": [
              "<span style='background-color:rgba(0,89.98576059937477,0,0.6)'>the best falafel in the world </span><span style='background-color:rgba(0,255.0,0,0.6)'> worth the flight from the us </span><span style='background-color:rgba(0,235.281702876091,0,0.6)'> don't fall for the more glitzy version across the street </span><span style='background-color:rgba(0,192.40529000759125,0,0.6)'> (at least that's what i'm told </span><span style='background-color:rgba(0,180.5548658967018,0,0.6)'>) </span>"
            ],
            "text/plain": [
              "<IPython.core.display.HTML object>"
            ]
          },
          "metadata": {}
        },
        {
          "output_type": "stream",
          "name": "stdout",
          "text": [
            "----- model predict : [0.2179159] ----- real rate : 5.0\n"
          ]
        },
        {
          "output_type": "display_data",
          "data": {
            "text/html": [
              "<span style='background-color:rgba(0,160.1305514574051,0,0.6)'>this is probably as close as it gets to the german concept of \"biergarten\" this side of the rhine </span><span style='background-color:rgba(0,231.1710074543953,0,0.6)'> sit back and enjoy the shade of the tall chestnut trees as you sip on your beer, or more like, french wine (they have their own label here) </span><span style='background-color:rgba(0,211.03257447481155,0,0.6)'> there's a bistro like part where you can get tapas-like food and beverages and where you can run for cover if the typical paris drizzle suddenly sets in </span><span style='background-color:rgba(0,255.0,0,0.6)'> le rosa bonheur is tucked in a corner of the parc des buttes chaumont, far far away from the tourist trails </span><span style='background-color:rgba(0,99.881721585989,0,0.6)'> here it's where the parisians come to relax on a sunny day </span><span style='background-color:rgba(0,207.37128853797913,0,0.6)'> i would have never found this place if my local friends hadn't taken me there on a sunday afternoon </span><span style='background-color:rgba(0,195.2276113629341,0,0.6)'> ps don't miss the lgbt resident choir on sunday evenings: hilarious </span><span style='background-color:rgba(0,113.786391466856,0,0.6)'> the choir own house wine label </span>"
            ],
            "text/plain": [
              "<IPython.core.display.HTML object>"
            ]
          },
          "metadata": {}
        },
        {
          "output_type": "stream",
          "name": "stdout",
          "text": [
            "----- model predict : [0.84481674] ----- real rate : 5.0\n"
          ]
        },
        {
          "output_type": "display_data",
          "data": {
            "text/html": [
              "<span style='background-color:rgba(0,251.14566922187805,0,0.6)'>i religiously come here each time i'm in paris </span><span style='background-color:rgba(0,255.0,0,0.6)'> a good falafel is hard to come by so deal with the queue and enjoy a falafel without disappointment </span>"
            ],
            "text/plain": [
              "<IPython.core.display.HTML object>"
            ]
          },
          "metadata": {}
        },
        {
          "output_type": "stream",
          "name": "stdout",
          "text": [
            "----- model predict : [0.15609495] ----- real rate : 5.0\n"
          ]
        },
        {
          "output_type": "display_data",
          "data": {
            "text/html": [
              "<span style='background-color:rgba(0,134.13310647010803,0,0.6)'>age old story: we came for the hardware société a few doors down </span><span style='background-color:rgba(0,186.1849781870842,0,0.6)'> the line to get in was down the block </span><span style='background-color:rgba(0,97.13655889034271,0,0.6)'> it didn't seem worth it to wait </span><span style='background-color:rgba(0,105.5229064822197,0,0.6)'> then it started to rain </span><span style='background-color:rgba(0,147.48606115579605,0,0.6)'> we slipped into this tiny crepe place called sur la route de plouescat where they serve unusual crepes, and service that makes you feel at home </span><span style='background-color:rgba(0,255.0,0,0.6)'> it is cozy and comfortable </span><span style='background-color:rgba(0,209.0149587392807,0,0.6)'> if you want a cozy old paris atmosphere, come here </span><span style='background-color:rgba(0,169.21843260526657,0,0.6)'> if you want a hip, brooklyn-esque type place and you don't mind waiting an hour and a half for a table, go to that other place </span>"
            ],
            "text/plain": [
              "<IPython.core.display.HTML object>"
            ]
          },
          "metadata": {}
        },
        {
          "output_type": "stream",
          "name": "stdout",
          "text": [
            "----- model predict : [0.9993315] ----- real rate : 5.0\n"
          ]
        },
        {
          "output_type": "display_data",
          "data": {
            "text/html": [
              "<span style='background-color:rgba(0,253.11128854751587,0,0.6)'>great french food, attractive and friendly wait staff </span><span style='background-color:rgba(0,255.0,0,0.6)'> my fiance and i ordered the escargot as an appetizer, and duck confit and cassoulet as the main meal </span><span style='background-color:rgba(0,122.15318530797958,0,0.6)'> everything was perfect and exceeded our previous non existent expectations </span><span style='background-color:rgba(0,55.53298272192478,0,0.6)'> would highly recommend </span>"
            ],
            "text/plain": [
              "<IPython.core.display.HTML object>"
            ]
          },
          "metadata": {}
        },
        {
          "output_type": "stream",
          "name": "stdout",
          "text": [
            "----- model predict : [0.99997187] ----- real rate : 5.0\n"
          ]
        },
        {
          "output_type": "display_data",
          "data": {
            "text/html": [
              "<span style='background-color:rgba(0,102.99759238958359,0,0.6)'>came here on our last night in paris </span><span style='background-color:rgba(0,161.79215669631958,0,0.6)'> was highly recommended by someone we ran into after a football match </span><span style='background-color:rgba(0,198.7363886833191,0,0.6)'> thank you for the recommendation </span><span style='background-color:rgba(0,120.73710769414902,0,0.6)'> the meal was amazing </span><span style='background-color:rgba(0,255.0,0,0.6)'> wonderful, friendly service </span><span style='background-color:rgba(0,154.610116481781,0,0.6)'> i had the frois gras, beef bourguignon and cheese for my meal </span><span style='background-color:rgba(0,201.41684085130692,0,0.6)'> it was all wonderful </span><span style='background-color:rgba(0,118.3522416651249,0,0.6)'> my only regret was not getting the french toast dessert my friend got </span><span style='background-color:rgba(0,194.43927526474,0,0.6)'> that was delicious </span><span style='background-color:rgba(0,123.05481612682343,0,0.6)'> i hope to come back to paris and return to this wonderful restaurant </span><span style='background-color:rgba(0,118.10122713446617,0,0.6)'> beef bourguignon </span>"
            ],
            "text/plain": [
              "<IPython.core.display.HTML object>"
            ]
          },
          "metadata": {}
        },
        {
          "output_type": "stream",
          "name": "stdout",
          "text": [
            "----- model predict : [0.94903195] ----- real rate : 4.0\n"
          ]
        },
        {
          "output_type": "display_data",
          "data": {
            "text/html": [
              "<span style='background-color:rgba(0,112.49829858541489,0,0.6)'>i think the rule (law) is that the menu must state if the cuisine is prepared on location - meaning \"home cooking\" more or less or, if it doesn't say this, then it means the food was possibly \"factory\" prepared </span><span style='background-color:rgba(0,134.3691498041153,0,0.6)'> in this way, the traditional and classic bistros can proudly tout their dedication to the craft of cuisine </span><span style='background-color:rgba(0,255.0,0,0.6)'> it's an interesting not so small battle going on in france currently </span><span style='background-color:rgba(0,156.2519931793213,0,0.6)'> in any event, the sign at bistro des dames proudly states that everything is prepared on location and with the ingredients of the season </span><span style='background-color:rgba(0,140.0000524520874,0,0.6)'> my meal was very good and the service was too </span><span style='background-color:rgba(0,226.97069764137268,0,0.6)'> bistro des dames has a fantastic terrace for summer dining </span><span style='background-color:rgba(0,244.8809453845024,0,0.6)'> this is worth noting because it can be difficult to find a good terrace for dinner in paris </span><span style='background-color:rgba(0,213.44968557357788,0,0.6)'> anyplace that has a chair on the sidewalk will claim \"terrace\", but it may not be the best for a meal for a group of as ours was </span><span style='background-color:rgba(0,123.63921716809273,0,0.6)'> anyway, there are no reservations for the terrace so if you want to eat there you either get there very early for the first seating - say by pm or, go later for the second seating - say or : </span><span style='background-color:rgba(0,54.05624136328697,0,0.6)'> anything in between, forget it </span><span style='background-color:rgba(0,97.44231328368187,0,0.6)'> this is in the th (clichy area) </span><span style='background-color:rgba(0,175.62741190195084,0,0.6)'> the neighborhood around bistro des dames is a little more local and feels like it deserves some further exploration </span><span style='background-color:rgba(0,138.7442046403885,0,0.6)'> home made </span>"
            ],
            "text/plain": [
              "<IPython.core.display.HTML object>"
            ]
          },
          "metadata": {}
        },
        {
          "output_type": "stream",
          "name": "stdout",
          "text": [
            "----- model predict : [0.99986994] ----- real rate : 5.0\n"
          ]
        },
        {
          "output_type": "display_data",
          "data": {
            "text/html": [
              "<span style='background-color:rgba(0,99.88924518227577,0,0.6)'>wonderful </span><span style='background-color:rgba(0,109.65067818760872,0,0.6)'> my sister has recommended this restaurant as soon as she came back from a visit to paris </span><span style='background-color:rgba(0,200.93238204717636,0,0.6)'> my husband and i went and it lived up to all the hype </span><span style='background-color:rgba(0,107.25584149360657,0,0.6)'> i had the chicken with macaroni, mozzarella appetizer (ball of mozzarella over tomatoes and salad) and my husband had the plate of cheesemeats </span><span style='background-color:rgba(0,198.49516242742538,0,0.6)'> all were very, very good </span><span style='background-color:rgba(0,103.75840276479721,0,0.6)'> for dessert we got the creme brûlée and it was fantastic </span><span style='background-color:rgba(0,255.0,0,0.6)'> the vibe inside is very nice </span><span style='background-color:rgba(0,250.66064804792404,0,0.6)'> good ambiance </span><span style='background-color:rgba(0,198.16217869520187,0,0.6)'> low music, low lighting </span><span style='background-color:rgba(0,124.87862706184387,0,0.6)'>totally recommended </span><span style='background-color:rgba(0,157.19523936510086,0,0.6)'> we had allister as our server and he was great </span><span style='background-color:rgba(0,74.98215168714523,0,0.6)'> he translated the entire menu for us with no problems and was happy to help throughout the entire meal </span>"
            ],
            "text/plain": [
              "<IPython.core.display.HTML object>"
            ]
          },
          "metadata": {}
        },
        {
          "output_type": "stream",
          "name": "stdout",
          "text": [
            "----- model predict : [0.9956262] ----- real rate : 5.0\n"
          ]
        },
        {
          "output_type": "display_data",
          "data": {
            "text/html": [
              "<span style='background-color:rgba(0,130.274079144001,0,0.6)'>we stopped in to the saint régis after visiting notre dame </span><span style='background-color:rgba(0,246.56249195337296,0,0.6)'> highly recommend eating here </span><span style='background-color:rgba(0,209.0984782576561,0,0.6)'> the food and service were exceptional </span><span style='background-color:rgba(0,187.2413519024849,0,0.6)'> we ordered the burger with bacon and croque monsieur, both of which were cooked perfectly </span><span style='background-color:rgba(0,145.71114599704742,0,0.6)'> i ordered the burger medium and it came out right on temp </span><span style='background-color:rgba(0,111.08731269836426,0,0.6)'> coffee american and hot chocolate were piping hot and tasted great </span><span style='background-color:rgba(0,255.0,0,0.6)'> the cafe is surrounded by at least similar cafes but we picked this one because we saw lots of locals inside </span><span style='background-color:rgba(0,219.59530860185623,0,0.6)'> the waitress spoke english well and was welcoming, efficient, but kind </span><span style='background-color:rgba(0,213.67508947849274,0,0.6)'> it didn't disappoint </span><span style='background-color:rgba(0,111.81688115000725,0,0.6)'> the burger with bacon and croque monsieur </span><span style='background-color:rgba(0,172.8868317604065,0,0.6)'> all very tasty </span>"
            ],
            "text/plain": [
              "<IPython.core.display.HTML object>"
            ]
          },
          "metadata": {}
        },
        {
          "output_type": "stream",
          "name": "stdout",
          "text": [
            "----- model predict : [0.99043477] ----- real rate : 5.0\n"
          ]
        },
        {
          "output_type": "display_data",
          "data": {
            "text/html": [
              "<span style='background-color:rgba(0,169.9411842226982,0,0.6)'>this place is a gem </span><span style='background-color:rgba(0,210.98440825939178,0,0.6)'> our food was beautiful almost did not want to eat it  </span><span style='background-color:rgba(0,149.4864258170128,0,0.6)'> we closed down the place it was so comfortable </span><span style='background-color:rgba(0,255.0,0,0.6)'> i had escargot and my boyfriend the crawfish bisque as starters just amazing </span><span style='background-color:rgba(0,238.78511488437653,0,0.6)'> this restaurant has been around for years it is pricey but then again you are in paris  </span><span style='background-color:rgba(0,219.21820163726807,0,0.6)'>we will be back see all photos from rebeca r </span><span style='background-color:rgba(0,143.09238731861115,0,0.6)'> for benoit </span>"
            ],
            "text/plain": [
              "<IPython.core.display.HTML object>"
            ]
          },
          "metadata": {}
        },
        {
          "output_type": "stream",
          "name": "stdout",
          "text": [
            "----- model predict : [0.02507083] ----- real rate : 1.0\n"
          ]
        },
        {
          "output_type": "display_data",
          "data": {
            "text/html": [
              "<span style='background-color:rgba(0,nan,0,0.6)'>worst resteraunt threw up times after eating and i'm never coming back </span><span style='background-color:rgba(0,nan,0,0.6)'> ruined my entire vacation </span>"
            ],
            "text/plain": [
              "<IPython.core.display.HTML object>"
            ]
          },
          "metadata": {}
        },
        {
          "output_type": "stream",
          "name": "stdout",
          "text": [
            "----- model predict : [0.9501967] ----- real rate : 5.0\n"
          ]
        },
        {
          "output_type": "display_data",
          "data": {
            "text/html": [
              "<span style='background-color:rgba(0,171.44444435834885,0,0.6)'>wonderful service and friendly english speaking staff </span><span style='background-color:rgba(0,255.0,0,0.6)'> really good food at really good prices paris wise </span><span style='background-color:rgba(0,146.95389211177826,0,0.6)'> special brunch on sundays or bank holidays </span>"
            ],
            "text/plain": [
              "<IPython.core.display.HTML object>"
            ]
          },
          "metadata": {}
        },
        {
          "output_type": "stream",
          "name": "stdout",
          "text": [
            "----- model predict : [0.87692726] ----- real rate : 4.0\n"
          ]
        },
        {
          "output_type": "display_data",
          "data": {
            "text/html": [
              "<span style='background-color:rgba(0,94.16980728507042,0,0.6)'>enjoyed a wonderful bowl of french onion soup and glass of bordeaux this afternoon </span><span style='background-color:rgba(0,249.31649297475815,0,0.6)'> the soup was extremely tasty and certainly filling </span><span style='background-color:rgba(0,255.0,0,0.6)'> i would enjoy returning </span><span style='background-color:rgba(0,65.42151510715485,0,0.6)'> f </span>"
            ],
            "text/plain": [
              "<IPython.core.display.HTML object>"
            ]
          },
          "metadata": {}
        },
        {
          "output_type": "stream",
          "name": "stdout",
          "text": [
            "----- model predict : [0.05264979] ----- real rate : 4.0\n"
          ]
        },
        {
          "output_type": "display_data",
          "data": {
            "text/html": [
              "<span style='background-color:rgba(0,nan,0,0.6)'>i think if you are an american, you will like this place a lot </span><span style='background-color:rgba(0,nan,0,0.6)'> when i arrived, i noticed that almost % of the customers were american </span><span style='background-color:rgba(0,nan,0,0.6)'> i would hear multiple groups sharing which part of the us they were from </span><span style='background-color:rgba(0,nan,0,0.6)'> my assumption is that many of us looked at the high yelp reviews before coming to this place </span><span style='background-color:rgba(0,nan,0,0.6)'> chicken wok: this dish was pretty good </span><span style='background-color:rgba(0,nan,0,0.6)'> the chicken was not too soft or too hard </span><span style='background-color:rgba(0,nan,0,0.6)'> i was able to easily bite into each piece </span><span style='background-color:rgba(0,nan,0,0.6)'> in fact, all the chicken pieces were bite size </span><span style='background-color:rgba(0,nan,0,0.6)'> the vegetables that came with it were cooked well </span><span style='background-color:rgba(0,nan,0,0.6)'> i could definitely taste the sauce, but it wasn't too overpowering </span><span style='background-color:rgba(0,nan,0,0.6)'> home-made foie gras: the foie gras was a bit salty, but there was a lot of bread that came with it to reduce the saltiness as well as some strawberry jam </span><span style='background-color:rgba(0,nan,0,0.6)'> the duck had a chewier texture that i am familiar with, but the skin was crispy which was something i had never had when eating duck </span><span style='background-color:rgba(0,nan,0,0.6)'> the sauce that came with the duck was slightly sweet and sour </span><span style='background-color:rgba(0,nan,0,0.6)'> the potatoes were just ok </span><span style='background-color:rgba(0,nan,0,0.6)'> i liked that they were small and cut in half </span><span style='background-color:rgba(0,nan,0,0.6)'> roast rack of lamb: the lamb dish had a very smooth and soft texture, which was nice </span><span style='background-color:rgba(0,nan,0,0.6)'> it was cooked medium </span><span style='background-color:rgba(0,nan,0,0.6)'> there were large pieces of fat on it, but they tasted good </span><span style='background-color:rgba(0,nan,0,0.6)'> the vegetables on the side were just ok </span><span style='background-color:rgba(0,nan,0,0.6)'> crème brulee with bourbon vanilla: the crème brulee had the right amount of sweetness </span><span style='background-color:rgba(0,nan,0,0.6)'> the glazed sugar on top was crispy but slightly bitter on the more burnt parts </span><span style='background-color:rgba(0,nan,0,0.6)'> the crème brulee was bigger than i expected </span><span style='background-color:rgba(0,nan,0,0.6)'> it looked three times as big as the crème brulee i had at other places in the us </span><span style='background-color:rgba(0,nan,0,0.6)'> crepe suzette: the crepe (two crepes) looked fancy when it was on fire, but it didn't taste that great </span><span style='background-color:rgba(0,nan,0,0.6)'> it had a citrus taste </span><span style='background-color:rgba(0,nan,0,0.6)'> see all photos from kristina m </span><span style='background-color:rgba(0,nan,0,0.6)'> for les antiquaires </span>"
            ],
            "text/plain": [
              "<IPython.core.display.HTML object>"
            ]
          },
          "metadata": {}
        },
        {
          "output_type": "stream",
          "name": "stdout",
          "text": [
            "----- model predict : [0.99977726] ----- real rate : 4.0\n"
          ]
        },
        {
          "output_type": "display_data",
          "data": {
            "text/html": [
              "<span style='background-color:rgba(0,94.11502942442894,0,0.6)'>we chose to try this place after trying so much french food and wanted something different and more filling so we went italian </span><span style='background-color:rgba(0,195.52299231290817,0,0.6)'> the food and drinks were nothing but amazing </span><span style='background-color:rgba(0,210.64266979694366,0,0.6)'> we had a few different dishes including a truffle pasta and steak delicious and mouthwatering </span><span style='background-color:rgba(0,200.10145783424377,0,0.6)'> the atmosphere the detail in decor was beautiful and fun </span><span style='background-color:rgba(0,214.13071542978287,0,0.6)'> restaurant and bar was the whole building or levels </span><span style='background-color:rgba(0,206.93887174129486,0,0.6)'> they have a hidden lounge below a speakeasy you have to go through a meat locker to get to </span><span style='background-color:rgba(0,232.1496221423149,0,0.6)'> being that this was not in a major tourist area but close to moulin rouge some staff were friendly and helpful and others were not </span><span style='background-color:rgba(0,224.59433555603027,0,0.6)'> some cause we were americans gave us a hard time like the hostess and bartenders in the main bar </span><span style='background-color:rgba(0,255.0,0,0.6)'> our server was excellent though and a few other employees who noticed we were confused or being taunted cause we didnt speak french helped us through </span><span style='background-color:rgba(0,235.38935869932175,0,0.6)'> this is one of the busiest most popular restaurants in paris so there is a long wait to get to the hostess to put your name down then wait for your table </span><span style='background-color:rgba(0,182.05607414245605,0,0.6)'> no reservations are taken so either come as they are about to open to avoid wait or come and be ready to wait but food and drinks are worth it </span><span style='background-color:rgba(0,185.78990578651428,0,0.6)'> see all photos from sylvia g </span><span style='background-color:rgba(0,98.22051912546158,0,0.6)'> for pink mamma </span>"
            ],
            "text/plain": [
              "<IPython.core.display.HTML object>"
            ]
          },
          "metadata": {}
        },
        {
          "output_type": "stream",
          "name": "stdout",
          "text": [
            "----- model predict : [0.72473943] ----- real rate : 4.0\n"
          ]
        },
        {
          "output_type": "display_data",
          "data": {
            "text/html": [
              "<span style='background-color:rgba(0,199.78791385889053,0,0.6)'>came here for nye and they had a pre fixed menu for europp </span><span style='background-color:rgba(0,255.0,0,0.6)'> it was a four course meal so we had - oysters - yum - foie gras - this was only okay </span><span style='background-color:rgba(0,177.38234013319016,0,0.6)'> - scallop risotto - very good </span><span style='background-color:rgba(0,186.57418370246887,0,0.6)'> - steak - peppery sauce in every bite and it was delicious </span><span style='background-color:rgba(0,145.08249253034592,0,0.6)'> cooked perfectly - cheese dish - we couldn't choose our cheese </span><span style='background-color:rgba(0,121.58145278692245,0,0.6)'> the one presented was over salted and not good - dessert - we had a variety (see pic) and it was fun to try them all see all photos from michelle n </span><span style='background-color:rgba(0,131.92106276750565,0,0.6)'> for le bosquet </span>"
            ],
            "text/plain": [
              "<IPython.core.display.HTML object>"
            ]
          },
          "metadata": {}
        },
        {
          "output_type": "stream",
          "name": "stdout",
          "text": [
            "----- model predict : [0.79996413] ----- real rate : 4.0\n"
          ]
        },
        {
          "output_type": "display_data",
          "data": {
            "text/html": [
              "<span style='background-color:rgba(0,94.0812112390995,0,0.6)'>very cool scene and location next to lv, food was ok but atmosphere was well worth it </span>"
            ],
            "text/plain": [
              "<IPython.core.display.HTML object>"
            ]
          },
          "metadata": {}
        },
        {
          "output_type": "stream",
          "name": "stdout",
          "text": [
            "----- model predict : [0.9678737] ----- real rate : 4.0\n"
          ]
        },
        {
          "output_type": "display_data",
          "data": {
            "text/html": [
              "<span style='background-color:rgba(0,63.000182434916496,0,0.6)'>things </span><span style='background-color:rgba(0,136.45671218633652,0,0.6)'> huge </span><span style='background-color:rgba(0,182.74841219186783,0,0.6)'> cheap </span><span style='background-color:rgba(0,153.05040657520294,0,0.6)'> yum </span><span style='background-color:rgba(0,144.13562893867493,0,0.6)'> easily the biggest crepes i have ever eaten </span><span style='background-color:rgba(0,109.79751750826836,0,0.6)'> i had some sort of eggplant, feta, lettuce, tomato concoction and they legit ram the ingredients inside </span><span style='background-color:rgba(0,186.63110464811325,0,0.6)'> you like cheese </span><span style='background-color:rgba(0,134.21547085046768,0,0.6)'> well don't worry because you are going to get alotttt of cheese </span><span style='background-color:rgba(0,214.0527892112732,0,0.6)'> all for around euros is the best budget for student living haha </span><span style='background-color:rgba(0,255.0,0,0.6)'> you will be full, so please come hungry </span><span style='background-color:rgba(0,67.96954438090324,0,0.6)'> definitely would come back whenever i need a crepe fix :) eggplant, feta, onions, tomatoes, lettuce </span>"
            ],
            "text/plain": [
              "<IPython.core.display.HTML object>"
            ]
          },
          "metadata": {}
        },
        {
          "output_type": "stream",
          "name": "stdout",
          "text": [
            "----- model predict : [0.08739373] ----- real rate : 3.0\n"
          ]
        },
        {
          "output_type": "display_data",
          "data": {
            "text/html": [
              "<span style='background-color:rgba(0,127.81258642673492,0,0.6)'>we came here without a reservation and was able to get a seat as it was a little early for dinner on a sunday night </span><span style='background-color:rgba(0,133.7003856897354,0,0.6)'> we had a little difficulty picking out some items on the menu and the server never offered any suggestions or let us know what the specials of the day were </span><span style='background-color:rgba(0,148.22525829076767,0,0.6)'> they were extremely impatient taking our order and we didn't see the specials posted up on the wall until afterwards </span><span style='background-color:rgba(0,114.77226376533508,0,0.6)'> as for the food, the escargot had a little too much parsley for our palates and only a very hint of garlic </span><span style='background-color:rgba(0,140.15006840229034,0,0.6)'> the frog legs were my favorite of the night as it well done and accompanied by a flavorful mushroom cream sauce </span><span style='background-color:rgba(0,87.26889878511429,0,0.6)'> the seabass was a nice filet with a crispy skin presented on a nice bed of vegetables that had a nice buttery finish to it </span><span style='background-color:rgba(0,86.75965011119843,0,0.6)'> we asked a few times for the bill and some boxes and while it took about minutes to get the boxes, it took about minutes to get our check </span><span style='background-color:rgba(0,73.0139409005642,0,0.6)'> altogether it was an average experience for the price we were expected to pay </span><span style='background-color:rgba(0,108.49702969193459,0,0.6)'> note: the servers don't speak much english </span><span style='background-color:rgba(0,255.0,0,0.6)'> see all photos from stephanie p </span><span style='background-color:rgba(0,112.21041843295097,0,0.6)'> for le bistro marbeuf </span>"
            ],
            "text/plain": [
              "<IPython.core.display.HTML object>"
            ]
          },
          "metadata": {}
        },
        {
          "output_type": "stream",
          "name": "stdout",
          "text": [
            "----- model predict : [0.07848176] ----- real rate : 2.0\n"
          ]
        },
        {
          "output_type": "display_data",
          "data": {
            "text/html": [
              "<span style='background-color:rgba(0,nan,0,0.6)'>when my girlfriend and i read about this experience, we were really excited to try many different french wines </span><span style='background-color:rgba(0,nan,0,0.6)'> instead we got to try small tasting portions of cheap french wine </span><span style='background-color:rgba(0,nan,0,0.6)'> they even tell you the wine your tasting is worth roughly euros per bottle </span><span style='background-color:rgba(0,nan,0,0.6)'> we paid euros per person to try sips of three cheap wines </span><span style='background-color:rgba(0,nan,0,0.6)'> for thirty euros each, i expected either () tastings of three very good french wines, () tastings of many average french wines from all around the country or () at least decent glasses of the cheap french wines </span><span style='background-color:rgba(0,nan,0,0.6)'> so we felt ripped off </span><span style='background-color:rgba(0,nan,0,0.6)'> what they did do is explain \"how to taste wine\", which many of the older people there knew how to do </span><span style='background-color:rgba(0,nan,0,0.6)'> it wasn't a wine tasting, it was a wine tasing tutorial </span><span style='background-color:rgba(0,nan,0,0.6)'> the man teaching it seemed knowledgable and charming, but ultimately i felt lied to and it ruined any redeeming qualities of the experience </span>"
            ],
            "text/plain": [
              "<IPython.core.display.HTML object>"
            ]
          },
          "metadata": {}
        },
        {
          "output_type": "stream",
          "name": "stdout",
          "text": [
            "----- model predict : [0.99937123] ----- real rate : 5.0\n"
          ]
        },
        {
          "output_type": "display_data",
          "data": {
            "text/html": [
              "<span style='background-color:rgba(0,77.50890970230103,0,0.6)'>came here the first time on january nd, , with our dear friends laurent et juliet on their recommendation and this has been our go-to favorite in st </span><span style='background-color:rgba(0,156.89718335866928,0,0.6)'> germain ever since </span><span style='background-color:rgba(0,124.5053730905056,0,0.6)'> on this trip -- our ten-week residency in the city of light -- we've been there times so far and will probably make it at least more times before we head back to la </span><span style='background-color:rgba(0,213.08426678180695,0,0.6)'>  these folks get it all right </span><span style='background-color:rgba(0,110.14641478657722,0,0.6)'> the atmosphere is casually hip modern paris and there's an open kitchen where you can watch a very dedicated and well-choreographed staff in concert with the -year old chef creating excellence </span><span style='background-color:rgba(0,255.0,0,0.6)'> and yes, there's a ton of americans who show up here -- probably because their friends all tell them to go </span><span style='background-color:rgba(0,160.60812503099442,0,0.6)'> just go </span><span style='background-color:rgba(0,109.01758655905724,0,0.6)'> it's ok </span><span style='background-color:rgba(0,176.07914686203003,0,0.6)'> these are kindred spirits and fellow foodies </span><span style='background-color:rgba(0,133.38872641324997,0,0.6)'> it's not a big menu but it hits all the spots: inventive but quite edibleenjoyable starters -- the carrote veloute and the tiny ravioli were just amazing -- always a beautifully prepared fish dish, a masterfully superb lamb dish, super-tasty pork or côte de bouef, a risotto and generally five truly divine desserts to choose from </span><span style='background-color:rgba(0,165.07356941699982,0,0.6)'> nothing here misses the mark </span><span style='background-color:rgba(0,147.98407763242722,0,0.6)'> and the wine list does not disappoint from either a selection or pricing standpoint </span><span style='background-color:rgba(0,176.98024570941925,0,0.6)'> semilla is not inexpensive but we have paid far more in paris for meals of far lesser caliber </span><span style='background-color:rgba(0,203.7959387898445,0,0.6)'> service is engaged and personal too </span><span style='background-color:rgba(0,221.94172829389572,0,0.6)'> reservations are a must </span><span style='background-color:rgba(0,98.03083330392838,0,0.6)'> might get in on a walk-up after : on some nights but don't try it - just make the reservation, wander though rue de buci and down rue de seine and enjoy this very wonderful place </span>"
            ],
            "text/plain": [
              "<IPython.core.display.HTML object>"
            ]
          },
          "metadata": {}
        },
        {
          "output_type": "stream",
          "name": "stdout",
          "text": [
            "----- model predict : [0.9953491] ----- real rate : 5.0\n"
          ]
        },
        {
          "output_type": "display_data",
          "data": {
            "text/html": [
              "<span style='background-color:rgba(0,108.52982193231583,0,0.6)'>we stumbled upon this little coffee shop near the eiffel tower and had a great experience </span><span style='background-color:rgba(0,255.0,0,0.6)'> the fresh squeezed orange juice was to die for and the coffee was good </span><span style='background-color:rgba(0,211.15091532468796,0,0.6)'> the brunch was awesome also and really gave me a taste of what a real french breakfast is like </span><span style='background-color:rgba(0,232.5673869252205,0,0.6)'>  i also thought the deal was pretty awesome that we got so many different foods and drinks for one price </span><span style='background-color:rgba(0,205.79040616750717,0,0.6)'> we also made some new friends in this homey cafe </span><span style='background-color:rgba(0,142.54545986652374,0,0.6)'>  if you want a snack to eat with some good oj and coffee, check this place out </span>"
            ],
            "text/plain": [
              "<IPython.core.display.HTML object>"
            ]
          },
          "metadata": {}
        },
        {
          "output_type": "stream",
          "name": "stdout",
          "text": [
            "----- model predict : [0.9745875] ----- real rate : 4.0\n"
          ]
        },
        {
          "output_type": "display_data",
          "data": {
            "text/html": [
              "<span style='background-color:rgba(0,157.64363050460815,0,0.6)'>enjoyed a lovely lunch here </span><span style='background-color:rgba(0,255.0,0,0.6)'> server was extremely good </span><span style='background-color:rgba(0,103.5770232975483,0,0.6)'> the special was a tuna steak and they cooked it beautifully seared and raw in the middle as i requested it </span><span style='background-color:rgba(0,223.63666534423828,0,0.6)'> my wife had the noodles and jumbo shrimp, which was excellent as well </span><span style='background-color:rgba(0,194.70053404569626,0,0.6)'> huge plus was the server spoke english and they have english menus </span>"
            ],
            "text/plain": [
              "<IPython.core.display.HTML object>"
            ]
          },
          "metadata": {}
        },
        {
          "output_type": "stream",
          "name": "stdout",
          "text": [
            "----- model predict : [0.8918436] ----- real rate : 5.0\n"
          ]
        },
        {
          "output_type": "display_data",
          "data": {
            "text/html": [
              "<span style='background-color:rgba(0,69.564318805933,0,0.6)'>this three michelin star establishment lived up to all my expectations - food: some might say that the best way to judge a chef would be through the quality of basic ingredientsfoods like their eggs or breads </span><span style='background-color:rgba(0,158.32801938056946,0,0.6)'> all types of breads were freshly made; crispy on the outside but soft and tender on the inside and it was accompanied with both salted and natural butter </span><span style='background-color:rgba(0,175.73614686727524,0,0.6)'> the complimentary appetizers and starters by the chef were stunning and could already possibly be a separate dish that i would willingly pay for by themselves </span><span style='background-color:rgba(0,230.69101721048355,0,0.6)'> needless to say, the quality of food from start to finish was impeccable - and the food tasted as good as they looked </span><span style='background-color:rgba(0,183.4109902381897,0,0.6)'> prices: in some of the restaurants i've been to, the entire table has to agree on a single menu that will be eaten by every individual which is quite a hassle at times </span><span style='background-color:rgba(0,140.2912536263466,0,0.6)'> pavillion leboyen was not one of them </span><span style='background-color:rgba(0,144.37158107757568,0,0.6)'> set </span><span style='background-color:rgba(0,104.15820971131325,0,0.6)'> the lunch set menu started at euros followed by the tasting menu at euros and the famed \" michelin star\" menu at euros </span><span style='background-color:rgba(0,251.25473856925964,0,0.6)'> i personally think that the food is really worth the money but i would suggest that if your significant otherfamilies are not people that \" live to eat\", the lunch menu would suffice; the amount of food you eat would probably be enough to last the entire day as well </span><span style='background-color:rgba(0,185.21148562431335,0,0.6)'> ambience: the waiters ensured that all your needs are catered to </span><span style='background-color:rgba(0,228.56831431388855,0,0.6)'> i managed to get signed copies of our menus by the chef and he actually made the effort to have casual bump-ins with every single customer - something that is forgotten by many chefs nowadays </span><span style='background-color:rgba(0,255.0,0,0.6)'> p </span><span style='background-color:rgba(0,161.84743613004684,0,0.6)'> s: if your dining party is only made up of girls, there's a chance that the menu you receive will not have any prices - only the men's menu have prices (i read that this is rather traditional for a french restaurant) </span><span style='background-color:rgba(0,89.04499188065529,0,0.6)'> foie gras, sea urchin soup and sea urchin (from right to left) </span>"
            ],
            "text/plain": [
              "<IPython.core.display.HTML object>"
            ]
          },
          "metadata": {}
        },
        {
          "output_type": "stream",
          "name": "stdout",
          "text": [
            "----- model predict : [0.44753057] ----- real rate : 4.0\n"
          ]
        },
        {
          "output_type": "display_data",
          "data": {
            "text/html": [
              "<span style='background-color:rgba(0,75.3172405064106,0,0.6)'>i feel in love with somek (soju + beer), gogchujang (korean chicken) and the whole evening vibe </span><span style='background-color:rgba(0,255.0,0,0.6)'> me and my friend had a great time during the rainy night </span><span style='background-color:rgba(0,202.6525193452835,0,0.6)'> but the only bad point is that it's not a place to catch up and laugh loud at the place for other client </span>"
            ],
            "text/plain": [
              "<IPython.core.display.HTML object>"
            ]
          },
          "metadata": {}
        },
        {
          "output_type": "stream",
          "name": "stdout",
          "text": [
            "----- model predict : [0.9423342] ----- real rate : 5.0\n"
          ]
        },
        {
          "output_type": "display_data",
          "data": {
            "text/html": [
              "<span style='background-color:rgba(0,101.09555125236511,0,0.6)'>i love everything at eric kayser but my fav is their chocolate and lemon tart and macroons </span><span style='background-color:rgba(0,255.0,0,0.6)'> each location has different options but usually they all have the basic sandwiches </span><span style='background-color:rgba(0,120.59827074408531,0,0.6)'> definitely do the combo of drink+sandwich+desert </span>"
            ],
            "text/plain": [
              "<IPython.core.display.HTML object>"
            ]
          },
          "metadata": {}
        },
        {
          "output_type": "stream",
          "name": "stdout",
          "text": [
            "----- model predict : [0.9998078] ----- real rate : 5.0\n"
          ]
        },
        {
          "output_type": "display_data",
          "data": {
            "text/html": [
              "<span style='background-color:rgba(0,143.0114820599556,0,0.6)'>we wanted to go next door to l'avant comptoir, but didn't feel like standing </span><span style='background-color:rgba(0,221.15187227725983,0,0.6)'> we just climbed notre dame's towers and we wanted to sit and relax </span><span style='background-color:rgba(0,255.0,0,0.6)'> this place has small tables in the back and seats around the counter </span><span style='background-color:rgba(0,237.09419041872025,0,0.6)'> we love the fact that the menu has pictures </span><span style='background-color:rgba(0,233.4602478146553,0,0.6)'> the servers were helpful and spoke english well </span><span style='background-color:rgba(0,168.39723587036133,0,0.6)'> we started with some glasses of white wine, tuna tartare (excellent), scallop and truffle tea sandwiches (could've done with out this), cockles (good), shrimp dumplings (could've done without this too) and lobster with corn (amazing) </span><span style='background-color:rgba(0,124.1455551981926,0,0.6)'> they gave us the best bread and butter to accompany the food </span><span style='background-color:rgba(0,129.093619287014,0,0.6)'> honestly, we could've stopped there but we decided to keep trying more </span><span style='background-color:rgba(0,63.993437737226486,0,0.6)'> we also got the squid \"tagliatelle\" (very garlicky), veal tartare (excellent), oysters (yum </span><span style='background-color:rgba(0,172.44047731161118,0,0.6)'>) and finished with the chocolate mousse (very yummy) </span><span style='background-color:rgba(0,250.76383531093597,0,0.6)'> the portions are just right and the prices were super affordable </span><span style='background-color:rgba(0,179.14173692464828,0,0.6)'> we also ended up getting more glasses of wine and espressos </span><span style='background-color:rgba(0,233.21283549070358,0,0.6)'> our whole bill came out to euros </span><span style='background-color:rgba(0,73.79700288176537,0,0.6)'> we will definitely be back to try l'avant comptoir </span><span style='background-color:rgba(0,226.3935998082161,0,0.6)'> see all photos from michelle a </span><span style='background-color:rgba(0,108.19955885410309,0,0.6)'> for l'avant comptoir de la mer </span>"
            ],
            "text/plain": [
              "<IPython.core.display.HTML object>"
            ]
          },
          "metadata": {}
        },
        {
          "output_type": "stream",
          "name": "stdout",
          "text": [
            "----- model predict : [0.9177362] ----- real rate : 4.0\n"
          ]
        },
        {
          "output_type": "display_data",
          "data": {
            "text/html": [
              "<span style='background-color:rgba(0,99.87876534461975,0,0.6)'>very good sushi big choice of sushi's and fast service no long waiting time </span>"
            ],
            "text/plain": [
              "<IPython.core.display.HTML object>"
            ]
          },
          "metadata": {}
        },
        {
          "output_type": "stream",
          "name": "stdout",
          "text": [
            "----- model predict : [0.9999033] ----- real rate : 5.0\n"
          ]
        },
        {
          "output_type": "display_data",
          "data": {
            "text/html": [
              "<span style='background-color:rgba(0,115.36635428667068,0,0.6)'>my husband i found this place a couple of years ago when staying in the marais </span><span style='background-color:rgba(0,205.85126370191574,0,0.6)'> we loved it so much we ate here times in a week </span><span style='background-color:rgba(0,179.8395162820816,0,0.6)'> when i came back on a return visit with a friend last month i took her here so we could have the bolognese pizza again </span><span style='background-color:rgba(0,205.01175194978714,0,0.6)'>it's so incredibly good </span><span style='background-color:rgba(0,167.91647046804428,0,0.6)'> since my only experience is with the pizza, i can only review that but it's fantastic </span><span style='background-color:rgba(0,163.60671132802963,0,0.6)'> i'm a huge fan of the fried egg in the middle (not all pizzas come with this if you don't like eggs) </span><span style='background-color:rgba(0,233.00741851329803,0,0.6)'> one pizza would feed people, unless you have a raging appetite </span><span style='background-color:rgba(0,245.8887729048729,0,0.6)'> i've always had good wines here as well </span><span style='background-color:rgba(0,220.75977891683578,0,0.6)'> the ambiance is nice, with options for seating inside or out and when it gets cold outside there are heaters for the patio area </span><span style='background-color:rgba(0,252.54615247249603,0,0.6)'> every waiter i've had has been very friendly, and lucky for me (or them </span><span style='background-color:rgba(0,255.0,0,0.6)'>) they've spoken good english so i don't have to resort to pointing at things in broken french </span><span style='background-color:rgba(0,132.80550330877304,0,0.6)'> if you aren't terribly stuffed after lunchdinner, walk a few meters down the street and get gelato at pozzeto </span>"
            ],
            "text/plain": [
              "<IPython.core.display.HTML object>"
            ]
          },
          "metadata": {}
        },
        {
          "output_type": "stream",
          "name": "stdout",
          "text": [
            "----- model predict : [0.9981025] ----- real rate : 5.0\n"
          ]
        },
        {
          "output_type": "display_data",
          "data": {
            "text/html": [
              "<span style='background-color:rgba(0,108.90588775277138,0,0.6)'>we came here for dinner when we were in paris last weekend and it was one of the best dinners we had - both in terms of food and ambiance </span><span style='background-color:rgba(0,206.99185609817505,0,0.6)'> the chef and staff are actually italian and are so lovely and welcoming </span><span style='background-color:rgba(0,184.61175620555878,0,0.6)'> we had the fried artichokes as a starter (delicious) and then pizza and veal saltimbocca as the mains (also delicious) </span><span style='background-color:rgba(0,222.02217757701874,0,0.6)'> the service was second to none as well </span><span style='background-color:rgba(0,255.0,0,0.6)'> the food and wine prices are also very reasonable as well </span><span style='background-color:rgba(0,174.27608281373978,0,0.6)'> highly recommended and looking forward to going back when we return to paris </span>"
            ],
            "text/plain": [
              "<IPython.core.display.HTML object>"
            ]
          },
          "metadata": {}
        },
        {
          "output_type": "stream",
          "name": "stdout",
          "text": [
            "----- model predict : [0.66986233] ----- real rate : 3.0\n"
          ]
        },
        {
          "output_type": "display_data",
          "data": {
            "text/html": [
              "<span style='background-color:rgba(0,110.51611974835396,0,0.6)'>after a long day of running around the city and realizing i hadn't eaten all day, i decided to start browsing menus as i walked by restaurants </span><span style='background-color:rgba(0,180.97526013851166,0,0.6)'> i ended up settling on le grand cafe simply due to the menu and the fact it seemed to have a decent amount of people inside </span><span style='background-color:rgba(0,255.0,0,0.6)'> upon entry, i was given a chance to check my coat and was given a great table facing the sidewalk (great for people watching) </span><span style='background-color:rgba(0,195.35636365413666,0,0.6)'> i went with the express menu which offers an entree and main course for $ </span><span style='background-color:rgba(0,156.24696224927902,0,0.6)'>e or entree, main course, and dessert for  </span><span style='background-color:rgba(0,129.70944464206696,0,0.6)'>e with two choices for each item </span><span style='background-color:rgba(0,36.337172761559486,0,0.6)'> i went with the cauliflower soup to start which was pretty good </span><span style='background-color:rgba(0,120.67220717668533,0,0.6)'> my main course was veal with potatoes; about of my veal seemed undercooked and bright red </span><span style='background-color:rgba(0,42.440200075507164,0,0.6)'> my dessert was a delicious creme brûlée </span><span style='background-color:rgba(0,109.16177362203598,0,0.6)'> aside from the meat in my main dish, everything was pretty good </span>"
            ],
            "text/plain": [
              "<IPython.core.display.HTML object>"
            ]
          },
          "metadata": {}
        },
        {
          "output_type": "stream",
          "name": "stdout",
          "text": [
            "----- model predict : [0.7243617] ----- real rate : 3.0\n"
          ]
        },
        {
          "output_type": "display_data",
          "data": {
            "text/html": [
              "<span style='background-color:rgba(0,108.84281113743782,0,0.6)'>just grabbed drinks here so i can't speak for the food </span><span style='background-color:rgba(0,255.0,0,0.6)'>  it's on champs elysees near the arc de triomphe </span><span style='background-color:rgba(0,194.6031528711319,0,0.6)'> all i can really say about it is that the waiters are handsome, the place is absurdly overpriced and service is ok </span><span style='background-color:rgba(0,126.37766942381859,0,0.6)'>  bathrooms are in the basement </span>"
            ],
            "text/plain": [
              "<IPython.core.display.HTML object>"
            ]
          },
          "metadata": {}
        },
        {
          "output_type": "stream",
          "name": "stdout",
          "text": [
            "----- model predict : [0.0011353] ----- real rate : 1.0\n"
          ]
        },
        {
          "output_type": "display_data",
          "data": {
            "text/html": [
              "<span style='background-color:rgba(0,nan,0,0.6)'>poor services, mean, rude, impolite </span><span style='background-color:rgba(0,nan,0,0.6)'> food are \"street restaurant\"level, over € but only worth at most  </span>"
            ],
            "text/plain": [
              "<IPython.core.display.HTML object>"
            ]
          },
          "metadata": {}
        },
        {
          "output_type": "stream",
          "name": "stdout",
          "text": [
            "----- model predict : [0.9989183] ----- real rate : 5.0\n"
          ]
        },
        {
          "output_type": "display_data",
          "data": {
            "text/html": [
              "<span style='background-color:rgba(0,132.0442521572113,0,0.6)'>service was exceptional and food was amazing </span><span style='background-color:rgba(0,166.55710101127625,0,0.6)'> french fair with steaks cooked on an open flame i had the rib eye steak cooked rare and rare is what they did </span><span style='background-color:rgba(0,128.42145055532455,0,0.6)'> it was fabulous </span><span style='background-color:rgba(0,146.18616610765457,0,0.6)'> my wife had a little bit of mine with potatoes and salad </span><span style='background-color:rgba(0,111.86867997050285,0,0.6)'> mom had the tiger prawns and her friend had the lamb </span><span style='background-color:rgba(0,109.15266931056976,0,0.6)'> both said it was great </span><span style='background-color:rgba(0,156.39214485883713,0,0.6)'> topped it off with some creme brûlée and chocolate cake which were both phenomenal </span><span style='background-color:rgba(0,168.51873815059662,0,0.6)'> we also got a little history from the owner and the ambiance was perfect for our last meal in paris </span><span style='background-color:rgba(0,255.0,0,0.6)'> see all photos from jaemi m </span><span style='background-color:rgba(0,92.44473025202751,0,0.6)'> for robert et louise </span>"
            ],
            "text/plain": [
              "<IPython.core.display.HTML object>"
            ]
          },
          "metadata": {}
        },
        {
          "output_type": "stream",
          "name": "stdout",
          "text": [
            "----- model predict : [0.9994361] ----- real rate : 5.0\n"
          ]
        },
        {
          "output_type": "display_data",
          "data": {
            "text/html": [
              "<span style='background-color:rgba(0,137.17239618301392,0,0.6)'>this place is a must for us every time we visit paris </span><span style='background-color:rgba(0,255.0,0,0.6)'> i would eat here twice a day if i could </span><span style='background-color:rgba(0,159.6703201532364,0,0.6)'> they have the most amazing savory and sweet crepes </span><span style='background-color:rgba(0,226.38525545597076,0,0.6)'> we love the bretonne and the chevre-feuille specialty crepes </span><span style='background-color:rgba(0,194.65381175279617,0,0.6)'> we also love the caramel and the dessert crepe with chocolate, pear and toasted almonds with ice cream </span><span style='background-color:rgba(0,242.2130325436592,0,0.6)'> an an amazing and light meal </span><span style='background-color:rgba(0,153.59633088111877,0,0.6)'> we also always get the le p'tit fausset brut cider which we love </span>"
            ],
            "text/plain": [
              "<IPython.core.display.HTML object>"
            ]
          },
          "metadata": {}
        },
        {
          "output_type": "stream",
          "name": "stdout",
          "text": [
            "----- model predict : [0.87436694] ----- real rate : 3.0\n"
          ]
        },
        {
          "output_type": "display_data",
          "data": {
            "text/html": [
              "<span style='background-color:rgba(0,83.43643203377724,0,0.6)'>i was very conflicted by my meal here </span><span style='background-color:rgba(0,131.65334433317184,0,0.6)'> on one hand, i enjoyed it </span><span style='background-color:rgba(0,122.11964830756187,0,0.6)'> on the other hand, i wouldn't go back or necessarily recommend it to anyone else </span><span style='background-color:rgba(0,85.23888051509857,0,0.6)'> overall there was nothing wrong with the meal or experience, but just really nothing special </span><span style='background-color:rgba(0,170.61093628406525,0,0.6)'> ambience: this is where alcazar really stood out </span><span style='background-color:rgba(0,220.5755192041397,0,0.6)'> it is a very lovely, romantic restaurant </span><span style='background-color:rgba(0,255.0,0,0.6)'> there's a surprising amount of greenery around the restaurant, and there's a fun upstairs bar that keeps the mood lively but is separate enough to not disturb </span><span style='background-color:rgba(0,223.1840032339096,0,0.6)'> food: as a table, we ordered the oysters to start </span><span style='background-color:rgba(0,97.61123701930046,0,0.6)'> two of us had the duck and the other had the scallops </span><span style='background-color:rgba(0,61.53142064809799,0,0.6)'> the duck came with a delicious butternut squash (and sweet potato </span><span style='background-color:rgba(0,150.52383095026016,0,0.6)'>) mash </span><span style='background-color:rgba(0,89.8269671201706,0,0.6)'> the scallops came with mashed potatoes </span><span style='background-color:rgba(0,109.99239385128021,0,0.6)'> everything tasted good </span><span style='background-color:rgba(0,103.98250713944435,0,0.6)'> the duck was a bit fatty, but hey that's duck </span><span style='background-color:rgba(0,70.57768642902374,0,0.6)'> the scallops were very tender and delicious, but not very substantial </span><span style='background-color:rgba(0,69.61779713630676,0,0.6)'> like i said, there was nothing wrong with the food, but nothing standout and nothing i would reorder </span><span style='background-color:rgba(0,113.50057080388069,0,0.6)'> we also had a bottle of red wine from aix en provence, which was very nice </span><span style='background-color:rgba(0,124.75367456674576,0,0.6)'> overall, a pleasant meal in a romantic restaurant, but for the price we paid and the quality of food we received, i would not return </span><span style='background-color:rgba(0,57.398363426327705,0,0.6)'> scallops in garlic butter sauce </span>"
            ],
            "text/plain": [
              "<IPython.core.display.HTML object>"
            ]
          },
          "metadata": {}
        },
        {
          "output_type": "stream",
          "name": "stdout",
          "text": [
            "----- model predict : [0.19836813] ----- real rate : 5.0\n"
          ]
        },
        {
          "output_type": "display_data",
          "data": {
            "text/html": [
              "<span style='background-color:rgba(0,255.0,0,0.6)'>can't go to paris and not go here </span><span style='background-color:rgba(0,154.98454838991165,0,0.6)'> waitresses are slow and can be rude but the food is fantastic </span>"
            ],
            "text/plain": [
              "<IPython.core.display.HTML object>"
            ]
          },
          "metadata": {}
        },
        {
          "output_type": "stream",
          "name": "stdout",
          "text": [
            "----- model predict : [0.16741322] ----- real rate : 2.0\n"
          ]
        },
        {
          "output_type": "display_data",
          "data": {
            "text/html": [
              "<span style='background-color:rgba(0,nan,0,0.6)'>we came here for dinner because les frangines down the street had just run out of their magret de canard </span><span style='background-color:rgba(0,nan,0,0.6)'> the service was quick: within minutes we received our warm goat cheese salad starter, and it came with a smile </span><span style='background-color:rgba(0,nan,0,0.6)'> for the main, i ordered the confit de canard, which was sufficiently tender and came with a side of garlicky new potatoes </span><span style='background-color:rgba(0,nan,0,0.6)'> my friend had scaloppini with a side of penne in tomato sauce </span><span style='background-color:rgba(0,nan,0,0.6)'> the duck was good, but nothing to write home about (and it didn't give me a duck fix the way frangines' magret would have </span><span style='background-color:rgba(0,nan,0,0.6)'>) </span><span style='background-color:rgba(0,nan,0,0.6)'> the scaloppini was uninteresting, and the pasta overcooked with stale sauce (i suspect it was a canned sauce that had been lightly doctored) </span><span style='background-color:rgba(0,nan,0,0.6)'> to finish, we split the tarte tatin, which was easily the best part of the meal (and dessert is usually not my favorite part </span><span style='background-color:rgba(0,nan,0,0.6)'>) </span><span style='background-color:rgba(0,nan,0,0.6)'> i'd come again, but only to watch the rugby game over a beer </span>"
            ],
            "text/plain": [
              "<IPython.core.display.HTML object>"
            ]
          },
          "metadata": {}
        },
        {
          "output_type": "stream",
          "name": "stdout",
          "text": [
            "----- model predict : [0.9731137] ----- real rate : 5.0\n"
          ]
        },
        {
          "output_type": "display_data",
          "data": {
            "text/html": [
              "<span style='background-color:rgba(0,145.36423981189728,0,0.6)'>great place to eat after walking the d'orsay </span><span style='background-color:rgba(0,255.0,0,0.6)'> excellent food; great value, wonderful service and sought after </span><span style='background-color:rgba(0,157.0455577969551,0,0.6)'> high marks reflected by the big crowd </span>"
            ],
            "text/plain": [
              "<IPython.core.display.HTML object>"
            ]
          },
          "metadata": {}
        },
        {
          "output_type": "stream",
          "name": "stdout",
          "text": [
            "----- model predict : [0.08099515] ----- real rate : 1.0\n"
          ]
        },
        {
          "output_type": "display_data",
          "data": {
            "text/html": [
              "<span style='background-color:rgba(0,nan,0,0.6)'>service sucks </span><span style='background-color:rgba(0,nan,0,0.6)'> it's like you should be honored to be there </span><span style='background-color:rgba(0,nan,0,0.6)'> it's a cool place but no excuse for rude staff, who are not older than at most </span>"
            ],
            "text/plain": [
              "<IPython.core.display.HTML object>"
            ]
          },
          "metadata": {}
        },
        {
          "output_type": "stream",
          "name": "stdout",
          "text": [
            "----- model predict : [0.9552985] ----- real rate : 5.0\n"
          ]
        },
        {
          "output_type": "display_data",
          "data": {
            "text/html": [
              "<span style='background-color:rgba(0,196.83136850595474,0,0.6)'>i've come here a few times, both for the on-the-street and in-restaurant varietals </span><span style='background-color:rgba(0,237.33362317085266,0,0.6)'> - the food is portioned large - like the size of my head - the food is rather tasty - get what you want </span><span style='background-color:rgba(0,195.52252113819122,0,0.6)'> - the line can be a little long, sure, it's fine make sure you know which line you're lining up for though </span><span style='background-color:rgba(0,208.88602405786514,0,0.6)'> there are two, and you definitely don't want to spend time in the wrong one </span><span style='background-color:rgba(0,161.176817715168,0,0.6)'> i tried a few others in the paris metropolitan area, and they don't compare </span><span style='background-color:rgba(0,255.0,0,0.6)'> come here sober, drunk, whatever it is, and enjoy </span><span style='background-color:rgba(0,155.22098690271378,0,0.6)'> =) </span>"
            ],
            "text/plain": [
              "<IPython.core.display.HTML object>"
            ]
          },
          "metadata": {}
        },
        {
          "output_type": "stream",
          "name": "stdout",
          "text": [
            "----- model predict : [0.9984321] ----- real rate : 4.0\n"
          ]
        },
        {
          "output_type": "display_data",
          "data": {
            "text/html": [
              "<span style='background-color:rgba(0,97.06533551216125,0,0.6)'>my sister was craving italian in paris so after a few disappointing stops we found this place </span><span style='background-color:rgba(0,255.0,0,0.6)'> it's quiet and seems family owned </span><span style='background-color:rgba(0,219.77183192968369,0,0.6)'> we both had the lasagna and it didn't disappoint </span><span style='background-color:rgba(0,118.10426697134972,0,0.6)'> full pastas and a pizza for euros </span><span style='background-color:rgba(0,120.97485333681107,0,0.6)'> i would recommend this place </span>"
            ],
            "text/plain": [
              "<IPython.core.display.HTML object>"
            ]
          },
          "metadata": {}
        },
        {
          "output_type": "stream",
          "name": "stdout",
          "text": [
            "----- model predict : [0.9951433] ----- real rate : 5.0\n"
          ]
        },
        {
          "output_type": "display_data",
          "data": {
            "text/html": [
              "<span style='background-color:rgba(0,150.87786555290222,0,0.6)'>fantastic little restaurant in the latin quarter </span><span style='background-color:rgba(0,220.6779009103775,0,0.6)'> there was a live jazz band playing when we arrived and it was the perfect accompaniment to our dinner </span><span style='background-color:rgba(0,255.0,0,0.6)'> the guys were fantastic </span><span style='background-color:rgba(0,254.36645239591599,0,0.6)'> service was helpful and friendly and the food was great </span><span style='background-color:rgba(0,221.70746326446533,0,0.6)'> the house wine was very good </span><span style='background-color:rgba(0,164.95569974184036,0,0.6)'> i would definitely return when in paris </span>"
            ],
            "text/plain": [
              "<IPython.core.display.HTML object>"
            ]
          },
          "metadata": {}
        },
        {
          "output_type": "stream",
          "name": "stdout",
          "text": [
            "----- model predict : [5.440318e-05] ----- real rate : 3.0\n"
          ]
        },
        {
          "output_type": "display_data",
          "data": {
            "text/html": [
              "<span style='background-color:rgba(0,nan,0,0.6)'>bit of a disappointment </span><span style='background-color:rgba(0,nan,0,0.6)'> had been here years ago and found our recent visit to be a bit lackluster </span><span style='background-color:rgba(0,nan,0,0.6)'> the food and service were fine but lacking in enthusiasm </span><span style='background-color:rgba(0,nan,0,0.6)'> had much higher hopes useful funny cool jonathan c </span><span style='background-color:rgba(0,nan,0,0.6)'> business owner bonjour  </span><span style='background-color:rgba(0,nan,0,0.6)'> thank you for your comment </span><span style='background-color:rgba(0,nan,0,0.6)'> i don't really understand what happened as there is always a nice, chic and fun ambiance at le petit pontoise  </span><span style='background-color:rgba(0,nan,0,0.6)'> we are very sorry that your experience wasn't as good as you expected </span><span style='background-color:rgba(0,nan,0,0.6)'> please the next you will be in paris, come at le petit pontoise for lunch and i will offer you lunch (as i don't want people who leave the restaurant non-happy) a bientôt le petit pontoise jonathan & alexandre read more </span>"
            ],
            "text/plain": [
              "<IPython.core.display.HTML object>"
            ]
          },
          "metadata": {}
        },
        {
          "output_type": "stream",
          "name": "stdout",
          "text": [
            "----- model predict : [0.00202956] ----- real rate : 1.0\n"
          ]
        },
        {
          "output_type": "display_data",
          "data": {
            "text/html": [
              "<span style='background-color:rgba(0,0.0,0,0.6)'>the place was empty and we tried to get a table and they wouldn't allow us in </span><span style='background-color:rgba(0,0.0,0,0.6)'> it was not closed </span><span style='background-color:rgba(0,0.0,0,0.6)'> they asked if we wanted food and we said we wanted some coffee and they told us we couldn't come in </span><span style='background-color:rgba(0,0.0,0,0.6)'> the woman was extremely rude </span>"
            ],
            "text/plain": [
              "<IPython.core.display.HTML object>"
            ]
          },
          "metadata": {}
        },
        {
          "output_type": "stream",
          "name": "stdout",
          "text": [
            "----- model predict : [0.00021262] ----- real rate : 3.0\n"
          ]
        },
        {
          "output_type": "display_data",
          "data": {
            "text/html": [
              "<span style='background-color:rgba(0,nan,0,0.6)'>*a mediocre parisian interpretation of an argentinean steakhouse* </span><span style='background-color:rgba(0,nan,0,0.6)'> service was below par, the meat wasn't all that bad but the sides aren't included and apart from expensive are extra small </span><span style='background-color:rgba(0,nan,0,0.6)'> a lot of improvement to be done </span>"
            ],
            "text/plain": [
              "<IPython.core.display.HTML object>"
            ]
          },
          "metadata": {}
        },
        {
          "output_type": "stream",
          "name": "stdout",
          "text": [
            "----- model predict : [0.00018444] ----- real rate : 1.0\n"
          ]
        },
        {
          "output_type": "display_data",
          "data": {
            "text/html": [
              "<span style='background-color:rgba(0,0.0,0,0.6)'>this was the nd time we visited the paul in st </span><span style='background-color:rgba(0,0.0,0,0.6)'>germain des pres </span><span style='background-color:rgba(0,0.0,0,0.6)'> i'am quite surprised that so many people rate any star for this establishment </span><span style='background-color:rgba(0,0.0,0,0.6)'> apart from the \"attitude\" of the paul-staff, the establishment is in a dreadful state </span><span style='background-color:rgba(0,0.0,0,0.6)'> if the paul staff apply the same or similar hygene principles of the toilet to the bakery and kitchen, i wonder if the guests are aware what they eat </span><span style='background-color:rgba(0,0.0,0,0.6)'> the quality of food is far below par </span><span style='background-color:rgba(0,255.0,0,0.6)'> serviettes are not brought to the table </span><span style='background-color:rgba(0,0.0,0,0.6)'> the efficiency of staff, unfortunately, is very low indeed, guess they are badly trained </span><span style='background-color:rgba(0,0.0,0,0.6)'> well, we tried it again but were bitterly disappointed again, hence its the last time </span><span style='background-color:rgba(0,0.0,0,0.6)'> i have requested to remove the paul from tourist portals in germany and in switzerland </span><span style='background-color:rgba(0,0.0,0,0.6)'> the paul gives paris and paris tourism a very bad name </span><span style='background-color:rgba(0,0.0,0,0.6)'> unfortunately, paul mgmt would not do anything about it, as still too many tourists flock to the place, but i believe this will change </span>"
            ],
            "text/plain": [
              "<IPython.core.display.HTML object>"
            ]
          },
          "metadata": {}
        },
        {
          "output_type": "stream",
          "name": "stdout",
          "text": [
            "----- model predict : [0.5806228] ----- real rate : 4.0\n"
          ]
        },
        {
          "output_type": "display_data",
          "data": {
            "text/html": [
              "<span style='background-color:rgba(0,117.21378475427628,0,0.6)'>block away from the eiffel tower for a great night picture </span><span style='background-color:rgba(0,255.0,0,0.6)'> we picked this spot because it was open at pm, and it was near the eiffel tower for us to watch the light show which happens every hour when it's dark </span><span style='background-color:rgba(0,212.41457551717758,0,0.6)'> food: we got the pizza, french onion soup, and green pesto </span><span style='background-color:rgba(0,161.9072449207306,0,0.6)'> all the food was good </span><span style='background-color:rgba(0,122.30570152401924,0,0.6)'> pizza crust was on point, not to soft or hard </span><span style='background-color:rgba(0,102.72478982806206,0,0.6)'> green pesto pasta was good even with no meat </span><span style='background-color:rgba(0,119.37057942152023,0,0.6)'> french onion although was a little expensive was very tasteful </span><span style='background-color:rgba(0,107.9502846300602,0,0.6)'> price: pizza - €- onion soup - € wine - €- glass green pesto - € </span>"
            ],
            "text/plain": [
              "<IPython.core.display.HTML object>"
            ]
          },
          "metadata": {}
        },
        {
          "output_type": "stream",
          "name": "stdout",
          "text": [
            "----- model predict : [0.8281889] ----- real rate : 5.0\n"
          ]
        },
        {
          "output_type": "display_data",
          "data": {
            "text/html": [
              "<span style='background-color:rgba(0,240.25355368852615,0,0.6)'>first, there will likely be a line when you get there </span><span style='background-color:rgba(0,214.99094367027283,0,0.6)'> the food is worth the wait </span><span style='background-color:rgba(0,158.49505841732025,0,0.6)'> the crispiest pork belly i've ever had, which was perfectly seasoned and cooked </span><span style='background-color:rgba(0,166.08870774507523,0,0.6)'> i had a small mishap trying to cut it because i underestimated the crust on that thing (lol) </span><span style='background-color:rgba(0,159.70039933919907,0,0.6)'> the fried brioche is delightful </span><span style='background-color:rgba(0,245.09263962507248,0,0.6)'> the bread in paris is just better overall, but this brioche was so buttery on it's own </span><span style='background-color:rgba(0,217.20678716897964,0,0.6)'> it comes with creme fraiche and berries on top, which aren't super sweet - somebody like me who doesn't have a sweet tooth can enjoy it </span><span style='background-color:rgba(0,199.67043936252594,0,0.6)'> also, the drizzle is a hibiscus syrup </span><span style='background-color:rgba(0,212.60322779417038,0,0.6)'> in general, i'm sold when i see hibiscus in a drink or dessert </span><span style='background-color:rgba(0,182.22888886928558,0,0.6)'> i thoroughly enjoyed it </span><span style='background-color:rgba(0,255.0,0,0.6)'> oh </span><span style='background-color:rgba(0,115.03353014588356,0,0.6)'> the chocolat chaud (hot chocolate) comes \"deconstructed\" - a scoop of buttery chocolate in a teacup, with cocoa'd warm milk in a pot for you to poor on your own </span><span style='background-color:rgba(0,148.75963121652603,0,0.6)'> loved it </span><span style='background-color:rgba(0,205.94534665346146,0,0.6)'> i don't even like chocolate, people </span><span style='background-color:rgba(0,40.6035952270031,0,0.6)'> french chocolate isn't overly sweet and doesn't coat my mouth the same way us versions do </span>"
            ],
            "text/plain": [
              "<IPython.core.display.HTML object>"
            ]
          },
          "metadata": {}
        },
        {
          "output_type": "stream",
          "name": "stdout",
          "text": [
            "----- model predict : [0.8666477] ----- real rate : 4.0\n"
          ]
        },
        {
          "output_type": "display_data",
          "data": {
            "text/html": [
              "<span style='background-color:rgba(0,90.62311559915543,0,0.6)'>it's totally normal to go to paris and go to an italian restaurant right </span><span style='background-color:rgba(0,210.77847450971603,0,0.6)'> :) well we did - and it was a good choice </span><span style='background-color:rgba(0,205.75874626636505,0,0.6)'> located just a block away from the eiffel tower, it's the perfect spot for a quick meal </span><span style='background-color:rgba(0,255.0,0,0.6)'> their menu is simple and super reasonably priced </span><span style='background-color:rgba(0,168.52106362581253,0,0.6)'> we settled for a pasta and a pizza with some wine </span><span style='background-color:rgba(0,177.72141873836517,0,0.6)'> great choices for splitting </span><span style='background-color:rgba(0,188.9854583144188,0,0.6)'> we sat outside on the patio and enjoyed the buzz of the street near us </span><span style='background-color:rgba(0,184.64261054992676,0,0.6)'> waitstaff was friendly and spoke good english for us </span>"
            ],
            "text/plain": [
              "<IPython.core.display.HTML object>"
            ]
          },
          "metadata": {}
        },
        {
          "output_type": "stream",
          "name": "stdout",
          "text": [
            "----- model predict : [0.9980095] ----- real rate : 5.0\n"
          ]
        },
        {
          "output_type": "display_data",
          "data": {
            "text/html": [
              "<span style='background-color:rgba(0,175.5298787355423,0,0.6)'>excellent dinner here </span><span style='background-color:rgba(0,255.0,0,0.6)'> although we did not have a reservation, we were able to snag a table when someone did not show up for theirs </span><span style='background-color:rgba(0,212.3776262998581,0,0.6)'> courteous staff </span><span style='background-color:rgba(0,145.8587148785591,0,0.6)'> excellent cheese course </span>"
            ],
            "text/plain": [
              "<IPython.core.display.HTML object>"
            ]
          },
          "metadata": {}
        },
        {
          "output_type": "stream",
          "name": "stdout",
          "text": [
            "----- model predict : [0.1731884] ----- real rate : 3.0\n"
          ]
        },
        {
          "output_type": "display_data",
          "data": {
            "text/html": [
              "<span style='background-color:rgba(0,nan,0,0.6)'>we were told to come here but never understood the historical importance of the cafe </span><span style='background-color:rgba(0,nan,0,0.6)'> if not for its \"iconic\" status, i probably wouldn't recommend coming here at all </span><span style='background-color:rgba(0,nan,0,0.6)'> judging by the food alone, its pretty average </span><span style='background-color:rgba(0,nan,0,0.6)'> we had [french] onion soup for € </span><span style='background-color:rgba(0,nan,0,0.6)'> it was good, but not mind-blowing awesome to warrant a $usd soup </span><span style='background-color:rgba(0,nan,0,0.6)'> i've had just as good french onion soup stateside for much less </span><span style='background-color:rgba(0,nan,0,0.6)'> the roasted chicken (€) was also good, but not mind-blowing awesome for $usd </span><span style='background-color:rgba(0,nan,0,0.6)'> while i wouldn't say that café de flore is the pinnacle of french cooking, i suppose it doesn't hurt to stop by for a cup of coffee </span><span style='background-color:rgba(0,nan,0,0.6)'> this is the type of restaurant where you come for the sake of saying you've been </span><span style='background-color:rgba(0,nan,0,0.6)'> [original visit: march , ] </span>"
            ],
            "text/plain": [
              "<IPython.core.display.HTML object>"
            ]
          },
          "metadata": {}
        },
        {
          "output_type": "stream",
          "name": "stdout",
          "text": [
            "----- model predict : [0.64068615] ----- real rate : 5.0\n"
          ]
        },
        {
          "output_type": "display_data",
          "data": {
            "text/html": [
              "<span style='background-color:rgba(0,69.16157841682434,0,0.6)'>my go to place in paris for happy hour cocktails </span><span style='background-color:rgba(0,255.0,0,0.6)'> love </span><span style='background-color:rgba(0,175.02139002084732,0,0.6)'> h-h cocktails are € and they have a very extensive cocktail list that are real cocktails not your standard teaspoon of alcohol and juice combo ( </span><span style='background-color:rgba(0,211.05133026838303,0,0.6)'>) oh and who can fault a place that gives you olives and nuts with your drinks </span><span style='background-color:rgba(0,251.12703502178192,0,0.6)'> such a classic but a dying classic in paris unfortunately </span><span style='background-color:rgba(0,138.04236710071564,0,0.6)'> the decor is very old world french bistro, deep reds, leather lounges which make for lots of atmosphere in the winter and a small heated terrace for the brave </span><span style='background-color:rgba(0,208.05841326713562,0,0.6)'> in springsummer they open the side terrace, which gives more places to soak up the sunshine </span><span style='background-color:rgba(0,155.4197010397911,0,0.6)'> food wise: i've only ever eaten the club sandwich, which was fine but with the plethora of japanese restaurants in the area i'd sooner move on after happy hour </span>"
            ],
            "text/plain": [
              "<IPython.core.display.HTML object>"
            ]
          },
          "metadata": {}
        },
        {
          "output_type": "stream",
          "name": "stdout",
          "text": [
            "----- model predict : [0.00078173] ----- real rate : 2.0\n"
          ]
        },
        {
          "output_type": "display_data",
          "data": {
            "text/html": [
              "<span style='background-color:rgba(0,nan,0,0.6)'>eek </span><span style='background-color:rgba(0,nan,0,0.6)'> maybe it was an off night </span><span style='background-color:rgba(0,nan,0,0.6)'> they were out of the first two entrees i wanted (on a short list to begin with) and everything was slow, from the food to getting water glasses to getting enough forks for everyone at the table </span><span style='background-color:rgba(0,nan,0,0.6)'> the french onion soup was good, and perhaps a clue that this place caters to tourists, as our french friends told us they never eat it </span><span style='background-color:rgba(0,nan,0,0.6)'> after all, the restaurant is right at the top of the scenic montmarte hill and i doubt many locals would come here </span><span style='background-color:rgba(0,nan,0,0.6)'> that being said, it's a nice courtyard in which to sit and eat, though i would search for something else next time </span><span style='background-color:rgba(0,nan,0,0.6)'> my scallops entree (my third choice) were tasty, but came as they did drenched in olive oil and with lardy bacon and buttery mashed potato on the side, i had to wonder if the chef was afraid of vegetables </span><span style='background-color:rgba(0,nan,0,0.6)'> we skipped dessert </span>"
            ],
            "text/plain": [
              "<IPython.core.display.HTML object>"
            ]
          },
          "metadata": {}
        },
        {
          "output_type": "stream",
          "name": "stdout",
          "text": [
            "----- model predict : [0.8820746] ----- real rate : 4.0\n"
          ]
        },
        {
          "output_type": "display_data",
          "data": {
            "text/html": [
              "<span style='background-color:rgba(0,110.79629391431808,0,0.6)'>tres bon endroit </span><span style='background-color:rgba(0,162.86222487688065,0,0.6)'> very small location just half block north of the more bustling portions of the marais, this tiny and well accommodated place is taking over the crepe scene in paris in taste and popularity </span><span style='background-color:rgba(0,255.0,0,0.6)'> we sat relatively quickly during off hrs but queues extend for blocks on busy evenings </span><span style='background-color:rgba(0,108.7660476565361,0,0.6)'> they lack ac but overall not unbearable and worth the sitting even if inside is only option </span><span style='background-color:rgba(0,194.1347748041153,0,0.6)'> service is standard, but kind to explain things if questions pop up </span><span style='background-color:rgba(0,122.53735989332199,0,0.6)'> the crepes we elected to try- all savoury on a galette sarrasin, and a dessert on a regular galette- were fantastic </span><span style='background-color:rgba(0,198.68799448013306,0,0.6)'> flavourful, my choice of a campagnarde was met with very quality cheese and potato, with a galette at just the right amount of crunch </span><span style='background-color:rgba(0,167.8060331940651,0,0.6)'> perhaps could be a slight bit more generous if nothing else for their pricing, but the flavour profile was remarkable </span><span style='background-color:rgba(0,136.44335210323334,0,0.6)'> definitely a place to visit if in the marais </span>"
            ],
            "text/plain": [
              "<IPython.core.display.HTML object>"
            ]
          },
          "metadata": {}
        },
        {
          "output_type": "stream",
          "name": "stdout",
          "text": [
            "----- model predict : [0.9523788] ----- real rate : 4.0\n"
          ]
        },
        {
          "output_type": "display_data",
          "data": {
            "text/html": [
              "<span style='background-color:rgba(0,174.26386266946793,0,0.6)'>portion sizes are very generous </span><span style='background-color:rgba(0,255.0,0,0.6)'> we could barely finish our pasta, not to mention they obviously give you bread and pita to snack on while you wait </span><span style='background-color:rgba(0,230.70437729358673,0,0.6)'> nevertheless we didn't have to wait along anyway, the pasta came pretty quickly and was very hot </span><span style='background-color:rgba(0,188.1387573480606,0,0.6)'> service is lovely, restaurant has a nice, warm, and welcoming ambience </span><span style='background-color:rgba(0,216.3866999745369,0,0.6)'> would recommend </span>"
            ],
            "text/plain": [
              "<IPython.core.display.HTML object>"
            ]
          },
          "metadata": {}
        },
        {
          "output_type": "stream",
          "name": "stdout",
          "text": [
            "----- model predict : [5.4017528e-05] ----- real rate : 1.0\n"
          ]
        },
        {
          "output_type": "display_data",
          "data": {
            "text/html": [
              "<span style='background-color:rgba(0,nan,0,0.6)'>giving it one star because no option for zero </span><span style='background-color:rgba(0,nan,0,0.6)'> our server was rude </span><span style='background-color:rgba(0,nan,0,0.6)'> refused to serve a vegetarian anything but their meat dishes </span><span style='background-color:rgba(0,nan,0,0.6)'> when asked if someone could get just a simple plate of french fries, he refused that too </span><span style='background-color:rgba(0,nan,0,0.6)'> will never recommend </span>"
            ],
            "text/plain": [
              "<IPython.core.display.HTML object>"
            ]
          },
          "metadata": {}
        },
        {
          "output_type": "stream",
          "name": "stdout",
          "text": [
            "----- model predict : [3.469697e-05] ----- real rate : 1.0\n"
          ]
        },
        {
          "output_type": "display_data",
          "data": {
            "text/html": [
              "<span style='background-color:rgba(0,0.0,0,0.6)'>please avoid this restaurant </span><span style='background-color:rgba(0,0.0,0,0.6)'> we were recommended to come here by a friend </span><span style='background-color:rgba(0,0.0,0,0.6)'> we came with a party of for lunch </span><span style='background-color:rgba(0,0.0,0,0.6)'> we are american of asian descent </span><span style='background-color:rgba(0,0.0,0,0.6)'> marc a man in his thirties was our waiter </span><span style='background-color:rgba(0,0.0,0,0.6)'> our french is very weak but his english was okay and on the surface he seemed friendly enough </span><span style='background-color:rgba(0,0.0,0,0.6)'> sure there was a hint of condescension and what felt at times as making fun at us but we ignored it as par for the course </span><span style='background-color:rgba(0,0.0,0,0.6)'> when the bill came, something didn't feel right </span><span style='background-color:rgba(0,62.02822498977184,0,0.6)'> maybe the way he seemed extra nice, laying it on thick,calling me boss but something was off </span><span style='background-color:rgba(0,0.0,0,0.6)'> the bill (it was in french) was definitely higher than expected but not being able to read french it was not easy to find out why </span><span style='background-color:rgba(0,0.0,0,0.6)'> then after closer examination we noticed there were double charges of entrees </span><span style='background-color:rgba(0,0.0,0,0.6)'> instead of the bill being $ it was $ </span><span style='background-color:rgba(0,255.0,0,0.6)'> when we called him over to explain the over charges, he couldn't think of anything and muttered some nonsense of the manager putting the orders in wrong </span><span style='background-color:rgba(0,0.0,0,0.6)'> no legitimate answer what so ever </span><span style='background-color:rgba(0,0.0,0,0.6)'> my mother in law said when he came back he looked like a man who got caught with his hand in the cookie jar </span><span style='background-color:rgba(0,0.0,0,0.6)'> also his hands were shaking so much he couldn't process the credit card </span><span style='background-color:rgba(0,0.0,0,0.6)'> we thought we were going to a safe legitimate restaurant in bouillon pigalle but instead they tried to scam us </span><span style='background-color:rgba(0,0.0,0,0.6)'> please avoid this place </span>"
            ],
            "text/plain": [
              "<IPython.core.display.HTML object>"
            ]
          },
          "metadata": {}
        },
        {
          "output_type": "stream",
          "name": "stdout",
          "text": [
            "----- model predict : [0.9973648] ----- real rate : 5.0\n"
          ]
        },
        {
          "output_type": "display_data",
          "data": {
            "text/html": [
              "<span style='background-color:rgba(0,112.41962760686874,0,0.6)'>reservations a must </span><span style='background-color:rgba(0,161.07539355754852,0,0.6)'> the place was booked solid for nights when we went, so make sure you call to make a reservation </span><span style='background-color:rgba(0,248.10891777276993,0,0.6)'> the food here is really, really good </span><span style='background-color:rgba(0,255.0,0,0.6)'> of course, you'll need to get souffles, and if you can really eat a lot - and i mean a lot - go for the tasting menu </span><span style='background-color:rgba(0,235.26299268007278,0,0.6)'> you get three courses - an appetizer, main course, and dessert for - euros </span><span style='background-color:rgba(0,171.1764371395111,0,0.6)'> but i didn't finish the main course or the dessert </span><span style='background-color:rgba(0,171.04169636964798,0,0.6)'> the regular sized souffles are enormous </span><span style='background-color:rgba(0,187.21527010202408,0,0.6)'> the appetizer of goat cheese souffle and beets were probably my favorite </span><span style='background-color:rgba(0,192.91689455509186,0,0.6)'> i got the seafood souffle for the main course, and it was good, but i think a little strong of a flavor for how much souffle there was </span><span style='background-color:rgba(0,181.10282689332962,0,0.6)'> i would probably get something that i know i would like to eat a lot of </span><span style='background-color:rgba(0,148.10310244560242,0,0.6)'> the desserts we tried were the chocolate souffle (my favorite) and the grand marnier </span><span style='background-color:rgba(0,238.12434554100037,0,0.6)'> honestly, if you went here just for dessert, i wouldn't blame you </span><span style='background-color:rgba(0,177.64776349067688,0,0.6)'> probably the best part of the meal </span><span style='background-color:rgba(0,90.35438641905785,0,0.6)'> escargot pikefish souffle with crayfish sauce </span>"
            ],
            "text/plain": [
              "<IPython.core.display.HTML object>"
            ]
          },
          "metadata": {}
        },
        {
          "output_type": "stream",
          "name": "stdout",
          "text": [
            "----- model predict : [0.00081616] ----- real rate : 3.0\n"
          ]
        },
        {
          "output_type": "display_data",
          "data": {
            "text/html": [
              "<span style='background-color:rgba(0,nan,0,0.6)'>i feel the current star yelp rating did not live up to expectations </span><span style='background-color:rgba(0,nan,0,0.6)'> based on previous reviews, i expected better food </span><span style='background-color:rgba(0,nan,0,0.6)'> rating should be a  </span><span style='background-color:rgba(0,nan,0,0.6)'>i just can't give them a  </span><span style='background-color:rgba(0,nan,0,0.6)'> terrific, friendly service </span><span style='background-color:rgba(0,nan,0,0.6)'> staff speaks english and french </span><span style='background-color:rgba(0,nan,0,0.6)'> skip the calamari </span><span style='background-color:rgba(0,nan,0,0.6)'>tough and tasteless </span><span style='background-color:rgba(0,nan,0,0.6)'> regina pizza was very good </span><span style='background-color:rgba(0,nan,0,0.6)'> i would go back, but it wouldn't be my first choice </span>"
            ],
            "text/plain": [
              "<IPython.core.display.HTML object>"
            ]
          },
          "metadata": {}
        },
        {
          "output_type": "stream",
          "name": "stdout",
          "text": [
            "----- model predict : [0.966279] ----- real rate : 5.0\n"
          ]
        },
        {
          "output_type": "display_data",
          "data": {
            "text/html": [
              "<span style='background-color:rgba(0,85.65031483769417,0,0.6)'>best falafel around - a must after an afternoon trekking around the city or late at night after a few drinks </span><span style='background-color:rgba(0,255.0,0,0.6)'> the take away line moves quickly even if it seems long (its more than worth it) </span>"
            ],
            "text/plain": [
              "<IPython.core.display.HTML object>"
            ]
          },
          "metadata": {}
        },
        {
          "output_type": "stream",
          "name": "stdout",
          "text": [
            "----- model predict : [0.9643292] ----- real rate : 4.0\n"
          ]
        },
        {
          "output_type": "display_data",
          "data": {
            "text/html": [
              "<span style='background-color:rgba(0,231.1734241247177,0,0.6)'>people and food is amazing here i had a burger that was full of flavor and to die for </span><span style='background-color:rgba(0,255.0,0,0.6)'> setting is great for a date night or to grab a bite to eat with some friends </span>"
            ],
            "text/plain": [
              "<IPython.core.display.HTML object>"
            ]
          },
          "metadata": {}
        },
        {
          "output_type": "stream",
          "name": "stdout",
          "text": [
            "----- model predict : [0.991642] ----- real rate : 4.0\n"
          ]
        },
        {
          "output_type": "display_data",
          "data": {
            "text/html": [
              "<span style='background-color:rgba(0,30.729733854532242,0,0.6)'>perfect early spring day lunch location </span><span style='background-color:rgba(0,232.73755699396133,0,0.6)'> a lot of good places in this area so it was hard to choose </span><span style='background-color:rgba(0,201.5626010298729,0,0.6)'> excellent salads du jour </span><span style='background-color:rgba(0,164.6467763185501,0,0.6)'> today was mango, chicken, pineapple, sesame, fresh ginger and carrots </span><span style='background-color:rgba(0,134.86098021268845,0,0.6)'> my friend had the salmon cream cheese club with salad </span><span style='background-color:rgba(0,234.85100358724594,0,0.6)'> € each </span><span style='background-color:rgba(0,110.16080841422081,0,0.6)'> plus a coffee and a piece of lemon cake which was a bit dry unfortunately </span><span style='background-color:rgba(0,255.0,0,0.6)'> nice ambiance for a working lunch </span><span style='background-color:rgba(0,241.53645604848862,0,0.6)'> decent service </span>"
            ],
            "text/plain": [
              "<IPython.core.display.HTML object>"
            ]
          },
          "metadata": {}
        },
        {
          "output_type": "stream",
          "name": "stdout",
          "text": [
            "----- model predict : [0.4867197] ----- real rate : 3.0\n"
          ]
        },
        {
          "output_type": "display_data",
          "data": {
            "text/html": [
              "<span style='background-color:rgba(0,151.75297379493713,0,0.6)'>the bar itself was very beautiful and quite mysterious as you enter into the low lit area past the host booth and allow your eyes to adjust to the dimmer light after exiting from the streets of paris </span><span style='background-color:rgba(0,203.77780616283417,0,0.6)'> the asian cuisine was good but not any better than anything i could get from a much more economical restaurant back in los angeles </span><span style='background-color:rgba(0,229.19885247945786,0,0.6)'> i had a very strong drink of absinthe which almost took my breath away with every swallow </span><span style='background-color:rgba(0,255.0,0,0.6)'> i recommend coming with a group instead of as a couple if you want to sit at the larger round tables in the middle of the restaurant </span><span style='background-color:rgba(0,215.98243206739426,0,0.6)'> otherwise you will be relegated to the small tables barely able to seat two people so cramped in with other couples that you will have no choice but to eavesdrop on their conversations </span>"
            ],
            "text/plain": [
              "<IPython.core.display.HTML object>"
            ]
          },
          "metadata": {}
        },
        {
          "output_type": "stream",
          "name": "stdout",
          "text": [
            "----- model predict : [0.99939156] ----- real rate : 5.0\n"
          ]
        },
        {
          "output_type": "display_data",
          "data": {
            "text/html": [
              "<span style='background-color:rgba(0,98.44182685017586,0,0.6)'>first, this is definitely one of the best sandwiches i've ever had in my life </span><span style='background-color:rgba(0,255.0,0,0.6)'> second, don't come in here if you're in a huge rush because all sandwiches are prepared by chef alain himself with his support staff so it can take up for - mins minimum before you have food in hand </span><span style='background-color:rgba(0,242.74705588817596,0,0.6)'> so i hop in the line, which is by this point out the door, and start frantically looking up the items on the menu in an attempt to dechiper them into english, my french being almost non-existent and relegated to simple phrases such as \"merci beaucoup </span><span style='background-color:rgba(0,174.7853010892868,0,0.6)'>\" by the time i get up to the front, the man himself asks me what i want and i tell him the sandwich </span><span style='background-color:rgba(0,104.93309453129768,0,0.6)'> typically, you're supposed to pick and choose your toppings but he starts by slathering some olive oil on the bread and loading up the toppings: lettuce, caramelized onions, avocado, exceptionally thin sliced tomatoes, etc </span><span style='background-color:rgba(0,109.36483472585678,0,0.6)'> then he hands me two slices of cheese off the block to try, the cantal and comté </span><span style='background-color:rgba(0,82.4199789762497,0,0.6)'> both are amazing, but i end up settling on the cantal because it's got a bit more funk in the same way as a sharp cheddar </span><span style='background-color:rgba(0,93.15730601549149,0,0.6)'> my goodness i've never seen anyone load so much cheese onto a sandwich in the best way possible </span><span style='background-color:rgba(0,187.24740117788315,0,0.6)'> finally, i topped it off with the jambon cru turned out to be a imported ham from spain that looked similar to prosciutto from italy </span><span style='background-color:rgba(0,124.23151418566704,0,0.6)'> after some toasting in the back kitchen, the final masterpiece emerged out of the back kitchen piping hot and ready to eat </span><span style='background-color:rgba(0,126.78265929222107,0,0.6)'> my goodness did this thing taste as good as it looked </span><span style='background-color:rgba(0,117.58748710155487,0,0.6)'> just a quick word about the chef, he is amazingly sweet and charming and more than willing to go out of his way to leave an excellent impression </span><span style='background-color:rgba(0,125.27610093355179,0,0.6)'> the food that he makes is truly a reflection of his character and i couldn't have been happier to support his establishment </span>"
            ],
            "text/plain": [
              "<IPython.core.display.HTML object>"
            ]
          },
          "metadata": {}
        },
        {
          "output_type": "stream",
          "name": "stdout",
          "text": [
            "----- model predict : [0.9958727] ----- real rate : 5.0\n"
          ]
        },
        {
          "output_type": "display_data",
          "data": {
            "text/html": [
              "<span style='background-color:rgba(0,146.5976384282112,0,0.6)'>the purple french bistro, i just fell in love with this place when my cousin took me for the first time </span><span style='background-color:rgba(0,255.0,0,0.6)'> informal dining with fine dining dishes served by professional and efficient waiters </span><span style='background-color:rgba(0,244.00319248437881,0,0.6)'> as soon as you enter you feel the warmth and charm of the place </span><span style='background-color:rgba(0,224.3243220448494,0,0.6)'> i still laugh with my cousin about when she had asked the waiter, after ordering, to tell the kitchen to make sure that the food comes out quickly because we had an appointment to make </span><span style='background-color:rgba(0,234.11209523677826,0,0.6)'> the waiter responded that this is not a fast food restaurant and if we wanted food immediately we should eat at mcdonald's </span><span style='background-color:rgba(0,162.686385512352,0,0.6)'> others may take that as being rude, we just accepted it as the restaurant taking great care in producing delicious meals and ensuring that we took the time to enjoy the experience instead of scoffing it down </span><span style='background-color:rgba(0,138.7344467639923,0,0.6)'> we ordered the fixed price menu, with a choice of entree, main, and dessert </span><span style='background-color:rgba(0,148.9940482378006,0,0.6)'> i picked the beautifully cooked scallops which had a nice crust on the outside and was tender and creamy in the middle </span><span style='background-color:rgba(0,93.36067110300064,0,0.6)'> for mains, my steak was cooked perfectly rare with a side of french fries and salad and i ended my meal perfectly with a creme brûlée </span><span style='background-color:rgba(0,196.366805434227,0,0.6)'> i forgot what my cousin had, as i was too distracted with my own meal and we missed our appointment as well but it was well worth it </span><span style='background-color:rgba(0,133.54400128126144,0,0.6)'> i hope this restaurant sticks around and maintains its quality as i definitely would want to return again when i visit paris </span>"
            ],
            "text/plain": [
              "<IPython.core.display.HTML object>"
            ]
          },
          "metadata": {}
        },
        {
          "output_type": "stream",
          "name": "stdout",
          "text": [
            "----- model predict : [0.78610307] ----- real rate : 4.0\n"
          ]
        },
        {
          "output_type": "display_data",
          "data": {
            "text/html": [
              "<span style='background-color:rgba(0,106.72425001859665,0,0.6)'>def love this place, great food and even better service </span><span style='background-color:rgba(0,255.0,0,0.6)'> the portions are extremely large so eater beware </span><span style='background-color:rgba(0,197.1239224076271,0,0.6)'> the down side was the  </span><span style='background-color:rgba(0,191.98588371276855,0,0.6)'>€ coke and the single toilet for the ladies </span><span style='background-color:rgba(0,155.09588241577148,0,0.6)'> there decorations are very rustic and so is the seating, def not for very large people </span><span style='background-color:rgba(0,151.4219355583191,0,0.6)'> i saw many people spilling over their seats </span><span style='background-color:rgba(0,171.85581028461456,0,0.6)'> if you're large, try to get a bench </span><span style='background-color:rgba(0,97.70262211561203,0,0.6)'> will return in the distant future as it will take that long to digest this current meal </span>"
            ],
            "text/plain": [
              "<IPython.core.display.HTML object>"
            ]
          },
          "metadata": {}
        },
        {
          "output_type": "stream",
          "name": "stdout",
          "text": [
            "----- model predict : [0.00018229] ----- real rate : 2.0\n"
          ]
        },
        {
          "output_type": "display_data",
          "data": {
            "text/html": [
              "<span style='background-color:rgba(0,nan,0,0.6)'>the service is truly horrible here </span><span style='background-color:rgba(0,nan,0,0.6)'> you will never see the staff after you order </span><span style='background-color:rgba(0,nan,0,0.6)'> the food is not terrible but it's just ok </span><span style='background-color:rgba(0,nan,0,0.6)'> it just isn't worth the time to go here with so many other options </span><span style='background-color:rgba(0,nan,0,0.6)'> it's a nice location with outdoor seating </span><span style='background-color:rgba(0,nan,0,0.6)'> i would not order anything special if you do come here but skipping it is a better option </span>"
            ],
            "text/plain": [
              "<IPython.core.display.HTML object>"
            ]
          },
          "metadata": {}
        },
        {
          "output_type": "stream",
          "name": "stdout",
          "text": [
            "----- model predict : [0.9977289] ----- real rate : 5.0\n"
          ]
        },
        {
          "output_type": "display_data",
          "data": {
            "text/html": [
              "<span style='background-color:rgba(0,31.27351127564907,0,0.6)'>oh i dream about these sandwiches </span><span style='background-color:rgba(0,145.93547075986862,0,0.6)'> they are massive </span><span style='background-color:rgba(0,163.99784713983536,0,0.6)'> they have ridiculous names </span><span style='background-color:rgba(0,107.4055078625679,0,0.6)'> they are super fresh, made right there in front of you when you order </span><span style='background-color:rgba(0,78.87710988521576,0,0.6)'> they are original, with fillings like tandoori chicken, smoked salmon, blue cheese they are made with thin focaccia-esque bread that is perfection - so much so that i have been known to buy it plain </span><span style='background-color:rgba(0,76.02181389927864,0,0.6)'> it is fluffy and chewy at the same time, tender with olive oil, and topped off with a golden brown delicately crunchy crust </span><span style='background-color:rgba(0,118.3684591948986,0,0.6)'> they bake it fresh in the shop, and each long loaf is warmed up in the little wood burning oven behind the counter before being sliced up for sandwich making </span><span style='background-color:rgba(0,135.7889512181282,0,0.6)'> and if you time it right (i </span><span style='background-color:rgba(0,191.57745122909546,0,0.6)'>e </span><span style='background-color:rgba(0,199.31283295154572,0,0.6)'> if you are a huge addict like me who comes here far too often) you can arrive just in time for the piping hot bread </span><span style='background-color:rgba(0,195.61535775661469,0,0.6)'> you can choose from the combinations on the menu or fashion your own unique creation from the dozens of ingredients available </span><span style='background-color:rgba(0,175.5814191699028,0,0.6)'> fun </span><span style='background-color:rgba(0,211.23682111501694,0,0.6)'> yes but i obviously tend to get carried away and it ends up getting expensive </span><span style='background-color:rgba(0,173.13444167375565,0,0.6)'> they offer salads too but honestly i cannot keep myself away from the ample quantity of delicious flatbread the sandwiches provide </span><span style='background-color:rgba(0,255.0,0,0.6)'> my old standard is the stonker: fresh mozzarella, tomatoes, and heaps of arugula with a generous drizzle of olive oil and freshly grated parmesan that gives it a delightful twang </span><span style='background-color:rgba(0,89.2092190682888,0,0.6)'> take your food to go or eat upstairs, serenaded by opera music - this place takes its name from mozart's 'cosi fan tutte' </span>"
            ],
            "text/plain": [
              "<IPython.core.display.HTML object>"
            ]
          },
          "metadata": {}
        },
        {
          "output_type": "stream",
          "name": "stdout",
          "text": [
            "----- model predict : [0.5048001] ----- real rate : 5.0\n"
          ]
        },
        {
          "output_type": "display_data",
          "data": {
            "text/html": [
              "<span style='background-color:rgba(0,96.48583620786667,0,0.6)'>this place is not overhyped  </span><span style='background-color:rgba(0,114.84520465135574,0,0.6)'> while in paris (on a friday during lent), the hubby and i were checking yelp to find a place to have a meatless lunch </span><span style='background-color:rgba(0,173.7648430466652,0,0.6)'> l'as du fallafel popped up with awesome reviews, and i remembered phil rosenthal had tried this place on his show \"i'll have what phil's having\" </span><span style='background-color:rgba(0,224.03176814317703,0,0.6)'> now pumped, we walked to this little place </span><span style='background-color:rgba(0,255.0,0,0.6)'> there was a relatively short line, but got longer behind us as we waited for our turn to get to the window and receive our fallafels </span><span style='background-color:rgba(0,159.42505091428757,0,0.6)'> when we reached the window, our fallafel was assembled right in front of us, with the fresh veggies, amazeball sauces, and the crispiest, most flavorful fallafels i've ever had </span><span style='background-color:rgba(0,118.8108542561531,0,0.6)'> but one of the best things in that fallafel was the eggplant </span><span style='background-color:rgba(0,62.667008712887764,0,0.6)'> i don't know what they did to it, but it had the most delicious grilled eggplant-y flavor that still had wonderful texture, not too smooshy </span><span style='background-color:rgba(0,87.33978018164635,0,0.6)'> we wanted to go back the next day, but they are closed on saturdays (according to yelp) </span><span style='background-color:rgba(0,121.61199554800987,0,0.6)'> when we get another chance to go back to paris, l'as du fallafel will definitely be on our list of places to revisit </span>"
            ],
            "text/plain": [
              "<IPython.core.display.HTML object>"
            ]
          },
          "metadata": {}
        },
        {
          "output_type": "stream",
          "name": "stdout",
          "text": [
            "----- model predict : [0.89091474] ----- real rate : 5.0\n"
          ]
        },
        {
          "output_type": "display_data",
          "data": {
            "text/html": [
              "<span style='background-color:rgba(0,84.60692882537842,0,0.6)'>wanted to try something a little different and very happy that we did </span><span style='background-color:rgba(0,255.0,0,0.6)'> his is a very small place jus off the river and the have amazing potato au gratin dishes </span><span style='background-color:rgba(0,220.08177369832993,0,0.6)'> each dish is bigger than we expected so we over ordered, definitely could have split among people </span><span style='background-color:rgba(0,102.90325865149498,0,0.6)'> this place is small so it can take a little while for your food, but it is worth the wait </span>"
            ],
            "text/plain": [
              "<IPython.core.display.HTML object>"
            ]
          },
          "metadata": {}
        },
        {
          "output_type": "stream",
          "name": "stdout",
          "text": [
            "----- model predict : [0.44217342] ----- real rate : 4.0\n"
          ]
        },
        {
          "output_type": "display_data",
          "data": {
            "text/html": [
              "<span style='background-color:rgba(0,122.23496451973915,0,0.6)'>les étoiles sont clairement destinées aux hamburgers, c'est pour eux que l'on vient et reviendra </span><span style='background-color:rgba(0,237.8837576508522,0,0.6)'> le \"double extra onion burger\" a particulièrement retenu mon </span><span style='background-color:rgba(0,255.0,0,0.6)'> attention :p le \"double three in one burger\" </span><span style='background-color:rgba(0,252.192665040493,0,0.6)'> :p </span>"
            ],
            "text/plain": [
              "<IPython.core.display.HTML object>"
            ]
          },
          "metadata": {}
        }
      ]
    },
    {
      "cell_type": "code",
      "metadata": {
        "colab": {
          "base_uri": "https://localhost:8080/",
          "height": 206
        },
        "id": "IsEYanJ9Hsuc",
        "outputId": "b08e1ac7-5260-4b1a-8ade-380fbb4fc88b"
      },
      "source": [
        "dataset.head()"
      ],
      "execution_count": 66,
      "outputs": [
        {
          "output_type": "execute_result",
          "data": {
            "text/html": [
              "<div>\n",
              "<style scoped>\n",
              "    .dataframe tbody tr th:only-of-type {\n",
              "        vertical-align: middle;\n",
              "    }\n",
              "\n",
              "    .dataframe tbody tr th {\n",
              "        vertical-align: top;\n",
              "    }\n",
              "\n",
              "    .dataframe thead th {\n",
              "        text-align: right;\n",
              "    }\n",
              "</style>\n",
              "<table border=\"1\" class=\"dataframe\">\n",
              "  <thead>\n",
              "    <tr style=\"text-align: right;\">\n",
              "      <th></th>\n",
              "      <th>review_clean</th>\n",
              "      <th>review_sentences</th>\n",
              "      <th>embedding</th>\n",
              "      <th>rate</th>\n",
              "    </tr>\n",
              "  </thead>\n",
              "  <tbody>\n",
              "    <tr>\n",
              "      <th>0</th>\n",
              "      <td>!!! a theif working amongst you!!! myself, my ...</td>\n",
              "      <td>[ a theif working amongst you,  myself, my sis...</td>\n",
              "      <td>[[0.045603834, -0.017338777, 0.0012167644, 0.0...</td>\n",
              "      <td>1.0</td>\n",
              "    </tr>\n",
              "    <tr>\n",
              "      <th>1</th>\n",
              "      <td>\"\"\"\"avoid at all costs\"\"\"\"\"\" this was an absol...</td>\n",
              "      <td>[\"\"\"\"avoid at all costs\"\"\"\"\"\" this was an abso...</td>\n",
              "      <td>[[0.019589972, 0.048924193, -0.015198772, -0.0...</td>\n",
              "      <td>1.0</td>\n",
              "    </tr>\n",
              "    <tr>\n",
              "      <th>2</th>\n",
              "      <td>\"$$$\" food but only at a \"$\" price. will be co...</td>\n",
              "      <td>[\"$$$\" food but only at a \"$\" price,  will be ...</td>\n",
              "      <td>[[0.016501594, 0.1083755, 0.014006043, -0.0319...</td>\n",
              "      <td>5.0</td>\n",
              "    </tr>\n",
              "    <tr>\n",
              "      <th>3</th>\n",
              "      <td>\"a middle finger salute\" well i haven't had ma...</td>\n",
              "      <td>[\"a middle finger salute\" well i haven't had m...</td>\n",
              "      <td>[[0.019542666, -0.017905522, 0.0037664298, 0.0...</td>\n",
              "      <td>1.0</td>\n",
              "    </tr>\n",
              "    <tr>\n",
              "      <th>4</th>\n",
              "      <td>\"a true disappointment and a waste of money an...</td>\n",
              "      <td>[\"a true disappointment and a waste of money a...</td>\n",
              "      <td>[[0.036009785, 0.0029092361, 0.0132899275, 0.0...</td>\n",
              "      <td>1.0</td>\n",
              "    </tr>\n",
              "  </tbody>\n",
              "</table>\n",
              "</div>"
            ],
            "text/plain": [
              "                                        review_clean  ... rate\n",
              "0  !!! a theif working amongst you!!! myself, my ...  ...  1.0\n",
              "1  \"\"\"\"avoid at all costs\"\"\"\"\"\" this was an absol...  ...  1.0\n",
              "2  \"$$$\" food but only at a \"$\" price. will be co...  ...  5.0\n",
              "3  \"a middle finger salute\" well i haven't had ma...  ...  1.0\n",
              "4  \"a true disappointment and a waste of money an...  ...  1.0\n",
              "\n",
              "[5 rows x 4 columns]"
            ]
          },
          "metadata": {},
          "execution_count": 66
        }
      ]
    },
    {
      "cell_type": "markdown",
      "metadata": {
        "id": "JCOJICwwjvDw"
      },
      "source": [
        "### MULTICLASS"
      ]
    },
    {
      "cell_type": "code",
      "metadata": {
        "id": "76FLG_I4nlxm"
      },
      "source": [
        "def cat_model():\n",
        "  model=models.Sequential()\n",
        "  model.add(layers.Conv1D(300,3,padding='same',input_shape=(30,768)))\n",
        "  model.add(layers.MaxPool1D(2))\n",
        "  model.add(layers.Conv1D(300,3,padding='same'))\n",
        "  model.add(layers.MaxPool1D(2))\n",
        "  model.add(layers.Flatten())\n",
        "  model.add(layers.Dense(130,activation='relu'))\n",
        "  model.add(layers.Dense(6,activation='softmax'))\n",
        "  \n",
        "  model.compile(optimizer='adam',loss='categorical_crossentropy',metrics=['accuracy'])\n",
        "\n",
        "  return model"
      ],
      "execution_count": null,
      "outputs": []
    },
    {
      "cell_type": "code",
      "metadata": {
        "id": "2P6AMUwJnxTx"
      },
      "source": [
        "cat_model=cat_model()"
      ],
      "execution_count": null,
      "outputs": []
    },
    {
      "cell_type": "code",
      "metadata": {
        "id": "Y9bJOualn9qJ"
      },
      "source": [
        "# Pad the training and test embedded sentences\n",
        "X_train_pad = pad_sequences(X_cat_train, dtype='float32', padding='post', maxlen=30)\n",
        "X_test_pad = pad_sequences(X_cat_test, dtype='float32', padding='post', maxlen=30)"
      ],
      "execution_count": null,
      "outputs": []
    },
    {
      "cell_type": "code",
      "metadata": {
        "colab": {
          "base_uri": "https://localhost:8080/",
          "height": 434
        },
        "id": "TWs_MaP-n0Zi",
        "outputId": "56f718a7-7df3-41eb-d4c7-8b826086f187"
      },
      "source": [
        "es=EarlyStopping(patience=2,restore_best_weights=True)\n",
        "history = cat_model.fit(X_train_pad,y_cat_train,validation_split=.2,batch_size=32,epochs=50,callbacks=[es])\n",
        "plot_loss_metrics(history)"
      ],
      "execution_count": null,
      "outputs": [
        {
          "output_type": "stream",
          "name": "stdout",
          "text": [
            "Epoch 1/50\n",
            "263/263 [==============================] - 5s 16ms/step - loss: 1.0332 - accuracy: 0.5286 - val_loss: 0.9657 - val_accuracy: 0.5714\n",
            "Epoch 2/50\n",
            "263/263 [==============================] - 3s 13ms/step - loss: 0.8432 - accuracy: 0.6261 - val_loss: 0.8999 - val_accuracy: 0.6029\n",
            "Epoch 3/50\n",
            "263/263 [==============================] - 3s 12ms/step - loss: 0.7036 - accuracy: 0.6930 - val_loss: 1.0315 - val_accuracy: 0.5657\n",
            "Epoch 4/50\n",
            "263/263 [==============================] - 3s 13ms/step - loss: 0.5150 - accuracy: 0.7907 - val_loss: 1.1408 - val_accuracy: 0.5690\n"
          ]
        },
        {
          "output_type": "display_data",
          "data": {
            "image/png": "[encoded data removed]",
            "text/plain": [
              "<Figure size 936x288 with 2 Axes>"
            ]
          },
          "metadata": {
            "needs_background": "light"
          }
        }
      ]
    },
    {
      "cell_type": "code",
      "metadata": {
        "id": "w85GO3mfoDGv"
      },
      "source": [
        ""
      ],
      "execution_count": null,
      "outputs": []
    }
  ]
}