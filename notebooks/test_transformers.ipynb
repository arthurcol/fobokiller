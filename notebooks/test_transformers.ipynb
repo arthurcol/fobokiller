{
 "cells": [
  {
   "cell_type": "code",
   "execution_count": 303,
   "id": "bad22fd0",
   "metadata": {},
   "outputs": [],
   "source": [
    "import pandas as pd\n",
    "import numpy as np\n",
    "import string\n",
    "from nltk.corpus import stopwords\n",
    "from nltk.tokenize import word_tokenize\n",
    "import seaborn as sns\n",
    "import matplotlib.pyplot as plt\n",
    "import pandas as pd\n",
    "import numpy as np\n",
    "from datetime import datetime\n",
    "import re\n",
    "data = pd.read_csv('../fobokiller/data/scrapping_cleaned.csv',nrows=20000,index_col=0)\n",
    "data.head()\n",
    "#from gsdmm import MovieGroupProcess\n",
    "\n",
    "from gensim.models.coherencemodel import CoherenceModel\n",
    "from gensim import corpora, models\n",
    "from gensim.utils import simple_preprocess\n",
    "import gensim, spacy\n",
    "from gensim.models.ldamulticore import LdaMulticore\n",
    "import re\n",
    "\n",
    "\n",
    "from gensim.models import Phrases\n",
    "from gensim.models.phrases import Phraser"
   ]
  },
  {
   "cell_type": "code",
   "execution_count": 304,
   "id": "8471db9c",
   "metadata": {},
   "outputs": [
    {
     "data": {
      "text/html": [
       "<div>\n",
       "<style scoped>\n",
       "    .dataframe tbody tr th:only-of-type {\n",
       "        vertical-align: middle;\n",
       "    }\n",
       "\n",
       "    .dataframe tbody tr th {\n",
       "        vertical-align: top;\n",
       "    }\n",
       "\n",
       "    .dataframe thead th {\n",
       "        text-align: right;\n",
       "    }\n",
       "</style>\n",
       "<table border=\"1\" class=\"dataframe\">\n",
       "  <thead>\n",
       "    <tr style=\"text-align: right;\">\n",
       "      <th></th>\n",
       "      <th>alias</th>\n",
       "      <th>date</th>\n",
       "      <th>rate</th>\n",
       "      <th>review</th>\n",
       "      <th>review_clean</th>\n",
       "    </tr>\n",
       "  </thead>\n",
       "  <tbody>\n",
       "    <tr>\n",
       "      <th>0</th>\n",
       "      <td>le-sud-paris</td>\n",
       "      <td>2018-11-20</td>\n",
       "      <td>5</td>\n",
       "      <td>Ed W.\\nElite 2021\\nMiami, FL\\n259\\n562\\n4232\\n...</td>\n",
       "      <td>traditional parisian cooking style restaurant ...</td>\n",
       "    </tr>\n",
       "    <tr>\n",
       "      <th>1</th>\n",
       "      <td>le-sud-paris</td>\n",
       "      <td>2021-07-04</td>\n",
       "      <td>2</td>\n",
       "      <td>Jaki F.\\nElite 2021\\nSignal Hill, CA\\n358\\n270...</td>\n",
       "      <td>im sure happening restaurant excited dine serv...</td>\n",
       "    </tr>\n",
       "    <tr>\n",
       "      <th>2</th>\n",
       "      <td>le-sud-paris</td>\n",
       "      <td>2018-06-20</td>\n",
       "      <td>3</td>\n",
       "      <td>Jen S.\\nElite 2021\\nBuffalo, NY\\n71\\n322\\n809\\...</td>\n",
       "      <td>ambience enticing end day definitely directed ...</td>\n",
       "    </tr>\n",
       "    <tr>\n",
       "      <th>3</th>\n",
       "      <td>le-sud-paris</td>\n",
       "      <td>2015-09-28</td>\n",
       "      <td>3</td>\n",
       "      <td>Sam S.\\nElite 2021\\nMunich, Germany\\n2133\\n255...</td>\n",
       "      <td>ambience star opinion expensive tourist trap m...</td>\n",
       "    </tr>\n",
       "    <tr>\n",
       "      <th>4</th>\n",
       "      <td>le-sud-paris</td>\n",
       "      <td>2019-08-08</td>\n",
       "      <td>1</td>\n",
       "      <td>Fahad A.\\nLos Angeles, CA\\n0\\n10\\n15\\n8/8/2019...</td>\n",
       "      <td>worst restaurant ever servers help us food bla...</td>\n",
       "    </tr>\n",
       "    <tr>\n",
       "      <th>...</th>\n",
       "      <td>...</td>\n",
       "      <td>...</td>\n",
       "      <td>...</td>\n",
       "      <td>...</td>\n",
       "      <td>...</td>\n",
       "    </tr>\n",
       "    <tr>\n",
       "      <th>19995</th>\n",
       "      <td>flottes-paris</td>\n",
       "      <td>2016-07-18</td>\n",
       "      <td>5</td>\n",
       "      <td>Mary W.\\nFlossmoor, IL\\n78\\n15\\n55\\n7/18/2016\\...</td>\n",
       "      <td>four night stay hotel castille famous rue camb...</td>\n",
       "    </tr>\n",
       "    <tr>\n",
       "      <th>19996</th>\n",
       "      <td>flottes-paris</td>\n",
       "      <td>2019-07-09</td>\n",
       "      <td>5</td>\n",
       "      <td>Alexei R.\\nMountain View, CA\\n49\\n15\\n4\\n7/9/2...</td>\n",
       "      <td>stopped steak tartare entire meal amazing oyst...</td>\n",
       "    </tr>\n",
       "    <tr>\n",
       "      <th>19997</th>\n",
       "      <td>flottes-paris</td>\n",
       "      <td>2019-06-10</td>\n",
       "      <td>4</td>\n",
       "      <td>Tierra H.\\nAltadena, CA\\n29\\n63\\n20\\n6/10/2019...</td>\n",
       "      <td>french onion soup amazing place take reservati...</td>\n",
       "    </tr>\n",
       "    <tr>\n",
       "      <th>19998</th>\n",
       "      <td>flottes-paris</td>\n",
       "      <td>2016-01-25</td>\n",
       "      <td>4</td>\n",
       "      <td>Steven H.\\nElite 2021\\nMadison, NJ\\n404\\n491\\n...</td>\n",
       "      <td>ate twice recent trip paris first meal late lu...</td>\n",
       "    </tr>\n",
       "    <tr>\n",
       "      <th>19999</th>\n",
       "      <td>flottes-paris</td>\n",
       "      <td>2019-05-22</td>\n",
       "      <td>4</td>\n",
       "      <td>Olive O.\\nKaty, TX\\n0\\n75\\n6\\n5/22/2019\\nGreat...</td>\n",
       "      <td>great spot near concorde definitely recommend ...</td>\n",
       "    </tr>\n",
       "  </tbody>\n",
       "</table>\n",
       "<p>20000 rows × 5 columns</p>\n",
       "</div>"
      ],
      "text/plain": [
       "               alias        date  rate  \\\n",
       "0       le-sud-paris  2018-11-20     5   \n",
       "1       le-sud-paris  2021-07-04     2   \n",
       "2       le-sud-paris  2018-06-20     3   \n",
       "3       le-sud-paris  2015-09-28     3   \n",
       "4       le-sud-paris  2019-08-08     1   \n",
       "...              ...         ...   ...   \n",
       "19995  flottes-paris  2016-07-18     5   \n",
       "19996  flottes-paris  2019-07-09     5   \n",
       "19997  flottes-paris  2019-06-10     4   \n",
       "19998  flottes-paris  2016-01-25     4   \n",
       "19999  flottes-paris  2019-05-22     4   \n",
       "\n",
       "                                                  review  \\\n",
       "0      Ed W.\\nElite 2021\\nMiami, FL\\n259\\n562\\n4232\\n...   \n",
       "1      Jaki F.\\nElite 2021\\nSignal Hill, CA\\n358\\n270...   \n",
       "2      Jen S.\\nElite 2021\\nBuffalo, NY\\n71\\n322\\n809\\...   \n",
       "3      Sam S.\\nElite 2021\\nMunich, Germany\\n2133\\n255...   \n",
       "4      Fahad A.\\nLos Angeles, CA\\n0\\n10\\n15\\n8/8/2019...   \n",
       "...                                                  ...   \n",
       "19995  Mary W.\\nFlossmoor, IL\\n78\\n15\\n55\\n7/18/2016\\...   \n",
       "19996  Alexei R.\\nMountain View, CA\\n49\\n15\\n4\\n7/9/2...   \n",
       "19997  Tierra H.\\nAltadena, CA\\n29\\n63\\n20\\n6/10/2019...   \n",
       "19998  Steven H.\\nElite 2021\\nMadison, NJ\\n404\\n491\\n...   \n",
       "19999  Olive O.\\nKaty, TX\\n0\\n75\\n6\\n5/22/2019\\nGreat...   \n",
       "\n",
       "                                            review_clean  \n",
       "0      traditional parisian cooking style restaurant ...  \n",
       "1      im sure happening restaurant excited dine serv...  \n",
       "2      ambience enticing end day definitely directed ...  \n",
       "3      ambience star opinion expensive tourist trap m...  \n",
       "4      worst restaurant ever servers help us food bla...  \n",
       "...                                                  ...  \n",
       "19995  four night stay hotel castille famous rue camb...  \n",
       "19996  stopped steak tartare entire meal amazing oyst...  \n",
       "19997  french onion soup amazing place take reservati...  \n",
       "19998  ate twice recent trip paris first meal late lu...  \n",
       "19999  great spot near concorde definitely recommend ...  \n",
       "\n",
       "[20000 rows x 5 columns]"
      ]
     },
     "execution_count": 304,
     "metadata": {},
     "output_type": "execute_result"
    }
   ],
   "source": [
    "data"
   ]
  },
  {
   "cell_type": "code",
   "execution_count": 307,
   "id": "63f858aa",
   "metadata": {
    "ExecuteTime": {
     "end_time": "2021-11-24T09:57:16.332016Z",
     "start_time": "2021-11-24T09:57:16.326538Z"
    }
   },
   "outputs": [
    {
     "name": "stderr",
     "output_type": "stream",
     "text": [
      "<>:4: DeprecationWarning: invalid escape sequence \\s\n",
      "<>:4: DeprecationWarning: invalid escape sequence \\s\n",
      "/var/folders/s6/nxj_k6112bj7cnd89_8b9l0c0000gn/T/ipykernel_20220/1624601247.py:4: DeprecationWarning: invalid escape sequence \\s\n",
      "  data['review_list'] = [re.sub('\\s+', ' ', sent) for sent in data['review_list']]\n"
     ]
    }
   ],
   "source": [
    "data['review_list'] = data.review_clean.values.tolist()\n",
    "\n",
    "# remove characters\n",
    "data['review_list'] = [re.sub('\\s+', ' ', sent) for sent in data['review_list']]\n",
    "data['review_list'] = [re.sub(\"\\'\", \"\", sent) for sent in data['review_list']]\n",
    "\n",
    "def sent_to_words(sentences):\n",
    "    for sentence in sentences:\n",
    "        yield(gensim.utils.simple_preprocess(str(sentence), deacc=True))\n",
    "        \n",
    "# create N-grams\n",
    "def make_n_grams(texts):\n",
    "    bigram = gensim.models.Phrases(texts, min_count=5, threshold=100)  # higher threshold fewer phrases.\n",
    "    bigram_mod = gensim.models.phrases.Phraser(bigram)\n",
    "    trigram = gensim.models.Phrases(bigram[texts], threshold=100)\n",
    "    trigram_mod = gensim.models.phrases.Phraser(trigram)\n",
    "    bigrams_text = [bigram_mod[doc] for doc in texts]\n",
    "    trigrams_text =  [trigram_mod[bigram_mod[doc]] for doc in bigrams_text]\n",
    "    return trigrams_text"
   ]
  },
  {
   "cell_type": "code",
   "execution_count": 308,
   "id": "5fd0af6a",
   "metadata": {
    "ExecuteTime": {
     "end_time": "2021-11-24T09:57:17.445227Z",
     "start_time": "2021-11-24T09:57:17.441927Z"
    }
   },
   "outputs": [],
   "source": [
    "#function to keep digit from rate string\n",
    "def keep_digit(rate):\n",
    "    for char in rate.split():\n",
    "        if char.isdigit():\n",
    "            return int(char)\n",
    "    pass"
   ]
  },
  {
   "cell_type": "code",
   "execution_count": 309,
   "id": "95de5977",
   "metadata": {
    "ExecuteTime": {
     "end_time": "2021-11-24T09:57:17.908833Z",
     "start_time": "2021-11-24T09:57:17.904505Z"
    }
   },
   "outputs": [],
   "source": [
    "tokens_reviews = list(sent_to_words(data['review_list']))"
   ]
  },
  {
   "cell_type": "code",
   "execution_count": 310,
   "id": "4741786e",
   "metadata": {
    "ExecuteTime": {
     "end_time": "2021-11-24T09:57:18.352261Z",
     "start_time": "2021-11-24T09:57:18.342430Z"
    }
   },
   "outputs": [],
   "source": [
    "tokens_reviews = make_n_grams(tokens_reviews)"
   ]
  },
  {
   "cell_type": "code",
   "execution_count": 311,
   "id": "e46e99ca",
   "metadata": {},
   "outputs": [],
   "source": [
    "nlp = spacy.load('en_core_web_sm', disable=['parser', 'ner'])\n",
    "\n",
    "# I use gensim stop-words and add me own stop-words, based on texts\n",
    "def remove_stopwords(texts):\n",
    "    return [[word for word in simple_preprocess(str(doc)) if word not in gensim.parsing.preprocessing.STOPWORDS.union(set(['also', 'meanwhile','however', 'time', \n",
    "                                                                                                                           'hour', 'soon', 'day', 'book',                                                                                                       'think', 'value', 'include']))] for doc in texts]\n",
    "def lemmatization(texts, allowed_postags=['NOUN', 'ADJ', 'VERB', 'ADV']):\n",
    "    texts_out = []\n",
    "    for sent in texts:\n",
    "        doc = nlp(\" \".join(sent)) \n",
    "        texts_out.append([token.lemma_ for token in doc if token.pos_ in allowed_postags])\n",
    "    return texts_out"
   ]
  },
  {
   "cell_type": "code",
   "execution_count": 312,
   "id": "f5266e3c",
   "metadata": {},
   "outputs": [],
   "source": [
    "# do lemmatization keeping only noun, vb, adv\n",
    "# because adj is not informative for reviews topic modeling\n",
    "reviews_lemmatized = lemmatization(tokens_reviews, allowed_postags=['NOUN', 'VERB', 'ADV'])\n",
    "#reviews_lemmatized = tokens_reviews\n",
    "# remove stop words after lemmatization\n",
    "reviews_lemmatized = remove_stopwords(reviews_lemmatized)"
   ]
  },
  {
   "cell_type": "code",
   "execution_count": null,
   "id": "16f24c1b",
   "metadata": {},
   "outputs": [],
   "source": []
  },
  {
   "cell_type": "markdown",
   "id": "8ee5ca96",
   "metadata": {},
   "source": [
    "# LDA-model"
   ]
  },
  {
   "cell_type": "code",
   "execution_count": 318,
   "id": "c63b16e0",
   "metadata": {},
   "outputs": [],
   "source": [
    "id2word = corpora.Dictionary(reviews_lemmatized)\n",
    "id2word.filter_extremes(no_above=0.15,)\n",
    "texts = reviews_lemmatized\n",
    "corpus = [id2word.doc2bow(text) for text in texts]"
   ]
  },
  {
   "cell_type": "code",
   "execution_count": 319,
   "id": "5686708a",
   "metadata": {},
   "outputs": [],
   "source": [
    "# Use TF-IDF\n",
    "tfidf = models.TfidfModel(corpus)\n",
    "corpus_tfidf = tfidf[corpus]"
   ]
  },
  {
   "cell_type": "code",
   "execution_count": 320,
   "id": "884f5eba",
   "metadata": {},
   "outputs": [
    {
     "name": "stderr",
     "output_type": "stream",
     "text": [
      "WARNING:gensim.models.ldamulticore:too few updates, training might not converge; consider increasing the number of passes or iterations to improve accuracy\n"
     ]
    },
    {
     "name": "stdout",
     "output_type": "stream",
     "text": [
      "model created\n"
     ]
    },
    {
     "name": "stderr",
     "output_type": "stream",
     "text": [
      "WARNING:gensim.models.ldamulticore:too few updates, training might not converge; consider increasing the number of passes or iterations to improve accuracy\n"
     ]
    },
    {
     "name": "stdout",
     "output_type": "stream",
     "text": [
      "0.34058641293199254\n",
      "model created\n",
      "0.3615034055606488\n"
     ]
    },
    {
     "name": "stderr",
     "output_type": "stream",
     "text": [
      "WARNING:gensim.models.ldamulticore:too few updates, training might not converge; consider increasing the number of passes or iterations to improve accuracy\n"
     ]
    },
    {
     "name": "stdout",
     "output_type": "stream",
     "text": [
      "model created\n",
      "0.35769963561925044\n"
     ]
    },
    {
     "name": "stderr",
     "output_type": "stream",
     "text": [
      "WARNING:gensim.models.ldamulticore:too few updates, training might not converge; consider increasing the number of passes or iterations to improve accuracy\n"
     ]
    },
    {
     "name": "stdout",
     "output_type": "stream",
     "text": [
      "model created\n",
      "0.3617154506122445\n"
     ]
    },
    {
     "name": "stderr",
     "output_type": "stream",
     "text": [
      "WARNING:gensim.models.ldamulticore:too few updates, training might not converge; consider increasing the number of passes or iterations to improve accuracy\n"
     ]
    },
    {
     "name": "stdout",
     "output_type": "stream",
     "text": [
      "model created\n",
      "0.3626198445253166\n"
     ]
    },
    {
     "name": "stderr",
     "output_type": "stream",
     "text": [
      "WARNING:gensim.models.ldamulticore:too few updates, training might not converge; consider increasing the number of passes or iterations to improve accuracy\n"
     ]
    },
    {
     "name": "stdout",
     "output_type": "stream",
     "text": [
      "model created\n",
      "0.3586585499219005\n"
     ]
    },
    {
     "name": "stderr",
     "output_type": "stream",
     "text": [
      "WARNING:gensim.models.ldamulticore:too few updates, training might not converge; consider increasing the number of passes or iterations to improve accuracy\n"
     ]
    },
    {
     "name": "stdout",
     "output_type": "stream",
     "text": [
      "model created\n",
      "0.37514597835848057\n"
     ]
    },
    {
     "name": "stderr",
     "output_type": "stream",
     "text": [
      "WARNING:gensim.models.ldamulticore:too few updates, training might not converge; consider increasing the number of passes or iterations to improve accuracy\n"
     ]
    },
    {
     "name": "stdout",
     "output_type": "stream",
     "text": [
      "model created\n",
      "0.36309308117720535\n"
     ]
    },
    {
     "name": "stderr",
     "output_type": "stream",
     "text": [
      "WARNING:gensim.models.ldamulticore:too few updates, training might not converge; consider increasing the number of passes or iterations to improve accuracy\n"
     ]
    },
    {
     "name": "stdout",
     "output_type": "stream",
     "text": [
      "model created\n",
      "0.37266645899956147\n"
     ]
    },
    {
     "name": "stderr",
     "output_type": "stream",
     "text": [
      "WARNING:gensim.models.ldamulticore:too few updates, training might not converge; consider increasing the number of passes or iterations to improve accuracy\n"
     ]
    },
    {
     "name": "stdout",
     "output_type": "stream",
     "text": [
      "model created\n",
      "0.3751656354898931\n"
     ]
    },
    {
     "name": "stderr",
     "output_type": "stream",
     "text": [
      "WARNING:gensim.models.ldamulticore:too few updates, training might not converge; consider increasing the number of passes or iterations to improve accuracy\n"
     ]
    },
    {
     "name": "stdout",
     "output_type": "stream",
     "text": [
      "model created\n",
      "0.3732635549310779\n"
     ]
    },
    {
     "name": "stderr",
     "output_type": "stream",
     "text": [
      "WARNING:gensim.models.ldamulticore:too few updates, training might not converge; consider increasing the number of passes or iterations to improve accuracy\n"
     ]
    },
    {
     "name": "stdout",
     "output_type": "stream",
     "text": [
      "model created\n",
      "0.3654732424433858\n"
     ]
    },
    {
     "name": "stderr",
     "output_type": "stream",
     "text": [
      "WARNING:gensim.models.ldamulticore:too few updates, training might not converge; consider increasing the number of passes or iterations to improve accuracy\n"
     ]
    },
    {
     "name": "stdout",
     "output_type": "stream",
     "text": [
      "model created\n",
      "0.3832058818546768\n"
     ]
    },
    {
     "name": "stderr",
     "output_type": "stream",
     "text": [
      "WARNING:gensim.models.ldamulticore:too few updates, training might not converge; consider increasing the number of passes or iterations to improve accuracy\n"
     ]
    },
    {
     "name": "stdout",
     "output_type": "stream",
     "text": [
      "model created\n",
      "0.37264550765874643\n"
     ]
    },
    {
     "name": "stderr",
     "output_type": "stream",
     "text": [
      "WARNING:gensim.models.ldamulticore:too few updates, training might not converge; consider increasing the number of passes or iterations to improve accuracy\n"
     ]
    },
    {
     "name": "stdout",
     "output_type": "stream",
     "text": [
      "model created\n",
      "0.3740390470853781\n"
     ]
    },
    {
     "name": "stderr",
     "output_type": "stream",
     "text": [
      "WARNING:gensim.models.ldamulticore:too few updates, training might not converge; consider increasing the number of passes or iterations to improve accuracy\n"
     ]
    },
    {
     "name": "stdout",
     "output_type": "stream",
     "text": [
      "model created\n",
      "0.35340749437012786\n"
     ]
    },
    {
     "name": "stderr",
     "output_type": "stream",
     "text": [
      "WARNING:gensim.models.ldamulticore:too few updates, training might not converge; consider increasing the number of passes or iterations to improve accuracy\n"
     ]
    },
    {
     "name": "stdout",
     "output_type": "stream",
     "text": [
      "model created\n",
      "0.37023665914563164\n"
     ]
    },
    {
     "name": "stderr",
     "output_type": "stream",
     "text": [
      "WARNING:gensim.models.ldamulticore:too few updates, training might not converge; consider increasing the number of passes or iterations to improve accuracy\n"
     ]
    },
    {
     "name": "stdout",
     "output_type": "stream",
     "text": [
      "model created\n",
      "0.36211759346305245\n"
     ]
    },
    {
     "name": "stderr",
     "output_type": "stream",
     "text": [
      "WARNING:gensim.models.ldamulticore:too few updates, training might not converge; consider increasing the number of passes or iterations to improve accuracy\n"
     ]
    },
    {
     "name": "stdout",
     "output_type": "stream",
     "text": [
      "model created\n",
      "0.36401320320376723\n"
     ]
    },
    {
     "name": "stderr",
     "output_type": "stream",
     "text": [
      "WARNING:gensim.models.ldamulticore:too few updates, training might not converge; consider increasing the number of passes or iterations to improve accuracy\n"
     ]
    },
    {
     "name": "stdout",
     "output_type": "stream",
     "text": [
      "model created\n",
      "0.3409523218274702\n"
     ]
    },
    {
     "name": "stderr",
     "output_type": "stream",
     "text": [
      "WARNING:gensim.models.ldamulticore:too few updates, training might not converge; consider increasing the number of passes or iterations to improve accuracy\n"
     ]
    },
    {
     "name": "stdout",
     "output_type": "stream",
     "text": [
      "model created\n",
      "0.36032298482721264\n"
     ]
    },
    {
     "name": "stderr",
     "output_type": "stream",
     "text": [
      "WARNING:gensim.models.ldamulticore:too few updates, training might not converge; consider increasing the number of passes or iterations to improve accuracy\n"
     ]
    },
    {
     "name": "stdout",
     "output_type": "stream",
     "text": [
      "model created\n",
      "0.3560232546650832\n"
     ]
    },
    {
     "name": "stderr",
     "output_type": "stream",
     "text": [
      "WARNING:gensim.models.ldamulticore:too few updates, training might not converge; consider increasing the number of passes or iterations to improve accuracy\n"
     ]
    },
    {
     "name": "stdout",
     "output_type": "stream",
     "text": [
      "model created\n",
      "0.34673489740591124\n"
     ]
    },
    {
     "name": "stderr",
     "output_type": "stream",
     "text": [
      "WARNING:gensim.models.ldamulticore:too few updates, training might not converge; consider increasing the number of passes or iterations to improve accuracy\n"
     ]
    },
    {
     "name": "stdout",
     "output_type": "stream",
     "text": [
      "model created\n",
      "0.34134879790695\n"
     ]
    },
    {
     "name": "stderr",
     "output_type": "stream",
     "text": [
      "WARNING:gensim.models.ldamulticore:too few updates, training might not converge; consider increasing the number of passes or iterations to improve accuracy\n"
     ]
    },
    {
     "name": "stdout",
     "output_type": "stream",
     "text": [
      "model created\n",
      "0.3482809616306791\n"
     ]
    },
    {
     "name": "stderr",
     "output_type": "stream",
     "text": [
      "WARNING:gensim.models.ldamulticore:too few updates, training might not converge; consider increasing the number of passes or iterations to improve accuracy\n"
     ]
    },
    {
     "name": "stdout",
     "output_type": "stream",
     "text": [
      "model created\n",
      "0.3673855835755009\n"
     ]
    },
    {
     "name": "stderr",
     "output_type": "stream",
     "text": [
      "WARNING:gensim.models.ldamulticore:too few updates, training might not converge; consider increasing the number of passes or iterations to improve accuracy\n"
     ]
    },
    {
     "name": "stdout",
     "output_type": "stream",
     "text": [
      "model created\n",
      "0.34542647118529246\n"
     ]
    },
    {
     "name": "stderr",
     "output_type": "stream",
     "text": [
      "WARNING:gensim.models.ldamulticore:too few updates, training might not converge; consider increasing the number of passes or iterations to improve accuracy\n"
     ]
    },
    {
     "name": "stdout",
     "output_type": "stream",
     "text": [
      "model created\n",
      "0.3295894204563602\n"
     ]
    },
    {
     "name": "stderr",
     "output_type": "stream",
     "text": [
      "WARNING:gensim.models.ldamulticore:too few updates, training might not converge; consider increasing the number of passes or iterations to improve accuracy\n"
     ]
    },
    {
     "name": "stdout",
     "output_type": "stream",
     "text": [
      "model created\n",
      "0.35218225473212034\n"
     ]
    },
    {
     "name": "stderr",
     "output_type": "stream",
     "text": [
      "WARNING:gensim.models.ldamulticore:too few updates, training might not converge; consider increasing the number of passes or iterations to improve accuracy\n"
     ]
    },
    {
     "name": "stdout",
     "output_type": "stream",
     "text": [
      "model created\n",
      "0.3366784558551045\n"
     ]
    }
   ],
   "source": [
    "from gensim.models.ldamulticore import LdaMulticore\n",
    "\n",
    "def calc_coherence_values(dictionary, corpus, texts, limit = 12, start = 1, step = 1):\n",
    "    coherence_values = []\n",
    "    model_list = []\n",
    "    for num_topics in range(start, limit, step):\n",
    "        model = LdaMulticore(corpus=corpus,id2word = dictionary, num_topics = num_topics, alpha=.1, eta=0.1, random_state = 42)\n",
    "        model_list.append(model)\n",
    "        print('model created')\n",
    "        coherencemodel = CoherenceModel(model = model, texts = texts, dictionary = dictionary, coherence = 'c_v')\n",
    "        print(coherencemodel.get_coherence())\n",
    "        coherence_values.append(coherencemodel.get_coherence())\n",
    "    return model_list, coherence_values\n",
    "\n",
    "model_list, coherence_values = calc_coherence_values(dictionary = id2word, corpus = corpus_tfidf, texts = texts, start = 1, limit = 60, step = 2)"
   ]
  },
  {
   "cell_type": "code",
   "execution_count": null,
   "id": "e38605ba",
   "metadata": {},
   "outputs": [],
   "source": []
  },
  {
   "cell_type": "code",
   "execution_count": 321,
   "id": "e243fbb4",
   "metadata": {},
   "outputs": [
    {
     "data": {
      "image/png": "[encoded data removed]",
      "text/plain": [
       "<Figure size 432x288 with 1 Axes>"
      ]
     },
     "metadata": {},
     "output_type": "display_data"
    }
   ],
   "source": [
    "limit, start, step = 60, 1, 2\n",
    "x = range(start, limit, step)\n",
    "plt.plot(x, coherence_values)\n",
    "plt.xlabel(\"Number of topics\")\n",
    "plt.ylabel(\"Coherence\")\n",
    "plt.legend((\"coherence_values\"), loc='best')\n",
    "plt.show()"
   ]
  },
  {
   "cell_type": "code",
   "execution_count": null,
   "id": "32a392da",
   "metadata": {},
   "outputs": [],
   "source": []
  },
  {
   "cell_type": "code",
   "execution_count": 322,
   "id": "44178f34",
   "metadata": {},
   "outputs": [
    {
     "name": "stderr",
     "output_type": "stream",
     "text": [
      "WARNING:gensim.models.ldamulticore:too few updates, training might not converge; consider increasing the number of passes or iterations to improve accuracy\n"
     ]
    },
    {
     "name": "stdout",
     "output_type": "stream",
     "text": [
      "model created\n"
     ]
    },
    {
     "name": "stderr",
     "output_type": "stream",
     "text": [
      "WARNING:gensim.models.ldamulticore:too few updates, training might not converge; consider increasing the number of passes or iterations to improve accuracy\n"
     ]
    },
    {
     "name": "stdout",
     "output_type": "stream",
     "text": [
      "0.16293118147682784\n",
      "model created\n",
      "0.18668422701178608\n"
     ]
    },
    {
     "name": "stderr",
     "output_type": "stream",
     "text": [
      "WARNING:gensim.models.ldamulticore:too few updates, training might not converge; consider increasing the number of passes or iterations to improve accuracy\n"
     ]
    },
    {
     "name": "stdout",
     "output_type": "stream",
     "text": [
      "model created\n",
      "0.24162480500423653\n"
     ]
    },
    {
     "name": "stderr",
     "output_type": "stream",
     "text": [
      "WARNING:gensim.models.ldamulticore:too few updates, training might not converge; consider increasing the number of passes or iterations to improve accuracy\n"
     ]
    },
    {
     "name": "stdout",
     "output_type": "stream",
     "text": [
      "model created\n",
      "0.23407290740061\n"
     ]
    },
    {
     "name": "stderr",
     "output_type": "stream",
     "text": [
      "WARNING:gensim.models.ldamulticore:too few updates, training might not converge; consider increasing the number of passes or iterations to improve accuracy\n"
     ]
    },
    {
     "name": "stdout",
     "output_type": "stream",
     "text": [
      "model created\n",
      "0.24537061656280423\n"
     ]
    },
    {
     "name": "stderr",
     "output_type": "stream",
     "text": [
      "WARNING:gensim.models.ldamulticore:too few updates, training might not converge; consider increasing the number of passes or iterations to improve accuracy\n"
     ]
    },
    {
     "name": "stdout",
     "output_type": "stream",
     "text": [
      "model created\n",
      "0.25994835613217177\n"
     ]
    },
    {
     "name": "stderr",
     "output_type": "stream",
     "text": [
      "WARNING:gensim.models.ldamulticore:too few updates, training might not converge; consider increasing the number of passes or iterations to improve accuracy\n"
     ]
    },
    {
     "name": "stdout",
     "output_type": "stream",
     "text": [
      "model created\n",
      "0.25852440113553743\n"
     ]
    },
    {
     "name": "stderr",
     "output_type": "stream",
     "text": [
      "WARNING:gensim.models.ldamulticore:too few updates, training might not converge; consider increasing the number of passes or iterations to improve accuracy\n"
     ]
    },
    {
     "name": "stdout",
     "output_type": "stream",
     "text": [
      "model created\n",
      "0.2777269632615616\n"
     ]
    },
    {
     "name": "stderr",
     "output_type": "stream",
     "text": [
      "WARNING:gensim.models.ldamulticore:too few updates, training might not converge; consider increasing the number of passes or iterations to improve accuracy\n"
     ]
    },
    {
     "name": "stdout",
     "output_type": "stream",
     "text": [
      "model created\n",
      "0.2700812856584117\n"
     ]
    },
    {
     "name": "stderr",
     "output_type": "stream",
     "text": [
      "WARNING:gensim.models.ldamulticore:too few updates, training might not converge; consider increasing the number of passes or iterations to improve accuracy\n"
     ]
    },
    {
     "name": "stdout",
     "output_type": "stream",
     "text": [
      "model created\n",
      "0.27659179418211083\n"
     ]
    },
    {
     "name": "stderr",
     "output_type": "stream",
     "text": [
      "WARNING:gensim.models.ldamulticore:too few updates, training might not converge; consider increasing the number of passes or iterations to improve accuracy\n"
     ]
    },
    {
     "name": "stdout",
     "output_type": "stream",
     "text": [
      "model created\n",
      "0.27167526873461983\n"
     ]
    },
    {
     "name": "stderr",
     "output_type": "stream",
     "text": [
      "WARNING:gensim.models.ldamulticore:too few updates, training might not converge; consider increasing the number of passes or iterations to improve accuracy\n"
     ]
    },
    {
     "name": "stdout",
     "output_type": "stream",
     "text": [
      "model created\n",
      "0.26740431830303996\n"
     ]
    },
    {
     "name": "stderr",
     "output_type": "stream",
     "text": [
      "WARNING:gensim.models.ldamulticore:too few updates, training might not converge; consider increasing the number of passes or iterations to improve accuracy\n"
     ]
    },
    {
     "name": "stdout",
     "output_type": "stream",
     "text": [
      "model created\n",
      "0.27448555898763927\n"
     ]
    },
    {
     "name": "stderr",
     "output_type": "stream",
     "text": [
      "WARNING:gensim.models.ldamulticore:too few updates, training might not converge; consider increasing the number of passes or iterations to improve accuracy\n"
     ]
    },
    {
     "name": "stdout",
     "output_type": "stream",
     "text": [
      "model created\n",
      "0.2671241536296909\n"
     ]
    },
    {
     "name": "stderr",
     "output_type": "stream",
     "text": [
      "WARNING:gensim.models.ldamulticore:too few updates, training might not converge; consider increasing the number of passes or iterations to improve accuracy\n"
     ]
    },
    {
     "name": "stdout",
     "output_type": "stream",
     "text": [
      "model created\n",
      "0.3154945600765324\n"
     ]
    },
    {
     "name": "stderr",
     "output_type": "stream",
     "text": [
      "WARNING:gensim.models.ldamulticore:too few updates, training might not converge; consider increasing the number of passes or iterations to improve accuracy\n"
     ]
    },
    {
     "name": "stdout",
     "output_type": "stream",
     "text": [
      "model created\n",
      "0.2800393355937426\n"
     ]
    },
    {
     "name": "stderr",
     "output_type": "stream",
     "text": [
      "WARNING:gensim.models.ldamulticore:too few updates, training might not converge; consider increasing the number of passes or iterations to improve accuracy\n"
     ]
    },
    {
     "name": "stdout",
     "output_type": "stream",
     "text": [
      "model created\n",
      "0.2812762520392961\n"
     ]
    },
    {
     "name": "stderr",
     "output_type": "stream",
     "text": [
      "WARNING:gensim.models.ldamulticore:too few updates, training might not converge; consider increasing the number of passes or iterations to improve accuracy\n"
     ]
    },
    {
     "name": "stdout",
     "output_type": "stream",
     "text": [
      "model created\n",
      "0.27917674837226386\n"
     ]
    },
    {
     "name": "stderr",
     "output_type": "stream",
     "text": [
      "WARNING:gensim.models.ldamulticore:too few updates, training might not converge; consider increasing the number of passes or iterations to improve accuracy\n"
     ]
    },
    {
     "name": "stdout",
     "output_type": "stream",
     "text": [
      "model created\n",
      "0.29973956390210493\n"
     ]
    },
    {
     "name": "stderr",
     "output_type": "stream",
     "text": [
      "WARNING:gensim.models.ldamulticore:too few updates, training might not converge; consider increasing the number of passes or iterations to improve accuracy\n"
     ]
    },
    {
     "name": "stdout",
     "output_type": "stream",
     "text": [
      "model created\n",
      "0.28401670265852835\n"
     ]
    },
    {
     "name": "stderr",
     "output_type": "stream",
     "text": [
      "WARNING:gensim.models.ldamulticore:too few updates, training might not converge; consider increasing the number of passes or iterations to improve accuracy\n"
     ]
    },
    {
     "name": "stdout",
     "output_type": "stream",
     "text": [
      "model created\n",
      "0.285045016080651\n"
     ]
    },
    {
     "name": "stderr",
     "output_type": "stream",
     "text": [
      "WARNING:gensim.models.ldamulticore:too few updates, training might not converge; consider increasing the number of passes or iterations to improve accuracy\n"
     ]
    },
    {
     "name": "stdout",
     "output_type": "stream",
     "text": [
      "model created\n",
      "0.2933763541547047\n"
     ]
    },
    {
     "name": "stderr",
     "output_type": "stream",
     "text": [
      "WARNING:gensim.models.ldamulticore:too few updates, training might not converge; consider increasing the number of passes or iterations to improve accuracy\n"
     ]
    },
    {
     "name": "stdout",
     "output_type": "stream",
     "text": [
      "model created\n",
      "0.2959895363027225\n"
     ]
    },
    {
     "name": "stderr",
     "output_type": "stream",
     "text": [
      "WARNING:gensim.models.ldamulticore:too few updates, training might not converge; consider increasing the number of passes or iterations to improve accuracy\n"
     ]
    },
    {
     "name": "stdout",
     "output_type": "stream",
     "text": [
      "model created\n",
      "0.29855788305973957\n"
     ]
    },
    {
     "name": "stderr",
     "output_type": "stream",
     "text": [
      "WARNING:gensim.models.ldamulticore:too few updates, training might not converge; consider increasing the number of passes or iterations to improve accuracy\n"
     ]
    },
    {
     "name": "stdout",
     "output_type": "stream",
     "text": [
      "model created\n",
      "0.2948811590801891\n"
     ]
    },
    {
     "name": "stderr",
     "output_type": "stream",
     "text": [
      "WARNING:gensim.models.ldamulticore:too few updates, training might not converge; consider increasing the number of passes or iterations to improve accuracy\n"
     ]
    },
    {
     "name": "stdout",
     "output_type": "stream",
     "text": [
      "model created\n",
      "0.34597166936079027\n"
     ]
    },
    {
     "name": "stderr",
     "output_type": "stream",
     "text": [
      "WARNING:gensim.models.ldamulticore:too few updates, training might not converge; consider increasing the number of passes or iterations to improve accuracy\n"
     ]
    },
    {
     "name": "stdout",
     "output_type": "stream",
     "text": [
      "model created\n",
      "0.3581970748850036\n"
     ]
    },
    {
     "name": "stderr",
     "output_type": "stream",
     "text": [
      "WARNING:gensim.models.ldamulticore:too few updates, training might not converge; consider increasing the number of passes or iterations to improve accuracy\n"
     ]
    },
    {
     "name": "stdout",
     "output_type": "stream",
     "text": [
      "model created\n",
      "0.32322978243091227\n"
     ]
    },
    {
     "name": "stderr",
     "output_type": "stream",
     "text": [
      "WARNING:gensim.models.ldamulticore:too few updates, training might not converge; consider increasing the number of passes or iterations to improve accuracy\n"
     ]
    },
    {
     "name": "stdout",
     "output_type": "stream",
     "text": [
      "model created\n",
      "0.3644571025465893\n"
     ]
    },
    {
     "name": "stderr",
     "output_type": "stream",
     "text": [
      "WARNING:gensim.models.ldamulticore:too few updates, training might not converge; consider increasing the number of passes or iterations to improve accuracy\n"
     ]
    },
    {
     "name": "stdout",
     "output_type": "stream",
     "text": [
      "model created\n",
      "0.31575434053681517\n"
     ]
    }
   ],
   "source": [
    "id2word = corpora.Dictionary(reviews_lemmatized)\n",
    "id2word.filter_extremes(no_above=0.05,)\n",
    "texts = reviews_lemmatized\n",
    "corpus = [id2word.doc2bow(text) for text in texts]\n",
    "\n",
    "# Use TF-IDF\n",
    "tfidf = models.TfidfModel(corpus)\n",
    "corpus_tfidf = tfidf[corpus]\n",
    "\n",
    "\n",
    "from gensim.models.ldamulticore import LdaMulticore\n",
    "\n",
    "def calc_coherence_values(dictionary, corpus, texts, limit = 12, start = 1, step = 1):\n",
    "    coherence_values = []\n",
    "    model_list = []\n",
    "    for num_topics in range(start, limit, step):\n",
    "        model = LdaMulticore(corpus=corpus,id2word = dictionary, num_topics = num_topics, alpha=.1, eta=0.1, random_state = 42)\n",
    "        model_list.append(model)\n",
    "        print('model created')\n",
    "        coherencemodel = CoherenceModel(model = model, texts = texts, dictionary = dictionary, coherence = 'c_v')\n",
    "        print(coherencemodel.get_coherence())\n",
    "        coherence_values.append(coherencemodel.get_coherence())\n",
    "    return model_list, coherence_values\n",
    "\n",
    "model_list, coherence_values = calc_coherence_values(dictionary = id2word, corpus = corpus_tfidf, texts = texts, start = 1, limit = 60, step = 2)"
   ]
  },
  {
   "cell_type": "code",
   "execution_count": 323,
   "id": "b3bd1200",
   "metadata": {},
   "outputs": [
    {
     "data": {
      "image/png": "[encoded data removed]",
      "text/plain": [
       "<Figure size 432x288 with 1 Axes>"
      ]
     },
     "metadata": {},
     "output_type": "display_data"
    }
   ],
   "source": [
    "limit, start, step = 60, 1, 2\n",
    "x = range(start, limit, step)\n",
    "plt.plot(x, coherence_values)\n",
    "plt.xlabel(\"Number of topics\")\n",
    "plt.ylabel(\"Coherence\")\n",
    "plt.legend((\"coherence_values\"), loc='best')\n",
    "plt.show()"
   ]
  },
  {
   "cell_type": "code",
   "execution_count": 324,
   "id": "7f01b13c",
   "metadata": {
    "scrolled": false
   },
   "outputs": [
    {
     "name": "stderr",
     "output_type": "stream",
     "text": [
      "WARNING:gensim.models.ldamulticore:too few updates, training might not converge; consider increasing the number of passes or iterations to improve accuracy\n"
     ]
    },
    {
     "name": "stdout",
     "output_type": "stream",
     "text": [
      "model created\n"
     ]
    },
    {
     "name": "stderr",
     "output_type": "stream",
     "text": [
      "WARNING:gensim.models.ldamulticore:too few updates, training might not converge; consider increasing the number of passes or iterations to improve accuracy\n"
     ]
    },
    {
     "name": "stdout",
     "output_type": "stream",
     "text": [
      "0.3694517341119225\n",
      "model created\n"
     ]
    },
    {
     "name": "stderr",
     "output_type": "stream",
     "text": [
      "WARNING:gensim.models.ldamulticore:too few updates, training might not converge; consider increasing the number of passes or iterations to improve accuracy\n"
     ]
    },
    {
     "name": "stdout",
     "output_type": "stream",
     "text": [
      "0.4047585768335505\n",
      "model created\n",
      "0.40974810546709783\n"
     ]
    },
    {
     "name": "stderr",
     "output_type": "stream",
     "text": [
      "WARNING:gensim.models.ldamulticore:too few updates, training might not converge; consider increasing the number of passes or iterations to improve accuracy\n"
     ]
    },
    {
     "name": "stdout",
     "output_type": "stream",
     "text": [
      "model created\n",
      "0.43189302672943397\n"
     ]
    },
    {
     "name": "stderr",
     "output_type": "stream",
     "text": [
      "WARNING:gensim.models.ldamulticore:too few updates, training might not converge; consider increasing the number of passes or iterations to improve accuracy\n"
     ]
    },
    {
     "name": "stdout",
     "output_type": "stream",
     "text": [
      "model created\n",
      "0.3909380535811061\n"
     ]
    },
    {
     "name": "stderr",
     "output_type": "stream",
     "text": [
      "WARNING:gensim.models.ldamulticore:too few updates, training might not converge; consider increasing the number of passes or iterations to improve accuracy\n"
     ]
    },
    {
     "name": "stdout",
     "output_type": "stream",
     "text": [
      "model created\n",
      "0.40989566086659085\n"
     ]
    },
    {
     "name": "stderr",
     "output_type": "stream",
     "text": [
      "WARNING:gensim.models.ldamulticore:too few updates, training might not converge; consider increasing the number of passes or iterations to improve accuracy\n"
     ]
    },
    {
     "name": "stdout",
     "output_type": "stream",
     "text": [
      "model created\n",
      "0.40002929651002683\n"
     ]
    },
    {
     "name": "stderr",
     "output_type": "stream",
     "text": [
      "WARNING:gensim.models.ldamulticore:too few updates, training might not converge; consider increasing the number of passes or iterations to improve accuracy\n"
     ]
    },
    {
     "name": "stdout",
     "output_type": "stream",
     "text": [
      "model created\n",
      "0.40474279789789736\n"
     ]
    },
    {
     "name": "stderr",
     "output_type": "stream",
     "text": [
      "WARNING:gensim.models.ldamulticore:too few updates, training might not converge; consider increasing the number of passes or iterations to improve accuracy\n"
     ]
    },
    {
     "name": "stdout",
     "output_type": "stream",
     "text": [
      "model created\n",
      "0.41848301031731644\n"
     ]
    },
    {
     "name": "stderr",
     "output_type": "stream",
     "text": [
      "WARNING:gensim.models.ldamulticore:too few updates, training might not converge; consider increasing the number of passes or iterations to improve accuracy\n"
     ]
    },
    {
     "name": "stdout",
     "output_type": "stream",
     "text": [
      "model created\n",
      "0.4123121044524809\n"
     ]
    },
    {
     "name": "stderr",
     "output_type": "stream",
     "text": [
      "WARNING:gensim.models.ldamulticore:too few updates, training might not converge; consider increasing the number of passes or iterations to improve accuracy\n"
     ]
    },
    {
     "name": "stdout",
     "output_type": "stream",
     "text": [
      "model created\n",
      "0.3956163988046164\n"
     ]
    },
    {
     "name": "stderr",
     "output_type": "stream",
     "text": [
      "WARNING:gensim.models.ldamulticore:too few updates, training might not converge; consider increasing the number of passes or iterations to improve accuracy\n"
     ]
    },
    {
     "name": "stdout",
     "output_type": "stream",
     "text": [
      "model created\n",
      "0.4090879236136341\n"
     ]
    },
    {
     "name": "stderr",
     "output_type": "stream",
     "text": [
      "WARNING:gensim.models.ldamulticore:too few updates, training might not converge; consider increasing the number of passes or iterations to improve accuracy\n"
     ]
    },
    {
     "name": "stdout",
     "output_type": "stream",
     "text": [
      "model created\n",
      "0.40024431158714546\n"
     ]
    },
    {
     "name": "stderr",
     "output_type": "stream",
     "text": [
      "WARNING:gensim.models.ldamulticore:too few updates, training might not converge; consider increasing the number of passes or iterations to improve accuracy\n"
     ]
    },
    {
     "name": "stdout",
     "output_type": "stream",
     "text": [
      "model created\n",
      "0.4155398783051421\n"
     ]
    },
    {
     "name": "stderr",
     "output_type": "stream",
     "text": [
      "WARNING:gensim.models.ldamulticore:too few updates, training might not converge; consider increasing the number of passes or iterations to improve accuracy\n"
     ]
    },
    {
     "name": "stdout",
     "output_type": "stream",
     "text": [
      "model created\n",
      "0.39178952992062405\n"
     ]
    },
    {
     "name": "stderr",
     "output_type": "stream",
     "text": [
      "WARNING:gensim.models.ldamulticore:too few updates, training might not converge; consider increasing the number of passes or iterations to improve accuracy\n"
     ]
    },
    {
     "name": "stdout",
     "output_type": "stream",
     "text": [
      "model created\n",
      "0.39901573850523075\n"
     ]
    },
    {
     "name": "stderr",
     "output_type": "stream",
     "text": [
      "WARNING:gensim.models.ldamulticore:too few updates, training might not converge; consider increasing the number of passes or iterations to improve accuracy\n"
     ]
    },
    {
     "name": "stdout",
     "output_type": "stream",
     "text": [
      "model created\n",
      "0.3890363273291712\n"
     ]
    },
    {
     "name": "stderr",
     "output_type": "stream",
     "text": [
      "WARNING:gensim.models.ldamulticore:too few updates, training might not converge; consider increasing the number of passes or iterations to improve accuracy\n"
     ]
    },
    {
     "name": "stdout",
     "output_type": "stream",
     "text": [
      "model created\n",
      "0.37171344693901653\n"
     ]
    },
    {
     "name": "stderr",
     "output_type": "stream",
     "text": [
      "WARNING:gensim.models.ldamulticore:too few updates, training might not converge; consider increasing the number of passes or iterations to improve accuracy\n"
     ]
    },
    {
     "name": "stdout",
     "output_type": "stream",
     "text": [
      "model created\n",
      "0.3659038327444125\n"
     ]
    },
    {
     "name": "stderr",
     "output_type": "stream",
     "text": [
      "WARNING:gensim.models.ldamulticore:too few updates, training might not converge; consider increasing the number of passes or iterations to improve accuracy\n"
     ]
    },
    {
     "name": "stdout",
     "output_type": "stream",
     "text": [
      "model created\n",
      "0.3739375436937069\n"
     ]
    },
    {
     "name": "stderr",
     "output_type": "stream",
     "text": [
      "WARNING:gensim.models.ldamulticore:too few updates, training might not converge; consider increasing the number of passes or iterations to improve accuracy\n"
     ]
    },
    {
     "name": "stdout",
     "output_type": "stream",
     "text": [
      "model created\n",
      "0.388667182566259\n"
     ]
    },
    {
     "name": "stderr",
     "output_type": "stream",
     "text": [
      "WARNING:gensim.models.ldamulticore:too few updates, training might not converge; consider increasing the number of passes or iterations to improve accuracy\n"
     ]
    },
    {
     "name": "stdout",
     "output_type": "stream",
     "text": [
      "model created\n",
      "0.38318505743187414\n"
     ]
    },
    {
     "name": "stderr",
     "output_type": "stream",
     "text": [
      "WARNING:gensim.models.ldamulticore:too few updates, training might not converge; consider increasing the number of passes or iterations to improve accuracy\n"
     ]
    },
    {
     "name": "stdout",
     "output_type": "stream",
     "text": [
      "model created\n",
      "0.36595331292442823\n"
     ]
    },
    {
     "name": "stderr",
     "output_type": "stream",
     "text": [
      "WARNING:gensim.models.ldamulticore:too few updates, training might not converge; consider increasing the number of passes or iterations to improve accuracy\n"
     ]
    },
    {
     "name": "stdout",
     "output_type": "stream",
     "text": [
      "model created\n",
      "0.36682705693664186\n"
     ]
    },
    {
     "name": "stderr",
     "output_type": "stream",
     "text": [
      "WARNING:gensim.models.ldamulticore:too few updates, training might not converge; consider increasing the number of passes or iterations to improve accuracy\n"
     ]
    },
    {
     "name": "stdout",
     "output_type": "stream",
     "text": [
      "model created\n",
      "0.3572775420026519\n"
     ]
    },
    {
     "name": "stderr",
     "output_type": "stream",
     "text": [
      "WARNING:gensim.models.ldamulticore:too few updates, training might not converge; consider increasing the number of passes or iterations to improve accuracy\n"
     ]
    },
    {
     "name": "stdout",
     "output_type": "stream",
     "text": [
      "model created\n",
      "0.3808464227106667\n"
     ]
    },
    {
     "name": "stderr",
     "output_type": "stream",
     "text": [
      "WARNING:gensim.models.ldamulticore:too few updates, training might not converge; consider increasing the number of passes or iterations to improve accuracy\n"
     ]
    },
    {
     "name": "stdout",
     "output_type": "stream",
     "text": [
      "model created\n",
      "0.3856153802545576\n"
     ]
    },
    {
     "name": "stderr",
     "output_type": "stream",
     "text": [
      "WARNING:gensim.models.ldamulticore:too few updates, training might not converge; consider increasing the number of passes or iterations to improve accuracy\n"
     ]
    },
    {
     "name": "stdout",
     "output_type": "stream",
     "text": [
      "model created\n",
      "0.35156721482232495\n"
     ]
    },
    {
     "name": "stderr",
     "output_type": "stream",
     "text": [
      "WARNING:gensim.models.ldamulticore:too few updates, training might not converge; consider increasing the number of passes or iterations to improve accuracy\n"
     ]
    },
    {
     "name": "stdout",
     "output_type": "stream",
     "text": [
      "model created\n",
      "0.3680288857538911\n"
     ]
    },
    {
     "name": "stderr",
     "output_type": "stream",
     "text": [
      "WARNING:gensim.models.ldamulticore:too few updates, training might not converge; consider increasing the number of passes or iterations to improve accuracy\n"
     ]
    },
    {
     "name": "stdout",
     "output_type": "stream",
     "text": [
      "model created\n",
      "0.3504632751286707\n"
     ]
    }
   ],
   "source": [
    "id2word = corpora.Dictionary(reviews_lemmatized)\n",
    "id2word.filter_extremes(no_above=0.20,)\n",
    "texts = reviews_lemmatized\n",
    "corpus = [id2word.doc2bow(text) for text in texts]\n",
    "\n",
    "# Use TF-IDF\n",
    "tfidf = models.TfidfModel(corpus)\n",
    "corpus_tfidf = tfidf[corpus]\n",
    "\n",
    "\n",
    "from gensim.models.ldamulticore import LdaMulticore\n",
    "\n",
    "def calc_coherence_values(dictionary, corpus, texts, limit = 12, start = 1, step = 1):\n",
    "    coherence_values = []\n",
    "    model_list = []\n",
    "    for num_topics in range(start, limit, step):\n",
    "        model = LdaMulticore(corpus=corpus,id2word = dictionary, num_topics = num_topics, alpha=.1, eta=0.1, random_state = 42)\n",
    "        model_list.append(model)\n",
    "        print('model created')\n",
    "        coherencemodel = CoherenceModel(model = model, texts = texts, dictionary = dictionary, coherence = 'c_v')\n",
    "        print(coherencemodel.get_coherence())\n",
    "        coherence_values.append(coherencemodel.get_coherence())\n",
    "    return model_list, coherence_values\n",
    "\n",
    "id2word = corpora.Dictionary(reviews_lemmatized)\n",
    "id2word.filter_extremes(no_above=0.20,)\n",
    "texts = reviews_lemmatized\n",
    "corpus = [id2word.doc2bow(text) for text in texts]\n",
    "\n",
    "# Use TF-IDF\n",
    "tfidf = models.TfidfModel(corpus)\n",
    "corpus_tfidf = tfidf[corpus]\n",
    "\n",
    "\n",
    "from gensim.models.ldamulticore import LdaMulticore\n",
    "\n",
    "def calc_coherence_values(dictionary, corpus, texts, limit = 12, start = 1, step = 1):\n",
    "    coherence_values = []\n",
    "    model_list = []\n",
    "    for num_topics in range(start, limit, step):\n",
    "        model = LdaMulticore(corpus=corpus,id2word = dictionary, num_topics = num_topics, alpha=.1, eta=0.1, random_state = 42)\n",
    "        model_list.append(model)\n",
    "        print('model created')\n",
    "        coherencemodel = CoherenceModel(model = model, texts = texts, dictionary = dictionary, coherence = 'c_v')\n",
    "        print(coherencemodel.get_coherence())\n",
    "        coherence_values.append(coherencemodel.get_coherence())\n",
    "    return model_list, coherence_values\n",
    "\n",
    "model_list, coherence_values = calc_coherence_values(dictionary = id2word, corpus = corpus_tfidf, texts = texts, start = 1, limit = 60, step = 2)model_list, coherence_values = calc_coherence_values(dictionary = id2word, corpus = corpus_tfidf, texts = texts, start = 1, limit = 60, step = 2)"
   ]
  },
  {
   "cell_type": "code",
   "execution_count": 325,
   "id": "428047c5",
   "metadata": {},
   "outputs": [
    {
     "data": {
      "image/png": "[encoded data removed]",
      "text/plain": [
       "<Figure size 432x288 with 1 Axes>"
      ]
     },
     "metadata": {},
     "output_type": "display_data"
    }
   ],
   "source": [
    "\n",
    "\n",
    "limit, start, step = 60, 1, 2\n",
    "x = range(start, limit, step)\n",
    "plt.plot(x, coherence_values)\n",
    "plt.xlabel(\"Number of topics\")\n",
    "plt.ylabel(\"Coherence\")\n",
    "plt.legend((\"coherence_values\"), loc='best')\n",
    "plt.show()"
   ]
  },
  {
   "cell_type": "code",
   "execution_count": 326,
   "id": "3425a131",
   "metadata": {},
   "outputs": [
    {
     "data": {
      "text/plain": [
       "[(0,\n",
       "  '0.006*\"wine\" + 0.005*\"staff\" + 0.005*\"eat\" + 0.004*\"meal\" + 0.004*\"atmosphere\" + 0.004*\"taste\" + 0.004*\"try\" + 0.004*\"wait\" + 0.004*\"server\" + 0.004*\"visit\"'),\n",
       " (1,\n",
       "  '0.006*\"recommend\" + 0.006*\"price\" + 0.005*\"meal\" + 0.005*\"wine\" + 0.005*\"dessert\" + 0.005*\"staff\" + 0.005*\"definitely\" + 0.005*\"menu\" + 0.005*\"try\" + 0.004*\"dinner\"'),\n",
       " (2,\n",
       "  '0.006*\"wine\" + 0.005*\"meal\" + 0.005*\"eat\" + 0.005*\"wait\" + 0.005*\"try\" + 0.004*\"dinner\" + 0.004*\"steak\" + 0.004*\"dish\" + 0.004*\"bit\" + 0.004*\"table\"'),\n",
       " (3,\n",
       "  '0.007*\"staff\" + 0.006*\"wine\" + 0.005*\"sandwich\" + 0.005*\"try\" + 0.005*\"breakfast\" + 0.005*\"love\" + 0.005*\"ve\" + 0.005*\"taste\" + 0.004*\"price\" + 0.004*\"menu\"'),\n",
       " (4,\n",
       "  '0.005*\"price\" + 0.005*\"wine\" + 0.005*\"table\" + 0.005*\"eat\" + 0.005*\"meal\" + 0.005*\"menu\" + 0.004*\"dinner\" + 0.004*\"experience\" + 0.004*\"try\" + 0.004*\"waiter\"'),\n",
       " (5,\n",
       "  '0.006*\"pizza\" + 0.006*\"wine\" + 0.005*\"try\" + 0.005*\"staff\" + 0.005*\"love\" + 0.005*\"definitely\" + 0.005*\"menu\" + 0.005*\"visit\" + 0.004*\"experience\" + 0.004*\"recommend\"'),\n",
       " (6,\n",
       "  '0.007*\"steak\" + 0.006*\"love\" + 0.006*\"meal\" + 0.006*\"wine\" + 0.005*\"menu\" + 0.005*\"staff\" + 0.005*\"experience\" + 0.005*\"try\" + 0.004*\"visit\" + 0.004*\"ve\"')]"
      ]
     },
     "execution_count": 326,
     "metadata": {},
     "output_type": "execute_result"
    }
   ],
   "source": [
    "index = coherence_values.index(max(coherence_values))\n",
    "model_list[index].show_topics()"
   ]
  },
  {
   "cell_type": "code",
   "execution_count": null,
   "id": "197d2d6d",
   "metadata": {},
   "outputs": [],
   "source": []
  },
  {
   "cell_type": "code",
   "execution_count": null,
   "id": "fd14e91b",
   "metadata": {},
   "outputs": [],
   "source": []
  },
  {
   "cell_type": "code",
   "execution_count": null,
   "id": "183afb86",
   "metadata": {},
   "outputs": [],
   "source": []
  },
  {
   "cell_type": "code",
   "execution_count": 260,
   "id": "50dd0d7e",
   "metadata": {},
   "outputs": [],
   "source": [
    "def format_topics_sentences(lda_model, corpus, data):\n",
    "    sent_topics_df = pd.DataFrame()\n",
    "    for i, row in enumerate(lda_model[corpus]):\n",
    "        row = sorted(row, key=lambda x: (x[1]), reverse=True)\n",
    "        for j, (topic_num, prop_topic) in enumerate(row):\n",
    "            if j == 0:  # => dominant topic\n",
    "                wp = lda_model.show_topic(topic_num)\n",
    "                topic_keywords = \", \".join([word for word, prop in wp])\n",
    "                sent_topics_df = sent_topics_df.append(pd.Series([int(topic_num), round(prop_topic,4), topic_keywords]), ignore_index=True)\n",
    "            else:\n",
    "                break\n",
    "    sent_topics_df.columns = ['Dominant_Topic', 'Perc_Contribution', 'Topic_Keywords']\n",
    "\n",
    "    # Add original text to the end of the output\n",
    "    contents = pd.Series(texts)\n",
    "    sent_topics_df = pd.concat([sent_topics_df, contents], axis=1)\n",
    "    return(sent_topics_df)"
   ]
  },
  {
   "cell_type": "code",
   "execution_count": 261,
   "id": "2f7f3c22",
   "metadata": {},
   "outputs": [
    {
     "data": {
      "text/html": [
       "<div>\n",
       "<style scoped>\n",
       "    .dataframe tbody tr th:only-of-type {\n",
       "        vertical-align: middle;\n",
       "    }\n",
       "\n",
       "    .dataframe tbody tr th {\n",
       "        vertical-align: top;\n",
       "    }\n",
       "\n",
       "    .dataframe thead th {\n",
       "        text-align: right;\n",
       "    }\n",
       "</style>\n",
       "<table border=\"1\" class=\"dataframe\">\n",
       "  <thead>\n",
       "    <tr style=\"text-align: right;\">\n",
       "      <th></th>\n",
       "      <th>Document_No</th>\n",
       "      <th>Dominant_Topic</th>\n",
       "      <th>Topic_Perc_Contrib</th>\n",
       "      <th>Keywords</th>\n",
       "      <th>Text</th>\n",
       "    </tr>\n",
       "  </thead>\n",
       "  <tbody>\n",
       "    <tr>\n",
       "      <th>0</th>\n",
       "      <td>0</td>\n",
       "      <td>2.0</td>\n",
       "      <td>0.9534</td>\n",
       "      <td>burger, come, price, staff, bit, food, visit, ...</td>\n",
       "      <td>[cooking, style, restaurant, cuisine, look, bo...</td>\n",
       "    </tr>\n",
       "    <tr>\n",
       "      <th>1</th>\n",
       "      <td>1</td>\n",
       "      <td>0.0</td>\n",
       "      <td>0.9498</td>\n",
       "      <td>steak, try, food, set, waiter, staff, burger, ...</td>\n",
       "      <td>[sure, happen, restaurant, dine, service, rest...</td>\n",
       "    </tr>\n",
       "    <tr>\n",
       "      <th>2</th>\n",
       "      <td>2</td>\n",
       "      <td>2.0</td>\n",
       "      <td>0.9470</td>\n",
       "      <td>burger, come, price, staff, bit, food, visit, ...</td>\n",
       "      <td>[ambience, enticing, end, definitely, direct, ...</td>\n",
       "    </tr>\n",
       "    <tr>\n",
       "      <th>3</th>\n",
       "      <td>3</td>\n",
       "      <td>1.0</td>\n",
       "      <td>0.9576</td>\n",
       "      <td>pastrami, plate, sandwich, place, enjoy, meal,...</td>\n",
       "      <td>[ambience, opinion, tourist, trap, moment, ent...</td>\n",
       "    </tr>\n",
       "    <tr>\n",
       "      <th>4</th>\n",
       "      <td>4</td>\n",
       "      <td>3.0</td>\n",
       "      <td>0.8920</td>\n",
       "      <td>server, restaurant, service, cook, place, burg...</td>\n",
       "      <td>[restaurant, server, help, food, tasteless, re...</td>\n",
       "    </tr>\n",
       "    <tr>\n",
       "      <th>5</th>\n",
       "      <td>5</td>\n",
       "      <td>0.0</td>\n",
       "      <td>0.9232</td>\n",
       "      <td>steak, try, food, set, waiter, staff, burger, ...</td>\n",
       "      <td>[block, hotel, know, steak, tartare, disappoin...</td>\n",
       "    </tr>\n",
       "    <tr>\n",
       "      <th>6</th>\n",
       "      <td>6</td>\n",
       "      <td>2.0</td>\n",
       "      <td>0.9342</td>\n",
       "      <td>burger, come, price, staff, bit, food, visit, ...</td>\n",
       "      <td>[dinner, come, bread, come, depth, flavor, cro...</td>\n",
       "    </tr>\n",
       "    <tr>\n",
       "      <th>7</th>\n",
       "      <td>7</td>\n",
       "      <td>3.0</td>\n",
       "      <td>0.9126</td>\n",
       "      <td>server, restaurant, service, cook, place, burg...</td>\n",
       "      <td>[plate, year, ago, surprise, remove, quality, ...</td>\n",
       "    </tr>\n",
       "    <tr>\n",
       "      <th>8</th>\n",
       "      <td>8</td>\n",
       "      <td>3.0</td>\n",
       "      <td>0.9094</td>\n",
       "      <td>server, restaurant, service, cook, place, burg...</td>\n",
       "      <td>[service, rib, steak, kind, cook, fact, waiter...</td>\n",
       "    </tr>\n",
       "    <tr>\n",
       "      <th>9</th>\n",
       "      <td>9</td>\n",
       "      <td>0.0</td>\n",
       "      <td>0.8832</td>\n",
       "      <td>steak, try, food, set, waiter, staff, burger, ...</td>\n",
       "      <td>[star, cause, service, order, steak, come, ord...</td>\n",
       "    </tr>\n",
       "  </tbody>\n",
       "</table>\n",
       "</div>"
      ],
      "text/plain": [
       "   Document_No  Dominant_Topic  Topic_Perc_Contrib  \\\n",
       "0            0             2.0              0.9534   \n",
       "1            1             0.0              0.9498   \n",
       "2            2             2.0              0.9470   \n",
       "3            3             1.0              0.9576   \n",
       "4            4             3.0              0.8920   \n",
       "5            5             0.0              0.9232   \n",
       "6            6             2.0              0.9342   \n",
       "7            7             3.0              0.9126   \n",
       "8            8             3.0              0.9094   \n",
       "9            9             0.0              0.8832   \n",
       "\n",
       "                                            Keywords  \\\n",
       "0  burger, come, price, staff, bit, food, visit, ...   \n",
       "1  steak, try, food, set, waiter, staff, burger, ...   \n",
       "2  burger, come, price, staff, bit, food, visit, ...   \n",
       "3  pastrami, plate, sandwich, place, enjoy, meal,...   \n",
       "4  server, restaurant, service, cook, place, burg...   \n",
       "5  steak, try, food, set, waiter, staff, burger, ...   \n",
       "6  burger, come, price, staff, bit, food, visit, ...   \n",
       "7  server, restaurant, service, cook, place, burg...   \n",
       "8  server, restaurant, service, cook, place, burg...   \n",
       "9  steak, try, food, set, waiter, staff, burger, ...   \n",
       "\n",
       "                                                Text  \n",
       "0  [cooking, style, restaurant, cuisine, look, bo...  \n",
       "1  [sure, happen, restaurant, dine, service, rest...  \n",
       "2  [ambience, enticing, end, definitely, direct, ...  \n",
       "3  [ambience, opinion, tourist, trap, moment, ent...  \n",
       "4  [restaurant, server, help, food, tasteless, re...  \n",
       "5  [block, hotel, know, steak, tartare, disappoin...  \n",
       "6  [dinner, come, bread, come, depth, flavor, cro...  \n",
       "7  [plate, year, ago, surprise, remove, quality, ...  \n",
       "8  [service, rib, steak, kind, cook, fact, waiter...  \n",
       "9  [star, cause, service, order, steak, come, ord...  "
      ]
     },
     "execution_count": 261,
     "metadata": {},
     "output_type": "execute_result"
    }
   ],
   "source": [
    "df_topic_sents_keywords = format_topics_sentences(model_list[index], corpus_tfidf, texts)\n",
    "\n",
    "# Format\n",
    "df_dominant_topic = df_topic_sents_keywords.reset_index()\n",
    "df_dominant_topic.columns = ['Document_No', 'Dominant_Topic', 'Topic_Perc_Contrib', 'Keywords', 'Text']\n",
    "\n",
    "# Show\n",
    "df_dominant_topic.head(10)"
   ]
  },
  {
   "cell_type": "code",
   "execution_count": 262,
   "id": "1b25ae1a",
   "metadata": {},
   "outputs": [],
   "source": [
    "df_dominant_topic.to_csv(\"without_lemmatizing.csv\")"
   ]
  },
  {
   "cell_type": "code",
   "execution_count": 263,
   "id": "d4ac7c06",
   "metadata": {},
   "outputs": [
    {
     "data": {
      "text/plain": [
       "array([2., 0., 1., 3.])"
      ]
     },
     "execution_count": 263,
     "metadata": {},
     "output_type": "execute_result"
    }
   ],
   "source": [
    "df_dominant_topic[\"Dominant_Topic\"].unique()"
   ]
  },
  {
   "cell_type": "code",
   "execution_count": 264,
   "id": "365a3e7f",
   "metadata": {},
   "outputs": [
    {
     "data": {
      "text/html": [
       "<div>\n",
       "<style scoped>\n",
       "    .dataframe tbody tr th:only-of-type {\n",
       "        vertical-align: middle;\n",
       "    }\n",
       "\n",
       "    .dataframe tbody tr th {\n",
       "        vertical-align: top;\n",
       "    }\n",
       "\n",
       "    .dataframe thead th {\n",
       "        text-align: right;\n",
       "    }\n",
       "</style>\n",
       "<table border=\"1\" class=\"dataframe\">\n",
       "  <thead>\n",
       "    <tr style=\"text-align: right;\">\n",
       "      <th></th>\n",
       "      <th>alias</th>\n",
       "      <th>date</th>\n",
       "      <th>rate</th>\n",
       "      <th>review</th>\n",
       "      <th>review_clean</th>\n",
       "      <th>length</th>\n",
       "      <th>review_list</th>\n",
       "      <th>nonLem</th>\n",
       "    </tr>\n",
       "  </thead>\n",
       "  <tbody>\n",
       "    <tr>\n",
       "      <th>0</th>\n",
       "      <td>le-sud-paris</td>\n",
       "      <td>2018-11-20</td>\n",
       "      <td>5</td>\n",
       "      <td>Ed W.\\nElite 2021\\nMiami, FL\\n259\\n562\\n4232\\n...</td>\n",
       "      <td>traditional parisian cooking style restaurant ...</td>\n",
       "      <td>97</td>\n",
       "      <td>traditional parisian cooking style restaurant ...</td>\n",
       "      <td>[cooking, style, restaurant, cuisine, look, bo...</td>\n",
       "    </tr>\n",
       "    <tr>\n",
       "      <th>1</th>\n",
       "      <td>le-sud-paris</td>\n",
       "      <td>2021-07-04</td>\n",
       "      <td>2</td>\n",
       "      <td>Jaki F.\\nElite 2021\\nSignal Hill, CA\\n358\\n270...</td>\n",
       "      <td>im sure happening restaurant excited dine serv...</td>\n",
       "      <td>65</td>\n",
       "      <td>im sure happening restaurant excited dine serv...</td>\n",
       "      <td>[sure, happen, restaurant, dine, service, rest...</td>\n",
       "    </tr>\n",
       "    <tr>\n",
       "      <th>2</th>\n",
       "      <td>le-sud-paris</td>\n",
       "      <td>2018-06-20</td>\n",
       "      <td>3</td>\n",
       "      <td>Jen S.\\nElite 2021\\nBuffalo, NY\\n71\\n322\\n809\\...</td>\n",
       "      <td>ambience enticing end day definitely directed ...</td>\n",
       "      <td>59</td>\n",
       "      <td>ambience enticing end day definitely directed ...</td>\n",
       "      <td>[ambience, enticing, end, definitely, direct, ...</td>\n",
       "    </tr>\n",
       "    <tr>\n",
       "      <th>3</th>\n",
       "      <td>le-sud-paris</td>\n",
       "      <td>2015-09-28</td>\n",
       "      <td>3</td>\n",
       "      <td>Sam S.\\nElite 2021\\nMunich, Germany\\n2133\\n255...</td>\n",
       "      <td>ambience star opinion expensive tourist trap m...</td>\n",
       "      <td>118</td>\n",
       "      <td>ambience star opinion expensive tourist trap m...</td>\n",
       "      <td>[ambience, opinion, tourist, trap, moment, ent...</td>\n",
       "    </tr>\n",
       "    <tr>\n",
       "      <th>4</th>\n",
       "      <td>le-sud-paris</td>\n",
       "      <td>2019-08-08</td>\n",
       "      <td>1</td>\n",
       "      <td>Fahad A.\\nLos Angeles, CA\\n0\\n10\\n15\\n8/8/2019...</td>\n",
       "      <td>worst restaurant ever servers help us food bla...</td>\n",
       "      <td>14</td>\n",
       "      <td>worst restaurant ever servers help us food bla...</td>\n",
       "      <td>[restaurant, server, help, food, tasteless, re...</td>\n",
       "    </tr>\n",
       "    <tr>\n",
       "      <th>...</th>\n",
       "      <td>...</td>\n",
       "      <td>...</td>\n",
       "      <td>...</td>\n",
       "      <td>...</td>\n",
       "      <td>...</td>\n",
       "      <td>...</td>\n",
       "      <td>...</td>\n",
       "      <td>...</td>\n",
       "    </tr>\n",
       "    <tr>\n",
       "      <th>95</th>\n",
       "      <td>un-air-de-famille-paris-2</td>\n",
       "      <td>2014-07-30</td>\n",
       "      <td>4</td>\n",
       "      <td>Cheryl H.\\nBurbank, Los Angeles, CA\\n350\\n58\\n...</td>\n",
       "      <td>finally food stop terrible meals paris contemp...</td>\n",
       "      <td>44</td>\n",
       "      <td>finally food stop terrible meals paris contemp...</td>\n",
       "      <td>[finally, food, stop, meal, contemplate, mcdon...</td>\n",
       "    </tr>\n",
       "    <tr>\n",
       "      <th>96</th>\n",
       "      <td>un-air-de-famille-paris-2</td>\n",
       "      <td>2014-03-24</td>\n",
       "      <td>3</td>\n",
       "      <td>David M.\\nNashville, TN\\n1387\\n33\\n8\\n3/24/201...</td>\n",
       "      <td>nice find spot beaten tourist path make sure t...</td>\n",
       "      <td>11</td>\n",
       "      <td>nice find spot beaten tourist path make sure t...</td>\n",
       "      <td>[spot, beat, tourist, path, translator, din, a...</td>\n",
       "    </tr>\n",
       "    <tr>\n",
       "      <th>97</th>\n",
       "      <td>oresto-paris-3</td>\n",
       "      <td>2016-04-24</td>\n",
       "      <td>4</td>\n",
       "      <td>Kelly N.\\nWashington, DC\\n7\\n19\\n2\\n4/24/2016\\...</td>\n",
       "      <td>cozy cafe nice vibe playing latin music whole ...</td>\n",
       "      <td>23</td>\n",
       "      <td>cozy cafe nice vibe playing latin music whole ...</td>\n",
       "      <td>[cafe, vibe, play, music, love, oresto, sample...</td>\n",
       "    </tr>\n",
       "    <tr>\n",
       "      <th>98</th>\n",
       "      <td>oresto-paris-3</td>\n",
       "      <td>2019-11-24</td>\n",
       "      <td>3</td>\n",
       "      <td>Doug C.\\nElite 2021\\nPlano, TX\\n1\\n764\\n7892\\n...</td>\n",
       "      <td>blocks hotel nice little small french restaura...</td>\n",
       "      <td>18</td>\n",
       "      <td>blocks hotel nice little small french restaura...</td>\n",
       "      <td>[block, hotel, restaurant, meal, service, expe...</td>\n",
       "    </tr>\n",
       "    <tr>\n",
       "      <th>99</th>\n",
       "      <td>oresto-paris-3</td>\n",
       "      <td>2019-12-05</td>\n",
       "      <td>4</td>\n",
       "      <td>Helen S.\\nBrasstown, NC\\n0\\n2\\n12/5/2019\\nNice...</td>\n",
       "      <td>nice local bistro homemade food always eat spe...</td>\n",
       "      <td>30</td>\n",
       "      <td>nice local bistro homemade food always eat spe...</td>\n",
       "      <td>[bistro, food, eat, restaurant, beef, decor, d...</td>\n",
       "    </tr>\n",
       "  </tbody>\n",
       "</table>\n",
       "<p>100 rows × 8 columns</p>\n",
       "</div>"
      ],
      "text/plain": [
       "                        alias        date  rate  \\\n",
       "0                le-sud-paris  2018-11-20     5   \n",
       "1                le-sud-paris  2021-07-04     2   \n",
       "2                le-sud-paris  2018-06-20     3   \n",
       "3                le-sud-paris  2015-09-28     3   \n",
       "4                le-sud-paris  2019-08-08     1   \n",
       "..                        ...         ...   ...   \n",
       "95  un-air-de-famille-paris-2  2014-07-30     4   \n",
       "96  un-air-de-famille-paris-2  2014-03-24     3   \n",
       "97             oresto-paris-3  2016-04-24     4   \n",
       "98             oresto-paris-3  2019-11-24     3   \n",
       "99             oresto-paris-3  2019-12-05     4   \n",
       "\n",
       "                                               review  \\\n",
       "0   Ed W.\\nElite 2021\\nMiami, FL\\n259\\n562\\n4232\\n...   \n",
       "1   Jaki F.\\nElite 2021\\nSignal Hill, CA\\n358\\n270...   \n",
       "2   Jen S.\\nElite 2021\\nBuffalo, NY\\n71\\n322\\n809\\...   \n",
       "3   Sam S.\\nElite 2021\\nMunich, Germany\\n2133\\n255...   \n",
       "4   Fahad A.\\nLos Angeles, CA\\n0\\n10\\n15\\n8/8/2019...   \n",
       "..                                                ...   \n",
       "95  Cheryl H.\\nBurbank, Los Angeles, CA\\n350\\n58\\n...   \n",
       "96  David M.\\nNashville, TN\\n1387\\n33\\n8\\n3/24/201...   \n",
       "97  Kelly N.\\nWashington, DC\\n7\\n19\\n2\\n4/24/2016\\...   \n",
       "98  Doug C.\\nElite 2021\\nPlano, TX\\n1\\n764\\n7892\\n...   \n",
       "99  Helen S.\\nBrasstown, NC\\n0\\n2\\n12/5/2019\\nNice...   \n",
       "\n",
       "                                         review_clean  length  \\\n",
       "0   traditional parisian cooking style restaurant ...      97   \n",
       "1   im sure happening restaurant excited dine serv...      65   \n",
       "2   ambience enticing end day definitely directed ...      59   \n",
       "3   ambience star opinion expensive tourist trap m...     118   \n",
       "4   worst restaurant ever servers help us food bla...      14   \n",
       "..                                                ...     ...   \n",
       "95  finally food stop terrible meals paris contemp...      44   \n",
       "96  nice find spot beaten tourist path make sure t...      11   \n",
       "97  cozy cafe nice vibe playing latin music whole ...      23   \n",
       "98  blocks hotel nice little small french restaura...      18   \n",
       "99  nice local bistro homemade food always eat spe...      30   \n",
       "\n",
       "                                          review_list  \\\n",
       "0   traditional parisian cooking style restaurant ...   \n",
       "1   im sure happening restaurant excited dine serv...   \n",
       "2   ambience enticing end day definitely directed ...   \n",
       "3   ambience star opinion expensive tourist trap m...   \n",
       "4   worst restaurant ever servers help us food bla...   \n",
       "..                                                ...   \n",
       "95  finally food stop terrible meals paris contemp...   \n",
       "96  nice find spot beaten tourist path make sure t...   \n",
       "97  cozy cafe nice vibe playing latin music whole ...   \n",
       "98  blocks hotel nice little small french restaura...   \n",
       "99  nice local bistro homemade food always eat spe...   \n",
       "\n",
       "                                               nonLem  \n",
       "0   [cooking, style, restaurant, cuisine, look, bo...  \n",
       "1   [sure, happen, restaurant, dine, service, rest...  \n",
       "2   [ambience, enticing, end, definitely, direct, ...  \n",
       "3   [ambience, opinion, tourist, trap, moment, ent...  \n",
       "4   [restaurant, server, help, food, tasteless, re...  \n",
       "..                                                ...  \n",
       "95  [finally, food, stop, meal, contemplate, mcdon...  \n",
       "96  [spot, beat, tourist, path, translator, din, a...  \n",
       "97  [cafe, vibe, play, music, love, oresto, sample...  \n",
       "98  [block, hotel, restaurant, meal, service, expe...  \n",
       "99  [bistro, food, eat, restaurant, beef, decor, d...  \n",
       "\n",
       "[100 rows x 8 columns]"
      ]
     },
     "execution_count": 264,
     "metadata": {},
     "output_type": "execute_result"
    }
   ],
   "source": [
    "data[\"nonLem\"] = reviews_lemmatized\n",
    "data"
   ]
  },
  {
   "cell_type": "code",
   "execution_count": 265,
   "id": "349073f3",
   "metadata": {},
   "outputs": [
    {
     "name": "stderr",
     "output_type": "stream",
     "text": [
      "/Users/manoharan/.pyenv/versions/3.8.12/envs/FOBO/lib/python3.8/site-packages/sklearn/utils/deprecation.py:87: FutureWarning: Function get_feature_names is deprecated; get_feature_names is deprecated in 1.0 and will be removed in 1.2. Please use get_feature_names_out instead.\n",
      "  warnings.warn(msg, category=FutureWarning)\n"
     ]
    },
    {
     "data": {
      "text/html": [
       "<div>\n",
       "<style scoped>\n",
       "    .dataframe tbody tr th:only-of-type {\n",
       "        vertical-align: middle;\n",
       "    }\n",
       "\n",
       "    .dataframe tbody tr th {\n",
       "        vertical-align: top;\n",
       "    }\n",
       "\n",
       "    .dataframe thead th {\n",
       "        text-align: right;\n",
       "    }\n",
       "</style>\n",
       "<table border=\"1\" class=\"dataframe\">\n",
       "  <thead>\n",
       "    <tr style=\"text-align: right;\">\n",
       "      <th></th>\n",
       "      <th>also</th>\n",
       "      <th>back</th>\n",
       "      <th>beef</th>\n",
       "      <th>bit</th>\n",
       "      <th>burger</th>\n",
       "      <th>burgers</th>\n",
       "      <th>came</th>\n",
       "      <th>cheese</th>\n",
       "      <th>de</th>\n",
       "      <th>delicious</th>\n",
       "      <th>...</th>\n",
       "      <th>staff</th>\n",
       "      <th>table</th>\n",
       "      <th>time</th>\n",
       "      <th>try</th>\n",
       "      <th>us</th>\n",
       "      <th>waiter</th>\n",
       "      <th>well</th>\n",
       "      <th>went</th>\n",
       "      <th>wine</th>\n",
       "      <th>would</th>\n",
       "    </tr>\n",
       "  </thead>\n",
       "  <tbody>\n",
       "    <tr>\n",
       "      <th>0</th>\n",
       "      <td>0.206252</td>\n",
       "      <td>0.000000</td>\n",
       "      <td>0.000000</td>\n",
       "      <td>0.000000</td>\n",
       "      <td>0.0</td>\n",
       "      <td>0.0</td>\n",
       "      <td>0.211388</td>\n",
       "      <td>0.0</td>\n",
       "      <td>0.216935</td>\n",
       "      <td>0.160735</td>\n",
       "      <td>...</td>\n",
       "      <td>0.000000</td>\n",
       "      <td>0.0</td>\n",
       "      <td>0.000000</td>\n",
       "      <td>0.0</td>\n",
       "      <td>0.000000</td>\n",
       "      <td>0.0</td>\n",
       "      <td>0.192796</td>\n",
       "      <td>0.00000</td>\n",
       "      <td>0.000000</td>\n",
       "      <td>0.000000</td>\n",
       "    </tr>\n",
       "    <tr>\n",
       "      <th>1</th>\n",
       "      <td>0.000000</td>\n",
       "      <td>0.000000</td>\n",
       "      <td>0.000000</td>\n",
       "      <td>0.000000</td>\n",
       "      <td>0.0</td>\n",
       "      <td>0.0</td>\n",
       "      <td>0.000000</td>\n",
       "      <td>0.0</td>\n",
       "      <td>0.000000</td>\n",
       "      <td>0.000000</td>\n",
       "      <td>...</td>\n",
       "      <td>0.341898</td>\n",
       "      <td>0.0</td>\n",
       "      <td>0.000000</td>\n",
       "      <td>0.0</td>\n",
       "      <td>0.335530</td>\n",
       "      <td>0.0</td>\n",
       "      <td>0.000000</td>\n",
       "      <td>0.00000</td>\n",
       "      <td>0.348593</td>\n",
       "      <td>0.000000</td>\n",
       "    </tr>\n",
       "    <tr>\n",
       "      <th>2</th>\n",
       "      <td>0.000000</td>\n",
       "      <td>0.000000</td>\n",
       "      <td>0.000000</td>\n",
       "      <td>0.000000</td>\n",
       "      <td>0.0</td>\n",
       "      <td>0.0</td>\n",
       "      <td>0.000000</td>\n",
       "      <td>0.0</td>\n",
       "      <td>0.000000</td>\n",
       "      <td>0.000000</td>\n",
       "      <td>...</td>\n",
       "      <td>0.275552</td>\n",
       "      <td>0.0</td>\n",
       "      <td>0.000000</td>\n",
       "      <td>0.0</td>\n",
       "      <td>0.000000</td>\n",
       "      <td>0.0</td>\n",
       "      <td>0.292649</td>\n",
       "      <td>0.32087</td>\n",
       "      <td>0.000000</td>\n",
       "      <td>0.000000</td>\n",
       "    </tr>\n",
       "    <tr>\n",
       "      <th>3</th>\n",
       "      <td>0.414281</td>\n",
       "      <td>0.202338</td>\n",
       "      <td>0.000000</td>\n",
       "      <td>0.185885</td>\n",
       "      <td>0.0</td>\n",
       "      <td>0.0</td>\n",
       "      <td>0.000000</td>\n",
       "      <td>0.0</td>\n",
       "      <td>0.000000</td>\n",
       "      <td>0.000000</td>\n",
       "      <td>...</td>\n",
       "      <td>0.000000</td>\n",
       "      <td>0.0</td>\n",
       "      <td>0.169625</td>\n",
       "      <td>0.0</td>\n",
       "      <td>0.000000</td>\n",
       "      <td>0.0</td>\n",
       "      <td>0.000000</td>\n",
       "      <td>0.00000</td>\n",
       "      <td>0.185885</td>\n",
       "      <td>0.193627</td>\n",
       "    </tr>\n",
       "    <tr>\n",
       "      <th>4</th>\n",
       "      <td>0.000000</td>\n",
       "      <td>0.000000</td>\n",
       "      <td>0.000000</td>\n",
       "      <td>0.000000</td>\n",
       "      <td>0.0</td>\n",
       "      <td>0.0</td>\n",
       "      <td>0.000000</td>\n",
       "      <td>0.0</td>\n",
       "      <td>0.000000</td>\n",
       "      <td>0.000000</td>\n",
       "      <td>...</td>\n",
       "      <td>0.000000</td>\n",
       "      <td>0.0</td>\n",
       "      <td>0.000000</td>\n",
       "      <td>0.0</td>\n",
       "      <td>0.668142</td>\n",
       "      <td>0.0</td>\n",
       "      <td>0.000000</td>\n",
       "      <td>0.00000</td>\n",
       "      <td>0.000000</td>\n",
       "      <td>0.000000</td>\n",
       "    </tr>\n",
       "    <tr>\n",
       "      <th>...</th>\n",
       "      <td>...</td>\n",
       "      <td>...</td>\n",
       "      <td>...</td>\n",
       "      <td>...</td>\n",
       "      <td>...</td>\n",
       "      <td>...</td>\n",
       "      <td>...</td>\n",
       "      <td>...</td>\n",
       "      <td>...</td>\n",
       "      <td>...</td>\n",
       "      <td>...</td>\n",
       "      <td>...</td>\n",
       "      <td>...</td>\n",
       "      <td>...</td>\n",
       "      <td>...</td>\n",
       "      <td>...</td>\n",
       "      <td>...</td>\n",
       "      <td>...</td>\n",
       "      <td>...</td>\n",
       "      <td>...</td>\n",
       "      <td>...</td>\n",
       "    </tr>\n",
       "    <tr>\n",
       "      <th>95</th>\n",
       "      <td>0.000000</td>\n",
       "      <td>0.000000</td>\n",
       "      <td>0.000000</td>\n",
       "      <td>0.000000</td>\n",
       "      <td>0.0</td>\n",
       "      <td>0.0</td>\n",
       "      <td>0.000000</td>\n",
       "      <td>0.0</td>\n",
       "      <td>0.000000</td>\n",
       "      <td>0.239793</td>\n",
       "      <td>...</td>\n",
       "      <td>0.000000</td>\n",
       "      <td>0.0</td>\n",
       "      <td>0.000000</td>\n",
       "      <td>0.0</td>\n",
       "      <td>0.000000</td>\n",
       "      <td>0.0</td>\n",
       "      <td>0.000000</td>\n",
       "      <td>0.00000</td>\n",
       "      <td>0.000000</td>\n",
       "      <td>0.287624</td>\n",
       "    </tr>\n",
       "    <tr>\n",
       "      <th>96</th>\n",
       "      <td>0.000000</td>\n",
       "      <td>0.000000</td>\n",
       "      <td>0.000000</td>\n",
       "      <td>0.000000</td>\n",
       "      <td>0.0</td>\n",
       "      <td>0.0</td>\n",
       "      <td>0.000000</td>\n",
       "      <td>0.0</td>\n",
       "      <td>0.000000</td>\n",
       "      <td>0.000000</td>\n",
       "      <td>...</td>\n",
       "      <td>0.000000</td>\n",
       "      <td>0.0</td>\n",
       "      <td>0.000000</td>\n",
       "      <td>0.0</td>\n",
       "      <td>0.000000</td>\n",
       "      <td>0.0</td>\n",
       "      <td>0.000000</td>\n",
       "      <td>0.00000</td>\n",
       "      <td>0.000000</td>\n",
       "      <td>0.000000</td>\n",
       "    </tr>\n",
       "    <tr>\n",
       "      <th>97</th>\n",
       "      <td>0.000000</td>\n",
       "      <td>0.000000</td>\n",
       "      <td>0.000000</td>\n",
       "      <td>0.000000</td>\n",
       "      <td>0.0</td>\n",
       "      <td>0.0</td>\n",
       "      <td>0.000000</td>\n",
       "      <td>0.0</td>\n",
       "      <td>0.000000</td>\n",
       "      <td>0.000000</td>\n",
       "      <td>...</td>\n",
       "      <td>0.000000</td>\n",
       "      <td>0.0</td>\n",
       "      <td>0.536665</td>\n",
       "      <td>0.0</td>\n",
       "      <td>0.000000</td>\n",
       "      <td>0.0</td>\n",
       "      <td>0.000000</td>\n",
       "      <td>0.00000</td>\n",
       "      <td>0.000000</td>\n",
       "      <td>0.000000</td>\n",
       "    </tr>\n",
       "    <tr>\n",
       "      <th>98</th>\n",
       "      <td>0.000000</td>\n",
       "      <td>0.000000</td>\n",
       "      <td>0.000000</td>\n",
       "      <td>0.000000</td>\n",
       "      <td>0.0</td>\n",
       "      <td>0.0</td>\n",
       "      <td>0.000000</td>\n",
       "      <td>0.0</td>\n",
       "      <td>0.000000</td>\n",
       "      <td>0.000000</td>\n",
       "      <td>...</td>\n",
       "      <td>0.000000</td>\n",
       "      <td>0.0</td>\n",
       "      <td>0.000000</td>\n",
       "      <td>0.0</td>\n",
       "      <td>0.000000</td>\n",
       "      <td>0.0</td>\n",
       "      <td>0.000000</td>\n",
       "      <td>0.00000</td>\n",
       "      <td>0.000000</td>\n",
       "      <td>0.000000</td>\n",
       "    </tr>\n",
       "    <tr>\n",
       "      <th>99</th>\n",
       "      <td>0.000000</td>\n",
       "      <td>0.000000</td>\n",
       "      <td>0.437391</td>\n",
       "      <td>0.000000</td>\n",
       "      <td>0.0</td>\n",
       "      <td>0.0</td>\n",
       "      <td>0.000000</td>\n",
       "      <td>0.0</td>\n",
       "      <td>0.000000</td>\n",
       "      <td>0.306241</td>\n",
       "      <td>...</td>\n",
       "      <td>0.000000</td>\n",
       "      <td>0.0</td>\n",
       "      <td>0.000000</td>\n",
       "      <td>0.0</td>\n",
       "      <td>0.000000</td>\n",
       "      <td>0.0</td>\n",
       "      <td>0.000000</td>\n",
       "      <td>0.00000</td>\n",
       "      <td>0.000000</td>\n",
       "      <td>0.000000</td>\n",
       "    </tr>\n",
       "  </tbody>\n",
       "</table>\n",
       "<p>100 rows × 50 columns</p>\n",
       "</div>"
      ],
      "text/plain": [
       "        also      back      beef       bit  burger  burgers      came  cheese  \\\n",
       "0   0.206252  0.000000  0.000000  0.000000     0.0      0.0  0.211388     0.0   \n",
       "1   0.000000  0.000000  0.000000  0.000000     0.0      0.0  0.000000     0.0   \n",
       "2   0.000000  0.000000  0.000000  0.000000     0.0      0.0  0.000000     0.0   \n",
       "3   0.414281  0.202338  0.000000  0.185885     0.0      0.0  0.000000     0.0   \n",
       "4   0.000000  0.000000  0.000000  0.000000     0.0      0.0  0.000000     0.0   \n",
       "..       ...       ...       ...       ...     ...      ...       ...     ...   \n",
       "95  0.000000  0.000000  0.000000  0.000000     0.0      0.0  0.000000     0.0   \n",
       "96  0.000000  0.000000  0.000000  0.000000     0.0      0.0  0.000000     0.0   \n",
       "97  0.000000  0.000000  0.000000  0.000000     0.0      0.0  0.000000     0.0   \n",
       "98  0.000000  0.000000  0.000000  0.000000     0.0      0.0  0.000000     0.0   \n",
       "99  0.000000  0.000000  0.437391  0.000000     0.0      0.0  0.000000     0.0   \n",
       "\n",
       "          de  delicious  ...     staff  table      time  try        us  \\\n",
       "0   0.216935   0.160735  ...  0.000000    0.0  0.000000  0.0  0.000000   \n",
       "1   0.000000   0.000000  ...  0.341898    0.0  0.000000  0.0  0.335530   \n",
       "2   0.000000   0.000000  ...  0.275552    0.0  0.000000  0.0  0.000000   \n",
       "3   0.000000   0.000000  ...  0.000000    0.0  0.169625  0.0  0.000000   \n",
       "4   0.000000   0.000000  ...  0.000000    0.0  0.000000  0.0  0.668142   \n",
       "..       ...        ...  ...       ...    ...       ...  ...       ...   \n",
       "95  0.000000   0.239793  ...  0.000000    0.0  0.000000  0.0  0.000000   \n",
       "96  0.000000   0.000000  ...  0.000000    0.0  0.000000  0.0  0.000000   \n",
       "97  0.000000   0.000000  ...  0.000000    0.0  0.536665  0.0  0.000000   \n",
       "98  0.000000   0.000000  ...  0.000000    0.0  0.000000  0.0  0.000000   \n",
       "99  0.000000   0.306241  ...  0.000000    0.0  0.000000  0.0  0.000000   \n",
       "\n",
       "    waiter      well     went      wine     would  \n",
       "0      0.0  0.192796  0.00000  0.000000  0.000000  \n",
       "1      0.0  0.000000  0.00000  0.348593  0.000000  \n",
       "2      0.0  0.292649  0.32087  0.000000  0.000000  \n",
       "3      0.0  0.000000  0.00000  0.185885  0.193627  \n",
       "4      0.0  0.000000  0.00000  0.000000  0.000000  \n",
       "..     ...       ...      ...       ...       ...  \n",
       "95     0.0  0.000000  0.00000  0.000000  0.287624  \n",
       "96     0.0  0.000000  0.00000  0.000000  0.000000  \n",
       "97     0.0  0.000000  0.00000  0.000000  0.000000  \n",
       "98     0.0  0.000000  0.00000  0.000000  0.000000  \n",
       "99     0.0  0.000000  0.00000  0.000000  0.000000  \n",
       "\n",
       "[100 rows x 50 columns]"
      ]
     },
     "execution_count": 265,
     "metadata": {},
     "output_type": "execute_result"
    }
   ],
   "source": [
    "tf_idf_vectorizer = TfidfVectorizer(max_features = 50)\n",
    "\n",
    "X = tf_idf_vectorizer.fit_transform(data['review_clean'])\n",
    "\n",
    "X.toarray()\n",
    "\n",
    "pd.DataFrame(X.toarray(),columns = tf_idf_vectorizer.get_feature_names())"
   ]
  },
  {
   "cell_type": "code",
   "execution_count": 266,
   "id": "2948affd",
   "metadata": {},
   "outputs": [],
   "source": [
    "data2 = data.groupby('alias').agg({'review_clean' : ' '.join})  "
   ]
  },
  {
   "cell_type": "code",
   "execution_count": 267,
   "id": "0ce0f83b",
   "metadata": {},
   "outputs": [
    {
     "data": {
      "text/html": [
       "<div>\n",
       "<style scoped>\n",
       "    .dataframe tbody tr th:only-of-type {\n",
       "        vertical-align: middle;\n",
       "    }\n",
       "\n",
       "    .dataframe tbody tr th {\n",
       "        vertical-align: top;\n",
       "    }\n",
       "\n",
       "    .dataframe thead th {\n",
       "        text-align: right;\n",
       "    }\n",
       "</style>\n",
       "<table border=\"1\" class=\"dataframe\">\n",
       "  <thead>\n",
       "    <tr style=\"text-align: right;\">\n",
       "      <th></th>\n",
       "      <th>review_clean</th>\n",
       "    </tr>\n",
       "    <tr>\n",
       "      <th>alias</th>\n",
       "      <th></th>\n",
       "    </tr>\n",
       "  </thead>\n",
       "  <tbody>\n",
       "    <tr>\n",
       "      <th>la-romantica-clichy</th>\n",
       "      <td>im italian hard core im bewildered reviews peo...</td>\n",
       "    </tr>\n",
       "    <tr>\n",
       "      <th>le-dome-paris-13</th>\n",
       "      <td>first dining experience paris le dome walking ...</td>\n",
       "    </tr>\n",
       "    <tr>\n",
       "      <th>le-durand-dupont-neuilly-sur-seine</th>\n",
       "      <td>brunchbreakfast rainy neuilly market day quite...</td>\n",
       "    </tr>\n",
       "    <tr>\n",
       "      <th>le-petit-villiers-paris-2</th>\n",
       "      <td>small cafe wagman area paris right across metr...</td>\n",
       "    </tr>\n",
       "    <tr>\n",
       "      <th>le-sud-paris</th>\n",
       "      <td>traditional parisian cooking style restaurant ...</td>\n",
       "    </tr>\n",
       "    <tr>\n",
       "      <th>oresto-paris-3</th>\n",
       "      <td>cozy cafe nice vibe playing latin music whole ...</td>\n",
       "    </tr>\n",
       "    <tr>\n",
       "      <th>schwartzs-deli-paris-5</th>\n",
       "      <td>came schwartzs looking take bit break french c...</td>\n",
       "    </tr>\n",
       "    <tr>\n",
       "      <th>un-air-de-famille-paris-2</th>\n",
       "      <td>stopped around rainy friday night quite table ...</td>\n",
       "    </tr>\n",
       "  </tbody>\n",
       "</table>\n",
       "</div>"
      ],
      "text/plain": [
       "                                                                         review_clean\n",
       "alias                                                                                \n",
       "la-romantica-clichy                 im italian hard core im bewildered reviews peo...\n",
       "le-dome-paris-13                    first dining experience paris le dome walking ...\n",
       "le-durand-dupont-neuilly-sur-seine  brunchbreakfast rainy neuilly market day quite...\n",
       "le-petit-villiers-paris-2           small cafe wagman area paris right across metr...\n",
       "le-sud-paris                        traditional parisian cooking style restaurant ...\n",
       "oresto-paris-3                      cozy cafe nice vibe playing latin music whole ...\n",
       "schwartzs-deli-paris-5              came schwartzs looking take bit break french c...\n",
       "un-air-de-famille-paris-2           stopped around rainy friday night quite table ..."
      ]
     },
     "execution_count": 267,
     "metadata": {},
     "output_type": "execute_result"
    }
   ],
   "source": [
    "data2"
   ]
  },
  {
   "cell_type": "code",
   "execution_count": 268,
   "id": "7a053229",
   "metadata": {},
   "outputs": [
    {
     "name": "stdout",
     "output_type": "stream",
     "text": [
      "Topic 0:\n",
      "[('low', 0.16667203055152816), ('amazing', 0.16667166935213276), ('end', 0.16667158568074084), ('surprised', 0.166671503301233), ('experience', 0.16667150170739092), ('enjoyed', 0.16667148069508958), ('day', 0.16667137463140227), ('rich', 0.16667136493753615), ('hot', 0.16667135329667357), ('lovely', 0.16667135324080276)]\n",
      "Topic 1:\n",
      "[('good', 0.7152493524327097), ('food', 0.6458887510465938), ('nice', 0.6274613999379883), ('burger', 0.615075895439986), ('menu', 0.5725930333044262), ('french', 0.569703634949571), ('restaurant', 0.547863569294119), ('great', 0.5339624766782297), ('service', 0.5285346719904848), ('like', 0.5233209824627415)]\n",
      "Topic 2:\n",
      "[('low', 0.16667203055267316), ('amazing', 0.1666716693521188), ('end', 0.16667158568061557), ('surprised', 0.16667150330127217), ('experience', 0.16667150170728873), ('enjoyed', 0.16667148069548499), ('day', 0.16667137463127654), ('rich', 0.1666713649373183), ('hot', 0.16667135329665933), ('lovely', 0.16667135324139984)]\n",
      "Topic 3:\n",
      "[('low', 0.1666720305531821), ('amazing', 0.16667166935221733), ('end', 0.16667158568096946), ('surprised', 0.16667150330123723), ('experience', 0.1666715017075869), ('enjoyed', 0.16667148069572377), ('day', 0.16667137463163179), ('rich', 0.16667136493788293), ('hot', 0.16667135329675986), ('lovely', 0.16667135324174842)]\n",
      "Topic 4:\n",
      "[('pasta', 0.45536082291889957), ('great', 0.38941206536747597), ('wine', 0.3861851373417652), ('nous', 0.3690159894150439), ('dome', 0.3690159894150439), ('italian', 0.36206262692016344), ('cheese', 0.353313398908528), ('delicious', 0.34664402742656625), ('good', 0.3441544826060868), ('vous', 0.34372165563618334)]\n",
      "Topic 5:\n",
      "[('bling', 0.34376287624020296), ('decaf', 0.34376287624020296), ('americain', 0.34376287624020296), ('bag', 0.34376287624020296), ('tartine', 0.34376287624020296), ('chaud', 0.34376287624020296), ('mixed', 0.31512290373585305), ('brunch', 0.3151141516234729), ('est', 0.31511337982755006), ('chocolat', 0.3151132444459317)]\n"
     ]
    },
    {
     "name": "stderr",
     "output_type": "stream",
     "text": [
      "/Users/manoharan/.pyenv/versions/3.8.12/envs/FOBO/lib/python3.8/site-packages/sklearn/utils/deprecation.py:87: FutureWarning: Function get_feature_names is deprecated; get_feature_names is deprecated in 1.0 and will be removed in 1.2. Please use get_feature_names_out instead.\n",
      "  warnings.warn(msg, category=FutureWarning)\n"
     ]
    }
   ],
   "source": [
    "from sklearn.decomposition import LatentDirichletAllocation\n",
    "from sklearn.feature_extraction.text import TfidfVectorizer\n",
    "vectorizer = TfidfVectorizer(min_df=0.12)\n",
    "vectorizer.fit(data2['review_clean'])\n",
    "\n",
    "data_vectorized = vectorizer.transform(data2['review_clean'])\n",
    "\n",
    "lda_model = LatentDirichletAllocation(n_components=6).fit(data_vectorized)\n",
    "\n",
    "def print_topics(model, vectorizer):\n",
    "    for idx, topic in enumerate(model.components_):\n",
    "        print(\"Topic %d:\" % (idx))\n",
    "        print([(vectorizer.get_feature_names()[i], topic[i])\n",
    "                        for i in topic.argsort()[:-10 - 1:-1]])\n",
    "        \n",
    "\n",
    "print_topics(lda_model, vectorizer)"
   ]
  },
  {
   "cell_type": "code",
   "execution_count": null,
   "id": "5c53c4e2",
   "metadata": {},
   "outputs": [],
   "source": []
  },
  {
   "cell_type": "code",
   "execution_count": 269,
   "id": "c3cfd974",
   "metadata": {},
   "outputs": [
    {
     "name": "stdout",
     "output_type": "stream",
     "text": [
      "/Users/manoharan/code/fobokiller/notebooks\r\n"
     ]
    }
   ],
   "source": [
    "!pwd"
   ]
  },
  {
   "cell_type": "code",
   "execution_count": null,
   "id": "6b97759c",
   "metadata": {},
   "outputs": [],
   "source": []
  }
 ],
 "metadata": {
  "kernelspec": {
   "display_name": "Python 3 (ipykernel)",
   "language": "python",
   "name": "python3"
  },
  "language_info": {
   "codemirror_mode": {
    "name": "ipython",
    "version": 3
   },
   "file_extension": ".py",
   "mimetype": "text/x-python",
   "name": "python",
   "nbconvert_exporter": "python",
   "pygments_lexer": "ipython3",
   "version": "3.8.12"
  },
  "toc": {
   "base_numbering": 1,
   "nav_menu": {},
   "number_sections": true,
   "sideBar": true,
   "skip_h1_title": false,
   "title_cell": "Table of Contents",
   "title_sidebar": "Contents",
   "toc_cell": false,
   "toc_position": {},
   "toc_section_display": true,
   "toc_window_display": false
  }
 },
 "nbformat": 4,
 "nbformat_minor": 5
}
