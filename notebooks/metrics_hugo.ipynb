{
 "cells": [
  {
   "cell_type": "code",
   "execution_count": 4,
   "id": "6bfafd18",
   "metadata": {},
   "outputs": [
    {
     "name": "stdout",
     "output_type": "stream",
     "text": [
      "The autoreload extension is already loaded. To reload it, use:\n",
      "  %reload_ext autoreload\n"
     ]
    }
   ],
   "source": [
    "%load_ext autoreload\n",
    "%autoreload 2"
   ]
  },
  {
   "cell_type": "code",
   "execution_count": 5,
   "id": "c8666cad",
   "metadata": {
    "ExecuteTime": {
     "end_time": "2021-11-26T09:58:12.408881Z",
     "start_time": "2021-11-26T09:58:04.194477Z"
    }
   },
   "outputs": [],
   "source": [
    "import pandas as pd \n",
    "import numpy as np\n",
    "import time\n",
    "from sentence_transformers import SentenceTransformer,util\n",
    "import tensorflow\n",
    "import pickle"
   ]
  },
  {
   "cell_type": "code",
   "execution_count": 8,
   "id": "0e2b9df4",
   "metadata": {
    "ExecuteTime": {
     "end_time": "2021-11-26T09:58:37.126538Z",
     "start_time": "2021-11-26T09:58:29.565403Z"
    }
   },
   "outputs": [],
   "source": [
    "from fobokiller.cosim import load_embedding , compute_sim_df ,model"
   ]
  },
  {
   "cell_type": "code",
   "execution_count": 13,
   "id": "37ec6a84",
   "metadata": {
    "ExecuteTime": {
     "end_time": "2021-11-26T09:58:39.068063Z",
     "start_time": "2021-11-26T09:58:37.130531Z"
    }
   },
   "outputs": [
    {
     "name": "stderr",
     "output_type": "stream",
     "text": [
      "2021-11-26 15:28:39.804607: I tensorflow/core/platform/cpu_feature_guard.cc:151] This TensorFlow binary is optimized with oneAPI Deep Neural Network Library (oneDNN) to use the following CPU instructions in performance-critical operations:  AVX2 FMA\n",
      "To enable them in other operations, rebuild TensorFlow with the appropriate compiler flags.\n"
     ]
    }
   ],
   "source": [
    "embedding = load_embedding()"
   ]
  },
  {
   "cell_type": "code",
   "execution_count": 132,
   "id": "fc15acda",
   "metadata": {
    "ExecuteTime": {
     "end_time": "2021-11-26T10:00:26.905692Z",
     "start_time": "2021-11-26T10:00:11.790666Z"
    }
   },
   "outputs": [
    {
     "data": {
      "text/html": [
       "<div>\n",
       "<style scoped>\n",
       "    .dataframe tbody tr th:only-of-type {\n",
       "        vertical-align: middle;\n",
       "    }\n",
       "\n",
       "    .dataframe tbody tr th {\n",
       "        vertical-align: top;\n",
       "    }\n",
       "\n",
       "    .dataframe thead th {\n",
       "        text-align: right;\n",
       "    }\n",
       "</style>\n",
       "<table border=\"1\" class=\"dataframe\">\n",
       "  <thead>\n",
       "    <tr style=\"text-align: right;\">\n",
       "      <th></th>\n",
       "      <th>alias</th>\n",
       "      <th>date</th>\n",
       "      <th>rate</th>\n",
       "      <th>review_sentences_s</th>\n",
       "      <th>sim_s</th>\n",
       "      <th>rate_filtered</th>\n",
       "      <th>review_filtered</th>\n",
       "      <th>review_clean_r</th>\n",
       "      <th>sim_r</th>\n",
       "      <th>rate_all</th>\n",
       "      <th>review_all</th>\n",
       "      <th>ratio</th>\n",
       "    </tr>\n",
       "  </thead>\n",
       "  <tbody>\n",
       "    <tr>\n",
       "      <th>0</th>\n",
       "      <td>pizza-julia-paris</td>\n",
       "      <td>2015-08-06</td>\n",
       "      <td>5</td>\n",
       "      <td>perfect place for some good pizza -- fresh ing...</td>\n",
       "      <td>0.663496</td>\n",
       "      <td>4.620253</td>\n",
       "      <td>45</td>\n",
       "      <td>perfect place for some good pizza -- fresh ing...</td>\n",
       "      <td>0.503197</td>\n",
       "      <td>4.538860</td>\n",
       "      <td>60</td>\n",
       "      <td>0.750000</td>\n",
       "    </tr>\n",
       "    <tr>\n",
       "      <th>1</th>\n",
       "      <td>firmine-paris</td>\n",
       "      <td>2018-08-16</td>\n",
       "      <td>5</td>\n",
       "      <td>must place to eat if you love pizza</td>\n",
       "      <td>0.658819</td>\n",
       "      <td>4.139241</td>\n",
       "      <td>67</td>\n",
       "      <td>great pizzas! we stopped here after we went on...</td>\n",
       "      <td>0.502106</td>\n",
       "      <td>3.903250</td>\n",
       "      <td>372</td>\n",
       "      <td>0.180108</td>\n",
       "    </tr>\n",
       "    <tr>\n",
       "      <th>2</th>\n",
       "      <td>falstaff-paris-2</td>\n",
       "      <td>2011-04-24</td>\n",
       "      <td>1</td>\n",
       "      <td>if you want pizza, go across the street to the...</td>\n",
       "      <td>0.655241</td>\n",
       "      <td>1.500000</td>\n",
       "      <td>2</td>\n",
       "      <td>i just arrived in paris and was starved! the f...</td>\n",
       "      <td>0.560329</td>\n",
       "      <td>2.010753</td>\n",
       "      <td>10</td>\n",
       "      <td>0.200000</td>\n",
       "    </tr>\n",
       "    <tr>\n",
       "      <th>3</th>\n",
       "      <td>swann-et-vincent-paris-2</td>\n",
       "      <td>2015-05-07</td>\n",
       "      <td>4</td>\n",
       "      <td>a real comfortable italian restaurant</td>\n",
       "      <td>0.652533</td>\n",
       "      <td>4.000000</td>\n",
       "      <td>1</td>\n",
       "      <td>the place is really nice and the food is great...</td>\n",
       "      <td>0.652533</td>\n",
       "      <td>4.085714</td>\n",
       "      <td>4</td>\n",
       "      <td>0.250000</td>\n",
       "    </tr>\n",
       "    <tr>\n",
       "      <th>4</th>\n",
       "      <td>carmine-café-paris-3</td>\n",
       "      <td>2017-10-20</td>\n",
       "      <td>4</td>\n",
       "      <td>pizzas somewhere</td>\n",
       "      <td>0.637849</td>\n",
       "      <td>4.315789</td>\n",
       "      <td>15</td>\n",
       "      <td>pizzas somewhere . out of . i would change the...</td>\n",
       "      <td>0.501570</td>\n",
       "      <td>4.003279</td>\n",
       "      <td>80</td>\n",
       "      <td>0.187500</td>\n",
       "    </tr>\n",
       "    <tr>\n",
       "      <th>...</th>\n",
       "      <td>...</td>\n",
       "      <td>...</td>\n",
       "      <td>...</td>\n",
       "      <td>...</td>\n",
       "      <td>...</td>\n",
       "      <td>...</td>\n",
       "      <td>...</td>\n",
       "      <td>...</td>\n",
       "      <td>...</td>\n",
       "      <td>...</td>\n",
       "      <td>...</td>\n",
       "      <td>...</td>\n",
       "    </tr>\n",
       "    <tr>\n",
       "      <th>1995</th>\n",
       "      <td>gambino-paris-2</td>\n",
       "      <td>2016-07-05</td>\n",
       "      <td>5</td>\n",
       "      <td>that's a very nice restaurant with a large cho...</td>\n",
       "      <td>0.456179</td>\n",
       "      <td>4.025000</td>\n",
       "      <td>35</td>\n",
       "      <td>my boyfriend and i split a pizza here. we just...</td>\n",
       "      <td>0.503422</td>\n",
       "      <td>4.227758</td>\n",
       "      <td>168</td>\n",
       "      <td>0.208333</td>\n",
       "    </tr>\n",
       "    <tr>\n",
       "      <th>1996</th>\n",
       "      <td>grazie-paris</td>\n",
       "      <td>2017-06-05</td>\n",
       "      <td>5</td>\n",
       "      <td>the pizza was delicious: thin crust with ampl...</td>\n",
       "      <td>0.456166</td>\n",
       "      <td>4.166667</td>\n",
       "      <td>19</td>\n",
       "      <td>i live in brooklyn, new york so my pizza stand...</td>\n",
       "      <td>0.515450</td>\n",
       "      <td>3.889381</td>\n",
       "      <td>33</td>\n",
       "      <td>0.575758</td>\n",
       "    </tr>\n",
       "    <tr>\n",
       "      <th>1997</th>\n",
       "      <td>ober-mamma-paris</td>\n",
       "      <td>2016-10-13</td>\n",
       "      <td>5</td>\n",
       "      <td>loved this place, planning on going back for ...</td>\n",
       "      <td>0.456149</td>\n",
       "      <td>4.733333</td>\n",
       "      <td>28</td>\n",
       "      <td>just so good. show up an hour early. put your ...</td>\n",
       "      <td>0.498792</td>\n",
       "      <td>4.403251</td>\n",
       "      <td>131</td>\n",
       "      <td>0.213740</td>\n",
       "    </tr>\n",
       "    <tr>\n",
       "      <th>1998</th>\n",
       "      <td>café-central-paris-5</td>\n",
       "      <td>2016-09-23</td>\n",
       "      <td>5</td>\n",
       "      <td>that was the best pizza we had in france</td>\n",
       "      <td>0.456133</td>\n",
       "      <td>4.714286</td>\n",
       "      <td>5</td>\n",
       "      <td>nice spot to enjoy some drinks. open late. bew...</td>\n",
       "      <td>0.469414</td>\n",
       "      <td>3.845258</td>\n",
       "      <td>89</td>\n",
       "      <td>0.056180</td>\n",
       "    </tr>\n",
       "    <tr>\n",
       "      <th>1999</th>\n",
       "      <td>bistro-des-augustins-paris</td>\n",
       "      <td>2019-03-07</td>\n",
       "      <td>4</td>\n",
       "      <td>restaurant near the water, so it has bit of r...</td>\n",
       "      <td>0.456110</td>\n",
       "      <td>4.666667</td>\n",
       "      <td>16</td>\n",
       "      <td>this place has excellent food! i got the chick...</td>\n",
       "      <td>0.496582</td>\n",
       "      <td>4.422668</td>\n",
       "      <td>391</td>\n",
       "      <td>0.040921</td>\n",
       "    </tr>\n",
       "  </tbody>\n",
       "</table>\n",
       "<p>2000 rows × 12 columns</p>\n",
       "</div>"
      ],
      "text/plain": [
       "                           alias        date  rate  \\\n",
       "0              pizza-julia-paris  2015-08-06     5   \n",
       "1                  firmine-paris  2018-08-16     5   \n",
       "2               falstaff-paris-2  2011-04-24     1   \n",
       "3       swann-et-vincent-paris-2  2015-05-07     4   \n",
       "4           carmine-café-paris-3  2017-10-20     4   \n",
       "...                          ...         ...   ...   \n",
       "1995             gambino-paris-2  2016-07-05     5   \n",
       "1996                grazie-paris  2017-06-05     5   \n",
       "1997            ober-mamma-paris  2016-10-13     5   \n",
       "1998        café-central-paris-5  2016-09-23     5   \n",
       "1999  bistro-des-augustins-paris  2019-03-07     4   \n",
       "\n",
       "                                     review_sentences_s     sim_s  \\\n",
       "0     perfect place for some good pizza -- fresh ing...  0.663496   \n",
       "1                   must place to eat if you love pizza  0.658819   \n",
       "2     if you want pizza, go across the street to the...  0.655241   \n",
       "3                 a real comfortable italian restaurant  0.652533   \n",
       "4                                     pizzas somewhere   0.637849   \n",
       "...                                                 ...       ...   \n",
       "1995  that's a very nice restaurant with a large cho...  0.456179   \n",
       "1996   the pizza was delicious: thin crust with ampl...  0.456166   \n",
       "1997   loved this place, planning on going back for ...  0.456149   \n",
       "1998           that was the best pizza we had in france  0.456133   \n",
       "1999   restaurant near the water, so it has bit of r...  0.456110   \n",
       "\n",
       "      rate_filtered  review_filtered  \\\n",
       "0          4.620253               45   \n",
       "1          4.139241               67   \n",
       "2          1.500000                2   \n",
       "3          4.000000                1   \n",
       "4          4.315789               15   \n",
       "...             ...              ...   \n",
       "1995       4.025000               35   \n",
       "1996       4.166667               19   \n",
       "1997       4.733333               28   \n",
       "1998       4.714286                5   \n",
       "1999       4.666667               16   \n",
       "\n",
       "                                         review_clean_r     sim_r  rate_all  \\\n",
       "0     perfect place for some good pizza -- fresh ing...  0.503197  4.538860   \n",
       "1     great pizzas! we stopped here after we went on...  0.502106  3.903250   \n",
       "2     i just arrived in paris and was starved! the f...  0.560329  2.010753   \n",
       "3     the place is really nice and the food is great...  0.652533  4.085714   \n",
       "4     pizzas somewhere . out of . i would change the...  0.501570  4.003279   \n",
       "...                                                 ...       ...       ...   \n",
       "1995  my boyfriend and i split a pizza here. we just...  0.503422  4.227758   \n",
       "1996  i live in brooklyn, new york so my pizza stand...  0.515450  3.889381   \n",
       "1997  just so good. show up an hour early. put your ...  0.498792  4.403251   \n",
       "1998  nice spot to enjoy some drinks. open late. bew...  0.469414  3.845258   \n",
       "1999  this place has excellent food! i got the chick...  0.496582  4.422668   \n",
       "\n",
       "      review_all     ratio  \n",
       "0             60  0.750000  \n",
       "1            372  0.180108  \n",
       "2             10  0.200000  \n",
       "3              4  0.250000  \n",
       "4             80  0.187500  \n",
       "...          ...       ...  \n",
       "1995         168  0.208333  \n",
       "1996          33  0.575758  \n",
       "1997         131  0.213740  \n",
       "1998          89  0.056180  \n",
       "1999         391  0.040921  \n",
       "\n",
       "[2000 rows x 12 columns]"
      ]
     },
     "execution_count": 132,
     "metadata": {},
     "output_type": "execute_result"
    }
   ],
   "source": [
    "df = compute_sim_df('I want to eat a pizza in a cosy place',np.array(embedding), 2000)\n",
    "df['ratio']=df['review_filtered']/df['review_all']\n",
    "df"
   ]
  },
  {
   "cell_type": "code",
   "execution_count": 133,
   "id": "3a64855c",
   "metadata": {},
   "outputs": [],
   "source": [
    "df['ratio_x_sim'] = df['ratio']*df['sim_r']\n",
    "df['ponderation_review'] = df['ratio']*df['sim_r']*df['review_all']\n",
    "df['ponderation_rate_review'] = df['ratio']*df['sim_r']*df.rate_all/df.review_all"
   ]
  },
  {
   "cell_type": "code",
   "execution_count": 134,
   "id": "5cfbebc1",
   "metadata": {
    "scrolled": true
   },
   "outputs": [
    {
     "data": {
      "text/plain": [
       "Index(['le-champ-de-mars-paris-4', 'café-de-flore-paris-3',\n",
       "       'shakespeare-and-company-paris', 'candelaria-paris-2', 'angelina-paris',\n",
       "       'le-relais-de-l-entrecôte-paris-3', 'la-droguerie-du-marais-paris',\n",
       "       'bateaux-parisiens-paris', 'le-relais-de-l-entrecôte-paris-4',\n",
       "       'le-bosquet-paris',\n",
       "       ...\n",
       "       'pizza-cesar-paris-2', 'louie-louie-paris', 'alice-pizza-paris-3',\n",
       "       'pietro-paris-3', 'franco-et-giacomo-paris-2', 'pizza-di-loretta-paris',\n",
       "       'pizza-julia-paris', 'il-brigante-paris', 'popine-paris',\n",
       "       'pezzo-paris'],\n",
       "      dtype='object', name='alias', length=598)"
      ]
     },
     "execution_count": 134,
     "metadata": {},
     "output_type": "execute_result"
    }
   ],
   "source": [
    "df.groupby('alias').sum().sort_values(by = 'ponderation_rate_review').index"
   ]
  },
  {
   "cell_type": "code",
   "execution_count": 135,
   "id": "ee3ff85d",
   "metadata": {},
   "outputs": [],
   "source": [
    "ponderation_rate_review = df.groupby('alias').sum().sort_values(by = 'ponderation_rate_review', \n",
    "                                      ascending=False)[:20].index\n",
    "\n",
    "ponderation_review = df.groupby('alias').sum().sort_values(by = 'ponderation_review', \n",
    "                                      ascending=False)[:20].index\n",
    "\n",
    "\n",
    "ratio = df.groupby('alias').sum().sort_values(by = 'ratio', \n",
    "                                      ascending=False)[:20].index\n",
    "sim = df.groupby('alias').sum().sort_values(by = 'sim_r', \n",
    "                                      ascending=False)[:20].index\n",
    "                                                                              "
   ]
  },
  {
   "cell_type": "code",
   "execution_count": 136,
   "id": "58e39ca7",
   "metadata": {},
   "outputs": [
    {
     "ename": "ValueError",
     "evalue": "Shape of passed values is (5, 20), indices imply (4, 20)",
     "output_type": "error",
     "traceback": [
      "\u001b[0;31m---------------------------------------------------------------------------\u001b[0m",
      "\u001b[0;31mValueError\u001b[0m                                Traceback (most recent call last)",
      "\u001b[0;32m~/.pyenv/versions/3.8.12/envs/FOBO/lib/python3.8/site-packages/pandas/core/internals/managers.py\u001b[0m in \u001b[0;36mcreate_block_manager_from_arrays\u001b[0;34m(arrays, names, axes, consolidate)\u001b[0m\n\u001b[1;32m   1773\u001b[0m         \u001b[0mblocks\u001b[0m \u001b[0;34m=\u001b[0m \u001b[0m_form_blocks\u001b[0m\u001b[0;34m(\u001b[0m\u001b[0marrays\u001b[0m\u001b[0;34m,\u001b[0m \u001b[0mnames\u001b[0m\u001b[0;34m,\u001b[0m \u001b[0maxes\u001b[0m\u001b[0;34m,\u001b[0m \u001b[0mconsolidate\u001b[0m\u001b[0;34m)\u001b[0m\u001b[0;34m\u001b[0m\u001b[0;34m\u001b[0m\u001b[0m\n\u001b[0;32m-> 1774\u001b[0;31m         \u001b[0mmgr\u001b[0m \u001b[0;34m=\u001b[0m \u001b[0mBlockManager\u001b[0m\u001b[0;34m(\u001b[0m\u001b[0mblocks\u001b[0m\u001b[0;34m,\u001b[0m \u001b[0maxes\u001b[0m\u001b[0;34m)\u001b[0m\u001b[0;34m\u001b[0m\u001b[0;34m\u001b[0m\u001b[0m\n\u001b[0m\u001b[1;32m   1775\u001b[0m     \u001b[0;32mexcept\u001b[0m \u001b[0mValueError\u001b[0m \u001b[0;32mas\u001b[0m \u001b[0me\u001b[0m\u001b[0;34m:\u001b[0m\u001b[0;34m\u001b[0m\u001b[0;34m\u001b[0m\u001b[0m\n",
      "\u001b[0;32m~/.pyenv/versions/3.8.12/envs/FOBO/lib/python3.8/site-packages/pandas/core/internals/managers.py\u001b[0m in \u001b[0;36m__init__\u001b[0;34m(self, blocks, axes, verify_integrity)\u001b[0m\n\u001b[1;32m    913\u001b[0m \u001b[0;34m\u001b[0m\u001b[0m\n\u001b[0;32m--> 914\u001b[0;31m             \u001b[0mself\u001b[0m\u001b[0;34m.\u001b[0m\u001b[0m_verify_integrity\u001b[0m\u001b[0;34m(\u001b[0m\u001b[0;34m)\u001b[0m\u001b[0;34m\u001b[0m\u001b[0;34m\u001b[0m\u001b[0m\n\u001b[0m\u001b[1;32m    915\u001b[0m \u001b[0;34m\u001b[0m\u001b[0m\n",
      "\u001b[0;32m~/.pyenv/versions/3.8.12/envs/FOBO/lib/python3.8/site-packages/pandas/core/internals/managers.py\u001b[0m in \u001b[0;36m_verify_integrity\u001b[0;34m(self)\u001b[0m\n\u001b[1;32m    920\u001b[0m             \u001b[0;32mif\u001b[0m \u001b[0mblock\u001b[0m\u001b[0;34m.\u001b[0m\u001b[0mshape\u001b[0m\u001b[0;34m[\u001b[0m\u001b[0;36m1\u001b[0m\u001b[0;34m:\u001b[0m\u001b[0;34m]\u001b[0m \u001b[0;34m!=\u001b[0m \u001b[0mmgr_shape\u001b[0m\u001b[0;34m[\u001b[0m\u001b[0;36m1\u001b[0m\u001b[0;34m:\u001b[0m\u001b[0;34m]\u001b[0m\u001b[0;34m:\u001b[0m\u001b[0;34m\u001b[0m\u001b[0;34m\u001b[0m\u001b[0m\n\u001b[0;32m--> 921\u001b[0;31m                 \u001b[0;32mraise\u001b[0m \u001b[0mconstruction_error\u001b[0m\u001b[0;34m(\u001b[0m\u001b[0mtot_items\u001b[0m\u001b[0;34m,\u001b[0m \u001b[0mblock\u001b[0m\u001b[0;34m.\u001b[0m\u001b[0mshape\u001b[0m\u001b[0;34m[\u001b[0m\u001b[0;36m1\u001b[0m\u001b[0;34m:\u001b[0m\u001b[0;34m]\u001b[0m\u001b[0;34m,\u001b[0m \u001b[0mself\u001b[0m\u001b[0;34m.\u001b[0m\u001b[0maxes\u001b[0m\u001b[0;34m)\u001b[0m\u001b[0;34m\u001b[0m\u001b[0;34m\u001b[0m\u001b[0m\n\u001b[0m\u001b[1;32m    922\u001b[0m         \u001b[0;32mif\u001b[0m \u001b[0mlen\u001b[0m\u001b[0;34m(\u001b[0m\u001b[0mself\u001b[0m\u001b[0;34m.\u001b[0m\u001b[0mitems\u001b[0m\u001b[0;34m)\u001b[0m \u001b[0;34m!=\u001b[0m \u001b[0mtot_items\u001b[0m\u001b[0;34m:\u001b[0m\u001b[0;34m\u001b[0m\u001b[0;34m\u001b[0m\u001b[0m\n",
      "\u001b[0;31mValueError\u001b[0m: Shape of passed values is (5, 20), indices imply (4, 20)",
      "\nDuring handling of the above exception, another exception occurred:\n",
      "\u001b[0;31mValueError\u001b[0m                                Traceback (most recent call last)",
      "\u001b[0;32m/var/folders/g2/fbwf804j5jq9lyct2w68nmvc0000gn/T/ipykernel_65022/1198945301.py\u001b[0m in \u001b[0;36m<module>\u001b[0;34m\u001b[0m\n\u001b[0;32m----> 1\u001b[0;31m pd.DataFrame([sim,ratio,ponderation_rate, ponderation_review, ponderation_rate_review ], \n\u001b[0m\u001b[1;32m      2\u001b[0m              index = [\"sim\",\"ratio\", \"ponderation_review\", \"ponderation_rate_review\"]).T\n",
      "\u001b[0;32m~/.pyenv/versions/3.8.12/envs/FOBO/lib/python3.8/site-packages/pandas/core/frame.py\u001b[0m in \u001b[0;36m__init__\u001b[0;34m(self, data, index, columns, dtype, copy)\u001b[0m\n\u001b[1;32m    700\u001b[0m                         \u001b[0mdtype\u001b[0m\u001b[0;34m,\u001b[0m\u001b[0;34m\u001b[0m\u001b[0;34m\u001b[0m\u001b[0m\n\u001b[1;32m    701\u001b[0m                     )\n\u001b[0;32m--> 702\u001b[0;31m                     mgr = arrays_to_mgr(\n\u001b[0m\u001b[1;32m    703\u001b[0m                         \u001b[0marrays\u001b[0m\u001b[0;34m,\u001b[0m\u001b[0;34m\u001b[0m\u001b[0;34m\u001b[0m\u001b[0m\n\u001b[1;32m    704\u001b[0m                         \u001b[0mcolumns\u001b[0m\u001b[0;34m,\u001b[0m\u001b[0;34m\u001b[0m\u001b[0;34m\u001b[0m\u001b[0m\n",
      "\u001b[0;32m~/.pyenv/versions/3.8.12/envs/FOBO/lib/python3.8/site-packages/pandas/core/internals/construction.py\u001b[0m in \u001b[0;36marrays_to_mgr\u001b[0;34m(arrays, arr_names, index, columns, dtype, verify_integrity, typ, consolidate)\u001b[0m\n\u001b[1;32m    133\u001b[0m \u001b[0;34m\u001b[0m\u001b[0m\n\u001b[1;32m    134\u001b[0m     \u001b[0;32mif\u001b[0m \u001b[0mtyp\u001b[0m \u001b[0;34m==\u001b[0m \u001b[0;34m\"block\"\u001b[0m\u001b[0;34m:\u001b[0m\u001b[0;34m\u001b[0m\u001b[0;34m\u001b[0m\u001b[0m\n\u001b[0;32m--> 135\u001b[0;31m         return create_block_manager_from_arrays(\n\u001b[0m\u001b[1;32m    136\u001b[0m             \u001b[0marrays\u001b[0m\u001b[0;34m,\u001b[0m \u001b[0marr_names\u001b[0m\u001b[0;34m,\u001b[0m \u001b[0maxes\u001b[0m\u001b[0;34m,\u001b[0m \u001b[0mconsolidate\u001b[0m\u001b[0;34m=\u001b[0m\u001b[0mconsolidate\u001b[0m\u001b[0;34m\u001b[0m\u001b[0;34m\u001b[0m\u001b[0m\n\u001b[1;32m    137\u001b[0m         )\n",
      "\u001b[0;32m~/.pyenv/versions/3.8.12/envs/FOBO/lib/python3.8/site-packages/pandas/core/internals/managers.py\u001b[0m in \u001b[0;36mcreate_block_manager_from_arrays\u001b[0;34m(arrays, names, axes, consolidate)\u001b[0m\n\u001b[1;32m   1774\u001b[0m         \u001b[0mmgr\u001b[0m \u001b[0;34m=\u001b[0m \u001b[0mBlockManager\u001b[0m\u001b[0;34m(\u001b[0m\u001b[0mblocks\u001b[0m\u001b[0;34m,\u001b[0m \u001b[0maxes\u001b[0m\u001b[0;34m)\u001b[0m\u001b[0;34m\u001b[0m\u001b[0;34m\u001b[0m\u001b[0m\n\u001b[1;32m   1775\u001b[0m     \u001b[0;32mexcept\u001b[0m \u001b[0mValueError\u001b[0m \u001b[0;32mas\u001b[0m \u001b[0me\u001b[0m\u001b[0;34m:\u001b[0m\u001b[0;34m\u001b[0m\u001b[0;34m\u001b[0m\u001b[0m\n\u001b[0;32m-> 1776\u001b[0;31m         \u001b[0;32mraise\u001b[0m \u001b[0mconstruction_error\u001b[0m\u001b[0;34m(\u001b[0m\u001b[0mlen\u001b[0m\u001b[0;34m(\u001b[0m\u001b[0marrays\u001b[0m\u001b[0;34m)\u001b[0m\u001b[0;34m,\u001b[0m \u001b[0marrays\u001b[0m\u001b[0;34m[\u001b[0m\u001b[0;36m0\u001b[0m\u001b[0;34m]\u001b[0m\u001b[0;34m.\u001b[0m\u001b[0mshape\u001b[0m\u001b[0;34m,\u001b[0m \u001b[0maxes\u001b[0m\u001b[0;34m,\u001b[0m \u001b[0me\u001b[0m\u001b[0;34m)\u001b[0m\u001b[0;34m\u001b[0m\u001b[0;34m\u001b[0m\u001b[0m\n\u001b[0m\u001b[1;32m   1777\u001b[0m     \u001b[0;32mif\u001b[0m \u001b[0mconsolidate\u001b[0m\u001b[0;34m:\u001b[0m\u001b[0;34m\u001b[0m\u001b[0;34m\u001b[0m\u001b[0m\n\u001b[1;32m   1778\u001b[0m         \u001b[0mmgr\u001b[0m\u001b[0;34m.\u001b[0m\u001b[0m_consolidate_inplace\u001b[0m\u001b[0;34m(\u001b[0m\u001b[0;34m)\u001b[0m\u001b[0;34m\u001b[0m\u001b[0;34m\u001b[0m\u001b[0m\n",
      "\u001b[0;31mValueError\u001b[0m: Shape of passed values is (5, 20), indices imply (4, 20)"
     ]
    }
   ],
   "source": [
    "pd.DataFrame([sim,ratio,ponderation_rate, ponderation_review, ponderation_rate_review ], \n",
    "             index = [\"sim\",\"ratio\", \"ponderation_review\", \"ponderation_rate_review\"]).T"
   ]
  },
  {
   "cell_type": "code",
   "execution_count": null,
   "id": "76b0c297",
   "metadata": {},
   "outputs": [],
   "source": []
  }
 ],
 "metadata": {
  "kernelspec": {
   "display_name": "Python 3 (ipykernel)",
   "language": "python",
   "name": "python3"
  },
  "language_info": {
   "codemirror_mode": {
    "name": "ipython",
    "version": 3
   },
   "file_extension": ".py",
   "mimetype": "text/x-python",
   "name": "python",
   "nbconvert_exporter": "python",
   "pygments_lexer": "ipython3",
   "version": "3.8.12"
  },
  "toc": {
   "base_numbering": 1,
   "nav_menu": {},
   "number_sections": true,
   "sideBar": true,
   "skip_h1_title": false,
   "title_cell": "Table of Contents",
   "title_sidebar": "Contents",
   "toc_cell": false,
   "toc_position": {},
   "toc_section_display": true,
   "toc_window_display": false
  }
 },
 "nbformat": 4,
 "nbformat_minor": 5
}
