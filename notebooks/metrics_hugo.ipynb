{
 "cells": [
  {
   "cell_type": "code",
   "execution_count": 4,
   "id": "953d13de",
   "metadata": {},
   "outputs": [
    {
     "name": "stdout",
     "output_type": "stream",
     "text": [
      "The autoreload extension is already loaded. To reload it, use:\n",
      "  %reload_ext autoreload\n"
     ]
    }
   ],
   "source": [
    "%load_ext autoreload\n",
    "%autoreload 2"
   ]
  },
  {
   "cell_type": "code",
   "execution_count": 5,
   "id": "c8666cad",
   "metadata": {
    "ExecuteTime": {
     "end_time": "2021-11-26T09:58:12.408881Z",
     "start_time": "2021-11-26T09:58:04.194477Z"
    }
   },
   "outputs": [],
   "source": [
    "import pandas as pd \n",
    "import numpy as np\n",
    "import time\n",
    "from sentence_transformers import SentenceTransformer,util\n",
    "import tensorflow\n",
    "import pickle"
   ]
  },
  {
   "cell_type": "code",
   "execution_count": 8,
   "id": "0e2b9df4",
   "metadata": {
    "ExecuteTime": {
     "end_time": "2021-11-26T09:58:37.126538Z",
     "start_time": "2021-11-26T09:58:29.565403Z"
    }
   },
   "outputs": [],
   "source": [
    "from fobokiller.cosim import load_embedding , compute_sim_df ,model"
   ]
  },
  {
   "cell_type": "code",
   "execution_count": 13,
   "id": "37ec6a84",
   "metadata": {
    "ExecuteTime": {
     "end_time": "2021-11-26T09:58:39.068063Z",
     "start_time": "2021-11-26T09:58:37.130531Z"
    }
   },
   "outputs": [
    {
     "name": "stderr",
     "output_type": "stream",
     "text": [
      "2021-11-26 15:28:39.804607: I tensorflow/core/platform/cpu_feature_guard.cc:151] This TensorFlow binary is optimized with oneAPI Deep Neural Network Library (oneDNN) to use the following CPU instructions in performance-critical operations:  AVX2 FMA\n",
      "To enable them in other operations, rebuild TensorFlow with the appropriate compiler flags.\n"
     ]
    }
   ],
   "source": [
    "embedding = load_embedding()"
   ]
  },
  {
   "cell_type": "code",
   "execution_count": null,
   "id": "fc15acda",
   "metadata": {
    "ExecuteTime": {
     "end_time": "2021-11-26T10:00:26.905692Z",
     "start_time": "2021-11-26T10:00:11.790666Z"
    }
   },
   "outputs": [],
   "source": [
    "df = compute_sim_df('I want to eat a pizza in a cosy place',np.array(embedding), 2000)\n",
    "df['ratio']=df['review_filtered']/df['review_all']\n",
    "df"
   ]
  },
  {
   "cell_type": "code",
   "execution_count": null,
   "id": "3a64855c",
   "metadata": {},
   "outputs": [],
   "source": [
    "df['ratio_x_sim'] = df['ratio']*df['sim_r']\n",
    "df['ponderation_review'] = df['ratio']*df['sim_r']*df['review_all']\n",
    "df['ponderation_rate_review'] = df['ratio']*df['sim_r']*df.rate_all/df.review_all"
   ]
  },
  {
   "cell_type": "code",
   "execution_count": null,
   "id": "89cc9083",
   "metadata": {
    "scrolled": true
   },
   "outputs": [],
   "source": [
    "df.groupby('alias').sum().sort_values(by = 'ponderation_rate_review').index"
   ]
  },
  {
   "cell_type": "code",
   "execution_count": null,
   "id": "ee3ff85d",
   "metadata": {},
   "outputs": [],
   "source": [
    "ponderation_rate_review = df.groupby('alias').sum().sort_values(by = 'ponderation_rate_review', \n",
    "                                      ascending=False)[:20].index\n",
    "\n",
    "ponderation_review = df.groupby('alias').sum().sort_values(by = 'ponderation_review', \n",
    "                                      ascending=False)[:20].index\n",
    "\n",
    "\n",
    "ratio = df.groupby('alias').sum().sort_values(by = 'ratio', \n",
    "                                      ascending=False)[:20].index\n",
    "sim = df.groupby('alias').sum().sort_values(by = 'sim_r', \n",
    "                                      ascending=False)[:20].index\n",
    "                                                                              "
   ]
  },
  {
   "cell_type": "code",
   "execution_count": null,
   "id": "d87fb06e",
   "metadata": {},
   "outputs": [],
   "source": [
    "pd.DataFrame([sim,ratio,ponderation_rate, ponderation_review, ponderation_rate_review ], \n",
    "             index = [\"sim\",\"ratio\", \"ponderation_review\", \"ponderation_rate_review\"]).T"
   ]
  },
  {
   "cell_type": "code",
   "execution_count": null,
   "id": "2b43052c",
   "metadata": {},
   "outputs": [],
   "source": []
  }
 ],
 "metadata": {
  "kernelspec": {
   "display_name": "Python 3 (ipykernel)",
   "language": "python",
   "name": "python3"
  },
  "language_info": {
   "codemirror_mode": {
    "name": "ipython",
    "version": 3
   },
   "file_extension": ".py",
   "mimetype": "text/x-python",
   "name": "python",
   "nbconvert_exporter": "python",
   "pygments_lexer": "ipython3",
   "version": "3.8.12"
  },
  "toc": {
   "base_numbering": 1,
   "nav_menu": {},
   "number_sections": true,
   "sideBar": true,
   "skip_h1_title": false,
   "title_cell": "Table of Contents",
   "title_sidebar": "Contents",
   "toc_cell": false,
   "toc_position": {},
   "toc_section_display": true,
   "toc_window_display": false
  }
 },
 "nbformat": 4,
 "nbformat_minor": 5
}
