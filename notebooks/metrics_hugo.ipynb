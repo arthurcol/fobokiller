{
 "cells": [
  {
   "cell_type": "markdown",
   "id": "b2ad0e2f",
   "metadata": {},
   "source": [
    "# Import"
   ]
  },
  {
   "cell_type": "code",
   "execution_count": 1,
   "id": "b673cb91",
   "metadata": {},
   "outputs": [],
   "source": [
    "%load_ext autoreload\n",
    "%autoreload 2"
   ]
  },
  {
   "cell_type": "code",
   "execution_count": 2,
   "id": "c8666cad",
   "metadata": {
    "ExecuteTime": {
     "end_time": "2021-11-26T09:58:12.408881Z",
     "start_time": "2021-11-26T09:58:04.194477Z"
    }
   },
   "outputs": [],
   "source": [
    "import pandas as pd \n",
    "import numpy as np\n",
    "import time\n",
    "from sentence_transformers import SentenceTransformer,util\n",
    "import tensorflow\n",
    "import pickle"
   ]
  },
  {
   "cell_type": "code",
   "execution_count": 4,
   "id": "0e2b9df4",
   "metadata": {
    "ExecuteTime": {
     "end_time": "2021-11-26T09:58:37.126538Z",
     "start_time": "2021-11-26T09:58:29.565403Z"
    },
    "scrolled": true
   },
   "outputs": [],
   "source": [
    "from fobokiller.cosim import load_embedding , compute_sim_df ,model"
   ]
  },
  {
   "cell_type": "code",
   "execution_count": 5,
   "id": "37ec6a84",
   "metadata": {
    "ExecuteTime": {
     "end_time": "2021-11-26T09:58:39.068063Z",
     "start_time": "2021-11-26T09:58:37.130531Z"
    }
   },
   "outputs": [
    {
     "name": "stderr",
     "output_type": "stream",
     "text": [
      "2021-11-29 09:53:05.761690: I tensorflow/core/platform/cpu_feature_guard.cc:151] This TensorFlow binary is optimized with oneAPI Deep Neural Network Library (oneDNN) to use the following CPU instructions in performance-critical operations:  AVX2 FMA\n",
      "To enable them in other operations, rebuild TensorFlow with the appropriate compiler flags.\n"
     ]
    }
   ],
   "source": [
    "embedding = load_embedding()"
   ]
  },
  {
   "cell_type": "markdown",
   "id": "3f7371ae",
   "metadata": {},
   "source": [
    "## DataFrame"
   ]
  },
  {
   "cell_type": "code",
   "execution_count": 24,
   "id": "fc15acda",
   "metadata": {
    "ExecuteTime": {
     "end_time": "2021-11-26T10:00:26.905692Z",
     "start_time": "2021-11-26T10:00:11.790666Z"
    },
    "scrolled": true
   },
   "outputs": [
    {
     "data": {
      "text/html": [
       "<div>\n",
       "<style scoped>\n",
       "    .dataframe tbody tr th:only-of-type {\n",
       "        vertical-align: middle;\n",
       "    }\n",
       "\n",
       "    .dataframe tbody tr th {\n",
       "        vertical-align: top;\n",
       "    }\n",
       "\n",
       "    .dataframe thead th {\n",
       "        text-align: right;\n",
       "    }\n",
       "</style>\n",
       "<table border=\"1\" class=\"dataframe\">\n",
       "  <thead>\n",
       "    <tr style=\"text-align: right;\">\n",
       "      <th></th>\n",
       "      <th>alias</th>\n",
       "      <th>date</th>\n",
       "      <th>rate</th>\n",
       "      <th>review_clean</th>\n",
       "      <th>review_sentences</th>\n",
       "      <th>sim_s</th>\n",
       "      <th>rate_filtered</th>\n",
       "      <th>review_filtered</th>\n",
       "      <th>sim_r</th>\n",
       "      <th>rate_all</th>\n",
       "      <th>review_all</th>\n",
       "      <th>ratio</th>\n",
       "    </tr>\n",
       "  </thead>\n",
       "  <tbody>\n",
       "    <tr>\n",
       "      <th>0</th>\n",
       "      <td>pizza-julia-paris</td>\n",
       "      <td>2015-08-06</td>\n",
       "      <td>5</td>\n",
       "      <td>perfect place for some good pizza -- fresh ing...</td>\n",
       "      <td>perfect place for some good pizza -- fresh ing...</td>\n",
       "      <td>0.663496</td>\n",
       "      <td>4.620253</td>\n",
       "      <td>45.0</td>\n",
       "      <td>0.503197</td>\n",
       "      <td>4.538860</td>\n",
       "      <td>60.0</td>\n",
       "      <td>0.750000</td>\n",
       "    </tr>\n",
       "    <tr>\n",
       "      <th>1</th>\n",
       "      <td>firmine-paris</td>\n",
       "      <td>2018-08-16</td>\n",
       "      <td>5</td>\n",
       "      <td>great pizzas! we stopped here after we went on...</td>\n",
       "      <td>must place to eat if you love pizza</td>\n",
       "      <td>0.658819</td>\n",
       "      <td>4.139241</td>\n",
       "      <td>67.0</td>\n",
       "      <td>0.502106</td>\n",
       "      <td>3.903250</td>\n",
       "      <td>372.0</td>\n",
       "      <td>0.180108</td>\n",
       "    </tr>\n",
       "    <tr>\n",
       "      <th>2</th>\n",
       "      <td>falstaff-paris-2</td>\n",
       "      <td>2011-04-24</td>\n",
       "      <td>1</td>\n",
       "      <td>i just arrived in paris and was starved! the f...</td>\n",
       "      <td>if you want pizza, go across the street to the...</td>\n",
       "      <td>0.655241</td>\n",
       "      <td>NaN</td>\n",
       "      <td>NaN</td>\n",
       "      <td>NaN</td>\n",
       "      <td>NaN</td>\n",
       "      <td>NaN</td>\n",
       "      <td>NaN</td>\n",
       "    </tr>\n",
       "    <tr>\n",
       "      <th>3</th>\n",
       "      <td>swann-et-vincent-paris-2</td>\n",
       "      <td>2015-05-07</td>\n",
       "      <td>4</td>\n",
       "      <td>the place is really nice and the food is great...</td>\n",
       "      <td>a real comfortable italian restaurant</td>\n",
       "      <td>0.652533</td>\n",
       "      <td>NaN</td>\n",
       "      <td>NaN</td>\n",
       "      <td>NaN</td>\n",
       "      <td>NaN</td>\n",
       "      <td>NaN</td>\n",
       "      <td>NaN</td>\n",
       "    </tr>\n",
       "    <tr>\n",
       "      <th>4</th>\n",
       "      <td>carmine-café-paris-3</td>\n",
       "      <td>2017-10-20</td>\n",
       "      <td>4</td>\n",
       "      <td>pizzas somewhere . out of . i would change the...</td>\n",
       "      <td>pizzas somewhere</td>\n",
       "      <td>0.637849</td>\n",
       "      <td>4.315789</td>\n",
       "      <td>15.0</td>\n",
       "      <td>0.501570</td>\n",
       "      <td>4.003279</td>\n",
       "      <td>80.0</td>\n",
       "      <td>0.187500</td>\n",
       "    </tr>\n",
       "    <tr>\n",
       "      <th>...</th>\n",
       "      <td>...</td>\n",
       "      <td>...</td>\n",
       "      <td>...</td>\n",
       "      <td>...</td>\n",
       "      <td>...</td>\n",
       "      <td>...</td>\n",
       "      <td>...</td>\n",
       "      <td>...</td>\n",
       "      <td>...</td>\n",
       "      <td>...</td>\n",
       "      <td>...</td>\n",
       "      <td>...</td>\n",
       "    </tr>\n",
       "    <tr>\n",
       "      <th>1995</th>\n",
       "      <td>gambino-paris-2</td>\n",
       "      <td>2016-07-05</td>\n",
       "      <td>5</td>\n",
       "      <td>that's a very nice restaurant with a large cho...</td>\n",
       "      <td>that's a very nice restaurant with a large cho...</td>\n",
       "      <td>0.456179</td>\n",
       "      <td>4.025000</td>\n",
       "      <td>35.0</td>\n",
       "      <td>0.503422</td>\n",
       "      <td>4.227758</td>\n",
       "      <td>168.0</td>\n",
       "      <td>0.208333</td>\n",
       "    </tr>\n",
       "    <tr>\n",
       "      <th>1996</th>\n",
       "      <td>grazie-paris</td>\n",
       "      <td>2017-06-05</td>\n",
       "      <td>5</td>\n",
       "      <td>came here on a lady-date with my friend for ou...</td>\n",
       "      <td>the pizza was delicious: thin crust with ampl...</td>\n",
       "      <td>0.456166</td>\n",
       "      <td>4.166667</td>\n",
       "      <td>19.0</td>\n",
       "      <td>0.515450</td>\n",
       "      <td>3.889381</td>\n",
       "      <td>33.0</td>\n",
       "      <td>0.575758</td>\n",
       "    </tr>\n",
       "    <tr>\n",
       "      <th>1997</th>\n",
       "      <td>ober-mamma-paris</td>\n",
       "      <td>2016-10-13</td>\n",
       "      <td>5</td>\n",
       "      <td>magnificent italian cuisine. reminded us of ou...</td>\n",
       "      <td>loved this place, planning on going back for ...</td>\n",
       "      <td>0.456149</td>\n",
       "      <td>4.733333</td>\n",
       "      <td>28.0</td>\n",
       "      <td>0.498792</td>\n",
       "      <td>4.403251</td>\n",
       "      <td>131.0</td>\n",
       "      <td>0.213740</td>\n",
       "    </tr>\n",
       "    <tr>\n",
       "      <th>1998</th>\n",
       "      <td>café-central-paris-5</td>\n",
       "      <td>2016-09-23</td>\n",
       "      <td>5</td>\n",
       "      <td>this is a wonderful place to eat dinner in par...</td>\n",
       "      <td>that was the best pizza we had in france</td>\n",
       "      <td>0.456133</td>\n",
       "      <td>4.714286</td>\n",
       "      <td>5.0</td>\n",
       "      <td>0.469414</td>\n",
       "      <td>3.845258</td>\n",
       "      <td>89.0</td>\n",
       "      <td>0.056180</td>\n",
       "    </tr>\n",
       "    <tr>\n",
       "      <th>1999</th>\n",
       "      <td>bistro-des-augustins-paris</td>\n",
       "      <td>2019-03-07</td>\n",
       "      <td>4</td>\n",
       "      <td>food was great. restaurant near the water, so ...</td>\n",
       "      <td>restaurant near the water, so it has bit of r...</td>\n",
       "      <td>0.456110</td>\n",
       "      <td>4.666667</td>\n",
       "      <td>16.0</td>\n",
       "      <td>0.496582</td>\n",
       "      <td>4.422668</td>\n",
       "      <td>391.0</td>\n",
       "      <td>0.040921</td>\n",
       "    </tr>\n",
       "  </tbody>\n",
       "</table>\n",
       "<p>2000 rows × 12 columns</p>\n",
       "</div>"
      ],
      "text/plain": [
       "                           alias        date  rate  \\\n",
       "0              pizza-julia-paris  2015-08-06     5   \n",
       "1                  firmine-paris  2018-08-16     5   \n",
       "2               falstaff-paris-2  2011-04-24     1   \n",
       "3       swann-et-vincent-paris-2  2015-05-07     4   \n",
       "4           carmine-café-paris-3  2017-10-20     4   \n",
       "...                          ...         ...   ...   \n",
       "1995             gambino-paris-2  2016-07-05     5   \n",
       "1996                grazie-paris  2017-06-05     5   \n",
       "1997            ober-mamma-paris  2016-10-13     5   \n",
       "1998        café-central-paris-5  2016-09-23     5   \n",
       "1999  bistro-des-augustins-paris  2019-03-07     4   \n",
       "\n",
       "                                           review_clean  \\\n",
       "0     perfect place for some good pizza -- fresh ing...   \n",
       "1     great pizzas! we stopped here after we went on...   \n",
       "2     i just arrived in paris and was starved! the f...   \n",
       "3     the place is really nice and the food is great...   \n",
       "4     pizzas somewhere . out of . i would change the...   \n",
       "...                                                 ...   \n",
       "1995  that's a very nice restaurant with a large cho...   \n",
       "1996  came here on a lady-date with my friend for ou...   \n",
       "1997  magnificent italian cuisine. reminded us of ou...   \n",
       "1998  this is a wonderful place to eat dinner in par...   \n",
       "1999  food was great. restaurant near the water, so ...   \n",
       "\n",
       "                                       review_sentences     sim_s  \\\n",
       "0     perfect place for some good pizza -- fresh ing...  0.663496   \n",
       "1                   must place to eat if you love pizza  0.658819   \n",
       "2     if you want pizza, go across the street to the...  0.655241   \n",
       "3                 a real comfortable italian restaurant  0.652533   \n",
       "4                                     pizzas somewhere   0.637849   \n",
       "...                                                 ...       ...   \n",
       "1995  that's a very nice restaurant with a large cho...  0.456179   \n",
       "1996   the pizza was delicious: thin crust with ampl...  0.456166   \n",
       "1997   loved this place, planning on going back for ...  0.456149   \n",
       "1998           that was the best pizza we had in france  0.456133   \n",
       "1999   restaurant near the water, so it has bit of r...  0.456110   \n",
       "\n",
       "      rate_filtered  review_filtered     sim_r  rate_all  review_all     ratio  \n",
       "0          4.620253             45.0  0.503197  4.538860        60.0  0.750000  \n",
       "1          4.139241             67.0  0.502106  3.903250       372.0  0.180108  \n",
       "2               NaN              NaN       NaN       NaN         NaN       NaN  \n",
       "3               NaN              NaN       NaN       NaN         NaN       NaN  \n",
       "4          4.315789             15.0  0.501570  4.003279        80.0  0.187500  \n",
       "...             ...              ...       ...       ...         ...       ...  \n",
       "1995       4.025000             35.0  0.503422  4.227758       168.0  0.208333  \n",
       "1996       4.166667             19.0  0.515450  3.889381        33.0  0.575758  \n",
       "1997       4.733333             28.0  0.498792  4.403251       131.0  0.213740  \n",
       "1998       4.714286              5.0  0.469414  3.845258        89.0  0.056180  \n",
       "1999       4.666667             16.0  0.496582  4.422668       391.0  0.040921  \n",
       "\n",
       "[2000 rows x 12 columns]"
      ]
     },
     "execution_count": 24,
     "metadata": {},
     "output_type": "execute_result"
    }
   ],
   "source": [
    "df = compute_sim_df('I want to eat a pizza in a cosy place',np.array(embedding), 2000, 10)\n",
    "df['ratio']=df['review_filtered']/df['review_all']\n",
    "df\n",
    "######\n",
    "#sim_r = distance moyenne par restau des reviews qui sortent\n",
    "#sim_s = distance review\n",
    "#review_filtered = nbr de review qui sortent\n",
    "#review_all = total review par restau\n",
    "#ratio = review_filtered/review_all\n",
    "######"
   ]
  },
  {
   "cell_type": "code",
   "execution_count": 25,
   "id": "a9ce6278",
   "metadata": {},
   "outputs": [
    {
     "data": {
      "text/html": [
       "<div>\n",
       "<style scoped>\n",
       "    .dataframe tbody tr th:only-of-type {\n",
       "        vertical-align: middle;\n",
       "    }\n",
       "\n",
       "    .dataframe tbody tr th {\n",
       "        vertical-align: top;\n",
       "    }\n",
       "\n",
       "    .dataframe thead th {\n",
       "        text-align: right;\n",
       "    }\n",
       "</style>\n",
       "<table border=\"1\" class=\"dataframe\">\n",
       "  <thead>\n",
       "    <tr style=\"text-align: right;\">\n",
       "      <th></th>\n",
       "      <th>alias</th>\n",
       "      <th>date</th>\n",
       "      <th>rate</th>\n",
       "      <th>review_clean</th>\n",
       "      <th>review_sentences</th>\n",
       "      <th>sim_s</th>\n",
       "      <th>rate_filtered</th>\n",
       "      <th>review_filtered</th>\n",
       "      <th>sim_r</th>\n",
       "      <th>rate_all</th>\n",
       "      <th>review_all</th>\n",
       "      <th>ratio</th>\n",
       "    </tr>\n",
       "  </thead>\n",
       "  <tbody>\n",
       "    <tr>\n",
       "      <th>2</th>\n",
       "      <td>falstaff-paris-2</td>\n",
       "      <td>2011-04-24</td>\n",
       "      <td>1</td>\n",
       "      <td>i just arrived in paris and was starved! the f...</td>\n",
       "      <td>if you want pizza, go across the street to the...</td>\n",
       "      <td>0.655241</td>\n",
       "      <td>NaN</td>\n",
       "      <td>NaN</td>\n",
       "      <td>NaN</td>\n",
       "      <td>NaN</td>\n",
       "      <td>NaN</td>\n",
       "      <td>NaN</td>\n",
       "    </tr>\n",
       "    <tr>\n",
       "      <th>1600</th>\n",
       "      <td>falstaff-paris-2</td>\n",
       "      <td>2014-07-10</td>\n",
       "      <td>2</td>\n",
       "      <td>the location of this café is perfect, right on...</td>\n",
       "      <td>salmon and shrimp pizza</td>\n",
       "      <td>0.465417</td>\n",
       "      <td>NaN</td>\n",
       "      <td>NaN</td>\n",
       "      <td>NaN</td>\n",
       "      <td>NaN</td>\n",
       "      <td>NaN</td>\n",
       "      <td>NaN</td>\n",
       "    </tr>\n",
       "  </tbody>\n",
       "</table>\n",
       "</div>"
      ],
      "text/plain": [
       "                 alias        date  rate  \\\n",
       "2     falstaff-paris-2  2011-04-24     1   \n",
       "1600  falstaff-paris-2  2014-07-10     2   \n",
       "\n",
       "                                           review_clean  \\\n",
       "2     i just arrived in paris and was starved! the f...   \n",
       "1600  the location of this café is perfect, right on...   \n",
       "\n",
       "                                       review_sentences     sim_s  \\\n",
       "2     if you want pizza, go across the street to the...  0.655241   \n",
       "1600                            salmon and shrimp pizza  0.465417   \n",
       "\n",
       "      rate_filtered  review_filtered  sim_r  rate_all  review_all  ratio  \n",
       "2               NaN              NaN    NaN       NaN         NaN    NaN  \n",
       "1600            NaN              NaN    NaN       NaN         NaN    NaN  "
      ]
     },
     "execution_count": 25,
     "metadata": {},
     "output_type": "execute_result"
    }
   ],
   "source": [
    "df[df['alias'] == 'falstaff-paris-2']"
   ]
  },
  {
   "cell_type": "markdown",
   "id": "11dbae7b",
   "metadata": {},
   "source": [
    "# Metrics"
   ]
  },
  {
   "cell_type": "markdown",
   "id": "8fce3bdc",
   "metadata": {},
   "source": [
    "## metric de calcul"
   ]
  },
  {
   "cell_type": "code",
   "execution_count": 7,
   "id": "3a64855c",
   "metadata": {},
   "outputs": [],
   "source": [
    "df['ratio_x_sim'] = df['ratio']*df['sim_r']"
   ]
  },
  {
   "cell_type": "code",
   "execution_count": 18,
   "id": "ee3ff85d",
   "metadata": {},
   "outputs": [],
   "source": [
    "ratio_x_sim = df.groupby('alias').agg({'ratio_x_sim' : 'first'}).sort_values(by = 'ratio_x_sim', \n",
    "                                      ascending=False)[:20].index\n",
    "\n",
    "ratio = df.groupby('alias').agg({'ratio' : 'first'}).sort_values(by = 'ratio', \n",
    "                                      ascending=False)[:20].index\n",
    "sim = df.groupby('alias').agg({'sim_r' : 'first'}).sort_values(by = 'sim_r', \n",
    "                                      ascending=False)[:20].index\n",
    "                                                                              "
   ]
  },
  {
   "cell_type": "code",
   "execution_count": 19,
   "id": "cb531ef6",
   "metadata": {},
   "outputs": [
    {
     "data": {
      "text/html": [
       "<div>\n",
       "<style scoped>\n",
       "    .dataframe tbody tr th:only-of-type {\n",
       "        vertical-align: middle;\n",
       "    }\n",
       "\n",
       "    .dataframe tbody tr th {\n",
       "        vertical-align: top;\n",
       "    }\n",
       "\n",
       "    .dataframe thead th {\n",
       "        text-align: right;\n",
       "    }\n",
       "</style>\n",
       "<table border=\"1\" class=\"dataframe\">\n",
       "  <thead>\n",
       "    <tr style=\"text-align: right;\">\n",
       "      <th></th>\n",
       "      <th>sim</th>\n",
       "      <th>ratio</th>\n",
       "      <th>ratio_x_sim</th>\n",
       "    </tr>\n",
       "  </thead>\n",
       "  <tbody>\n",
       "    <tr>\n",
       "      <th>0</th>\n",
       "      <td>swann-et-vincent-paris-2</td>\n",
       "      <td>popine-paris</td>\n",
       "      <td>popine-paris</td>\n",
       "    </tr>\n",
       "    <tr>\n",
       "      <th>1</th>\n",
       "      <td>pedzouille-paris</td>\n",
       "      <td>pezzo-paris</td>\n",
       "      <td>pezzo-paris</td>\n",
       "    </tr>\n",
       "    <tr>\n",
       "      <th>2</th>\n",
       "      <td>au-métro-paris-6</td>\n",
       "      <td>pizza-di-loretta-paris</td>\n",
       "      <td>pizza-di-loretta-paris</td>\n",
       "    </tr>\n",
       "    <tr>\n",
       "      <th>3</th>\n",
       "      <td>le-tricycle-paris-2</td>\n",
       "      <td>il-brigante-paris</td>\n",
       "      <td>il-brigante-paris</td>\n",
       "    </tr>\n",
       "    <tr>\n",
       "      <th>4</th>\n",
       "      <td>falstaff-paris-2</td>\n",
       "      <td>franco-et-giacomo-paris-2</td>\n",
       "      <td>franco-et-giacomo-paris-2</td>\n",
       "    </tr>\n",
       "    <tr>\n",
       "      <th>5</th>\n",
       "      <td>dong-phat-paris</td>\n",
       "      <td>pizza-julia-paris</td>\n",
       "      <td>pizza-julia-paris</td>\n",
       "    </tr>\n",
       "    <tr>\n",
       "      <th>6</th>\n",
       "      <td>la-rôtisserie-d-argent-paris</td>\n",
       "      <td>alice-pizza-paris-3</td>\n",
       "      <td>pizza-cesar-paris-2</td>\n",
       "    </tr>\n",
       "    <tr>\n",
       "      <th>7</th>\n",
       "      <td>nanashi-paris</td>\n",
       "      <td>le-fantôme-paris-2</td>\n",
       "      <td>alice-pizza-paris-3</td>\n",
       "    </tr>\n",
       "    <tr>\n",
       "      <th>8</th>\n",
       "      <td>il-gigolo-paris</td>\n",
       "      <td>pizza-cesar-paris-2</td>\n",
       "      <td>louie-louie-paris</td>\n",
       "    </tr>\n",
       "    <tr>\n",
       "      <th>9</th>\n",
       "      <td>le-petit-prince-de-paris-paris-05</td>\n",
       "      <td>pietro-paris-3</td>\n",
       "      <td>pietro-paris-3</td>\n",
       "    </tr>\n",
       "    <tr>\n",
       "      <th>10</th>\n",
       "      <td>café-marco-polo-paris-7</td>\n",
       "      <td>da-mimmo-paris</td>\n",
       "      <td>la-briciola-paris</td>\n",
       "    </tr>\n",
       "    <tr>\n",
       "      <th>11</th>\n",
       "      <td>café-latéral-paris-2</td>\n",
       "      <td>monte-cassino-paris</td>\n",
       "      <td>da-mimmo-paris</td>\n",
       "    </tr>\n",
       "    <tr>\n",
       "      <th>12</th>\n",
       "      <td>clamato-paris</td>\n",
       "      <td>louie-louie-paris</td>\n",
       "      <td>monte-cassino-paris</td>\n",
       "    </tr>\n",
       "    <tr>\n",
       "      <th>13</th>\n",
       "      <td>l-usine-charonne-paris</td>\n",
       "      <td>la-briciola-paris</td>\n",
       "      <td>le-fantôme-paris-2</td>\n",
       "    </tr>\n",
       "    <tr>\n",
       "      <th>14</th>\n",
       "      <td>le-petit-baigneur-paris</td>\n",
       "      <td>grazie-paris</td>\n",
       "      <td>grazie-paris</td>\n",
       "    </tr>\n",
       "    <tr>\n",
       "      <th>15</th>\n",
       "      <td>mori-venice-bar-paris</td>\n",
       "      <td>o-scia-paris</td>\n",
       "      <td>o-scia-paris</td>\n",
       "    </tr>\n",
       "    <tr>\n",
       "      <th>16</th>\n",
       "      <td>l-angolo-paris-2</td>\n",
       "      <td>pizzeria-popolare-paris-2</td>\n",
       "      <td>pizzeria-popolare-paris-2</td>\n",
       "    </tr>\n",
       "    <tr>\n",
       "      <th>17</th>\n",
       "      <td>chez-fernand-paris-5</td>\n",
       "      <td>maria-luisa-paris-4</td>\n",
       "      <td>maria-luisa-paris-4</td>\n",
       "    </tr>\n",
       "    <tr>\n",
       "      <th>18</th>\n",
       "      <td>taing-song-heng-paris-2</td>\n",
       "      <td>pizza-vesuvio-paris-3</td>\n",
       "      <td>hank-paris-5</td>\n",
       "    </tr>\n",
       "    <tr>\n",
       "      <th>19</th>\n",
       "      <td>jardin-des-pâtes-paris-2</td>\n",
       "      <td>hank-paris-5</td>\n",
       "      <td>pizza-vesuvio-paris-3</td>\n",
       "    </tr>\n",
       "  </tbody>\n",
       "</table>\n",
       "</div>"
      ],
      "text/plain": [
       "                                  sim                      ratio  \\\n",
       "0            swann-et-vincent-paris-2               popine-paris   \n",
       "1                    pedzouille-paris                pezzo-paris   \n",
       "2                    au-métro-paris-6     pizza-di-loretta-paris   \n",
       "3                 le-tricycle-paris-2          il-brigante-paris   \n",
       "4                    falstaff-paris-2  franco-et-giacomo-paris-2   \n",
       "5                     dong-phat-paris          pizza-julia-paris   \n",
       "6        la-rôtisserie-d-argent-paris        alice-pizza-paris-3   \n",
       "7                       nanashi-paris         le-fantôme-paris-2   \n",
       "8                     il-gigolo-paris        pizza-cesar-paris-2   \n",
       "9   le-petit-prince-de-paris-paris-05             pietro-paris-3   \n",
       "10            café-marco-polo-paris-7             da-mimmo-paris   \n",
       "11               café-latéral-paris-2        monte-cassino-paris   \n",
       "12                      clamato-paris          louie-louie-paris   \n",
       "13             l-usine-charonne-paris          la-briciola-paris   \n",
       "14            le-petit-baigneur-paris               grazie-paris   \n",
       "15              mori-venice-bar-paris               o-scia-paris   \n",
       "16                   l-angolo-paris-2  pizzeria-popolare-paris-2   \n",
       "17               chez-fernand-paris-5        maria-luisa-paris-4   \n",
       "18            taing-song-heng-paris-2      pizza-vesuvio-paris-3   \n",
       "19           jardin-des-pâtes-paris-2               hank-paris-5   \n",
       "\n",
       "                  ratio_x_sim  \n",
       "0                popine-paris  \n",
       "1                 pezzo-paris  \n",
       "2      pizza-di-loretta-paris  \n",
       "3           il-brigante-paris  \n",
       "4   franco-et-giacomo-paris-2  \n",
       "5           pizza-julia-paris  \n",
       "6         pizza-cesar-paris-2  \n",
       "7         alice-pizza-paris-3  \n",
       "8           louie-louie-paris  \n",
       "9              pietro-paris-3  \n",
       "10          la-briciola-paris  \n",
       "11             da-mimmo-paris  \n",
       "12        monte-cassino-paris  \n",
       "13         le-fantôme-paris-2  \n",
       "14               grazie-paris  \n",
       "15               o-scia-paris  \n",
       "16  pizzeria-popolare-paris-2  \n",
       "17        maria-luisa-paris-4  \n",
       "18               hank-paris-5  \n",
       "19      pizza-vesuvio-paris-3  "
      ]
     },
     "execution_count": 19,
     "metadata": {},
     "output_type": "execute_result"
    }
   ],
   "source": [
    "pd.DataFrame([sim,ratio,ratio_x_sim],['sim','ratio','ratio_x_sim'] ).T"
   ]
  },
  {
   "cell_type": "code",
   "execution_count": null,
   "id": "50c4dea5",
   "metadata": {},
   "outputs": [],
   "source": []
  },
  {
   "cell_type": "markdown",
   "id": "2d0c6c95",
   "metadata": {},
   "source": [
    "## outputs' metric"
   ]
  },
  {
   "cell_type": "code",
   "execution_count": null,
   "id": "ba240230",
   "metadata": {},
   "outputs": [],
   "source": [
    "df['restau_output'] =  df['ratio']*df['sim_r']*df['rate_filtered']/5"
   ]
  },
  {
   "cell_type": "code",
   "execution_count": null,
   "id": "4a49f04a",
   "metadata": {
    "scrolled": false
   },
   "outputs": [],
   "source": [
    "pd.DataFrame([df.groupby('alias').agg({'restau_output':'first'}).sort_values(by = 'restau_output', \n",
    "                                      ascending=False)[:20].index, ratio_x_sim ], index=['metrics_rank','output']).T"
   ]
  },
  {
   "cell_type": "markdown",
   "id": "586e4e5c",
   "metadata": {},
   "source": [
    "# PB calcul metric "
   ]
  },
  {
   "cell_type": "markdown",
   "id": "18736e0c",
   "metadata": {},
   "source": [
    "## explain pb"
   ]
  },
  {
   "cell_type": "markdown",
   "id": "5bfc77d9",
   "metadata": {},
   "source": [
    "if one restau has only one review and is closer than another one wich have more review with a less sim_s\n",
    "Then the output give at the first place the first restaurant, and after the second one but the second could be more accurate"
   ]
  },
  {
   "cell_type": "code",
   "execution_count": null,
   "id": "69eea112",
   "metadata": {},
   "outputs": [],
   "source": [
    "import matplotlib.pyplot as plt\n",
    "import numpy as np\n",
    "plt.figure(figsize =( 12,6))\n",
    "plt.scatter(1,1, c = 'g', label = 'restau 1')\n",
    "plt.scatter([1.1,.9,1,1],[1,1,.5,1.5], c='r', label = 'restau 2')\n",
    "plt.scatter(1.03,1.03, c='black', label = 'sentence')\n",
    "plt.title('PB metric', fontdict= {'fontsize' : 16})\n",
    "plt.legend(fontsize = 12);"
   ]
  },
  {
   "cell_type": "code",
   "execution_count": null,
   "id": "ada1fc21",
   "metadata": {},
   "outputs": [],
   "source": [
    "### restau 1\n",
    "restau_1_sim = .8\n",
    "restau_1_ratio = 1/1\n",
    "restau_1_metrics = .8\n",
    "\n",
    "### restau 2\n",
    "restau_2_sim = np.mean([.76,.7,.65,.71]) #=0.705\n",
    "restau_2_ratio = 4/4\n",
    "restau_2_metrics = .705\n"
   ]
  },
  {
   "cell_type": "markdown",
   "id": "b9c05f72",
   "metadata": {},
   "source": [
    "## Try to solve"
   ]
  },
  {
   "cell_type": "markdown",
   "id": "ef5ff6c2",
   "metadata": {},
   "source": [
    "### ponderation by review_filtered"
   ]
  },
  {
   "cell_type": "code",
   "execution_count": null,
   "id": "c036835f",
   "metadata": {
    "scrolled": true
   },
   "outputs": [],
   "source": [
    "total_review_output = df.groupby('alias').count().sort_values('restau_output', ascending=False)['date'][:20].sum()"
   ]
  },
  {
   "cell_type": "code",
   "execution_count": null,
   "id": "371b5fe7",
   "metadata": {},
   "outputs": [],
   "source": [
    "total_review_output"
   ]
  },
  {
   "cell_type": "code",
   "execution_count": null,
   "id": "1ec698b3",
   "metadata": {},
   "outputs": [],
   "source": [
    "df_output = df.groupby('alias').count().sort_values('restau_output', ascending=False)['date'][:20].copy()"
   ]
  },
  {
   "cell_type": "code",
   "execution_count": null,
   "id": "a1cf7239",
   "metadata": {},
   "outputs": [],
   "source": [
    "df_output.head()"
   ]
  },
  {
   "cell_type": "code",
   "execution_count": null,
   "id": "84dc155b",
   "metadata": {},
   "outputs": [],
   "source": [
    "df.groupby('alias').agg({'restau_output' : 'first'}).sort_values('restau_output', ascending = False)[:20]#[rest,'restau_output'] * rest /total_review_output"
   ]
  },
  {
   "cell_type": "code",
   "execution_count": null,
   "id": "b432b46b",
   "metadata": {},
   "outputs": [],
   "source": [
    "for rest, i in df.groupby('alias').count().sort_values('restau_output', ascending=False)['date'][:20].items():\n",
    "    df.groupby('alias').agg({'restau_output' : 'first'}).sort_values('restau_output', ascending = False)[rest,'restau_output'] * rest /total_review_output"
   ]
  },
  {
   "cell_type": "code",
   "execution_count": null,
   "id": "b670d81a",
   "metadata": {},
   "outputs": [],
   "source": [
    "restau_2_metrics * 4 / 5"
   ]
  },
  {
   "cell_type": "code",
   "execution_count": null,
   "id": "4b39d82a",
   "metadata": {},
   "outputs": [],
   "source": [
    "restau_1_metrics /5"
   ]
  },
  {
   "cell_type": "markdown",
   "id": "fdf05fbf",
   "metadata": {},
   "source": [
    "### create accurate score"
   ]
  },
  {
   "cell_type": "code",
   "execution_count": null,
   "id": "a0006d19",
   "metadata": {},
   "outputs": [],
   "source": []
  }
 ],
 "metadata": {
  "kernelspec": {
   "display_name": "Python 3 (ipykernel)",
   "language": "python",
   "name": "python3"
  },
  "language_info": {
   "codemirror_mode": {
    "name": "ipython",
    "version": 3
   },
   "file_extension": ".py",
   "mimetype": "text/x-python",
   "name": "python",
   "nbconvert_exporter": "python",
   "pygments_lexer": "ipython3",
   "version": "3.8.12"
  },
  "toc": {
   "base_numbering": 1,
   "nav_menu": {},
   "number_sections": true,
   "sideBar": true,
   "skip_h1_title": false,
   "title_cell": "Table of Contents",
   "title_sidebar": "Contents",
   "toc_cell": false,
   "toc_position": {},
   "toc_section_display": true,
   "toc_window_display": false
  }
 },
 "nbformat": 4,
 "nbformat_minor": 5
}
