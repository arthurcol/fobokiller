{
 "cells": [
  {
   "cell_type": "code",
   "execution_count": 6,
   "id": "523973c5",
   "metadata": {
    "ExecuteTime": {
     "end_time": "2021-11-26T10:37:18.144446Z",
     "start_time": "2021-11-26T10:37:17.885047Z"
    }
   },
   "outputs": [],
   "source": [
    "%load_ext autoreload \n",
    "%autoreload 2"
   ]
  },
  {
   "cell_type": "code",
   "execution_count": 47,
   "id": "c8666cad",
   "metadata": {
    "ExecuteTime": {
     "end_time": "2021-11-26T11:18:35.719720Z",
     "start_time": "2021-11-26T11:18:35.642744Z"
    }
   },
   "outputs": [],
   "source": [
    "import pandas as pd \n",
    "import numpy as np\n",
    "import time\n",
    "from sentence_transformers import SentenceTransformer,util\n",
    "import pickle\n",
    "from wordcloud import WordCloud"
   ]
  },
  {
   "cell_type": "code",
   "execution_count": 43,
   "id": "0e2b9df4",
   "metadata": {
    "ExecuteTime": {
     "end_time": "2021-11-26T11:07:51.149978Z",
     "start_time": "2021-11-26T11:07:42.643726Z"
    }
   },
   "outputs": [],
   "source": [
    "from fobokiller.cosim import load_embedding , compute_sim_df ,model"
   ]
  },
  {
   "cell_type": "code",
   "execution_count": 48,
   "id": "37ec6a84",
   "metadata": {
    "ExecuteTime": {
     "end_time": "2021-11-26T11:18:56.726867Z",
     "start_time": "2021-11-26T11:18:55.095773Z"
    }
   },
   "outputs": [],
   "source": [
    "embedding = load_embedding()"
   ]
  },
  {
   "cell_type": "code",
   "execution_count": 45,
   "id": "fc15acda",
   "metadata": {
    "ExecuteTime": {
     "end_time": "2021-11-26T11:08:07.793925Z",
     "start_time": "2021-11-26T11:07:52.943534Z"
    }
   },
   "outputs": [],
   "source": [
    "df = compute_sim_df('bad pizza',np.array(embedding),n_prox=3000,min_review=10)"
   ]
  },
  {
   "cell_type": "code",
   "execution_count": null,
   "id": "1c977208",
   "metadata": {
    "ExecuteTime": {
     "end_time": "2021-11-26T11:19:22.896821Z",
     "start_time": "2021-11-26T11:19:22.667981Z"
    }
   },
   "outputs": [],
   "source": []
  },
  {
   "cell_type": "code",
   "execution_count": 53,
   "id": "51880c30",
   "metadata": {
    "ExecuteTime": {
     "end_time": "2021-11-26T11:21:23.526836Z",
     "start_time": "2021-11-26T11:21:21.816730Z"
    }
   },
   "outputs": [],
   "source": [
    "with open('../embeddings.pkl', 'rb') as file:\n",
    "        embedding = pickle.load(file)"
   ]
  },
  {
   "cell_type": "code",
   "execution_count": 56,
   "id": "3c8cf717",
   "metadata": {
    "ExecuteTime": {
     "end_time": "2021-11-26T11:22:25.437870Z",
     "start_time": "2021-11-26T11:22:22.549582Z"
    }
   },
   "outputs": [
    {
     "name": "stdout",
     "output_type": "stream",
     "text": [
      "huggingface/tokenizers: The current process just got forked, after parallelism has already been used. Disabling parallelism to avoid deadlocks...\n",
      "To disable this warning, you can either:\n",
      "\t- Avoid using `tokenizers` before the fork if possible\n",
      "\t- Explicitly set the environment variable TOKENIZERS_PARALLELISM=(true | false)\n",
      "Collecting brotli\n",
      "  Using cached Brotli-1.0.9-cp38-cp38-macosx_10_9_x86_64.whl (421 kB)\n",
      "Installing collected packages: brotli\n",
      "Successfully installed brotli-1.0.9\n"
     ]
    }
   ],
   "source": [
    "!pip install brotli"
   ]
  },
  {
   "cell_type": "code",
   "execution_count": 58,
   "id": "a9d08c85",
   "metadata": {
    "ExecuteTime": {
     "end_time": "2021-11-26T11:23:53.020898Z",
     "start_time": "2021-11-26T11:23:52.951728Z"
    }
   },
   "outputs": [],
   "source": [
    "import bz2\n",
    "import gzip\n",
    "import lzma\n",
    "import pickle\n",
    "import brotli"
   ]
  },
  {
   "cell_type": "code",
   "execution_count": 59,
   "id": "cfe06848",
   "metadata": {
    "ExecuteTime": {
     "end_time": "2021-11-26T11:41:17.977641Z",
     "start_time": "2021-11-26T11:26:16.274540Z"
    }
   },
   "outputs": [],
   "source": [
    "with open('no_compression.pickle', 'wb') as f:\n",
    "    pickle.dump(embedding['embeddings'], f)\n",
    "\n",
    "with gzip.open(\"gzip_test.gz\", \"wb\") as f:\n",
    "    pickle.dump(embedding['embeddings'], f)\n",
    "\n",
    "with bz2.BZ2File('bz2_test.pbz2', 'wb') as f:\n",
    "    pickle.dump(embedding['embeddings'], f)\n",
    "\n",
    "with lzma.open(\"lmza_test.xz\", \"wb\") as f:\n",
    "    pickle.dump(embedding['embeddings'], f)"
   ]
  },
  {
   "cell_type": "code",
   "execution_count": 60,
   "id": "55868727",
   "metadata": {
    "ExecuteTime": {
     "end_time": "2021-11-26T11:41:18.338752Z",
     "start_time": "2021-11-26T11:41:18.013055Z"
    }
   },
   "outputs": [
    {
     "ename": "AttributeError",
     "evalue": "module 'time' has no attribute 'start'",
     "output_type": "error",
     "traceback": [
      "\u001b[0;31m---------------------------------------------------------------------------\u001b[0m",
      "\u001b[0;31mAttributeError\u001b[0m                            Traceback (most recent call last)",
      "\u001b[0;32m/var/folders/zd/9ts3jb2s5472mty2sgdddp3m0000gn/T/ipykernel_67263/1961390185.py\u001b[0m in \u001b[0;36m<module>\u001b[0;34m\u001b[0m\n\u001b[0;32m----> 1\u001b[0;31m \u001b[0mstart_time\u001b[0m \u001b[0;34m=\u001b[0m \u001b[0mtime\u001b[0m\u001b[0;34m.\u001b[0m\u001b[0mstart\u001b[0m\u001b[0;34m(\u001b[0m\u001b[0;34m)\u001b[0m\u001b[0;34m\u001b[0m\u001b[0;34m\u001b[0m\u001b[0m\n\u001b[0m\u001b[1;32m      2\u001b[0m \u001b[0;34m\u001b[0m\u001b[0m\n\u001b[1;32m      3\u001b[0m \u001b[0;32mwith\u001b[0m \u001b[0mopen\u001b[0m\u001b[0;34m(\u001b[0m\u001b[0;34m'no_compression.pickle'\u001b[0m\u001b[0;34m,\u001b[0m \u001b[0;34m'rb'\u001b[0m\u001b[0;34m)\u001b[0m \u001b[0;32mas\u001b[0m \u001b[0mf\u001b[0m\u001b[0;34m:\u001b[0m\u001b[0;34m\u001b[0m\u001b[0;34m\u001b[0m\u001b[0m\n\u001b[1;32m      4\u001b[0m     \u001b[0mpickle\u001b[0m\u001b[0;34m.\u001b[0m\u001b[0mload\u001b[0m\u001b[0;34m(\u001b[0m\u001b[0membedding\u001b[0m\u001b[0;34m[\u001b[0m\u001b[0;34m'embeddings'\u001b[0m\u001b[0;34m]\u001b[0m\u001b[0;34m,\u001b[0m \u001b[0mf\u001b[0m\u001b[0;34m)\u001b[0m\u001b[0;34m\u001b[0m\u001b[0;34m\u001b[0m\u001b[0m\n\u001b[1;32m      5\u001b[0m \u001b[0;34m\u001b[0m\u001b[0m\n",
      "\u001b[0;31mAttributeError\u001b[0m: module 'time' has no attribute 'start'"
     ]
    }
   ],
   "source": [
    "start_time = time.start()\n",
    "\n",
    "with open('no_compression.pickle', 'rb') as f:\n",
    "    pickle.load(embedding['embeddings'], f)\n",
    "\n",
    "pickle_time=time.time()\n",
    "print('pickle file loaded in ',pickle_time-start_time)\n",
    "\n",
    "with gzip.open(\"gzip_test.gz\", \"rb\") as f:\n",
    "    pickle.load(embedding['embeddings'], f)\n",
    "    \n",
    "gzip_time=time.time()\n",
    "print('gzip file loaded in ',gzip_time-pickle_time)\n",
    "\n",
    "with bz2.BZ2File('bz2_test.pbz2', 'rb') as f:\n",
    "    pickle.load(embedding['embeddings'], f)\n",
    "    \n",
    "bz2_time=time.time()\n",
    "print('bz2 file loaded in ',bz2_time-gzip_time)\n",
    "\n",
    "with lzma.open(\"lmza_test.xz\", \"rb\") as f:\n",
    "    pickle.load(embedding['embeddings'], f)\n",
    "    \n",
    "lzma_time=time.time()\n",
    "print('lzma file loaded in ',lzma_time-bz2_time)"
   ]
  },
  {
   "cell_type": "code",
   "execution_count": null,
   "id": "a4bd70d2",
   "metadata": {
    "ExecuteTime": {
     "end_time": "2021-11-26T11:41:18.341271Z",
     "start_time": "2021-11-26T11:41:18.341248Z"
    }
   },
   "outputs": [],
   "source": [
    "!ls -lh -I *.ipynb"
   ]
  },
  {
   "cell_type": "code",
   "execution_count": null,
   "id": "b5c110ac",
   "metadata": {},
   "outputs": [],
   "source": []
  }
 ],
 "metadata": {
  "kernelspec": {
   "display_name": "Python 3 (ipykernel)",
   "language": "python",
   "name": "python3"
  },
  "language_info": {
   "codemirror_mode": {
    "name": "ipython",
    "version": 3
   },
   "file_extension": ".py",
   "mimetype": "text/x-python",
   "name": "python",
   "nbconvert_exporter": "python",
   "pygments_lexer": "ipython3",
   "version": "3.8.12"
  },
  "toc": {
   "base_numbering": 1,
   "nav_menu": {},
   "number_sections": true,
   "sideBar": true,
   "skip_h1_title": false,
   "title_cell": "Table of Contents",
   "title_sidebar": "Contents",
   "toc_cell": false,
   "toc_position": {},
   "toc_section_display": true,
   "toc_window_display": false
  }
 },
 "nbformat": 4,
 "nbformat_minor": 5
}
