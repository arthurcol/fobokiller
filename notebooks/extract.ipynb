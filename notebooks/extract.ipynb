{
 "cells": [
  {
   "cell_type": "code",
   "execution_count": 6,
   "id": "3e633904",
   "metadata": {
    "ExecuteTime": {
     "end_time": "2021-11-26T10:37:18.144446Z",
     "start_time": "2021-11-26T10:37:17.885047Z"
    }
   },
   "outputs": [],
   "source": [
    "%load_ext autoreload \n",
    "%autoreload 2"
   ]
  },
  {
   "cell_type": "code",
   "execution_count": 47,
   "id": "c8666cad",
   "metadata": {
    "ExecuteTime": {
     "end_time": "2021-11-26T11:18:35.719720Z",
     "start_time": "2021-11-26T11:18:35.642744Z"
    }
   },
   "outputs": [],
   "source": [
    "import pandas as pd \n",
    "import numpy as np\n",
    "import time\n",
    "from sentence_transformers import SentenceTransformer,util\n",
    "import pickle\n",
    "from wordcloud import WordCloud"
   ]
  },
  {
   "cell_type": "code",
   "execution_count": 43,
   "id": "0e2b9df4",
   "metadata": {
    "ExecuteTime": {
     "end_time": "2021-11-26T11:07:51.149978Z",
     "start_time": "2021-11-26T11:07:42.643726Z"
    }
   },
   "outputs": [],
   "source": [
    "from fobokiller.cosim import load_embedding , compute_sim_df ,model"
   ]
  },
  {
   "cell_type": "code",
   "execution_count": 48,
   "id": "37ec6a84",
   "metadata": {
    "ExecuteTime": {
     "end_time": "2021-11-26T11:18:56.726867Z",
     "start_time": "2021-11-26T11:18:55.095773Z"
    }
   },
   "outputs": [],
   "source": [
    "embedding = load_embedding()"
   ]
  },
  {
   "cell_type": "code",
   "execution_count": 45,
   "id": "fc15acda",
   "metadata": {
    "ExecuteTime": {
     "end_time": "2021-11-26T11:08:07.793925Z",
     "start_time": "2021-11-26T11:07:52.943534Z"
    }
   },
   "outputs": [],
   "source": [
    "df = compute_sim_df('bad pizza',np.array(embedding),n_prox=3000,min_review=10)"
   ]
  },
  {
   "cell_type": "code",
   "execution_count": null,
   "id": "3ae3e71f",
   "metadata": {
    "ExecuteTime": {
     "end_time": "2021-11-26T11:19:22.896821Z",
     "start_time": "2021-11-26T11:19:22.667981Z"
    }
   },
   "outputs": [],
   "source": []
  },
  {
   "cell_type": "code",
   "execution_count": 53,
   "id": "51880c30",
   "metadata": {
    "ExecuteTime": {
     "end_time": "2021-11-26T11:21:23.526836Z",
     "start_time": "2021-11-26T11:21:21.816730Z"
    }
   },
   "outputs": [],
   "source": [
    "with open('../embeddings.pkl', 'rb') as file:\n",
    "        embedding = pickle.load(file)"
   ]
  },
  {
   "cell_type": "code",
   "execution_count": 56,
   "id": "209af63c",
   "metadata": {
    "ExecuteTime": {
     "end_time": "2021-11-26T11:22:25.437870Z",
     "start_time": "2021-11-26T11:22:22.549582Z"
    }
   },
   "outputs": [
    {
     "name": "stdout",
     "output_type": "stream",
     "text": [
      "huggingface/tokenizers: The current process just got forked, after parallelism has already been used. Disabling parallelism to avoid deadlocks...\n",
      "To disable this warning, you can either:\n",
      "\t- Avoid using `tokenizers` before the fork if possible\n",
      "\t- Explicitly set the environment variable TOKENIZERS_PARALLELISM=(true | false)\n",
      "Collecting brotli\n",
      "  Using cached Brotli-1.0.9-cp38-cp38-macosx_10_9_x86_64.whl (421 kB)\n",
      "Installing collected packages: brotli\n",
      "Successfully installed brotli-1.0.9\n"
     ]
    }
   ],
   "source": [
    "!pip install brotli"
   ]
  },
  {
   "cell_type": "code",
   "execution_count": 58,
   "id": "63b551f1",
   "metadata": {
    "ExecuteTime": {
     "end_time": "2021-11-26T11:23:53.020898Z",
     "start_time": "2021-11-26T11:23:52.951728Z"
    }
   },
   "outputs": [],
   "source": [
    "import bz2\n",
    "import gzip\n",
    "import lzma\n",
    "import pickle\n",
    "import brotli"
   ]
  },
  {
   "cell_type": "code",
   "execution_count": 59,
   "id": "73379812",
   "metadata": {
    "ExecuteTime": {
     "end_time": "2021-11-26T11:41:17.977641Z",
     "start_time": "2021-11-26T11:26:16.274540Z"
    }
   },
   "outputs": [],
   "source": [
    "with open('no_compression.pickle', 'wb') as f:\n",
    "    pickle.dump(embedding['embeddings'], f)\n",
    "\n",
    "with gzip.open(\"gzip_test.gz\", \"wb\") as f:\n",
    "    pickle.dump(embedding['embeddings'], f)\n",
    "\n",
    "with bz2.BZ2File('bz2_test.pbz2', 'wb') as f:\n",
    "    pickle.dump(embedding['embeddings'], f)\n",
    "\n",
    "with lzma.open(\"lmza_test.xz\", \"wb\") as f:\n",
    "    pickle.dump(embedding['embeddings'], f)"
   ]
  },
  {
   "cell_type": "code",
   "execution_count": 65,
   "id": "eb537b42",
   "metadata": {
    "ExecuteTime": {
     "end_time": "2021-11-26T11:56:34.179302Z",
     "start_time": "2021-11-26T11:53:32.503102Z"
    }
   },
   "outputs": [
    {
     "name": "stdout",
     "output_type": "stream",
     "text": [
      "pickle file loaded in  2.671520948410034\n",
      "gzip file loaded in  14.132541179656982\n",
      "bz2 file loaded in  84.58022785186768\n",
      "lzma file loaded in  80.10085701942444\n"
     ]
    }
   ],
   "source": [
    "start_time = time.time()\n",
    "\n",
    "with open('no_compression.pickle', 'rb') as f:\n",
    "    a=pickle.load(f)\n",
    "\n",
    "pickle_time=time.time()\n",
    "print('pickle file loaded in ',pickle_time-start_time)\n",
    "\n",
    "with gzip.open(\"gzip_test.gz\", \"rb\") as f:\n",
    "    b=pickle.load(f)\n",
    "    \n",
    "gzip_time=time.time()\n",
    "print('gzip file loaded in ',gzip_time-pickle_time)\n",
    "\n",
    "with bz2.BZ2File('bz2_test.pbz2', 'rb') as f:\n",
    "    c=pickle.load(f)\n",
    "    \n",
    "bz2_time=time.time()\n",
    "print('bz2 file loaded in ',bz2_time-gzip_time)\n",
    "\n",
    "with lzma.open(\"lmza_test.xz\", \"rb\") as f:\n",
    "    d=pickle.load(f)\n",
    "    \n",
    "lzma_time=time.time()\n",
    "print('lzma file loaded in ',lzma_time-bz2_time)"
   ]
  },
  {
   "cell_type": "code",
   "execution_count": 67,
   "id": "b5f87a66",
   "metadata": {
    "ExecuteTime": {
     "end_time": "2021-11-26T11:57:26.809737Z",
     "start_time": "2021-11-26T11:57:26.529091Z"
    }
   },
   "outputs": [
    {
     "name": "stdout",
     "output_type": "stream",
     "text": [
      "huggingface/tokenizers: The current process just got forked, after parallelism has already been used. Disabling parallelism to avoid deadlocks...\n",
      "To disable this warning, you can either:\n",
      "\t- Avoid using `tokenizers` before the fork if possible\n",
      "\t- Explicitly set the environment variable TOKENIZERS_PARALLELISM=(true | false)\n",
      "total 10469184\r\n",
      "-rw-r--r--  1 arthurcollard  staff    18K Nov 24 12:20 Clean_data.ipynb\r\n",
      "-rw-r--r--  1 arthurcollard  staff   119K Nov 25 10:05 Scrapping.ipynb\r\n",
      "-rw-r--r--  1 arthurcollard  staff   101K Nov 25 10:05 Scrapping_Arthur.ipynb\r\n",
      "-rw-r--r--  1 arthurcollard  staff   1.2G Nov 26 12:30 bz2_test.pbz2\r\n",
      "-rw-r--r--  1 arthurcollard  staff    98K Nov 26 11:18 dumbmodel.ipynb\r\n",
      "-rw-r--r--  1 arthurcollard  staff   1.9M Nov 26 11:18 exploratory_analysis.ipynb\r\n",
      "-rw-r--r--  1 arthurcollard  staff   7.2K Nov 26 12:56 extract.ipynb\r\n",
      "-rw-r--r--  1 arthurcollard  staff    26K Nov 26 12:48 extractbis.ipynb\r\n",
      "-rw-r--r--  1 arthurcollard  staff   1.2G Nov 26 12:27 gzip_test.gz\r\n",
      "-rw-r--r--  1 arthurcollard  staff   1.2G Nov 26 12:41 lmza_test.xz\r\n",
      "-rw-r--r--  1 arthurcollard  staff   1.3G Nov 26 12:26 no_compression.pickle\r\n",
      "-rw-r--r--  1 arthurcollard  staff   1.3M Nov 25 10:05 scrapping_packaging_yelp_arthur.ipynb\r\n",
      "-rw-r--r--  1 arthurcollard  staff    28K Nov 26 11:18 sentencetransformers_arthur.ipynb\r\n"
     ]
    }
   ],
   "source": [
    "!ls -lh"
   ]
  },
  {
   "cell_type": "code",
   "execution_count": 63,
   "id": "ffa82b6e",
   "metadata": {
    "ExecuteTime": {
     "end_time": "2021-11-26T11:52:37.212815Z",
     "start_time": "2021-11-26T11:52:37.127325Z"
    }
   },
   "outputs": [
    {
     "data": {
      "text/plain": [
       "1637927557.19904"
      ]
     },
     "execution_count": 63,
     "metadata": {},
     "output_type": "execute_result"
    }
   ],
   "source": [
    "time.time()"
   ]
  },
  {
   "cell_type": "code",
   "execution_count": null,
   "id": "31193170",
   "metadata": {},
   "outputs": [],
   "source": []
  }
 ],
 "metadata": {
  "kernelspec": {
   "display_name": "Python 3 (ipykernel)",
   "language": "python",
   "name": "python3"
  },
  "language_info": {
   "codemirror_mode": {
    "name": "ipython",
    "version": 3
   },
   "file_extension": ".py",
   "mimetype": "text/x-python",
   "name": "python",
   "nbconvert_exporter": "python",
   "pygments_lexer": "ipython3",
   "version": "3.8.12"
  },
  "toc": {
   "base_numbering": 1,
   "nav_menu": {},
   "number_sections": true,
   "sideBar": true,
   "skip_h1_title": false,
   "title_cell": "Table of Contents",
   "title_sidebar": "Contents",
   "toc_cell": false,
   "toc_position": {},
   "toc_section_display": true,
   "toc_window_display": false
  }
 },
 "nbformat": 4,
 "nbformat_minor": 5
}
