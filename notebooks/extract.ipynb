{
 "cells": [
  {
   "cell_type": "code",
   "execution_count": 1,
   "id": "c8666cad",
   "metadata": {
    "ExecuteTime": {
     "end_time": "2021-11-25T17:06:32.355449Z",
     "start_time": "2021-11-25T17:06:29.338513Z"
    }
   },
   "outputs": [],
   "source": [
    "import pandas as pd \n",
    "import numpy as np\n",
    "import time\n",
    "from sentence_transformers import SentenceTransformer,util"
   ]
  },
  {
   "cell_type": "code",
   "execution_count": 2,
   "id": "4b5dee26",
   "metadata": {
    "ExecuteTime": {
     "end_time": "2021-11-25T17:06:37.725631Z",
     "start_time": "2021-11-25T17:06:32.357502Z"
    }
   },
   "outputs": [],
   "source": [
    "df = pd.read_csv('../fobokiller/data/scrapping_cleaned_sentences.csv',index_col=0)"
   ]
  },
  {
   "cell_type": "code",
   "execution_count": 3,
   "id": "12b71b20",
   "metadata": {
    "ExecuteTime": {
     "end_time": "2021-11-25T17:06:39.016209Z",
     "start_time": "2021-11-25T17:06:37.727395Z"
    }
   },
   "outputs": [],
   "source": [
    "model = SentenceTransformer('/Users/arthurcollard/code/arthurcol/fobokiller/model')"
   ]
  },
  {
   "cell_type": "code",
   "execution_count": 4,
   "id": "f747c563",
   "metadata": {
    "ExecuteTime": {
     "end_time": "2021-11-25T17:06:39.207563Z",
     "start_time": "2021-11-25T17:06:39.018160Z"
    }
   },
   "outputs": [],
   "source": [
    "test=model.encode('I would like to eat a fucking pizza')"
   ]
  },
  {
   "cell_type": "code",
   "execution_count": 5,
   "id": "48040ee1",
   "metadata": {
    "ExecuteTime": {
     "end_time": "2021-11-25T17:06:40.933095Z",
     "start_time": "2021-11-25T17:06:39.209727Z"
    }
   },
   "outputs": [],
   "source": [
    "embedding = np.load('../embeddings.npz')['arr_0']"
   ]
  },
  {
   "cell_type": "code",
   "execution_count": 6,
   "id": "7fcd21ea",
   "metadata": {
    "ExecuteTime": {
     "end_time": "2021-11-25T17:06:46.218784Z",
     "start_time": "2021-11-25T17:06:40.938744Z"
    }
   },
   "outputs": [
    {
     "data": {
      "text/plain": [
       "torch.Size([1, 459349])"
      ]
     },
     "execution_count": 6,
     "metadata": {},
     "output_type": "execute_result"
    }
   ],
   "source": [
    "util.cos_sim(test,embedding).shape"
   ]
  },
  {
   "cell_type": "code",
   "execution_count": 15,
   "id": "6ddf842e",
   "metadata": {
    "ExecuteTime": {
     "end_time": "2021-11-25T17:07:46.903677Z",
     "start_time": "2021-11-25T17:07:46.898623Z"
    }
   },
   "outputs": [
    {
     "data": {
      "text/plain": [
       "(3000, 768)"
      ]
     },
     "execution_count": 15,
     "metadata": {},
     "output_type": "execute_result"
    }
   ],
   "source": [
    "embedding[:3000].shape"
   ]
  },
  {
   "cell_type": "code",
   "execution_count": 21,
   "id": "e191699a",
   "metadata": {
    "ExecuteTime": {
     "end_time": "2021-11-25T17:10:28.199855Z",
     "start_time": "2021-11-25T17:10:25.932828Z"
    }
   },
   "outputs": [
    {
     "name": "stdout",
     "output_type": "stream",
     "text": [
      "Clustering done after 2.25 sec\n",
      "\n",
      "Cluster 1, #204 Elements \n",
      "\t this place was probably one of the best meals i had while in paris\n",
      "\t easily one of our favorite restaurants while we were in paris\n",
      "\t this was one of my top meals in paris\n",
      "\t ...\n",
      "\t  seriously, if i were to visit paris for one day, this is where i'd be eating\n",
      "\t  i've had their cassoulet à la maison, quite possibly the best i've had in france\n",
      "\t very cute restaurant located in montmartre area in paris\n",
      "\n",
      "Cluster 2, #195 Elements \n",
      "\t  the food and service were excellent\n",
      "\t   service and food was excellent\n",
      "\t food and service were excellent\n",
      "\t ...\n",
      "\t  the food was simply fantastic\n",
      "\t  the staff were helpful and friendly\n",
      "\t  very nice staff, accommodating with children and food worth coming back for\n",
      "\n",
      "Cluster 3, #75 Elements \n",
      "\t  we had the cheese and potato gratin with duck confit and the duck breast\n",
      "\t  we split the cheese and potato gratin with smoked duck and the duck breast with sauce (i think it was honey)\n",
      "\t  i had the potatoes au gratin with duck\n",
      "\t ...\n",
      "\t  we were feeling a bit adventurous and wanted to try a french cuisine so we tried the duck with sauce of the day (raspberry)\n",
      "\t  for entrees we had duck and prom which were both scrumptious\n",
      "\t  we had a grilled vegetable and mozzarella appetizer that was delish\n",
      "\n",
      "Cluster 4, #46 Elements \n",
      "\t  i found this wonderful restaurant after reading yelp reviews for the area\n",
      "\t i found this restaurant via yelp\n",
      "\t we found this place on yelp as we were around the neighborhood looking for a place to grab dinner\n",
      "\t ...\n",
      "\t this place was recommended by our apartment rental host since we were only a minute walk to it\n",
      "\t  this restaurant is by far one of my favorite restaurants in the world\n",
      "\t  thanks yelp for the recommendation\n",
      "\n",
      "Cluster 5, #45 Elements \n",
      "\t  it is best to make reservations because this place is really small\n",
      "\t  the place is small so make a reservation\n",
      "\t  the location is small so i definitely recommend a reservation\n",
      "\t ...\n",
      "\t  technically you need a reservation because the place is so small it seats about people at most\n",
      "\t  make a reservation and you'll be all set\n",
      "\t  very small place, we made reservations because a lot places will turn you away because they are \"full\"\n",
      "\n",
      "Cluster 6, #44 Elements \n",
      "\t  i highly recommend\n",
      "\t  i highly recommend\n",
      "\t  highly recommend it\n",
      "\t ...\n",
      "\t  will recommend\n",
      "\t  absolutely recommend :)\n",
      "\t  recommend highly\n",
      "\n",
      "Cluster 7, #32 Elements \n",
      "\t  creme brulee for dessert was awesome\n",
      "\t  for dessert, i went with creme brûlée, which of course was great as well\n",
      "\t   creme brûlée was really good\n",
      "\t ...\n",
      "\t  for dessert, the creme brûlée and the white chocolate mousse\n",
      "\t  the creme brulee was good but nothing extraordinary in my opinion\n",
      "\t  then we were real vacationers and got desserts between the of us and they were amazing - crumble, creme brûlée, and the white chocolate cake\n",
      "\n",
      "Cluster 8, #29 Elements \n",
      "\t  the wine is served in baby bottles which added a fun twist\n",
      "\t  the wine in baby bottles adds a fun element to the meal\n",
      "\t  wine is served in baby bottles, a bit kitsch if you ask me, but all part of the experience\n",
      "\t ...\n",
      "\t  but when your pals inform you that they serve wine in baby bottles you have peaked my interest\n",
      "\t  - you'll be served your wine in baby bottles\n",
      "\t  the owner has found an ingenious way to get around wine glass taxation by serving the wine in a real baby bottle, complete with teat\n",
      "\n",
      "Cluster 9, #29 Elements \n",
      "\t  i would definitely come back here if i ever find myself in paris again\n",
      "\t  i will definitely come back when i visit paris again\n",
      "\t  i will definitely come back here next time i come to paris\n",
      "\t ...\n",
      "\t  we will visit this location again on our next trip to paris\n",
      "\t  we will visit this location again on our next trip to paris\n",
      "\t  i am so over paris but i would totally make a hour stopover to come eat here again\n",
      "\n",
      "Cluster 10, #28 Elements \n",
      "\t  you have the choice of either cheese or meat fondue, i went with cheese, because, well\n",
      "\t  you can choose from either meat fondue or cheese fondue\n",
      "\t  we ordered cheese fondue which was great, but next time might order one of each (cheese and meat) to sample all as the meat looked great\n",
      "\t ...\n",
      "\t  the fondue is the best i've ever had\n",
      "\t  i had the fondue bourguignone, which came with a baked potato and a very light creamy delicious sauce for the meat and the potato\n",
      "\t  the cheese fondue was good, but all you get to dip is bread - so much cheese and bread\n",
      "\n",
      "Cluster 11, #27 Elements \n",
      "\t  we had an appetizer, a bottle of wine, two entrees, dessert, coffee and a whiskey for €\n",
      "\t  for € i had glasses of wine, and appetizer and dinner\n",
      "\t  i paid like euros for an entree, dessert, and wine\n",
      "\t ...\n",
      "\t ) and entrees, with bottles of wine - total was euros, so be warned\n",
      "\t  my beau had the three course special priced meal at euros, with ripe cantalope, grilled salmon on a bed of greens and rice, followed by a rich chocolate torte\n",
      "\t  ordered the duck confit, skirt steak, and a foie gras appetizer and the bill came out to euros\n",
      "\n",
      "Cluster 12, #26 Elements \n",
      "\t  absolutely delicious\n",
      "\t  absolutely delicious\n",
      "\t very delicious\n",
      "\t ...\n",
      "\t absolutely delicious food\n",
      "\t  truely delicious\n",
      "\t  very tasty\n"
     ]
    }
   ],
   "source": [
    "start_time = time.time()\n",
    "\n",
    "clusters = util.community_detection(embedding[:10000], min_community_size=25, threshold=0.75)\n",
    "\n",
    "print(\"Clustering done after {:.2f} sec\".format(time.time() - start_time))\n",
    "\n",
    "#Print for all clusters the top 3 and bottom 3 elements\n",
    "for i, cluster in enumerate(clusters):\n",
    "    print(\"\\nCluster {}, #{} Elements \".format(i+1, len(cluster)))\n",
    "    for sentence_id in cluster[0:3]:\n",
    "        print(\"\\t\", df.loc[sentence_id,'review_sentences'])\n",
    "    print(\"\\t\", \"...\")\n",
    "    for sentence_id in cluster[-3:]:\n",
    "        print(\"\\t\", df.loc[sentence_id,'review_sentences'])\n"
   ]
  },
  {
   "cell_type": "code",
   "execution_count": null,
   "id": "5f5e242f",
   "metadata": {},
   "outputs": [],
   "source": []
  }
 ],
 "metadata": {
  "kernelspec": {
   "display_name": "Python 3 (ipykernel)",
   "language": "python",
   "name": "python3"
  },
  "language_info": {
   "codemirror_mode": {
    "name": "ipython",
    "version": 3
   },
   "file_extension": ".py",
   "mimetype": "text/x-python",
   "name": "python",
   "nbconvert_exporter": "python",
   "pygments_lexer": "ipython3",
   "version": "3.8.12"
  },
  "toc": {
   "base_numbering": 1,
   "nav_menu": {},
   "number_sections": true,
   "sideBar": true,
   "skip_h1_title": false,
   "title_cell": "Table of Contents",
   "title_sidebar": "Contents",
   "toc_cell": false,
   "toc_position": {},
   "toc_section_display": true,
   "toc_window_display": false
  }
 },
 "nbformat": 4,
 "nbformat_minor": 5
}
