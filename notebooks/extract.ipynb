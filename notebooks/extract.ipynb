{
 "cells": [
  {
   "cell_type": "code",
   "execution_count": 1,
   "id": "c8666cad",
   "metadata": {
    "ExecuteTime": {
     "end_time": "2021-11-26T09:58:12.408881Z",
     "start_time": "2021-11-26T09:58:04.194477Z"
    }
   },
   "outputs": [],
   "source": [
    "import pandas as pd \n",
    "import numpy as np\n",
    "import time\n",
    "from sentence_transformers import SentenceTransformer,util\n",
    "import tensorflow\n",
    "import pickle"
   ]
  },
  {
   "cell_type": "code",
   "execution_count": 10,
   "id": "4b5dee26",
   "metadata": {
    "ExecuteTime": {
     "end_time": "2021-11-26T10:01:59.821214Z",
     "start_time": "2021-11-26T10:01:54.051517Z"
    }
   },
   "outputs": [],
   "source": [
    "df = pd.read_csv('../fobokiller/data/scrapping_cleaned_sentences.csv',index_col=0)"
   ]
  },
  {
   "cell_type": "code",
   "execution_count": 3,
   "id": "12b71b20",
   "metadata": {
    "ExecuteTime": {
     "end_time": "2021-11-25T20:13:36.400907Z",
     "start_time": "2021-11-25T20:13:34.802983Z"
    }
   },
   "outputs": [],
   "source": [
    "model = SentenceTransformer('/Users/arthurcollard/code/arthurcol/fobokiller/model')"
   ]
  },
  {
   "cell_type": "code",
   "execution_count": 4,
   "id": "f747c563",
   "metadata": {
    "ExecuteTime": {
     "end_time": "2021-11-25T20:13:36.596082Z",
     "start_time": "2021-11-25T20:13:36.402963Z"
    }
   },
   "outputs": [],
   "source": [
    "test=model.encode('I would like to eat a fucking pizza')"
   ]
  },
  {
   "cell_type": "code",
   "execution_count": 17,
   "id": "48040ee1",
   "metadata": {
    "ExecuteTime": {
     "end_time": "2021-11-26T08:25:37.161830Z",
     "start_time": "2021-11-26T08:25:35.938071Z"
    }
   },
   "outputs": [],
   "source": [
    "embedding = np.load('../embeddings.npz')['arr_0']"
   ]
  },
  {
   "cell_type": "code",
   "execution_count": 6,
   "id": "7fcd21ea",
   "metadata": {
    "ExecuteTime": {
     "end_time": "2021-11-25T20:13:50.653664Z",
     "start_time": "2021-11-25T20:13:45.684299Z"
    }
   },
   "outputs": [
    {
     "data": {
      "text/plain": [
       "torch.Size([1, 459349])"
      ]
     },
     "execution_count": 6,
     "metadata": {},
     "output_type": "execute_result"
    }
   ],
   "source": [
    "util.cos_sim(test,embedding).shape"
   ]
  },
  {
   "cell_type": "code",
   "execution_count": 7,
   "id": "6ddf842e",
   "metadata": {
    "ExecuteTime": {
     "end_time": "2021-11-25T20:13:50.672304Z",
     "start_time": "2021-11-25T20:13:50.661891Z"
    }
   },
   "outputs": [
    {
     "data": {
      "text/plain": [
       "(3000, 768)"
      ]
     },
     "execution_count": 7,
     "metadata": {},
     "output_type": "execute_result"
    }
   ],
   "source": [
    "embedding[:3000].shape"
   ]
  },
  {
   "cell_type": "code",
   "execution_count": 8,
   "id": "e191699a",
   "metadata": {
    "ExecuteTime": {
     "end_time": "2021-11-25T20:13:56.856131Z",
     "start_time": "2021-11-25T20:13:54.749775Z"
    }
   },
   "outputs": [
    {
     "name": "stdout",
     "output_type": "stream",
     "text": [
      "Clustering done after 2.02 sec\n",
      "\n",
      "Cluster 1, #204 Elements \n",
      "\t this place was probably one of the best meals i had while in paris\n",
      "\t easily one of our favorite restaurants while we were in paris\n",
      "\t this was one of my top meals in paris\n",
      "\t ...\n",
      "\t  seriously, if i were to visit paris for one day, this is where i'd be eating\n",
      "\t  i've had their cassoulet à la maison, quite possibly the best i've had in france\n",
      "\t very cute restaurant located in montmartre area in paris\n",
      "\n",
      "Cluster 2, #195 Elements \n",
      "\t  the food and service were excellent\n",
      "\t   service and food was excellent\n",
      "\t food and service were excellent\n",
      "\t ...\n",
      "\t  the food was simply fantastic\n",
      "\t  the staff were helpful and friendly\n",
      "\t  very nice staff, accommodating with children and food worth coming back for\n",
      "\n",
      "Cluster 3, #75 Elements \n",
      "\t  we had the cheese and potato gratin with duck confit and the duck breast\n",
      "\t  we split the cheese and potato gratin with smoked duck and the duck breast with sauce (i think it was honey)\n",
      "\t  i had the potatoes au gratin with duck\n",
      "\t ...\n",
      "\t  we were feeling a bit adventurous and wanted to try a french cuisine so we tried the duck with sauce of the day (raspberry)\n",
      "\t  for entrees we had duck and prom which were both scrumptious\n",
      "\t  we had a grilled vegetable and mozzarella appetizer that was delish\n",
      "\n",
      "Cluster 4, #46 Elements \n",
      "\t  i found this wonderful restaurant after reading yelp reviews for the area\n",
      "\t i found this restaurant via yelp\n",
      "\t we found this place on yelp as we were around the neighborhood looking for a place to grab dinner\n",
      "\t ...\n",
      "\t this place was recommended by our apartment rental host since we were only a minute walk to it\n",
      "\t  this restaurant is by far one of my favorite restaurants in the world\n",
      "\t  thanks yelp for the recommendation\n",
      "\n",
      "Cluster 5, #45 Elements \n",
      "\t  it is best to make reservations because this place is really small\n",
      "\t  the place is small so make a reservation\n",
      "\t  the location is small so i definitely recommend a reservation\n",
      "\t ...\n",
      "\t  technically you need a reservation because the place is so small it seats about people at most\n",
      "\t  make a reservation and you'll be all set\n",
      "\t  very small place, we made reservations because a lot places will turn you away because they are \"full\"\n",
      "\n",
      "Cluster 6, #44 Elements \n",
      "\t  i highly recommend\n",
      "\t  i highly recommend\n",
      "\t  highly recommend it\n",
      "\t ...\n",
      "\t  will recommend\n",
      "\t  absolutely recommend :)\n",
      "\t  recommend highly\n",
      "\n",
      "Cluster 7, #32 Elements \n",
      "\t  creme brulee for dessert was awesome\n",
      "\t  for dessert, i went with creme brûlée, which of course was great as well\n",
      "\t   creme brûlée was really good\n",
      "\t ...\n",
      "\t  for dessert, the creme brûlée and the white chocolate mousse\n",
      "\t  the creme brulee was good but nothing extraordinary in my opinion\n",
      "\t  then we were real vacationers and got desserts between the of us and they were amazing - crumble, creme brûlée, and the white chocolate cake\n",
      "\n",
      "Cluster 8, #29 Elements \n",
      "\t  the wine is served in baby bottles which added a fun twist\n",
      "\t  the wine in baby bottles adds a fun element to the meal\n",
      "\t  wine is served in baby bottles, a bit kitsch if you ask me, but all part of the experience\n",
      "\t ...\n",
      "\t  but when your pals inform you that they serve wine in baby bottles you have peaked my interest\n",
      "\t  - you'll be served your wine in baby bottles\n",
      "\t  the owner has found an ingenious way to get around wine glass taxation by serving the wine in a real baby bottle, complete with teat\n",
      "\n",
      "Cluster 9, #29 Elements \n",
      "\t  i would definitely come back here if i ever find myself in paris again\n",
      "\t  i will definitely come back when i visit paris again\n",
      "\t  i will definitely come back here next time i come to paris\n",
      "\t ...\n",
      "\t  we will visit this location again on our next trip to paris\n",
      "\t  we will visit this location again on our next trip to paris\n",
      "\t  i am so over paris but i would totally make a hour stopover to come eat here again\n",
      "\n",
      "Cluster 10, #28 Elements \n",
      "\t  you have the choice of either cheese or meat fondue, i went with cheese, because, well\n",
      "\t  you can choose from either meat fondue or cheese fondue\n",
      "\t  we ordered cheese fondue which was great, but next time might order one of each (cheese and meat) to sample all as the meat looked great\n",
      "\t ...\n",
      "\t  the fondue is the best i've ever had\n",
      "\t  i had the fondue bourguignone, which came with a baked potato and a very light creamy delicious sauce for the meat and the potato\n",
      "\t  the cheese fondue was good, but all you get to dip is bread - so much cheese and bread\n",
      "\n",
      "Cluster 11, #27 Elements \n",
      "\t  we had an appetizer, a bottle of wine, two entrees, dessert, coffee and a whiskey for €\n",
      "\t  for € i had glasses of wine, and appetizer and dinner\n",
      "\t  i paid like euros for an entree, dessert, and wine\n",
      "\t ...\n",
      "\t ) and entrees, with bottles of wine - total was euros, so be warned\n",
      "\t  my beau had the three course special priced meal at euros, with ripe cantalope, grilled salmon on a bed of greens and rice, followed by a rich chocolate torte\n",
      "\t  ordered the duck confit, skirt steak, and a foie gras appetizer and the bill came out to euros\n",
      "\n",
      "Cluster 12, #26 Elements \n",
      "\t  absolutely delicious\n",
      "\t  absolutely delicious\n",
      "\t very delicious\n",
      "\t ...\n",
      "\t absolutely delicious food\n",
      "\t  truely delicious\n",
      "\t  very tasty\n"
     ]
    }
   ],
   "source": [
    "start_time = time.time()\n",
    "\n",
    "clusters = util.community_detection(embedding[:10000], min_community_size=25, threshold=0.75)\n",
    "\n",
    "print(\"Clustering done after {:.2f} sec\".format(time.time() - start_time))\n",
    "\n",
    "#Print for all clusters the top 3 and bottom 3 elements\n",
    "for i, cluster in enumerate(clusters):\n",
    "    print(\"\\nCluster {}, #{} Elements \".format(i+1, len(cluster)))\n",
    "    for sentence_id in cluster[0:3]:\n",
    "        print(\"\\t\", df.loc[sentence_id,'review_sentences'])\n",
    "    print(\"\\t\", \"...\")\n",
    "    for sentence_id in cluster[-3:]:\n",
    "        print(\"\\t\", df.loc[sentence_id,'review_sentences'])\n"
   ]
  },
  {
   "cell_type": "code",
   "execution_count": null,
   "id": "5f5e242f",
   "metadata": {
    "ExecuteTime": {
     "end_time": "2021-11-25T20:14:20.736695Z",
     "start_time": "2021-11-25T20:14:20.721811Z"
    }
   },
   "outputs": [],
   "source": []
  },
  {
   "cell_type": "code",
   "execution_count": 18,
   "id": "10f55652",
   "metadata": {
    "ExecuteTime": {
     "end_time": "2021-11-26T08:25:42.473191Z",
     "start_time": "2021-11-26T08:25:42.434536Z"
    }
   },
   "outputs": [],
   "source": [
    "embed_tf = tensorflow.convert_to_tensor(embedding)"
   ]
  },
  {
   "cell_type": "code",
   "execution_count": 19,
   "id": "defcf801",
   "metadata": {
    "ExecuteTime": {
     "end_time": "2021-11-26T08:25:43.992761Z",
     "start_time": "2021-11-26T08:25:43.982184Z"
    }
   },
   "outputs": [
    {
     "data": {
      "text/plain": [
       "((459349,), TensorShape([459349, 768]))"
      ]
     },
     "execution_count": 19,
     "metadata": {},
     "output_type": "execute_result"
    }
   ],
   "source": [
    "df['review_sentences'].shape,embed_tf.shape"
   ]
  },
  {
   "cell_type": "code",
   "execution_count": 21,
   "id": "e4dea49d",
   "metadata": {
    "ExecuteTime": {
     "end_time": "2021-11-26T08:26:06.751270Z",
     "start_time": "2021-11-26T08:26:02.591525Z"
    }
   },
   "outputs": [],
   "source": [
    "text_input = 'I want a good burger'\n",
    "input_encoded = model.encode(text_input)\n",
    "similarities = util.cos_sim(input_encoded,np.array(embed_tf))\n"
   ]
  },
  {
   "cell_type": "code",
   "execution_count": 22,
   "id": "6e343511",
   "metadata": {
    "ExecuteTime": {
     "end_time": "2021-11-26T08:26:11.731090Z",
     "start_time": "2021-11-26T08:26:11.141893Z"
    }
   },
   "outputs": [],
   "source": [
    "df_sim = df.assign(sim = similarities.T)"
   ]
  },
  {
   "cell_type": "code",
   "execution_count": 23,
   "id": "0917b260",
   "metadata": {
    "ExecuteTime": {
     "end_time": "2021-11-26T08:26:48.820115Z",
     "start_time": "2021-11-26T08:26:48.532227Z"
    }
   },
   "outputs": [
    {
     "data": {
      "text/html": [
       "<div>\n",
       "<style scoped>\n",
       "    .dataframe tbody tr th:only-of-type {\n",
       "        vertical-align: middle;\n",
       "    }\n",
       "\n",
       "    .dataframe tbody tr th {\n",
       "        vertical-align: top;\n",
       "    }\n",
       "\n",
       "    .dataframe thead th {\n",
       "        text-align: right;\n",
       "    }\n",
       "</style>\n",
       "<table border=\"1\" class=\"dataframe\">\n",
       "  <thead>\n",
       "    <tr style=\"text-align: right;\">\n",
       "      <th></th>\n",
       "      <th>alias</th>\n",
       "      <th>date</th>\n",
       "      <th>rate</th>\n",
       "      <th>review</th>\n",
       "      <th>review_clean</th>\n",
       "      <th>review_sentences</th>\n",
       "      <th>sim</th>\n",
       "    </tr>\n",
       "  </thead>\n",
       "  <tbody>\n",
       "    <tr>\n",
       "      <th>45668</th>\n",
       "      <td>john-viande-paris</td>\n",
       "      <td>2019-08-22</td>\n",
       "      <td>5</td>\n",
       "      <td>Kourosh F.\\nGaithersburg, MD\\n5\\n75\\n184\\n8/22...</td>\n",
       "      <td>good good burgers and fries.  if your american...</td>\n",
       "      <td>good good burgers and fries</td>\n",
       "      <td>0.756630</td>\n",
       "    </tr>\n",
       "    <tr>\n",
       "      <th>381029</th>\n",
       "      <td>breakfast-in-america-2-paris</td>\n",
       "      <td>2017-05-04</td>\n",
       "      <td>4</td>\n",
       "      <td>Phil B.\\nNorth Hollywood, CA\\n0\\n6\\n5/4/2017\\n...</td>\n",
       "      <td>the reason yelp exists. what a wonderful disco...</td>\n",
       "      <td>want a proper hamburger</td>\n",
       "      <td>0.756177</td>\n",
       "    </tr>\n",
       "    <tr>\n",
       "      <th>162135</th>\n",
       "      <td>h-a-n-d-paris-2</td>\n",
       "      <td>2017-07-04</td>\n",
       "      <td>1</td>\n",
       "      <td>Madison S.\\nNorthbrook, IL\\n210\\n4\\n11\\n7/4/20...</td>\n",
       "      <td>absolutly horrid. ordered a burger only to bit...</td>\n",
       "      <td>if you want a burger you're better off going ...</td>\n",
       "      <td>0.733985</td>\n",
       "    </tr>\n",
       "    <tr>\n",
       "      <th>234764</th>\n",
       "      <td>pny-burger-oberkampf-paris</td>\n",
       "      <td>2019-06-05</td>\n",
       "      <td>2</td>\n",
       "      <td>Meg N.\\nAshburn, VA\\n332\\n52\\n49\\n6/5/2019\\nI ...</td>\n",
       "      <td>i love burgers. my go to meal: burger. this pl...</td>\n",
       "      <td>i love burgers</td>\n",
       "      <td>0.729132</td>\n",
       "    </tr>\n",
       "    <tr>\n",
       "      <th>355818</th>\n",
       "      <td>the-great-canadian-paris</td>\n",
       "      <td>2013-02-25</td>\n",
       "      <td>3</td>\n",
       "      <td>Cat W.\\nRexford, NY\\n0\\n5\\n2/25/2013\\nI was in...</td>\n",
       "      <td>i was in paris with my best friend around east...</td>\n",
       "      <td>you can get a decent burger, but do you reall...</td>\n",
       "      <td>0.726475</td>\n",
       "    </tr>\n",
       "    <tr>\n",
       "      <th>...</th>\n",
       "      <td>...</td>\n",
       "      <td>...</td>\n",
       "      <td>...</td>\n",
       "      <td>...</td>\n",
       "      <td>...</td>\n",
       "      <td>...</td>\n",
       "      <td>...</td>\n",
       "    </tr>\n",
       "    <tr>\n",
       "      <th>72279</th>\n",
       "      <td>l-alsace-paris</td>\n",
       "      <td>2018-09-27</td>\n",
       "      <td>1</td>\n",
       "      <td>Samuel M.\\nMarkham, Canada\\n27\\n2\\n5\\n9/27/201...</td>\n",
       "      <td>the service is totally unacceptable when their...</td>\n",
       "      <td>we weren't aware of that as no one has explai...</td>\n",
       "      <td>-0.146532</td>\n",
       "    </tr>\n",
       "    <tr>\n",
       "      <th>299498</th>\n",
       "      <td>le-relais-de-l-entrecôte-paris-4</td>\n",
       "      <td>2011-02-10</td>\n",
       "      <td>4</td>\n",
       "      <td>Mike C.\\nElite 2021\\nSacramento, CA\\n908\\n1519...</td>\n",
       "      <td>what's not to love...meat being served by fren...</td>\n",
       "      <td>i was pretty covert about it and just used my...</td>\n",
       "      <td>-0.147287</td>\n",
       "    </tr>\n",
       "    <tr>\n",
       "      <th>423699</th>\n",
       "      <td>le-relais-de-l-entrecôte-paris-5</td>\n",
       "      <td>2015-06-02</td>\n",
       "      <td>4</td>\n",
       "      <td>Jeffrey J.\\nSan Francisco, CA\\n131\\n279\\n37\\n6...</td>\n",
       "      <td>this was a pretty cool experience. it's a no-n...</td>\n",
       "      <td>they may have been, but they certainly weren'...</td>\n",
       "      <td>-0.149319</td>\n",
       "    </tr>\n",
       "    <tr>\n",
       "      <th>187547</th>\n",
       "      <td>breizh-café-paris-2</td>\n",
       "      <td>2017-11-30</td>\n",
       "      <td>4</td>\n",
       "      <td>Kevin L.\\nElite 2021\\nLas Vegas, NV\\n129\\n313\\...</td>\n",
       "      <td>after looking for a while on yelp for a good c...</td>\n",
       "      <td>still, they are experts at their craft</td>\n",
       "      <td>-0.154124</td>\n",
       "    </tr>\n",
       "    <tr>\n",
       "      <th>215936</th>\n",
       "      <td>benoit-paris-6</td>\n",
       "      <td>2016-10-23</td>\n",
       "      <td>4</td>\n",
       "      <td>MJ F.\\nLos Angeles, CA\\n0\\n23\\n1\\n10/23/2016\\n...</td>\n",
       "      <td>recommended to me by a writer friend of mine h...</td>\n",
       "      <td>i didn't notice this to be the case</td>\n",
       "      <td>-0.156942</td>\n",
       "    </tr>\n",
       "  </tbody>\n",
       "</table>\n",
       "<p>459349 rows × 7 columns</p>\n",
       "</div>"
      ],
      "text/plain": [
       "                                   alias        date  rate  \\\n",
       "45668                  john-viande-paris  2019-08-22     5   \n",
       "381029      breakfast-in-america-2-paris  2017-05-04     4   \n",
       "162135                   h-a-n-d-paris-2  2017-07-04     1   \n",
       "234764        pny-burger-oberkampf-paris  2019-06-05     2   \n",
       "355818          the-great-canadian-paris  2013-02-25     3   \n",
       "...                                  ...         ...   ...   \n",
       "72279                     l-alsace-paris  2018-09-27     1   \n",
       "299498  le-relais-de-l-entrecôte-paris-4  2011-02-10     4   \n",
       "423699  le-relais-de-l-entrecôte-paris-5  2015-06-02     4   \n",
       "187547               breizh-café-paris-2  2017-11-30     4   \n",
       "215936                    benoit-paris-6  2016-10-23     4   \n",
       "\n",
       "                                                   review  \\\n",
       "45668   Kourosh F.\\nGaithersburg, MD\\n5\\n75\\n184\\n8/22...   \n",
       "381029  Phil B.\\nNorth Hollywood, CA\\n0\\n6\\n5/4/2017\\n...   \n",
       "162135  Madison S.\\nNorthbrook, IL\\n210\\n4\\n11\\n7/4/20...   \n",
       "234764  Meg N.\\nAshburn, VA\\n332\\n52\\n49\\n6/5/2019\\nI ...   \n",
       "355818  Cat W.\\nRexford, NY\\n0\\n5\\n2/25/2013\\nI was in...   \n",
       "...                                                   ...   \n",
       "72279   Samuel M.\\nMarkham, Canada\\n27\\n2\\n5\\n9/27/201...   \n",
       "299498  Mike C.\\nElite 2021\\nSacramento, CA\\n908\\n1519...   \n",
       "423699  Jeffrey J.\\nSan Francisco, CA\\n131\\n279\\n37\\n6...   \n",
       "187547  Kevin L.\\nElite 2021\\nLas Vegas, NV\\n129\\n313\\...   \n",
       "215936  MJ F.\\nLos Angeles, CA\\n0\\n23\\n1\\n10/23/2016\\n...   \n",
       "\n",
       "                                             review_clean  \\\n",
       "45668   good good burgers and fries.  if your american...   \n",
       "381029  the reason yelp exists. what a wonderful disco...   \n",
       "162135  absolutly horrid. ordered a burger only to bit...   \n",
       "234764  i love burgers. my go to meal: burger. this pl...   \n",
       "355818  i was in paris with my best friend around east...   \n",
       "...                                                   ...   \n",
       "72279   the service is totally unacceptable when their...   \n",
       "299498  what's not to love...meat being served by fren...   \n",
       "423699  this was a pretty cool experience. it's a no-n...   \n",
       "187547  after looking for a while on yelp for a good c...   \n",
       "215936  recommended to me by a writer friend of mine h...   \n",
       "\n",
       "                                         review_sentences       sim  \n",
       "45668                         good good burgers and fries  0.756630  \n",
       "381029                            want a proper hamburger  0.756177  \n",
       "162135   if you want a burger you're better off going ...  0.733985  \n",
       "234764                                     i love burgers  0.729132  \n",
       "355818   you can get a decent burger, but do you reall...  0.726475  \n",
       "...                                                   ...       ...  \n",
       "72279    we weren't aware of that as no one has explai... -0.146532  \n",
       "299498   i was pretty covert about it and just used my... -0.147287  \n",
       "423699   they may have been, but they certainly weren'... -0.149319  \n",
       "187547             still, they are experts at their craft -0.154124  \n",
       "215936                i didn't notice this to be the case -0.156942  \n",
       "\n",
       "[459349 rows x 7 columns]"
      ]
     },
     "execution_count": 23,
     "metadata": {},
     "output_type": "execute_result"
    }
   ],
   "source": [
    "df_sim.sort_values('sim',ascending=False)"
   ]
  },
  {
   "cell_type": "code",
   "execution_count": 39,
   "id": "760147f8",
   "metadata": {
    "ExecuteTime": {
     "end_time": "2021-11-26T08:30:09.186207Z",
     "start_time": "2021-11-26T08:30:08.664068Z"
    }
   },
   "outputs": [
    {
     "data": {
      "text/plain": [
       "(1441, 2)"
      ]
     },
     "execution_count": 39,
     "metadata": {},
     "output_type": "execute_result"
    }
   ],
   "source": [
    "## Create resto df for review count and rate mean \n",
    "df_resto = df.groupby('alias').agg({\n",
    "    'rate':'mean',\n",
    "    'review':'nunique'\n",
    "})\n",
    "df_resto.shape"
   ]
  },
  {
   "cell_type": "code",
   "execution_count": 40,
   "id": "29a93e50",
   "metadata": {
    "ExecuteTime": {
     "end_time": "2021-11-26T08:30:10.969374Z",
     "start_time": "2021-11-26T08:30:10.959501Z"
    }
   },
   "outputs": [
    {
     "data": {
      "text/html": [
       "<div>\n",
       "<style scoped>\n",
       "    .dataframe tbody tr th:only-of-type {\n",
       "        vertical-align: middle;\n",
       "    }\n",
       "\n",
       "    .dataframe tbody tr th {\n",
       "        vertical-align: top;\n",
       "    }\n",
       "\n",
       "    .dataframe thead th {\n",
       "        text-align: right;\n",
       "    }\n",
       "</style>\n",
       "<table border=\"1\" class=\"dataframe\">\n",
       "  <thead>\n",
       "    <tr style=\"text-align: right;\">\n",
       "      <th></th>\n",
       "      <th>rate</th>\n",
       "      <th>review</th>\n",
       "    </tr>\n",
       "    <tr>\n",
       "      <th>alias</th>\n",
       "      <th></th>\n",
       "      <th></th>\n",
       "    </tr>\n",
       "  </thead>\n",
       "  <tbody>\n",
       "    <tr>\n",
       "      <th>14-paradis-paris</th>\n",
       "      <td>3.277778</td>\n",
       "      <td>2</td>\n",
       "    </tr>\n",
       "    <tr>\n",
       "      <th>142-crêperie-contemporaine-paris-3</th>\n",
       "      <td>4.426531</td>\n",
       "      <td>75</td>\n",
       "    </tr>\n",
       "    <tr>\n",
       "      <th>3-pièces-cuisine-paris-2</th>\n",
       "      <td>4.545455</td>\n",
       "      <td>4</td>\n",
       "    </tr>\n",
       "    <tr>\n",
       "      <th>42-degrés-paris</th>\n",
       "      <td>4.200000</td>\n",
       "      <td>5</td>\n",
       "    </tr>\n",
       "    <tr>\n",
       "      <th>58-tour-eiffel-paris</th>\n",
       "      <td>3.496206</td>\n",
       "      <td>291</td>\n",
       "    </tr>\n",
       "    <tr>\n",
       "      <th>...</th>\n",
       "      <td>...</td>\n",
       "      <td>...</td>\n",
       "    </tr>\n",
       "    <tr>\n",
       "      <th>zigzag-café-paris</th>\n",
       "      <td>3.968750</td>\n",
       "      <td>12</td>\n",
       "    </tr>\n",
       "    <tr>\n",
       "      <th>zino-paris</th>\n",
       "      <td>4.198413</td>\n",
       "      <td>18</td>\n",
       "    </tr>\n",
       "    <tr>\n",
       "      <th>zoe-bouillon-paris</th>\n",
       "      <td>5.000000</td>\n",
       "      <td>2</td>\n",
       "    </tr>\n",
       "    <tr>\n",
       "      <th>étienne-marcel-paris-2</th>\n",
       "      <td>2.464000</td>\n",
       "      <td>13</td>\n",
       "    </tr>\n",
       "    <tr>\n",
       "      <th>ô-chateau-paris-6</th>\n",
       "      <td>4.490159</td>\n",
       "      <td>121</td>\n",
       "    </tr>\n",
       "  </tbody>\n",
       "</table>\n",
       "<p>1441 rows × 2 columns</p>\n",
       "</div>"
      ],
      "text/plain": [
       "                                        rate  review\n",
       "alias                                               \n",
       "14-paradis-paris                    3.277778       2\n",
       "142-crêperie-contemporaine-paris-3  4.426531      75\n",
       "3-pièces-cuisine-paris-2            4.545455       4\n",
       "42-degrés-paris                     4.200000       5\n",
       "58-tour-eiffel-paris                3.496206     291\n",
       "...                                      ...     ...\n",
       "zigzag-café-paris                   3.968750      12\n",
       "zino-paris                          4.198413      18\n",
       "zoe-bouillon-paris                  5.000000       2\n",
       "étienne-marcel-paris-2              2.464000      13\n",
       "ô-chateau-paris-6                   4.490159     121\n",
       "\n",
       "[1441 rows x 2 columns]"
      ]
     },
     "execution_count": 40,
     "metadata": {},
     "output_type": "execute_result"
    }
   ],
   "source": [
    "df_resto"
   ]
  },
  {
   "cell_type": "code",
   "execution_count": 34,
   "id": "51c8f0bf",
   "metadata": {
    "ExecuteTime": {
     "end_time": "2021-11-26T08:29:08.246538Z",
     "start_time": "2021-11-26T08:29:08.205803Z"
    }
   },
   "outputs": [
    {
     "data": {
      "text/html": [
       "<div>\n",
       "<style scoped>\n",
       "    .dataframe tbody tr th:only-of-type {\n",
       "        vertical-align: middle;\n",
       "    }\n",
       "\n",
       "    .dataframe tbody tr th {\n",
       "        vertical-align: top;\n",
       "    }\n",
       "\n",
       "    .dataframe thead th {\n",
       "        text-align: right;\n",
       "    }\n",
       "</style>\n",
       "<table border=\"1\" class=\"dataframe\">\n",
       "  <thead>\n",
       "    <tr style=\"text-align: right;\">\n",
       "      <th></th>\n",
       "      <th>alias</th>\n",
       "      <th>date</th>\n",
       "      <th>rate</th>\n",
       "      <th>review</th>\n",
       "      <th>review_clean</th>\n",
       "      <th>review_sentences</th>\n",
       "    </tr>\n",
       "  </thead>\n",
       "  <tbody>\n",
       "    <tr>\n",
       "      <th>49322</th>\n",
       "      <td>14-paradis-paris</td>\n",
       "      <td>2014-02-19</td>\n",
       "      <td>3</td>\n",
       "      <td>Zeva B.\\nParis, France\\n1829\\n762\\n2920\\n2/19/...</td>\n",
       "      <td>paradis was far from paradise. at least when i...</td>\n",
       "      <td>paradis was far from paradise</td>\n",
       "    </tr>\n",
       "    <tr>\n",
       "      <th>49323</th>\n",
       "      <td>14-paradis-paris</td>\n",
       "      <td>2014-02-19</td>\n",
       "      <td>3</td>\n",
       "      <td>Zeva B.\\nParis, France\\n1829\\n762\\n2920\\n2/19/...</td>\n",
       "      <td>paradis was far from paradise. at least when i...</td>\n",
       "      <td>at least when it came to the food which sorel...</td>\n",
       "    </tr>\n",
       "    <tr>\n",
       "      <th>49324</th>\n",
       "      <td>14-paradis-paris</td>\n",
       "      <td>2014-02-19</td>\n",
       "      <td>3</td>\n",
       "      <td>Zeva B.\\nParis, France\\n1829\\n762\\n2920\\n2/19/...</td>\n",
       "      <td>paradis was far from paradise. at least when i...</td>\n",
       "      <td>the menu is diverse and appealing, ranging fr...</td>\n",
       "    </tr>\n",
       "    <tr>\n",
       "      <th>49325</th>\n",
       "      <td>14-paradis-paris</td>\n",
       "      <td>2014-02-19</td>\n",
       "      <td>3</td>\n",
       "      <td>Zeva B.\\nParis, France\\n1829\\n762\\n2920\\n2/19/...</td>\n",
       "      <td>paradis was far from paradise. at least when i...</td>\n",
       "      <td>since many of my friends went with the fish, ...</td>\n",
       "    </tr>\n",
       "    <tr>\n",
       "      <th>49326</th>\n",
       "      <td>14-paradis-paris</td>\n",
       "      <td>2014-02-19</td>\n",
       "      <td>3</td>\n",
       "      <td>Zeva B.\\nParis, France\\n1829\\n762\\n2920\\n2/19/...</td>\n",
       "      <td>paradis was far from paradise. at least when i...</td>\n",
       "      <td>the egg was way too runny and actually cold o...</td>\n",
       "    </tr>\n",
       "    <tr>\n",
       "      <th>49327</th>\n",
       "      <td>14-paradis-paris</td>\n",
       "      <td>2014-02-19</td>\n",
       "      <td>3</td>\n",
       "      <td>Zeva B.\\nParis, France\\n1829\\n762\\n2920\\n2/19/...</td>\n",
       "      <td>paradis was far from paradise. at least when i...</td>\n",
       "      <td>i should have sent it back but it had taken s...</td>\n",
       "    </tr>\n",
       "    <tr>\n",
       "      <th>49328</th>\n",
       "      <td>14-paradis-paris</td>\n",
       "      <td>2014-02-19</td>\n",
       "      <td>3</td>\n",
       "      <td>Zeva B.\\nParis, France\\n1829\\n762\\n2920\\n2/19/...</td>\n",
       "      <td>paradis was far from paradise. at least when i...</td>\n",
       "      <td>the vegetables were tasty, but not seasoned w...</td>\n",
       "    </tr>\n",
       "    <tr>\n",
       "      <th>49329</th>\n",
       "      <td>14-paradis-paris</td>\n",
       "      <td>2014-02-19</td>\n",
       "      <td>3</td>\n",
       "      <td>Zeva B.\\nParis, France\\n1829\\n762\\n2920\\n2/19/...</td>\n",
       "      <td>paradis was far from paradise. at least when i...</td>\n",
       "      <td>when i asked around the table, everyone felt ...</td>\n",
       "    </tr>\n",
       "    <tr>\n",
       "      <th>49330</th>\n",
       "      <td>14-paradis-paris</td>\n",
       "      <td>2014-02-19</td>\n",
       "      <td>3</td>\n",
       "      <td>Zeva B.\\nParis, France\\n1829\\n762\\n2920\\n2/19/...</td>\n",
       "      <td>paradis was far from paradise. at least when i...</td>\n",
       "      <td>the space, however, is lovely, very low-lit-r...</td>\n",
       "    </tr>\n",
       "    <tr>\n",
       "      <th>49331</th>\n",
       "      <td>14-paradis-paris</td>\n",
       "      <td>2014-02-19</td>\n",
       "      <td>3</td>\n",
       "      <td>Zeva B.\\nParis, France\\n1829\\n762\\n2920\\n2/19/...</td>\n",
       "      <td>paradis was far from paradise. at least when i...</td>\n",
       "      <td>on a friday night the place was packed, and f...</td>\n",
       "    </tr>\n",
       "    <tr>\n",
       "      <th>49332</th>\n",
       "      <td>14-paradis-paris</td>\n",
       "      <td>2014-02-19</td>\n",
       "      <td>3</td>\n",
       "      <td>Zeva B.\\nParis, France\\n1829\\n762\\n2920\\n2/19/...</td>\n",
       "      <td>paradis was far from paradise. at least when i...</td>\n",
       "      <td>definitely a place where one would go to go t...</td>\n",
       "    </tr>\n",
       "    <tr>\n",
       "      <th>49333</th>\n",
       "      <td>14-paradis-paris</td>\n",
       "      <td>2014-02-19</td>\n",
       "      <td>3</td>\n",
       "      <td>Zeva B.\\nParis, France\\n1829\\n762\\n2920\\n2/19/...</td>\n",
       "      <td>paradis was far from paradise. at least when i...</td>\n",
       "      <td>see all photos from zeva b</td>\n",
       "    </tr>\n",
       "    <tr>\n",
       "      <th>49334</th>\n",
       "      <td>14-paradis-paris</td>\n",
       "      <td>2014-02-19</td>\n",
       "      <td>3</td>\n",
       "      <td>Zeva B.\\nParis, France\\n1829\\n762\\n2920\\n2/19/...</td>\n",
       "      <td>paradis was far from paradise. at least when i...</td>\n",
       "      <td>for paradis</td>\n",
       "    </tr>\n",
       "    <tr>\n",
       "      <th>49335</th>\n",
       "      <td>14-paradis-paris</td>\n",
       "      <td>2015-11-04</td>\n",
       "      <td>4</td>\n",
       "      <td>Lilian G.\\nPort Royal/Gobelins, Paris, France\\...</td>\n",
       "      <td>really nice food in a simple but nice place in...</td>\n",
       "      <td>really nice food in a simple but nice place in...</td>\n",
       "    </tr>\n",
       "    <tr>\n",
       "      <th>49336</th>\n",
       "      <td>14-paradis-paris</td>\n",
       "      <td>2015-11-04</td>\n",
       "      <td>4</td>\n",
       "      <td>Lilian G.\\nPort Royal/Gobelins, Paris, France\\...</td>\n",
       "      <td>really nice food in a simple but nice place in...</td>\n",
       "      <td>the staff is very helpful and friendly</td>\n",
       "    </tr>\n",
       "    <tr>\n",
       "      <th>49337</th>\n",
       "      <td>14-paradis-paris</td>\n",
       "      <td>2015-11-04</td>\n",
       "      <td>4</td>\n",
       "      <td>Lilian G.\\nPort Royal/Gobelins, Paris, France\\...</td>\n",
       "      <td>really nice food in a simple but nice place in...</td>\n",
       "      <td>they focus on fresh seasonal products so the ...</td>\n",
       "    </tr>\n",
       "    <tr>\n",
       "      <th>49338</th>\n",
       "      <td>14-paradis-paris</td>\n",
       "      <td>2015-11-04</td>\n",
       "      <td>4</td>\n",
       "      <td>Lilian G.\\nPort Royal/Gobelins, Paris, France\\...</td>\n",
       "      <td>really nice food in a simple but nice place in...</td>\n",
       "      <td>the dishes are both creative simple and elegant</td>\n",
       "    </tr>\n",
       "    <tr>\n",
       "      <th>49339</th>\n",
       "      <td>14-paradis-paris</td>\n",
       "      <td>2015-11-04</td>\n",
       "      <td>4</td>\n",
       "      <td>Lilian G.\\nPort Royal/Gobelins, Paris, France\\...</td>\n",
       "      <td>really nice food in a simple but nice place in...</td>\n",
       "      <td>perfect place to spend an evening with friends</td>\n",
       "    </tr>\n",
       "  </tbody>\n",
       "</table>\n",
       "</div>"
      ],
      "text/plain": [
       "                  alias        date  rate  \\\n",
       "49322  14-paradis-paris  2014-02-19     3   \n",
       "49323  14-paradis-paris  2014-02-19     3   \n",
       "49324  14-paradis-paris  2014-02-19     3   \n",
       "49325  14-paradis-paris  2014-02-19     3   \n",
       "49326  14-paradis-paris  2014-02-19     3   \n",
       "49327  14-paradis-paris  2014-02-19     3   \n",
       "49328  14-paradis-paris  2014-02-19     3   \n",
       "49329  14-paradis-paris  2014-02-19     3   \n",
       "49330  14-paradis-paris  2014-02-19     3   \n",
       "49331  14-paradis-paris  2014-02-19     3   \n",
       "49332  14-paradis-paris  2014-02-19     3   \n",
       "49333  14-paradis-paris  2014-02-19     3   \n",
       "49334  14-paradis-paris  2014-02-19     3   \n",
       "49335  14-paradis-paris  2015-11-04     4   \n",
       "49336  14-paradis-paris  2015-11-04     4   \n",
       "49337  14-paradis-paris  2015-11-04     4   \n",
       "49338  14-paradis-paris  2015-11-04     4   \n",
       "49339  14-paradis-paris  2015-11-04     4   \n",
       "\n",
       "                                                  review  \\\n",
       "49322  Zeva B.\\nParis, France\\n1829\\n762\\n2920\\n2/19/...   \n",
       "49323  Zeva B.\\nParis, France\\n1829\\n762\\n2920\\n2/19/...   \n",
       "49324  Zeva B.\\nParis, France\\n1829\\n762\\n2920\\n2/19/...   \n",
       "49325  Zeva B.\\nParis, France\\n1829\\n762\\n2920\\n2/19/...   \n",
       "49326  Zeva B.\\nParis, France\\n1829\\n762\\n2920\\n2/19/...   \n",
       "49327  Zeva B.\\nParis, France\\n1829\\n762\\n2920\\n2/19/...   \n",
       "49328  Zeva B.\\nParis, France\\n1829\\n762\\n2920\\n2/19/...   \n",
       "49329  Zeva B.\\nParis, France\\n1829\\n762\\n2920\\n2/19/...   \n",
       "49330  Zeva B.\\nParis, France\\n1829\\n762\\n2920\\n2/19/...   \n",
       "49331  Zeva B.\\nParis, France\\n1829\\n762\\n2920\\n2/19/...   \n",
       "49332  Zeva B.\\nParis, France\\n1829\\n762\\n2920\\n2/19/...   \n",
       "49333  Zeva B.\\nParis, France\\n1829\\n762\\n2920\\n2/19/...   \n",
       "49334  Zeva B.\\nParis, France\\n1829\\n762\\n2920\\n2/19/...   \n",
       "49335  Lilian G.\\nPort Royal/Gobelins, Paris, France\\...   \n",
       "49336  Lilian G.\\nPort Royal/Gobelins, Paris, France\\...   \n",
       "49337  Lilian G.\\nPort Royal/Gobelins, Paris, France\\...   \n",
       "49338  Lilian G.\\nPort Royal/Gobelins, Paris, France\\...   \n",
       "49339  Lilian G.\\nPort Royal/Gobelins, Paris, France\\...   \n",
       "\n",
       "                                            review_clean  \\\n",
       "49322  paradis was far from paradise. at least when i...   \n",
       "49323  paradis was far from paradise. at least when i...   \n",
       "49324  paradis was far from paradise. at least when i...   \n",
       "49325  paradis was far from paradise. at least when i...   \n",
       "49326  paradis was far from paradise. at least when i...   \n",
       "49327  paradis was far from paradise. at least when i...   \n",
       "49328  paradis was far from paradise. at least when i...   \n",
       "49329  paradis was far from paradise. at least when i...   \n",
       "49330  paradis was far from paradise. at least when i...   \n",
       "49331  paradis was far from paradise. at least when i...   \n",
       "49332  paradis was far from paradise. at least when i...   \n",
       "49333  paradis was far from paradise. at least when i...   \n",
       "49334  paradis was far from paradise. at least when i...   \n",
       "49335  really nice food in a simple but nice place in...   \n",
       "49336  really nice food in a simple but nice place in...   \n",
       "49337  really nice food in a simple but nice place in...   \n",
       "49338  really nice food in a simple but nice place in...   \n",
       "49339  really nice food in a simple but nice place in...   \n",
       "\n",
       "                                        review_sentences  \n",
       "49322                      paradis was far from paradise  \n",
       "49323   at least when it came to the food which sorel...  \n",
       "49324   the menu is diverse and appealing, ranging fr...  \n",
       "49325   since many of my friends went with the fish, ...  \n",
       "49326   the egg was way too runny and actually cold o...  \n",
       "49327   i should have sent it back but it had taken s...  \n",
       "49328   the vegetables were tasty, but not seasoned w...  \n",
       "49329   when i asked around the table, everyone felt ...  \n",
       "49330   the space, however, is lovely, very low-lit-r...  \n",
       "49331   on a friday night the place was packed, and f...  \n",
       "49332   definitely a place where one would go to go t...  \n",
       "49333                         see all photos from zeva b  \n",
       "49334                                        for paradis  \n",
       "49335  really nice food in a simple but nice place in...  \n",
       "49336             the staff is very helpful and friendly  \n",
       "49337   they focus on fresh seasonal products so the ...  \n",
       "49338    the dishes are both creative simple and elegant  \n",
       "49339     perfect place to spend an evening with friends  "
      ]
     },
     "execution_count": 34,
     "metadata": {},
     "output_type": "execute_result"
    }
   ],
   "source": [
    "df[df['alias']=='14-paradis-paris']"
   ]
  },
  {
   "cell_type": "code",
   "execution_count": 82,
   "id": "9fa8aba7",
   "metadata": {
    "ExecuteTime": {
     "end_time": "2021-11-25T21:13:52.228057Z",
     "start_time": "2021-11-25T21:13:52.217382Z"
    }
   },
   "outputs": [],
   "source": [
    "## create df_filtered to filter with threshold and agg by resto\n",
    "df_filtered=df_sim[df_sim['sim']>.6]\n",
    "df_filtered = df_filtered.sort_values('sim',ascending=False).groupby('alias').agg({\n",
    "    'rate':'mean',\n",
    "    'review':'count',\n",
    "    'review_clean':lambda txt : ' // '.join(txt),\n",
    "    \n",
    "})"
   ]
  },
  {
   "cell_type": "code",
   "execution_count": 86,
   "id": "e0d3cbca",
   "metadata": {
    "ExecuteTime": {
     "end_time": "2021-11-25T21:15:38.423462Z",
     "start_time": "2021-11-25T21:15:38.413306Z"
    }
   },
   "outputs": [],
   "source": [
    "df_output = df_filtered.merge(df_resto,on='alias',how='left',suffixes=('_filtered','_all')).reset_index()"
   ]
  },
  {
   "cell_type": "code",
   "execution_count": 87,
   "id": "7134ee88",
   "metadata": {
    "ExecuteTime": {
     "end_time": "2021-11-25T21:15:38.801882Z",
     "start_time": "2021-11-25T21:15:38.784984Z"
    }
   },
   "outputs": [
    {
     "data": {
      "text/html": [
       "<div>\n",
       "<style scoped>\n",
       "    .dataframe tbody tr th:only-of-type {\n",
       "        vertical-align: middle;\n",
       "    }\n",
       "\n",
       "    .dataframe tbody tr th {\n",
       "        vertical-align: top;\n",
       "    }\n",
       "\n",
       "    .dataframe thead th {\n",
       "        text-align: right;\n",
       "    }\n",
       "</style>\n",
       "<table border=\"1\" class=\"dataframe\">\n",
       "  <thead>\n",
       "    <tr style=\"text-align: right;\">\n",
       "      <th></th>\n",
       "      <th>alias</th>\n",
       "      <th>rate_filtered</th>\n",
       "      <th>review_filtered</th>\n",
       "      <th>review_clean</th>\n",
       "      <th>rate_all</th>\n",
       "      <th>review_all</th>\n",
       "    </tr>\n",
       "  </thead>\n",
       "  <tbody>\n",
       "    <tr>\n",
       "      <th>0</th>\n",
       "      <td>belushis-paris-3</td>\n",
       "      <td>2.0</td>\n",
       "      <td>1</td>\n",
       "      <td>i was staying at the hostel attached to this b...</td>\n",
       "      <td>2.096000</td>\n",
       "      <td>125</td>\n",
       "    </tr>\n",
       "    <tr>\n",
       "      <th>1</th>\n",
       "      <td>big-fernand-paris-12</td>\n",
       "      <td>4.0</td>\n",
       "      <td>1</td>\n",
       "      <td>wow! great burger. in the quest to find the be...</td>\n",
       "      <td>4.025926</td>\n",
       "      <td>270</td>\n",
       "    </tr>\n",
       "    <tr>\n",
       "      <th>2</th>\n",
       "      <td>blend-paris-26</td>\n",
       "      <td>4.2</td>\n",
       "      <td>5</td>\n",
       "      <td>\"i still eat a burger at a counter with ketchu...</td>\n",
       "      <td>3.865533</td>\n",
       "      <td>647</td>\n",
       "    </tr>\n",
       "    <tr>\n",
       "      <th>3</th>\n",
       "      <td>blend-paris-27</td>\n",
       "      <td>4.0</td>\n",
       "      <td>2</td>\n",
       "      <td>i came across blend while visiting paris a cou...</td>\n",
       "      <td>4.202128</td>\n",
       "      <td>94</td>\n",
       "    </tr>\n",
       "    <tr>\n",
       "      <th>4</th>\n",
       "      <td>breakfast-in-america-2-paris</td>\n",
       "      <td>4.0</td>\n",
       "      <td>1</td>\n",
       "      <td>the reason yelp exists. what a wonderful disco...</td>\n",
       "      <td>3.881956</td>\n",
       "      <td>593</td>\n",
       "    </tr>\n",
       "    <tr>\n",
       "      <th>...</th>\n",
       "      <td>...</td>\n",
       "      <td>...</td>\n",
       "      <td>...</td>\n",
       "      <td>...</td>\n",
       "      <td>...</td>\n",
       "      <td>...</td>\n",
       "    </tr>\n",
       "    <tr>\n",
       "      <th>63</th>\n",
       "      <td>suffren-paris</td>\n",
       "      <td>5.0</td>\n",
       "      <td>1</td>\n",
       "      <td>it's a favorite of my son and his friends. the...</td>\n",
       "      <td>3.565121</td>\n",
       "      <td>453</td>\n",
       "    </tr>\n",
       "    <tr>\n",
       "      <th>64</th>\n",
       "      <td>the-great-canadian-paris</td>\n",
       "      <td>3.0</td>\n",
       "      <td>1</td>\n",
       "      <td>i was in paris with my best friend around east...</td>\n",
       "      <td>3.438944</td>\n",
       "      <td>303</td>\n",
       "    </tr>\n",
       "    <tr>\n",
       "      <th>65</th>\n",
       "      <td>the-lizard-lounge-paris</td>\n",
       "      <td>4.0</td>\n",
       "      <td>1</td>\n",
       "      <td>burgers are to die for! but that's really all ...</td>\n",
       "      <td>4.230530</td>\n",
       "      <td>321</td>\n",
       "    </tr>\n",
       "    <tr>\n",
       "      <th>66</th>\n",
       "      <td>the-moose-paris</td>\n",
       "      <td>3.0</td>\n",
       "      <td>1</td>\n",
       "      <td>nice place to watch nfl. yummy wings and burge...</td>\n",
       "      <td>3.853175</td>\n",
       "      <td>504</td>\n",
       "    </tr>\n",
       "    <tr>\n",
       "      <th>67</th>\n",
       "      <td>étienne-marcel-paris-2</td>\n",
       "      <td>4.0</td>\n",
       "      <td>1</td>\n",
       "      <td>cute little place, prices were okay. food was ...</td>\n",
       "      <td>2.464000</td>\n",
       "      <td>125</td>\n",
       "    </tr>\n",
       "  </tbody>\n",
       "</table>\n",
       "<p>68 rows × 6 columns</p>\n",
       "</div>"
      ],
      "text/plain": [
       "                           alias  rate_filtered  review_filtered  \\\n",
       "0               belushis-paris-3            2.0                1   \n",
       "1           big-fernand-paris-12            4.0                1   \n",
       "2                 blend-paris-26            4.2                5   \n",
       "3                 blend-paris-27            4.0                2   \n",
       "4   breakfast-in-america-2-paris            4.0                1   \n",
       "..                           ...            ...              ...   \n",
       "63                 suffren-paris            5.0                1   \n",
       "64      the-great-canadian-paris            3.0                1   \n",
       "65       the-lizard-lounge-paris            4.0                1   \n",
       "66               the-moose-paris            3.0                1   \n",
       "67        étienne-marcel-paris-2            4.0                1   \n",
       "\n",
       "                                         review_clean  rate_all  review_all  \n",
       "0   i was staying at the hostel attached to this b...  2.096000         125  \n",
       "1   wow! great burger. in the quest to find the be...  4.025926         270  \n",
       "2   \"i still eat a burger at a counter with ketchu...  3.865533         647  \n",
       "3   i came across blend while visiting paris a cou...  4.202128          94  \n",
       "4   the reason yelp exists. what a wonderful disco...  3.881956         593  \n",
       "..                                                ...       ...         ...  \n",
       "63  it's a favorite of my son and his friends. the...  3.565121         453  \n",
       "64  i was in paris with my best friend around east...  3.438944         303  \n",
       "65  burgers are to die for! but that's really all ...  4.230530         321  \n",
       "66  nice place to watch nfl. yummy wings and burge...  3.853175         504  \n",
       "67  cute little place, prices were okay. food was ...  2.464000         125  \n",
       "\n",
       "[68 rows x 6 columns]"
      ]
     },
     "execution_count": 87,
     "metadata": {},
     "output_type": "execute_result"
    }
   ],
   "source": [
    "df_output"
   ]
  },
  {
   "cell_type": "code",
   "execution_count": 4,
   "id": "0e2b9df4",
   "metadata": {
    "ExecuteTime": {
     "end_time": "2021-11-26T09:58:37.126538Z",
     "start_time": "2021-11-26T09:58:29.565403Z"
    }
   },
   "outputs": [],
   "source": [
    "from fobokiller.cosim import load_embedding , compute_sim_df ,model"
   ]
  },
  {
   "cell_type": "code",
   "execution_count": 5,
   "id": "37ec6a84",
   "metadata": {
    "ExecuteTime": {
     "end_time": "2021-11-26T09:58:39.068063Z",
     "start_time": "2021-11-26T09:58:37.130531Z"
    }
   },
   "outputs": [
    {
     "name": "stderr",
     "output_type": "stream",
     "text": [
      "2021-11-26 10:58:38.964294: I tensorflow/core/platform/cpu_feature_guard.cc:151] This TensorFlow binary is optimized with oneAPI Deep Neural Network Library (oneDNN) to use the following CPU instructions in performance-critical operations:  AVX2 FMA\n",
      "To enable them in other operations, rebuild TensorFlow with the appropriate compiler flags.\n"
     ]
    }
   ],
   "source": [
    "embedding = load_embedding()"
   ]
  },
  {
   "cell_type": "code",
   "execution_count": 7,
   "id": "fc15acda",
   "metadata": {
    "ExecuteTime": {
     "end_time": "2021-11-26T10:00:26.905692Z",
     "start_time": "2021-11-26T10:00:11.790666Z"
    }
   },
   "outputs": [
    {
     "ename": "TypeError",
     "evalue": "sequence item 34: expected str instance, float found",
     "output_type": "error",
     "traceback": [
      "\u001b[0;31m---------------------------------------------------------------------------\u001b[0m",
      "\u001b[0;31mTypeError\u001b[0m                                 Traceback (most recent call last)",
      "\u001b[0;32m/var/folders/zd/9ts3jb2s5472mty2sgdddp3m0000gn/T/ipykernel_63179/3060389586.py\u001b[0m in \u001b[0;36m<module>\u001b[0;34m\u001b[0m\n\u001b[0;32m----> 1\u001b[0;31m \u001b[0mdf\u001b[0m \u001b[0;34m=\u001b[0m \u001b[0mcompute_sim_df\u001b[0m\u001b[0;34m(\u001b[0m\u001b[0;34m'bad pizza'\u001b[0m\u001b[0;34m,\u001b[0m\u001b[0mnp\u001b[0m\u001b[0;34m.\u001b[0m\u001b[0marray\u001b[0m\u001b[0;34m(\u001b[0m\u001b[0membedding\u001b[0m\u001b[0;34m)\u001b[0m\u001b[0;34m)\u001b[0m\u001b[0;34m\u001b[0m\u001b[0;34m\u001b[0m\u001b[0m\n\u001b[0m\u001b[1;32m      2\u001b[0m \u001b[0mdf\u001b[0m\u001b[0;34m[\u001b[0m\u001b[0;34m'ratio'\u001b[0m\u001b[0;34m]\u001b[0m\u001b[0;34m=\u001b[0m\u001b[0mdf\u001b[0m\u001b[0;34m[\u001b[0m\u001b[0;34m'review_filtered'\u001b[0m\u001b[0;34m]\u001b[0m\u001b[0;34m/\u001b[0m\u001b[0mdf\u001b[0m\u001b[0;34m[\u001b[0m\u001b[0;34m'review_all'\u001b[0m\u001b[0;34m]\u001b[0m\u001b[0;34m\u001b[0m\u001b[0;34m\u001b[0m\u001b[0m\n\u001b[1;32m      3\u001b[0m \u001b[0;31m#df[df['review_all']>10].sort_values('ratio',ascending=False)\u001b[0m\u001b[0;34m\u001b[0m\u001b[0;34m\u001b[0m\u001b[0;34m\u001b[0m\u001b[0m\n\u001b[1;32m      4\u001b[0m \u001b[0mdf\u001b[0m\u001b[0;34m\u001b[0m\u001b[0;34m\u001b[0m\u001b[0m\n",
      "\u001b[0;32m~/code/arthurcol/fobokiller/fobokiller/cosim.py\u001b[0m in \u001b[0;36mcompute_sim_df\u001b[0;34m(text, embedding, n_prox, min_review)\u001b[0m\n\u001b[1;32m     29\u001b[0m \u001b[0;34m\u001b[0m\u001b[0m\n\u001b[1;32m     30\u001b[0m     \u001b[0;32mif\u001b[0m \u001b[0;32mnot\u001b[0m \u001b[0mn_prox\u001b[0m\u001b[0;34m:\u001b[0m\u001b[0;34m\u001b[0m\u001b[0;34m\u001b[0m\u001b[0m\n\u001b[0;32m---> 31\u001b[0;31m         \u001b[0mdf_filtered\u001b[0m \u001b[0;34m=\u001b[0m \u001b[0mdf_sim\u001b[0m\u001b[0;34m.\u001b[0m\u001b[0msort_values\u001b[0m\u001b[0;34m(\u001b[0m\u001b[0;34m'sim'\u001b[0m\u001b[0;34m,\u001b[0m\u001b[0mascending\u001b[0m\u001b[0;34m=\u001b[0m\u001b[0;32mFalse\u001b[0m\u001b[0;34m)\u001b[0m\u001b[0;31m\\\u001b[0m\u001b[0;34m\u001b[0m\u001b[0;34m\u001b[0m\u001b[0m\n\u001b[0m\u001b[1;32m     32\u001b[0m             .groupby('alias').agg({ 'rate':'mean',\n\u001b[1;32m     33\u001b[0m                                     \u001b[0;34m'review'\u001b[0m\u001b[0;34m:\u001b[0m\u001b[0;34m'nunique'\u001b[0m\u001b[0;34m,\u001b[0m\u001b[0;34m\u001b[0m\u001b[0;34m\u001b[0m\u001b[0m\n",
      "\u001b[0;32m~/.pyenv/versions/3.8.12/envs/FOBO/lib/python3.8/site-packages/pandas/core/groupby/generic.py\u001b[0m in \u001b[0;36maggregate\u001b[0;34m(self, func, engine, engine_kwargs, *args, **kwargs)\u001b[0m\n\u001b[1;32m    977\u001b[0m \u001b[0;34m\u001b[0m\u001b[0m\n\u001b[1;32m    978\u001b[0m         \u001b[0mop\u001b[0m \u001b[0;34m=\u001b[0m \u001b[0mGroupByApply\u001b[0m\u001b[0;34m(\u001b[0m\u001b[0mself\u001b[0m\u001b[0;34m,\u001b[0m \u001b[0mfunc\u001b[0m\u001b[0;34m,\u001b[0m \u001b[0margs\u001b[0m\u001b[0;34m,\u001b[0m \u001b[0mkwargs\u001b[0m\u001b[0;34m)\u001b[0m\u001b[0;34m\u001b[0m\u001b[0;34m\u001b[0m\u001b[0m\n\u001b[0;32m--> 979\u001b[0;31m         \u001b[0mresult\u001b[0m \u001b[0;34m=\u001b[0m \u001b[0mop\u001b[0m\u001b[0;34m.\u001b[0m\u001b[0magg\u001b[0m\u001b[0;34m(\u001b[0m\u001b[0;34m)\u001b[0m\u001b[0;34m\u001b[0m\u001b[0;34m\u001b[0m\u001b[0m\n\u001b[0m\u001b[1;32m    980\u001b[0m         \u001b[0;32mif\u001b[0m \u001b[0;32mnot\u001b[0m \u001b[0mis_dict_like\u001b[0m\u001b[0;34m(\u001b[0m\u001b[0mfunc\u001b[0m\u001b[0;34m)\u001b[0m \u001b[0;32mand\u001b[0m \u001b[0mresult\u001b[0m \u001b[0;32mis\u001b[0m \u001b[0;32mnot\u001b[0m \u001b[0;32mNone\u001b[0m\u001b[0;34m:\u001b[0m\u001b[0;34m\u001b[0m\u001b[0;34m\u001b[0m\u001b[0m\n\u001b[1;32m    981\u001b[0m             \u001b[0;32mreturn\u001b[0m \u001b[0mresult\u001b[0m\u001b[0;34m\u001b[0m\u001b[0;34m\u001b[0m\u001b[0m\n",
      "\u001b[0;32m~/.pyenv/versions/3.8.12/envs/FOBO/lib/python3.8/site-packages/pandas/core/apply.py\u001b[0m in \u001b[0;36magg\u001b[0;34m(self)\u001b[0m\n\u001b[1;32m    159\u001b[0m \u001b[0;34m\u001b[0m\u001b[0m\n\u001b[1;32m    160\u001b[0m         \u001b[0;32mif\u001b[0m \u001b[0mis_dict_like\u001b[0m\u001b[0;34m(\u001b[0m\u001b[0marg\u001b[0m\u001b[0;34m)\u001b[0m\u001b[0;34m:\u001b[0m\u001b[0;34m\u001b[0m\u001b[0;34m\u001b[0m\u001b[0m\n\u001b[0;32m--> 161\u001b[0;31m             \u001b[0;32mreturn\u001b[0m \u001b[0mself\u001b[0m\u001b[0;34m.\u001b[0m\u001b[0magg_dict_like\u001b[0m\u001b[0;34m(\u001b[0m\u001b[0;34m)\u001b[0m\u001b[0;34m\u001b[0m\u001b[0;34m\u001b[0m\u001b[0m\n\u001b[0m\u001b[1;32m    162\u001b[0m         \u001b[0;32melif\u001b[0m \u001b[0mis_list_like\u001b[0m\u001b[0;34m(\u001b[0m\u001b[0marg\u001b[0m\u001b[0;34m)\u001b[0m\u001b[0;34m:\u001b[0m\u001b[0;34m\u001b[0m\u001b[0;34m\u001b[0m\u001b[0m\n\u001b[1;32m    163\u001b[0m             \u001b[0;31m# we require a list, but not a 'str'\u001b[0m\u001b[0;34m\u001b[0m\u001b[0;34m\u001b[0m\u001b[0;34m\u001b[0m\u001b[0m\n",
      "\u001b[0;32m~/.pyenv/versions/3.8.12/envs/FOBO/lib/python3.8/site-packages/pandas/core/apply.py\u001b[0m in \u001b[0;36magg_dict_like\u001b[0;34m(self)\u001b[0m\n\u001b[1;32m    433\u001b[0m         \u001b[0;32melse\u001b[0m\u001b[0;34m:\u001b[0m\u001b[0;34m\u001b[0m\u001b[0;34m\u001b[0m\u001b[0m\n\u001b[1;32m    434\u001b[0m             \u001b[0;31m# key used for column selection and output\u001b[0m\u001b[0;34m\u001b[0m\u001b[0;34m\u001b[0m\u001b[0;34m\u001b[0m\u001b[0m\n\u001b[0;32m--> 435\u001b[0;31m             results = {\n\u001b[0m\u001b[1;32m    436\u001b[0m                 \u001b[0mkey\u001b[0m\u001b[0;34m:\u001b[0m \u001b[0mobj\u001b[0m\u001b[0;34m.\u001b[0m\u001b[0m_gotitem\u001b[0m\u001b[0;34m(\u001b[0m\u001b[0mkey\u001b[0m\u001b[0;34m,\u001b[0m \u001b[0mndim\u001b[0m\u001b[0;34m=\u001b[0m\u001b[0;36m1\u001b[0m\u001b[0;34m)\u001b[0m\u001b[0;34m.\u001b[0m\u001b[0magg\u001b[0m\u001b[0;34m(\u001b[0m\u001b[0mhow\u001b[0m\u001b[0;34m)\u001b[0m \u001b[0;32mfor\u001b[0m \u001b[0mkey\u001b[0m\u001b[0;34m,\u001b[0m \u001b[0mhow\u001b[0m \u001b[0;32min\u001b[0m \u001b[0marg\u001b[0m\u001b[0;34m.\u001b[0m\u001b[0mitems\u001b[0m\u001b[0;34m(\u001b[0m\u001b[0;34m)\u001b[0m\u001b[0;34m\u001b[0m\u001b[0;34m\u001b[0m\u001b[0m\n\u001b[1;32m    437\u001b[0m             }\n",
      "\u001b[0;32m~/.pyenv/versions/3.8.12/envs/FOBO/lib/python3.8/site-packages/pandas/core/apply.py\u001b[0m in \u001b[0;36m<dictcomp>\u001b[0;34m(.0)\u001b[0m\n\u001b[1;32m    434\u001b[0m             \u001b[0;31m# key used for column selection and output\u001b[0m\u001b[0;34m\u001b[0m\u001b[0;34m\u001b[0m\u001b[0;34m\u001b[0m\u001b[0m\n\u001b[1;32m    435\u001b[0m             results = {\n\u001b[0;32m--> 436\u001b[0;31m                 \u001b[0mkey\u001b[0m\u001b[0;34m:\u001b[0m \u001b[0mobj\u001b[0m\u001b[0;34m.\u001b[0m\u001b[0m_gotitem\u001b[0m\u001b[0;34m(\u001b[0m\u001b[0mkey\u001b[0m\u001b[0;34m,\u001b[0m \u001b[0mndim\u001b[0m\u001b[0;34m=\u001b[0m\u001b[0;36m1\u001b[0m\u001b[0;34m)\u001b[0m\u001b[0;34m.\u001b[0m\u001b[0magg\u001b[0m\u001b[0;34m(\u001b[0m\u001b[0mhow\u001b[0m\u001b[0;34m)\u001b[0m \u001b[0;32mfor\u001b[0m \u001b[0mkey\u001b[0m\u001b[0;34m,\u001b[0m \u001b[0mhow\u001b[0m \u001b[0;32min\u001b[0m \u001b[0marg\u001b[0m\u001b[0;34m.\u001b[0m\u001b[0mitems\u001b[0m\u001b[0;34m(\u001b[0m\u001b[0;34m)\u001b[0m\u001b[0;34m\u001b[0m\u001b[0;34m\u001b[0m\u001b[0m\n\u001b[0m\u001b[1;32m    437\u001b[0m             }\n\u001b[1;32m    438\u001b[0m \u001b[0;34m\u001b[0m\u001b[0m\n",
      "\u001b[0;32m~/.pyenv/versions/3.8.12/envs/FOBO/lib/python3.8/site-packages/pandas/core/groupby/generic.py\u001b[0m in \u001b[0;36maggregate\u001b[0;34m(self, func, engine, engine_kwargs, *args, **kwargs)\u001b[0m\n\u001b[1;32m    263\u001b[0m \u001b[0;34m\u001b[0m\u001b[0m\n\u001b[1;32m    264\u001b[0m             \u001b[0;32mtry\u001b[0m\u001b[0;34m:\u001b[0m\u001b[0;34m\u001b[0m\u001b[0;34m\u001b[0m\u001b[0m\n\u001b[0;32m--> 265\u001b[0;31m                 \u001b[0;32mreturn\u001b[0m \u001b[0mself\u001b[0m\u001b[0;34m.\u001b[0m\u001b[0m_python_agg_general\u001b[0m\u001b[0;34m(\u001b[0m\u001b[0mfunc\u001b[0m\u001b[0;34m,\u001b[0m \u001b[0;34m*\u001b[0m\u001b[0margs\u001b[0m\u001b[0;34m,\u001b[0m \u001b[0;34m**\u001b[0m\u001b[0mkwargs\u001b[0m\u001b[0;34m)\u001b[0m\u001b[0;34m\u001b[0m\u001b[0;34m\u001b[0m\u001b[0m\n\u001b[0m\u001b[1;32m    266\u001b[0m             \u001b[0;32mexcept\u001b[0m \u001b[0mKeyError\u001b[0m\u001b[0;34m:\u001b[0m\u001b[0;34m\u001b[0m\u001b[0;34m\u001b[0m\u001b[0m\n\u001b[1;32m    267\u001b[0m                 \u001b[0;31m# TODO: KeyError is raised in _python_agg_general,\u001b[0m\u001b[0;34m\u001b[0m\u001b[0;34m\u001b[0m\u001b[0;34m\u001b[0m\u001b[0m\n",
      "\u001b[0;32m~/.pyenv/versions/3.8.12/envs/FOBO/lib/python3.8/site-packages/pandas/core/groupby/groupby.py\u001b[0m in \u001b[0;36m_python_agg_general\u001b[0;34m(self, func, *args, **kwargs)\u001b[0m\n\u001b[1;32m   1346\u001b[0m \u001b[0;34m\u001b[0m\u001b[0m\n\u001b[1;32m   1347\u001b[0m         \u001b[0;32mif\u001b[0m \u001b[0;32mnot\u001b[0m \u001b[0moutput\u001b[0m\u001b[0;34m:\u001b[0m\u001b[0;34m\u001b[0m\u001b[0;34m\u001b[0m\u001b[0m\n\u001b[0;32m-> 1348\u001b[0;31m             \u001b[0;32mreturn\u001b[0m \u001b[0mself\u001b[0m\u001b[0;34m.\u001b[0m\u001b[0m_python_apply_general\u001b[0m\u001b[0;34m(\u001b[0m\u001b[0mf\u001b[0m\u001b[0;34m,\u001b[0m \u001b[0mself\u001b[0m\u001b[0;34m.\u001b[0m\u001b[0m_selected_obj\u001b[0m\u001b[0;34m)\u001b[0m\u001b[0;34m\u001b[0m\u001b[0;34m\u001b[0m\u001b[0m\n\u001b[0m\u001b[1;32m   1349\u001b[0m \u001b[0;34m\u001b[0m\u001b[0m\n\u001b[1;32m   1350\u001b[0m         \u001b[0;32mreturn\u001b[0m \u001b[0mself\u001b[0m\u001b[0;34m.\u001b[0m\u001b[0m_wrap_aggregated_output\u001b[0m\u001b[0;34m(\u001b[0m\u001b[0moutput\u001b[0m\u001b[0;34m)\u001b[0m\u001b[0;34m\u001b[0m\u001b[0;34m\u001b[0m\u001b[0m\n",
      "\u001b[0;32m~/.pyenv/versions/3.8.12/envs/FOBO/lib/python3.8/site-packages/pandas/core/groupby/groupby.py\u001b[0m in \u001b[0;36m_python_apply_general\u001b[0;34m(self, f, data)\u001b[0m\n\u001b[1;32m   1307\u001b[0m             \u001b[0mdata\u001b[0m \u001b[0mafter\u001b[0m \u001b[0mapplying\u001b[0m \u001b[0mf\u001b[0m\u001b[0;34m\u001b[0m\u001b[0;34m\u001b[0m\u001b[0m\n\u001b[1;32m   1308\u001b[0m         \"\"\"\n\u001b[0;32m-> 1309\u001b[0;31m         \u001b[0mkeys\u001b[0m\u001b[0;34m,\u001b[0m \u001b[0mvalues\u001b[0m\u001b[0;34m,\u001b[0m \u001b[0mmutated\u001b[0m \u001b[0;34m=\u001b[0m \u001b[0mself\u001b[0m\u001b[0;34m.\u001b[0m\u001b[0mgrouper\u001b[0m\u001b[0;34m.\u001b[0m\u001b[0mapply\u001b[0m\u001b[0;34m(\u001b[0m\u001b[0mf\u001b[0m\u001b[0;34m,\u001b[0m \u001b[0mdata\u001b[0m\u001b[0;34m,\u001b[0m \u001b[0mself\u001b[0m\u001b[0;34m.\u001b[0m\u001b[0maxis\u001b[0m\u001b[0;34m)\u001b[0m\u001b[0;34m\u001b[0m\u001b[0;34m\u001b[0m\u001b[0m\n\u001b[0m\u001b[1;32m   1310\u001b[0m \u001b[0;34m\u001b[0m\u001b[0m\n\u001b[1;32m   1311\u001b[0m         return self._wrap_applied_output(\n",
      "\u001b[0;32m~/.pyenv/versions/3.8.12/envs/FOBO/lib/python3.8/site-packages/pandas/core/groupby/ops.py\u001b[0m in \u001b[0;36mapply\u001b[0;34m(self, f, data, axis)\u001b[0m\n\u001b[1;32m    839\u001b[0m             \u001b[0;31m# group might be modified\u001b[0m\u001b[0;34m\u001b[0m\u001b[0;34m\u001b[0m\u001b[0;34m\u001b[0m\u001b[0m\n\u001b[1;32m    840\u001b[0m             \u001b[0mgroup_axes\u001b[0m \u001b[0;34m=\u001b[0m \u001b[0mgroup\u001b[0m\u001b[0;34m.\u001b[0m\u001b[0maxes\u001b[0m\u001b[0;34m\u001b[0m\u001b[0;34m\u001b[0m\u001b[0m\n\u001b[0;32m--> 841\u001b[0;31m             \u001b[0mres\u001b[0m \u001b[0;34m=\u001b[0m \u001b[0mf\u001b[0m\u001b[0;34m(\u001b[0m\u001b[0mgroup\u001b[0m\u001b[0;34m)\u001b[0m\u001b[0;34m\u001b[0m\u001b[0;34m\u001b[0m\u001b[0m\n\u001b[0m\u001b[1;32m    842\u001b[0m             \u001b[0;32mif\u001b[0m \u001b[0;32mnot\u001b[0m \u001b[0m_is_indexed_like\u001b[0m\u001b[0;34m(\u001b[0m\u001b[0mres\u001b[0m\u001b[0;34m,\u001b[0m \u001b[0mgroup_axes\u001b[0m\u001b[0;34m,\u001b[0m \u001b[0maxis\u001b[0m\u001b[0;34m)\u001b[0m\u001b[0;34m:\u001b[0m\u001b[0;34m\u001b[0m\u001b[0;34m\u001b[0m\u001b[0m\n\u001b[1;32m    843\u001b[0m                 \u001b[0mmutated\u001b[0m \u001b[0;34m=\u001b[0m \u001b[0;32mTrue\u001b[0m\u001b[0;34m\u001b[0m\u001b[0;34m\u001b[0m\u001b[0m\n",
      "\u001b[0;32m~/.pyenv/versions/3.8.12/envs/FOBO/lib/python3.8/site-packages/pandas/core/groupby/groupby.py\u001b[0m in \u001b[0;36m<lambda>\u001b[0;34m(x)\u001b[0m\n\u001b[1;32m   1316\u001b[0m     \u001b[0;32mdef\u001b[0m \u001b[0m_python_agg_general\u001b[0m\u001b[0;34m(\u001b[0m\u001b[0mself\u001b[0m\u001b[0;34m,\u001b[0m \u001b[0mfunc\u001b[0m\u001b[0;34m,\u001b[0m \u001b[0;34m*\u001b[0m\u001b[0margs\u001b[0m\u001b[0;34m,\u001b[0m \u001b[0;34m**\u001b[0m\u001b[0mkwargs\u001b[0m\u001b[0;34m)\u001b[0m\u001b[0;34m:\u001b[0m\u001b[0;34m\u001b[0m\u001b[0;34m\u001b[0m\u001b[0m\n\u001b[1;32m   1317\u001b[0m         \u001b[0mfunc\u001b[0m \u001b[0;34m=\u001b[0m \u001b[0mcom\u001b[0m\u001b[0;34m.\u001b[0m\u001b[0mis_builtin_func\u001b[0m\u001b[0;34m(\u001b[0m\u001b[0mfunc\u001b[0m\u001b[0;34m)\u001b[0m\u001b[0;34m\u001b[0m\u001b[0;34m\u001b[0m\u001b[0m\n\u001b[0;32m-> 1318\u001b[0;31m         \u001b[0mf\u001b[0m \u001b[0;34m=\u001b[0m \u001b[0;32mlambda\u001b[0m \u001b[0mx\u001b[0m\u001b[0;34m:\u001b[0m \u001b[0mfunc\u001b[0m\u001b[0;34m(\u001b[0m\u001b[0mx\u001b[0m\u001b[0;34m,\u001b[0m \u001b[0;34m*\u001b[0m\u001b[0margs\u001b[0m\u001b[0;34m,\u001b[0m \u001b[0;34m**\u001b[0m\u001b[0mkwargs\u001b[0m\u001b[0;34m)\u001b[0m\u001b[0;34m\u001b[0m\u001b[0;34m\u001b[0m\u001b[0m\n\u001b[0m\u001b[1;32m   1319\u001b[0m \u001b[0;34m\u001b[0m\u001b[0m\n\u001b[1;32m   1320\u001b[0m         \u001b[0;31m# iterate through \"columns\" ex exclusions to populate output dict\u001b[0m\u001b[0;34m\u001b[0m\u001b[0;34m\u001b[0m\u001b[0;34m\u001b[0m\u001b[0m\n",
      "\u001b[0;32m~/code/arthurcol/fobokiller/fobokiller/cosim.py\u001b[0m in \u001b[0;36m<lambda>\u001b[0;34m(txt)\u001b[0m\n\u001b[1;32m     32\u001b[0m             .groupby('alias').agg({ 'rate':'mean',\n\u001b[1;32m     33\u001b[0m                                     \u001b[0;34m'review'\u001b[0m\u001b[0;34m:\u001b[0m\u001b[0;34m'nunique'\u001b[0m\u001b[0;34m,\u001b[0m\u001b[0;34m\u001b[0m\u001b[0;34m\u001b[0m\u001b[0m\n\u001b[0;32m---> 34\u001b[0;31m                                     \u001b[0;34m'review_clean'\u001b[0m\u001b[0;34m:\u001b[0m\u001b[0;32mlambda\u001b[0m \u001b[0mtxt\u001b[0m \u001b[0;34m:\u001b[0m \u001b[0;34m' // '\u001b[0m\u001b[0;34m.\u001b[0m\u001b[0mjoin\u001b[0m\u001b[0;34m(\u001b[0m\u001b[0mtxt\u001b[0m\u001b[0;34m)\u001b[0m\u001b[0;34m,\u001b[0m\u001b[0;34m\u001b[0m\u001b[0;34m\u001b[0m\u001b[0m\n\u001b[0m\u001b[1;32m     35\u001b[0m                                     \u001b[0;34m'sim'\u001b[0m\u001b[0;34m:\u001b[0m\u001b[0;34m'mean'\u001b[0m\u001b[0;34m\u001b[0m\u001b[0;34m\u001b[0m\u001b[0m\n\u001b[1;32m     36\u001b[0m                                     })\n",
      "\u001b[0;31mTypeError\u001b[0m: sequence item 34: expected str instance, float found"
     ]
    }
   ],
   "source": [
    "df = compute_sim_df('bad pizza',np.array(embedding))\n",
    "df['ratio']=df['review_filtered']/df['review_all']\n",
    "#df[df['review_all']>10].sort_values('ratio',ascending=False)\n",
    "df"
   ]
  },
  {
   "cell_type": "code",
   "execution_count": 32,
   "id": "99e88474",
   "metadata": {
    "ExecuteTime": {
     "end_time": "2021-11-26T09:55:39.249425Z",
     "start_time": "2021-11-26T09:55:39.175125Z"
    }
   },
   "outputs": [
    {
     "data": {
      "text/html": [
       "<div>\n",
       "<style scoped>\n",
       "    .dataframe tbody tr th:only-of-type {\n",
       "        vertical-align: middle;\n",
       "    }\n",
       "\n",
       "    .dataframe tbody tr th {\n",
       "        vertical-align: top;\n",
       "    }\n",
       "\n",
       "    .dataframe thead th {\n",
       "        text-align: right;\n",
       "    }\n",
       "</style>\n",
       "<table border=\"1\" class=\"dataframe\">\n",
       "  <thead>\n",
       "    <tr style=\"text-align: right;\">\n",
       "      <th></th>\n",
       "      <th>alias</th>\n",
       "      <th>rate_filtered</th>\n",
       "      <th>review_filtered</th>\n",
       "      <th>review_clean</th>\n",
       "      <th>sim</th>\n",
       "      <th>rate_all</th>\n",
       "      <th>review_all</th>\n",
       "      <th>ratio</th>\n",
       "    </tr>\n",
       "  </thead>\n",
       "  <tbody>\n",
       "    <tr>\n",
       "      <th>88</th>\n",
       "      <td>il-brigante-paris</td>\n",
       "      <td>4.363636</td>\n",
       "      <td>9</td>\n",
       "      <td>excellent pizza. was the first place i ate in ...</td>\n",
       "      <td>0.569076</td>\n",
       "      <td>4.432432</td>\n",
       "      <td>11</td>\n",
       "      <td>0.818182</td>\n",
       "    </tr>\n",
       "    <tr>\n",
       "      <th>208</th>\n",
       "      <td>pizza-julia-paris</td>\n",
       "      <td>4.433962</td>\n",
       "      <td>36</td>\n",
       "      <td>really good pizza! and super nice staff. i che...</td>\n",
       "      <td>0.560725</td>\n",
       "      <td>4.538860</td>\n",
       "      <td>60</td>\n",
       "      <td>0.600000</td>\n",
       "    </tr>\n",
       "    <tr>\n",
       "      <th>180</th>\n",
       "      <td>maria-luisa-paris-4</td>\n",
       "      <td>4.272727</td>\n",
       "      <td>9</td>\n",
       "      <td>amazing pizza! best pizza in paris, and wonder...</td>\n",
       "      <td>0.562772</td>\n",
       "      <td>4.046296</td>\n",
       "      <td>15</td>\n",
       "      <td>0.600000</td>\n",
       "    </tr>\n",
       "    <tr>\n",
       "      <th>206</th>\n",
       "      <td>pizza-di-loretta-paris</td>\n",
       "      <td>4.875000</td>\n",
       "      <td>7</td>\n",
       "      <td>delicious pizza! especially the mushroom-taste...</td>\n",
       "      <td>0.560004</td>\n",
       "      <td>4.934426</td>\n",
       "      <td>12</td>\n",
       "      <td>0.583333</td>\n",
       "    </tr>\n",
       "    <tr>\n",
       "      <th>211</th>\n",
       "      <td>pizza-vesuvio-paris-3</td>\n",
       "      <td>3.705882</td>\n",
       "      <td>9</td>\n",
       "      <td>i used to come here frequently when i lived in...</td>\n",
       "      <td>0.555682</td>\n",
       "      <td>3.520000</td>\n",
       "      <td>17</td>\n",
       "      <td>0.529412</td>\n",
       "    </tr>\n",
       "    <tr>\n",
       "      <th>...</th>\n",
       "      <td>...</td>\n",
       "      <td>...</td>\n",
       "      <td>...</td>\n",
       "      <td>...</td>\n",
       "      <td>...</td>\n",
       "      <td>...</td>\n",
       "      <td>...</td>\n",
       "      <td>...</td>\n",
       "    </tr>\n",
       "    <tr>\n",
       "      <th>106</th>\n",
       "      <td>la-casa-di-sergio-paris</td>\n",
       "      <td>2.000000</td>\n",
       "      <td>1</td>\n",
       "      <td>this is a cute italian bistro in the heart of ...</td>\n",
       "      <td>0.545420</td>\n",
       "      <td>3.682540</td>\n",
       "      <td>26</td>\n",
       "      <td>0.038462</td>\n",
       "    </tr>\n",
       "    <tr>\n",
       "      <th>3</th>\n",
       "      <td>alcazar-paris</td>\n",
       "      <td>3.000000</td>\n",
       "      <td>1</td>\n",
       "      <td>the good: the atmosphere in this place is abso...</td>\n",
       "      <td>0.501369</td>\n",
       "      <td>3.491803</td>\n",
       "      <td>26</td>\n",
       "      <td>0.038462</td>\n",
       "    </tr>\n",
       "    <tr>\n",
       "      <th>199</th>\n",
       "      <td>paris-hanoï-paris-6</td>\n",
       "      <td>1.000000</td>\n",
       "      <td>1</td>\n",
       "      <td>very poor meal. we were delivered with deliver...</td>\n",
       "      <td>0.544193</td>\n",
       "      <td>3.965854</td>\n",
       "      <td>27</td>\n",
       "      <td>0.037037</td>\n",
       "    </tr>\n",
       "    <tr>\n",
       "      <th>188</th>\n",
       "      <td>nanashi-paris-4</td>\n",
       "      <td>3.000000</td>\n",
       "      <td>1</td>\n",
       "      <td>prettily designed place with friendly staff. c...</td>\n",
       "      <td>0.589520</td>\n",
       "      <td>3.986607</td>\n",
       "      <td>27</td>\n",
       "      <td>0.037037</td>\n",
       "    </tr>\n",
       "    <tr>\n",
       "      <th>53</th>\n",
       "      <td>corso-paris-6</td>\n",
       "      <td>4.000000</td>\n",
       "      <td>1</td>\n",
       "      <td>we ordered a pizetta from here along with some...</td>\n",
       "      <td>0.508166</td>\n",
       "      <td>4.033557</td>\n",
       "      <td>29</td>\n",
       "      <td>0.034483</td>\n",
       "    </tr>\n",
       "  </tbody>\n",
       "</table>\n",
       "<p>100 rows × 8 columns</p>\n",
       "</div>"
      ],
      "text/plain": [
       "                       alias  rate_filtered  review_filtered  \\\n",
       "88         il-brigante-paris       4.363636                9   \n",
       "208        pizza-julia-paris       4.433962               36   \n",
       "180      maria-luisa-paris-4       4.272727                9   \n",
       "206   pizza-di-loretta-paris       4.875000                7   \n",
       "211    pizza-vesuvio-paris-3       3.705882                9   \n",
       "..                       ...            ...              ...   \n",
       "106  la-casa-di-sergio-paris       2.000000                1   \n",
       "3              alcazar-paris       3.000000                1   \n",
       "199      paris-hanoï-paris-6       1.000000                1   \n",
       "188          nanashi-paris-4       3.000000                1   \n",
       "53             corso-paris-6       4.000000                1   \n",
       "\n",
       "                                          review_clean       sim  rate_all  \\\n",
       "88   excellent pizza. was the first place i ate in ...  0.569076  4.432432   \n",
       "208  really good pizza! and super nice staff. i che...  0.560725  4.538860   \n",
       "180  amazing pizza! best pizza in paris, and wonder...  0.562772  4.046296   \n",
       "206  delicious pizza! especially the mushroom-taste...  0.560004  4.934426   \n",
       "211  i used to come here frequently when i lived in...  0.555682  3.520000   \n",
       "..                                                 ...       ...       ...   \n",
       "106  this is a cute italian bistro in the heart of ...  0.545420  3.682540   \n",
       "3    the good: the atmosphere in this place is abso...  0.501369  3.491803   \n",
       "199  very poor meal. we were delivered with deliver...  0.544193  3.965854   \n",
       "188  prettily designed place with friendly staff. c...  0.589520  3.986607   \n",
       "53   we ordered a pizetta from here along with some...  0.508166  4.033557   \n",
       "\n",
       "     review_all     ratio  \n",
       "88           11  0.818182  \n",
       "208          60  0.600000  \n",
       "180          15  0.600000  \n",
       "206          12  0.583333  \n",
       "211          17  0.529412  \n",
       "..          ...       ...  \n",
       "106          26  0.038462  \n",
       "3            26  0.038462  \n",
       "199          27  0.037037  \n",
       "188          27  0.037037  \n",
       "53           29  0.034483  \n",
       "\n",
       "[100 rows x 8 columns]"
      ]
     },
     "execution_count": 32,
     "metadata": {},
     "output_type": "execute_result"
    }
   ],
   "source": [
    "df[df['review_all']>10].sort_values('ratio',ascending=False)[:100]"
   ]
  },
  {
   "cell_type": "code",
   "execution_count": 31,
   "id": "66e21d1d",
   "metadata": {
    "ExecuteTime": {
     "end_time": "2021-11-26T09:24:00.882571Z",
     "start_time": "2021-11-26T09:24:00.877047Z"
    }
   },
   "outputs": [
    {
     "data": {
      "text/plain": [
       "'excellent pizza. was the first place i ate in paris and it proceeded to be the best food i ate all trip. the price is very far for what you are getting (authentic french food). if you choose try this place beware that the sitting is limited. side note: while traveling throughout paris be aware of being pick pocketed. while paris is beautiful it is better when you have all you belongings in the end. // the pizza is decently good. the servers are too nice bc they are swamped. the avg wait time for a table is super long (.hrs) if you didn\\'t make a reservation on a saturday night for a table of two at h. to go orders are at least mins. it would be better to order on deliveries or foodera. the service makes me not want to go back. // excellent pizza, made with fresh ingredients! the place is quite simple, but it\\'s charming. the owen is almost in the middle of the room, you can see all the pizzaiolo\\'s creations! must go place if you like pizza!!! amazing!! // the pizza itself at this place is phenomenal. however, getting to enjoy that pizza is a bit of a challenge. even with a reservation, the wait can sometimes be long. the restaurant itself is very small. the chef (the italian guy) is amazing! i\\'ve come here a few times. the pizza is thin crust with fresh ingredients. you can see all the pizza being made right in front of you because the pizza oven is in the front of the restaurant when you walk in. just basically pack your patience and go from there. they have wifi which is an added bonus if you need to order a taxi. // the pizza itself at this place is phenomenal. however, getting to enjoy that pizza is a bit of a challenge. even with a reservation, the wait can sometimes be long. the restaurant itself is very small. the chef (the italian guy) is amazing! i\\'ve come here a few times. the pizza is thin crust with fresh ingredients. you can see all the pizza being made right in front of you because the pizza oven is in the front of the restaurant when you walk in. just basically pack your patience and go from there. they have wifi which is an added bonus if you need to order a taxi. // the pizza itself at this place is phenomenal. however, getting to enjoy that pizza is a bit of a challenge. even with a reservation, the wait can sometimes be long. the restaurant itself is very small. the chef (the italian guy) is amazing! i\\'ve come here a few times. the pizza is thin crust with fresh ingredients. you can see all the pizza being made right in front of you because the pizza oven is in the front of the restaurant when you walk in. just basically pack your patience and go from there. they have wifi which is an added bonus if you need to order a taxi. // great little pizza place with a pizza making station within arms reach of the neighboring tiny tables. flor all over the floor and italian men dressing he pizzas, the place can hold maybe people so it gets steamy and busy in there quickly but worth it. pizzas are super thin and crispy but full of flavor with their high quality toppings.  they also deliver and do takeaways but expect to wait a while. you can also call ahead to reserve. the menu four cheese and pizza dei carboneiri // it was minutes until closing and they made us a delicious pizza to go! the pie crust is very thin, and the pizza itself was full of flavor. i would recommend this place to my friends. // best pizza in paris. be prepared for a wait to sit and a wait to eat. service style is fast and impatient but with a smile. if you\\'re patient and lucky, you may get a free glass of wine for your wait. // some of the best pizza in paris. reservation needed as it\\'s always packed, and request outside if you think the weather will be nice. i highly recommend to go with someone who will split their pizza with you if you do, that way you can try two different ones... making a decision which one to get is super difficult. // recommended by parisians twice in a night! never shy about asking directions, i twice sought them while strolling downhill from sacre couer, and was twice dissuaded from going to the pizzerie i had intended to in favor of il bregante. and, man was it worth it! excellent, super thin crust pizza as only italians know how to sculpt, and a variety of unique topping combinations. i went for the \"roma,\" which is a gorgonzola based veggie affair without being too \"sustainable\" about it. the place was packed, inside and out around , but my pizza was ready win minutes of ordering it. highly recommended to all street talkers!'"
      ]
     },
     "execution_count": 31,
     "metadata": {},
     "output_type": "execute_result"
    }
   ],
   "source": [
    "df.loc[88,'review_clean']"
   ]
  },
  {
   "cell_type": "code",
   "execution_count": 13,
   "id": "6621783e",
   "metadata": {
    "ExecuteTime": {
     "end_time": "2021-11-26T10:03:17.636585Z",
     "start_time": "2021-11-26T10:03:17.623749Z"
    }
   },
   "outputs": [],
   "source": [
    "def compute_sim_df(text,embedding,n_prox=None,min_review=0):\n",
    "    input_encoded = model.encode(text)\n",
    "    similarities = util.cos_sim(input_encoded, np.array(embedding))\n",
    "\n",
    "    df_sim = df.assign(sim = similarities.T)\n",
    "\n",
    "    if not n_prox:\n",
    "        df_filtered = df_sim.sort_values('sim',ascending=False)\\\n",
    "            .groupby('alias').agg({ 'rate':'mean',\n",
    "                                    'review':'nunique',\n",
    "                                    'review_clean':lambda txt : ' // '.join(str(txt)),\n",
    "                                    'sim':'mean'\n",
    "                                    })\n",
    "\n",
    "        df_output = df_filtered.merge(df_resto,on='alias',how='left',suffixes=('_filtered','_all')).reset_index()\n",
    "\n",
    "        return df_output[df_output['review_all']>min_review]\n",
    "\n",
    "    if n_prox:\n",
    "        df_filtered= df_sim.sort_values('sim',ascending=False)[:n_prox]\\\n",
    "            .groupby('alias').agg({ 'rate':'mean',\n",
    "                                    'review':'nunique',\n",
    "                                    'review_clean':lambda txt : ' // '.join(str(txt)),\n",
    "                                    'sim':'mean'\n",
    "                                    })\n",
    "\n",
    "        df_output = df_filtered.merge(df_resto,on='alias',\n",
    "                                      how='left',suffixes=('_filtered','_all')).reset_index()\n",
    "\n",
    "        return df_output[df_output['review_all'] > min_review]\n"
   ]
  },
  {
   "cell_type": "code",
   "execution_count": 14,
   "id": "2fbdf112",
   "metadata": {
    "ExecuteTime": {
     "end_time": "2021-11-26T10:03:34.687753Z",
     "start_time": "2021-11-26T10:03:17.791854Z"
    }
   },
   "outputs": [
    {
     "ename": "NameError",
     "evalue": "name 'df_resto' is not defined",
     "output_type": "error",
     "traceback": [
      "\u001b[0;31m---------------------------------------------------------------------------\u001b[0m",
      "\u001b[0;31mNameError\u001b[0m                                 Traceback (most recent call last)",
      "\u001b[0;32m/var/folders/zd/9ts3jb2s5472mty2sgdddp3m0000gn/T/ipykernel_63179/2553680273.py\u001b[0m in \u001b[0;36m<module>\u001b[0;34m\u001b[0m\n\u001b[0;32m----> 1\u001b[0;31m \u001b[0mcompute_sim_df\u001b[0m\u001b[0;34m(\u001b[0m\u001b[0;34m'pizza du feu'\u001b[0m\u001b[0;34m,\u001b[0m\u001b[0membedding\u001b[0m\u001b[0;34m,\u001b[0m\u001b[0mn_prox\u001b[0m\u001b[0;34m=\u001b[0m\u001b[0;32mNone\u001b[0m\u001b[0;34m,\u001b[0m\u001b[0mmin_review\u001b[0m\u001b[0;34m=\u001b[0m\u001b[0;36m0\u001b[0m\u001b[0;34m)\u001b[0m\u001b[0;34m\u001b[0m\u001b[0;34m\u001b[0m\u001b[0m\n\u001b[0m",
      "\u001b[0;32m/var/folders/zd/9ts3jb2s5472mty2sgdddp3m0000gn/T/ipykernel_63179/1222443692.py\u001b[0m in \u001b[0;36mcompute_sim_df\u001b[0;34m(text, embedding, n_prox, min_review)\u001b[0m\n\u001b[1;32m     13\u001b[0m                                     })\n\u001b[1;32m     14\u001b[0m \u001b[0;34m\u001b[0m\u001b[0m\n\u001b[0;32m---> 15\u001b[0;31m         \u001b[0mdf_output\u001b[0m \u001b[0;34m=\u001b[0m \u001b[0mdf_filtered\u001b[0m\u001b[0;34m.\u001b[0m\u001b[0mmerge\u001b[0m\u001b[0;34m(\u001b[0m\u001b[0mdf_resto\u001b[0m\u001b[0;34m,\u001b[0m\u001b[0mon\u001b[0m\u001b[0;34m=\u001b[0m\u001b[0;34m'alias'\u001b[0m\u001b[0;34m,\u001b[0m\u001b[0mhow\u001b[0m\u001b[0;34m=\u001b[0m\u001b[0;34m'left'\u001b[0m\u001b[0;34m,\u001b[0m\u001b[0msuffixes\u001b[0m\u001b[0;34m=\u001b[0m\u001b[0;34m(\u001b[0m\u001b[0;34m'_filtered'\u001b[0m\u001b[0;34m,\u001b[0m\u001b[0;34m'_all'\u001b[0m\u001b[0;34m)\u001b[0m\u001b[0;34m)\u001b[0m\u001b[0;34m.\u001b[0m\u001b[0mreset_index\u001b[0m\u001b[0;34m(\u001b[0m\u001b[0;34m)\u001b[0m\u001b[0;34m\u001b[0m\u001b[0;34m\u001b[0m\u001b[0m\n\u001b[0m\u001b[1;32m     16\u001b[0m \u001b[0;34m\u001b[0m\u001b[0m\n\u001b[1;32m     17\u001b[0m         \u001b[0;32mreturn\u001b[0m \u001b[0mdf_output\u001b[0m\u001b[0;34m[\u001b[0m\u001b[0mdf_output\u001b[0m\u001b[0;34m[\u001b[0m\u001b[0;34m'review_all'\u001b[0m\u001b[0;34m]\u001b[0m\u001b[0;34m>\u001b[0m\u001b[0mmin_review\u001b[0m\u001b[0;34m]\u001b[0m\u001b[0;34m\u001b[0m\u001b[0;34m\u001b[0m\u001b[0m\n",
      "\u001b[0;31mNameError\u001b[0m: name 'df_resto' is not defined"
     ]
    }
   ],
   "source": [
    "compute_sim_df('pizza du feu',embedding,n_prox=None,min_review=0)"
   ]
  },
  {
   "cell_type": "code",
   "execution_count": null,
   "id": "5d99ba98",
   "metadata": {},
   "outputs": [],
   "source": []
  },
  {
   "cell_type": "code",
   "execution_count": null,
   "id": "6c4e61bf",
   "metadata": {},
   "outputs": [],
   "source": []
  }
 ],
 "metadata": {
  "kernelspec": {
   "display_name": "Python 3 (ipykernel)",
   "language": "python",
   "name": "python3"
  },
  "language_info": {
   "codemirror_mode": {
    "name": "ipython",
    "version": 3
   },
   "file_extension": ".py",
   "mimetype": "text/x-python",
   "name": "python",
   "nbconvert_exporter": "python",
   "pygments_lexer": "ipython3",
   "version": "3.8.12"
  },
  "toc": {
   "base_numbering": 1,
   "nav_menu": {},
   "number_sections": true,
   "sideBar": true,
   "skip_h1_title": false,
   "title_cell": "Table of Contents",
   "title_sidebar": "Contents",
   "toc_cell": false,
   "toc_position": {},
   "toc_section_display": true,
   "toc_window_display": false
  }
 },
 "nbformat": 4,
 "nbformat_minor": 5
}
