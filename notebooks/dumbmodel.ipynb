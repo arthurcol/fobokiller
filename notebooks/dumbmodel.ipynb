{
  "nbformat": 4,
  "nbformat_minor": 0,
  "metadata": {
    "colab": {
      "name": "dumbmodel.ipynb",
      "provenance": []
    },
    "kernelspec": {
      "name": "python3",
      "display_name": "Python 3"
    },
    "language_info": {
      "name": "python"
    },
    "accelerator": "GPU"
  },
  "cells": [
    {
      "cell_type": "code",
      "metadata": {
        "id": "udqG4cjF6y1N"
      },
      "source": [
        "import pandas as pd\n",
        "import numpy as np \n",
        "from gensim.models import Word2Vec\n",
        "from sklearn.model_selection import train_test_split\n",
        "from tensorflow.keras import models,layers\n",
        "from tensorflow.keras.preprocessing.sequence import pad_sequences"
      ],
      "execution_count": 11,
      "outputs": []
    },
    {
      "cell_type": "code",
      "metadata": {
        "colab": {
          "base_uri": "https://localhost:8080/"
        },
        "id": "D6bOPr-YbKt7",
        "outputId": "8bee8348-8f96-4bf6-8672-897f0fb0fb1c"
      },
      "source": [
        "from google.colab import auth\n",
        "auth.authenticate_user()\n",
        "\n",
        "\n",
        "project_id = 'fobo-722'\n",
        "!gcloud config set project {project_id}"
      ],
      "execution_count": 4,
      "outputs": [
        {
          "output_type": "stream",
          "name": "stdout",
          "text": [
            "Updated property [core/project].\n"
          ]
        }
      ]
    },
    {
      "cell_type": "code",
      "metadata": {
        "colab": {
          "base_uri": "https://localhost:8080/"
        },
        "id": "9m4g3AnNbziQ",
        "outputId": "c1d65e05-5907-4b44-91db-8ce0d5e91c54"
      },
      "source": [
        "!gsutil cp gs://fobokiller-722/data/scrapping_cleaned.csv /tmp/scrapping_cleaned.csv"
      ],
      "execution_count": 5,
      "outputs": [
        {
          "output_type": "stream",
          "name": "stdout",
          "text": [
            "Copying gs://fobokiller-722/data/scrapping_cleaned.csv...\n",
            "\\ [1 files][ 45.7 MiB/ 45.7 MiB]                                                \n",
            "Operation completed over 1 objects/45.7 MiB.                                     \n"
          ]
        }
      ]
    },
    {
      "cell_type": "code",
      "metadata": {
        "id": "WMsytZWUcDXh"
      },
      "source": [
        "#load data\n",
        "df=pd.read_csv('/tmp/scrapping_cleaned.csv',index_col=0,nrows=10000)\n",
        "X=df['review_clean']\n",
        "y=df['rate']\n",
        "#split train test\n",
        "X_train,X_test,y_train,y_test = train_test_split(X,y,test_size=.3)"
      ],
      "execution_count": 76,
      "outputs": []
    },
    {
      "cell_type": "code",
      "metadata": {
        "colab": {
          "base_uri": "https://localhost:8080/"
        },
        "id": "peeIS7s3moKB",
        "outputId": "d28ac0bd-b1d0-42ec-e2a6-82c3451a1fc2"
      },
      "source": [
        "y_test.unique()"
      ],
      "execution_count": 78,
      "outputs": [
        {
          "output_type": "execute_result",
          "data": {
            "text/plain": [
              "array([5, 2, 1, 4, 3])"
            ]
          },
          "metadata": {},
          "execution_count": 78
        }
      ]
    },
    {
      "cell_type": "code",
      "metadata": {
        "id": "zJOi5btqmRlr"
      },
      "source": [
        "from tensorflow.keras.utils import to_categorical\n",
        "y_train_cat = to_categorical(y_train)\n",
        "y_test_cat = to_categorical(y_test)"
      ],
      "execution_count": 82,
      "outputs": []
    },
    {
      "cell_type": "code",
      "metadata": {
        "colab": {
          "base_uri": "https://localhost:8080/"
        },
        "id": "C4jm_85Xm71T",
        "outputId": "70797652-05f8-47d5-ba46-5c4202fb3d5b"
      },
      "source": [
        "y_test_cat.shape"
      ],
      "execution_count": 81,
      "outputs": [
        {
          "output_type": "execute_result",
          "data": {
            "text/plain": [
              "(3000, 6)"
            ]
          },
          "metadata": {},
          "execution_count": 81
        }
      ]
    },
    {
      "cell_type": "code",
      "metadata": {
        "id": "YUak44X_hbvl"
      },
      "source": [
        "from tensorflow.keras.preprocessing.text import text_to_word_sequence\n",
        "\n",
        "X_train = X_train.apply(text_to_word_sequence)\n",
        "X_test = X_test.apply(text_to_word_sequence)"
      ],
      "execution_count": 33,
      "outputs": []
    },
    {
      "cell_type": "code",
      "metadata": {
        "colab": {
          "base_uri": "https://localhost:8080/"
        },
        "id": "UDGcyHwihq_Q",
        "outputId": "39cc0e07-cf97-4c73-b13f-a518601cba36"
      },
      "source": [
        "X_train"
      ],
      "execution_count": 35,
      "outputs": [
        {
          "output_type": "execute_result",
          "data": {
            "text/plain": [
              "6902    [pleasant, evening, gem, restaurant, im, glad,...\n",
              "8379    [even, start, exploring, area, near, arc, de, ...\n",
              "5880    [tasty, big, portions, got, hot, cold, combo, ...\n",
              "2174    [fantastic, bakery, great, breakfast, tables, ...\n",
              "6351    [bit, hesitant, write, review, restaurant, one...\n",
              "                              ...                        \n",
              "7571    [excellent, food, get, beef, rolls, shrimp, pa...\n",
              "6567    [dont, get, meat, barely, seasoned, sauce, sou...\n",
              "2965    [yes, food, fantastic, cornish, game, hen, sau...\n",
              "4431    [paris, u, must, bistrot, food, amazing, ones,...\n",
              "5390    [delicious, local, place, nothing, pretentious...\n",
              "Name: review_clean, Length: 7000, dtype: object"
            ]
          },
          "metadata": {},
          "execution_count": 35
        }
      ]
    },
    {
      "cell_type": "code",
      "metadata": {
        "id": "5RUtvx3T7cNH"
      },
      "source": [
        "##init vectorizer\n",
        "word2vec = Word2Vec(sentences=X_train, size=100, min_count=10, window=10)\n"
      ],
      "execution_count": 50,
      "outputs": []
    },
    {
      "cell_type": "code",
      "metadata": {
        "id": "mlfj1O1LbCqK"
      },
      "source": [
        "# Function to convert a sentence (list of words) into a matrix representing the words in the embedding space\n",
        "def embed_sentence(word2vec, sentence):\n",
        "    embedded_sentence = []\n",
        "    for word in sentence:\n",
        "        if word in word2vec.wv:\n",
        "            embedded_sentence.append(word2vec.wv[word])\n",
        "        \n",
        "    return np.array(embedded_sentence)"
      ],
      "execution_count": 37,
      "outputs": []
    },
    {
      "cell_type": "code",
      "metadata": {
        "id": "hEsC5NuWdTTi"
      },
      "source": [
        "# Function that converts a list of sentences into a list of matrices\n",
        "def embedding(word2vec, sentences):\n",
        "    embed = []\n",
        "    \n",
        "    for sentence in sentences:\n",
        "        embedded_sentence = embed_sentence(word2vec, sentence)\n",
        "        embed.append(embedded_sentence)\n",
        "        \n",
        "    return embed"
      ],
      "execution_count": 38,
      "outputs": []
    },
    {
      "cell_type": "code",
      "metadata": {
        "id": "TdKAfwmKdTml"
      },
      "source": [
        "# Embed the training and test sentences\n",
        "X_train_embed = embedding(word2vec, X_train)\n",
        "X_test_embed = embedding(word2vec, X_test)"
      ],
      "execution_count": 51,
      "outputs": []
    },
    {
      "cell_type": "code",
      "metadata": {
        "id": "B-z8Yi-ZixEP"
      },
      "source": [
        ""
      ],
      "execution_count": null,
      "outputs": []
    },
    {
      "cell_type": "code",
      "metadata": {
        "colab": {
          "base_uri": "https://localhost:8080/"
        },
        "id": "quvmoJ1RiRM3",
        "outputId": "8ed19751-eddf-46a9-c18a-9ad0f6201195"
      },
      "source": [
        ""
      ],
      "execution_count": 49,
      "outputs": [
        {
          "output_type": "execute_result",
          "data": {
            "text/plain": [
              "167"
            ]
          },
          "metadata": {},
          "execution_count": 49
        }
      ]
    },
    {
      "cell_type": "code",
      "metadata": {
        "id": "q7pnWLjOdnCA"
      },
      "source": [
        "# Pad the training and test embedded sentences\n",
        "X_train_pad = pad_sequences(X_train_embed, dtype='float32', padding='post', maxlen=200)\n",
        "X_test_pad = pad_sequences(X_test_embed, dtype='float32', padding='post', maxlen=200)"
      ],
      "execution_count": 54,
      "outputs": []
    },
    {
      "cell_type": "code",
      "metadata": {
        "colab": {
          "base_uri": "https://localhost:8080/"
        },
        "id": "RpgOAJavh1qw",
        "outputId": "9051fd0f-b024-414b-9138-9864e2891464"
      },
      "source": [
        "X_train_pad.shape"
      ],
      "execution_count": 55,
      "outputs": [
        {
          "output_type": "execute_result",
          "data": {
            "text/plain": [
              "(7000, 200, 100)"
            ]
          },
          "metadata": {},
          "execution_count": 55
        }
      ]
    },
    {
      "cell_type": "code",
      "metadata": {
        "id": "nICrQzbjdrbI"
      },
      "source": [
        "def init_model():\n",
        "    model = models.Sequential()\n",
        "    model.add(layers.Masking())\n",
        "    model.add(layers.GRU(50, return_sequences=True, activation='tanh'))\n",
        "    model.add(layers.GRU(40, activation='tanh'))\n",
        "    model.add(layers.Dense(15, activation='relu'))\n",
        "    model.add(layers.Dense(6, activation='softmax'))\n",
        "\n",
        "    model.compile(loss='categorical_crossentropy',\n",
        "                  optimizer='rmsprop',\n",
        "                  metrics=['accuracy'])\n",
        "    \n",
        "    return model\n",
        "\n",
        "model = init_model()"
      ],
      "execution_count": 91,
      "outputs": []
    },
    {
      "cell_type": "code",
      "metadata": {
        "colab": {
          "base_uri": "https://localhost:8080/"
        },
        "id": "sjyMXnRLkoWG",
        "outputId": "a2fb99a0-ab88-4c43-d93c-35208329eb23"
      },
      "source": [
        "y_train_cat.shape"
      ],
      "execution_count": 86,
      "outputs": [
        {
          "output_type": "execute_result",
          "data": {
            "text/plain": [
              "(7000, 6)"
            ]
          },
          "metadata": {},
          "execution_count": 86
        }
      ]
    },
    {
      "cell_type": "code",
      "metadata": {
        "colab": {
          "base_uri": "https://localhost:8080/"
        },
        "id": "TgO8uEMpesWJ",
        "outputId": "22000df3-b049-4fad-b844-30848ad6906b"
      },
      "source": [
        "from tensorflow.keras.callbacks import EarlyStopping\n",
        "\n",
        "es = EarlyStopping(patience=5, restore_best_weights=True)\n",
        "\n",
        "history = model.fit(X_train_pad, y_train_cat, \n",
        "          batch_size = 16,\n",
        "          epochs=100,\n",
        "          validation_split=0.3,\n",
        "          callbacks=[es]\n",
        "         )"
      ],
      "execution_count": 94,
      "outputs": [
        {
          "output_type": "stream",
          "name": "stdout",
          "text": [
            "Epoch 1/100\n",
            "307/307 [==============================] - 33s 69ms/step - loss: 1.3285 - accuracy: 0.4984 - val_loss: 1.3074 - val_accuracy: 0.5138\n",
            "Epoch 2/100\n",
            "307/307 [==============================] - 18s 59ms/step - loss: 1.3022 - accuracy: 0.5014 - val_loss: 1.2907 - val_accuracy: 0.5138\n",
            "Epoch 3/100\n",
            "307/307 [==============================] - 18s 59ms/step - loss: 1.2989 - accuracy: 0.5016 - val_loss: 1.3078 - val_accuracy: 0.5138\n",
            "Epoch 4/100\n",
            "307/307 [==============================] - 18s 59ms/step - loss: 1.2951 - accuracy: 0.5016 - val_loss: 1.2972 - val_accuracy: 0.5138\n",
            "Epoch 5/100\n",
            "307/307 [==============================] - 18s 59ms/step - loss: 1.2914 - accuracy: 0.5035 - val_loss: 1.3230 - val_accuracy: 0.5124\n",
            "Epoch 6/100\n",
            "307/307 [==============================] - 18s 59ms/step - loss: 1.2854 - accuracy: 0.5020 - val_loss: 1.2975 - val_accuracy: 0.5138\n",
            "Epoch 7/100\n",
            "307/307 [==============================] - 18s 59ms/step - loss: 1.2774 - accuracy: 0.5031 - val_loss: 1.3096 - val_accuracy: 0.5119\n"
          ]
        }
      ]
    },
    {
      "cell_type": "code",
      "metadata": {
        "colab": {
          "base_uri": "https://localhost:8080/"
        },
        "id": "0drQawkPoMeZ",
        "outputId": "bebdf570-f88f-4922-e210-d68ea77c4363"
      },
      "source": [
        "y_train.value_counts()/len(y_train)"
      ],
      "execution_count": 93,
      "outputs": [
        {
          "output_type": "execute_result",
          "data": {
            "text/plain": [
              "5    0.505143\n",
              "4    0.254429\n",
              "3    0.097857\n",
              "1    0.087143\n",
              "2    0.055429\n",
              "Name: rate, dtype: float64"
            ]
          },
          "metadata": {},
          "execution_count": 93
        }
      ]
    },
    {
      "cell_type": "code",
      "metadata": {
        "id": "bZZOroOye1AS"
      },
      "source": [
        "import matplotlib.pyplot as plt\n",
        "import seaborn as sns\n",
        "def plot_loss_metrics(history, title=None):\n",
        "    \"\"\"\n",
        "    used in DL to plot accuracy and metrics\n",
        "    must be passed the history of the fitted model\n",
        "    \"\"\"\n",
        "    # -- Retrieve metrics used\n",
        "    metrics = []\n",
        "    val_metrics = []\n",
        "\n",
        "    for m in history.history.keys():\n",
        "        if m.startswith('val_'):\n",
        "            val_metrics.append(m)\n",
        "        else:\n",
        "            metrics.append(m)\n",
        "\n",
        "    if len(metrics) % 2 != 0:\n",
        "        row = len(metrics) // 2 + 1\n",
        "\n",
        "    if len(metrics) % 2 == 0:\n",
        "        row = len(metrics) // 2\n",
        "\n",
        "    fig,axs = plt.subplots(row,2,figsize=(13, 4 * row))\n",
        "\n",
        "    for m,ax in zip(metrics,axs.flat):\n",
        "        ax.plot(history.history[m])\n",
        "        ax.plot(history.history[f'val_{m}'])\n",
        "        ax.set_title(f'Model {m}')\n",
        "        ax.set_ylabel(f'{m}')\n",
        "        ax.set_xlabel('Epoch')\n",
        "        ax.legend(['Train', 'Test'], loc='best')\n",
        "        ax.grid(axis=\"x\", linewidth=0.5)\n",
        "        ax.grid(axis=\"y\", linewidth=0.5)\n",
        "\n",
        "    if len(metrics) % 2 != 0:\n",
        "        fig.delaxes[axs.flat[-1]]\n",
        "\n",
        "    if title:\n",
        "        fig.suptitle(title)\n",
        "\n",
        "    pass"
      ],
      "execution_count": 88,
      "outputs": []
    },
    {
      "cell_type": "code",
      "metadata": {
        "colab": {
          "base_uri": "https://localhost:8080/",
          "height": 295
        },
        "id": "_16Djw3xfI5R",
        "outputId": "8c2a1f73-0f0b-4701-86e6-59f9e949fd70"
      },
      "source": [
        "plot_loss_metrics(history)"
      ],
      "execution_count": 95,
      "outputs": [
        {
          "output_type": "display_data",
          "data": {
            "image/png": "[encoded data removed]",
            "text/plain": [
              "<Figure size 936x288 with 2 Axes>"
            ]
          },
          "metadata": {
            "needs_background": "light"
          }
        }
      ]
    },
    {
      "cell_type": "code",
      "metadata": {
        "colab": {
          "base_uri": "https://localhost:8080/"
        },
        "id": "2NlAXhjyfeXc",
        "outputId": "5b6f88d4-0353-4cea-884e-1ad6e22a880d"
      },
      "source": [
        "## test with binary class \n",
        "y_train_binary=np.where(y_train<4,0,1)\n",
        "np.unique(y_train_binary)"
      ],
      "execution_count": 99,
      "outputs": [
        {
          "output_type": "execute_result",
          "data": {
            "text/plain": [
              "array([0, 1])"
            ]
          },
          "metadata": {},
          "execution_count": 99
        }
      ]
    },
    {
      "cell_type": "code",
      "metadata": {
        "id": "E46vxSYppyEw"
      },
      "source": [
        "def init_model_binary():\n",
        "    model = models.Sequential()\n",
        "    model.add(layers.Masking())\n",
        "    model.add(layers.GRU(50, return_sequences=True, activation='tanh'))\n",
        "    model.add(layers.GRU(40, activation='tanh'))\n",
        "    model.add(layers.Dense(15, activation='relu'))\n",
        "    model.add(layers.Dense(1, activation='sigmoid'))\n",
        "\n",
        "    model.compile(loss='binary_crossentropy',\n",
        "                  optimizer='rmsprop',\n",
        "                  metrics=['accuracy'])\n",
        "    \n",
        "    return model\n",
        "\n",
        "model_binary = init_model_binary()"
      ],
      "execution_count": 108,
      "outputs": []
    },
    {
      "cell_type": "code",
      "metadata": {
        "colab": {
          "base_uri": "https://localhost:8080/",
          "height": 503
        },
        "id": "4bgAMsNhqHYk",
        "outputId": "e3645048-c66b-4235-c727-240e9001508e"
      },
      "source": [
        "es = EarlyStopping(patience=5, restore_best_weights=True)\n",
        "\n",
        "history_binary = model_binary.fit(X_train_pad, y_train_binary, \n",
        "          batch_size = 16,\n",
        "          epochs=100,\n",
        "          validation_split=0.3,\n",
        "          callbacks=[es]\n",
        "         )\n",
        "plot_loss_metrics(history_binary)"
      ],
      "execution_count": 109,
      "outputs": [
        {
          "output_type": "stream",
          "name": "stdout",
          "text": [
            "Epoch 1/100\n",
            "307/307 [==============================] - 33s 69ms/step - loss: 0.5608 - accuracy: 0.7578 - val_loss: 0.5497 - val_accuracy: 0.7624\n",
            "Epoch 2/100\n",
            "307/307 [==============================] - 18s 59ms/step - loss: 0.5549 - accuracy: 0.7584 - val_loss: 0.5504 - val_accuracy: 0.7624\n",
            "Epoch 3/100\n",
            "307/307 [==============================] - 18s 59ms/step - loss: 0.5540 - accuracy: 0.7584 - val_loss: 0.5502 - val_accuracy: 0.7624\n",
            "Epoch 4/100\n",
            "307/307 [==============================] - 18s 59ms/step - loss: 0.5525 - accuracy: 0.7584 - val_loss: 0.5627 - val_accuracy: 0.7610\n",
            "Epoch 5/100\n",
            "307/307 [==============================] - 18s 59ms/step - loss: 0.5502 - accuracy: 0.7588 - val_loss: 0.5506 - val_accuracy: 0.7624\n",
            "Epoch 6/100\n",
            "307/307 [==============================] - 18s 59ms/step - loss: 0.5483 - accuracy: 0.7586 - val_loss: 0.5588 - val_accuracy: 0.7624\n"
          ]
        },
        {
          "output_type": "display_data",
          "data": {
            "image/png": "[encoded data removed]",
            "text/plain": [
              "<Figure size 936x288 with 2 Axes>"
            ]
          },
          "metadata": {
            "needs_background": "light"
          }
        }
      ]
    },
    {
      "cell_type": "code",
      "metadata": {
        "colab": {
          "base_uri": "https://localhost:8080/"
        },
        "id": "fYRJVm1vqOwq",
        "outputId": "e4fb7e4b-97dc-4fa4-924c-50b5bd6fc77e"
      },
      "source": [
        "np.unique(y_train_binary,return_counts=True)"
      ],
      "execution_count": 111,
      "outputs": [
        {
          "output_type": "execute_result",
          "data": {
            "text/plain": [
              "(array([0, 1]), array([1683, 5317]))"
            ]
          },
          "metadata": {},
          "execution_count": 111
        }
      ]
    },
    {
      "cell_type": "code",
      "metadata": {
        "colab": {
          "base_uri": "https://localhost:8080/"
        },
        "id": "M1LoCIhCrfKq",
        "outputId": "508d5c22-8964-4253-8779-3eab06b0f189"
      },
      "source": [
        "5317/7000"
      ],
      "execution_count": 112,
      "outputs": [
        {
          "output_type": "execute_result",
          "data": {
            "text/plain": [
              "0.7595714285714286"
            ]
          },
          "metadata": {},
          "execution_count": 112
        }
      ]
    },
    {
      "cell_type": "code",
      "metadata": {
        "id": "uiVq_5FDrkrt"
      },
      "source": [
        ""
      ],
      "execution_count": null,
      "outputs": []
    }
  ]
}