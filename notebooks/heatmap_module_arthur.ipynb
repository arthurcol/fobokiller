{
 "cells": [
  {
   "cell_type": "code",
   "execution_count": 1,
   "id": "34bd9c78",
   "metadata": {
    "ExecuteTime": {
     "end_time": "2021-12-02T18:42:07.155132Z",
     "start_time": "2021-12-02T18:42:07.136069Z"
    }
   },
   "outputs": [],
   "source": [
    "%load_ext autoreload\n",
    "%autoreload 2"
   ]
  },
  {
   "cell_type": "code",
   "execution_count": 2,
   "id": "1f6c49af",
   "metadata": {
    "ExecuteTime": {
     "end_time": "2021-12-02T18:42:08.880685Z",
     "start_time": "2021-12-02T18:42:08.330166Z"
    }
   },
   "outputs": [],
   "source": [
    "import pandas as pd \n",
    "import numpy as np \n",
    "import pickle"
   ]
  },
  {
   "cell_type": "code",
   "execution_count": 3,
   "id": "a4383958",
   "metadata": {
    "ExecuteTime": {
     "end_time": "2021-12-02T18:42:24.847134Z",
     "start_time": "2021-12-02T18:42:08.882984Z"
    }
   },
   "outputs": [],
   "source": [
    "from fobokiller.cosim import load_embedding, summary_reviews, compute_sim_df"
   ]
  },
  {
   "cell_type": "code",
   "execution_count": 4,
   "id": "a3c86665",
   "metadata": {
    "ExecuteTime": {
     "end_time": "2021-12-02T18:42:27.101484Z",
     "start_time": "2021-12-02T18:42:24.849633Z"
    }
   },
   "outputs": [
    {
     "name": "stderr",
     "output_type": "stream",
     "text": [
      "2021-12-02 19:42:26.793946: I tensorflow/core/platform/cpu_feature_guard.cc:151] This TensorFlow binary is optimized with oneAPI Deep Neural Network Library (oneDNN) to use the following CPU instructions in performance-critical operations:  AVX2 FMA\n",
      "To enable them in other operations, rebuild TensorFlow with the appropriate compiler flags.\n"
     ]
    }
   ],
   "source": [
    "embedding = load_embedding()"
   ]
  },
  {
   "cell_type": "code",
   "execution_count": 7,
   "id": "67e946e9",
   "metadata": {
    "ExecuteTime": {
     "end_time": "2021-12-01T19:00:47.904208Z",
     "start_time": "2021-12-01T19:00:47.754387Z"
    }
   },
   "outputs": [],
   "source": [
    "query = 'I would like to eat a good french meal with mushrooms'"
   ]
  },
  {
   "cell_type": "code",
   "execution_count": 8,
   "id": "0ccdfac4",
   "metadata": {
    "ExecuteTime": {
     "end_time": "2021-12-01T19:00:59.485622Z",
     "start_time": "2021-12-01T19:00:47.912366Z"
    }
   },
   "outputs": [],
   "source": [
    "results=compute_sim_df(query,embedding,n_prox=3000,min_review=10)"
   ]
  },
  {
   "cell_type": "code",
   "execution_count": 9,
   "id": "7bb6857b",
   "metadata": {
    "ExecuteTime": {
     "end_time": "2021-12-01T19:00:59.656372Z",
     "start_time": "2021-12-01T19:00:59.490638Z"
    }
   },
   "outputs": [],
   "source": [
    "summary = summary_reviews(results,10)"
   ]
  },
  {
   "cell_type": "code",
   "execution_count": 10,
   "id": "86c5f32e",
   "metadata": {
    "ExecuteTime": {
     "end_time": "2021-12-01T19:00:59.719501Z",
     "start_time": "2021-12-01T19:00:59.660117Z"
    }
   },
   "outputs": [],
   "source": [
    "summary.reset_index(inplace=True)"
   ]
  },
  {
   "cell_type": "code",
   "execution_count": 11,
   "id": "41212d70",
   "metadata": {
    "ExecuteTime": {
     "end_time": "2021-12-01T19:00:59.866655Z",
     "start_time": "2021-12-01T19:00:59.721719Z"
    }
   },
   "outputs": [
    {
     "data": {
      "text/html": [
       "<div>\n",
       "<style scoped>\n",
       "    .dataframe tbody tr th:only-of-type {\n",
       "        vertical-align: middle;\n",
       "    }\n",
       "\n",
       "    .dataframe tbody tr th {\n",
       "        vertical-align: top;\n",
       "    }\n",
       "\n",
       "    .dataframe thead th {\n",
       "        text-align: right;\n",
       "    }\n",
       "</style>\n",
       "<table border=\"1\" class=\"dataframe\">\n",
       "  <thead>\n",
       "    <tr style=\"text-align: right;\">\n",
       "      <th></th>\n",
       "      <th>alias</th>\n",
       "      <th>date</th>\n",
       "      <th>rate</th>\n",
       "      <th>review_clean</th>\n",
       "      <th>review_sentences</th>\n",
       "      <th>sim_s</th>\n",
       "      <th>rate_filtered</th>\n",
       "      <th>review_filtered</th>\n",
       "      <th>sim_r</th>\n",
       "      <th>rate_all</th>\n",
       "      <th>review_all</th>\n",
       "      <th>ratio</th>\n",
       "      <th>metric</th>\n",
       "    </tr>\n",
       "  </thead>\n",
       "  <tbody>\n",
       "    <tr>\n",
       "      <th>0</th>\n",
       "      <td>l-etoile-de-montmartre-paris-2</td>\n",
       "      <td>2011-01-18</td>\n",
       "      <td>4</td>\n",
       "      <td>l'etoile is a great little neighborhood cafe. ...</td>\n",
       "      <td>good, hearty french food</td>\n",
       "      <td>0.704448</td>\n",
       "      <td>4.000000</td>\n",
       "      <td>1.0</td>\n",
       "      <td>0.704448</td>\n",
       "      <td>3.557377</td>\n",
       "      <td>11.0</td>\n",
       "      <td>0.090909</td>\n",
       "      <td>0.064041</td>\n",
       "    </tr>\n",
       "    <tr>\n",
       "      <th>1</th>\n",
       "      <td>la-fontaine-de-mars-paris-2</td>\n",
       "      <td>2012-03-17</td>\n",
       "      <td>5</td>\n",
       "      <td>a truly awesome bistro and one of the best i v...</td>\n",
       "      <td>starters: poached eggs with mushrooms in a wi...</td>\n",
       "      <td>0.694910</td>\n",
       "      <td>4.833333</td>\n",
       "      <td>40.0</td>\n",
       "      <td>0.590118</td>\n",
       "      <td>4.450627</td>\n",
       "      <td>224.0</td>\n",
       "      <td>0.178571</td>\n",
       "      <td>0.105378</td>\n",
       "    </tr>\n",
       "    <tr>\n",
       "      <th>2</th>\n",
       "      <td>chez-georges-paris-6</td>\n",
       "      <td>2019-12-14</td>\n",
       "      <td>4</td>\n",
       "      <td>julia child's favorite restaurant in paris. ho...</td>\n",
       "      <td>please take your time here, or at any french ...</td>\n",
       "      <td>0.693810</td>\n",
       "      <td>3.400000</td>\n",
       "      <td>5.0</td>\n",
       "      <td>0.624527</td>\n",
       "      <td>3.647982</td>\n",
       "      <td>51.0</td>\n",
       "      <td>0.098039</td>\n",
       "      <td>0.061228</td>\n",
       "    </tr>\n",
       "    <tr>\n",
       "      <th>3</th>\n",
       "      <td>la-rôtisserie-d-argent-paris</td>\n",
       "      <td>2018-06-25</td>\n",
       "      <td>4</td>\n",
       "      <td>delicious meal - salad with baby artichokes an...</td>\n",
       "      <td>suprême de volaille - chicken breast stuffed ...</td>\n",
       "      <td>0.692447</td>\n",
       "      <td>4.750000</td>\n",
       "      <td>7.0</td>\n",
       "      <td>0.602681</td>\n",
       "      <td>3.805556</td>\n",
       "      <td>46.0</td>\n",
       "      <td>0.152174</td>\n",
       "      <td>0.091712</td>\n",
       "    </tr>\n",
       "    <tr>\n",
       "      <th>4</th>\n",
       "      <td>le-comptoir-de-la-gastronomie-paris</td>\n",
       "      <td>2017-07-16</td>\n",
       "      <td>5</td>\n",
       "      <td>i went to paris for the day and wanted to eat ...</td>\n",
       "      <td>i went to paris for the day and wanted to eat ...</td>\n",
       "      <td>0.691569</td>\n",
       "      <td>4.809160</td>\n",
       "      <td>125.0</td>\n",
       "      <td>0.585045</td>\n",
       "      <td>4.455240</td>\n",
       "      <td>1030.0</td>\n",
       "      <td>0.121359</td>\n",
       "      <td>0.071001</td>\n",
       "    </tr>\n",
       "  </tbody>\n",
       "</table>\n",
       "</div>"
      ],
      "text/plain": [
       "                                 alias        date  rate  \\\n",
       "0       l-etoile-de-montmartre-paris-2  2011-01-18     4   \n",
       "1          la-fontaine-de-mars-paris-2  2012-03-17     5   \n",
       "2                 chez-georges-paris-6  2019-12-14     4   \n",
       "3         la-rôtisserie-d-argent-paris  2018-06-25     4   \n",
       "4  le-comptoir-de-la-gastronomie-paris  2017-07-16     5   \n",
       "\n",
       "                                        review_clean  \\\n",
       "0  l'etoile is a great little neighborhood cafe. ...   \n",
       "1  a truly awesome bistro and one of the best i v...   \n",
       "2  julia child's favorite restaurant in paris. ho...   \n",
       "3  delicious meal - salad with baby artichokes an...   \n",
       "4  i went to paris for the day and wanted to eat ...   \n",
       "\n",
       "                                    review_sentences     sim_s  rate_filtered  \\\n",
       "0                           good, hearty french food  0.704448       4.000000   \n",
       "1   starters: poached eggs with mushrooms in a wi...  0.694910       4.833333   \n",
       "2   please take your time here, or at any french ...  0.693810       3.400000   \n",
       "3   suprême de volaille - chicken breast stuffed ...  0.692447       4.750000   \n",
       "4  i went to paris for the day and wanted to eat ...  0.691569       4.809160   \n",
       "\n",
       "   review_filtered     sim_r  rate_all  review_all     ratio    metric  \n",
       "0              1.0  0.704448  3.557377        11.0  0.090909  0.064041  \n",
       "1             40.0  0.590118  4.450627       224.0  0.178571  0.105378  \n",
       "2              5.0  0.624527  3.647982        51.0  0.098039  0.061228  \n",
       "3              7.0  0.602681  3.805556        46.0  0.152174  0.091712  \n",
       "4            125.0  0.585045  4.455240      1030.0  0.121359  0.071001  "
      ]
     },
     "execution_count": 11,
     "metadata": {},
     "output_type": "execute_result"
    }
   ],
   "source": [
    "results.head()"
   ]
  },
  {
   "cell_type": "code",
   "execution_count": 19,
   "id": "882df710",
   "metadata": {
    "ExecuteTime": {
     "end_time": "2021-12-01T11:18:17.701904Z",
     "start_time": "2021-12-01T11:18:17.636557Z"
    }
   },
   "outputs": [],
   "source": [
    "df = summary.merge(results,on='alias')"
   ]
  },
  {
   "cell_type": "code",
   "execution_count": 22,
   "id": "24ad027b",
   "metadata": {
    "ExecuteTime": {
     "end_time": "2021-12-01T11:18:40.612657Z",
     "start_time": "2021-12-01T11:18:40.594525Z"
    }
   },
   "outputs": [
    {
     "data": {
      "text/html": [
       "<div>\n",
       "<style scoped>\n",
       "    .dataframe tbody tr th:only-of-type {\n",
       "        vertical-align: middle;\n",
       "    }\n",
       "\n",
       "    .dataframe tbody tr th {\n",
       "        vertical-align: top;\n",
       "    }\n",
       "\n",
       "    .dataframe thead th {\n",
       "        text-align: right;\n",
       "    }\n",
       "</style>\n",
       "<table border=\"1\" class=\"dataframe\">\n",
       "  <thead>\n",
       "    <tr style=\"text-align: right;\">\n",
       "      <th></th>\n",
       "      <th>alias</th>\n",
       "      <th>reviews</th>\n",
       "      <th>nb_sentences</th>\n",
       "      <th>nb_review</th>\n",
       "      <th>metric sim_ratio</th>\n",
       "      <th>sentences_pond</th>\n",
       "      <th>metric_pond</th>\n",
       "    </tr>\n",
       "  </thead>\n",
       "  <tbody>\n",
       "    <tr>\n",
       "      <th>0</th>\n",
       "      <td>au-boeuf-couronné-paris-4</td>\n",
       "      <td>{it was our first awesome meal in paris! we di...</td>\n",
       "      <td>3</td>\n",
       "      <td>3.0</td>\n",
       "      <td>0.157997</td>\n",
       "      <td>0.050000</td>\n",
       "      <td>0.007900</td>\n",
       "    </tr>\n",
       "    <tr>\n",
       "      <th>1</th>\n",
       "      <td>au-petit-marguery-paris-4</td>\n",
       "      <td>{a very nice, well priced meal in a traditiona...</td>\n",
       "      <td>5</td>\n",
       "      <td>5.0</td>\n",
       "      <td>0.182090</td>\n",
       "      <td>0.083333</td>\n",
       "      <td>0.015174</td>\n",
       "    </tr>\n",
       "    <tr>\n",
       "      <th>2</th>\n",
       "      <td>au-reveil-du-xv-paris</td>\n",
       "      <td>{great find! food is very tasty and good selec...</td>\n",
       "      <td>6</td>\n",
       "      <td>6.0</td>\n",
       "      <td>0.138264</td>\n",
       "      <td>0.100000</td>\n",
       "      <td>0.013826</td>\n",
       "    </tr>\n",
       "    <tr>\n",
       "      <th>3</th>\n",
       "      <td>auberge-nicolas-flamel-paris</td>\n",
       "      <td>{hands down our favorite meal and restaurant i...</td>\n",
       "      <td>10</td>\n",
       "      <td>10.0</td>\n",
       "      <td>0.148468</td>\n",
       "      <td>0.166667</td>\n",
       "      <td>0.024745</td>\n",
       "    </tr>\n",
       "    <tr>\n",
       "      <th>4</th>\n",
       "      <td>aux-anysetiers-du-roy-paris</td>\n",
       "      <td>{typical tiny restaurant- maybe room for - din...</td>\n",
       "      <td>7</td>\n",
       "      <td>7.0</td>\n",
       "      <td>0.133945</td>\n",
       "      <td>0.116667</td>\n",
       "      <td>0.015627</td>\n",
       "    </tr>\n",
       "    <tr>\n",
       "      <th>5</th>\n",
       "      <td>aux-artistes-paris</td>\n",
       "      <td>{an excellent value proposition for a long fre...</td>\n",
       "      <td>4</td>\n",
       "      <td>3.0</td>\n",
       "      <td>0.136387</td>\n",
       "      <td>0.066667</td>\n",
       "      <td>0.009092</td>\n",
       "    </tr>\n",
       "    <tr>\n",
       "      <th>6</th>\n",
       "      <td>aux-lyonnais-paris</td>\n",
       "      <td>{excellent food and service. ordered from euro...</td>\n",
       "      <td>6</td>\n",
       "      <td>6.0</td>\n",
       "      <td>0.143230</td>\n",
       "      <td>0.100000</td>\n",
       "      <td>0.014323</td>\n",
       "    </tr>\n",
       "    <tr>\n",
       "      <th>7</th>\n",
       "      <td>l-encrier-paris</td>\n",
       "      <td>{good, solid french cooking and atmosphere. no...</td>\n",
       "      <td>6</td>\n",
       "      <td>6.0</td>\n",
       "      <td>0.221796</td>\n",
       "      <td>0.100000</td>\n",
       "      <td>0.022180</td>\n",
       "    </tr>\n",
       "    <tr>\n",
       "      <th>8</th>\n",
       "      <td>l-estaminet-paris</td>\n",
       "      <td>{very good authentic, comforting french food. ...</td>\n",
       "      <td>6</td>\n",
       "      <td>5.0</td>\n",
       "      <td>0.183050</td>\n",
       "      <td>0.100000</td>\n",
       "      <td>0.018305</td>\n",
       "    </tr>\n",
       "    <tr>\n",
       "      <th>9</th>\n",
       "      <td>le-casse-noix-paris-15</td>\n",
       "      <td>{our favorite meal in paris thus far. euros fo...</td>\n",
       "      <td>7</td>\n",
       "      <td>6.0</td>\n",
       "      <td>0.141178</td>\n",
       "      <td>0.116667</td>\n",
       "      <td>0.016471</td>\n",
       "    </tr>\n",
       "  </tbody>\n",
       "</table>\n",
       "</div>"
      ],
      "text/plain": [
       "                          alias  \\\n",
       "0     au-boeuf-couronné-paris-4   \n",
       "1     au-petit-marguery-paris-4   \n",
       "2         au-reveil-du-xv-paris   \n",
       "3  auberge-nicolas-flamel-paris   \n",
       "4   aux-anysetiers-du-roy-paris   \n",
       "5            aux-artistes-paris   \n",
       "6            aux-lyonnais-paris   \n",
       "7               l-encrier-paris   \n",
       "8             l-estaminet-paris   \n",
       "9        le-casse-noix-paris-15   \n",
       "\n",
       "                                             reviews  nb_sentences  nb_review  \\\n",
       "0  {it was our first awesome meal in paris! we di...             3        3.0   \n",
       "1  {a very nice, well priced meal in a traditiona...             5        5.0   \n",
       "2  {great find! food is very tasty and good selec...             6        6.0   \n",
       "3  {hands down our favorite meal and restaurant i...            10       10.0   \n",
       "4  {typical tiny restaurant- maybe room for - din...             7        7.0   \n",
       "5  {an excellent value proposition for a long fre...             4        3.0   \n",
       "6  {excellent food and service. ordered from euro...             6        6.0   \n",
       "7  {good, solid french cooking and atmosphere. no...             6        6.0   \n",
       "8  {very good authentic, comforting french food. ...             6        5.0   \n",
       "9  {our favorite meal in paris thus far. euros fo...             7        6.0   \n",
       "\n",
       "   metric sim_ratio  sentences_pond  metric_pond  \n",
       "0          0.157997        0.050000     0.007900  \n",
       "1          0.182090        0.083333     0.015174  \n",
       "2          0.138264        0.100000     0.013826  \n",
       "3          0.148468        0.166667     0.024745  \n",
       "4          0.133945        0.116667     0.015627  \n",
       "5          0.136387        0.066667     0.009092  \n",
       "6          0.143230        0.100000     0.014323  \n",
       "7          0.221796        0.100000     0.022180  \n",
       "8          0.183050        0.100000     0.018305  \n",
       "9          0.141178        0.116667     0.016471  "
      ]
     },
     "execution_count": 22,
     "metadata": {},
     "output_type": "execute_result"
    }
   ],
   "source": [
    "summary"
   ]
  },
  {
   "cell_type": "code",
   "execution_count": 23,
   "id": "4c0c44b9",
   "metadata": {
    "ExecuteTime": {
     "end_time": "2021-12-01T11:18:49.753932Z",
     "start_time": "2021-12-01T11:18:49.723665Z"
    }
   },
   "outputs": [
    {
     "name": "stderr",
     "output_type": "stream",
     "text": [
      "/var/folders/zd/9ts3jb2s5472mty2sgdddp3m0000gn/T/ipykernel_33844/3152757715.py:1: FutureWarning: Dropping of nuisance columns in DataFrame reductions (with 'numeric_only=None') is deprecated; in a future version this will raise TypeError.  Select only valid columns before calling the reduction.\n",
      "  summary.sum()\n"
     ]
    },
    {
     "data": {
      "text/plain": [
       "alias               au-boeuf-couronné-paris-4au-petit-marguery-par...\n",
       "nb_sentences                                                       60\n",
       "nb_review                                                        57.0\n",
       "metric sim_ratio                                             1.586405\n",
       "sentences_pond                                                    1.0\n",
       "metric_pond                                                  0.157643\n",
       "dtype: object"
      ]
     },
     "execution_count": 23,
     "metadata": {},
     "output_type": "execute_result"
    }
   ],
   "source": [
    "summary.sum()"
   ]
  },
  {
   "cell_type": "markdown",
   "id": "04d7681b",
   "metadata": {},
   "source": [
    "dataset = dataset.assign(embedding=[*np.array(embedding)])\n",
    "dataset = dataset.groupby('review_clean').agg({'review_sentences':list,'embedding':list,'rate':'mean'}).reset_index()"
   ]
  },
  {
   "cell_type": "code",
   "execution_count": 26,
   "id": "57c680b3",
   "metadata": {
    "ExecuteTime": {
     "end_time": "2021-12-01T11:27:28.172484Z",
     "start_time": "2021-12-01T11:27:26.328173Z"
    }
   },
   "outputs": [],
   "source": [
    "with open('../embeddings.pkl','rb') as file:\n",
    "    embedding_df = pickle.load(file)"
   ]
  },
  {
   "cell_type": "code",
   "execution_count": 30,
   "id": "e6f0130d",
   "metadata": {
    "ExecuteTime": {
     "end_time": "2021-12-01T11:27:54.170636Z",
     "start_time": "2021-12-01T11:27:54.163120Z"
    }
   },
   "outputs": [
    {
     "data": {
      "text/plain": [
       "{'sentences': 0         this is not your traditional parisian cooking ...\n",
       " 1          this restaurant is a full on southern france ...\n",
       " 2                   we were looking for a good boulliabese \n",
       " 3          and here at le sud they have the boulliabese ...\n",
       " 4           is almost the same but thickened with egg yolks\n",
       "                                 ...                        \n",
       " 459344                 but i'll be back next time i'm there\n",
       " 459345             nice little hole-in-the-wall kinda place\n",
       " 459346     i ate the very well priced dish of the day; c...\n",
       " 459347     it was delicious accompanied with a happy hou...\n",
       " 459348                         very french, would recommend\n",
       " Name: review_sentences, Length: 459349, dtype: object,\n",
       " 'embeddings': <tf.Tensor: shape=(459349, 768), dtype=float32, numpy=\n",
       " array([[ 0.04608987,  0.0684234 , -0.00984177, ...,  0.01829738,\n",
       "          0.00357979, -0.00023565],\n",
       "        [ 0.03371384,  0.03673802,  0.02455381, ..., -0.02362741,\n",
       "          0.01673002, -0.00324849],\n",
       "        [ 0.073636  , -0.00642742, -0.01672614, ...,  0.00019479,\n",
       "          0.05600835, -0.00704501],\n",
       "        ...,\n",
       "        [-0.01676314,  0.04864478,  0.01831327, ...,  0.02241626,\n",
       "         -0.01726213, -0.02431561],\n",
       "        [ 0.02261987, -0.00767533, -0.00336804, ..., -0.00186576,\n",
       "          0.00481931, -0.03627369],\n",
       "        [-0.00754219,  0.02868729,  0.0013856 , ..., -0.01501646,\n",
       "          0.03937773, -0.01506876]], dtype=float32)>}"
      ]
     },
     "execution_count": 30,
     "metadata": {},
     "output_type": "execute_result"
    }
   ],
   "source": [
    "embedding_df"
   ]
  },
  {
   "cell_type": "code",
   "execution_count": 31,
   "id": "6017e980",
   "metadata": {
    "ExecuteTime": {
     "end_time": "2021-12-01T11:30:12.116224Z",
     "start_time": "2021-12-01T11:30:06.215455Z"
    }
   },
   "outputs": [],
   "source": [
    "all_sentences=pd.read_csv('../fobokiller/data/scrapping_cleaned_sentences.csv',index_col=0)"
   ]
  },
  {
   "cell_type": "code",
   "execution_count": 37,
   "id": "2da373f2",
   "metadata": {
    "ExecuteTime": {
     "end_time": "2021-12-01T11:32:13.419585Z",
     "start_time": "2021-12-01T11:32:13.408438Z"
    }
   },
   "outputs": [
    {
     "data": {
      "text/html": [
       "<div>\n",
       "<style scoped>\n",
       "    .dataframe tbody tr th:only-of-type {\n",
       "        vertical-align: middle;\n",
       "    }\n",
       "\n",
       "    .dataframe tbody tr th {\n",
       "        vertical-align: top;\n",
       "    }\n",
       "\n",
       "    .dataframe thead th {\n",
       "        text-align: right;\n",
       "    }\n",
       "</style>\n",
       "<table border=\"1\" class=\"dataframe\">\n",
       "  <thead>\n",
       "    <tr style=\"text-align: right;\">\n",
       "      <th></th>\n",
       "      <th>alias</th>\n",
       "      <th>date</th>\n",
       "      <th>rate</th>\n",
       "      <th>review</th>\n",
       "      <th>review_clean</th>\n",
       "      <th>review_sentences</th>\n",
       "    </tr>\n",
       "  </thead>\n",
       "  <tbody>\n",
       "    <tr>\n",
       "      <th>0</th>\n",
       "      <td>le-sud-paris</td>\n",
       "      <td>2018-11-20</td>\n",
       "      <td>5</td>\n",
       "      <td>Ed W.\\nElite 2021\\nMiami, FL\\n259\\n562\\n4232\\n...</td>\n",
       "      <td>this is not your traditional parisian cooking ...</td>\n",
       "      <td>this is not your traditional parisian cooking ...</td>\n",
       "    </tr>\n",
       "    <tr>\n",
       "      <th>1</th>\n",
       "      <td>le-sud-paris</td>\n",
       "      <td>2018-11-20</td>\n",
       "      <td>5</td>\n",
       "      <td>Ed W.\\nElite 2021\\nMiami, FL\\n259\\n562\\n4232\\n...</td>\n",
       "      <td>this is not your traditional parisian cooking ...</td>\n",
       "      <td>this restaurant is a full on southern france ...</td>\n",
       "    </tr>\n",
       "    <tr>\n",
       "      <th>2</th>\n",
       "      <td>le-sud-paris</td>\n",
       "      <td>2018-11-20</td>\n",
       "      <td>5</td>\n",
       "      <td>Ed W.\\nElite 2021\\nMiami, FL\\n259\\n562\\n4232\\n...</td>\n",
       "      <td>this is not your traditional parisian cooking ...</td>\n",
       "      <td>we were looking for a good boulliabese</td>\n",
       "    </tr>\n",
       "    <tr>\n",
       "      <th>3</th>\n",
       "      <td>le-sud-paris</td>\n",
       "      <td>2018-11-20</td>\n",
       "      <td>5</td>\n",
       "      <td>Ed W.\\nElite 2021\\nMiami, FL\\n259\\n562\\n4232\\n...</td>\n",
       "      <td>this is not your traditional parisian cooking ...</td>\n",
       "      <td>and here at le sud they have the boulliabese ...</td>\n",
       "    </tr>\n",
       "    <tr>\n",
       "      <th>4</th>\n",
       "      <td>le-sud-paris</td>\n",
       "      <td>2018-11-20</td>\n",
       "      <td>5</td>\n",
       "      <td>Ed W.\\nElite 2021\\nMiami, FL\\n259\\n562\\n4232\\n...</td>\n",
       "      <td>this is not your traditional parisian cooking ...</td>\n",
       "      <td>is almost the same but thickened with egg yolks</td>\n",
       "    </tr>\n",
       "  </tbody>\n",
       "</table>\n",
       "</div>"
      ],
      "text/plain": [
       "          alias        date  rate  \\\n",
       "0  le-sud-paris  2018-11-20     5   \n",
       "1  le-sud-paris  2018-11-20     5   \n",
       "2  le-sud-paris  2018-11-20     5   \n",
       "3  le-sud-paris  2018-11-20     5   \n",
       "4  le-sud-paris  2018-11-20     5   \n",
       "\n",
       "                                              review  \\\n",
       "0  Ed W.\\nElite 2021\\nMiami, FL\\n259\\n562\\n4232\\n...   \n",
       "1  Ed W.\\nElite 2021\\nMiami, FL\\n259\\n562\\n4232\\n...   \n",
       "2  Ed W.\\nElite 2021\\nMiami, FL\\n259\\n562\\n4232\\n...   \n",
       "3  Ed W.\\nElite 2021\\nMiami, FL\\n259\\n562\\n4232\\n...   \n",
       "4  Ed W.\\nElite 2021\\nMiami, FL\\n259\\n562\\n4232\\n...   \n",
       "\n",
       "                                        review_clean  \\\n",
       "0  this is not your traditional parisian cooking ...   \n",
       "1  this is not your traditional parisian cooking ...   \n",
       "2  this is not your traditional parisian cooking ...   \n",
       "3  this is not your traditional parisian cooking ...   \n",
       "4  this is not your traditional parisian cooking ...   \n",
       "\n",
       "                                    review_sentences  \n",
       "0  this is not your traditional parisian cooking ...  \n",
       "1   this restaurant is a full on southern france ...  \n",
       "2            we were looking for a good boulliabese   \n",
       "3   and here at le sud they have the boulliabese ...  \n",
       "4    is almost the same but thickened with egg yolks  "
      ]
     },
     "execution_count": 37,
     "metadata": {},
     "output_type": "execute_result"
    }
   ],
   "source": [
    "all_sentences.head()"
   ]
  },
  {
   "cell_type": "code",
   "execution_count": 35,
   "id": "14b69975",
   "metadata": {
    "ExecuteTime": {
     "end_time": "2021-12-01T11:31:43.021431Z",
     "start_time": "2021-12-01T11:31:34.918585Z"
    }
   },
   "outputs": [],
   "source": [
    "dataset = all_sentences.assign(embedding=[*np.array(embedding)])"
   ]
  },
  {
   "cell_type": "code",
   "execution_count": 39,
   "id": "36514cf5",
   "metadata": {
    "ExecuteTime": {
     "end_time": "2021-12-01T11:34:58.772643Z",
     "start_time": "2021-12-01T11:34:57.269058Z"
    }
   },
   "outputs": [],
   "source": [
    "dataset = dataset.groupby('review_clean').agg({'alias':'first',\n",
    "                                               'rate':'mean',\n",
    "                                               'review_sentences':list,\n",
    "                                               'embedding':list,\n",
    "                                               }).reset_index()"
   ]
  },
  {
   "cell_type": "code",
   "execution_count": 43,
   "id": "1f378a55",
   "metadata": {
    "ExecuteTime": {
     "end_time": "2021-12-01T11:37:04.676478Z",
     "start_time": "2021-12-01T11:37:04.572406Z"
    }
   },
   "outputs": [],
   "source": [
    "dataset['review_sentences_trimed']=dataset['review_sentences'].apply(lambda list_:list_[:30])"
   ]
  },
  {
   "cell_type": "code",
   "execution_count": 52,
   "id": "dd8dd4a4",
   "metadata": {
    "ExecuteTime": {
     "end_time": "2021-12-01T11:40:38.360136Z",
     "start_time": "2021-12-01T11:40:38.348817Z"
    }
   },
   "outputs": [],
   "source": [
    "dataset.drop(columns=['length_sentences_trimed','length_sentences'],inplace=True)"
   ]
  },
  {
   "cell_type": "code",
   "execution_count": 53,
   "id": "9a232268",
   "metadata": {
    "ExecuteTime": {
     "end_time": "2021-12-01T11:40:42.399373Z",
     "start_time": "2021-12-01T11:40:42.327351Z"
    }
   },
   "outputs": [
    {
     "data": {
      "text/html": [
       "<div>\n",
       "<style scoped>\n",
       "    .dataframe tbody tr th:only-of-type {\n",
       "        vertical-align: middle;\n",
       "    }\n",
       "\n",
       "    .dataframe tbody tr th {\n",
       "        vertical-align: top;\n",
       "    }\n",
       "\n",
       "    .dataframe thead th {\n",
       "        text-align: right;\n",
       "    }\n",
       "</style>\n",
       "<table border=\"1\" class=\"dataframe\">\n",
       "  <thead>\n",
       "    <tr style=\"text-align: right;\">\n",
       "      <th></th>\n",
       "      <th>review_clean</th>\n",
       "      <th>alias</th>\n",
       "      <th>rate</th>\n",
       "      <th>review_sentences</th>\n",
       "      <th>embedding</th>\n",
       "      <th>review_sentences_trimed</th>\n",
       "    </tr>\n",
       "  </thead>\n",
       "  <tbody>\n",
       "    <tr>\n",
       "      <th>0</th>\n",
       "      <td>!!! a theif working amongst you!!! myself, my ...</td>\n",
       "      <td>café-daguerre-paris-2</td>\n",
       "      <td>1.0</td>\n",
       "      <td>[ a theif working amongst you,  myself, my sis...</td>\n",
       "      <td>[[0.045603834, -0.017338777, 0.0012167644, 0.0...</td>\n",
       "      <td>[ a theif working amongst you,  myself, my sis...</td>\n",
       "    </tr>\n",
       "    <tr>\n",
       "      <th>1</th>\n",
       "      <td>\"\"\"\"avoid at all costs\"\"\"\"\"\" this was an absol...</td>\n",
       "      <td>l-entrecôte-de-paris-paris-2</td>\n",
       "      <td>1.0</td>\n",
       "      <td>[\"\"\"\"avoid at all costs\"\"\"\"\"\" this was an abso...</td>\n",
       "      <td>[[0.019589972, 0.048924193, -0.015198772, -0.0...</td>\n",
       "      <td>[\"\"\"\"avoid at all costs\"\"\"\"\"\" this was an abso...</td>\n",
       "    </tr>\n",
       "    <tr>\n",
       "      <th>2</th>\n",
       "      <td>\"$$$\" food but only at a \"$\" price. will be co...</td>\n",
       "      <td>un-zèbre-à-montmartre-paris-3</td>\n",
       "      <td>5.0</td>\n",
       "      <td>[\"$$$\" food but only at a \"$\" price,  will be ...</td>\n",
       "      <td>[[0.016501594, 0.1083755, 0.014006043, -0.0319...</td>\n",
       "      <td>[\"$$$\" food but only at a \"$\" price,  will be ...</td>\n",
       "    </tr>\n",
       "    <tr>\n",
       "      <th>3</th>\n",
       "      <td>\"a middle finger salute\" well i haven't had ma...</td>\n",
       "      <td>le-sens-unique-paris-2</td>\n",
       "      <td>1.0</td>\n",
       "      <td>[\"a middle finger salute\" well i haven't had m...</td>\n",
       "      <td>[[0.019542666, -0.017905522, 0.0037664298, 0.0...</td>\n",
       "      <td>[\"a middle finger salute\" well i haven't had m...</td>\n",
       "    </tr>\n",
       "    <tr>\n",
       "      <th>4</th>\n",
       "      <td>\"a true disappointment and a waste of money an...</td>\n",
       "      <td>la-maison-de-l-aubrac-paris</td>\n",
       "      <td>1.0</td>\n",
       "      <td>[\"a true disappointment and a waste of money a...</td>\n",
       "      <td>[[0.036009785, 0.0029092361, 0.0132899275, 0.0...</td>\n",
       "      <td>[\"a true disappointment and a waste of money a...</td>\n",
       "    </tr>\n",
       "  </tbody>\n",
       "</table>\n",
       "</div>"
      ],
      "text/plain": [
       "                                        review_clean  \\\n",
       "0  !!! a theif working amongst you!!! myself, my ...   \n",
       "1  \"\"\"\"avoid at all costs\"\"\"\"\"\" this was an absol...   \n",
       "2  \"$$$\" food but only at a \"$\" price. will be co...   \n",
       "3  \"a middle finger salute\" well i haven't had ma...   \n",
       "4  \"a true disappointment and a waste of money an...   \n",
       "\n",
       "                           alias  rate  \\\n",
       "0          café-daguerre-paris-2   1.0   \n",
       "1   l-entrecôte-de-paris-paris-2   1.0   \n",
       "2  un-zèbre-à-montmartre-paris-3   5.0   \n",
       "3         le-sens-unique-paris-2   1.0   \n",
       "4    la-maison-de-l-aubrac-paris   1.0   \n",
       "\n",
       "                                    review_sentences  \\\n",
       "0  [ a theif working amongst you,  myself, my sis...   \n",
       "1  [\"\"\"\"avoid at all costs\"\"\"\"\"\" this was an abso...   \n",
       "2  [\"$$$\" food but only at a \"$\" price,  will be ...   \n",
       "3  [\"a middle finger salute\" well i haven't had m...   \n",
       "4  [\"a true disappointment and a waste of money a...   \n",
       "\n",
       "                                           embedding  \\\n",
       "0  [[0.045603834, -0.017338777, 0.0012167644, 0.0...   \n",
       "1  [[0.019589972, 0.048924193, -0.015198772, -0.0...   \n",
       "2  [[0.016501594, 0.1083755, 0.014006043, -0.0319...   \n",
       "3  [[0.019542666, -0.017905522, 0.0037664298, 0.0...   \n",
       "4  [[0.036009785, 0.0029092361, 0.0132899275, 0.0...   \n",
       "\n",
       "                             review_sentences_trimed  \n",
       "0  [ a theif working amongst you,  myself, my sis...  \n",
       "1  [\"\"\"\"avoid at all costs\"\"\"\"\"\" this was an abso...  \n",
       "2  [\"$$$\" food but only at a \"$\" price,  will be ...  \n",
       "3  [\"a middle finger salute\" well i haven't had m...  \n",
       "4  [\"a true disappointment and a waste of money a...  "
      ]
     },
     "execution_count": 53,
     "metadata": {},
     "output_type": "execute_result"
    }
   ],
   "source": [
    "dataset.head()"
   ]
  },
  {
   "cell_type": "code",
   "execution_count": 113,
   "id": "59590774",
   "metadata": {
    "ExecuteTime": {
     "end_time": "2021-12-01T13:10:16.871292Z",
     "start_time": "2021-12-01T13:10:16.821533Z"
    }
   },
   "outputs": [
    {
     "data": {
      "text/plain": [
       "(56650, 6)"
      ]
     },
     "execution_count": 113,
     "metadata": {},
     "output_type": "execute_result"
    }
   ],
   "source": [
    "dataset.to_csv"
   ]
  },
  {
   "cell_type": "markdown",
   "id": "45d5a0a9",
   "metadata": {},
   "source": [
    "DATASET = grouped by review, full dataset , embedding associé\n",
    "\n",
    "SUMMARY = liste de restos qu'on show en result\n",
    "\n",
    "RESULTS = les reviews qui pop up en cosim \n",
    "\n"
   ]
  },
  {
   "cell_type": "code",
   "execution_count": 102,
   "id": "586e7131",
   "metadata": {
    "ExecuteTime": {
     "end_time": "2021-12-01T12:30:46.349379Z",
     "start_time": "2021-12-01T12:30:46.168151Z"
    }
   },
   "outputs": [],
   "source": [
    "\n",
    "\n",
    "results['is_sim'] = 1\n",
    "summary['is_in_summary'] = 1\n",
    "\n",
    "results_trimed=results.drop(columns=['alias',\n",
    "                                    'rate',\n",
    "                                     'review_sentences'\n",
    "                                    ])\n",
    "tmp_df = dataset.merge(results_trimed,on='review_clean',how='left')\n",
    "tmp_df['is_sim'].fillna(0,inplace=True)\n",
    "all_df = tmp_df.merge(summary,on='alias',how='left')\n",
    "all_df.fillna(0,inplace=True)\n"
   ]
  },
  {
   "cell_type": "code",
   "execution_count": 96,
   "id": "61e8a3a3",
   "metadata": {
    "ExecuteTime": {
     "end_time": "2021-12-01T12:08:05.797516Z",
     "start_time": "2021-12-01T12:08:05.723195Z"
    },
    "scrolled": true
   },
   "outputs": [
    {
     "data": {
      "text/plain": [
       "(56799, 23)"
      ]
     },
     "execution_count": 96,
     "metadata": {},
     "output_type": "execute_result"
    }
   ],
   "source": [
    "all_df = all_df.merge(summary,on='alias',how='left')"
   ]
  },
  {
   "cell_type": "code",
   "execution_count": 112,
   "id": "2a2e3da1",
   "metadata": {
    "ExecuteTime": {
     "end_time": "2021-12-01T12:44:56.453401Z",
     "start_time": "2021-12-01T12:44:56.419244Z"
    }
   },
   "outputs": [
    {
     "data": {
      "text/plain": [
       "392.0"
      ]
     },
     "execution_count": 112,
     "metadata": {},
     "output_type": "execute_result"
    }
   ],
   "source": [
    "### ASSEZ COOL COMME METRIC == donne une idée de la 'proximité des restos' par rapport à la query \n",
    "all_df[(all_df['is_in_summary']==1) & (all_df['is_sim']==1)]['nb_sentences'].sum()"
   ]
  },
  {
   "cell_type": "code",
   "execution_count": 107,
   "id": "0ab49312",
   "metadata": {
    "ExecuteTime": {
     "end_time": "2021-12-01T12:32:20.549871Z",
     "start_time": "2021-12-01T12:32:20.458333Z"
    }
   },
   "outputs": [
    {
     "data": {
      "text/html": [
       "<div>\n",
       "<style scoped>\n",
       "    .dataframe tbody tr th:only-of-type {\n",
       "        vertical-align: middle;\n",
       "    }\n",
       "\n",
       "    .dataframe tbody tr th {\n",
       "        vertical-align: top;\n",
       "    }\n",
       "\n",
       "    .dataframe thead th {\n",
       "        text-align: right;\n",
       "    }\n",
       "</style>\n",
       "<table border=\"1\" class=\"dataframe\">\n",
       "  <thead>\n",
       "    <tr style=\"text-align: right;\">\n",
       "      <th></th>\n",
       "      <th>review_clean</th>\n",
       "      <th>alias</th>\n",
       "      <th>rate</th>\n",
       "      <th>review_sentences</th>\n",
       "      <th>embedding</th>\n",
       "      <th>review_sentences_trimed</th>\n",
       "      <th>date</th>\n",
       "      <th>sim_s</th>\n",
       "      <th>rate_filtered</th>\n",
       "      <th>review_filtered</th>\n",
       "      <th>...</th>\n",
       "      <th>ratio</th>\n",
       "      <th>metric</th>\n",
       "      <th>is_sim</th>\n",
       "      <th>reviews</th>\n",
       "      <th>nb_sentences</th>\n",
       "      <th>nb_review</th>\n",
       "      <th>metric sim_ratio</th>\n",
       "      <th>sentences_pond</th>\n",
       "      <th>metric_pond</th>\n",
       "      <th>is_in_summary</th>\n",
       "    </tr>\n",
       "  </thead>\n",
       "  <tbody>\n",
       "    <tr>\n",
       "      <th>0</th>\n",
       "      <td>!!! a theif working amongst you!!! myself, my ...</td>\n",
       "      <td>café-daguerre-paris-2</td>\n",
       "      <td>1.0</td>\n",
       "      <td>[ a theif working amongst you,  myself, my sis...</td>\n",
       "      <td>[[0.045603834, -0.017338777, 0.0012167644, 0.0...</td>\n",
       "      <td>[ a theif working amongst you,  myself, my sis...</td>\n",
       "      <td>0</td>\n",
       "      <td>0.0</td>\n",
       "      <td>0.0</td>\n",
       "      <td>0.0</td>\n",
       "      <td>...</td>\n",
       "      <td>0.0</td>\n",
       "      <td>0.0</td>\n",
       "      <td>0.0</td>\n",
       "      <td>0</td>\n",
       "      <td>0.0</td>\n",
       "      <td>0.0</td>\n",
       "      <td>0.0</td>\n",
       "      <td>0.0</td>\n",
       "      <td>0.0</td>\n",
       "      <td>0.0</td>\n",
       "    </tr>\n",
       "    <tr>\n",
       "      <th>1</th>\n",
       "      <td>\"\"\"\"avoid at all costs\"\"\"\"\"\" this was an absol...</td>\n",
       "      <td>l-entrecôte-de-paris-paris-2</td>\n",
       "      <td>1.0</td>\n",
       "      <td>[\"\"\"\"avoid at all costs\"\"\"\"\"\" this was an abso...</td>\n",
       "      <td>[[0.019589972, 0.048924193, -0.015198772, -0.0...</td>\n",
       "      <td>[\"\"\"\"avoid at all costs\"\"\"\"\"\" this was an abso...</td>\n",
       "      <td>0</td>\n",
       "      <td>0.0</td>\n",
       "      <td>0.0</td>\n",
       "      <td>0.0</td>\n",
       "      <td>...</td>\n",
       "      <td>0.0</td>\n",
       "      <td>0.0</td>\n",
       "      <td>0.0</td>\n",
       "      <td>0</td>\n",
       "      <td>0.0</td>\n",
       "      <td>0.0</td>\n",
       "      <td>0.0</td>\n",
       "      <td>0.0</td>\n",
       "      <td>0.0</td>\n",
       "      <td>0.0</td>\n",
       "    </tr>\n",
       "    <tr>\n",
       "      <th>2</th>\n",
       "      <td>\"$$$\" food but only at a \"$\" price. will be co...</td>\n",
       "      <td>un-zèbre-à-montmartre-paris-3</td>\n",
       "      <td>5.0</td>\n",
       "      <td>[\"$$$\" food but only at a \"$\" price,  will be ...</td>\n",
       "      <td>[[0.016501594, 0.1083755, 0.014006043, -0.0319...</td>\n",
       "      <td>[\"$$$\" food but only at a \"$\" price,  will be ...</td>\n",
       "      <td>0</td>\n",
       "      <td>0.0</td>\n",
       "      <td>0.0</td>\n",
       "      <td>0.0</td>\n",
       "      <td>...</td>\n",
       "      <td>0.0</td>\n",
       "      <td>0.0</td>\n",
       "      <td>0.0</td>\n",
       "      <td>0</td>\n",
       "      <td>0.0</td>\n",
       "      <td>0.0</td>\n",
       "      <td>0.0</td>\n",
       "      <td>0.0</td>\n",
       "      <td>0.0</td>\n",
       "      <td>0.0</td>\n",
       "    </tr>\n",
       "    <tr>\n",
       "      <th>3</th>\n",
       "      <td>\"a middle finger salute\" well i haven't had ma...</td>\n",
       "      <td>le-sens-unique-paris-2</td>\n",
       "      <td>1.0</td>\n",
       "      <td>[\"a middle finger salute\" well i haven't had m...</td>\n",
       "      <td>[[0.019542666, -0.017905522, 0.0037664298, 0.0...</td>\n",
       "      <td>[\"a middle finger salute\" well i haven't had m...</td>\n",
       "      <td>0</td>\n",
       "      <td>0.0</td>\n",
       "      <td>0.0</td>\n",
       "      <td>0.0</td>\n",
       "      <td>...</td>\n",
       "      <td>0.0</td>\n",
       "      <td>0.0</td>\n",
       "      <td>0.0</td>\n",
       "      <td>0</td>\n",
       "      <td>0.0</td>\n",
       "      <td>0.0</td>\n",
       "      <td>0.0</td>\n",
       "      <td>0.0</td>\n",
       "      <td>0.0</td>\n",
       "      <td>0.0</td>\n",
       "    </tr>\n",
       "    <tr>\n",
       "      <th>4</th>\n",
       "      <td>\"a true disappointment and a waste of money an...</td>\n",
       "      <td>la-maison-de-l-aubrac-paris</td>\n",
       "      <td>1.0</td>\n",
       "      <td>[\"a true disappointment and a waste of money a...</td>\n",
       "      <td>[[0.036009785, 0.0029092361, 0.0132899275, 0.0...</td>\n",
       "      <td>[\"a true disappointment and a waste of money a...</td>\n",
       "      <td>0</td>\n",
       "      <td>0.0</td>\n",
       "      <td>0.0</td>\n",
       "      <td>0.0</td>\n",
       "      <td>...</td>\n",
       "      <td>0.0</td>\n",
       "      <td>0.0</td>\n",
       "      <td>0.0</td>\n",
       "      <td>0</td>\n",
       "      <td>0.0</td>\n",
       "      <td>0.0</td>\n",
       "      <td>0.0</td>\n",
       "      <td>0.0</td>\n",
       "      <td>0.0</td>\n",
       "      <td>0.0</td>\n",
       "    </tr>\n",
       "  </tbody>\n",
       "</table>\n",
       "<p>5 rows × 23 columns</p>\n",
       "</div>"
      ],
      "text/plain": [
       "                                        review_clean  \\\n",
       "0  !!! a theif working amongst you!!! myself, my ...   \n",
       "1  \"\"\"\"avoid at all costs\"\"\"\"\"\" this was an absol...   \n",
       "2  \"$$$\" food but only at a \"$\" price. will be co...   \n",
       "3  \"a middle finger salute\" well i haven't had ma...   \n",
       "4  \"a true disappointment and a waste of money an...   \n",
       "\n",
       "                           alias  rate  \\\n",
       "0          café-daguerre-paris-2   1.0   \n",
       "1   l-entrecôte-de-paris-paris-2   1.0   \n",
       "2  un-zèbre-à-montmartre-paris-3   5.0   \n",
       "3         le-sens-unique-paris-2   1.0   \n",
       "4    la-maison-de-l-aubrac-paris   1.0   \n",
       "\n",
       "                                    review_sentences  \\\n",
       "0  [ a theif working amongst you,  myself, my sis...   \n",
       "1  [\"\"\"\"avoid at all costs\"\"\"\"\"\" this was an abso...   \n",
       "2  [\"$$$\" food but only at a \"$\" price,  will be ...   \n",
       "3  [\"a middle finger salute\" well i haven't had m...   \n",
       "4  [\"a true disappointment and a waste of money a...   \n",
       "\n",
       "                                           embedding  \\\n",
       "0  [[0.045603834, -0.017338777, 0.0012167644, 0.0...   \n",
       "1  [[0.019589972, 0.048924193, -0.015198772, -0.0...   \n",
       "2  [[0.016501594, 0.1083755, 0.014006043, -0.0319...   \n",
       "3  [[0.019542666, -0.017905522, 0.0037664298, 0.0...   \n",
       "4  [[0.036009785, 0.0029092361, 0.0132899275, 0.0...   \n",
       "\n",
       "                             review_sentences_trimed date  sim_s  \\\n",
       "0  [ a theif working amongst you,  myself, my sis...    0    0.0   \n",
       "1  [\"\"\"\"avoid at all costs\"\"\"\"\"\" this was an abso...    0    0.0   \n",
       "2  [\"$$$\" food but only at a \"$\" price,  will be ...    0    0.0   \n",
       "3  [\"a middle finger salute\" well i haven't had m...    0    0.0   \n",
       "4  [\"a true disappointment and a waste of money a...    0    0.0   \n",
       "\n",
       "   rate_filtered  review_filtered  ...  ratio  metric  is_sim  reviews  \\\n",
       "0            0.0              0.0  ...    0.0     0.0     0.0        0   \n",
       "1            0.0              0.0  ...    0.0     0.0     0.0        0   \n",
       "2            0.0              0.0  ...    0.0     0.0     0.0        0   \n",
       "3            0.0              0.0  ...    0.0     0.0     0.0        0   \n",
       "4            0.0              0.0  ...    0.0     0.0     0.0        0   \n",
       "\n",
       "   nb_sentences  nb_review metric sim_ratio  sentences_pond  metric_pond  \\\n",
       "0           0.0        0.0              0.0             0.0          0.0   \n",
       "1           0.0        0.0              0.0             0.0          0.0   \n",
       "2           0.0        0.0              0.0             0.0          0.0   \n",
       "3           0.0        0.0              0.0             0.0          0.0   \n",
       "4           0.0        0.0              0.0             0.0          0.0   \n",
       "\n",
       "   is_in_summary  \n",
       "0            0.0  \n",
       "1            0.0  \n",
       "2            0.0  \n",
       "3            0.0  \n",
       "4            0.0  \n",
       "\n",
       "[5 rows x 23 columns]"
      ]
     },
     "execution_count": 107,
     "metadata": {},
     "output_type": "execute_result"
    }
   ],
   "source": [
    "all_df.head()"
   ]
  },
  {
   "cell_type": "code",
   "execution_count": 15,
   "id": "2a9bd03e",
   "metadata": {
    "ExecuteTime": {
     "end_time": "2021-12-01T19:01:20.379270Z",
     "start_time": "2021-12-01T19:01:20.294595Z"
    }
   },
   "outputs": [],
   "source": [
    "from fobokiller.heatmap import load_reviews_dataset"
   ]
  },
  {
   "cell_type": "code",
   "execution_count": 16,
   "id": "085012a7",
   "metadata": {
    "ExecuteTime": {
     "end_time": "2021-12-01T19:01:33.169559Z",
     "start_time": "2021-12-01T19:01:21.587893Z"
    }
   },
   "outputs": [
    {
     "name": "stdout",
     "output_type": "stream",
     "text": [
      "CPU times: user 7.03 s, sys: 3.63 s, total: 10.7 s\n",
      "Wall time: 11.5 s\n"
     ]
    }
   ],
   "source": [
    "%%time\n",
    "inch = load_reviews_dataset()"
   ]
  },
  {
   "cell_type": "code",
   "execution_count": 125,
   "id": "78ef0428",
   "metadata": {
    "ExecuteTime": {
     "end_time": "2021-12-01T13:16:22.891949Z",
     "start_time": "2021-12-01T13:16:22.751515Z"
    }
   },
   "outputs": [
    {
     "data": {
      "text/html": [
       "<div>\n",
       "<style scoped>\n",
       "    .dataframe tbody tr th:only-of-type {\n",
       "        vertical-align: middle;\n",
       "    }\n",
       "\n",
       "    .dataframe tbody tr th {\n",
       "        vertical-align: top;\n",
       "    }\n",
       "\n",
       "    .dataframe thead th {\n",
       "        text-align: right;\n",
       "    }\n",
       "</style>\n",
       "<table border=\"1\" class=\"dataframe\">\n",
       "  <thead>\n",
       "    <tr style=\"text-align: right;\">\n",
       "      <th></th>\n",
       "      <th>review_clean</th>\n",
       "      <th>alias</th>\n",
       "      <th>rate</th>\n",
       "      <th>review_sentences</th>\n",
       "      <th>embedding</th>\n",
       "      <th>review_sentences_trimed</th>\n",
       "    </tr>\n",
       "  </thead>\n",
       "  <tbody>\n",
       "    <tr>\n",
       "      <th>0</th>\n",
       "      <td>!!! a theif working amongst you!!! myself, my ...</td>\n",
       "      <td>café-daguerre-paris-2</td>\n",
       "      <td>1.0</td>\n",
       "      <td>[ a theif working amongst you,  myself, my sis...</td>\n",
       "      <td>[[0.045603834, -0.017338777, 0.0012167644, 0.0...</td>\n",
       "      <td>[ a theif working amongst you,  myself, my sis...</td>\n",
       "    </tr>\n",
       "    <tr>\n",
       "      <th>1</th>\n",
       "      <td>\"\"\"\"avoid at all costs\"\"\"\"\"\" this was an absol...</td>\n",
       "      <td>l-entrecôte-de-paris-paris-2</td>\n",
       "      <td>1.0</td>\n",
       "      <td>[\"\"\"\"avoid at all costs\"\"\"\"\"\" this was an abso...</td>\n",
       "      <td>[[0.019589972, 0.048924193, -0.015198772, -0.0...</td>\n",
       "      <td>[\"\"\"\"avoid at all costs\"\"\"\"\"\" this was an abso...</td>\n",
       "    </tr>\n",
       "    <tr>\n",
       "      <th>2</th>\n",
       "      <td>\"$$$\" food but only at a \"$\" price. will be co...</td>\n",
       "      <td>un-zèbre-à-montmartre-paris-3</td>\n",
       "      <td>5.0</td>\n",
       "      <td>[\"$$$\" food but only at a \"$\" price,  will be ...</td>\n",
       "      <td>[[0.016501594, 0.1083755, 0.014006043, -0.0319...</td>\n",
       "      <td>[\"$$$\" food but only at a \"$\" price,  will be ...</td>\n",
       "    </tr>\n",
       "    <tr>\n",
       "      <th>3</th>\n",
       "      <td>\"a middle finger salute\" well i haven't had ma...</td>\n",
       "      <td>le-sens-unique-paris-2</td>\n",
       "      <td>1.0</td>\n",
       "      <td>[\"a middle finger salute\" well i haven't had m...</td>\n",
       "      <td>[[0.019542666, -0.017905522, 0.0037664298, 0.0...</td>\n",
       "      <td>[\"a middle finger salute\" well i haven't had m...</td>\n",
       "    </tr>\n",
       "    <tr>\n",
       "      <th>4</th>\n",
       "      <td>\"a true disappointment and a waste of money an...</td>\n",
       "      <td>la-maison-de-l-aubrac-paris</td>\n",
       "      <td>1.0</td>\n",
       "      <td>[\"a true disappointment and a waste of money a...</td>\n",
       "      <td>[[0.036009785, 0.0029092361, 0.0132899275, 0.0...</td>\n",
       "      <td>[\"a true disappointment and a waste of money a...</td>\n",
       "    </tr>\n",
       "  </tbody>\n",
       "</table>\n",
       "</div>"
      ],
      "text/plain": [
       "                                        review_clean  \\\n",
       "0  !!! a theif working amongst you!!! myself, my ...   \n",
       "1  \"\"\"\"avoid at all costs\"\"\"\"\"\" this was an absol...   \n",
       "2  \"$$$\" food but only at a \"$\" price. will be co...   \n",
       "3  \"a middle finger salute\" well i haven't had ma...   \n",
       "4  \"a true disappointment and a waste of money an...   \n",
       "\n",
       "                           alias  rate  \\\n",
       "0          café-daguerre-paris-2   1.0   \n",
       "1   l-entrecôte-de-paris-paris-2   1.0   \n",
       "2  un-zèbre-à-montmartre-paris-3   5.0   \n",
       "3         le-sens-unique-paris-2   1.0   \n",
       "4    la-maison-de-l-aubrac-paris   1.0   \n",
       "\n",
       "                                    review_sentences  \\\n",
       "0  [ a theif working amongst you,  myself, my sis...   \n",
       "1  [\"\"\"\"avoid at all costs\"\"\"\"\"\" this was an abso...   \n",
       "2  [\"$$$\" food but only at a \"$\" price,  will be ...   \n",
       "3  [\"a middle finger salute\" well i haven't had m...   \n",
       "4  [\"a true disappointment and a waste of money a...   \n",
       "\n",
       "                                           embedding  \\\n",
       "0  [[0.045603834, -0.017338777, 0.0012167644, 0.0...   \n",
       "1  [[0.019589972, 0.048924193, -0.015198772, -0.0...   \n",
       "2  [[0.016501594, 0.1083755, 0.014006043, -0.0319...   \n",
       "3  [[0.019542666, -0.017905522, 0.0037664298, 0.0...   \n",
       "4  [[0.036009785, 0.0029092361, 0.0132899275, 0.0...   \n",
       "\n",
       "                             review_sentences_trimed  \n",
       "0  [ a theif working amongst you,  myself, my sis...  \n",
       "1  [\"\"\"\"avoid at all costs\"\"\"\"\"\" this was an abso...  \n",
       "2  [\"$$$\" food but only at a \"$\" price,  will be ...  \n",
       "3  [\"a middle finger salute\" well i haven't had m...  \n",
       "4  [\"a true disappointment and a waste of money a...  "
      ]
     },
     "execution_count": 125,
     "metadata": {},
     "output_type": "execute_result"
    }
   ],
   "source": [
    "inch.head()"
   ]
  },
  {
   "cell_type": "code",
   "execution_count": 12,
   "id": "14a2e915",
   "metadata": {
    "ExecuteTime": {
     "end_time": "2021-12-01T19:01:00.401772Z",
     "start_time": "2021-12-01T19:00:59.870896Z"
    }
   },
   "outputs": [],
   "source": [
    "from fobokiller.heatmap import creating_query_dataset"
   ]
  },
  {
   "cell_type": "code",
   "execution_count": 13,
   "id": "4ac9392e",
   "metadata": {
    "ExecuteTime": {
     "end_time": "2021-12-01T19:01:03.306245Z",
     "start_time": "2021-12-01T19:01:03.231389Z"
    }
   },
   "outputs": [],
   "source": [
    "query = 'I would like a vegan burger with music'\n",
    "n_prox = 3000\n",
    "n_best = 10 \n",
    "min_review = 10\n"
   ]
  },
  {
   "cell_type": "code",
   "execution_count": 17,
   "id": "25e3a4b8",
   "metadata": {
    "ExecuteTime": {
     "end_time": "2021-12-01T19:02:11.500136Z",
     "start_time": "2021-12-01T19:01:53.065772Z"
    }
   },
   "outputs": [
    {
     "name": "stdout",
     "output_type": "stream",
     "text": [
      "CPU times: user 3.62 s, sys: 9.95 s, total: 13.6 s\n",
      "Wall time: 18.3 s\n"
     ]
    }
   ],
   "source": [
    "%%time \n",
    "mashallah = creating_query_dataset(query = query,n_best=n_best,n_prox=n_prox,min_review=min_review,reviews_dataset=inch,embedding=embedding)"
   ]
  },
  {
   "cell_type": "code",
   "execution_count": 18,
   "id": "00a4f8b9",
   "metadata": {
    "ExecuteTime": {
     "end_time": "2021-12-01T19:02:13.855408Z",
     "start_time": "2021-12-01T19:02:13.585166Z"
    }
   },
   "outputs": [
    {
     "data": {
      "text/html": [
       "<div>\n",
       "<style scoped>\n",
       "    .dataframe tbody tr th:only-of-type {\n",
       "        vertical-align: middle;\n",
       "    }\n",
       "\n",
       "    .dataframe tbody tr th {\n",
       "        vertical-align: top;\n",
       "    }\n",
       "\n",
       "    .dataframe thead th {\n",
       "        text-align: right;\n",
       "    }\n",
       "</style>\n",
       "<table border=\"1\" class=\"dataframe\">\n",
       "  <thead>\n",
       "    <tr style=\"text-align: right;\">\n",
       "      <th></th>\n",
       "      <th>review_clean</th>\n",
       "      <th>alias</th>\n",
       "      <th>rate</th>\n",
       "      <th>review_sentences</th>\n",
       "      <th>embedding</th>\n",
       "      <th>review_sentences_trimed</th>\n",
       "      <th>date</th>\n",
       "      <th>sim_s</th>\n",
       "      <th>rate_filtered</th>\n",
       "      <th>review_filtered</th>\n",
       "      <th>...</th>\n",
       "      <th>ratio</th>\n",
       "      <th>metric</th>\n",
       "      <th>is_sim</th>\n",
       "      <th>reviews</th>\n",
       "      <th>nb_sentences</th>\n",
       "      <th>nb_review</th>\n",
       "      <th>metric sim_ratio</th>\n",
       "      <th>sentences_pond</th>\n",
       "      <th>metric_pond</th>\n",
       "      <th>is_in_summary</th>\n",
       "    </tr>\n",
       "  </thead>\n",
       "  <tbody>\n",
       "    <tr>\n",
       "      <th>0</th>\n",
       "      <td>!!! a theif working amongst you!!! myself, my ...</td>\n",
       "      <td>café-daguerre-paris-2</td>\n",
       "      <td>1.0</td>\n",
       "      <td>[ a theif working amongst you,  myself, my sis...</td>\n",
       "      <td>[[0.045603834, -0.017338777, 0.0012167644, 0.0...</td>\n",
       "      <td>[ a theif working amongst you,  myself, my sis...</td>\n",
       "      <td>0</td>\n",
       "      <td>0.0</td>\n",
       "      <td>0.0</td>\n",
       "      <td>0.0</td>\n",
       "      <td>...</td>\n",
       "      <td>0.0</td>\n",
       "      <td>0.0</td>\n",
       "      <td>0.0</td>\n",
       "      <td>0</td>\n",
       "      <td>0.0</td>\n",
       "      <td>0.0</td>\n",
       "      <td>0.0</td>\n",
       "      <td>0.0</td>\n",
       "      <td>0.0</td>\n",
       "      <td>0.0</td>\n",
       "    </tr>\n",
       "    <tr>\n",
       "      <th>1</th>\n",
       "      <td>\"\"\"\"avoid at all costs\"\"\"\"\"\" this was an absol...</td>\n",
       "      <td>l-entrecôte-de-paris-paris-2</td>\n",
       "      <td>1.0</td>\n",
       "      <td>[\"\"\"\"avoid at all costs\"\"\"\"\"\" this was an abso...</td>\n",
       "      <td>[[0.019589972, 0.048924193, -0.015198772, -0.0...</td>\n",
       "      <td>[\"\"\"\"avoid at all costs\"\"\"\"\"\" this was an abso...</td>\n",
       "      <td>0</td>\n",
       "      <td>0.0</td>\n",
       "      <td>0.0</td>\n",
       "      <td>0.0</td>\n",
       "      <td>...</td>\n",
       "      <td>0.0</td>\n",
       "      <td>0.0</td>\n",
       "      <td>0.0</td>\n",
       "      <td>0</td>\n",
       "      <td>0.0</td>\n",
       "      <td>0.0</td>\n",
       "      <td>0.0</td>\n",
       "      <td>0.0</td>\n",
       "      <td>0.0</td>\n",
       "      <td>0.0</td>\n",
       "    </tr>\n",
       "    <tr>\n",
       "      <th>2</th>\n",
       "      <td>\"$$$\" food but only at a \"$\" price. will be co...</td>\n",
       "      <td>un-zèbre-à-montmartre-paris-3</td>\n",
       "      <td>5.0</td>\n",
       "      <td>[\"$$$\" food but only at a \"$\" price,  will be ...</td>\n",
       "      <td>[[0.016501594, 0.1083755, 0.014006043, -0.0319...</td>\n",
       "      <td>[\"$$$\" food but only at a \"$\" price,  will be ...</td>\n",
       "      <td>0</td>\n",
       "      <td>0.0</td>\n",
       "      <td>0.0</td>\n",
       "      <td>0.0</td>\n",
       "      <td>...</td>\n",
       "      <td>0.0</td>\n",
       "      <td>0.0</td>\n",
       "      <td>0.0</td>\n",
       "      <td>0</td>\n",
       "      <td>0.0</td>\n",
       "      <td>0.0</td>\n",
       "      <td>0.0</td>\n",
       "      <td>0.0</td>\n",
       "      <td>0.0</td>\n",
       "      <td>0.0</td>\n",
       "    </tr>\n",
       "    <tr>\n",
       "      <th>3</th>\n",
       "      <td>\"a middle finger salute\" well i haven't had ma...</td>\n",
       "      <td>le-sens-unique-paris-2</td>\n",
       "      <td>1.0</td>\n",
       "      <td>[\"a middle finger salute\" well i haven't had m...</td>\n",
       "      <td>[[0.019542666, -0.017905522, 0.0037664298, 0.0...</td>\n",
       "      <td>[\"a middle finger salute\" well i haven't had m...</td>\n",
       "      <td>0</td>\n",
       "      <td>0.0</td>\n",
       "      <td>0.0</td>\n",
       "      <td>0.0</td>\n",
       "      <td>...</td>\n",
       "      <td>0.0</td>\n",
       "      <td>0.0</td>\n",
       "      <td>0.0</td>\n",
       "      <td>0</td>\n",
       "      <td>0.0</td>\n",
       "      <td>0.0</td>\n",
       "      <td>0.0</td>\n",
       "      <td>0.0</td>\n",
       "      <td>0.0</td>\n",
       "      <td>0.0</td>\n",
       "    </tr>\n",
       "    <tr>\n",
       "      <th>4</th>\n",
       "      <td>\"a true disappointment and a waste of money an...</td>\n",
       "      <td>la-maison-de-l-aubrac-paris</td>\n",
       "      <td>1.0</td>\n",
       "      <td>[\"a true disappointment and a waste of money a...</td>\n",
       "      <td>[[0.036009785, 0.0029092361, 0.0132899275, 0.0...</td>\n",
       "      <td>[\"a true disappointment and a waste of money a...</td>\n",
       "      <td>0</td>\n",
       "      <td>0.0</td>\n",
       "      <td>0.0</td>\n",
       "      <td>0.0</td>\n",
       "      <td>...</td>\n",
       "      <td>0.0</td>\n",
       "      <td>0.0</td>\n",
       "      <td>0.0</td>\n",
       "      <td>0</td>\n",
       "      <td>0.0</td>\n",
       "      <td>0.0</td>\n",
       "      <td>0.0</td>\n",
       "      <td>0.0</td>\n",
       "      <td>0.0</td>\n",
       "      <td>0.0</td>\n",
       "    </tr>\n",
       "  </tbody>\n",
       "</table>\n",
       "<p>5 rows × 23 columns</p>\n",
       "</div>"
      ],
      "text/plain": [
       "                                        review_clean  \\\n",
       "0  !!! a theif working amongst you!!! myself, my ...   \n",
       "1  \"\"\"\"avoid at all costs\"\"\"\"\"\" this was an absol...   \n",
       "2  \"$$$\" food but only at a \"$\" price. will be co...   \n",
       "3  \"a middle finger salute\" well i haven't had ma...   \n",
       "4  \"a true disappointment and a waste of money an...   \n",
       "\n",
       "                           alias  rate  \\\n",
       "0          café-daguerre-paris-2   1.0   \n",
       "1   l-entrecôte-de-paris-paris-2   1.0   \n",
       "2  un-zèbre-à-montmartre-paris-3   5.0   \n",
       "3         le-sens-unique-paris-2   1.0   \n",
       "4    la-maison-de-l-aubrac-paris   1.0   \n",
       "\n",
       "                                    review_sentences  \\\n",
       "0  [ a theif working amongst you,  myself, my sis...   \n",
       "1  [\"\"\"\"avoid at all costs\"\"\"\"\"\" this was an abso...   \n",
       "2  [\"$$$\" food but only at a \"$\" price,  will be ...   \n",
       "3  [\"a middle finger salute\" well i haven't had m...   \n",
       "4  [\"a true disappointment and a waste of money a...   \n",
       "\n",
       "                                           embedding  \\\n",
       "0  [[0.045603834, -0.017338777, 0.0012167644, 0.0...   \n",
       "1  [[0.019589972, 0.048924193, -0.015198772, -0.0...   \n",
       "2  [[0.016501594, 0.1083755, 0.014006043, -0.0319...   \n",
       "3  [[0.019542666, -0.017905522, 0.0037664298, 0.0...   \n",
       "4  [[0.036009785, 0.0029092361, 0.0132899275, 0.0...   \n",
       "\n",
       "                             review_sentences_trimed date  sim_s  \\\n",
       "0  [ a theif working amongst you,  myself, my sis...    0    0.0   \n",
       "1  [\"\"\"\"avoid at all costs\"\"\"\"\"\" this was an abso...    0    0.0   \n",
       "2  [\"$$$\" food but only at a \"$\" price,  will be ...    0    0.0   \n",
       "3  [\"a middle finger salute\" well i haven't had m...    0    0.0   \n",
       "4  [\"a true disappointment and a waste of money a...    0    0.0   \n",
       "\n",
       "   rate_filtered  review_filtered  ...  ratio  metric  is_sim  reviews  \\\n",
       "0            0.0              0.0  ...    0.0     0.0     0.0        0   \n",
       "1            0.0              0.0  ...    0.0     0.0     0.0        0   \n",
       "2            0.0              0.0  ...    0.0     0.0     0.0        0   \n",
       "3            0.0              0.0  ...    0.0     0.0     0.0        0   \n",
       "4            0.0              0.0  ...    0.0     0.0     0.0        0   \n",
       "\n",
       "   nb_sentences  nb_review metric sim_ratio  sentences_pond  metric_pond  \\\n",
       "0           0.0        0.0              0.0             0.0          0.0   \n",
       "1           0.0        0.0              0.0             0.0          0.0   \n",
       "2           0.0        0.0              0.0             0.0          0.0   \n",
       "3           0.0        0.0              0.0             0.0          0.0   \n",
       "4           0.0        0.0              0.0             0.0          0.0   \n",
       "\n",
       "   is_in_summary  \n",
       "0            0.0  \n",
       "1            0.0  \n",
       "2            0.0  \n",
       "3            0.0  \n",
       "4            0.0  \n",
       "\n",
       "[5 rows x 23 columns]"
      ]
     },
     "execution_count": 18,
     "metadata": {},
     "output_type": "execute_result"
    }
   ],
   "source": [
    "mashallah.head()"
   ]
  },
  {
   "cell_type": "code",
   "execution_count": 19,
   "id": "1b5667af",
   "metadata": {
    "ExecuteTime": {
     "end_time": "2021-12-01T19:02:16.752013Z",
     "start_time": "2021-12-01T19:02:16.665640Z"
    }
   },
   "outputs": [
    {
     "data": {
      "text/plain": [
       "(57159, 23)"
      ]
     },
     "execution_count": 19,
     "metadata": {},
     "output_type": "execute_result"
    }
   ],
   "source": [
    "mashallah.shape"
   ]
  },
  {
   "cell_type": "code",
   "execution_count": 2,
   "id": "75b69da8",
   "metadata": {
    "ExecuteTime": {
     "end_time": "2021-12-01T19:00:25.582927Z",
     "start_time": "2021-12-01T19:00:25.573118Z"
    }
   },
   "outputs": [
    {
     "ename": "NameError",
     "evalue": "name 'mashallah' is not defined",
     "output_type": "error",
     "traceback": [
      "\u001b[0;31m---------------------------------------------------------------------------\u001b[0m",
      "\u001b[0;31mNameError\u001b[0m                                 Traceback (most recent call last)",
      "\u001b[0;32m/var/folders/zd/9ts3jb2s5472mty2sgdddp3m0000gn/T/ipykernel_40278/2823435257.py\u001b[0m in \u001b[0;36m<module>\u001b[0;34m\u001b[0m\n\u001b[0;32m----> 1\u001b[0;31m \u001b[0mmashallah\u001b[0m\u001b[0;34m.\u001b[0m\u001b[0mcolumns\u001b[0m\u001b[0;34m\u001b[0m\u001b[0;34m\u001b[0m\u001b[0m\n\u001b[0m",
      "\u001b[0;31mNameError\u001b[0m: name 'mashallah' is not defined"
     ]
    }
   ],
   "source": [
    "mashallah.columns"
   ]
  },
  {
   "cell_type": "code",
   "execution_count": 137,
   "id": "bd9cdd06",
   "metadata": {
    "ExecuteTime": {
     "end_time": "2021-12-01T15:17:41.087759Z",
     "start_time": "2021-12-01T15:17:40.971350Z"
    }
   },
   "outputs": [],
   "source": [
    "summary_reconstructed = mashallah[mashallah['is_in_summary']==1].groupby('alias').agg({\n",
    "    'review_clean':list,\n",
    "    'nb_sentences':'mean',\n",
    "    'nb_review':'mean',\n",
    "    'metric sim_ratio':'mean',\n",
    "    'sentences_pond':'mean',\n",
    "    'metric_pond':'mean'\n",
    "})"
   ]
  },
  {
   "cell_type": "code",
   "execution_count": 138,
   "id": "bc3bd595",
   "metadata": {
    "ExecuteTime": {
     "end_time": "2021-12-01T15:17:45.421916Z",
     "start_time": "2021-12-01T15:17:45.303454Z"
    }
   },
   "outputs": [
    {
     "data": {
      "text/html": [
       "<div>\n",
       "<style scoped>\n",
       "    .dataframe tbody tr th:only-of-type {\n",
       "        vertical-align: middle;\n",
       "    }\n",
       "\n",
       "    .dataframe tbody tr th {\n",
       "        vertical-align: top;\n",
       "    }\n",
       "\n",
       "    .dataframe thead th {\n",
       "        text-align: right;\n",
       "    }\n",
       "</style>\n",
       "<table border=\"1\" class=\"dataframe\">\n",
       "  <thead>\n",
       "    <tr style=\"text-align: right;\">\n",
       "      <th></th>\n",
       "      <th>review_clean</th>\n",
       "      <th>nb_sentences</th>\n",
       "      <th>nb_review</th>\n",
       "      <th>metric sim_ratio</th>\n",
       "      <th>sentences_pond</th>\n",
       "      <th>metric_pond</th>\n",
       "    </tr>\n",
       "    <tr>\n",
       "      <th>alias</th>\n",
       "      <th></th>\n",
       "      <th></th>\n",
       "      <th></th>\n",
       "      <th></th>\n",
       "      <th></th>\n",
       "      <th></th>\n",
       "    </tr>\n",
       "  </thead>\n",
       "  <tbody>\n",
       "    <tr>\n",
       "      <th>blend-paris-26</th>\n",
       "      <td>[\"i still eat a burger at a counter with ketch...</td>\n",
       "      <td>74.0</td>\n",
       "      <td>48.0</td>\n",
       "      <td>0.280754</td>\n",
       "      <td>0.148</td>\n",
       "      <td>0.041552</td>\n",
       "    </tr>\n",
       "    <tr>\n",
       "      <th>blend-paris-27</th>\n",
       "      <td>[best, most flavorful burger i've ever had in ...</td>\n",
       "      <td>14.0</td>\n",
       "      <td>8.0</td>\n",
       "      <td>0.273000</td>\n",
       "      <td>0.028</td>\n",
       "      <td>0.007644</td>\n",
       "    </tr>\n",
       "    <tr>\n",
       "      <th>burger-et-fils-paris</th>\n",
       "      <td>[amazing burgers! well worth what you pay. the...</td>\n",
       "      <td>16.0</td>\n",
       "      <td>12.0</td>\n",
       "      <td>0.269706</td>\n",
       "      <td>0.032</td>\n",
       "      <td>0.008631</td>\n",
       "    </tr>\n",
       "    <tr>\n",
       "      <th>east-side-burgers-paris</th>\n",
       "      <td>[amazing burgers! really nice and helpful staf...</td>\n",
       "      <td>37.0</td>\n",
       "      <td>17.0</td>\n",
       "      <td>0.447103</td>\n",
       "      <td>0.074</td>\n",
       "      <td>0.033086</td>\n",
       "    </tr>\n",
       "    <tr>\n",
       "      <th>frog-burger-paris-4</th>\n",
       "      <td>[absolutely impressed by the service of the en...</td>\n",
       "      <td>10.0</td>\n",
       "      <td>8.0</td>\n",
       "      <td>0.260904</td>\n",
       "      <td>0.020</td>\n",
       "      <td>0.005218</td>\n",
       "    </tr>\n",
       "    <tr>\n",
       "      <th>hank-paris-2</th>\n",
       "      <td>[% vegan. there are choices of burgers, extra ...</td>\n",
       "      <td>222.0</td>\n",
       "      <td>122.0</td>\n",
       "      <td>0.413715</td>\n",
       "      <td>0.444</td>\n",
       "      <td>0.183690</td>\n",
       "    </tr>\n",
       "    <tr>\n",
       "      <th>le-camion-qui-fume-paris</th>\n",
       "      <td>[best burger in paris to date. delicious but a...</td>\n",
       "      <td>21.0</td>\n",
       "      <td>13.0</td>\n",
       "      <td>0.268700</td>\n",
       "      <td>0.042</td>\n",
       "      <td>0.011285</td>\n",
       "    </tr>\n",
       "    <tr>\n",
       "      <th>le-potager-du-marais-paris</th>\n",
       "      <td>[a pretty good respite from luscious (and hard...</td>\n",
       "      <td>78.0</td>\n",
       "      <td>54.0</td>\n",
       "      <td>0.260623</td>\n",
       "      <td>0.156</td>\n",
       "      <td>0.040657</td>\n",
       "    </tr>\n",
       "    <tr>\n",
       "      <th>le-ruisseau-paris-2</th>\n",
       "      <td>[best burger i have had in a long time!! the s...</td>\n",
       "      <td>16.0</td>\n",
       "      <td>11.0</td>\n",
       "      <td>0.394843</td>\n",
       "      <td>0.032</td>\n",
       "      <td>0.012635</td>\n",
       "    </tr>\n",
       "    <tr>\n",
       "      <th>starvin-joe-paris</th>\n",
       "      <td>[definitely one of the better burgers i've had...</td>\n",
       "      <td>12.0</td>\n",
       "      <td>7.0</td>\n",
       "      <td>0.270481</td>\n",
       "      <td>0.024</td>\n",
       "      <td>0.006492</td>\n",
       "    </tr>\n",
       "  </tbody>\n",
       "</table>\n",
       "</div>"
      ],
      "text/plain": [
       "                                                                 review_clean  \\\n",
       "alias                                                                           \n",
       "blend-paris-26              [\"i still eat a burger at a counter with ketch...   \n",
       "blend-paris-27              [best, most flavorful burger i've ever had in ...   \n",
       "burger-et-fils-paris        [amazing burgers! well worth what you pay. the...   \n",
       "east-side-burgers-paris     [amazing burgers! really nice and helpful staf...   \n",
       "frog-burger-paris-4         [absolutely impressed by the service of the en...   \n",
       "hank-paris-2                [% vegan. there are choices of burgers, extra ...   \n",
       "le-camion-qui-fume-paris    [best burger in paris to date. delicious but a...   \n",
       "le-potager-du-marais-paris  [a pretty good respite from luscious (and hard...   \n",
       "le-ruisseau-paris-2         [best burger i have had in a long time!! the s...   \n",
       "starvin-joe-paris           [definitely one of the better burgers i've had...   \n",
       "\n",
       "                            nb_sentences  nb_review  metric sim_ratio  \\\n",
       "alias                                                                   \n",
       "blend-paris-26                      74.0       48.0          0.280754   \n",
       "blend-paris-27                      14.0        8.0          0.273000   \n",
       "burger-et-fils-paris                16.0       12.0          0.269706   \n",
       "east-side-burgers-paris             37.0       17.0          0.447103   \n",
       "frog-burger-paris-4                 10.0        8.0          0.260904   \n",
       "hank-paris-2                       222.0      122.0          0.413715   \n",
       "le-camion-qui-fume-paris            21.0       13.0          0.268700   \n",
       "le-potager-du-marais-paris          78.0       54.0          0.260623   \n",
       "le-ruisseau-paris-2                 16.0       11.0          0.394843   \n",
       "starvin-joe-paris                   12.0        7.0          0.270481   \n",
       "\n",
       "                            sentences_pond  metric_pond  \n",
       "alias                                                    \n",
       "blend-paris-26                       0.148     0.041552  \n",
       "blend-paris-27                       0.028     0.007644  \n",
       "burger-et-fils-paris                 0.032     0.008631  \n",
       "east-side-burgers-paris              0.074     0.033086  \n",
       "frog-burger-paris-4                  0.020     0.005218  \n",
       "hank-paris-2                         0.444     0.183690  \n",
       "le-camion-qui-fume-paris             0.042     0.011285  \n",
       "le-potager-du-marais-paris           0.156     0.040657  \n",
       "le-ruisseau-paris-2                  0.032     0.012635  \n",
       "starvin-joe-paris                    0.024     0.006492  "
      ]
     },
     "execution_count": 138,
     "metadata": {},
     "output_type": "execute_result"
    }
   ],
   "source": [
    "summary_reconstructed"
   ]
  },
  {
   "cell_type": "code",
   "execution_count": 20,
   "id": "3a26843c",
   "metadata": {
    "ExecuteTime": {
     "end_time": "2021-12-01T19:02:26.016587Z",
     "start_time": "2021-12-01T19:02:25.904757Z"
    }
   },
   "outputs": [],
   "source": [
    "df_test=mashallah[mashallah['is_in_summary']==1]"
   ]
  },
  {
   "cell_type": "code",
   "execution_count": 29,
   "id": "a99e9da8",
   "metadata": {
    "ExecuteTime": {
     "end_time": "2021-12-01T19:05:41.571552Z",
     "start_time": "2021-12-01T19:05:41.493012Z"
    }
   },
   "outputs": [],
   "source": [
    "from fobokiller.heatmap import apply_heatmap_html,load_model"
   ]
  },
  {
   "cell_type": "code",
   "execution_count": 30,
   "id": "41e77085",
   "metadata": {
    "ExecuteTime": {
     "end_time": "2021-12-01T19:05:44.468938Z",
     "start_time": "2021-12-01T19:05:43.878741Z"
    }
   },
   "outputs": [],
   "source": [
    "model_heatmap = load_model()"
   ]
  },
  {
   "cell_type": "code",
   "execution_count": 31,
   "id": "00a4f2a6",
   "metadata": {
    "ExecuteTime": {
     "end_time": "2021-12-01T19:06:16.288022Z",
     "start_time": "2021-12-01T19:05:45.732599Z"
    }
   },
   "outputs": [
    {
     "name": "stderr",
     "output_type": "stream",
     "text": [
      "/var/folders/zd/9ts3jb2s5472mty2sgdddp3m0000gn/T/ipykernel_40278/2800391979.py:1: SettingWithCopyWarning: \n",
      "A value is trying to be set on a copy of a slice from a DataFrame.\n",
      "Try using .loc[row_indexer,col_indexer] = value instead\n",
      "\n",
      "See the caveats in the documentation: https://pandas.pydata.org/pandas-docs/stable/user_guide/indexing.html#returning-a-view-versus-a-copy\n",
      "  df_test['reviews_heatmaps_html'] = df_test.apply(apply_heatmap_html,axis=1)\n"
     ]
    }
   ],
   "source": [
    "df_test['reviews_heatmaps_html'] = df_test.apply(apply_heatmap_html,axis=1)\n"
   ]
  },
  {
   "cell_type": "code",
   "execution_count": 32,
   "id": "465cc3a4",
   "metadata": {
    "ExecuteTime": {
     "end_time": "2021-12-01T19:06:18.022840Z",
     "start_time": "2021-12-01T19:06:17.939288Z"
    }
   },
   "outputs": [
    {
     "data": {
      "text/plain": [
       "'<span style=\\'background-color:rgba(0,255.0,0,0.6)\\'>\"i still eat a burger at a counter with ketchup dripping down my face </span><span style=\\'background-color:rgba(0,255.0,0,0.6)\\'>\" - scarlett johansson burgers in paris </span><span style=\\'background-color:rgba(0,255.0,0,0.6)\\'> oui, why of course </span><span style=\\'background-color:rgba(0,255.0,0,0.6)\\'> after parisian wanderlusting all day i was jonesing for a burger </span><span style=\\'background-color:rgba(0,255.0,0,0.6)\\'> oui, oui </span><span style=\\'background-color:rgba(0,255.0,0,0.6)\\'> not escargot or caviar, but a burger, please </span><span style=\\'background-color:rgba(0,255.0,0,0.6)\\'> oh </span><span style=\\'background-color:rgba(0,255.0,0,0.6)\\'> yet, i didn\\'t come to paris specifically for the burgers lol, fortunately my trusty yelp app helped me on my search </span><span style=\\'background-color:rgba(0,255.0,0,0.6)\\'> i came across several restaurants that served burgers, but decided on a french chain restaurant called \"blend\" </span><span style=\\'background-color:rgba(0,255.0,0,0.6)\\'> it was within walking distance from my b&b and it seemed euros affordable </span><span style=\\'background-color:rgba(0,255.0,0,0.6)\\'> ohhh scarlett </span><span style=\\'background-color:rgba(0,255.0,0,0.6)\\'> i walked in to a busy scene </span><span style=\\'background-color:rgba(0,255.0,0,0.6)\\'> it\\'s very popular as a take out and delivery spot, but also the dine-in area was open too </span><span style=\\'background-color:rgba(0,255.0,0,0.6)\\'> i chose to dine-in and told i could sit anywhere with menu in hand </span><span style=\\'background-color:rgba(0,255.0,0,0.6)\\'> fortunately i already perused the menu virtually, so almost immediately i ordered: - cheesy - sweet potato fries and a glass of - côtes du rhône the \"cheesy\" was definitely french lol </span><span style=\\'background-color:rgba(0,255.0,0,0.6)\\'> compotée de cheddar affiné mois et bacon fumé, ketchup blend oignons frits, zucchini pickles, salade iceberg </span><span style=\\'background-color:rgba(0,255.0,0,0.6)\\'> the month old cheddar had a nice zing and the excessive shredded lettuce was interesting lol, yet overall it was delicious and paired well with my côtes du rhône and sweet potato fries </span><span style=\\'background-color:rgba(0,255.0,0,0.6)\\'> combos available on weekends </span><span style=\\'background-color:rgba(0,255.0,0,0.6)\\'> the young lady who took my order was cute as a young scarlett with a touch of haute couture </span><span style=\\'background-color:rgba(0,255.0,0,0.6)\\'> friendly staff each at least bilingual </span><span style=\\'background-color:rgba(0,255.0,0,0.6)\\'> the food tho resembling american was quite french </span><span style=\\'background-color:rgba(0,255.0,0,0.6)\\'> and when in paris i\\'m okay with that </span><span style=\\'background-color:rgba(0,255.0,0,0.6)\\'> au revoir </span>'"
      ]
     },
     "execution_count": 32,
     "metadata": {},
     "output_type": "execute_result"
    }
   ],
   "source": [
    "df_test.loc[28,'reviews_heatmaps_html']"
   ]
  },
  {
   "cell_type": "code",
   "execution_count": 26,
   "id": "dd45b4de",
   "metadata": {
    "ExecuteTime": {
     "end_time": "2021-12-01T19:04:30.646209Z",
     "start_time": "2021-12-01T19:04:30.462313Z"
    }
   },
   "outputs": [
    {
     "data": {
      "text/html": [
       "<div>\n",
       "<style scoped>\n",
       "    .dataframe tbody tr th:only-of-type {\n",
       "        vertical-align: middle;\n",
       "    }\n",
       "\n",
       "    .dataframe tbody tr th {\n",
       "        vertical-align: top;\n",
       "    }\n",
       "\n",
       "    .dataframe thead th {\n",
       "        text-align: right;\n",
       "    }\n",
       "</style>\n",
       "<table border=\"1\" class=\"dataframe\">\n",
       "  <thead>\n",
       "    <tr style=\"text-align: right;\">\n",
       "      <th></th>\n",
       "      <th>review_clean</th>\n",
       "      <th>alias</th>\n",
       "      <th>rate</th>\n",
       "      <th>review_sentences</th>\n",
       "      <th>embedding</th>\n",
       "      <th>review_sentences_trimed</th>\n",
       "      <th>date</th>\n",
       "      <th>sim_s</th>\n",
       "      <th>rate_filtered</th>\n",
       "      <th>review_filtered</th>\n",
       "      <th>...</th>\n",
       "      <th>metric</th>\n",
       "      <th>is_sim</th>\n",
       "      <th>reviews</th>\n",
       "      <th>nb_sentences</th>\n",
       "      <th>nb_review</th>\n",
       "      <th>metric sim_ratio</th>\n",
       "      <th>sentences_pond</th>\n",
       "      <th>metric_pond</th>\n",
       "      <th>is_in_summary</th>\n",
       "      <th>reviews_heatmaps_html</th>\n",
       "    </tr>\n",
       "  </thead>\n",
       "  <tbody>\n",
       "    <tr>\n",
       "      <th>28</th>\n",
       "      <td>\"i still eat a burger at a counter with ketchu...</td>\n",
       "      <td>blend-paris-26</td>\n",
       "      <td>4.0</td>\n",
       "      <td>[\"i still eat a burger at a counter with ketch...</td>\n",
       "      <td>[[0.04524126, 0.093474865, 0.018982986, -0.091...</td>\n",
       "      <td>[\"i still eat a burger at a counter with ketch...</td>\n",
       "      <td>2021-01-26</td>\n",
       "      <td>0.655614</td>\n",
       "      <td>3.932432</td>\n",
       "      <td>48.0</td>\n",
       "      <td>...</td>\n",
       "      <td>0.280754</td>\n",
       "      <td>1.0</td>\n",
       "      <td>{it's urban and chic - sparse interiors, black...</td>\n",
       "      <td>74.0</td>\n",
       "      <td>48.0</td>\n",
       "      <td>0.280754</td>\n",
       "      <td>0.148</td>\n",
       "      <td>0.041552</td>\n",
       "      <td>1.0</td>\n",
       "      <td>&lt;span style='background-color:rgba(0,255.0,0,0...</td>\n",
       "    </tr>\n",
       "    <tr>\n",
       "      <th>29</th>\n",
       "      <td>\"i still eat a burger at a counter with ketchu...</td>\n",
       "      <td>blend-paris-26</td>\n",
       "      <td>4.0</td>\n",
       "      <td>[\"i still eat a burger at a counter with ketch...</td>\n",
       "      <td>[[0.04524126, 0.093474865, 0.018982986, -0.091...</td>\n",
       "      <td>[\"i still eat a burger at a counter with ketch...</td>\n",
       "      <td>2021-01-26</td>\n",
       "      <td>0.503989</td>\n",
       "      <td>3.932432</td>\n",
       "      <td>48.0</td>\n",
       "      <td>...</td>\n",
       "      <td>0.280754</td>\n",
       "      <td>1.0</td>\n",
       "      <td>{it's urban and chic - sparse interiors, black...</td>\n",
       "      <td>74.0</td>\n",
       "      <td>48.0</td>\n",
       "      <td>0.280754</td>\n",
       "      <td>0.148</td>\n",
       "      <td>0.041552</td>\n",
       "      <td>1.0</td>\n",
       "      <td>&lt;span style='background-color:rgba(0,255.0,0,0...</td>\n",
       "    </tr>\n",
       "    <tr>\n",
       "      <th>30</th>\n",
       "      <td>\"i still eat a burger at a counter with ketchu...</td>\n",
       "      <td>blend-paris-26</td>\n",
       "      <td>4.0</td>\n",
       "      <td>[\"i still eat a burger at a counter with ketch...</td>\n",
       "      <td>[[0.04524126, 0.093474865, 0.018982986, -0.091...</td>\n",
       "      <td>[\"i still eat a burger at a counter with ketch...</td>\n",
       "      <td>2021-01-26</td>\n",
       "      <td>0.473660</td>\n",
       "      <td>3.932432</td>\n",
       "      <td>48.0</td>\n",
       "      <td>...</td>\n",
       "      <td>0.280754</td>\n",
       "      <td>1.0</td>\n",
       "      <td>{it's urban and chic - sparse interiors, black...</td>\n",
       "      <td>74.0</td>\n",
       "      <td>48.0</td>\n",
       "      <td>0.280754</td>\n",
       "      <td>0.148</td>\n",
       "      <td>0.041552</td>\n",
       "      <td>1.0</td>\n",
       "      <td>&lt;span style='background-color:rgba(0,255.0,0,0...</td>\n",
       "    </tr>\n",
       "    <tr>\n",
       "      <th>71</th>\n",
       "      <td>% vegan. there are choices of burgers, extra f...</td>\n",
       "      <td>hank-paris-2</td>\n",
       "      <td>5.0</td>\n",
       "      <td>[% vegan,  there are choices of burgers, extra...</td>\n",
       "      <td>[[0.034976766, 0.011347653, -0.012336669, -0.0...</td>\n",
       "      <td>[% vegan,  there are choices of burgers, extra...</td>\n",
       "      <td>2018-07-20</td>\n",
       "      <td>0.525614</td>\n",
       "      <td>4.436937</td>\n",
       "      <td>122.0</td>\n",
       "      <td>...</td>\n",
       "      <td>0.413715</td>\n",
       "      <td>1.0</td>\n",
       "      <td>{best burger i've ever had hands down! (vegan ...</td>\n",
       "      <td>222.0</td>\n",
       "      <td>122.0</td>\n",
       "      <td>0.413715</td>\n",
       "      <td>0.444</td>\n",
       "      <td>0.183690</td>\n",
       "      <td>1.0</td>\n",
       "      <td>&lt;span style='background-color:rgba(0,255.0,0,0...</td>\n",
       "    </tr>\n",
       "    <tr>\n",
       "      <th>204</th>\n",
       "      <td>. stars i don't know...i was underwhelmed. i j...</td>\n",
       "      <td>hank-paris-2</td>\n",
       "      <td>2.0</td>\n",
       "      <td>[ stars i don't know, i was underwhelmed,  i j...</td>\n",
       "      <td>[[0.0016276188, -0.05031505, 0.019274464, -0.0...</td>\n",
       "      <td>[ stars i don't know, i was underwhelmed,  i j...</td>\n",
       "      <td>2015-05-03</td>\n",
       "      <td>0.529969</td>\n",
       "      <td>4.436937</td>\n",
       "      <td>122.0</td>\n",
       "      <td>...</td>\n",
       "      <td>0.413715</td>\n",
       "      <td>1.0</td>\n",
       "      <td>{best burger i've ever had hands down! (vegan ...</td>\n",
       "      <td>222.0</td>\n",
       "      <td>122.0</td>\n",
       "      <td>0.413715</td>\n",
       "      <td>0.444</td>\n",
       "      <td>0.183690</td>\n",
       "      <td>1.0</td>\n",
       "      <td>&lt;span style='background-color:rgba(0,255.0,0,0...</td>\n",
       "    </tr>\n",
       "  </tbody>\n",
       "</table>\n",
       "<p>5 rows × 24 columns</p>\n",
       "</div>"
      ],
      "text/plain": [
       "                                          review_clean           alias  rate  \\\n",
       "28   \"i still eat a burger at a counter with ketchu...  blend-paris-26   4.0   \n",
       "29   \"i still eat a burger at a counter with ketchu...  blend-paris-26   4.0   \n",
       "30   \"i still eat a burger at a counter with ketchu...  blend-paris-26   4.0   \n",
       "71   % vegan. there are choices of burgers, extra f...    hank-paris-2   5.0   \n",
       "204  . stars i don't know...i was underwhelmed. i j...    hank-paris-2   2.0   \n",
       "\n",
       "                                      review_sentences  \\\n",
       "28   [\"i still eat a burger at a counter with ketch...   \n",
       "29   [\"i still eat a burger at a counter with ketch...   \n",
       "30   [\"i still eat a burger at a counter with ketch...   \n",
       "71   [% vegan,  there are choices of burgers, extra...   \n",
       "204  [ stars i don't know, i was underwhelmed,  i j...   \n",
       "\n",
       "                                             embedding  \\\n",
       "28   [[0.04524126, 0.093474865, 0.018982986, -0.091...   \n",
       "29   [[0.04524126, 0.093474865, 0.018982986, -0.091...   \n",
       "30   [[0.04524126, 0.093474865, 0.018982986, -0.091...   \n",
       "71   [[0.034976766, 0.011347653, -0.012336669, -0.0...   \n",
       "204  [[0.0016276188, -0.05031505, 0.019274464, -0.0...   \n",
       "\n",
       "                               review_sentences_trimed        date     sim_s  \\\n",
       "28   [\"i still eat a burger at a counter with ketch...  2021-01-26  0.655614   \n",
       "29   [\"i still eat a burger at a counter with ketch...  2021-01-26  0.503989   \n",
       "30   [\"i still eat a burger at a counter with ketch...  2021-01-26  0.473660   \n",
       "71   [% vegan,  there are choices of burgers, extra...  2018-07-20  0.525614   \n",
       "204  [ stars i don't know, i was underwhelmed,  i j...  2015-05-03  0.529969   \n",
       "\n",
       "     rate_filtered  review_filtered  ...    metric  is_sim  \\\n",
       "28        3.932432             48.0  ...  0.280754     1.0   \n",
       "29        3.932432             48.0  ...  0.280754     1.0   \n",
       "30        3.932432             48.0  ...  0.280754     1.0   \n",
       "71        4.436937            122.0  ...  0.413715     1.0   \n",
       "204       4.436937            122.0  ...  0.413715     1.0   \n",
       "\n",
       "                                               reviews  nb_sentences  \\\n",
       "28   {it's urban and chic - sparse interiors, black...          74.0   \n",
       "29   {it's urban and chic - sparse interiors, black...          74.0   \n",
       "30   {it's urban and chic - sparse interiors, black...          74.0   \n",
       "71   {best burger i've ever had hands down! (vegan ...         222.0   \n",
       "204  {best burger i've ever had hands down! (vegan ...         222.0   \n",
       "\n",
       "     nb_review  metric sim_ratio sentences_pond  metric_pond  is_in_summary  \\\n",
       "28        48.0          0.280754          0.148     0.041552            1.0   \n",
       "29        48.0          0.280754          0.148     0.041552            1.0   \n",
       "30        48.0          0.280754          0.148     0.041552            1.0   \n",
       "71       122.0          0.413715          0.444     0.183690            1.0   \n",
       "204      122.0          0.413715          0.444     0.183690            1.0   \n",
       "\n",
       "                                 reviews_heatmaps_html  \n",
       "28   <span style='background-color:rgba(0,255.0,0,0...  \n",
       "29   <span style='background-color:rgba(0,255.0,0,0...  \n",
       "30   <span style='background-color:rgba(0,255.0,0,0...  \n",
       "71   <span style='background-color:rgba(0,255.0,0,0...  \n",
       "204  <span style='background-color:rgba(0,255.0,0,0...  \n",
       "\n",
       "[5 rows x 24 columns]"
      ]
     },
     "execution_count": 26,
     "metadata": {},
     "output_type": "execute_result"
    }
   ],
   "source": [
    "df_test.head()"
   ]
  },
  {
   "cell_type": "code",
   "execution_count": 47,
   "id": "3bdf939b",
   "metadata": {
    "ExecuteTime": {
     "end_time": "2021-12-01T19:12:26.663818Z",
     "start_time": "2021-12-01T19:12:26.417678Z"
    }
   },
   "outputs": [],
   "source": [
    "def heatmap_sentences(review_sentences, review_embedded, model):\n",
    "    #padding\n",
    "    review_embedded = pad_sequences([review_embedded],\n",
    "                                    dtype='float32',\n",
    "                                    padding='post',\n",
    "                                    maxlen=30)\n",
    "    # predict\n",
    "    preds = model.predict(review_embedded)\n",
    "    #gradient tape\n",
    "    with tf.GradientTape() as tape:\n",
    "        class_idx = np.argmax(preds[0]) #a priori useless always return 0\n",
    "        last_conv_layer = model.get_layer('conv1d')\n",
    "        iterate = tf.keras.models.Model([model.inputs],\n",
    "                                        [model.output, last_conv_layer.output])\n",
    "        model_out, last_conv_layer = iterate(review_embedded)\n",
    "        class_out = model_out[:, class_idx]\n",
    "        grads = tape.gradient(class_out, last_conv_layer)\n",
    "        #pooled_grads = tf.reduce_mean(grads)\n",
    "        pooled_grads = K.mean(grads, axis=(0, 1, 2))\n",
    "\n",
    "    heatmap = tf.reduce_mean(tf.multiply(pooled_grads, last_conv_layer),\n",
    "                             axis=-1)\n",
    "    heatmap = np.maximum(heatmap, 0.0001)\n",
    "    heatmap /= np.max(heatmap)\n",
    "\n",
    "    polarity_distance=np.max(heatmap[0])-np.min(heatmap[0])\n",
    "\n",
    "    html = \"\"\n",
    "    for i, j in enumerate(review_sentences):\n",
    "        html += f\"<span style='background-color:rgba(0,{heatmap[0][i]*255},0,0.6)'>{j} </span>\"\n",
    "\n",
    "    return html,polarity_distance"
   ]
  }
 ],
 "metadata": {
  "kernelspec": {
   "display_name": "Python 3 (ipykernel)",
   "language": "python",
   "name": "python3"
  },
  "language_info": {
   "codemirror_mode": {
    "name": "ipython",
    "version": 3
   },
   "file_extension": ".py",
   "mimetype": "text/x-python",
   "name": "python",
   "nbconvert_exporter": "python",
   "pygments_lexer": "ipython3",
   "version": "3.8.12"
  },
  "toc": {
   "base_numbering": 1,
   "nav_menu": {},
   "number_sections": true,
   "sideBar": true,
   "skip_h1_title": false,
   "title_cell": "Table of Contents",
   "title_sidebar": "Contents",
   "toc_cell": false,
   "toc_position": {},
   "toc_section_display": true,
   "toc_window_display": false
  }
 },
 "nbformat": 4,
 "nbformat_minor": 5
}
