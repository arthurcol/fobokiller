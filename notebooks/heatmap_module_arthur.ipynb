{
 "cells": [
  {
   "cell_type": "code",
   "execution_count": 114,
   "id": "34bd9c78",
   "metadata": {
    "ExecuteTime": {
     "end_time": "2021-12-01T13:14:06.081357Z",
     "start_time": "2021-12-01T13:14:05.524450Z"
    }
   },
   "outputs": [],
   "source": [
    "%load_ext autoreload\n",
    "%autoreload 2"
   ]
  },
  {
   "cell_type": "code",
   "execution_count": 25,
   "id": "1f6c49af",
   "metadata": {
    "ExecuteTime": {
     "end_time": "2021-12-01T11:27:23.336807Z",
     "start_time": "2021-12-01T11:27:23.322057Z"
    }
   },
   "outputs": [],
   "source": [
    "import pandas as pd \n",
    "import numpy as np \n",
    "import pickle"
   ]
  },
  {
   "cell_type": "code",
   "execution_count": 2,
   "id": "a4383958",
   "metadata": {
    "ExecuteTime": {
     "end_time": "2021-12-01T11:02:17.191091Z",
     "start_time": "2021-12-01T11:02:17.186688Z"
    }
   },
   "outputs": [],
   "source": [
    "from fobokiller.cosim import load_embedding, summary_reviews, compute_sim_df"
   ]
  },
  {
   "cell_type": "code",
   "execution_count": 3,
   "id": "a3c86665",
   "metadata": {
    "ExecuteTime": {
     "end_time": "2021-12-01T11:02:57.973536Z",
     "start_time": "2021-12-01T11:02:55.282710Z"
    }
   },
   "outputs": [
    {
     "name": "stderr",
     "output_type": "stream",
     "text": [
      "2021-12-01 12:02:57.811531: I tensorflow/core/platform/cpu_feature_guard.cc:151] This TensorFlow binary is optimized with oneAPI Deep Neural Network Library (oneDNN) to use the following CPU instructions in performance-critical operations:  AVX2 FMA\n",
      "To enable them in other operations, rebuild TensorFlow with the appropriate compiler flags.\n"
     ]
    }
   ],
   "source": [
    "embedding = load_embedding()"
   ]
  },
  {
   "cell_type": "code",
   "execution_count": 4,
   "id": "67e946e9",
   "metadata": {
    "ExecuteTime": {
     "end_time": "2021-12-01T11:03:54.993555Z",
     "start_time": "2021-12-01T11:03:54.988724Z"
    }
   },
   "outputs": [],
   "source": [
    "query = 'I would like to eat a good french meal with mushrooms'"
   ]
  },
  {
   "cell_type": "code",
   "execution_count": 5,
   "id": "0ccdfac4",
   "metadata": {
    "ExecuteTime": {
     "end_time": "2021-12-01T11:05:00.912638Z",
     "start_time": "2021-12-01T11:04:39.767937Z"
    }
   },
   "outputs": [],
   "source": [
    "results=compute_sim_df(query,embedding,n_prox=3000,min_review=10)"
   ]
  },
  {
   "cell_type": "code",
   "execution_count": 6,
   "id": "7bb6857b",
   "metadata": {
    "ExecuteTime": {
     "end_time": "2021-12-01T11:05:10.847113Z",
     "start_time": "2021-12-01T11:05:10.765819Z"
    }
   },
   "outputs": [],
   "source": [
    "summary = summary_reviews(results,10)"
   ]
  },
  {
   "cell_type": "code",
   "execution_count": 14,
   "id": "86c5f32e",
   "metadata": {
    "ExecuteTime": {
     "end_time": "2021-12-01T11:17:44.286195Z",
     "start_time": "2021-12-01T11:17:44.274549Z"
    }
   },
   "outputs": [],
   "source": [
    "summary.reset_index(inplace=True)"
   ]
  },
  {
   "cell_type": "code",
   "execution_count": 11,
   "id": "41212d70",
   "metadata": {
    "ExecuteTime": {
     "end_time": "2021-12-01T11:06:01.758814Z",
     "start_time": "2021-12-01T11:06:01.741883Z"
    }
   },
   "outputs": [
    {
     "data": {
      "text/html": [
       "<div>\n",
       "<style scoped>\n",
       "    .dataframe tbody tr th:only-of-type {\n",
       "        vertical-align: middle;\n",
       "    }\n",
       "\n",
       "    .dataframe tbody tr th {\n",
       "        vertical-align: top;\n",
       "    }\n",
       "\n",
       "    .dataframe thead th {\n",
       "        text-align: right;\n",
       "    }\n",
       "</style>\n",
       "<table border=\"1\" class=\"dataframe\">\n",
       "  <thead>\n",
       "    <tr style=\"text-align: right;\">\n",
       "      <th></th>\n",
       "      <th>alias</th>\n",
       "      <th>date</th>\n",
       "      <th>rate</th>\n",
       "      <th>review_clean</th>\n",
       "      <th>review_sentences</th>\n",
       "      <th>sim_s</th>\n",
       "      <th>rate_filtered</th>\n",
       "      <th>review_filtered</th>\n",
       "      <th>sim_r</th>\n",
       "      <th>rate_all</th>\n",
       "      <th>review_all</th>\n",
       "      <th>ratio</th>\n",
       "      <th>metric</th>\n",
       "    </tr>\n",
       "  </thead>\n",
       "  <tbody>\n",
       "    <tr>\n",
       "      <th>0</th>\n",
       "      <td>l-etoile-de-montmartre-paris-2</td>\n",
       "      <td>2011-01-18</td>\n",
       "      <td>4</td>\n",
       "      <td>l'etoile is a great little neighborhood cafe. ...</td>\n",
       "      <td>good, hearty french food</td>\n",
       "      <td>0.704448</td>\n",
       "      <td>4.000000</td>\n",
       "      <td>1.0</td>\n",
       "      <td>0.704448</td>\n",
       "      <td>3.557377</td>\n",
       "      <td>11.0</td>\n",
       "      <td>0.090909</td>\n",
       "      <td>0.064041</td>\n",
       "    </tr>\n",
       "    <tr>\n",
       "      <th>1</th>\n",
       "      <td>la-fontaine-de-mars-paris-2</td>\n",
       "      <td>2012-03-17</td>\n",
       "      <td>5</td>\n",
       "      <td>a truly awesome bistro and one of the best i v...</td>\n",
       "      <td>starters: poached eggs with mushrooms in a wi...</td>\n",
       "      <td>0.694910</td>\n",
       "      <td>4.833333</td>\n",
       "      <td>40.0</td>\n",
       "      <td>0.590118</td>\n",
       "      <td>4.450627</td>\n",
       "      <td>224.0</td>\n",
       "      <td>0.178571</td>\n",
       "      <td>0.105378</td>\n",
       "    </tr>\n",
       "    <tr>\n",
       "      <th>2</th>\n",
       "      <td>chez-georges-paris-6</td>\n",
       "      <td>2019-12-14</td>\n",
       "      <td>4</td>\n",
       "      <td>julia child's favorite restaurant in paris. ho...</td>\n",
       "      <td>please take your time here, or at any french ...</td>\n",
       "      <td>0.693810</td>\n",
       "      <td>3.400000</td>\n",
       "      <td>5.0</td>\n",
       "      <td>0.624527</td>\n",
       "      <td>3.647982</td>\n",
       "      <td>51.0</td>\n",
       "      <td>0.098039</td>\n",
       "      <td>0.061228</td>\n",
       "    </tr>\n",
       "    <tr>\n",
       "      <th>3</th>\n",
       "      <td>la-rôtisserie-d-argent-paris</td>\n",
       "      <td>2018-06-25</td>\n",
       "      <td>4</td>\n",
       "      <td>delicious meal - salad with baby artichokes an...</td>\n",
       "      <td>suprême de volaille - chicken breast stuffed ...</td>\n",
       "      <td>0.692447</td>\n",
       "      <td>4.750000</td>\n",
       "      <td>7.0</td>\n",
       "      <td>0.602681</td>\n",
       "      <td>3.805556</td>\n",
       "      <td>46.0</td>\n",
       "      <td>0.152174</td>\n",
       "      <td>0.091712</td>\n",
       "    </tr>\n",
       "    <tr>\n",
       "      <th>4</th>\n",
       "      <td>le-comptoir-de-la-gastronomie-paris</td>\n",
       "      <td>2017-07-16</td>\n",
       "      <td>5</td>\n",
       "      <td>i went to paris for the day and wanted to eat ...</td>\n",
       "      <td>i went to paris for the day and wanted to eat ...</td>\n",
       "      <td>0.691569</td>\n",
       "      <td>4.809160</td>\n",
       "      <td>125.0</td>\n",
       "      <td>0.585045</td>\n",
       "      <td>4.455240</td>\n",
       "      <td>1030.0</td>\n",
       "      <td>0.121359</td>\n",
       "      <td>0.071001</td>\n",
       "    </tr>\n",
       "  </tbody>\n",
       "</table>\n",
       "</div>"
      ],
      "text/plain": [
       "                                 alias        date  rate  \\\n",
       "0       l-etoile-de-montmartre-paris-2  2011-01-18     4   \n",
       "1          la-fontaine-de-mars-paris-2  2012-03-17     5   \n",
       "2                 chez-georges-paris-6  2019-12-14     4   \n",
       "3         la-rôtisserie-d-argent-paris  2018-06-25     4   \n",
       "4  le-comptoir-de-la-gastronomie-paris  2017-07-16     5   \n",
       "\n",
       "                                        review_clean  \\\n",
       "0  l'etoile is a great little neighborhood cafe. ...   \n",
       "1  a truly awesome bistro and one of the best i v...   \n",
       "2  julia child's favorite restaurant in paris. ho...   \n",
       "3  delicious meal - salad with baby artichokes an...   \n",
       "4  i went to paris for the day and wanted to eat ...   \n",
       "\n",
       "                                    review_sentences     sim_s  rate_filtered  \\\n",
       "0                           good, hearty french food  0.704448       4.000000   \n",
       "1   starters: poached eggs with mushrooms in a wi...  0.694910       4.833333   \n",
       "2   please take your time here, or at any french ...  0.693810       3.400000   \n",
       "3   suprême de volaille - chicken breast stuffed ...  0.692447       4.750000   \n",
       "4  i went to paris for the day and wanted to eat ...  0.691569       4.809160   \n",
       "\n",
       "   review_filtered     sim_r  rate_all  review_all     ratio    metric  \n",
       "0              1.0  0.704448  3.557377        11.0  0.090909  0.064041  \n",
       "1             40.0  0.590118  4.450627       224.0  0.178571  0.105378  \n",
       "2              5.0  0.624527  3.647982        51.0  0.098039  0.061228  \n",
       "3              7.0  0.602681  3.805556        46.0  0.152174  0.091712  \n",
       "4            125.0  0.585045  4.455240      1030.0  0.121359  0.071001  "
      ]
     },
     "execution_count": 11,
     "metadata": {},
     "output_type": "execute_result"
    }
   ],
   "source": [
    "results.head()"
   ]
  },
  {
   "cell_type": "code",
   "execution_count": 19,
   "id": "882df710",
   "metadata": {
    "ExecuteTime": {
     "end_time": "2021-12-01T11:18:17.701904Z",
     "start_time": "2021-12-01T11:18:17.636557Z"
    }
   },
   "outputs": [],
   "source": [
    "df = summary.merge(results,on='alias')"
   ]
  },
  {
   "cell_type": "code",
   "execution_count": 22,
   "id": "24ad027b",
   "metadata": {
    "ExecuteTime": {
     "end_time": "2021-12-01T11:18:40.612657Z",
     "start_time": "2021-12-01T11:18:40.594525Z"
    }
   },
   "outputs": [
    {
     "data": {
      "text/html": [
       "<div>\n",
       "<style scoped>\n",
       "    .dataframe tbody tr th:only-of-type {\n",
       "        vertical-align: middle;\n",
       "    }\n",
       "\n",
       "    .dataframe tbody tr th {\n",
       "        vertical-align: top;\n",
       "    }\n",
       "\n",
       "    .dataframe thead th {\n",
       "        text-align: right;\n",
       "    }\n",
       "</style>\n",
       "<table border=\"1\" class=\"dataframe\">\n",
       "  <thead>\n",
       "    <tr style=\"text-align: right;\">\n",
       "      <th></th>\n",
       "      <th>alias</th>\n",
       "      <th>reviews</th>\n",
       "      <th>nb_sentences</th>\n",
       "      <th>nb_review</th>\n",
       "      <th>metric sim_ratio</th>\n",
       "      <th>sentences_pond</th>\n",
       "      <th>metric_pond</th>\n",
       "    </tr>\n",
       "  </thead>\n",
       "  <tbody>\n",
       "    <tr>\n",
       "      <th>0</th>\n",
       "      <td>au-boeuf-couronné-paris-4</td>\n",
       "      <td>{it was our first awesome meal in paris! we di...</td>\n",
       "      <td>3</td>\n",
       "      <td>3.0</td>\n",
       "      <td>0.157997</td>\n",
       "      <td>0.050000</td>\n",
       "      <td>0.007900</td>\n",
       "    </tr>\n",
       "    <tr>\n",
       "      <th>1</th>\n",
       "      <td>au-petit-marguery-paris-4</td>\n",
       "      <td>{a very nice, well priced meal in a traditiona...</td>\n",
       "      <td>5</td>\n",
       "      <td>5.0</td>\n",
       "      <td>0.182090</td>\n",
       "      <td>0.083333</td>\n",
       "      <td>0.015174</td>\n",
       "    </tr>\n",
       "    <tr>\n",
       "      <th>2</th>\n",
       "      <td>au-reveil-du-xv-paris</td>\n",
       "      <td>{great find! food is very tasty and good selec...</td>\n",
       "      <td>6</td>\n",
       "      <td>6.0</td>\n",
       "      <td>0.138264</td>\n",
       "      <td>0.100000</td>\n",
       "      <td>0.013826</td>\n",
       "    </tr>\n",
       "    <tr>\n",
       "      <th>3</th>\n",
       "      <td>auberge-nicolas-flamel-paris</td>\n",
       "      <td>{hands down our favorite meal and restaurant i...</td>\n",
       "      <td>10</td>\n",
       "      <td>10.0</td>\n",
       "      <td>0.148468</td>\n",
       "      <td>0.166667</td>\n",
       "      <td>0.024745</td>\n",
       "    </tr>\n",
       "    <tr>\n",
       "      <th>4</th>\n",
       "      <td>aux-anysetiers-du-roy-paris</td>\n",
       "      <td>{typical tiny restaurant- maybe room for - din...</td>\n",
       "      <td>7</td>\n",
       "      <td>7.0</td>\n",
       "      <td>0.133945</td>\n",
       "      <td>0.116667</td>\n",
       "      <td>0.015627</td>\n",
       "    </tr>\n",
       "    <tr>\n",
       "      <th>5</th>\n",
       "      <td>aux-artistes-paris</td>\n",
       "      <td>{an excellent value proposition for a long fre...</td>\n",
       "      <td>4</td>\n",
       "      <td>3.0</td>\n",
       "      <td>0.136387</td>\n",
       "      <td>0.066667</td>\n",
       "      <td>0.009092</td>\n",
       "    </tr>\n",
       "    <tr>\n",
       "      <th>6</th>\n",
       "      <td>aux-lyonnais-paris</td>\n",
       "      <td>{excellent food and service. ordered from euro...</td>\n",
       "      <td>6</td>\n",
       "      <td>6.0</td>\n",
       "      <td>0.143230</td>\n",
       "      <td>0.100000</td>\n",
       "      <td>0.014323</td>\n",
       "    </tr>\n",
       "    <tr>\n",
       "      <th>7</th>\n",
       "      <td>l-encrier-paris</td>\n",
       "      <td>{good, solid french cooking and atmosphere. no...</td>\n",
       "      <td>6</td>\n",
       "      <td>6.0</td>\n",
       "      <td>0.221796</td>\n",
       "      <td>0.100000</td>\n",
       "      <td>0.022180</td>\n",
       "    </tr>\n",
       "    <tr>\n",
       "      <th>8</th>\n",
       "      <td>l-estaminet-paris</td>\n",
       "      <td>{very good authentic, comforting french food. ...</td>\n",
       "      <td>6</td>\n",
       "      <td>5.0</td>\n",
       "      <td>0.183050</td>\n",
       "      <td>0.100000</td>\n",
       "      <td>0.018305</td>\n",
       "    </tr>\n",
       "    <tr>\n",
       "      <th>9</th>\n",
       "      <td>le-casse-noix-paris-15</td>\n",
       "      <td>{our favorite meal in paris thus far. euros fo...</td>\n",
       "      <td>7</td>\n",
       "      <td>6.0</td>\n",
       "      <td>0.141178</td>\n",
       "      <td>0.116667</td>\n",
       "      <td>0.016471</td>\n",
       "    </tr>\n",
       "  </tbody>\n",
       "</table>\n",
       "</div>"
      ],
      "text/plain": [
       "                          alias  \\\n",
       "0     au-boeuf-couronné-paris-4   \n",
       "1     au-petit-marguery-paris-4   \n",
       "2         au-reveil-du-xv-paris   \n",
       "3  auberge-nicolas-flamel-paris   \n",
       "4   aux-anysetiers-du-roy-paris   \n",
       "5            aux-artistes-paris   \n",
       "6            aux-lyonnais-paris   \n",
       "7               l-encrier-paris   \n",
       "8             l-estaminet-paris   \n",
       "9        le-casse-noix-paris-15   \n",
       "\n",
       "                                             reviews  nb_sentences  nb_review  \\\n",
       "0  {it was our first awesome meal in paris! we di...             3        3.0   \n",
       "1  {a very nice, well priced meal in a traditiona...             5        5.0   \n",
       "2  {great find! food is very tasty and good selec...             6        6.0   \n",
       "3  {hands down our favorite meal and restaurant i...            10       10.0   \n",
       "4  {typical tiny restaurant- maybe room for - din...             7        7.0   \n",
       "5  {an excellent value proposition for a long fre...             4        3.0   \n",
       "6  {excellent food and service. ordered from euro...             6        6.0   \n",
       "7  {good, solid french cooking and atmosphere. no...             6        6.0   \n",
       "8  {very good authentic, comforting french food. ...             6        5.0   \n",
       "9  {our favorite meal in paris thus far. euros fo...             7        6.0   \n",
       "\n",
       "   metric sim_ratio  sentences_pond  metric_pond  \n",
       "0          0.157997        0.050000     0.007900  \n",
       "1          0.182090        0.083333     0.015174  \n",
       "2          0.138264        0.100000     0.013826  \n",
       "3          0.148468        0.166667     0.024745  \n",
       "4          0.133945        0.116667     0.015627  \n",
       "5          0.136387        0.066667     0.009092  \n",
       "6          0.143230        0.100000     0.014323  \n",
       "7          0.221796        0.100000     0.022180  \n",
       "8          0.183050        0.100000     0.018305  \n",
       "9          0.141178        0.116667     0.016471  "
      ]
     },
     "execution_count": 22,
     "metadata": {},
     "output_type": "execute_result"
    }
   ],
   "source": [
    "summary"
   ]
  },
  {
   "cell_type": "code",
   "execution_count": 23,
   "id": "4c0c44b9",
   "metadata": {
    "ExecuteTime": {
     "end_time": "2021-12-01T11:18:49.753932Z",
     "start_time": "2021-12-01T11:18:49.723665Z"
    }
   },
   "outputs": [
    {
     "name": "stderr",
     "output_type": "stream",
     "text": [
      "/var/folders/zd/9ts3jb2s5472mty2sgdddp3m0000gn/T/ipykernel_33844/3152757715.py:1: FutureWarning: Dropping of nuisance columns in DataFrame reductions (with 'numeric_only=None') is deprecated; in a future version this will raise TypeError.  Select only valid columns before calling the reduction.\n",
      "  summary.sum()\n"
     ]
    },
    {
     "data": {
      "text/plain": [
       "alias               au-boeuf-couronné-paris-4au-petit-marguery-par...\n",
       "nb_sentences                                                       60\n",
       "nb_review                                                        57.0\n",
       "metric sim_ratio                                             1.586405\n",
       "sentences_pond                                                    1.0\n",
       "metric_pond                                                  0.157643\n",
       "dtype: object"
      ]
     },
     "execution_count": 23,
     "metadata": {},
     "output_type": "execute_result"
    }
   ],
   "source": [
    "summary.sum()"
   ]
  },
  {
   "cell_type": "markdown",
   "id": "04d7681b",
   "metadata": {},
   "source": [
    "dataset = dataset.assign(embedding=[*np.array(embedding)])\n",
    "dataset = dataset.groupby('review_clean').agg({'review_sentences':list,'embedding':list,'rate':'mean'}).reset_index()"
   ]
  },
  {
   "cell_type": "code",
   "execution_count": 26,
   "id": "57c680b3",
   "metadata": {
    "ExecuteTime": {
     "end_time": "2021-12-01T11:27:28.172484Z",
     "start_time": "2021-12-01T11:27:26.328173Z"
    }
   },
   "outputs": [],
   "source": [
    "with open('../embeddings.pkl','rb') as file:\n",
    "    embedding_df = pickle.load(file)"
   ]
  },
  {
   "cell_type": "code",
   "execution_count": 30,
   "id": "e6f0130d",
   "metadata": {
    "ExecuteTime": {
     "end_time": "2021-12-01T11:27:54.170636Z",
     "start_time": "2021-12-01T11:27:54.163120Z"
    }
   },
   "outputs": [
    {
     "data": {
      "text/plain": [
       "{'sentences': 0         this is not your traditional parisian cooking ...\n",
       " 1          this restaurant is a full on southern france ...\n",
       " 2                   we were looking for a good boulliabese \n",
       " 3          and here at le sud they have the boulliabese ...\n",
       " 4           is almost the same but thickened with egg yolks\n",
       "                                 ...                        \n",
       " 459344                 but i'll be back next time i'm there\n",
       " 459345             nice little hole-in-the-wall kinda place\n",
       " 459346     i ate the very well priced dish of the day; c...\n",
       " 459347     it was delicious accompanied with a happy hou...\n",
       " 459348                         very french, would recommend\n",
       " Name: review_sentences, Length: 459349, dtype: object,\n",
       " 'embeddings': <tf.Tensor: shape=(459349, 768), dtype=float32, numpy=\n",
       " array([[ 0.04608987,  0.0684234 , -0.00984177, ...,  0.01829738,\n",
       "          0.00357979, -0.00023565],\n",
       "        [ 0.03371384,  0.03673802,  0.02455381, ..., -0.02362741,\n",
       "          0.01673002, -0.00324849],\n",
       "        [ 0.073636  , -0.00642742, -0.01672614, ...,  0.00019479,\n",
       "          0.05600835, -0.00704501],\n",
       "        ...,\n",
       "        [-0.01676314,  0.04864478,  0.01831327, ...,  0.02241626,\n",
       "         -0.01726213, -0.02431561],\n",
       "        [ 0.02261987, -0.00767533, -0.00336804, ..., -0.00186576,\n",
       "          0.00481931, -0.03627369],\n",
       "        [-0.00754219,  0.02868729,  0.0013856 , ..., -0.01501646,\n",
       "          0.03937773, -0.01506876]], dtype=float32)>}"
      ]
     },
     "execution_count": 30,
     "metadata": {},
     "output_type": "execute_result"
    }
   ],
   "source": [
    "embedding_df"
   ]
  },
  {
   "cell_type": "code",
   "execution_count": 31,
   "id": "6017e980",
   "metadata": {
    "ExecuteTime": {
     "end_time": "2021-12-01T11:30:12.116224Z",
     "start_time": "2021-12-01T11:30:06.215455Z"
    }
   },
   "outputs": [],
   "source": [
    "all_sentences=pd.read_csv('../fobokiller/data/scrapping_cleaned_sentences.csv',index_col=0)"
   ]
  },
  {
   "cell_type": "code",
   "execution_count": 37,
   "id": "2da373f2",
   "metadata": {
    "ExecuteTime": {
     "end_time": "2021-12-01T11:32:13.419585Z",
     "start_time": "2021-12-01T11:32:13.408438Z"
    }
   },
   "outputs": [
    {
     "data": {
      "text/html": [
       "<div>\n",
       "<style scoped>\n",
       "    .dataframe tbody tr th:only-of-type {\n",
       "        vertical-align: middle;\n",
       "    }\n",
       "\n",
       "    .dataframe tbody tr th {\n",
       "        vertical-align: top;\n",
       "    }\n",
       "\n",
       "    .dataframe thead th {\n",
       "        text-align: right;\n",
       "    }\n",
       "</style>\n",
       "<table border=\"1\" class=\"dataframe\">\n",
       "  <thead>\n",
       "    <tr style=\"text-align: right;\">\n",
       "      <th></th>\n",
       "      <th>alias</th>\n",
       "      <th>date</th>\n",
       "      <th>rate</th>\n",
       "      <th>review</th>\n",
       "      <th>review_clean</th>\n",
       "      <th>review_sentences</th>\n",
       "    </tr>\n",
       "  </thead>\n",
       "  <tbody>\n",
       "    <tr>\n",
       "      <th>0</th>\n",
       "      <td>le-sud-paris</td>\n",
       "      <td>2018-11-20</td>\n",
       "      <td>5</td>\n",
       "      <td>Ed W.\\nElite 2021\\nMiami, FL\\n259\\n562\\n4232\\n...</td>\n",
       "      <td>this is not your traditional parisian cooking ...</td>\n",
       "      <td>this is not your traditional parisian cooking ...</td>\n",
       "    </tr>\n",
       "    <tr>\n",
       "      <th>1</th>\n",
       "      <td>le-sud-paris</td>\n",
       "      <td>2018-11-20</td>\n",
       "      <td>5</td>\n",
       "      <td>Ed W.\\nElite 2021\\nMiami, FL\\n259\\n562\\n4232\\n...</td>\n",
       "      <td>this is not your traditional parisian cooking ...</td>\n",
       "      <td>this restaurant is a full on southern france ...</td>\n",
       "    </tr>\n",
       "    <tr>\n",
       "      <th>2</th>\n",
       "      <td>le-sud-paris</td>\n",
       "      <td>2018-11-20</td>\n",
       "      <td>5</td>\n",
       "      <td>Ed W.\\nElite 2021\\nMiami, FL\\n259\\n562\\n4232\\n...</td>\n",
       "      <td>this is not your traditional parisian cooking ...</td>\n",
       "      <td>we were looking for a good boulliabese</td>\n",
       "    </tr>\n",
       "    <tr>\n",
       "      <th>3</th>\n",
       "      <td>le-sud-paris</td>\n",
       "      <td>2018-11-20</td>\n",
       "      <td>5</td>\n",
       "      <td>Ed W.\\nElite 2021\\nMiami, FL\\n259\\n562\\n4232\\n...</td>\n",
       "      <td>this is not your traditional parisian cooking ...</td>\n",
       "      <td>and here at le sud they have the boulliabese ...</td>\n",
       "    </tr>\n",
       "    <tr>\n",
       "      <th>4</th>\n",
       "      <td>le-sud-paris</td>\n",
       "      <td>2018-11-20</td>\n",
       "      <td>5</td>\n",
       "      <td>Ed W.\\nElite 2021\\nMiami, FL\\n259\\n562\\n4232\\n...</td>\n",
       "      <td>this is not your traditional parisian cooking ...</td>\n",
       "      <td>is almost the same but thickened with egg yolks</td>\n",
       "    </tr>\n",
       "  </tbody>\n",
       "</table>\n",
       "</div>"
      ],
      "text/plain": [
       "          alias        date  rate  \\\n",
       "0  le-sud-paris  2018-11-20     5   \n",
       "1  le-sud-paris  2018-11-20     5   \n",
       "2  le-sud-paris  2018-11-20     5   \n",
       "3  le-sud-paris  2018-11-20     5   \n",
       "4  le-sud-paris  2018-11-20     5   \n",
       "\n",
       "                                              review  \\\n",
       "0  Ed W.\\nElite 2021\\nMiami, FL\\n259\\n562\\n4232\\n...   \n",
       "1  Ed W.\\nElite 2021\\nMiami, FL\\n259\\n562\\n4232\\n...   \n",
       "2  Ed W.\\nElite 2021\\nMiami, FL\\n259\\n562\\n4232\\n...   \n",
       "3  Ed W.\\nElite 2021\\nMiami, FL\\n259\\n562\\n4232\\n...   \n",
       "4  Ed W.\\nElite 2021\\nMiami, FL\\n259\\n562\\n4232\\n...   \n",
       "\n",
       "                                        review_clean  \\\n",
       "0  this is not your traditional parisian cooking ...   \n",
       "1  this is not your traditional parisian cooking ...   \n",
       "2  this is not your traditional parisian cooking ...   \n",
       "3  this is not your traditional parisian cooking ...   \n",
       "4  this is not your traditional parisian cooking ...   \n",
       "\n",
       "                                    review_sentences  \n",
       "0  this is not your traditional parisian cooking ...  \n",
       "1   this restaurant is a full on southern france ...  \n",
       "2            we were looking for a good boulliabese   \n",
       "3   and here at le sud they have the boulliabese ...  \n",
       "4    is almost the same but thickened with egg yolks  "
      ]
     },
     "execution_count": 37,
     "metadata": {},
     "output_type": "execute_result"
    }
   ],
   "source": [
    "all_sentences.head()"
   ]
  },
  {
   "cell_type": "code",
   "execution_count": 35,
   "id": "14b69975",
   "metadata": {
    "ExecuteTime": {
     "end_time": "2021-12-01T11:31:43.021431Z",
     "start_time": "2021-12-01T11:31:34.918585Z"
    }
   },
   "outputs": [],
   "source": [
    "dataset = all_sentences.assign(embedding=[*np.array(embedding)])"
   ]
  },
  {
   "cell_type": "code",
   "execution_count": 39,
   "id": "36514cf5",
   "metadata": {
    "ExecuteTime": {
     "end_time": "2021-12-01T11:34:58.772643Z",
     "start_time": "2021-12-01T11:34:57.269058Z"
    }
   },
   "outputs": [],
   "source": [
    "dataset = dataset.groupby('review_clean').agg({'alias':'first',\n",
    "                                               'rate':'mean',\n",
    "                                               'review_sentences':list,\n",
    "                                               'embedding':list,\n",
    "                                               }).reset_index()"
   ]
  },
  {
   "cell_type": "code",
   "execution_count": 43,
   "id": "1f378a55",
   "metadata": {
    "ExecuteTime": {
     "end_time": "2021-12-01T11:37:04.676478Z",
     "start_time": "2021-12-01T11:37:04.572406Z"
    }
   },
   "outputs": [],
   "source": [
    "dataset['review_sentences_trimed']=dataset['review_sentences'].apply(lambda list_:list_[:30])"
   ]
  },
  {
   "cell_type": "code",
   "execution_count": 45,
   "id": "c241b658",
   "metadata": {
    "ExecuteTime": {
     "end_time": "2021-12-01T11:37:59.428701Z",
     "start_time": "2021-12-01T11:37:59.353285Z"
    }
   },
   "outputs": [],
   "source": [
    "dataset['length_sentences_trimed'] = dataset['review_sentences_trimed'].apply(lambda list_:len(list_))\n",
    "dataset['length_sentences'] = dataset['review_sentences'].apply(lambda list_:len(list_))"
   ]
  },
  {
   "cell_type": "code",
   "execution_count": 47,
   "id": "7d643e55",
   "metadata": {
    "ExecuteTime": {
     "end_time": "2021-12-01T11:38:07.312260Z",
     "start_time": "2021-12-01T11:38:07.229807Z"
    }
   },
   "outputs": [
    {
     "data": {
      "text/html": [
       "<div>\n",
       "<style scoped>\n",
       "    .dataframe tbody tr th:only-of-type {\n",
       "        vertical-align: middle;\n",
       "    }\n",
       "\n",
       "    .dataframe tbody tr th {\n",
       "        vertical-align: top;\n",
       "    }\n",
       "\n",
       "    .dataframe thead th {\n",
       "        text-align: right;\n",
       "    }\n",
       "</style>\n",
       "<table border=\"1\" class=\"dataframe\">\n",
       "  <thead>\n",
       "    <tr style=\"text-align: right;\">\n",
       "      <th></th>\n",
       "      <th>review_clean</th>\n",
       "      <th>alias</th>\n",
       "      <th>rate</th>\n",
       "      <th>review_sentences</th>\n",
       "      <th>embedding</th>\n",
       "      <th>review_sentences_trimed</th>\n",
       "      <th>length_sentences_trimed</th>\n",
       "      <th>length_sentences</th>\n",
       "    </tr>\n",
       "  </thead>\n",
       "  <tbody>\n",
       "    <tr>\n",
       "      <th>0</th>\n",
       "      <td>!!! a theif working amongst you!!! myself, my ...</td>\n",
       "      <td>café-daguerre-paris-2</td>\n",
       "      <td>1.0</td>\n",
       "      <td>[ a theif working amongst you,  myself, my sis...</td>\n",
       "      <td>[[0.045603834, -0.017338777, 0.0012167644, 0.0...</td>\n",
       "      <td>[ a theif working amongst you,  myself, my sis...</td>\n",
       "      <td>17</td>\n",
       "      <td>17</td>\n",
       "    </tr>\n",
       "    <tr>\n",
       "      <th>1</th>\n",
       "      <td>\"\"\"\"avoid at all costs\"\"\"\"\"\" this was an absol...</td>\n",
       "      <td>l-entrecôte-de-paris-paris-2</td>\n",
       "      <td>1.0</td>\n",
       "      <td>[\"\"\"\"avoid at all costs\"\"\"\"\"\" this was an abso...</td>\n",
       "      <td>[[0.019589972, 0.048924193, -0.015198772, -0.0...</td>\n",
       "      <td>[\"\"\"\"avoid at all costs\"\"\"\"\"\" this was an abso...</td>\n",
       "      <td>9</td>\n",
       "      <td>9</td>\n",
       "    </tr>\n",
       "    <tr>\n",
       "      <th>2</th>\n",
       "      <td>\"$$$\" food but only at a \"$\" price. will be co...</td>\n",
       "      <td>un-zèbre-à-montmartre-paris-3</td>\n",
       "      <td>5.0</td>\n",
       "      <td>[\"$$$\" food but only at a \"$\" price,  will be ...</td>\n",
       "      <td>[[0.016501594, 0.1083755, 0.014006043, -0.0319...</td>\n",
       "      <td>[\"$$$\" food but only at a \"$\" price,  will be ...</td>\n",
       "      <td>6</td>\n",
       "      <td>6</td>\n",
       "    </tr>\n",
       "    <tr>\n",
       "      <th>3</th>\n",
       "      <td>\"a middle finger salute\" well i haven't had ma...</td>\n",
       "      <td>le-sens-unique-paris-2</td>\n",
       "      <td>1.0</td>\n",
       "      <td>[\"a middle finger salute\" well i haven't had m...</td>\n",
       "      <td>[[0.019542666, -0.017905522, 0.0037664298, 0.0...</td>\n",
       "      <td>[\"a middle finger salute\" well i haven't had m...</td>\n",
       "      <td>11</td>\n",
       "      <td>11</td>\n",
       "    </tr>\n",
       "    <tr>\n",
       "      <th>4</th>\n",
       "      <td>\"a true disappointment and a waste of money an...</td>\n",
       "      <td>la-maison-de-l-aubrac-paris</td>\n",
       "      <td>1.0</td>\n",
       "      <td>[\"a true disappointment and a waste of money a...</td>\n",
       "      <td>[[0.036009785, 0.0029092361, 0.0132899275, 0.0...</td>\n",
       "      <td>[\"a true disappointment and a waste of money a...</td>\n",
       "      <td>16</td>\n",
       "      <td>16</td>\n",
       "    </tr>\n",
       "  </tbody>\n",
       "</table>\n",
       "</div>"
      ],
      "text/plain": [
       "                                        review_clean  \\\n",
       "0  !!! a theif working amongst you!!! myself, my ...   \n",
       "1  \"\"\"\"avoid at all costs\"\"\"\"\"\" this was an absol...   \n",
       "2  \"$$$\" food but only at a \"$\" price. will be co...   \n",
       "3  \"a middle finger salute\" well i haven't had ma...   \n",
       "4  \"a true disappointment and a waste of money an...   \n",
       "\n",
       "                           alias  rate  \\\n",
       "0          café-daguerre-paris-2   1.0   \n",
       "1   l-entrecôte-de-paris-paris-2   1.0   \n",
       "2  un-zèbre-à-montmartre-paris-3   5.0   \n",
       "3         le-sens-unique-paris-2   1.0   \n",
       "4    la-maison-de-l-aubrac-paris   1.0   \n",
       "\n",
       "                                    review_sentences  \\\n",
       "0  [ a theif working amongst you,  myself, my sis...   \n",
       "1  [\"\"\"\"avoid at all costs\"\"\"\"\"\" this was an abso...   \n",
       "2  [\"$$$\" food but only at a \"$\" price,  will be ...   \n",
       "3  [\"a middle finger salute\" well i haven't had m...   \n",
       "4  [\"a true disappointment and a waste of money a...   \n",
       "\n",
       "                                           embedding  \\\n",
       "0  [[0.045603834, -0.017338777, 0.0012167644, 0.0...   \n",
       "1  [[0.019589972, 0.048924193, -0.015198772, -0.0...   \n",
       "2  [[0.016501594, 0.1083755, 0.014006043, -0.0319...   \n",
       "3  [[0.019542666, -0.017905522, 0.0037664298, 0.0...   \n",
       "4  [[0.036009785, 0.0029092361, 0.0132899275, 0.0...   \n",
       "\n",
       "                             review_sentences_trimed  length_sentences_trimed  \\\n",
       "0  [ a theif working amongst you,  myself, my sis...                       17   \n",
       "1  [\"\"\"\"avoid at all costs\"\"\"\"\"\" this was an abso...                        9   \n",
       "2  [\"$$$\" food but only at a \"$\" price,  will be ...                        6   \n",
       "3  [\"a middle finger salute\" well i haven't had m...                       11   \n",
       "4  [\"a true disappointment and a waste of money a...                       16   \n",
       "\n",
       "   length_sentences  \n",
       "0                17  \n",
       "1                 9  \n",
       "2                 6  \n",
       "3                11  \n",
       "4                16  "
      ]
     },
     "execution_count": 47,
     "metadata": {},
     "output_type": "execute_result"
    }
   ],
   "source": []
  },
  {
   "cell_type": "code",
   "execution_count": 50,
   "id": "e68b8c11",
   "metadata": {
    "ExecuteTime": {
     "end_time": "2021-12-01T11:40:00.364102Z",
     "start_time": "2021-12-01T11:40:00.355265Z"
    }
   },
   "outputs": [
    {
     "data": {
      "text/plain": [
       "30"
      ]
     },
     "execution_count": 50,
     "metadata": {},
     "output_type": "execute_result"
    }
   ],
   "source": [
    "dataset['length_sentences_trimed'].max()"
   ]
  },
  {
   "cell_type": "code",
   "execution_count": 52,
   "id": "dd8dd4a4",
   "metadata": {
    "ExecuteTime": {
     "end_time": "2021-12-01T11:40:38.360136Z",
     "start_time": "2021-12-01T11:40:38.348817Z"
    }
   },
   "outputs": [],
   "source": [
    "dataset.drop(columns=['length_sentences_trimed','length_sentences'],inplace=True)"
   ]
  },
  {
   "cell_type": "code",
   "execution_count": 53,
   "id": "9a232268",
   "metadata": {
    "ExecuteTime": {
     "end_time": "2021-12-01T11:40:42.399373Z",
     "start_time": "2021-12-01T11:40:42.327351Z"
    }
   },
   "outputs": [
    {
     "data": {
      "text/html": [
       "<div>\n",
       "<style scoped>\n",
       "    .dataframe tbody tr th:only-of-type {\n",
       "        vertical-align: middle;\n",
       "    }\n",
       "\n",
       "    .dataframe tbody tr th {\n",
       "        vertical-align: top;\n",
       "    }\n",
       "\n",
       "    .dataframe thead th {\n",
       "        text-align: right;\n",
       "    }\n",
       "</style>\n",
       "<table border=\"1\" class=\"dataframe\">\n",
       "  <thead>\n",
       "    <tr style=\"text-align: right;\">\n",
       "      <th></th>\n",
       "      <th>review_clean</th>\n",
       "      <th>alias</th>\n",
       "      <th>rate</th>\n",
       "      <th>review_sentences</th>\n",
       "      <th>embedding</th>\n",
       "      <th>review_sentences_trimed</th>\n",
       "    </tr>\n",
       "  </thead>\n",
       "  <tbody>\n",
       "    <tr>\n",
       "      <th>0</th>\n",
       "      <td>!!! a theif working amongst you!!! myself, my ...</td>\n",
       "      <td>café-daguerre-paris-2</td>\n",
       "      <td>1.0</td>\n",
       "      <td>[ a theif working amongst you,  myself, my sis...</td>\n",
       "      <td>[[0.045603834, -0.017338777, 0.0012167644, 0.0...</td>\n",
       "      <td>[ a theif working amongst you,  myself, my sis...</td>\n",
       "    </tr>\n",
       "    <tr>\n",
       "      <th>1</th>\n",
       "      <td>\"\"\"\"avoid at all costs\"\"\"\"\"\" this was an absol...</td>\n",
       "      <td>l-entrecôte-de-paris-paris-2</td>\n",
       "      <td>1.0</td>\n",
       "      <td>[\"\"\"\"avoid at all costs\"\"\"\"\"\" this was an abso...</td>\n",
       "      <td>[[0.019589972, 0.048924193, -0.015198772, -0.0...</td>\n",
       "      <td>[\"\"\"\"avoid at all costs\"\"\"\"\"\" this was an abso...</td>\n",
       "    </tr>\n",
       "    <tr>\n",
       "      <th>2</th>\n",
       "      <td>\"$$$\" food but only at a \"$\" price. will be co...</td>\n",
       "      <td>un-zèbre-à-montmartre-paris-3</td>\n",
       "      <td>5.0</td>\n",
       "      <td>[\"$$$\" food but only at a \"$\" price,  will be ...</td>\n",
       "      <td>[[0.016501594, 0.1083755, 0.014006043, -0.0319...</td>\n",
       "      <td>[\"$$$\" food but only at a \"$\" price,  will be ...</td>\n",
       "    </tr>\n",
       "    <tr>\n",
       "      <th>3</th>\n",
       "      <td>\"a middle finger salute\" well i haven't had ma...</td>\n",
       "      <td>le-sens-unique-paris-2</td>\n",
       "      <td>1.0</td>\n",
       "      <td>[\"a middle finger salute\" well i haven't had m...</td>\n",
       "      <td>[[0.019542666, -0.017905522, 0.0037664298, 0.0...</td>\n",
       "      <td>[\"a middle finger salute\" well i haven't had m...</td>\n",
       "    </tr>\n",
       "    <tr>\n",
       "      <th>4</th>\n",
       "      <td>\"a true disappointment and a waste of money an...</td>\n",
       "      <td>la-maison-de-l-aubrac-paris</td>\n",
       "      <td>1.0</td>\n",
       "      <td>[\"a true disappointment and a waste of money a...</td>\n",
       "      <td>[[0.036009785, 0.0029092361, 0.0132899275, 0.0...</td>\n",
       "      <td>[\"a true disappointment and a waste of money a...</td>\n",
       "    </tr>\n",
       "  </tbody>\n",
       "</table>\n",
       "</div>"
      ],
      "text/plain": [
       "                                        review_clean  \\\n",
       "0  !!! a theif working amongst you!!! myself, my ...   \n",
       "1  \"\"\"\"avoid at all costs\"\"\"\"\"\" this was an absol...   \n",
       "2  \"$$$\" food but only at a \"$\" price. will be co...   \n",
       "3  \"a middle finger salute\" well i haven't had ma...   \n",
       "4  \"a true disappointment and a waste of money an...   \n",
       "\n",
       "                           alias  rate  \\\n",
       "0          café-daguerre-paris-2   1.0   \n",
       "1   l-entrecôte-de-paris-paris-2   1.0   \n",
       "2  un-zèbre-à-montmartre-paris-3   5.0   \n",
       "3         le-sens-unique-paris-2   1.0   \n",
       "4    la-maison-de-l-aubrac-paris   1.0   \n",
       "\n",
       "                                    review_sentences  \\\n",
       "0  [ a theif working amongst you,  myself, my sis...   \n",
       "1  [\"\"\"\"avoid at all costs\"\"\"\"\"\" this was an abso...   \n",
       "2  [\"$$$\" food but only at a \"$\" price,  will be ...   \n",
       "3  [\"a middle finger salute\" well i haven't had m...   \n",
       "4  [\"a true disappointment and a waste of money a...   \n",
       "\n",
       "                                           embedding  \\\n",
       "0  [[0.045603834, -0.017338777, 0.0012167644, 0.0...   \n",
       "1  [[0.019589972, 0.048924193, -0.015198772, -0.0...   \n",
       "2  [[0.016501594, 0.1083755, 0.014006043, -0.0319...   \n",
       "3  [[0.019542666, -0.017905522, 0.0037664298, 0.0...   \n",
       "4  [[0.036009785, 0.0029092361, 0.0132899275, 0.0...   \n",
       "\n",
       "                             review_sentences_trimed  \n",
       "0  [ a theif working amongst you,  myself, my sis...  \n",
       "1  [\"\"\"\"avoid at all costs\"\"\"\"\"\" this was an abso...  \n",
       "2  [\"$$$\" food but only at a \"$\" price,  will be ...  \n",
       "3  [\"a middle finger salute\" well i haven't had m...  \n",
       "4  [\"a true disappointment and a waste of money a...  "
      ]
     },
     "execution_count": 53,
     "metadata": {},
     "output_type": "execute_result"
    }
   ],
   "source": [
    "dataset.head()"
   ]
  },
  {
   "cell_type": "code",
   "execution_count": 113,
   "id": "59590774",
   "metadata": {
    "ExecuteTime": {
     "end_time": "2021-12-01T13:10:16.871292Z",
     "start_time": "2021-12-01T13:10:16.821533Z"
    }
   },
   "outputs": [
    {
     "data": {
      "text/plain": [
       "(56650, 6)"
      ]
     },
     "execution_count": 113,
     "metadata": {},
     "output_type": "execute_result"
    }
   ],
   "source": [
    "dataset.to_csv"
   ]
  },
  {
   "cell_type": "markdown",
   "id": "45d5a0a9",
   "metadata": {},
   "source": [
    "DATASET = grouped by review, full dataset , embedding associé\n",
    "\n",
    "SUMMARY = liste de restos qu'on show en result\n",
    "\n",
    "RESULTS = les reviews qui pop up en cosim \n",
    "\n"
   ]
  },
  {
   "cell_type": "code",
   "execution_count": 102,
   "id": "586e7131",
   "metadata": {
    "ExecuteTime": {
     "end_time": "2021-12-01T12:30:46.349379Z",
     "start_time": "2021-12-01T12:30:46.168151Z"
    }
   },
   "outputs": [],
   "source": [
    "\n",
    "\n",
    "results['is_sim'] = 1\n",
    "summary['is_in_summary'] = 1\n",
    "\n",
    "results_trimed=results.drop(columns=['alias',\n",
    "                                    'rate',\n",
    "                                     'review_sentences'\n",
    "                                    ])\n",
    "tmp_df = dataset.merge(results_trimed,on='review_clean',how='left')\n",
    "tmp_df['is_sim'].fillna(0,inplace=True)\n",
    "all_df = tmp_df.merge(summary,on='alias',how='left')\n",
    "all_df.fillna(0,inplace=True)\n"
   ]
  },
  {
   "cell_type": "code",
   "execution_count": 96,
   "id": "61e8a3a3",
   "metadata": {
    "ExecuteTime": {
     "end_time": "2021-12-01T12:08:05.797516Z",
     "start_time": "2021-12-01T12:08:05.723195Z"
    },
    "scrolled": true
   },
   "outputs": [
    {
     "data": {
      "text/plain": [
       "(56799, 23)"
      ]
     },
     "execution_count": 96,
     "metadata": {},
     "output_type": "execute_result"
    }
   ],
   "source": [
    "all_df = all_df.merge(summary,on='alias',how='left')"
   ]
  },
  {
   "cell_type": "code",
   "execution_count": 112,
   "id": "2a2e3da1",
   "metadata": {
    "ExecuteTime": {
     "end_time": "2021-12-01T12:44:56.453401Z",
     "start_time": "2021-12-01T12:44:56.419244Z"
    }
   },
   "outputs": [
    {
     "data": {
      "text/plain": [
       "392.0"
      ]
     },
     "execution_count": 112,
     "metadata": {},
     "output_type": "execute_result"
    }
   ],
   "source": [
    "### ASSEZ COOL COMME METRIC == donne une idée de la 'proximité des restos' par rapport à la query \n",
    "all_df[(all_df['is_in_summary']==1) & (all_df['is_sim']==1)]['nb_sentences'].sum()"
   ]
  },
  {
   "cell_type": "code",
   "execution_count": 107,
   "id": "0ab49312",
   "metadata": {
    "ExecuteTime": {
     "end_time": "2021-12-01T12:32:20.549871Z",
     "start_time": "2021-12-01T12:32:20.458333Z"
    }
   },
   "outputs": [
    {
     "data": {
      "text/html": [
       "<div>\n",
       "<style scoped>\n",
       "    .dataframe tbody tr th:only-of-type {\n",
       "        vertical-align: middle;\n",
       "    }\n",
       "\n",
       "    .dataframe tbody tr th {\n",
       "        vertical-align: top;\n",
       "    }\n",
       "\n",
       "    .dataframe thead th {\n",
       "        text-align: right;\n",
       "    }\n",
       "</style>\n",
       "<table border=\"1\" class=\"dataframe\">\n",
       "  <thead>\n",
       "    <tr style=\"text-align: right;\">\n",
       "      <th></th>\n",
       "      <th>review_clean</th>\n",
       "      <th>alias</th>\n",
       "      <th>rate</th>\n",
       "      <th>review_sentences</th>\n",
       "      <th>embedding</th>\n",
       "      <th>review_sentences_trimed</th>\n",
       "      <th>date</th>\n",
       "      <th>sim_s</th>\n",
       "      <th>rate_filtered</th>\n",
       "      <th>review_filtered</th>\n",
       "      <th>...</th>\n",
       "      <th>ratio</th>\n",
       "      <th>metric</th>\n",
       "      <th>is_sim</th>\n",
       "      <th>reviews</th>\n",
       "      <th>nb_sentences</th>\n",
       "      <th>nb_review</th>\n",
       "      <th>metric sim_ratio</th>\n",
       "      <th>sentences_pond</th>\n",
       "      <th>metric_pond</th>\n",
       "      <th>is_in_summary</th>\n",
       "    </tr>\n",
       "  </thead>\n",
       "  <tbody>\n",
       "    <tr>\n",
       "      <th>0</th>\n",
       "      <td>!!! a theif working amongst you!!! myself, my ...</td>\n",
       "      <td>café-daguerre-paris-2</td>\n",
       "      <td>1.0</td>\n",
       "      <td>[ a theif working amongst you,  myself, my sis...</td>\n",
       "      <td>[[0.045603834, -0.017338777, 0.0012167644, 0.0...</td>\n",
       "      <td>[ a theif working amongst you,  myself, my sis...</td>\n",
       "      <td>0</td>\n",
       "      <td>0.0</td>\n",
       "      <td>0.0</td>\n",
       "      <td>0.0</td>\n",
       "      <td>...</td>\n",
       "      <td>0.0</td>\n",
       "      <td>0.0</td>\n",
       "      <td>0.0</td>\n",
       "      <td>0</td>\n",
       "      <td>0.0</td>\n",
       "      <td>0.0</td>\n",
       "      <td>0.0</td>\n",
       "      <td>0.0</td>\n",
       "      <td>0.0</td>\n",
       "      <td>0.0</td>\n",
       "    </tr>\n",
       "    <tr>\n",
       "      <th>1</th>\n",
       "      <td>\"\"\"\"avoid at all costs\"\"\"\"\"\" this was an absol...</td>\n",
       "      <td>l-entrecôte-de-paris-paris-2</td>\n",
       "      <td>1.0</td>\n",
       "      <td>[\"\"\"\"avoid at all costs\"\"\"\"\"\" this was an abso...</td>\n",
       "      <td>[[0.019589972, 0.048924193, -0.015198772, -0.0...</td>\n",
       "      <td>[\"\"\"\"avoid at all costs\"\"\"\"\"\" this was an abso...</td>\n",
       "      <td>0</td>\n",
       "      <td>0.0</td>\n",
       "      <td>0.0</td>\n",
       "      <td>0.0</td>\n",
       "      <td>...</td>\n",
       "      <td>0.0</td>\n",
       "      <td>0.0</td>\n",
       "      <td>0.0</td>\n",
       "      <td>0</td>\n",
       "      <td>0.0</td>\n",
       "      <td>0.0</td>\n",
       "      <td>0.0</td>\n",
       "      <td>0.0</td>\n",
       "      <td>0.0</td>\n",
       "      <td>0.0</td>\n",
       "    </tr>\n",
       "    <tr>\n",
       "      <th>2</th>\n",
       "      <td>\"$$$\" food but only at a \"$\" price. will be co...</td>\n",
       "      <td>un-zèbre-à-montmartre-paris-3</td>\n",
       "      <td>5.0</td>\n",
       "      <td>[\"$$$\" food but only at a \"$\" price,  will be ...</td>\n",
       "      <td>[[0.016501594, 0.1083755, 0.014006043, -0.0319...</td>\n",
       "      <td>[\"$$$\" food but only at a \"$\" price,  will be ...</td>\n",
       "      <td>0</td>\n",
       "      <td>0.0</td>\n",
       "      <td>0.0</td>\n",
       "      <td>0.0</td>\n",
       "      <td>...</td>\n",
       "      <td>0.0</td>\n",
       "      <td>0.0</td>\n",
       "      <td>0.0</td>\n",
       "      <td>0</td>\n",
       "      <td>0.0</td>\n",
       "      <td>0.0</td>\n",
       "      <td>0.0</td>\n",
       "      <td>0.0</td>\n",
       "      <td>0.0</td>\n",
       "      <td>0.0</td>\n",
       "    </tr>\n",
       "    <tr>\n",
       "      <th>3</th>\n",
       "      <td>\"a middle finger salute\" well i haven't had ma...</td>\n",
       "      <td>le-sens-unique-paris-2</td>\n",
       "      <td>1.0</td>\n",
       "      <td>[\"a middle finger salute\" well i haven't had m...</td>\n",
       "      <td>[[0.019542666, -0.017905522, 0.0037664298, 0.0...</td>\n",
       "      <td>[\"a middle finger salute\" well i haven't had m...</td>\n",
       "      <td>0</td>\n",
       "      <td>0.0</td>\n",
       "      <td>0.0</td>\n",
       "      <td>0.0</td>\n",
       "      <td>...</td>\n",
       "      <td>0.0</td>\n",
       "      <td>0.0</td>\n",
       "      <td>0.0</td>\n",
       "      <td>0</td>\n",
       "      <td>0.0</td>\n",
       "      <td>0.0</td>\n",
       "      <td>0.0</td>\n",
       "      <td>0.0</td>\n",
       "      <td>0.0</td>\n",
       "      <td>0.0</td>\n",
       "    </tr>\n",
       "    <tr>\n",
       "      <th>4</th>\n",
       "      <td>\"a true disappointment and a waste of money an...</td>\n",
       "      <td>la-maison-de-l-aubrac-paris</td>\n",
       "      <td>1.0</td>\n",
       "      <td>[\"a true disappointment and a waste of money a...</td>\n",
       "      <td>[[0.036009785, 0.0029092361, 0.0132899275, 0.0...</td>\n",
       "      <td>[\"a true disappointment and a waste of money a...</td>\n",
       "      <td>0</td>\n",
       "      <td>0.0</td>\n",
       "      <td>0.0</td>\n",
       "      <td>0.0</td>\n",
       "      <td>...</td>\n",
       "      <td>0.0</td>\n",
       "      <td>0.0</td>\n",
       "      <td>0.0</td>\n",
       "      <td>0</td>\n",
       "      <td>0.0</td>\n",
       "      <td>0.0</td>\n",
       "      <td>0.0</td>\n",
       "      <td>0.0</td>\n",
       "      <td>0.0</td>\n",
       "      <td>0.0</td>\n",
       "    </tr>\n",
       "  </tbody>\n",
       "</table>\n",
       "<p>5 rows × 23 columns</p>\n",
       "</div>"
      ],
      "text/plain": [
       "                                        review_clean  \\\n",
       "0  !!! a theif working amongst you!!! myself, my ...   \n",
       "1  \"\"\"\"avoid at all costs\"\"\"\"\"\" this was an absol...   \n",
       "2  \"$$$\" food but only at a \"$\" price. will be co...   \n",
       "3  \"a middle finger salute\" well i haven't had ma...   \n",
       "4  \"a true disappointment and a waste of money an...   \n",
       "\n",
       "                           alias  rate  \\\n",
       "0          café-daguerre-paris-2   1.0   \n",
       "1   l-entrecôte-de-paris-paris-2   1.0   \n",
       "2  un-zèbre-à-montmartre-paris-3   5.0   \n",
       "3         le-sens-unique-paris-2   1.0   \n",
       "4    la-maison-de-l-aubrac-paris   1.0   \n",
       "\n",
       "                                    review_sentences  \\\n",
       "0  [ a theif working amongst you,  myself, my sis...   \n",
       "1  [\"\"\"\"avoid at all costs\"\"\"\"\"\" this was an abso...   \n",
       "2  [\"$$$\" food but only at a \"$\" price,  will be ...   \n",
       "3  [\"a middle finger salute\" well i haven't had m...   \n",
       "4  [\"a true disappointment and a waste of money a...   \n",
       "\n",
       "                                           embedding  \\\n",
       "0  [[0.045603834, -0.017338777, 0.0012167644, 0.0...   \n",
       "1  [[0.019589972, 0.048924193, -0.015198772, -0.0...   \n",
       "2  [[0.016501594, 0.1083755, 0.014006043, -0.0319...   \n",
       "3  [[0.019542666, -0.017905522, 0.0037664298, 0.0...   \n",
       "4  [[0.036009785, 0.0029092361, 0.0132899275, 0.0...   \n",
       "\n",
       "                             review_sentences_trimed date  sim_s  \\\n",
       "0  [ a theif working amongst you,  myself, my sis...    0    0.0   \n",
       "1  [\"\"\"\"avoid at all costs\"\"\"\"\"\" this was an abso...    0    0.0   \n",
       "2  [\"$$$\" food but only at a \"$\" price,  will be ...    0    0.0   \n",
       "3  [\"a middle finger salute\" well i haven't had m...    0    0.0   \n",
       "4  [\"a true disappointment and a waste of money a...    0    0.0   \n",
       "\n",
       "   rate_filtered  review_filtered  ...  ratio  metric  is_sim  reviews  \\\n",
       "0            0.0              0.0  ...    0.0     0.0     0.0        0   \n",
       "1            0.0              0.0  ...    0.0     0.0     0.0        0   \n",
       "2            0.0              0.0  ...    0.0     0.0     0.0        0   \n",
       "3            0.0              0.0  ...    0.0     0.0     0.0        0   \n",
       "4            0.0              0.0  ...    0.0     0.0     0.0        0   \n",
       "\n",
       "   nb_sentences  nb_review metric sim_ratio  sentences_pond  metric_pond  \\\n",
       "0           0.0        0.0              0.0             0.0          0.0   \n",
       "1           0.0        0.0              0.0             0.0          0.0   \n",
       "2           0.0        0.0              0.0             0.0          0.0   \n",
       "3           0.0        0.0              0.0             0.0          0.0   \n",
       "4           0.0        0.0              0.0             0.0          0.0   \n",
       "\n",
       "   is_in_summary  \n",
       "0            0.0  \n",
       "1            0.0  \n",
       "2            0.0  \n",
       "3            0.0  \n",
       "4            0.0  \n",
       "\n",
       "[5 rows x 23 columns]"
      ]
     },
     "execution_count": 107,
     "metadata": {},
     "output_type": "execute_result"
    }
   ],
   "source": [
    "all_df.head()"
   ]
  },
  {
   "cell_type": "code",
   "execution_count": 116,
   "id": "2a9bd03e",
   "metadata": {
    "ExecuteTime": {
     "end_time": "2021-12-01T13:14:46.128921Z",
     "start_time": "2021-12-01T13:14:46.015598Z"
    }
   },
   "outputs": [],
   "source": [
    "from fobokiller.heatmap import load_reviews_dataset"
   ]
  },
  {
   "cell_type": "code",
   "execution_count": 122,
   "id": "085012a7",
   "metadata": {
    "ExecuteTime": {
     "end_time": "2021-12-01T13:16:08.614059Z",
     "start_time": "2021-12-01T13:15:54.780168Z"
    }
   },
   "outputs": [
    {
     "name": "stdout",
     "output_type": "stream",
     "text": [
      "CPU times: user 7.55 s, sys: 4.44 s, total: 12 s\n",
      "Wall time: 13.7 s\n"
     ]
    }
   ],
   "source": [
    "%%time\n",
    "inch = load_reviews_dataset()"
   ]
  },
  {
   "cell_type": "code",
   "execution_count": 125,
   "id": "78ef0428",
   "metadata": {
    "ExecuteTime": {
     "end_time": "2021-12-01T13:16:22.891949Z",
     "start_time": "2021-12-01T13:16:22.751515Z"
    }
   },
   "outputs": [
    {
     "data": {
      "text/html": [
       "<div>\n",
       "<style scoped>\n",
       "    .dataframe tbody tr th:only-of-type {\n",
       "        vertical-align: middle;\n",
       "    }\n",
       "\n",
       "    .dataframe tbody tr th {\n",
       "        vertical-align: top;\n",
       "    }\n",
       "\n",
       "    .dataframe thead th {\n",
       "        text-align: right;\n",
       "    }\n",
       "</style>\n",
       "<table border=\"1\" class=\"dataframe\">\n",
       "  <thead>\n",
       "    <tr style=\"text-align: right;\">\n",
       "      <th></th>\n",
       "      <th>review_clean</th>\n",
       "      <th>alias</th>\n",
       "      <th>rate</th>\n",
       "      <th>review_sentences</th>\n",
       "      <th>embedding</th>\n",
       "      <th>review_sentences_trimed</th>\n",
       "    </tr>\n",
       "  </thead>\n",
       "  <tbody>\n",
       "    <tr>\n",
       "      <th>0</th>\n",
       "      <td>!!! a theif working amongst you!!! myself, my ...</td>\n",
       "      <td>café-daguerre-paris-2</td>\n",
       "      <td>1.0</td>\n",
       "      <td>[ a theif working amongst you,  myself, my sis...</td>\n",
       "      <td>[[0.045603834, -0.017338777, 0.0012167644, 0.0...</td>\n",
       "      <td>[ a theif working amongst you,  myself, my sis...</td>\n",
       "    </tr>\n",
       "    <tr>\n",
       "      <th>1</th>\n",
       "      <td>\"\"\"\"avoid at all costs\"\"\"\"\"\" this was an absol...</td>\n",
       "      <td>l-entrecôte-de-paris-paris-2</td>\n",
       "      <td>1.0</td>\n",
       "      <td>[\"\"\"\"avoid at all costs\"\"\"\"\"\" this was an abso...</td>\n",
       "      <td>[[0.019589972, 0.048924193, -0.015198772, -0.0...</td>\n",
       "      <td>[\"\"\"\"avoid at all costs\"\"\"\"\"\" this was an abso...</td>\n",
       "    </tr>\n",
       "    <tr>\n",
       "      <th>2</th>\n",
       "      <td>\"$$$\" food but only at a \"$\" price. will be co...</td>\n",
       "      <td>un-zèbre-à-montmartre-paris-3</td>\n",
       "      <td>5.0</td>\n",
       "      <td>[\"$$$\" food but only at a \"$\" price,  will be ...</td>\n",
       "      <td>[[0.016501594, 0.1083755, 0.014006043, -0.0319...</td>\n",
       "      <td>[\"$$$\" food but only at a \"$\" price,  will be ...</td>\n",
       "    </tr>\n",
       "    <tr>\n",
       "      <th>3</th>\n",
       "      <td>\"a middle finger salute\" well i haven't had ma...</td>\n",
       "      <td>le-sens-unique-paris-2</td>\n",
       "      <td>1.0</td>\n",
       "      <td>[\"a middle finger salute\" well i haven't had m...</td>\n",
       "      <td>[[0.019542666, -0.017905522, 0.0037664298, 0.0...</td>\n",
       "      <td>[\"a middle finger salute\" well i haven't had m...</td>\n",
       "    </tr>\n",
       "    <tr>\n",
       "      <th>4</th>\n",
       "      <td>\"a true disappointment and a waste of money an...</td>\n",
       "      <td>la-maison-de-l-aubrac-paris</td>\n",
       "      <td>1.0</td>\n",
       "      <td>[\"a true disappointment and a waste of money a...</td>\n",
       "      <td>[[0.036009785, 0.0029092361, 0.0132899275, 0.0...</td>\n",
       "      <td>[\"a true disappointment and a waste of money a...</td>\n",
       "    </tr>\n",
       "  </tbody>\n",
       "</table>\n",
       "</div>"
      ],
      "text/plain": [
       "                                        review_clean  \\\n",
       "0  !!! a theif working amongst you!!! myself, my ...   \n",
       "1  \"\"\"\"avoid at all costs\"\"\"\"\"\" this was an absol...   \n",
       "2  \"$$$\" food but only at a \"$\" price. will be co...   \n",
       "3  \"a middle finger salute\" well i haven't had ma...   \n",
       "4  \"a true disappointment and a waste of money an...   \n",
       "\n",
       "                           alias  rate  \\\n",
       "0          café-daguerre-paris-2   1.0   \n",
       "1   l-entrecôte-de-paris-paris-2   1.0   \n",
       "2  un-zèbre-à-montmartre-paris-3   5.0   \n",
       "3         le-sens-unique-paris-2   1.0   \n",
       "4    la-maison-de-l-aubrac-paris   1.0   \n",
       "\n",
       "                                    review_sentences  \\\n",
       "0  [ a theif working amongst you,  myself, my sis...   \n",
       "1  [\"\"\"\"avoid at all costs\"\"\"\"\"\" this was an abso...   \n",
       "2  [\"$$$\" food but only at a \"$\" price,  will be ...   \n",
       "3  [\"a middle finger salute\" well i haven't had m...   \n",
       "4  [\"a true disappointment and a waste of money a...   \n",
       "\n",
       "                                           embedding  \\\n",
       "0  [[0.045603834, -0.017338777, 0.0012167644, 0.0...   \n",
       "1  [[0.019589972, 0.048924193, -0.015198772, -0.0...   \n",
       "2  [[0.016501594, 0.1083755, 0.014006043, -0.0319...   \n",
       "3  [[0.019542666, -0.017905522, 0.0037664298, 0.0...   \n",
       "4  [[0.036009785, 0.0029092361, 0.0132899275, 0.0...   \n",
       "\n",
       "                             review_sentences_trimed  \n",
       "0  [ a theif working amongst you,  myself, my sis...  \n",
       "1  [\"\"\"\"avoid at all costs\"\"\"\"\"\" this was an abso...  \n",
       "2  [\"$$$\" food but only at a \"$\" price,  will be ...  \n",
       "3  [\"a middle finger salute\" well i haven't had m...  \n",
       "4  [\"a true disappointment and a waste of money a...  "
      ]
     },
     "execution_count": 125,
     "metadata": {},
     "output_type": "execute_result"
    }
   ],
   "source": [
    "inch.head()"
   ]
  },
  {
   "cell_type": "code",
   "execution_count": 126,
   "id": "14a2e915",
   "metadata": {
    "ExecuteTime": {
     "end_time": "2021-12-01T13:17:36.552259Z",
     "start_time": "2021-12-01T13:17:36.448356Z"
    }
   },
   "outputs": [],
   "source": [
    "from fobokiller.heatmap import creating_query_dataset"
   ]
  },
  {
   "cell_type": "code",
   "execution_count": 127,
   "id": "4ac9392e",
   "metadata": {
    "ExecuteTime": {
     "end_time": "2021-12-01T13:19:01.948740Z",
     "start_time": "2021-12-01T13:19:01.881830Z"
    }
   },
   "outputs": [],
   "source": [
    "query = 'I would like a vegan burger with music'\n",
    "n_prox = 3000\n",
    "n_best = 10 \n",
    "min_review = 10"
   ]
  },
  {
   "cell_type": "code",
   "execution_count": 128,
   "id": "25e3a4b8",
   "metadata": {
    "ExecuteTime": {
     "end_time": "2021-12-01T13:20:30.257193Z",
     "start_time": "2021-12-01T13:20:02.088696Z"
    }
   },
   "outputs": [
    {
     "name": "stdout",
     "output_type": "stream",
     "text": [
      "CPU times: user 11 s, sys: 14.1 s, total: 25.1 s\n",
      "Wall time: 28.1 s\n"
     ]
    }
   ],
   "source": [
    "%%time \n",
    "mashallah = creating_query_dataset(query = query,n_best=n_best,n_prox=n_prox,min_review=min_review)"
   ]
  },
  {
   "cell_type": "code",
   "execution_count": 131,
   "id": "00a4f8b9",
   "metadata": {
    "ExecuteTime": {
     "end_time": "2021-12-01T14:06:25.627975Z",
     "start_time": "2021-12-01T14:06:25.403419Z"
    }
   },
   "outputs": [
    {
     "data": {
      "text/html": [
       "<div>\n",
       "<style scoped>\n",
       "    .dataframe tbody tr th:only-of-type {\n",
       "        vertical-align: middle;\n",
       "    }\n",
       "\n",
       "    .dataframe tbody tr th {\n",
       "        vertical-align: top;\n",
       "    }\n",
       "\n",
       "    .dataframe thead th {\n",
       "        text-align: right;\n",
       "    }\n",
       "</style>\n",
       "<table border=\"1\" class=\"dataframe\">\n",
       "  <thead>\n",
       "    <tr style=\"text-align: right;\">\n",
       "      <th></th>\n",
       "      <th>review_clean</th>\n",
       "      <th>alias</th>\n",
       "      <th>rate</th>\n",
       "      <th>review_sentences</th>\n",
       "      <th>embedding</th>\n",
       "      <th>review_sentences_trimed</th>\n",
       "      <th>date</th>\n",
       "      <th>sim_s</th>\n",
       "      <th>rate_filtered</th>\n",
       "      <th>review_filtered</th>\n",
       "      <th>...</th>\n",
       "      <th>ratio</th>\n",
       "      <th>metric</th>\n",
       "      <th>is_sim</th>\n",
       "      <th>reviews</th>\n",
       "      <th>nb_sentences</th>\n",
       "      <th>nb_review</th>\n",
       "      <th>metric sim_ratio</th>\n",
       "      <th>sentences_pond</th>\n",
       "      <th>metric_pond</th>\n",
       "      <th>is_in_summary</th>\n",
       "    </tr>\n",
       "  </thead>\n",
       "  <tbody>\n",
       "    <tr>\n",
       "      <th>0</th>\n",
       "      <td>!!! a theif working amongst you!!! myself, my ...</td>\n",
       "      <td>café-daguerre-paris-2</td>\n",
       "      <td>1.0</td>\n",
       "      <td>[ a theif working amongst you,  myself, my sis...</td>\n",
       "      <td>[[0.045603834, -0.017338777, 0.0012167644, 0.0...</td>\n",
       "      <td>[ a theif working amongst you,  myself, my sis...</td>\n",
       "      <td>0</td>\n",
       "      <td>0.0</td>\n",
       "      <td>0.0</td>\n",
       "      <td>0.0</td>\n",
       "      <td>...</td>\n",
       "      <td>0.0</td>\n",
       "      <td>0.0</td>\n",
       "      <td>0.0</td>\n",
       "      <td>0</td>\n",
       "      <td>0.0</td>\n",
       "      <td>0.0</td>\n",
       "      <td>0.0</td>\n",
       "      <td>0.0</td>\n",
       "      <td>0.0</td>\n",
       "      <td>0.0</td>\n",
       "    </tr>\n",
       "    <tr>\n",
       "      <th>1</th>\n",
       "      <td>\"\"\"\"avoid at all costs\"\"\"\"\"\" this was an absol...</td>\n",
       "      <td>l-entrecôte-de-paris-paris-2</td>\n",
       "      <td>1.0</td>\n",
       "      <td>[\"\"\"\"avoid at all costs\"\"\"\"\"\" this was an abso...</td>\n",
       "      <td>[[0.019589972, 0.048924193, -0.015198772, -0.0...</td>\n",
       "      <td>[\"\"\"\"avoid at all costs\"\"\"\"\"\" this was an abso...</td>\n",
       "      <td>0</td>\n",
       "      <td>0.0</td>\n",
       "      <td>0.0</td>\n",
       "      <td>0.0</td>\n",
       "      <td>...</td>\n",
       "      <td>0.0</td>\n",
       "      <td>0.0</td>\n",
       "      <td>0.0</td>\n",
       "      <td>0</td>\n",
       "      <td>0.0</td>\n",
       "      <td>0.0</td>\n",
       "      <td>0.0</td>\n",
       "      <td>0.0</td>\n",
       "      <td>0.0</td>\n",
       "      <td>0.0</td>\n",
       "    </tr>\n",
       "    <tr>\n",
       "      <th>2</th>\n",
       "      <td>\"$$$\" food but only at a \"$\" price. will be co...</td>\n",
       "      <td>un-zèbre-à-montmartre-paris-3</td>\n",
       "      <td>5.0</td>\n",
       "      <td>[\"$$$\" food but only at a \"$\" price,  will be ...</td>\n",
       "      <td>[[0.016501594, 0.1083755, 0.014006043, -0.0319...</td>\n",
       "      <td>[\"$$$\" food but only at a \"$\" price,  will be ...</td>\n",
       "      <td>0</td>\n",
       "      <td>0.0</td>\n",
       "      <td>0.0</td>\n",
       "      <td>0.0</td>\n",
       "      <td>...</td>\n",
       "      <td>0.0</td>\n",
       "      <td>0.0</td>\n",
       "      <td>0.0</td>\n",
       "      <td>0</td>\n",
       "      <td>0.0</td>\n",
       "      <td>0.0</td>\n",
       "      <td>0.0</td>\n",
       "      <td>0.0</td>\n",
       "      <td>0.0</td>\n",
       "      <td>0.0</td>\n",
       "    </tr>\n",
       "    <tr>\n",
       "      <th>3</th>\n",
       "      <td>\"a middle finger salute\" well i haven't had ma...</td>\n",
       "      <td>le-sens-unique-paris-2</td>\n",
       "      <td>1.0</td>\n",
       "      <td>[\"a middle finger salute\" well i haven't had m...</td>\n",
       "      <td>[[0.019542666, -0.017905522, 0.0037664298, 0.0...</td>\n",
       "      <td>[\"a middle finger salute\" well i haven't had m...</td>\n",
       "      <td>0</td>\n",
       "      <td>0.0</td>\n",
       "      <td>0.0</td>\n",
       "      <td>0.0</td>\n",
       "      <td>...</td>\n",
       "      <td>0.0</td>\n",
       "      <td>0.0</td>\n",
       "      <td>0.0</td>\n",
       "      <td>0</td>\n",
       "      <td>0.0</td>\n",
       "      <td>0.0</td>\n",
       "      <td>0.0</td>\n",
       "      <td>0.0</td>\n",
       "      <td>0.0</td>\n",
       "      <td>0.0</td>\n",
       "    </tr>\n",
       "    <tr>\n",
       "      <th>4</th>\n",
       "      <td>\"a true disappointment and a waste of money an...</td>\n",
       "      <td>la-maison-de-l-aubrac-paris</td>\n",
       "      <td>1.0</td>\n",
       "      <td>[\"a true disappointment and a waste of money a...</td>\n",
       "      <td>[[0.036009785, 0.0029092361, 0.0132899275, 0.0...</td>\n",
       "      <td>[\"a true disappointment and a waste of money a...</td>\n",
       "      <td>0</td>\n",
       "      <td>0.0</td>\n",
       "      <td>0.0</td>\n",
       "      <td>0.0</td>\n",
       "      <td>...</td>\n",
       "      <td>0.0</td>\n",
       "      <td>0.0</td>\n",
       "      <td>0.0</td>\n",
       "      <td>0</td>\n",
       "      <td>0.0</td>\n",
       "      <td>0.0</td>\n",
       "      <td>0.0</td>\n",
       "      <td>0.0</td>\n",
       "      <td>0.0</td>\n",
       "      <td>0.0</td>\n",
       "    </tr>\n",
       "  </tbody>\n",
       "</table>\n",
       "<p>5 rows × 23 columns</p>\n",
       "</div>"
      ],
      "text/plain": [
       "                                        review_clean  \\\n",
       "0  !!! a theif working amongst you!!! myself, my ...   \n",
       "1  \"\"\"\"avoid at all costs\"\"\"\"\"\" this was an absol...   \n",
       "2  \"$$$\" food but only at a \"$\" price. will be co...   \n",
       "3  \"a middle finger salute\" well i haven't had ma...   \n",
       "4  \"a true disappointment and a waste of money an...   \n",
       "\n",
       "                           alias  rate  \\\n",
       "0          café-daguerre-paris-2   1.0   \n",
       "1   l-entrecôte-de-paris-paris-2   1.0   \n",
       "2  un-zèbre-à-montmartre-paris-3   5.0   \n",
       "3         le-sens-unique-paris-2   1.0   \n",
       "4    la-maison-de-l-aubrac-paris   1.0   \n",
       "\n",
       "                                    review_sentences  \\\n",
       "0  [ a theif working amongst you,  myself, my sis...   \n",
       "1  [\"\"\"\"avoid at all costs\"\"\"\"\"\" this was an abso...   \n",
       "2  [\"$$$\" food but only at a \"$\" price,  will be ...   \n",
       "3  [\"a middle finger salute\" well i haven't had m...   \n",
       "4  [\"a true disappointment and a waste of money a...   \n",
       "\n",
       "                                           embedding  \\\n",
       "0  [[0.045603834, -0.017338777, 0.0012167644, 0.0...   \n",
       "1  [[0.019589972, 0.048924193, -0.015198772, -0.0...   \n",
       "2  [[0.016501594, 0.1083755, 0.014006043, -0.0319...   \n",
       "3  [[0.019542666, -0.017905522, 0.0037664298, 0.0...   \n",
       "4  [[0.036009785, 0.0029092361, 0.0132899275, 0.0...   \n",
       "\n",
       "                             review_sentences_trimed date  sim_s  \\\n",
       "0  [ a theif working amongst you,  myself, my sis...    0    0.0   \n",
       "1  [\"\"\"\"avoid at all costs\"\"\"\"\"\" this was an abso...    0    0.0   \n",
       "2  [\"$$$\" food but only at a \"$\" price,  will be ...    0    0.0   \n",
       "3  [\"a middle finger salute\" well i haven't had m...    0    0.0   \n",
       "4  [\"a true disappointment and a waste of money a...    0    0.0   \n",
       "\n",
       "   rate_filtered  review_filtered  ...  ratio  metric  is_sim  reviews  \\\n",
       "0            0.0              0.0  ...    0.0     0.0     0.0        0   \n",
       "1            0.0              0.0  ...    0.0     0.0     0.0        0   \n",
       "2            0.0              0.0  ...    0.0     0.0     0.0        0   \n",
       "3            0.0              0.0  ...    0.0     0.0     0.0        0   \n",
       "4            0.0              0.0  ...    0.0     0.0     0.0        0   \n",
       "\n",
       "   nb_sentences  nb_review metric sim_ratio  sentences_pond  metric_pond  \\\n",
       "0           0.0        0.0              0.0             0.0          0.0   \n",
       "1           0.0        0.0              0.0             0.0          0.0   \n",
       "2           0.0        0.0              0.0             0.0          0.0   \n",
       "3           0.0        0.0              0.0             0.0          0.0   \n",
       "4           0.0        0.0              0.0             0.0          0.0   \n",
       "\n",
       "   is_in_summary  \n",
       "0            0.0  \n",
       "1            0.0  \n",
       "2            0.0  \n",
       "3            0.0  \n",
       "4            0.0  \n",
       "\n",
       "[5 rows x 23 columns]"
      ]
     },
     "execution_count": 131,
     "metadata": {},
     "output_type": "execute_result"
    }
   ],
   "source": [
    "mashallah.head()"
   ]
  },
  {
   "cell_type": "code",
   "execution_count": 130,
   "id": "1b5667af",
   "metadata": {
    "ExecuteTime": {
     "end_time": "2021-12-01T13:34:49.710910Z",
     "start_time": "2021-12-01T13:34:49.626617Z"
    }
   },
   "outputs": [
    {
     "data": {
      "text/plain": [
       "(57159, 23)"
      ]
     },
     "execution_count": 130,
     "metadata": {},
     "output_type": "execute_result"
    }
   ],
   "source": [
    "mashallah.shape"
   ]
  },
  {
   "cell_type": "code",
   "execution_count": 132,
   "id": "75b69da8",
   "metadata": {
    "ExecuteTime": {
     "end_time": "2021-12-01T15:10:59.276555Z",
     "start_time": "2021-12-01T15:10:58.903426Z"
    }
   },
   "outputs": [
    {
     "data": {
      "text/plain": [
       "Index(['review_clean', 'alias', 'rate', 'review_sentences', 'embedding',\n",
       "       'review_sentences_trimed', 'date', 'sim_s', 'rate_filtered',\n",
       "       'review_filtered', 'sim_r', 'rate_all', 'review_all', 'ratio', 'metric',\n",
       "       'is_sim', 'reviews', 'nb_sentences', 'nb_review', 'metric sim_ratio',\n",
       "       'sentences_pond', 'metric_pond', 'is_in_summary'],\n",
       "      dtype='object')"
      ]
     },
     "execution_count": 132,
     "metadata": {},
     "output_type": "execute_result"
    }
   ],
   "source": [
    "mashallah.columns"
   ]
  },
  {
   "cell_type": "code",
   "execution_count": 137,
   "id": "bd9cdd06",
   "metadata": {
    "ExecuteTime": {
     "end_time": "2021-12-01T15:17:41.087759Z",
     "start_time": "2021-12-01T15:17:40.971350Z"
    }
   },
   "outputs": [],
   "source": [
    "summary_reconstructed = mashallah[mashallah['is_in_summary']==1].groupby('alias').agg({\n",
    "    'review_clean':list,\n",
    "    'nb_sentences':'mean',\n",
    "    'nb_review':'mean',\n",
    "    'metric sim_ratio':'mean',\n",
    "    'sentences_pond':'mean',\n",
    "    'metric_pond':'mean'\n",
    "})"
   ]
  },
  {
   "cell_type": "code",
   "execution_count": 138,
   "id": "bc3bd595",
   "metadata": {
    "ExecuteTime": {
     "end_time": "2021-12-01T15:17:45.421916Z",
     "start_time": "2021-12-01T15:17:45.303454Z"
    }
   },
   "outputs": [
    {
     "data": {
      "text/html": [
       "<div>\n",
       "<style scoped>\n",
       "    .dataframe tbody tr th:only-of-type {\n",
       "        vertical-align: middle;\n",
       "    }\n",
       "\n",
       "    .dataframe tbody tr th {\n",
       "        vertical-align: top;\n",
       "    }\n",
       "\n",
       "    .dataframe thead th {\n",
       "        text-align: right;\n",
       "    }\n",
       "</style>\n",
       "<table border=\"1\" class=\"dataframe\">\n",
       "  <thead>\n",
       "    <tr style=\"text-align: right;\">\n",
       "      <th></th>\n",
       "      <th>review_clean</th>\n",
       "      <th>nb_sentences</th>\n",
       "      <th>nb_review</th>\n",
       "      <th>metric sim_ratio</th>\n",
       "      <th>sentences_pond</th>\n",
       "      <th>metric_pond</th>\n",
       "    </tr>\n",
       "    <tr>\n",
       "      <th>alias</th>\n",
       "      <th></th>\n",
       "      <th></th>\n",
       "      <th></th>\n",
       "      <th></th>\n",
       "      <th></th>\n",
       "      <th></th>\n",
       "    </tr>\n",
       "  </thead>\n",
       "  <tbody>\n",
       "    <tr>\n",
       "      <th>blend-paris-26</th>\n",
       "      <td>[\"i still eat a burger at a counter with ketch...</td>\n",
       "      <td>74.0</td>\n",
       "      <td>48.0</td>\n",
       "      <td>0.280754</td>\n",
       "      <td>0.148</td>\n",
       "      <td>0.041552</td>\n",
       "    </tr>\n",
       "    <tr>\n",
       "      <th>blend-paris-27</th>\n",
       "      <td>[best, most flavorful burger i've ever had in ...</td>\n",
       "      <td>14.0</td>\n",
       "      <td>8.0</td>\n",
       "      <td>0.273000</td>\n",
       "      <td>0.028</td>\n",
       "      <td>0.007644</td>\n",
       "    </tr>\n",
       "    <tr>\n",
       "      <th>burger-et-fils-paris</th>\n",
       "      <td>[amazing burgers! well worth what you pay. the...</td>\n",
       "      <td>16.0</td>\n",
       "      <td>12.0</td>\n",
       "      <td>0.269706</td>\n",
       "      <td>0.032</td>\n",
       "      <td>0.008631</td>\n",
       "    </tr>\n",
       "    <tr>\n",
       "      <th>east-side-burgers-paris</th>\n",
       "      <td>[amazing burgers! really nice and helpful staf...</td>\n",
       "      <td>37.0</td>\n",
       "      <td>17.0</td>\n",
       "      <td>0.447103</td>\n",
       "      <td>0.074</td>\n",
       "      <td>0.033086</td>\n",
       "    </tr>\n",
       "    <tr>\n",
       "      <th>frog-burger-paris-4</th>\n",
       "      <td>[absolutely impressed by the service of the en...</td>\n",
       "      <td>10.0</td>\n",
       "      <td>8.0</td>\n",
       "      <td>0.260904</td>\n",
       "      <td>0.020</td>\n",
       "      <td>0.005218</td>\n",
       "    </tr>\n",
       "    <tr>\n",
       "      <th>hank-paris-2</th>\n",
       "      <td>[% vegan. there are choices of burgers, extra ...</td>\n",
       "      <td>222.0</td>\n",
       "      <td>122.0</td>\n",
       "      <td>0.413715</td>\n",
       "      <td>0.444</td>\n",
       "      <td>0.183690</td>\n",
       "    </tr>\n",
       "    <tr>\n",
       "      <th>le-camion-qui-fume-paris</th>\n",
       "      <td>[best burger in paris to date. delicious but a...</td>\n",
       "      <td>21.0</td>\n",
       "      <td>13.0</td>\n",
       "      <td>0.268700</td>\n",
       "      <td>0.042</td>\n",
       "      <td>0.011285</td>\n",
       "    </tr>\n",
       "    <tr>\n",
       "      <th>le-potager-du-marais-paris</th>\n",
       "      <td>[a pretty good respite from luscious (and hard...</td>\n",
       "      <td>78.0</td>\n",
       "      <td>54.0</td>\n",
       "      <td>0.260623</td>\n",
       "      <td>0.156</td>\n",
       "      <td>0.040657</td>\n",
       "    </tr>\n",
       "    <tr>\n",
       "      <th>le-ruisseau-paris-2</th>\n",
       "      <td>[best burger i have had in a long time!! the s...</td>\n",
       "      <td>16.0</td>\n",
       "      <td>11.0</td>\n",
       "      <td>0.394843</td>\n",
       "      <td>0.032</td>\n",
       "      <td>0.012635</td>\n",
       "    </tr>\n",
       "    <tr>\n",
       "      <th>starvin-joe-paris</th>\n",
       "      <td>[definitely one of the better burgers i've had...</td>\n",
       "      <td>12.0</td>\n",
       "      <td>7.0</td>\n",
       "      <td>0.270481</td>\n",
       "      <td>0.024</td>\n",
       "      <td>0.006492</td>\n",
       "    </tr>\n",
       "  </tbody>\n",
       "</table>\n",
       "</div>"
      ],
      "text/plain": [
       "                                                                 review_clean  \\\n",
       "alias                                                                           \n",
       "blend-paris-26              [\"i still eat a burger at a counter with ketch...   \n",
       "blend-paris-27              [best, most flavorful burger i've ever had in ...   \n",
       "burger-et-fils-paris        [amazing burgers! well worth what you pay. the...   \n",
       "east-side-burgers-paris     [amazing burgers! really nice and helpful staf...   \n",
       "frog-burger-paris-4         [absolutely impressed by the service of the en...   \n",
       "hank-paris-2                [% vegan. there are choices of burgers, extra ...   \n",
       "le-camion-qui-fume-paris    [best burger in paris to date. delicious but a...   \n",
       "le-potager-du-marais-paris  [a pretty good respite from luscious (and hard...   \n",
       "le-ruisseau-paris-2         [best burger i have had in a long time!! the s...   \n",
       "starvin-joe-paris           [definitely one of the better burgers i've had...   \n",
       "\n",
       "                            nb_sentences  nb_review  metric sim_ratio  \\\n",
       "alias                                                                   \n",
       "blend-paris-26                      74.0       48.0          0.280754   \n",
       "blend-paris-27                      14.0        8.0          0.273000   \n",
       "burger-et-fils-paris                16.0       12.0          0.269706   \n",
       "east-side-burgers-paris             37.0       17.0          0.447103   \n",
       "frog-burger-paris-4                 10.0        8.0          0.260904   \n",
       "hank-paris-2                       222.0      122.0          0.413715   \n",
       "le-camion-qui-fume-paris            21.0       13.0          0.268700   \n",
       "le-potager-du-marais-paris          78.0       54.0          0.260623   \n",
       "le-ruisseau-paris-2                 16.0       11.0          0.394843   \n",
       "starvin-joe-paris                   12.0        7.0          0.270481   \n",
       "\n",
       "                            sentences_pond  metric_pond  \n",
       "alias                                                    \n",
       "blend-paris-26                       0.148     0.041552  \n",
       "blend-paris-27                       0.028     0.007644  \n",
       "burger-et-fils-paris                 0.032     0.008631  \n",
       "east-side-burgers-paris              0.074     0.033086  \n",
       "frog-burger-paris-4                  0.020     0.005218  \n",
       "hank-paris-2                         0.444     0.183690  \n",
       "le-camion-qui-fume-paris             0.042     0.011285  \n",
       "le-potager-du-marais-paris           0.156     0.040657  \n",
       "le-ruisseau-paris-2                  0.032     0.012635  \n",
       "starvin-joe-paris                    0.024     0.006492  "
      ]
     },
     "execution_count": 138,
     "metadata": {},
     "output_type": "execute_result"
    }
   ],
   "source": [
    "summary_reconstructed"
   ]
  },
  {
   "cell_type": "code",
   "execution_count": null,
   "id": "f7958650",
   "metadata": {},
   "outputs": [],
   "source": []
  }
 ],
 "metadata": {
  "kernelspec": {
   "display_name": "Python 3 (ipykernel)",
   "language": "python",
   "name": "python3"
  },
  "language_info": {
   "codemirror_mode": {
    "name": "ipython",
    "version": 3
   },
   "file_extension": ".py",
   "mimetype": "text/x-python",
   "name": "python",
   "nbconvert_exporter": "python",
   "pygments_lexer": "ipython3",
   "version": "3.8.12"
  },
  "toc": {
   "base_numbering": 1,
   "nav_menu": {},
   "number_sections": true,
   "sideBar": true,
   "skip_h1_title": false,
   "title_cell": "Table of Contents",
   "title_sidebar": "Contents",
   "toc_cell": false,
   "toc_position": {},
   "toc_section_display": true,
   "toc_window_display": false
  }
 },
 "nbformat": 4,
 "nbformat_minor": 5
}
