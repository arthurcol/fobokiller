{
 "cells": [
  {
   "cell_type": "code",
   "execution_count": 69,
   "id": "658bceb9",
   "metadata": {
    "ExecuteTime": {
     "end_time": "2021-11-30T13:27:52.454692Z",
     "start_time": "2021-11-30T13:27:51.515535Z"
    }
   },
   "outputs": [],
   "source": [
    "import pandas as pd \n",
    "import numpy as np\n",
    "import matplotlib.pyplot as plt\n",
    "import re"
   ]
  },
  {
   "cell_type": "code",
   "execution_count": 61,
   "id": "34d70828",
   "metadata": {
    "ExecuteTime": {
     "end_time": "2021-11-30T13:27:03.594211Z",
     "start_time": "2021-11-30T13:27:02.832806Z"
    }
   },
   "outputs": [],
   "source": [
    "df = pd.read_csv('../fobokiller/data/scrapping_cleaned_top2vec.csv',index_col=0)"
   ]
  },
  {
   "cell_type": "code",
   "execution_count": 62,
   "id": "10588a5d",
   "metadata": {
    "ExecuteTime": {
     "end_time": "2021-11-30T13:27:05.468202Z",
     "start_time": "2021-11-30T13:27:05.463362Z"
    }
   },
   "outputs": [
    {
     "data": {
      "text/plain": [
       "(56744, 5)"
      ]
     },
     "execution_count": 62,
     "metadata": {},
     "output_type": "execute_result"
    }
   ],
   "source": [
    "df.shape"
   ]
  },
  {
   "cell_type": "code",
   "execution_count": 63,
   "id": "8ffa96e2",
   "metadata": {
    "ExecuteTime": {
     "end_time": "2021-11-30T13:27:06.046668Z",
     "start_time": "2021-11-30T13:27:06.036587Z"
    }
   },
   "outputs": [
    {
     "data": {
      "text/html": [
       "<div>\n",
       "<style scoped>\n",
       "    .dataframe tbody tr th:only-of-type {\n",
       "        vertical-align: middle;\n",
       "    }\n",
       "\n",
       "    .dataframe tbody tr th {\n",
       "        vertical-align: top;\n",
       "    }\n",
       "\n",
       "    .dataframe thead th {\n",
       "        text-align: right;\n",
       "    }\n",
       "</style>\n",
       "<table border=\"1\" class=\"dataframe\">\n",
       "  <thead>\n",
       "    <tr style=\"text-align: right;\">\n",
       "      <th></th>\n",
       "      <th>alias</th>\n",
       "      <th>date</th>\n",
       "      <th>rate</th>\n",
       "      <th>review</th>\n",
       "      <th>review_clean</th>\n",
       "    </tr>\n",
       "  </thead>\n",
       "  <tbody>\n",
       "    <tr>\n",
       "      <th>0</th>\n",
       "      <td>le-sud-paris</td>\n",
       "      <td>2018-11-20</td>\n",
       "      <td>5</td>\n",
       "      <td>Ed W.\\nElite 2021\\nMiami, FL\\n259\\n562\\n4232\\n...</td>\n",
       "      <td>this is not your traditional parisian cooking ...</td>\n",
       "    </tr>\n",
       "    <tr>\n",
       "      <th>1</th>\n",
       "      <td>le-sud-paris</td>\n",
       "      <td>2021-07-04</td>\n",
       "      <td>2</td>\n",
       "      <td>Jaki F.\\nElite 2021\\nSignal Hill, CA\\n358\\n270...</td>\n",
       "      <td>i'm not sure what is happening at this restaur...</td>\n",
       "    </tr>\n",
       "    <tr>\n",
       "      <th>2</th>\n",
       "      <td>le-sud-paris</td>\n",
       "      <td>2018-06-20</td>\n",
       "      <td>3</td>\n",
       "      <td>Jen S.\\nElite 2021\\nBuffalo, NY\\n71\\n322\\n809\\...</td>\n",
       "      <td>ambience is enticing, but at the end of the da...</td>\n",
       "    </tr>\n",
       "    <tr>\n",
       "      <th>3</th>\n",
       "      <td>le-sud-paris</td>\n",
       "      <td>2015-09-28</td>\n",
       "      <td>3</td>\n",
       "      <td>Sam S.\\nElite 2021\\nMunich, Germany\\n2133\\n255...</td>\n",
       "      <td>ambience here is star but in my opinion this i...</td>\n",
       "    </tr>\n",
       "    <tr>\n",
       "      <th>4</th>\n",
       "      <td>le-sud-paris</td>\n",
       "      <td>2019-08-08</td>\n",
       "      <td>1</td>\n",
       "      <td>Fahad A.\\nLos Angeles, CA\\n0\\n10\\n15\\n8/8/2019...</td>\n",
       "      <td>worst restaurant ever! the servers were not th...</td>\n",
       "    </tr>\n",
       "  </tbody>\n",
       "</table>\n",
       "</div>"
      ],
      "text/plain": [
       "          alias        date  rate  \\\n",
       "0  le-sud-paris  2018-11-20     5   \n",
       "1  le-sud-paris  2021-07-04     2   \n",
       "2  le-sud-paris  2018-06-20     3   \n",
       "3  le-sud-paris  2015-09-28     3   \n",
       "4  le-sud-paris  2019-08-08     1   \n",
       "\n",
       "                                              review  \\\n",
       "0  Ed W.\\nElite 2021\\nMiami, FL\\n259\\n562\\n4232\\n...   \n",
       "1  Jaki F.\\nElite 2021\\nSignal Hill, CA\\n358\\n270...   \n",
       "2  Jen S.\\nElite 2021\\nBuffalo, NY\\n71\\n322\\n809\\...   \n",
       "3  Sam S.\\nElite 2021\\nMunich, Germany\\n2133\\n255...   \n",
       "4  Fahad A.\\nLos Angeles, CA\\n0\\n10\\n15\\n8/8/2019...   \n",
       "\n",
       "                                        review_clean  \n",
       "0  this is not your traditional parisian cooking ...  \n",
       "1  i'm not sure what is happening at this restaur...  \n",
       "2  ambience is enticing, but at the end of the da...  \n",
       "3  ambience here is star but in my opinion this i...  \n",
       "4  worst restaurant ever! the servers were not th...  "
      ]
     },
     "execution_count": 63,
     "metadata": {},
     "output_type": "execute_result"
    }
   ],
   "source": [
    "df.head()"
   ]
  },
  {
   "cell_type": "code",
   "execution_count": 65,
   "id": "3ae1a1e4",
   "metadata": {
    "ExecuteTime": {
     "end_time": "2021-11-30T13:27:14.606717Z",
     "start_time": "2021-11-30T13:27:14.603111Z"
    }
   },
   "outputs": [],
   "source": [
    "def count_splitter(text):\n",
    "    tmp = re.split('[.?!]',text)\n",
    "    tmp=filter(None, tmp)\n",
    "    return len(list(tmp))"
   ]
  },
  {
   "cell_type": "code",
   "execution_count": 66,
   "id": "639bc358",
   "metadata": {
    "ExecuteTime": {
     "end_time": "2021-11-30T13:27:16.307269Z",
     "start_time": "2021-11-30T13:27:15.925927Z"
    }
   },
   "outputs": [],
   "source": [
    "df['review_clean']=df['review_clean'].astype(str)\n",
    "df['review_sentences_count'] = df['review_clean'].apply(count_splitter)"
   ]
  },
  {
   "cell_type": "code",
   "execution_count": 67,
   "id": "31c5fb01",
   "metadata": {
    "ExecuteTime": {
     "end_time": "2021-11-30T13:27:19.290894Z",
     "start_time": "2021-11-30T13:27:19.279939Z"
    }
   },
   "outputs": [
    {
     "data": {
      "text/html": [
       "<div>\n",
       "<style scoped>\n",
       "    .dataframe tbody tr th:only-of-type {\n",
       "        vertical-align: middle;\n",
       "    }\n",
       "\n",
       "    .dataframe tbody tr th {\n",
       "        vertical-align: top;\n",
       "    }\n",
       "\n",
       "    .dataframe thead th {\n",
       "        text-align: right;\n",
       "    }\n",
       "</style>\n",
       "<table border=\"1\" class=\"dataframe\">\n",
       "  <thead>\n",
       "    <tr style=\"text-align: right;\">\n",
       "      <th></th>\n",
       "      <th>alias</th>\n",
       "      <th>date</th>\n",
       "      <th>rate</th>\n",
       "      <th>review</th>\n",
       "      <th>review_clean</th>\n",
       "      <th>review_sentences_count</th>\n",
       "    </tr>\n",
       "  </thead>\n",
       "  <tbody>\n",
       "    <tr>\n",
       "      <th>0</th>\n",
       "      <td>le-sud-paris</td>\n",
       "      <td>2018-11-20</td>\n",
       "      <td>5</td>\n",
       "      <td>Ed W.\\nElite 2021\\nMiami, FL\\n259\\n562\\n4232\\n...</td>\n",
       "      <td>this is not your traditional parisian cooking ...</td>\n",
       "      <td>18</td>\n",
       "    </tr>\n",
       "    <tr>\n",
       "      <th>1</th>\n",
       "      <td>le-sud-paris</td>\n",
       "      <td>2021-07-04</td>\n",
       "      <td>2</td>\n",
       "      <td>Jaki F.\\nElite 2021\\nSignal Hill, CA\\n358\\n270...</td>\n",
       "      <td>i'm not sure what is happening at this restaur...</td>\n",
       "      <td>10</td>\n",
       "    </tr>\n",
       "    <tr>\n",
       "      <th>2</th>\n",
       "      <td>le-sud-paris</td>\n",
       "      <td>2018-06-20</td>\n",
       "      <td>3</td>\n",
       "      <td>Jen S.\\nElite 2021\\nBuffalo, NY\\n71\\n322\\n809\\...</td>\n",
       "      <td>ambience is enticing, but at the end of the da...</td>\n",
       "      <td>10</td>\n",
       "    </tr>\n",
       "    <tr>\n",
       "      <th>3</th>\n",
       "      <td>le-sud-paris</td>\n",
       "      <td>2015-09-28</td>\n",
       "      <td>3</td>\n",
       "      <td>Sam S.\\nElite 2021\\nMunich, Germany\\n2133\\n255...</td>\n",
       "      <td>ambience here is star but in my opinion this i...</td>\n",
       "      <td>19</td>\n",
       "    </tr>\n",
       "    <tr>\n",
       "      <th>4</th>\n",
       "      <td>le-sud-paris</td>\n",
       "      <td>2019-08-08</td>\n",
       "      <td>1</td>\n",
       "      <td>Fahad A.\\nLos Angeles, CA\\n0\\n10\\n15\\n8/8/2019...</td>\n",
       "      <td>worst restaurant ever! the servers were not th...</td>\n",
       "      <td>4</td>\n",
       "    </tr>\n",
       "  </tbody>\n",
       "</table>\n",
       "</div>"
      ],
      "text/plain": [
       "          alias        date  rate  \\\n",
       "0  le-sud-paris  2018-11-20     5   \n",
       "1  le-sud-paris  2021-07-04     2   \n",
       "2  le-sud-paris  2018-06-20     3   \n",
       "3  le-sud-paris  2015-09-28     3   \n",
       "4  le-sud-paris  2019-08-08     1   \n",
       "\n",
       "                                              review  \\\n",
       "0  Ed W.\\nElite 2021\\nMiami, FL\\n259\\n562\\n4232\\n...   \n",
       "1  Jaki F.\\nElite 2021\\nSignal Hill, CA\\n358\\n270...   \n",
       "2  Jen S.\\nElite 2021\\nBuffalo, NY\\n71\\n322\\n809\\...   \n",
       "3  Sam S.\\nElite 2021\\nMunich, Germany\\n2133\\n255...   \n",
       "4  Fahad A.\\nLos Angeles, CA\\n0\\n10\\n15\\n8/8/2019...   \n",
       "\n",
       "                                        review_clean  review_sentences_count  \n",
       "0  this is not your traditional parisian cooking ...                      18  \n",
       "1  i'm not sure what is happening at this restaur...                      10  \n",
       "2  ambience is enticing, but at the end of the da...                      10  \n",
       "3  ambience here is star but in my opinion this i...                      19  \n",
       "4  worst restaurant ever! the servers were not th...                       4  "
      ]
     },
     "execution_count": 67,
     "metadata": {},
     "output_type": "execute_result"
    }
   ],
   "source": [
    "df.head()"
   ]
  },
  {
   "cell_type": "code",
   "execution_count": 68,
   "id": "e0ad881f",
   "metadata": {
    "ExecuteTime": {
     "end_time": "2021-11-30T13:27:37.491782Z",
     "start_time": "2021-11-30T13:27:37.485028Z"
    }
   },
   "outputs": [
    {
     "data": {
      "text/plain": [
       "83"
      ]
     },
     "execution_count": 68,
     "metadata": {},
     "output_type": "execute_result"
    }
   ],
   "source": [
    "np.max(df['review_sentences_count'])"
   ]
  },
  {
   "cell_type": "code",
   "execution_count": 83,
   "id": "6ca6b6d0",
   "metadata": {
    "ExecuteTime": {
     "end_time": "2021-11-30T13:30:35.717979Z",
     "start_time": "2021-11-30T13:30:35.557246Z"
    }
   },
   "outputs": [
    {
     "data": {
      "image/png": "[encoded data removed]",
      "text/plain": [
       "<Figure size 432x288 with 1 Axes>"
      ]
     },
     "metadata": {
      "needs_background": "light"
     },
     "output_type": "display_data"
    }
   ],
   "source": [
    "plt.hist(df['review_sentences_count'],bins=10);\n",
    "plt.xticks(range(0,100,5));"
   ]
  },
  {
   "cell_type": "code",
   "execution_count": null,
   "id": "7dc7e4e1",
   "metadata": {},
   "outputs": [],
   "source": []
  }
 ],
 "metadata": {
  "kernelspec": {
   "display_name": "Python 3 (ipykernel)",
   "language": "python",
   "name": "python3"
  },
  "language_info": {
   "codemirror_mode": {
    "name": "ipython",
    "version": 3
   },
   "file_extension": ".py",
   "mimetype": "text/x-python",
   "name": "python",
   "nbconvert_exporter": "python",
   "pygments_lexer": "ipython3",
   "version": "3.8.12"
  },
  "toc": {
   "base_numbering": 1,
   "nav_menu": {},
   "number_sections": true,
   "sideBar": true,
   "skip_h1_title": false,
   "title_cell": "Table of Contents",
   "title_sidebar": "Contents",
   "toc_cell": false,
   "toc_position": {},
   "toc_section_display": true,
   "toc_window_display": false
  }
 },
 "nbformat": 4,
 "nbformat_minor": 5
}
