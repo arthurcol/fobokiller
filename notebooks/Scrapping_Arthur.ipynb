{
 "cells": [
  {
   "cell_type": "markdown",
   "id": "00a40894",
   "metadata": {},
   "source": [
    "## Imports"
   ]
  },
  {
   "cell_type": "code",
   "execution_count": 1,
   "id": "df7d6d74",
   "metadata": {
    "ExecuteTime": {
     "end_time": "2021-11-22T20:07:13.269034Z",
     "start_time": "2021-11-22T20:07:11.326845Z"
    }
   },
   "outputs": [],
   "source": [
    "import pandas as pd \n",
    "import numpy as np \n",
    "import requests\n",
    "from selenium import webdriver\n",
    "import matplotlib.pyplot as plt\n",
    "import folium\n",
    "from math import radians, sin, cos, asin, sqrt, ceil\n",
    "import time\n",
    "import os\n",
    "\n",
    "from selenium import webdriver\n",
    "import chromedriver_binary\n",
    "\n",
    "from selenium.webdriver.common.keys import Keys\n",
    "\n",
    "from selenium.webdriver.common.by import By\n",
    "from selenium.webdriver.support.ui import WebDriverWait\n",
    "from selenium.webdriver.support import expected_conditions as ec\n",
    "from selenium.webdriver.chrome.options import Options\n",
    "\n",
    "from bs4 import BeautifulSoup\n",
    "\n",
    "from dotenv import load_dotenv, find_dotenv"
   ]
  },
  {
   "cell_type": "code",
   "execution_count": 2,
   "id": "f6ded605",
   "metadata": {
    "ExecuteTime": {
     "end_time": "2021-11-22T20:07:13.277359Z",
     "start_time": "2021-11-22T20:07:13.271684Z"
    }
   },
   "outputs": [],
   "source": [
    "path = find_dotenv()\n",
    "load_dotenv(path)\n",
    "yelp_key=os.getenv('YELP_KEY')\n",
    "google_key=os.getenv('GOOGLE_PLACE_KEY')"
   ]
  },
  {
   "cell_type": "markdown",
   "id": "3d0087c2",
   "metadata": {},
   "source": [
    "## Get list of restaurants from Yelp API"
   ]
  },
  {
   "cell_type": "code",
   "execution_count": 3,
   "id": "ff1f436e",
   "metadata": {
    "ExecuteTime": {
     "end_time": "2021-11-22T20:07:39.887420Z",
     "start_time": "2021-11-22T20:07:39.881575Z"
    }
   },
   "outputs": [],
   "source": [
    "#Haversine Distance function used to compute radius\n",
    "\n",
    "def haversine_distance(lon1, lat1, lon2, lat2):\n",
    "    \"\"\"\n",
    "    Compute distance between two pairs of coordinates (lon1, lat1, lon2, lat2)\n",
    "    \"\"\"\n",
    "    lon1, lat1, lon2, lat2 = map(radians, [lon1, lat1, lon2, lat2])\n",
    "    dlon = lon2 - lon1\n",
    "    dlat = lat2 - lat1\n",
    "    a = sin(dlat / 2) ** 2 + cos(lat1) * cos(lat2) * sin(dlon / 2) ** 2\n",
    "    return 2 * 6371 * asin(sqrt(a))"
   ]
  },
  {
   "cell_type": "code",
   "execution_count": 4,
   "id": "2baa8353",
   "metadata": {
    "ExecuteTime": {
     "end_time": "2021-11-22T20:07:40.518034Z",
     "start_time": "2021-11-22T20:07:40.510970Z"
    }
   },
   "outputs": [],
   "source": [
    "#Divide Paris into subzones to request more restaurants from Yelp API\n",
    "\n",
    "def subzones_paris(n_subzones):\n",
    "    \"\"\"\n",
    "    Divide Paris into n_subzones squares. Returns list of centers (lat,lon)\n",
    "    and the radius (in meters) to use for the API request\n",
    "    \"\"\"\n",
    "    #lat-lon boundaries for Paris\n",
    "    up_left=np.array([48.9002,2.2617])\n",
    "    up_right=np.array([48.9002,2.4488])\n",
    "    down_right=np.array([48.8202,2.4488])\n",
    "    down_left=np.array([48.8202,2.2617])\n",
    "\n",
    "    coor = np.array([up_left,up_right,down_right,down_left])\n",
    "\n",
    "    #compute distance\n",
    "    dist_h=up_right-up_left\n",
    "    dist_v=up_left-down_left\n",
    "\n",
    "    #divide in n_subzones\n",
    "\n",
    "    epsilon_h=dist_h/n_subzones**0.5\n",
    "    epsilon_v=dist_v/n_subzones**0.5\n",
    "\n",
    "    centers=[]\n",
    "    start=up_left\n",
    "\n",
    "    for i in range(int(n_subzones**0.5)):\n",
    "        for j in range(int(n_subzones**0.5)):\n",
    "            start=(i+0.5)*epsilon_v+(j+0.5)*epsilon_h+up_left\n",
    "            centers.append(start)\n",
    "            \n",
    "    \n",
    "    radius = haversine_distance(up_left[0], up_left[1], centers[0][0], centers[0][1])\n",
    "    \n",
    "    return centers,radius*1000"
   ]
  },
  {
   "cell_type": "code",
   "execution_count": 5,
   "id": "99846927",
   "metadata": {
    "ExecuteTime": {
     "end_time": "2021-11-22T20:07:42.758431Z",
     "start_time": "2021-11-22T20:07:42.753846Z"
    }
   },
   "outputs": [],
   "source": [
    "def map_centers(centers,radius):\n",
    "    centers_start=centers[int((len(centers)-1)/2)]\n",
    "    m = folium.Map(location=list(centers_start), zoom_start=13)\n",
    "    \n",
    "    for c in centers:\n",
    "        folium.Circle(radius=radius,location=list(c),\n",
    "                      color=\"crimson\",fill=False).add_to(m)\n",
    "        \n",
    "    return m "
   ]
  },
  {
   "cell_type": "code",
   "execution_count": 6,
   "id": "9deed463",
   "metadata": {
    "ExecuteTime": {
     "end_time": "2021-11-22T20:07:43.026718Z",
     "start_time": "2021-11-22T20:07:42.997969Z"
    }
   },
   "outputs": [
    {
     "data": {
      "text/html": [
       "<div style=\"width:100%;\"><div style=\"position:relative;width:100%;height:0;padding-bottom:60%;\"><span style=\"color:#565656\">Make this Notebook Trusted to load map: File -> Trust Notebook</span><iframe src=\"about:blank\" style=\"position:absolute;width:100%;height:100%;left:0;top:0;border:none !important;\" data-html=%3C%21DOCTYPE%20html%3E%0A%3Chead%3E%20%20%20%20%0A%20%20%20%20%3Cmeta%20http-equiv%3D%22content-type%22%20content%3D%22text/html%3B%20charset%3DUTF-8%22%20/%3E%0A%20%20%20%20%0A%20%20%20%20%20%20%20%20%3Cscript%3E%0A%20%20%20%20%20%20%20%20%20%20%20%20L_NO_TOUCH%20%3D%20false%3B%0A%20%20%20%20%20%20%20%20%20%20%20%20L_DISABLE_3D%20%3D%20false%3B%0A%20%20%20%20%20%20%20%20%3C/script%3E%0A%20%20%20%20%0A%20%20%20%20%3Cstyle%3Ehtml%2C%20body%20%7Bwidth%3A%20100%25%3Bheight%3A%20100%25%3Bmargin%3A%200%3Bpadding%3A%200%3B%7D%3C/style%3E%0A%20%20%20%20%3Cstyle%3E%23map%20%7Bposition%3Aabsolute%3Btop%3A0%3Bbottom%3A0%3Bright%3A0%3Bleft%3A0%3B%7D%3C/style%3E%0A%20%20%20%20%3Cscript%20src%3D%22https%3A//cdn.jsdelivr.net/npm/leaflet%401.6.0/dist/leaflet.js%22%3E%3C/script%3E%0A%20%20%20%20%3Cscript%20src%3D%22https%3A//code.jquery.com/jquery-1.12.4.min.js%22%3E%3C/script%3E%0A%20%20%20%20%3Cscript%20src%3D%22https%3A//maxcdn.bootstrapcdn.com/bootstrap/3.2.0/js/bootstrap.min.js%22%3E%3C/script%3E%0A%20%20%20%20%3Cscript%20src%3D%22https%3A//cdnjs.cloudflare.com/ajax/libs/Leaflet.awesome-markers/2.0.2/leaflet.awesome-markers.js%22%3E%3C/script%3E%0A%20%20%20%20%3Clink%20rel%3D%22stylesheet%22%20href%3D%22https%3A//cdn.jsdelivr.net/npm/leaflet%401.6.0/dist/leaflet.css%22/%3E%0A%20%20%20%20%3Clink%20rel%3D%22stylesheet%22%20href%3D%22https%3A//maxcdn.bootstrapcdn.com/bootstrap/3.2.0/css/bootstrap.min.css%22/%3E%0A%20%20%20%20%3Clink%20rel%3D%22stylesheet%22%20href%3D%22https%3A//maxcdn.bootstrapcdn.com/bootstrap/3.2.0/css/bootstrap-theme.min.css%22/%3E%0A%20%20%20%20%3Clink%20rel%3D%22stylesheet%22%20href%3D%22https%3A//maxcdn.bootstrapcdn.com/font-awesome/4.6.3/css/font-awesome.min.css%22/%3E%0A%20%20%20%20%3Clink%20rel%3D%22stylesheet%22%20href%3D%22https%3A//cdnjs.cloudflare.com/ajax/libs/Leaflet.awesome-markers/2.0.2/leaflet.awesome-markers.css%22/%3E%0A%20%20%20%20%3Clink%20rel%3D%22stylesheet%22%20href%3D%22https%3A//cdn.jsdelivr.net/gh/python-visualization/folium/folium/templates/leaflet.awesome.rotate.min.css%22/%3E%0A%20%20%20%20%0A%20%20%20%20%20%20%20%20%20%20%20%20%3Cmeta%20name%3D%22viewport%22%20content%3D%22width%3Ddevice-width%2C%0A%20%20%20%20%20%20%20%20%20%20%20%20%20%20%20%20initial-scale%3D1.0%2C%20maximum-scale%3D1.0%2C%20user-scalable%3Dno%22%20/%3E%0A%20%20%20%20%20%20%20%20%20%20%20%20%3Cstyle%3E%0A%20%20%20%20%20%20%20%20%20%20%20%20%20%20%20%20%23map_fff0d1a9a46b45b3be29c0eb7a62fed3%20%7B%0A%20%20%20%20%20%20%20%20%20%20%20%20%20%20%20%20%20%20%20%20position%3A%20relative%3B%0A%20%20%20%20%20%20%20%20%20%20%20%20%20%20%20%20%20%20%20%20width%3A%20100.0%25%3B%0A%20%20%20%20%20%20%20%20%20%20%20%20%20%20%20%20%20%20%20%20height%3A%20100.0%25%3B%0A%20%20%20%20%20%20%20%20%20%20%20%20%20%20%20%20%20%20%20%20left%3A%200.0%25%3B%0A%20%20%20%20%20%20%20%20%20%20%20%20%20%20%20%20%20%20%20%20top%3A%200.0%25%3B%0A%20%20%20%20%20%20%20%20%20%20%20%20%20%20%20%20%7D%0A%20%20%20%20%20%20%20%20%20%20%20%20%3C/style%3E%0A%20%20%20%20%20%20%20%20%0A%3C/head%3E%0A%3Cbody%3E%20%20%20%20%0A%20%20%20%20%0A%20%20%20%20%20%20%20%20%20%20%20%20%3Cdiv%20class%3D%22folium-map%22%20id%3D%22map_fff0d1a9a46b45b3be29c0eb7a62fed3%22%20%3E%3C/div%3E%0A%20%20%20%20%20%20%20%20%0A%3C/body%3E%0A%3Cscript%3E%20%20%20%20%0A%20%20%20%20%0A%20%20%20%20%20%20%20%20%20%20%20%20var%20map_fff0d1a9a46b45b3be29c0eb7a62fed3%20%3D%20L.map%28%0A%20%20%20%20%20%20%20%20%20%20%20%20%20%20%20%20%22map_fff0d1a9a46b45b3be29c0eb7a62fed3%22%2C%0A%20%20%20%20%20%20%20%20%20%20%20%20%20%20%20%20%7B%0A%20%20%20%20%20%20%20%20%20%20%20%20%20%20%20%20%20%20%20%20center%3A%20%5B48.9302%2C%202.4254124999999997%5D%2C%0A%20%20%20%20%20%20%20%20%20%20%20%20%20%20%20%20%20%20%20%20crs%3A%20L.CRS.EPSG3857%2C%0A%20%20%20%20%20%20%20%20%20%20%20%20%20%20%20%20%20%20%20%20zoom%3A%2013%2C%0A%20%20%20%20%20%20%20%20%20%20%20%20%20%20%20%20%20%20%20%20zoomControl%3A%20true%2C%0A%20%20%20%20%20%20%20%20%20%20%20%20%20%20%20%20%20%20%20%20preferCanvas%3A%20false%2C%0A%20%20%20%20%20%20%20%20%20%20%20%20%20%20%20%20%7D%0A%20%20%20%20%20%20%20%20%20%20%20%20%29%3B%0A%0A%20%20%20%20%20%20%20%20%20%20%20%20%0A%0A%20%20%20%20%20%20%20%20%0A%20%20%20%20%0A%20%20%20%20%20%20%20%20%20%20%20%20var%20tile_layer_daa8dff3258a401685985b21471c8968%20%3D%20L.tileLayer%28%0A%20%20%20%20%20%20%20%20%20%20%20%20%20%20%20%20%22https%3A//%7Bs%7D.tile.openstreetmap.org/%7Bz%7D/%7Bx%7D/%7By%7D.png%22%2C%0A%20%20%20%20%20%20%20%20%20%20%20%20%20%20%20%20%7B%22attribution%22%3A%20%22Data%20by%20%5Cu0026copy%3B%20%5Cu003ca%20href%3D%5C%22http%3A//openstreetmap.org%5C%22%5Cu003eOpenStreetMap%5Cu003c/a%5Cu003e%2C%20under%20%5Cu003ca%20href%3D%5C%22http%3A//www.openstreetmap.org/copyright%5C%22%5Cu003eODbL%5Cu003c/a%5Cu003e.%22%2C%20%22detectRetina%22%3A%20false%2C%20%22maxNativeZoom%22%3A%2018%2C%20%22maxZoom%22%3A%2018%2C%20%22minZoom%22%3A%200%2C%20%22noWrap%22%3A%20false%2C%20%22opacity%22%3A%201%2C%20%22subdomains%22%3A%20%22abc%22%2C%20%22tms%22%3A%20false%7D%0A%20%20%20%20%20%20%20%20%20%20%20%20%29.addTo%28map_fff0d1a9a46b45b3be29c0eb7a62fed3%29%3B%0A%20%20%20%20%20%20%20%20%0A%20%20%20%20%0A%20%20%20%20%20%20%20%20%20%20%20%20var%20circle_13cdde393abc4f2d80114749477f07e5%20%3D%20L.circle%28%0A%20%20%20%20%20%20%20%20%20%20%20%20%20%20%20%20%5B48.910199999999996%2C%202.2850875%5D%2C%0A%20%20%20%20%20%20%20%20%20%20%20%20%20%20%20%20%7B%22bubblingMouseEvents%22%3A%20true%2C%20%22color%22%3A%20%22crimson%22%2C%20%22dashArray%22%3A%20null%2C%20%22dashOffset%22%3A%20null%2C%20%22fill%22%3A%20false%2C%20%22fillColor%22%3A%20%22crimson%22%2C%20%22fillOpacity%22%3A%200.2%2C%20%22fillRule%22%3A%20%22evenodd%22%2C%20%22lineCap%22%3A%20%22round%22%2C%20%22lineJoin%22%3A%20%22round%22%2C%20%22opacity%22%3A%201.0%2C%20%22radius%22%3A%202827.9775313347986%2C%20%22stroke%22%3A%20true%2C%20%22weight%22%3A%203%7D%0A%20%20%20%20%20%20%20%20%20%20%20%20%29.addTo%28map_fff0d1a9a46b45b3be29c0eb7a62fed3%29%3B%0A%20%20%20%20%20%20%20%20%0A%20%20%20%20%0A%20%20%20%20%20%20%20%20%20%20%20%20var%20circle_559aa7c2d8d14e438273403d01e6fbea%20%3D%20L.circle%28%0A%20%20%20%20%20%20%20%20%20%20%20%20%20%20%20%20%5B48.910199999999996%2C%202.3318624999999997%5D%2C%0A%20%20%20%20%20%20%20%20%20%20%20%20%20%20%20%20%7B%22bubblingMouseEvents%22%3A%20true%2C%20%22color%22%3A%20%22crimson%22%2C%20%22dashArray%22%3A%20null%2C%20%22dashOffset%22%3A%20null%2C%20%22fill%22%3A%20false%2C%20%22fillColor%22%3A%20%22crimson%22%2C%20%22fillOpacity%22%3A%200.2%2C%20%22fillRule%22%3A%20%22evenodd%22%2C%20%22lineCap%22%3A%20%22round%22%2C%20%22lineJoin%22%3A%20%22round%22%2C%20%22opacity%22%3A%201.0%2C%20%22radius%22%3A%202827.9775313347986%2C%20%22stroke%22%3A%20true%2C%20%22weight%22%3A%203%7D%0A%20%20%20%20%20%20%20%20%20%20%20%20%29.addTo%28map_fff0d1a9a46b45b3be29c0eb7a62fed3%29%3B%0A%20%20%20%20%20%20%20%20%0A%20%20%20%20%0A%20%20%20%20%20%20%20%20%20%20%20%20var%20circle_37de075f2d75487199ad78af21ec038e%20%3D%20L.circle%28%0A%20%20%20%20%20%20%20%20%20%20%20%20%20%20%20%20%5B48.910199999999996%2C%202.3786375%5D%2C%0A%20%20%20%20%20%20%20%20%20%20%20%20%20%20%20%20%7B%22bubblingMouseEvents%22%3A%20true%2C%20%22color%22%3A%20%22crimson%22%2C%20%22dashArray%22%3A%20null%2C%20%22dashOffset%22%3A%20null%2C%20%22fill%22%3A%20false%2C%20%22fillColor%22%3A%20%22crimson%22%2C%20%22fillOpacity%22%3A%200.2%2C%20%22fillRule%22%3A%20%22evenodd%22%2C%20%22lineCap%22%3A%20%22round%22%2C%20%22lineJoin%22%3A%20%22round%22%2C%20%22opacity%22%3A%201.0%2C%20%22radius%22%3A%202827.9775313347986%2C%20%22stroke%22%3A%20true%2C%20%22weight%22%3A%203%7D%0A%20%20%20%20%20%20%20%20%20%20%20%20%29.addTo%28map_fff0d1a9a46b45b3be29c0eb7a62fed3%29%3B%0A%20%20%20%20%20%20%20%20%0A%20%20%20%20%0A%20%20%20%20%20%20%20%20%20%20%20%20var%20circle_ec98b44f30944b95bcb1dcb0d909eacf%20%3D%20L.circle%28%0A%20%20%20%20%20%20%20%20%20%20%20%20%20%20%20%20%5B48.910199999999996%2C%202.4254124999999997%5D%2C%0A%20%20%20%20%20%20%20%20%20%20%20%20%20%20%20%20%7B%22bubblingMouseEvents%22%3A%20true%2C%20%22color%22%3A%20%22crimson%22%2C%20%22dashArray%22%3A%20null%2C%20%22dashOffset%22%3A%20null%2C%20%22fill%22%3A%20false%2C%20%22fillColor%22%3A%20%22crimson%22%2C%20%22fillOpacity%22%3A%200.2%2C%20%22fillRule%22%3A%20%22evenodd%22%2C%20%22lineCap%22%3A%20%22round%22%2C%20%22lineJoin%22%3A%20%22round%22%2C%20%22opacity%22%3A%201.0%2C%20%22radius%22%3A%202827.9775313347986%2C%20%22stroke%22%3A%20true%2C%20%22weight%22%3A%203%7D%0A%20%20%20%20%20%20%20%20%20%20%20%20%29.addTo%28map_fff0d1a9a46b45b3be29c0eb7a62fed3%29%3B%0A%20%20%20%20%20%20%20%20%0A%20%20%20%20%0A%20%20%20%20%20%20%20%20%20%20%20%20var%20circle_e41b5f0f1bb843b78387d5234c546583%20%3D%20L.circle%28%0A%20%20%20%20%20%20%20%20%20%20%20%20%20%20%20%20%5B48.9302%2C%202.2850875%5D%2C%0A%20%20%20%20%20%20%20%20%20%20%20%20%20%20%20%20%7B%22bubblingMouseEvents%22%3A%20true%2C%20%22color%22%3A%20%22crimson%22%2C%20%22dashArray%22%3A%20null%2C%20%22dashOffset%22%3A%20null%2C%20%22fill%22%3A%20false%2C%20%22fillColor%22%3A%20%22crimson%22%2C%20%22fillOpacity%22%3A%200.2%2C%20%22fillRule%22%3A%20%22evenodd%22%2C%20%22lineCap%22%3A%20%22round%22%2C%20%22lineJoin%22%3A%20%22round%22%2C%20%22opacity%22%3A%201.0%2C%20%22radius%22%3A%202827.9775313347986%2C%20%22stroke%22%3A%20true%2C%20%22weight%22%3A%203%7D%0A%20%20%20%20%20%20%20%20%20%20%20%20%29.addTo%28map_fff0d1a9a46b45b3be29c0eb7a62fed3%29%3B%0A%20%20%20%20%20%20%20%20%0A%20%20%20%20%0A%20%20%20%20%20%20%20%20%20%20%20%20var%20circle_23a58d009668445297901328091e9714%20%3D%20L.circle%28%0A%20%20%20%20%20%20%20%20%20%20%20%20%20%20%20%20%5B48.9302%2C%202.3318624999999997%5D%2C%0A%20%20%20%20%20%20%20%20%20%20%20%20%20%20%20%20%7B%22bubblingMouseEvents%22%3A%20true%2C%20%22color%22%3A%20%22crimson%22%2C%20%22dashArray%22%3A%20null%2C%20%22dashOffset%22%3A%20null%2C%20%22fill%22%3A%20false%2C%20%22fillColor%22%3A%20%22crimson%22%2C%20%22fillOpacity%22%3A%200.2%2C%20%22fillRule%22%3A%20%22evenodd%22%2C%20%22lineCap%22%3A%20%22round%22%2C%20%22lineJoin%22%3A%20%22round%22%2C%20%22opacity%22%3A%201.0%2C%20%22radius%22%3A%202827.9775313347986%2C%20%22stroke%22%3A%20true%2C%20%22weight%22%3A%203%7D%0A%20%20%20%20%20%20%20%20%20%20%20%20%29.addTo%28map_fff0d1a9a46b45b3be29c0eb7a62fed3%29%3B%0A%20%20%20%20%20%20%20%20%0A%20%20%20%20%0A%20%20%20%20%20%20%20%20%20%20%20%20var%20circle_17094b0f07c246d1b51ac7fab1e0e29a%20%3D%20L.circle%28%0A%20%20%20%20%20%20%20%20%20%20%20%20%20%20%20%20%5B48.9302%2C%202.3786375%5D%2C%0A%20%20%20%20%20%20%20%20%20%20%20%20%20%20%20%20%7B%22bubblingMouseEvents%22%3A%20true%2C%20%22color%22%3A%20%22crimson%22%2C%20%22dashArray%22%3A%20null%2C%20%22dashOffset%22%3A%20null%2C%20%22fill%22%3A%20false%2C%20%22fillColor%22%3A%20%22crimson%22%2C%20%22fillOpacity%22%3A%200.2%2C%20%22fillRule%22%3A%20%22evenodd%22%2C%20%22lineCap%22%3A%20%22round%22%2C%20%22lineJoin%22%3A%20%22round%22%2C%20%22opacity%22%3A%201.0%2C%20%22radius%22%3A%202827.9775313347986%2C%20%22stroke%22%3A%20true%2C%20%22weight%22%3A%203%7D%0A%20%20%20%20%20%20%20%20%20%20%20%20%29.addTo%28map_fff0d1a9a46b45b3be29c0eb7a62fed3%29%3B%0A%20%20%20%20%20%20%20%20%0A%20%20%20%20%0A%20%20%20%20%20%20%20%20%20%20%20%20var%20circle_48624ae3697e44dbb02752e110fa98a8%20%3D%20L.circle%28%0A%20%20%20%20%20%20%20%20%20%20%20%20%20%20%20%20%5B48.9302%2C%202.4254124999999997%5D%2C%0A%20%20%20%20%20%20%20%20%20%20%20%20%20%20%20%20%7B%22bubblingMouseEvents%22%3A%20true%2C%20%22color%22%3A%20%22crimson%22%2C%20%22dashArray%22%3A%20null%2C%20%22dashOffset%22%3A%20null%2C%20%22fill%22%3A%20false%2C%20%22fillColor%22%3A%20%22crimson%22%2C%20%22fillOpacity%22%3A%200.2%2C%20%22fillRule%22%3A%20%22evenodd%22%2C%20%22lineCap%22%3A%20%22round%22%2C%20%22lineJoin%22%3A%20%22round%22%2C%20%22opacity%22%3A%201.0%2C%20%22radius%22%3A%202827.9775313347986%2C%20%22stroke%22%3A%20true%2C%20%22weight%22%3A%203%7D%0A%20%20%20%20%20%20%20%20%20%20%20%20%29.addTo%28map_fff0d1a9a46b45b3be29c0eb7a62fed3%29%3B%0A%20%20%20%20%20%20%20%20%0A%20%20%20%20%0A%20%20%20%20%20%20%20%20%20%20%20%20var%20circle_db5fd27d32c74537900cececc81c771d%20%3D%20L.circle%28%0A%20%20%20%20%20%20%20%20%20%20%20%20%20%20%20%20%5B48.950199999999995%2C%202.2850875%5D%2C%0A%20%20%20%20%20%20%20%20%20%20%20%20%20%20%20%20%7B%22bubblingMouseEvents%22%3A%20true%2C%20%22color%22%3A%20%22crimson%22%2C%20%22dashArray%22%3A%20null%2C%20%22dashOffset%22%3A%20null%2C%20%22fill%22%3A%20false%2C%20%22fillColor%22%3A%20%22crimson%22%2C%20%22fillOpacity%22%3A%200.2%2C%20%22fillRule%22%3A%20%22evenodd%22%2C%20%22lineCap%22%3A%20%22round%22%2C%20%22lineJoin%22%3A%20%22round%22%2C%20%22opacity%22%3A%201.0%2C%20%22radius%22%3A%202827.9775313347986%2C%20%22stroke%22%3A%20true%2C%20%22weight%22%3A%203%7D%0A%20%20%20%20%20%20%20%20%20%20%20%20%29.addTo%28map_fff0d1a9a46b45b3be29c0eb7a62fed3%29%3B%0A%20%20%20%20%20%20%20%20%0A%20%20%20%20%0A%20%20%20%20%20%20%20%20%20%20%20%20var%20circle_b5146cef293345be84937d94e25889e5%20%3D%20L.circle%28%0A%20%20%20%20%20%20%20%20%20%20%20%20%20%20%20%20%5B48.950199999999995%2C%202.3318624999999997%5D%2C%0A%20%20%20%20%20%20%20%20%20%20%20%20%20%20%20%20%7B%22bubblingMouseEvents%22%3A%20true%2C%20%22color%22%3A%20%22crimson%22%2C%20%22dashArray%22%3A%20null%2C%20%22dashOffset%22%3A%20null%2C%20%22fill%22%3A%20false%2C%20%22fillColor%22%3A%20%22crimson%22%2C%20%22fillOpacity%22%3A%200.2%2C%20%22fillRule%22%3A%20%22evenodd%22%2C%20%22lineCap%22%3A%20%22round%22%2C%20%22lineJoin%22%3A%20%22round%22%2C%20%22opacity%22%3A%201.0%2C%20%22radius%22%3A%202827.9775313347986%2C%20%22stroke%22%3A%20true%2C%20%22weight%22%3A%203%7D%0A%20%20%20%20%20%20%20%20%20%20%20%20%29.addTo%28map_fff0d1a9a46b45b3be29c0eb7a62fed3%29%3B%0A%20%20%20%20%20%20%20%20%0A%20%20%20%20%0A%20%20%20%20%20%20%20%20%20%20%20%20var%20circle_a0e29588b7724a1392e1b701915b8884%20%3D%20L.circle%28%0A%20%20%20%20%20%20%20%20%20%20%20%20%20%20%20%20%5B48.950199999999995%2C%202.3786375%5D%2C%0A%20%20%20%20%20%20%20%20%20%20%20%20%20%20%20%20%7B%22bubblingMouseEvents%22%3A%20true%2C%20%22color%22%3A%20%22crimson%22%2C%20%22dashArray%22%3A%20null%2C%20%22dashOffset%22%3A%20null%2C%20%22fill%22%3A%20false%2C%20%22fillColor%22%3A%20%22crimson%22%2C%20%22fillOpacity%22%3A%200.2%2C%20%22fillRule%22%3A%20%22evenodd%22%2C%20%22lineCap%22%3A%20%22round%22%2C%20%22lineJoin%22%3A%20%22round%22%2C%20%22opacity%22%3A%201.0%2C%20%22radius%22%3A%202827.9775313347986%2C%20%22stroke%22%3A%20true%2C%20%22weight%22%3A%203%7D%0A%20%20%20%20%20%20%20%20%20%20%20%20%29.addTo%28map_fff0d1a9a46b45b3be29c0eb7a62fed3%29%3B%0A%20%20%20%20%20%20%20%20%0A%20%20%20%20%0A%20%20%20%20%20%20%20%20%20%20%20%20var%20circle_eace43f57eb14cd0b4ce687a23c38ead%20%3D%20L.circle%28%0A%20%20%20%20%20%20%20%20%20%20%20%20%20%20%20%20%5B48.950199999999995%2C%202.4254124999999997%5D%2C%0A%20%20%20%20%20%20%20%20%20%20%20%20%20%20%20%20%7B%22bubblingMouseEvents%22%3A%20true%2C%20%22color%22%3A%20%22crimson%22%2C%20%22dashArray%22%3A%20null%2C%20%22dashOffset%22%3A%20null%2C%20%22fill%22%3A%20false%2C%20%22fillColor%22%3A%20%22crimson%22%2C%20%22fillOpacity%22%3A%200.2%2C%20%22fillRule%22%3A%20%22evenodd%22%2C%20%22lineCap%22%3A%20%22round%22%2C%20%22lineJoin%22%3A%20%22round%22%2C%20%22opacity%22%3A%201.0%2C%20%22radius%22%3A%202827.9775313347986%2C%20%22stroke%22%3A%20true%2C%20%22weight%22%3A%203%7D%0A%20%20%20%20%20%20%20%20%20%20%20%20%29.addTo%28map_fff0d1a9a46b45b3be29c0eb7a62fed3%29%3B%0A%20%20%20%20%20%20%20%20%0A%20%20%20%20%0A%20%20%20%20%20%20%20%20%20%20%20%20var%20circle_0cc121a44f2e4a51b6adf1017e90c6b9%20%3D%20L.circle%28%0A%20%20%20%20%20%20%20%20%20%20%20%20%20%20%20%20%5B48.9702%2C%202.2850875%5D%2C%0A%20%20%20%20%20%20%20%20%20%20%20%20%20%20%20%20%7B%22bubblingMouseEvents%22%3A%20true%2C%20%22color%22%3A%20%22crimson%22%2C%20%22dashArray%22%3A%20null%2C%20%22dashOffset%22%3A%20null%2C%20%22fill%22%3A%20false%2C%20%22fillColor%22%3A%20%22crimson%22%2C%20%22fillOpacity%22%3A%200.2%2C%20%22fillRule%22%3A%20%22evenodd%22%2C%20%22lineCap%22%3A%20%22round%22%2C%20%22lineJoin%22%3A%20%22round%22%2C%20%22opacity%22%3A%201.0%2C%20%22radius%22%3A%202827.9775313347986%2C%20%22stroke%22%3A%20true%2C%20%22weight%22%3A%203%7D%0A%20%20%20%20%20%20%20%20%20%20%20%20%29.addTo%28map_fff0d1a9a46b45b3be29c0eb7a62fed3%29%3B%0A%20%20%20%20%20%20%20%20%0A%20%20%20%20%0A%20%20%20%20%20%20%20%20%20%20%20%20var%20circle_b52dbd4e9cec40c5a76fa95ebeeb3b19%20%3D%20L.circle%28%0A%20%20%20%20%20%20%20%20%20%20%20%20%20%20%20%20%5B48.9702%2C%202.3318624999999997%5D%2C%0A%20%20%20%20%20%20%20%20%20%20%20%20%20%20%20%20%7B%22bubblingMouseEvents%22%3A%20true%2C%20%22color%22%3A%20%22crimson%22%2C%20%22dashArray%22%3A%20null%2C%20%22dashOffset%22%3A%20null%2C%20%22fill%22%3A%20false%2C%20%22fillColor%22%3A%20%22crimson%22%2C%20%22fillOpacity%22%3A%200.2%2C%20%22fillRule%22%3A%20%22evenodd%22%2C%20%22lineCap%22%3A%20%22round%22%2C%20%22lineJoin%22%3A%20%22round%22%2C%20%22opacity%22%3A%201.0%2C%20%22radius%22%3A%202827.9775313347986%2C%20%22stroke%22%3A%20true%2C%20%22weight%22%3A%203%7D%0A%20%20%20%20%20%20%20%20%20%20%20%20%29.addTo%28map_fff0d1a9a46b45b3be29c0eb7a62fed3%29%3B%0A%20%20%20%20%20%20%20%20%0A%20%20%20%20%0A%20%20%20%20%20%20%20%20%20%20%20%20var%20circle_8353aa00afb548e5b06be628da326229%20%3D%20L.circle%28%0A%20%20%20%20%20%20%20%20%20%20%20%20%20%20%20%20%5B48.9702%2C%202.3786375%5D%2C%0A%20%20%20%20%20%20%20%20%20%20%20%20%20%20%20%20%7B%22bubblingMouseEvents%22%3A%20true%2C%20%22color%22%3A%20%22crimson%22%2C%20%22dashArray%22%3A%20null%2C%20%22dashOffset%22%3A%20null%2C%20%22fill%22%3A%20false%2C%20%22fillColor%22%3A%20%22crimson%22%2C%20%22fillOpacity%22%3A%200.2%2C%20%22fillRule%22%3A%20%22evenodd%22%2C%20%22lineCap%22%3A%20%22round%22%2C%20%22lineJoin%22%3A%20%22round%22%2C%20%22opacity%22%3A%201.0%2C%20%22radius%22%3A%202827.9775313347986%2C%20%22stroke%22%3A%20true%2C%20%22weight%22%3A%203%7D%0A%20%20%20%20%20%20%20%20%20%20%20%20%29.addTo%28map_fff0d1a9a46b45b3be29c0eb7a62fed3%29%3B%0A%20%20%20%20%20%20%20%20%0A%20%20%20%20%0A%20%20%20%20%20%20%20%20%20%20%20%20var%20circle_9a200cef3230451783fb82e1a78a4bc0%20%3D%20L.circle%28%0A%20%20%20%20%20%20%20%20%20%20%20%20%20%20%20%20%5B48.9702%2C%202.4254124999999997%5D%2C%0A%20%20%20%20%20%20%20%20%20%20%20%20%20%20%20%20%7B%22bubblingMouseEvents%22%3A%20true%2C%20%22color%22%3A%20%22crimson%22%2C%20%22dashArray%22%3A%20null%2C%20%22dashOffset%22%3A%20null%2C%20%22fill%22%3A%20false%2C%20%22fillColor%22%3A%20%22crimson%22%2C%20%22fillOpacity%22%3A%200.2%2C%20%22fillRule%22%3A%20%22evenodd%22%2C%20%22lineCap%22%3A%20%22round%22%2C%20%22lineJoin%22%3A%20%22round%22%2C%20%22opacity%22%3A%201.0%2C%20%22radius%22%3A%202827.9775313347986%2C%20%22stroke%22%3A%20true%2C%20%22weight%22%3A%203%7D%0A%20%20%20%20%20%20%20%20%20%20%20%20%29.addTo%28map_fff0d1a9a46b45b3be29c0eb7a62fed3%29%3B%0A%20%20%20%20%20%20%20%20%0A%3C/script%3E onload=\"this.contentDocument.open();this.contentDocument.write(    decodeURIComponent(this.getAttribute('data-html')));this.contentDocument.close();\" allowfullscreen webkitallowfullscreen mozallowfullscreen></iframe></div></div>"
      ],
      "text/plain": [
       "<folium.folium.Map at 0x11fd6ed30>"
      ]
     },
     "execution_count": 6,
     "metadata": {},
     "output_type": "execute_result"
    }
   ],
   "source": [
    "map_centers(*subzones_paris(16))"
   ]
  },
  {
   "cell_type": "code",
   "execution_count": 7,
   "id": "d91bb5a1",
   "metadata": {
    "ExecuteTime": {
     "end_time": "2021-11-22T20:07:46.497435Z",
     "start_time": "2021-11-22T20:07:46.490908Z"
    }
   },
   "outputs": [],
   "source": [
    "def get_restaurants(centers,radius,api_key):\n",
    "    \"\"\"\n",
    "    Returns DataFrame of restaurants in Paris\n",
    "    \"\"\"\n",
    "    headers={'Authorization':f'Bearer {yelp_key}'}\n",
    "    url = 'https://api.yelp.com/v3/businesses/search'\n",
    "\n",
    "    data = []\n",
    "    \n",
    "    for i,c in enumerate(centers):\n",
    "        print(f'---------- Requesting API for subzone #{i+1} ----------')\n",
    "        for offset in range(0, 200, 50):\n",
    "            print(f'   ------- Requesting API with offset = {offset} -------   ')\n",
    "            params = {\n",
    "                'limit': 50, \n",
    "                'categories':['restaurants'],\n",
    "                'sort_by':'review_count',\n",
    "                'offset': offset,\n",
    "                'latitude':c[0],\n",
    "                'longitude':c[1],\n",
    "                'radius':int(radius)\n",
    "            }\n",
    "\n",
    "            response = requests.get(url, headers=headers, params=params)\n",
    "            if response.status_code == 200:\n",
    "                data += response.json()['businesses']\n",
    "            elif response.status_code == 400:\n",
    "                print('400 Bad Request')\n",
    "                break\n",
    "                \n",
    "    print(f'#####   Request completed, {len(data)} businesses fetched   ###')\n",
    "    return data"
   ]
  },
  {
   "cell_type": "code",
   "execution_count": 8,
   "id": "bfae2ae1",
   "metadata": {
    "ExecuteTime": {
     "end_time": "2021-11-22T20:08:01.499747Z",
     "start_time": "2021-11-22T20:07:49.035852Z"
    }
   },
   "outputs": [
    {
     "name": "stdout",
     "output_type": "stream",
     "text": [
      "---------- Requesting API for subzone #1 ----------\n",
      "   ------- Requesting API with offset = 0 -------   \n",
      "   ------- Requesting API with offset = 50 -------   \n",
      "   ------- Requesting API with offset = 100 -------   \n",
      "   ------- Requesting API with offset = 150 -------   \n",
      "---------- Requesting API for subzone #2 ----------\n",
      "   ------- Requesting API with offset = 0 -------   \n",
      "   ------- Requesting API with offset = 50 -------   \n",
      "   ------- Requesting API with offset = 100 -------   \n",
      "   ------- Requesting API with offset = 150 -------   \n",
      "---------- Requesting API for subzone #3 ----------\n",
      "   ------- Requesting API with offset = 0 -------   \n",
      "   ------- Requesting API with offset = 50 -------   \n",
      "   ------- Requesting API with offset = 100 -------   \n",
      "   ------- Requesting API with offset = 150 -------   \n",
      "---------- Requesting API for subzone #4 ----------\n",
      "   ------- Requesting API with offset = 0 -------   \n",
      "   ------- Requesting API with offset = 50 -------   \n",
      "   ------- Requesting API with offset = 100 -------   \n",
      "   ------- Requesting API with offset = 150 -------   \n",
      "#####   Request completed, 800 businesses fetched   ###\n"
     ]
    }
   ],
   "source": [
    "centers,radius = subzones_paris(4)\n",
    "data = get_restaurants(centers,radius,yelp_key)"
   ]
  },
  {
   "cell_type": "markdown",
   "id": "4489d4d2",
   "metadata": {},
   "source": [
    "## Yelp Reviews Scrapping"
   ]
  },
  {
   "cell_type": "code",
   "execution_count": 9,
   "id": "a89431f0",
   "metadata": {
    "ExecuteTime": {
     "end_time": "2021-11-22T20:08:01.516253Z",
     "start_time": "2021-11-22T20:08:01.503153Z"
    }
   },
   "outputs": [],
   "source": [
    "### Create DF for Yelp data\n",
    "\n",
    "\n",
    "def create_df_yelp(data):\n",
    "\n",
    "    df = pd.DataFrame(columns=[\n",
    "        'alias', 'name', 'url', 'categories', 'latitude', 'longitude',\n",
    "        'address', 'zip_code', 'price', 'rating', 'review_count'\n",
    "    ])\n",
    "\n",
    "    features_to_loop = [\n",
    "        'alias', 'name', 'url', 'categories', 'price', 'rating', 'review_count'\n",
    "    ]\n",
    "\n",
    "    #populate DF\n",
    "    #if condition to avoid raising errors in case restaurant doesn't have all informations\n",
    "\n",
    "    for i, d in enumerate(data):\n",
    "\n",
    "        for f in features_to_loop:\n",
    "            if f in d:\n",
    "                df.loc[i, f] = d[f]\n",
    "            else:\n",
    "                df.loc[i, f] = ''\n",
    "\n",
    "        if 'location' in d:\n",
    "            if 'latitude' in d['coordinates']:\n",
    "                df.loc[i, 'latitude'] = d['coordinates']['latitude']\n",
    "            else:\n",
    "                df.loc[i, 'latitude'] = ''\n",
    "\n",
    "            if 'longitude' in d['coordinates']:\n",
    "                df.loc[i, 'longitude'] = d['coordinates']['longitude']\n",
    "            else:\n",
    "                df.loc[i, 'longitude'] = ''\n",
    "\n",
    "            if 'address1' in d['location']:\n",
    "                df.loc[i, 'address'] = d['location']['address1']\n",
    "            else:\n",
    "                df.loc[i, 'address'] = ''\n",
    "\n",
    "            if 'zip_code' in d['location']:\n",
    "                df.loc[i, 'zip_code'] = d['location']['zip_code']\n",
    "            else:\n",
    "                df.loc[i, 'zip_code'] = 0\n",
    "\n",
    "    #clean DF\n",
    "    #dtypes\n",
    "    df['latitude'] = df['latitude'].astype(float)\n",
    "    df['longitude'] = df['longitude'].astype(float)\n",
    "    df['zip_code'] = df['zip_code'].replace('', 0).astype(int)\n",
    "    df['rating'] = df['rating'].astype(float)\n",
    "    df['review_count'] = df['review_count'].astype(float)\n",
    "\n",
    "    #url\n",
    "    df['url'] = df['url'].apply(lambda txt: txt.split('?', 1)[0])\n",
    "\n",
    "    #price\n",
    "    prices = {'€': '1', '€€': '2', '€€€': '3', '€€€€': '4'}\n",
    "\n",
    "    for euro, num in prices.items():\n",
    "        df['price'] = df['price'].replace(euro, num)\n",
    "\n",
    "    df['price'] = df['price'].replace('', 0).astype(int)\n",
    "\n",
    "    #categories\n",
    "    df['categories'] = df['categories'].apply(\n",
    "        lambda dicts: ', '.join([d['alias'] for d in dicts]))\n",
    "\n",
    "    return df.drop_duplicates()"
   ]
  },
  {
   "cell_type": "code",
   "execution_count": 10,
   "id": "5d832dc9",
   "metadata": {
    "ExecuteTime": {
     "end_time": "2021-11-22T20:08:02.260163Z",
     "start_time": "2021-11-22T20:08:01.518515Z"
    }
   },
   "outputs": [],
   "source": [
    "df = create_df_yelp(data)"
   ]
  },
  {
   "cell_type": "code",
   "execution_count": 11,
   "id": "9162dd17",
   "metadata": {
    "ExecuteTime": {
     "end_time": "2021-11-22T20:08:02.281072Z",
     "start_time": "2021-11-22T20:08:02.263568Z"
    },
    "scrolled": true
   },
   "outputs": [
    {
     "data": {
      "text/html": [
       "<div>\n",
       "<style scoped>\n",
       "    .dataframe tbody tr th:only-of-type {\n",
       "        vertical-align: middle;\n",
       "    }\n",
       "\n",
       "    .dataframe tbody tr th {\n",
       "        vertical-align: top;\n",
       "    }\n",
       "\n",
       "    .dataframe thead th {\n",
       "        text-align: right;\n",
       "    }\n",
       "</style>\n",
       "<table border=\"1\" class=\"dataframe\">\n",
       "  <thead>\n",
       "    <tr style=\"text-align: right;\">\n",
       "      <th></th>\n",
       "      <th>alias</th>\n",
       "      <th>name</th>\n",
       "      <th>url</th>\n",
       "      <th>categories</th>\n",
       "      <th>latitude</th>\n",
       "      <th>longitude</th>\n",
       "      <th>address</th>\n",
       "      <th>zip_code</th>\n",
       "      <th>price</th>\n",
       "      <th>rating</th>\n",
       "      <th>review_count</th>\n",
       "    </tr>\n",
       "  </thead>\n",
       "  <tbody>\n",
       "    <tr>\n",
       "      <th>0</th>\n",
       "      <td>bouillon-chartier-paris</td>\n",
       "      <td>Bouillon Chartier</td>\n",
       "      <td>https://www.yelp.com/biz/bouillon-chartier-paris</td>\n",
       "      <td>french</td>\n",
       "      <td>48.871940</td>\n",
       "      <td>2.343170</td>\n",
       "      <td>7 rue du Faubourg Montmartre</td>\n",
       "      <td>75009</td>\n",
       "      <td>2</td>\n",
       "      <td>3.5</td>\n",
       "      <td>953.0</td>\n",
       "    </tr>\n",
       "    <tr>\n",
       "      <th>1</th>\n",
       "      <td>le-potager-du-père-thierry-paris-2</td>\n",
       "      <td>Le Potager du Père Thierry</td>\n",
       "      <td>https://www.yelp.com/biz/le-potager-du-p%C3%A8...</td>\n",
       "      <td>french</td>\n",
       "      <td>48.884476</td>\n",
       "      <td>2.341335</td>\n",
       "      <td>16 rue des Trois Frères</td>\n",
       "      <td>75018</td>\n",
       "      <td>2</td>\n",
       "      <td>4.5</td>\n",
       "      <td>427.0</td>\n",
       "    </tr>\n",
       "    <tr>\n",
       "      <th>2</th>\n",
       "      <td>la-cave-gourmande-paris-2</td>\n",
       "      <td>La Cave Gourmande</td>\n",
       "      <td>https://www.yelp.com/biz/la-cave-gourmande-par...</td>\n",
       "      <td>bistros</td>\n",
       "      <td>48.884499</td>\n",
       "      <td>2.339847</td>\n",
       "      <td>96 rue des Martyrs</td>\n",
       "      <td>75018</td>\n",
       "      <td>2</td>\n",
       "      <td>4.5</td>\n",
       "      <td>336.0</td>\n",
       "    </tr>\n",
       "    <tr>\n",
       "      <th>3</th>\n",
       "      <td>holybelly-19-paris</td>\n",
       "      <td>Holybelly 19</td>\n",
       "      <td>https://www.yelp.com/biz/holybelly-19-paris</td>\n",
       "      <td>breakfast_brunch, cafes, desserts</td>\n",
       "      <td>48.872130</td>\n",
       "      <td>2.360780</td>\n",
       "      <td>19 rue Lucien Sampaix</td>\n",
       "      <td>75010</td>\n",
       "      <td>2</td>\n",
       "      <td>4.5</td>\n",
       "      <td>296.0</td>\n",
       "    </tr>\n",
       "    <tr>\n",
       "      <th>4</th>\n",
       "      <td>le-relais-de-venise-l-entrecôte-paris-2</td>\n",
       "      <td>Le Relais de Venise - l'Entrecôte</td>\n",
       "      <td>https://www.yelp.com/biz/le-relais-de-venise-l...</td>\n",
       "      <td>desserts, bbq</td>\n",
       "      <td>48.878045</td>\n",
       "      <td>2.285062</td>\n",
       "      <td>271 boulevard Pereire</td>\n",
       "      <td>75017</td>\n",
       "      <td>3</td>\n",
       "      <td>4.0</td>\n",
       "      <td>275.0</td>\n",
       "    </tr>\n",
       "  </tbody>\n",
       "</table>\n",
       "</div>"
      ],
      "text/plain": [
       "                                     alias                               name  \\\n",
       "0                  bouillon-chartier-paris                  Bouillon Chartier   \n",
       "1       le-potager-du-père-thierry-paris-2         Le Potager du Père Thierry   \n",
       "2                la-cave-gourmande-paris-2                  La Cave Gourmande   \n",
       "3                       holybelly-19-paris                       Holybelly 19   \n",
       "4  le-relais-de-venise-l-entrecôte-paris-2  Le Relais de Venise - l'Entrecôte   \n",
       "\n",
       "                                                 url  \\\n",
       "0   https://www.yelp.com/biz/bouillon-chartier-paris   \n",
       "1  https://www.yelp.com/biz/le-potager-du-p%C3%A8...   \n",
       "2  https://www.yelp.com/biz/la-cave-gourmande-par...   \n",
       "3        https://www.yelp.com/biz/holybelly-19-paris   \n",
       "4  https://www.yelp.com/biz/le-relais-de-venise-l...   \n",
       "\n",
       "                          categories   latitude  longitude  \\\n",
       "0                             french  48.871940   2.343170   \n",
       "1                             french  48.884476   2.341335   \n",
       "2                            bistros  48.884499   2.339847   \n",
       "3  breakfast_brunch, cafes, desserts  48.872130   2.360780   \n",
       "4                      desserts, bbq  48.878045   2.285062   \n",
       "\n",
       "                        address  zip_code  price  rating  review_count  \n",
       "0  7 rue du Faubourg Montmartre     75009      2     3.5         953.0  \n",
       "1       16 rue des Trois Frères     75018      2     4.5         427.0  \n",
       "2            96 rue des Martyrs     75018      2     4.5         336.0  \n",
       "3         19 rue Lucien Sampaix     75010      2     4.5         296.0  \n",
       "4         271 boulevard Pereire     75017      3     4.0         275.0  "
      ]
     },
     "execution_count": 11,
     "metadata": {},
     "output_type": "execute_result"
    }
   ],
   "source": [
    "df.head()"
   ]
  },
  {
   "cell_type": "code",
   "execution_count": 12,
   "id": "c282d137",
   "metadata": {
    "ExecuteTime": {
     "end_time": "2021-11-22T20:08:02.288827Z",
     "start_time": "2021-11-22T20:08:02.283201Z"
    },
    "scrolled": true
   },
   "outputs": [
    {
     "data": {
      "text/plain": [
       "alias                                    soul-kitchen-paris\n",
       "name                                           Soul Kitchen\n",
       "url             https://www.yelp.com/biz/soul-kitchen-paris\n",
       "categories               coffee, desserts, breakfast_brunch\n",
       "latitude                                           48.88916\n",
       "longitude                                          2.342305\n",
       "address                                      33 rue Lamarck\n",
       "zip_code                                              75018\n",
       "price                                                     2\n",
       "rating                                                  4.5\n",
       "review_count                                          129.0\n",
       "Name: 45, dtype: object"
      ]
     },
     "execution_count": 12,
     "metadata": {},
     "output_type": "execute_result"
    }
   ],
   "source": [
    "df.loc[45]"
   ]
  },
  {
   "cell_type": "code",
   "execution_count": 22,
   "id": "1ff53aa5",
   "metadata": {
    "ExecuteTime": {
     "end_time": "2021-11-22T20:13:11.574563Z",
     "start_time": "2021-11-22T20:13:11.567122Z"
    }
   },
   "outputs": [],
   "source": [
    "### SCRAPPING ONE RESTAURANT --- YELP ###\n",
    "\n",
    "def get_reviews_yelp(url,verbose=0,quiet_mode=True,load_strategy='eager'):\n",
    "    \n",
    "    #pages\n",
    "    \n",
    "    options=Options()\n",
    "    if quiet_mode:\n",
    "        options.add_argument('--headless')\n",
    "    options.page_load_strategy = load_strategy\n",
    "    driver = webdriver.Chrome(options=options)\n",
    "    \n",
    "    driver.get(url)\n",
    "    xpath_page=\"//yelp-react-root/div[1]/div[4]/div/div/div[2]/div/div[1]/div[2]/section/div[2]/div/div[4]/div[2]/span\"\n",
    "    \n",
    "    page = driver.find_element(By.XPATH,xpath_page).text\n",
    "    n_pages=int(page.split('of ')[1])\n",
    "    reviews=[]\n",
    "    rates=[]\n",
    "    dates=[]\n",
    "    \n",
    "    print(f'### {n_pages} pages to scrap ###')\n",
    "    \n",
    "    for n in range(n_pages):\n",
    "        \n",
    "        if verbose>0:\n",
    "            print(f'--- Fetching reviews of page #{n+1}...')\n",
    "        \n",
    "        #url of the n_page\n",
    "        url_=f'{url}?start={n*10}'\n",
    "        driver.get(url_)\n",
    "        xpath_all_review=f\"//yelp-react-root/div[1]/div[4]/div/div/div[2]/div/div[1]/div[2]/section/div[2]/div/ul\"\n",
    "            \n",
    "            \n",
    "           \n",
    "        review_block = driver.find_element(By.XPATH,xpath_all_review)\n",
    "        all_reviews = review_block.find_elements(By.TAG_NAME,'li')\n",
    "        for i,r in enumerate(all_reviews):\n",
    "            if verbose>1:\n",
    "                print(f'--Getting reviews #{i+1}...')\n",
    "            reviews.append(r.text)\n",
    "            rate=r.find_element(By.XPATH,'.//div/div[2]/div/div[1]/span/div')\n",
    "            rates.append(rate.get_attribute('aria-label'))\n",
    "            dates.append(r.find_element(By.XPATH,'.//div/div[2]/div/div[2]/span').text)\n",
    "            \n",
    "    return dates,rates,reviews"
   ]
  },
  {
   "cell_type": "code",
   "execution_count": 23,
   "id": "fdb1359b",
   "metadata": {
    "ExecuteTime": {
     "end_time": "2021-11-22T20:13:13.714099Z",
     "start_time": "2021-11-22T20:13:13.708457Z"
    }
   },
   "outputs": [
    {
     "data": {
      "text/plain": [
       "'https://www.yelp.com/biz/paparazzi-paris-2'"
      ]
     },
     "execution_count": 23,
     "metadata": {},
     "output_type": "execute_result"
    }
   ],
   "source": [
    "df.loc[51,'url']"
   ]
  },
  {
   "cell_type": "code",
   "execution_count": 24,
   "id": "649646d5",
   "metadata": {
    "ExecuteTime": {
     "end_time": "2021-11-22T20:13:35.758139Z",
     "start_time": "2021-11-22T20:13:14.787615Z"
    },
    "scrolled": true
   },
   "outputs": [
    {
     "name": "stdout",
     "output_type": "stream",
     "text": [
      "### 3 pages to scrap ###\n",
      "--- Fetching reviews of page #1...\n",
      "--Getting reviews #1...\n",
      "--Getting reviews #2...\n",
      "--Getting reviews #3...\n",
      "--Getting reviews #4...\n",
      "--Getting reviews #5...\n",
      "--Getting reviews #6...\n",
      "--Getting reviews #7...\n",
      "--Getting reviews #8...\n",
      "--Getting reviews #9...\n",
      "--Getting reviews #10...\n",
      "--- Fetching reviews of page #2...\n",
      "--Getting reviews #1...\n",
      "--Getting reviews #2...\n",
      "--Getting reviews #3...\n",
      "--Getting reviews #4...\n",
      "--Getting reviews #5...\n",
      "--Getting reviews #6...\n",
      "--Getting reviews #7...\n",
      "--Getting reviews #8...\n",
      "--Getting reviews #9...\n",
      "--Getting reviews #10...\n",
      "--- Fetching reviews of page #3...\n",
      "--Getting reviews #1...\n",
      "--Getting reviews #2...\n"
     ]
    }
   ],
   "source": [
    "dates,rates,reviews = get_reviews_yelp(df.loc[51,'url'],verbose=2)"
   ]
  },
  {
   "cell_type": "code",
   "execution_count": 16,
   "id": "7acca655",
   "metadata": {
    "ExecuteTime": {
     "end_time": "2021-11-22T20:08:30.940214Z",
     "start_time": "2021-11-22T20:08:30.933426Z"
    }
   },
   "outputs": [
    {
     "data": {
      "text/plain": [
       "(['3/16/2019',\n",
       "  '2/19/2020',\n",
       "  '12/1/2016',\n",
       "  '8/12/2016',\n",
       "  '1/6/2017',\n",
       "  '4/20/2019',\n",
       "  '8/1/2014',\n",
       "  '3/17/2018',\n",
       "  '7/14/2013',\n",
       "  '4/20/2016',\n",
       "  '12/22/2017',\n",
       "  '4/18/2011',\n",
       "  '2/13/2008',\n",
       "  '3/10/2009',\n",
       "  '7/25/2015',\n",
       "  '6/14/2012',\n",
       "  '4/9/2011',\n",
       "  '2/22/2013',\n",
       "  '4/22/2012',\n",
       "  '5/23/2012',\n",
       "  '9/8/2010',\n",
       "  '10/5/2009'],\n",
       " ['4 star rating',\n",
       "  '4 star rating',\n",
       "  '4 star rating',\n",
       "  '4 star rating',\n",
       "  '4 star rating',\n",
       "  '4 star rating',\n",
       "  '4 star rating',\n",
       "  '4 star rating',\n",
       "  '4 star rating',\n",
       "  '4 star rating',\n",
       "  '2 star rating',\n",
       "  '2 star rating',\n",
       "  '2 star rating',\n",
       "  '2 star rating',\n",
       "  '2 star rating',\n",
       "  '2 star rating',\n",
       "  '2 star rating',\n",
       "  '2 star rating',\n",
       "  '2 star rating',\n",
       "  '2 star rating',\n",
       "  '4 star rating',\n",
       "  '4 star rating'],\n",
       " ['Brooks C.\\nOmaha, NE\\n64\\n6\\n3/16/2019\\nIt was recommended by our concierge.   It was a short distance from our hotel.   The pizza was huge, Neapolitan-style.  Everyone loved it.   A little spicy, but we loved it.\\n\\nWine was great, ordered by glass.   Staff spoke English.   Too full to try deserts.   Great dinner\\nUseful\\nFunny\\nCool',\n",
       "  'Chef D.\\nBuford, GA\\n0\\n7\\n2/19/2020\\nRude, rude, rude. We were given menus, and sat in the cold waiting for 25 minutes with no service. They were not even remotely busy. Would not recommend for any tourists.\\nUseful\\nFunny\\nCool',\n",
       "  \"Lisa S.\\nElite 2021\\nGeneva, Switzerland\\n113\\n689\\n616\\n12/1/2016\\nThis place was recommended to us by our hotel as it was very close and we arrived in Paris late...late enough that I was hungry but didn't want to eat a heavy meal and ordered soup.  The soup was meh...but around me people were ordering pizza that looked so fabulous I was kicking myself.  The service was rather slow and they completely forgot my water order but if I were to stay in the same neighborhood again I am coming back to try the pizza for sure.\\nUseful\\nFunny 1\\nCool\",\n",
       "  \"Tiffany K.\\nSan Francisco, CA\\n253\\n64\\n1\\n8/12/2016\\nBest pizza in town (or so I'm told).  The crust was perfect and crispy. We had one Parma ham and one Margherita, both great. Just an FYI, the pizza portion is sharing sized.\\n\\nThe star for me was the four cheese rigatoni. Al dente pasta in creamy cheese sauce.\\n\\nAdffogato was also good, but not served with a traditional vanilla ice cream, instead a coffee flavor.\\nUseful\\nFunny\\nCool\",\n",
       "  \"Angie G.\\nSaint-Maurice, France\\n7\\n4\\n1/6/2017\\nWe reserved 5 tables in this place for a Xmas dinner with my collegues and I would definitely NOT recommend this place:\\n1; Ordered a pasta taste was really good but looked like they ran out of it cause the plate was SOOO SMALL! totally NOT worth the price.\\n2. They service was AWFULL. We were all eating and drinking wine and cocktails and we asked for tap water and the waitress told us that she already served some water in the other tables and left. WTF? Two other people asked for water and they kept ignoring us.\\nThey were really bad mannered and when we had to ask something from the menu or something they were extremely rude. I'ts been a while I live here and it's known that service is bad in Paris, but even my french collegues pointed how TERRIBLE SERVICE it was.\\nUseful\\nFunny\\nCool\",\n",
       "  \"MaryAnn M.\\nNew Rochelle, NY\\n48\\n7\\n3\\n4/20/2019\\nOur daughter wanted Italian so we went since this place was near our hotel. We've always heard how the French dislike American's. Well it was apparent here tonight. We walked out after not receiving any table service.\\nUseful\\nFunny\\nCool\",\n",
       "  'Diane L.\\nYorba Linda, CA\\n435\\n164\\n167\\n8/1/2014\\nRat - may I saw more?  \\n\\nThe wine was good and pizza awesome but wait til the construction is done to come back!\\nUseful 1\\nFunny\\nCool 1',\n",
       "  \"Jo K.\\nCalabasas, CA\\n0\\n8\\n3/17/2018\\nI liked paparazzi the first time but not so much this time. First, they didn't have quite a few wines on the menu. Pizza, pasta and octopus were ok; not amazing. Veal dish was pretty disappointing; tasted like TV dinner. Fish was very mediocre. Atmosphere and service were good. But if you are looking for great Italian food, paparazzi is not the place.\\nUseful\\nFunny\\nCool\",\n",
       "  \"Chris M.\\nDelray Beach, FL\\n0\\n1\\n7/14/2013\\nNot a review writer normally but could not pass up opportunity to speak about this establishment .  Just another american couple on holiday in paris with our 12 year old daughter.   Our daughter is a terrific eater and can eat late most of the time but when we went it was 1030pm and we simply wanted quality take out food.   We found this place via yelp.\\n\\nIt's full of Parisians and swell tourists.   It's very clearly NOT set up for take out.   The person in charge was clearly not fazed in any way by our request.   She took our order in our broken French and her excellent English, then sat us at a small table near the front and brought us some wine and olives.   Every single staff person at this place displayed not a hint of attitude, but were not overly fake or fawning either.   Whoever trains and manages this staff and venue should open a school on how to run a restaurant.\\n\\nWhen we got our food back to our hotel room it was not as hot as we would have liked as the staff improvised take out materials, but the quality and taste were absolutely first rate\\nOn disappointment was that we never made it back before leaving.\\n\\nDo yourself a favor and go eat here.\\nUseful 1\\nFunny\\nCool\",\n",
       "  'Melissa B.\\nBoston, MA\\n55\\n37\\n26\\n4/20/2016\\nWorst meal in Paris by far! We sat outside and ordered our meals. Took quite awhile to get our wine and appetizer. We then waited over an hour for our dinner meals. The couple beside us was also waiting and getting impatient. We finally inquired inside about our meals, and the waiter said they thought we left! We were sitting there the whole time (with empty wine glasses at that point). After complaining, our meals arrived about 10 minutes later, however the pasta was cold and the lamb chops were severely undercooked to the point of being almost raw. Disgusting. I would never go back here or recommend to anyone traveling in Paris. There are plenty of other great restaurants in the Opera/Madeleine area!!\\nUseful\\nFunny\\nCool',\n",
       "  'Sk L.\\nHong Kong\\n0\\n1\\n12/22/2017\\nWe had the weirdest pizza in this restaurant.  We ordered the first pizza on the menu which the waitress referred as the special pizza.  However, the pizza had mashed potato and cabbage as the topping with very little cheese.  The crust was not crispy at all.  The service was meh.  No one came and served us.  Our table was very close to another one.  The waiters kept walking between the 2 tables which was very annoying.  The wine was good though.\\nUseful\\nFunny\\nCool',\n",
       "  'Michael L.\\nHouston, TX\\n117\\n791\\n260\\n4/18/2011\\n1 photo\\nNot many Yelpers in Paris, but I lived walking distance to this restaurant and figured why not.  The pizzas are awesome, covers 2 plates, thin crust and was made fast to order.  The wifey ordered a pasta dish and we were both very satisfied with our meal.  The dessert was what blew my wife away.  It was a morangue topped with icecream, whipped cream and berries with another morangue on the side.  Refer to pictures.  Like all things in Paris, it was expensive for the lowly Americans.  The staff had decent english as well.  The clientelle was pretty much locals during their work lunch mostly dressed up in suits and their work clothes.\\nPizza. Yummy\\nUseful 2\\nFunny\\nCool 1',\n",
       "  \"Qype User (aschle…)\\nParis, France\\n27\\n46\\n2/13/2008\\nA great italian place if you love pizza. i have never seen pizzas this big, not even in the US. They actually are served on two big plates!\\n\\nThey also have good non-pizza fare, such as pasta and meat.\\n\\nIt's somewhat in a hidden place but well located as just a block away from L'Olympia Theatre, Galleries Lafayette, Printemps, Square Edouard VII, Opera, etc\\nUseful\\nFunny\\nCool\",\n",
       "  'Qype User (Liam…)\\nLondon, United Kingdom\\n7\\n88\\n15\\n3/10/2009\\nOne of my favorite restos in Paris - great for a lunch break while doing les grands magazins. Hidden away, tourist free and great food, this classicly decorated venue oozes parisian understated chic.\\n\\nPizzas a fantastic and massive - if u dont have a huge appetite, share one with a friend. i also recommend the pesto tagliatelle.\\n\\nFor lunch book beforehand, as always busy.\\nUseful\\nFunny\\nCool',\n",
       "  'Brian N.\\nJanneyrias, France\\n0\\n11\\n1\\n7/25/2015\\nThe pizza is fabulous.  Good luck if you try to conquer one by yourself!   Service was very good quick order, helped with wine selection and desert was nice.   Great place to jump off the tourist path and enjoy some normal local Paris atmosphere.   Take it slow and enjoy!\\nUseful\\nFunny\\nCool',\n",
       "  \"Felipe V.\\nHouston, TX\\n2\\n39\\n2\\n6/14/2012\\nI am a foodie and I must say that the thin crust Dolce Vita (mushrooms & pepperoni) was very tasty and it is perfect for 2 hungry people to share.  The place is also very nice inside, kind of chic.  I'd definitely return for more pizza and next time I'd even like to try a pasta dish too.  I recommend this place.\\nUseful 1\\nFunny\\nCool 1\",\n",
       "  'Yvonne C.\\nVancouver, Canada\\n0\\n3\\n4/9/2011\\nHad dinner here and it was amazing. Discreetly tucked away off a busy shopping street. We had a pizza and a pasta dish. The pizza(Napolentia) covers 2 dinner plates and was thinned crust, while the pasta(Taglierini with truffles) was made perfectly al dente.\\n\\nThe dining area is dimly lit but with many beautiful chandeliers. We did not have reservations but was seated quite quickly. Most staff are knowledgeable in english and service was quite efficient.\\nUseful\\nFunny\\nCool',\n",
       "  'Jim M.\\nLos Angeles, CA\\n1\\n22\\n2/22/2013\\nAwesome pizzas; more than enough for a couple to split.  Very nice seating outdoors on a pedestrian street.  Highly recommend.\\nUseful\\nFunny\\nCool',\n",
       "  'J B.\\nMountain View, CA\\n99\\n12\\n4/22/2012\\nHighly recommend this restaurant.  On a Thursday night, had to wait about ~35 minutes for a table but was able to enjoy a few glasses of wine and olives at the bar.  Dinner was great.  The pizza is \"thin crust\" which is delivered on two plates (cut in half) with large portion sizes.  It is a large pizza for one person.  Also had the buffalo mozzarella appetizer (which was spectacular, best I have ever had).  Price was fair - definitely recommend.  Friendly wait staff and frequented by locals vs. tourists.\\n\\nIt is difficult to find (in an alley, close to the Leonidas chocolate shop) and can enter from two alleys.\\nUseful 1\\nFunny\\nCool 1',\n",
       "  \"G. K.\\nDublin, CA\\n4\\n28\\n6\\n5/23/2012\\nWe made the trek last night for dinner from the Hilton Arc de Triomphe.  With directions from Google maps, we made it with no problem.  The place was PACKED with locals at 8:30pm.  We were seated outside, and ordered a Bottle of Chianti.  Good choice on the wine and ordered the Kim pizza and a salad which had avocado, hearts of palm, cheese, oranges and tomatoes.  The salad was awesome as was the pizza!  As in previous reviews, the pizza was as big as 2 plates, perfect to split.  The service was decent, a little over priced but I guess I didn't come to Paris to save $.  We would definitely recommend and go again.\\nUseful 1\\nFunny 1\\nCool 2\",\n",
       "  \"blah b.\\nNewtown Square, PA\\n2\\n71\\n45\\n9/8/2010\\nhad a great lunch here. the pizzas are out of this world! it's a bit hard to get to, but once you find it, you're definitely going back!\\nUseful 1\\nFunny\\nCool 1\",\n",
       "  \"Qype User (pm…)\\nParis, France\\n0\\n3\\n10/5/2009\\nUpdated review\\navoid if you are older than 16, this a typical over rated over priced over hyped Parisian restaurants.\\nUseful\\nFunny\\nCool\\n10/5/2009Previous review\\na éviter pour le diner :\\n- salle hyper bruyante,\\n- suis tombé sur un serveur nul : 20 minutes d'attente avant la prise de commande, il nous propose l'addition alors que je venait de demander la carte des desserts, verre de vin facturé 5EUR50 alors que le vin commandé était à 4EUR sur la carte,\\n- certes les pizza sont énormes mais la pâte est trop fine et beaucoup trop sèche\\n- plat de veau qui baigne dans la graisse, et qui n'est pas du tout aussi fin qu'annoncé, écrasée de pomme de terre qui a un goût de flotte.\\n\\nIl y a trop de restaurants dignes de ce nom à Paris pour se laisser berner par ce lieu totalement hors de prix compte tenu de la qualité du service et de la cuisine.\\nRead more\"])"
      ]
     },
     "execution_count": 16,
     "metadata": {},
     "output_type": "execute_result"
    }
   ],
   "source": [
    "dates,rates,reviews "
   ]
  },
  {
   "cell_type": "code",
   "execution_count": 18,
   "id": "47a8df55",
   "metadata": {
    "ExecuteTime": {
     "end_time": "2021-11-22T20:09:54.845389Z",
     "start_time": "2021-11-22T20:09:54.840473Z"
    }
   },
   "outputs": [
    {
     "data": {
      "text/plain": [
       "(22, 22, 22)"
      ]
     },
     "execution_count": 18,
     "metadata": {},
     "output_type": "execute_result"
    }
   ],
   "source": [
    "len(dates) , len(reviews) , len(rates)"
   ]
  },
  {
   "cell_type": "code",
   "execution_count": 25,
   "id": "ffa1e222",
   "metadata": {
    "ExecuteTime": {
     "end_time": "2021-11-22T20:13:40.408430Z",
     "start_time": "2021-11-22T20:13:40.402691Z"
    }
   },
   "outputs": [],
   "source": [
    "yelp_reviews=pd.DataFrame({\n",
    "    'date':dates,\n",
    "    'rate': rates,\n",
    "    'review' : reviews\n",
    "    \n",
    "})"
   ]
  },
  {
   "cell_type": "code",
   "execution_count": 26,
   "id": "ac484a50",
   "metadata": {
    "ExecuteTime": {
     "end_time": "2021-11-22T20:13:41.086701Z",
     "start_time": "2021-11-22T20:13:41.074068Z"
    }
   },
   "outputs": [
    {
     "data": {
      "text/html": [
       "<div>\n",
       "<style scoped>\n",
       "    .dataframe tbody tr th:only-of-type {\n",
       "        vertical-align: middle;\n",
       "    }\n",
       "\n",
       "    .dataframe tbody tr th {\n",
       "        vertical-align: top;\n",
       "    }\n",
       "\n",
       "    .dataframe thead th {\n",
       "        text-align: right;\n",
       "    }\n",
       "</style>\n",
       "<table border=\"1\" class=\"dataframe\">\n",
       "  <thead>\n",
       "    <tr style=\"text-align: right;\">\n",
       "      <th></th>\n",
       "      <th>date</th>\n",
       "      <th>rate</th>\n",
       "      <th>review</th>\n",
       "    </tr>\n",
       "  </thead>\n",
       "  <tbody>\n",
       "    <tr>\n",
       "      <th>0</th>\n",
       "      <td>3/16/2019</td>\n",
       "      <td>4 star rating</td>\n",
       "      <td>Brooks C.\\nOmaha, NE\\n64\\n6\\n3/16/2019\\nIt was...</td>\n",
       "    </tr>\n",
       "    <tr>\n",
       "      <th>1</th>\n",
       "      <td>2/19/2020</td>\n",
       "      <td>1 star rating</td>\n",
       "      <td>Chef D.\\nBuford, GA\\n0\\n7\\n2/19/2020\\nRude, ru...</td>\n",
       "    </tr>\n",
       "    <tr>\n",
       "      <th>2</th>\n",
       "      <td>12/1/2016</td>\n",
       "      <td>3 star rating</td>\n",
       "      <td>Lisa S.\\nElite 2021\\nGeneva, Switzerland\\n113\\...</td>\n",
       "    </tr>\n",
       "    <tr>\n",
       "      <th>3</th>\n",
       "      <td>8/12/2016</td>\n",
       "      <td>4 star rating</td>\n",
       "      <td>Tiffany K.\\nSan Francisco, CA\\n253\\n64\\n1\\n8/1...</td>\n",
       "    </tr>\n",
       "    <tr>\n",
       "      <th>4</th>\n",
       "      <td>1/6/2017</td>\n",
       "      <td>1 star rating</td>\n",
       "      <td>Angie G.\\nSaint-Maurice, France\\n7\\n4\\n1/6/201...</td>\n",
       "    </tr>\n",
       "    <tr>\n",
       "      <th>5</th>\n",
       "      <td>4/20/2019</td>\n",
       "      <td>1 star rating</td>\n",
       "      <td>MaryAnn M.\\nNew Rochelle, NY\\n48\\n7\\n3\\n4/20/2...</td>\n",
       "    </tr>\n",
       "    <tr>\n",
       "      <th>6</th>\n",
       "      <td>8/1/2014</td>\n",
       "      <td>1 star rating</td>\n",
       "      <td>Diane L.\\nYorba Linda, CA\\n435\\n164\\n167\\n8/1/...</td>\n",
       "    </tr>\n",
       "    <tr>\n",
       "      <th>7</th>\n",
       "      <td>3/17/2018</td>\n",
       "      <td>3 star rating</td>\n",
       "      <td>Jo K.\\nCalabasas, CA\\n0\\n8\\n3/17/2018\\nI liked...</td>\n",
       "    </tr>\n",
       "    <tr>\n",
       "      <th>8</th>\n",
       "      <td>7/14/2013</td>\n",
       "      <td>5 star rating</td>\n",
       "      <td>Chris M.\\nDelray Beach, FL\\n0\\n1\\n7/14/2013\\nN...</td>\n",
       "    </tr>\n",
       "    <tr>\n",
       "      <th>9</th>\n",
       "      <td>4/20/2016</td>\n",
       "      <td>1 star rating</td>\n",
       "      <td>Melissa B.\\nBoston, MA\\n55\\n37\\n26\\n4/20/2016\\...</td>\n",
       "    </tr>\n",
       "    <tr>\n",
       "      <th>10</th>\n",
       "      <td>12/22/2017</td>\n",
       "      <td>2 star rating</td>\n",
       "      <td>Sk L.\\nHong Kong\\n0\\n1\\n12/22/2017\\nWe had the...</td>\n",
       "    </tr>\n",
       "    <tr>\n",
       "      <th>11</th>\n",
       "      <td>4/18/2011</td>\n",
       "      <td>4 star rating</td>\n",
       "      <td>Michael L.\\nHouston, TX\\n117\\n791\\n260\\n4/18/2...</td>\n",
       "    </tr>\n",
       "    <tr>\n",
       "      <th>12</th>\n",
       "      <td>2/13/2008</td>\n",
       "      <td>4 star rating</td>\n",
       "      <td>Qype User (aschle…)\\nParis, France\\n27\\n46\\n2/...</td>\n",
       "    </tr>\n",
       "    <tr>\n",
       "      <th>13</th>\n",
       "      <td>3/10/2009</td>\n",
       "      <td>5 star rating</td>\n",
       "      <td>Qype User (Liam…)\\nLondon, United Kingdom\\n7\\n...</td>\n",
       "    </tr>\n",
       "    <tr>\n",
       "      <th>14</th>\n",
       "      <td>7/25/2015</td>\n",
       "      <td>5 star rating</td>\n",
       "      <td>Brian N.\\nJanneyrias, France\\n0\\n11\\n1\\n7/25/2...</td>\n",
       "    </tr>\n",
       "    <tr>\n",
       "      <th>15</th>\n",
       "      <td>6/14/2012</td>\n",
       "      <td>4 star rating</td>\n",
       "      <td>Felipe V.\\nHouston, TX\\n2\\n39\\n2\\n6/14/2012\\nI...</td>\n",
       "    </tr>\n",
       "    <tr>\n",
       "      <th>16</th>\n",
       "      <td>4/9/2011</td>\n",
       "      <td>5 star rating</td>\n",
       "      <td>Yvonne C.\\nVancouver, Canada\\n0\\n3\\n4/9/2011\\n...</td>\n",
       "    </tr>\n",
       "    <tr>\n",
       "      <th>17</th>\n",
       "      <td>2/22/2013</td>\n",
       "      <td>5 star rating</td>\n",
       "      <td>Jim M.\\nLos Angeles, CA\\n1\\n22\\n2/22/2013\\nAwe...</td>\n",
       "    </tr>\n",
       "    <tr>\n",
       "      <th>18</th>\n",
       "      <td>4/22/2012</td>\n",
       "      <td>4 star rating</td>\n",
       "      <td>J B.\\nMountain View, CA\\n99\\n12\\n4/22/2012\\nHi...</td>\n",
       "    </tr>\n",
       "    <tr>\n",
       "      <th>19</th>\n",
       "      <td>5/23/2012</td>\n",
       "      <td>4 star rating</td>\n",
       "      <td>G. K.\\nDublin, CA\\n4\\n28\\n6\\n5/23/2012\\nWe mad...</td>\n",
       "    </tr>\n",
       "    <tr>\n",
       "      <th>20</th>\n",
       "      <td>9/8/2010</td>\n",
       "      <td>4 star rating</td>\n",
       "      <td>blah b.\\nNewtown Square, PA\\n2\\n71\\n45\\n9/8/20...</td>\n",
       "    </tr>\n",
       "    <tr>\n",
       "      <th>21</th>\n",
       "      <td>10/5/2009</td>\n",
       "      <td>1 star rating</td>\n",
       "      <td>Qype User (pm…)\\nParis, France\\n0\\n3\\n10/5/200...</td>\n",
       "    </tr>\n",
       "  </tbody>\n",
       "</table>\n",
       "</div>"
      ],
      "text/plain": [
       "          date           rate  \\\n",
       "0    3/16/2019  4 star rating   \n",
       "1    2/19/2020  1 star rating   \n",
       "2    12/1/2016  3 star rating   \n",
       "3    8/12/2016  4 star rating   \n",
       "4     1/6/2017  1 star rating   \n",
       "5    4/20/2019  1 star rating   \n",
       "6     8/1/2014  1 star rating   \n",
       "7    3/17/2018  3 star rating   \n",
       "8    7/14/2013  5 star rating   \n",
       "9    4/20/2016  1 star rating   \n",
       "10  12/22/2017  2 star rating   \n",
       "11   4/18/2011  4 star rating   \n",
       "12   2/13/2008  4 star rating   \n",
       "13   3/10/2009  5 star rating   \n",
       "14   7/25/2015  5 star rating   \n",
       "15   6/14/2012  4 star rating   \n",
       "16    4/9/2011  5 star rating   \n",
       "17   2/22/2013  5 star rating   \n",
       "18   4/22/2012  4 star rating   \n",
       "19   5/23/2012  4 star rating   \n",
       "20    9/8/2010  4 star rating   \n",
       "21   10/5/2009  1 star rating   \n",
       "\n",
       "                                               review  \n",
       "0   Brooks C.\\nOmaha, NE\\n64\\n6\\n3/16/2019\\nIt was...  \n",
       "1   Chef D.\\nBuford, GA\\n0\\n7\\n2/19/2020\\nRude, ru...  \n",
       "2   Lisa S.\\nElite 2021\\nGeneva, Switzerland\\n113\\...  \n",
       "3   Tiffany K.\\nSan Francisco, CA\\n253\\n64\\n1\\n8/1...  \n",
       "4   Angie G.\\nSaint-Maurice, France\\n7\\n4\\n1/6/201...  \n",
       "5   MaryAnn M.\\nNew Rochelle, NY\\n48\\n7\\n3\\n4/20/2...  \n",
       "6   Diane L.\\nYorba Linda, CA\\n435\\n164\\n167\\n8/1/...  \n",
       "7   Jo K.\\nCalabasas, CA\\n0\\n8\\n3/17/2018\\nI liked...  \n",
       "8   Chris M.\\nDelray Beach, FL\\n0\\n1\\n7/14/2013\\nN...  \n",
       "9   Melissa B.\\nBoston, MA\\n55\\n37\\n26\\n4/20/2016\\...  \n",
       "10  Sk L.\\nHong Kong\\n0\\n1\\n12/22/2017\\nWe had the...  \n",
       "11  Michael L.\\nHouston, TX\\n117\\n791\\n260\\n4/18/2...  \n",
       "12  Qype User (aschle…)\\nParis, France\\n27\\n46\\n2/...  \n",
       "13  Qype User (Liam…)\\nLondon, United Kingdom\\n7\\n...  \n",
       "14  Brian N.\\nJanneyrias, France\\n0\\n11\\n1\\n7/25/2...  \n",
       "15  Felipe V.\\nHouston, TX\\n2\\n39\\n2\\n6/14/2012\\nI...  \n",
       "16  Yvonne C.\\nVancouver, Canada\\n0\\n3\\n4/9/2011\\n...  \n",
       "17  Jim M.\\nLos Angeles, CA\\n1\\n22\\n2/22/2013\\nAwe...  \n",
       "18  J B.\\nMountain View, CA\\n99\\n12\\n4/22/2012\\nHi...  \n",
       "19  G. K.\\nDublin, CA\\n4\\n28\\n6\\n5/23/2012\\nWe mad...  \n",
       "20  blah b.\\nNewtown Square, PA\\n2\\n71\\n45\\n9/8/20...  \n",
       "21  Qype User (pm…)\\nParis, France\\n0\\n3\\n10/5/200...  "
      ]
     },
     "execution_count": 26,
     "metadata": {},
     "output_type": "execute_result"
    }
   ],
   "source": [
    "yelp_reviews"
   ]
  },
  {
   "cell_type": "code",
   "execution_count": 33,
   "id": "d82288d2",
   "metadata": {
    "ExecuteTime": {
     "end_time": "2021-11-22T20:27:34.524001Z",
     "start_time": "2021-11-22T20:27:34.500159Z"
    }
   },
   "outputs": [
    {
     "ename": "TypeError",
     "evalue": "must be str or None, not StringMethods",
     "output_type": "error",
     "traceback": [
      "\u001b[0;31m---------------------------------------------------------------------------\u001b[0m",
      "\u001b[0;31mTypeError\u001b[0m                                 Traceback (most recent call last)",
      "\u001b[0;32m/var/folders/zd/9ts3jb2s5472mty2sgdddp3m0000gn/T/ipykernel_55329/3919957580.py\u001b[0m in \u001b[0;36m<module>\u001b[0;34m\u001b[0m\n\u001b[0;32m----> 1\u001b[0;31m \u001b[0myelp_reviews\u001b[0m\u001b[0;34m[\u001b[0m\u001b[0;34m'review'\u001b[0m\u001b[0;34m]\u001b[0m\u001b[0;34m.\u001b[0m\u001b[0mapply\u001b[0m\u001b[0;34m(\u001b[0m\u001b[0;32mlambda\u001b[0m \u001b[0mtxt\u001b[0m\u001b[0;34m:\u001b[0m\u001b[0mtxt\u001b[0m\u001b[0;34m.\u001b[0m\u001b[0msplit\u001b[0m\u001b[0;34m(\u001b[0m\u001b[0myelp_reviews\u001b[0m\u001b[0;34m[\u001b[0m\u001b[0;34m'date'\u001b[0m\u001b[0;34m]\u001b[0m\u001b[0;34m.\u001b[0m\u001b[0mstr\u001b[0m\u001b[0;34m)\u001b[0m\u001b[0;34m)\u001b[0m\u001b[0;34m\u001b[0m\u001b[0;34m\u001b[0m\u001b[0m\n\u001b[0m",
      "\u001b[0;32m~/.pyenv/versions/3.8.12/envs/FOBO/lib/python3.8/site-packages/pandas/core/series.py\u001b[0m in \u001b[0;36mapply\u001b[0;34m(self, func, convert_dtype, args, **kwargs)\u001b[0m\n\u001b[1;32m   4355\u001b[0m         \u001b[0mdtype\u001b[0m\u001b[0;34m:\u001b[0m \u001b[0mfloat64\u001b[0m\u001b[0;34m\u001b[0m\u001b[0;34m\u001b[0m\u001b[0m\n\u001b[1;32m   4356\u001b[0m         \"\"\"\n\u001b[0;32m-> 4357\u001b[0;31m         \u001b[0;32mreturn\u001b[0m \u001b[0mSeriesApply\u001b[0m\u001b[0;34m(\u001b[0m\u001b[0mself\u001b[0m\u001b[0;34m,\u001b[0m \u001b[0mfunc\u001b[0m\u001b[0;34m,\u001b[0m \u001b[0mconvert_dtype\u001b[0m\u001b[0;34m,\u001b[0m \u001b[0margs\u001b[0m\u001b[0;34m,\u001b[0m \u001b[0mkwargs\u001b[0m\u001b[0;34m)\u001b[0m\u001b[0;34m.\u001b[0m\u001b[0mapply\u001b[0m\u001b[0;34m(\u001b[0m\u001b[0;34m)\u001b[0m\u001b[0;34m\u001b[0m\u001b[0;34m\u001b[0m\u001b[0m\n\u001b[0m\u001b[1;32m   4358\u001b[0m \u001b[0;34m\u001b[0m\u001b[0m\n\u001b[1;32m   4359\u001b[0m     def _reduce(\n",
      "\u001b[0;32m~/.pyenv/versions/3.8.12/envs/FOBO/lib/python3.8/site-packages/pandas/core/apply.py\u001b[0m in \u001b[0;36mapply\u001b[0;34m(self)\u001b[0m\n\u001b[1;32m   1041\u001b[0m             \u001b[0;32mreturn\u001b[0m \u001b[0mself\u001b[0m\u001b[0;34m.\u001b[0m\u001b[0mapply_str\u001b[0m\u001b[0;34m(\u001b[0m\u001b[0;34m)\u001b[0m\u001b[0;34m\u001b[0m\u001b[0;34m\u001b[0m\u001b[0m\n\u001b[1;32m   1042\u001b[0m \u001b[0;34m\u001b[0m\u001b[0m\n\u001b[0;32m-> 1043\u001b[0;31m         \u001b[0;32mreturn\u001b[0m \u001b[0mself\u001b[0m\u001b[0;34m.\u001b[0m\u001b[0mapply_standard\u001b[0m\u001b[0;34m(\u001b[0m\u001b[0;34m)\u001b[0m\u001b[0;34m\u001b[0m\u001b[0;34m\u001b[0m\u001b[0m\n\u001b[0m\u001b[1;32m   1044\u001b[0m \u001b[0;34m\u001b[0m\u001b[0m\n\u001b[1;32m   1045\u001b[0m     \u001b[0;32mdef\u001b[0m \u001b[0magg\u001b[0m\u001b[0;34m(\u001b[0m\u001b[0mself\u001b[0m\u001b[0;34m)\u001b[0m\u001b[0;34m:\u001b[0m\u001b[0;34m\u001b[0m\u001b[0;34m\u001b[0m\u001b[0m\n",
      "\u001b[0;32m~/.pyenv/versions/3.8.12/envs/FOBO/lib/python3.8/site-packages/pandas/core/apply.py\u001b[0m in \u001b[0;36mapply_standard\u001b[0;34m(self)\u001b[0m\n\u001b[1;32m   1096\u001b[0m                 \u001b[0;31m# List[Union[Callable[..., Any], str]]]]]\"; expected\u001b[0m\u001b[0;34m\u001b[0m\u001b[0;34m\u001b[0m\u001b[0;34m\u001b[0m\u001b[0m\n\u001b[1;32m   1097\u001b[0m                 \u001b[0;31m# \"Callable[[Any], Any]\"\u001b[0m\u001b[0;34m\u001b[0m\u001b[0;34m\u001b[0m\u001b[0;34m\u001b[0m\u001b[0m\n\u001b[0;32m-> 1098\u001b[0;31m                 mapped = lib.map_infer(\n\u001b[0m\u001b[1;32m   1099\u001b[0m                     \u001b[0mvalues\u001b[0m\u001b[0;34m,\u001b[0m\u001b[0;34m\u001b[0m\u001b[0;34m\u001b[0m\u001b[0m\n\u001b[1;32m   1100\u001b[0m                     \u001b[0mf\u001b[0m\u001b[0;34m,\u001b[0m  \u001b[0;31m# type: ignore[arg-type]\u001b[0m\u001b[0;34m\u001b[0m\u001b[0;34m\u001b[0m\u001b[0m\n",
      "\u001b[0;32m~/.pyenv/versions/3.8.12/envs/FOBO/lib/python3.8/site-packages/pandas/_libs/lib.pyx\u001b[0m in \u001b[0;36mpandas._libs.lib.map_infer\u001b[0;34m()\u001b[0m\n",
      "\u001b[0;32m/var/folders/zd/9ts3jb2s5472mty2sgdddp3m0000gn/T/ipykernel_55329/3919957580.py\u001b[0m in \u001b[0;36m<lambda>\u001b[0;34m(txt)\u001b[0m\n\u001b[0;32m----> 1\u001b[0;31m \u001b[0myelp_reviews\u001b[0m\u001b[0;34m[\u001b[0m\u001b[0;34m'review'\u001b[0m\u001b[0;34m]\u001b[0m\u001b[0;34m.\u001b[0m\u001b[0mapply\u001b[0m\u001b[0;34m(\u001b[0m\u001b[0;32mlambda\u001b[0m \u001b[0mtxt\u001b[0m\u001b[0;34m:\u001b[0m\u001b[0mtxt\u001b[0m\u001b[0;34m.\u001b[0m\u001b[0msplit\u001b[0m\u001b[0;34m(\u001b[0m\u001b[0myelp_reviews\u001b[0m\u001b[0;34m[\u001b[0m\u001b[0;34m'date'\u001b[0m\u001b[0;34m]\u001b[0m\u001b[0;34m.\u001b[0m\u001b[0mstr\u001b[0m\u001b[0;34m)\u001b[0m\u001b[0;34m)\u001b[0m\u001b[0;34m\u001b[0m\u001b[0;34m\u001b[0m\u001b[0m\n\u001b[0m",
      "\u001b[0;31mTypeError\u001b[0m: must be str or None, not StringMethods"
     ]
    }
   ],
   "source": [
    "for i,serie in yelp_reviews.iterrows():\n",
    "    "
   ]
  },
  {
   "cell_type": "markdown",
   "id": "8a64da94",
   "metadata": {},
   "source": [
    "## Google Review Scrapping"
   ]
  },
  {
   "cell_type": "code",
   "execution_count": 35,
   "id": "e439fc38",
   "metadata": {
    "ExecuteTime": {
     "end_time": "2021-11-22T13:49:08.770433Z",
     "start_time": "2021-11-22T13:49:08.746906Z"
    }
   },
   "outputs": [],
   "source": [
    "## Get place ID \n",
    "\n",
    "def get_place_google_id(name,latitude,longitude):\n",
    "\n",
    "    url = 'https://maps.googleapis.com/maps/api/place/findplacefromtext/json'\n",
    "    params={\n",
    "        'key' : google_key,\n",
    "        'input' : name,\n",
    "        'inputtype' : 'textquery',\n",
    "        'locationbias' : f'point:{latitude},{longitude}'\n",
    "    }\n",
    "    \n",
    "    response = requests.get(url,params=params)\n",
    "    \n",
    "    #if conditions to avoid raising errors\n",
    "    if response.status_code != 200:\n",
    "        return ''\n",
    "        \n",
    "    if 'candidates' in response.json():\n",
    "        response = response.json()['candidates']\n",
    "        if len(response)==0:\n",
    "            return ''\n",
    "        if 'place_id' in response[0]:\n",
    "            return response[0]['place_id']\n",
    "    \n",
    "    return ''\n"
   ]
  },
  {
   "cell_type": "code",
   "execution_count": 36,
   "id": "fab5fab0",
   "metadata": {
    "ExecuteTime": {
     "end_time": "2021-11-22T13:49:09.867665Z",
     "start_time": "2021-11-22T13:49:09.347605Z"
    }
   },
   "outputs": [
    {
     "data": {
      "text/plain": [
       "'ChIJ4xutfT5u5kcRaJn2NkiOhPU'"
      ]
     },
     "execution_count": 36,
     "metadata": {},
     "output_type": "execute_result"
    }
   ],
   "source": [
    "## id_ for testing purposes -- don't request API multiple times\n",
    "\n",
    "name = df.loc[0,'name']\n",
    "lat = df.loc[0,'latitude']\n",
    "lon = df.loc[0,'longitude']\n",
    "id_=get_place_google_id(name,lat,lon)\n",
    "\n",
    "id_"
   ]
  },
  {
   "cell_type": "code",
   "execution_count": 37,
   "id": "bde7e1ca",
   "metadata": {
    "ExecuteTime": {
     "end_time": "2021-11-22T13:49:10.841254Z",
     "start_time": "2021-11-22T13:49:10.816798Z"
    }
   },
   "outputs": [],
   "source": [
    "## Get place url\n",
    "\n",
    "def get_place_google_url(place_id):\n",
    "    url='https://maps.googleapis.com/maps/api/place/details/json'\n",
    "    params={\n",
    "        'key' : google_key,\n",
    "        'place_id' : place_id,\n",
    "        'fields' : 'url'\n",
    "    }\n",
    "    \n",
    "    response = requests.get(url,params=params)\n",
    "    \n",
    "    #if conditions to avoid raising errors\n",
    "    if response.status_code != 200:\n",
    "        return ''\n",
    "    \n",
    "    if 'result' in response.json():\n",
    "        response = response.json()['result']\n",
    "        if 'url' in response:\n",
    "            return response['url']\n",
    "    \n",
    "    return ''\n"
   ]
  },
  {
   "cell_type": "code",
   "execution_count": 38,
   "id": "2099925a",
   "metadata": {
    "ExecuteTime": {
     "end_time": "2021-11-22T13:49:11.609523Z",
     "start_time": "2021-11-22T13:49:11.458186Z"
    }
   },
   "outputs": [
    {
     "data": {
      "text/plain": [
       "'https://maps.google.com/?cid=17691421677029071208'"
      ]
     },
     "execution_count": 38,
     "metadata": {},
     "output_type": "execute_result"
    }
   ],
   "source": [
    "## url_for_test for testing purposes -- don't request API multiple times\n",
    "\n",
    "url_for_test=get_place_google_url(id_)\n",
    "url_for_test"
   ]
  },
  {
   "cell_type": "code",
   "execution_count": 39,
   "id": "dcfcb976",
   "metadata": {
    "ExecuteTime": {
     "end_time": "2021-11-22T13:49:14.473050Z",
     "start_time": "2021-11-22T13:49:14.444385Z"
    }
   },
   "outputs": [],
   "source": [
    "### Get all reviews from a Google page\n",
    "\n",
    "\n",
    "def get_reviews_google(url,scroll_limit=None,quiet_mode=True,return_count=False):\n",
    "    \n",
    "    options=Options()\n",
    "    if quiet_mode:\n",
    "        options.add_argument('--headless')    \n",
    "    driver = webdriver.Chrome(options=options)\n",
    "    driver.get(url)\n",
    "\n",
    "    \n",
    "    ###Expand all the reviews using Selenium\n",
    "        # privacy pop-up\n",
    "    xpath = \"/html/body/c-wiz/div/div/div/div[2]/div[1]/div[4]/form/div[1]/div/button/span\"\n",
    "    driver.find_element_by_xpath(xpath).click()\n",
    "\n",
    "        #review_count click\n",
    "    xpath = '//*[@id=\"pane\"]/div/div[1]/div/div/div[2]/div[1]/div[1]/div[2]/div/div[1]/span[1]/span/span[1]/span[2]'\n",
    "\n",
    "    review_count = driver.find_element_by_xpath(xpath).text\n",
    "    review_count=review_count.split(' ', 1)[0]\n",
    "\n",
    "    driver.find_element_by_xpath(xpath).click()\n",
    "\n",
    "        #scroll to show all reviews\n",
    "    time.sleep(2)\n",
    "    if scroll_limit:\n",
    "        review_count=scroll_limit\n",
    "    scrollable_div = driver.find_element_by_xpath('//*[@id=\"pane\"]/div/div[1]/div/div/div[2]')\n",
    "    for i in range(0,(round(int(review_count)/10-1))):\n",
    "            driver.execute_script('arguments[0].scrollTop = arguments[0].scrollHeight', \n",
    "                    scrollable_div)\n",
    "            time.sleep(2)\n",
    "\n",
    "\n",
    "    ### Scrap the reviews info using BS      \n",
    "    soup = BeautifulSoup(driver.page_source, 'html.parser')\n",
    "    \n",
    "    #Scrap the reviews text\n",
    "    reviews_soup = soup.find_all('div', class_='ODSEW-ShBeI NIyLF-haAclf gm2-body-2')\n",
    "    reviews = [r.text for r in reviews_soup]\n",
    "    \n",
    "    #Scrap the reviews rate\n",
    "    review_rates_soup = [s.find('span',class_='ODSEW-ShBeI-H1e3jb') for s in reviews_soup]\n",
    "    review_rates = [rr.attrs['aria-label'][1] for rr in review_rates_soup]\n",
    "    \n",
    "    #Scrap the reviews date\n",
    "    review_dates_soup=[s.find('span', class_='ODSEW-ShBeI-RgZmSc-date') for s in reviews_soup]\n",
    "    review_dates=[rd.text for rd in review_dates_soup]\n",
    "    \n",
    "    \n",
    "    if return_count:\n",
    "        return review_count,review_dates,review_rates,reviews\n",
    "    \n",
    "    return review_dates,review_rates,reviews\n"
   ]
  },
  {
   "cell_type": "code",
   "execution_count": 40,
   "id": "d7520627",
   "metadata": {
    "ExecuteTime": {
     "end_time": "2021-11-22T13:49:30.705706Z",
     "start_time": "2021-11-22T13:49:17.393718Z"
    }
   },
   "outputs": [
    {
     "name": "stderr",
     "output_type": "stream",
     "text": [
      "/var/folders/zd/9ts3jb2s5472mty2sgdddp3m0000gn/T/ipykernel_42052/2372629914.py:16: DeprecationWarning: find_element_by_* commands are deprecated. Please use find_element() instead\n",
      "  driver.find_element_by_xpath(xpath).click()\n",
      "/var/folders/zd/9ts3jb2s5472mty2sgdddp3m0000gn/T/ipykernel_42052/2372629914.py:21: DeprecationWarning: find_element_by_* commands are deprecated. Please use find_element() instead\n",
      "  review_count = driver.find_element_by_xpath(xpath).text\n",
      "/var/folders/zd/9ts3jb2s5472mty2sgdddp3m0000gn/T/ipykernel_42052/2372629914.py:24: DeprecationWarning: find_element_by_* commands are deprecated. Please use find_element() instead\n",
      "  driver.find_element_by_xpath(xpath).click()\n",
      "/var/folders/zd/9ts3jb2s5472mty2sgdddp3m0000gn/T/ipykernel_42052/2372629914.py:30: DeprecationWarning: find_element_by_* commands are deprecated. Please use find_element() instead\n",
      "  scrollable_div = driver.find_element_by_xpath('//*[@id=\"pane\"]/div/div[1]/div/div/div[2]')\n"
     ]
    }
   ],
   "source": [
    "review_dates,review_rates,reviews = get_reviews_google(url_for_test,scroll_limit=40,quiet_mode=False)"
   ]
  },
  {
   "cell_type": "code",
   "execution_count": 41,
   "id": "2791a1fb",
   "metadata": {
    "ExecuteTime": {
     "end_time": "2021-11-22T13:49:49.192398Z",
     "start_time": "2021-11-22T13:49:49.146324Z"
    }
   },
   "outputs": [
    {
     "data": {
      "text/plain": [
       "['il y a une semaine',\n",
       " 'il y a 4\\xa0jours',\n",
       " 'il y a 4\\xa0jours',\n",
       " 'il y a un mois',\n",
       " 'il y a un mois',\n",
       " 'il y a 2\\xa0mois',\n",
       " 'il y a 2\\xa0mois',\n",
       " 'il y a une semaine',\n",
       " 'il y a un mois',\n",
       " 'il y a 2\\xa0mois',\n",
       " 'il y a 3\\xa0mois',\n",
       " 'il y a 2\\xa0mois',\n",
       " 'il y a 3\\xa0mois',\n",
       " 'il y a 3\\xa0mois',\n",
       " 'il y a 4\\xa0mois',\n",
       " 'il y a 3\\xa0semaines',\n",
       " 'il y a 4\\xa0mois',\n",
       " 'il y a 3\\xa0mois',\n",
       " 'il y a 4\\xa0mois',\n",
       " 'il y a 2\\xa0semaines',\n",
       " 'il y a une semaine',\n",
       " 'il y a une semaine',\n",
       " 'il y a une semaine',\n",
       " 'il y a un mois',\n",
       " 'il y a un mois',\n",
       " 'il y a 4\\xa0mois',\n",
       " 'il y a 3\\xa0semaines',\n",
       " 'il y a 3\\xa0mois',\n",
       " 'il y a un mois',\n",
       " 'il y a 3\\xa0mois',\n",
       " 'il y a une semaine',\n",
       " 'il y a une semaine',\n",
       " 'il y a 3\\xa0mois',\n",
       " 'il y a un mois',\n",
       " 'il y a 4\\xa0mois',\n",
       " 'il y a une semaine',\n",
       " 'il y a 3\\xa0mois',\n",
       " 'il y a 3\\xa0semaines',\n",
       " 'il y a une semaine',\n",
       " 'il y a 3\\xa0mois']"
      ]
     },
     "execution_count": 41,
     "metadata": {},
     "output_type": "execute_result"
    }
   ],
   "source": [
    "review_dates"
   ]
  },
  {
   "cell_type": "code",
   "execution_count": 42,
   "id": "a5f9179b",
   "metadata": {
    "ExecuteTime": {
     "end_time": "2021-11-22T13:49:55.901610Z",
     "start_time": "2021-11-22T13:49:55.876205Z"
    }
   },
   "outputs": [
    {
     "data": {
      "text/plain": [
       "[\"                  Jean-Luc Paredes  Local\\xa0Guide6\\xa0avis               il y a une semaine Nouveau    Excellent ! Typique ! La vrai brasserie parisienne telle qu'on l'espère ! Un serveur au top. Des voisins de table sympa. Tout était réuni pour passer un agréable moment !       Visité en novembre                J'aime    Partager       \",\n",
       " \"                  Pascal vacaresse  Local\\xa0Guide · 48\\xa0avis               il y a 4\\xa0jours Nouveau    De passage à Paris pour quelques jours. Une visite dans ce lieu me semblait incontournable. Victime de leur succès 1h30 d'attente pour avoir une table. Restauration convenable et les prix accessibles pour tous. Un peu bruyant. …    Plus      Visité en novembre             +2         J'aime    Partager       \",\n",
       " \"                  Marie Claude Suchet  Local\\xa0Guide · 172\\xa0avis               il y a 4\\xa0jours Nouveau    C'est vrai c'est vraiment une brasserie hors du temps où vous pouvez manger seul, car c'est un véritable spectacle. Nous y sommes allés entre collègues et nous avons eu la chance d'être reçus au fond de la salle dans un petit recoin fort …    Plus      Visité en novembre             +3         J'aime    Partager       \",\n",
       " \"                  Michel C.  Local\\xa0Guide · 140\\xa0avis               il y a un mois Nouveau    Endroit sympa un peu hors du temps. Si l'on veut prendre son temps et manger en tête à tête en amoureux c'est non. Il y aura toujours quelqu'un à côté. Service express c'est le but. La terrine maison est très bonne. Le baba au rhum très …    Plus      Visité en septembre                      J'aime8    Partager       \",\n",
       " '                  Jackie Ibanez  Local\\xa0Guide · 56\\xa0avis               il y a un mois Nouveau    Endroit magnifique, le vrai bistrot parisien où on vous reçoit avec un grand sourire. Excellent rapport qualité prix !!! Merci à notre serveur N\"31  pour sa gentillesse, son sourire, sa bonne humeur et efficacité.       Visité en octobre                   J\\'aime    Partager       ',\n",
       " \"                  Lam Son Gossart-Tran  Local\\xa0Guide · 61\\xa0avis               il y a 2\\xa0mois Nouveau    Très bon rapport qualité prix. C’est une bonne brasserie parisienne, les plats sont simples et bons pour la plupart. Le poulet rôti est un peu sec et le riz n’a pas de sauce c’est dommage. Les spaghettis bolognaises étaient un peu trop …    Plus      Visité en août             +5         J'aime1    Partager       \",\n",
       " \"                  Arnaud B  Local\\xa0Guide · 28\\xa0avis               il y a 2\\xa0mois Nouveau    Institution Parisienne.\\nExcellent rapport qualité prix.\\nService efficace dans la conformité des règles des grandes brasseries. …    Plus      Visité en septembre                      J'aime5    Partager       \",\n",
       " \"                  Bastien Novak  Local\\xa0Guide · 39\\xa0avis               il y a une semaine Nouveau    Brasserie typique parisienne. Nous avons passé un très bon moment avec notre serveur Christophe avec qui on a eu le temps de discuter malgré le rythme de fou que les serveurs mènent       Visité en novembre             +2         J'aime    Partager       \",\n",
       " \"                  Laure Touloumet  Local\\xa0Guide12\\xa0avis               il y a un mois Nouveau    Prévoir 30 à 45 mn de file d'attente à l'extérieur, un jeudi soir à l'heure du dîner pour pénétrer dans cette institution Parisienne qui mérite le coup d'œil. Un lieu chargé de notre histoire populaire, qui ne désemplit pas. La qualité des …    Plus      Visité en octobre                   J'aime4    Partager       \",\n",
       " \"                  Sophia P  Local\\xa0Guide · 78\\xa0avis               il y a 2\\xa0mois Nouveau    Bouillon typique parisien. Serveurs sympathiques, service rapide. Cadre photogénique. Ambiance parisienne. Plats de brasserie française. Ne partez pas sans avoir goûté la fameuse profiterole «\\xa0Chartier\\xa0»       Visité en septembre             +6         J'aime2    Partager       \",\n",
       " \"                  Séb Cham  Local\\xa0Guide · 115\\xa0avis               il y a 3\\xa0mois Nouveau    Restaurant populaire dans le sens noble du terme. Service rapide et efficace. Serveurs adorables avec toujours le bon mot. Commande sur la nappe. Bon rapport qualité/prix. A recommander surtout que c'est dans un beau cadre.       Visité en juillet                   J'aime7    Partager       \",\n",
       " \"                  Bernard Fleur  Local\\xa0Guide · 56\\xa0avis               il y a 2\\xa0mois Nouveau    Lieu magnifique !\\nNous y mangeons très bien de bons plats traditionnels à un prix dérisoire.\\nService rapide et agréable, malgré le monde et la file d’attente on nous laisse …    Plus      Visité en septembre                   J'aime2    Partager       \",\n",
       " \"                  Luka D  Local\\xa0Guide · 55\\xa0avis               il y a 3\\xa0mois Nouveau    Victime de son succès et de l’hype autour des «Bouillons» nous avons attendu plus d’une heure devant l’établissement.\\nUne fois installé nous décidons de choisir nos entrées ainsi que nos plats, pour …    Plus      Visité en juillet             +5         J'aime4    Partager       \",\n",
       " \"                  Mickael gauthier  Local\\xa0Guide · 75\\xa0avis               il y a 3\\xa0mois Nouveau    Une référence a Paris. Si vous ne connaissez pas il ne faut plus hésiter. Une des plus vieilles de brasserie qui a su rester dans son jus. Parfois de l'attente mais encore une fois c'est un maigre sacrifice. Côté gastro les plats sont …    Plus      Visité en août             +3         J'aime2    Partager       \",\n",
       " \"                  Julien Pach  Local\\xa0Guide · 242\\xa0avis               il y a 4\\xa0mois Nouveau    Une institution ! Très bon restaurant populaire à Paris. C'est grand, il y a beaucoup de monde, mais c'est très bon et le service est rapide.\\nOn a été surpris par la qualité des plats qui semblent faient maison et sont …    Plus      Visité en juillet             +23         J'aime3    Partager       \",\n",
       " \"                  Siam Bkn  Local\\xa0Guide · 64\\xa0avis               il y a 3\\xa0semaines Nouveau    Un déj sur le pouce entre midi et 2 d'une journée boulot à mille à l'heure.\\nUn service top (comme dans tous les Bouillons), des assiettes parfaites (comme dans tous les Bouillons). Bref, rien à dire. …    Plus      Visité en septembre                      J'aime    Partager       \",\n",
       " \"                  Audrey LYP  Local\\xa0Guide · 101\\xa0avis               il y a 4\\xa0mois Nouveau    Correcte.\\n\\nOn est arrivé là-bas et il y avait la queue pour rentrer dans le restaurant. On …    Plus      Visité en juillet                      J'aime14    Partager       \",\n",
       " \"                  Marc Gastaldo  Local\\xa0Guide11\\xa0avis               il y a 3\\xa0mois Nouveau    Après avoir testé hier, un autre bouillon, décevant pour les mets uniquement... Là, tout était parfait et vraiment dans l'esprit de ce style d'affaire. Simple petit reproche, bar trop cuit. Mais fallait-il que je tente un poisson, dans un bouillon ?.       Visité en août                   J'aime1    Partager       \",\n",
       " \"                  jerome H  Local\\xa0Guide · 689\\xa0avis               il y a 4\\xa0mois Nouveau    Super !\\nLe cadre et le déjeuner !\\nJe recommande cette brasserie qui est une véritable Institution ! …    Plus      Visité en juillet             +6         J'aime2    Partager       \",\n",
       " \"                  Philippe Lamigo  Local\\xa0Guide · 64\\xa0avis               il y a 2\\xa0semaines Nouveau    Désolant d'un si mauvais accueil pas de priorité pour les handicapés !\\nUne attente de plus de 40 minutes dans une file gérée par un gars qui se prend pour le Boss avec un manteau gris !et tout cela pour déguster des plats sans saveurs\\nSoirée gâchée.       Visité en novembre                J'aime    Partager       \",\n",
       " \"                  Name3333  Local\\xa0Guide · 60\\xa0avis               il y a une semaine Nouveau    Restaurant proposant des plats simples et familiaux.\\nSuperbe décoration d'intérieur faisant un peu penser à une gare.\\nLes plats sont délicieux, bien servi et garnis, et sont rapidement servis.\\nLes serveurs sont super sympa, chaleureux et très convivial.\\nUn régal 😄       Visité en novembre        J'aime    Partager       \",\n",
       " \"                  Karine Bodart  Local\\xa0Guide1\\xa0avis               il y a une semaine Nouveau    Service déplorable : serveur mains sales qui nous a obligé à partager la même carafe et panière de pains avec nos voisins que nous ne connaissions évidemment pas. Plats froids. Blanquette désastreuse : viande pas assez cuite, aucun légume …    Plus      Visité en novembre        J'aime    Partager       \",\n",
       " \"                  aurelie M  Local\\xa0Guide3\\xa0avis               il y a une semaine Nouveau    Personnel efficace et serviable, nous n'avons pas fait beaucoup de queue. Les plats sont typiquement français même si la présentation est simple les plats sont super bons ! Comme chez nos grands parents pour un prix juste imbattables ! …    Plus      Visité en novembre        J'aime    Partager       \",\n",
       " \"                  abdel dih  Local\\xa0Guide6\\xa0avis               il y a un mois Nouveau    La vraie brasserie Parisienne du 19 em siècle comme on en voit peu en province, la plupart d'entre elles ont  été remplacées par des  banques, agences immobilières  ou en cabinets d'assurances. C'est pour moi la brasserie incontournable à …    Plus      Visité en octobre                   J'aime1    Partager       \",\n",
       " \"                  Aurélien Biedermann  Local\\xa0Guide · 36\\xa0avis               il y a un mois Nouveau    Si vous y allez en dehors des horaires de pointe vous rentrerez direct. Le service est très rapide et sympathique. Les plats sont simples mais toujours de qualité avec une carte très diverse quand même.\\nEt puis l'endroit est magnifique !       Visité en septembre             J'aime    Partager       \",\n",
       " \"                  Jean-Noël Durand  Local\\xa0Guide · 226\\xa0avis               il y a 4\\xa0mois Nouveau    Nourriture correcte pour le prix qui est très abordable.\\nLe cadre est plutôt sympathique, cependant le restaurant est plutôt bruyant lorsqu’il est plein.       Visité en juillet             +2         J'aime    Partager       \",\n",
       " \"                  Victor Tran  Local\\xa0Guide · 101\\xa0avis               il y a 3\\xa0semaines Nouveau    30min d'attente un samedi à 16h\\nPas mal de choix, très français\\nPrix très correct et plat assez bon …    Plus      Visité en octobre                   J'aime    Partager       \",\n",
       " \"                  Bruno Lopes  Local\\xa0Guide · 24\\xa0avis               il y a 3\\xa0mois Nouveau    C'est mon meilleur restaurant en France ! Le service est parfait et les serveurs sont très respectueux et les plats sont très bons et pas cher. À chaque fois que je vais en ce restaurant je suis toujours en extase ! Je vous conseille cet endroit 👏       Visité en juillet                      J'aime2    Partager       \",\n",
       " \"                  Alexandre  Local\\xa0Guide · 437\\xa0avis               il y a un mois Nouveau    Bon restaurant à Paris où les prix sont abordable. La salle est magnifique mais assez bruyante. …    Plus      Visité en octobre                J'aime3    Partager       \",\n",
       " \"                  magali massias  Local\\xa0Guide · 5\\xa0avis               il y a 3\\xa0mois Nouveau    Nous nous faisions une joie de pouvoir déjeuner dans cette cantine et nous avons été agréablement surprit de ne pas faire de queu un samedi à 12h45 en plein mois de juillet …    Plus      Visité en juillet             J'aime1    Partager       \",\n",
       " \"                  Elise Sahl  Local\\xa0Guide2\\xa0avis               il y a une semaine Nouveau    Outre la qualité de la nourriture plus que moyenne, j'ai retrouvé du boeuf dans mes pâtes végétariennes. Le serveur n'a rien trouvé de mieux que de nier en bloc, jurant que c'était impossible.\\nLe décor est sympathique, mais c'est tout.       Visité en novembre        J'aime    Partager       \",\n",
       " \"                  nicolas blaz  Local\\xa0Guide · 108\\xa0avis               il y a une semaine Nouveau    Endroit vraiment top\\nNotre serveur @Mathieu souriant et pro\\nService nickel       Visité en novembre             J'aime    Partager       \",\n",
       " \"                  A. Martin  Local\\xa0Guide4\\xa0avis               il y a 3\\xa0mois Nouveau    On souhaite mon mari et moi vous remercier ainsi que votre Chef de Cuisine et toute l'équipe. Nous avons apprécié la cuisine brasserie, votre accueil et toute l'attention de notre serveur le n°24. Nous avons passé un excellent moment dans votre établissement magnifique, typique et mythique de PARIS. Quelle ambiance.       Visité en août             J'aime    Partager       \",\n",
       " \"                  MC MC  Local\\xa0Guide · 421\\xa0avis               il y a un mois Nouveau    Tres belle déco, idéalement situé tout près de la Gare Montparnasse. Tous les grands classiques sont bien présents pour un prix modérés, comme la coutume le veut dans un bouillon. Un peu moins fréquenté que le bouillon Pigalle.       Visité en octobre                   J'aime1    Partager       \",\n",
       " \"                  Rym Kochlef  Local\\xa0Guide · 237\\xa0avis               il y a 4\\xa0mois Nouveau    Bon bistrot !\\nLes plats sont bons (surtout le confit de canard, je vous le conseille!!!)\\nLes crevettes aussi comme entrée, c’est hyper bon …    Plus      Visité en juillet             +3         J'aime    Partager       \",\n",
       " \"                  Sandrine Petit  Local\\xa0Guide · 80\\xa0avis               il y a une semaine Nouveau    Topissime, ambiance et décor rétro. La commande et addition sur la nappe. Cuisine familiale.\\nLe restaurant ouvre ses portes à partir de 11h30, un conseil, soyez y !! A partir de midi, la queue sur le trottoir est interminable 😲       Visité en novembre        J'aime    Partager       \",\n",
       " \"                  Laurent HERBETTE  Local\\xa0Guide · 305\\xa0avis               il y a 3\\xa0mois Nouveau    accueil excellent personnel agréable pris en compte rapide de nos commandes\\ntout est bon\\nje recommande\\nle serveur est au top       Visité en août             +12         J'aime    Partager       \",\n",
       " \"                  Dan Dan  Local\\xa0Guide · 72\\xa0avis               il y a 3\\xa0semaines Nouveau    Ils auraient dû appeler le restaurant «\\xa0La boite à sardines\\xa0» (les clients étant les sardines…)\\nMenus corrects et prix raisonnables mais bien trop de monde, tassés les uns …    Plus      Visité en octobre             J'aime    Partager       \",\n",
       " \"                  Dimitry Chevalier  Local\\xa0Guide1\\xa0avis               il y a une semaine Nouveau    Super repas, très bien manger ! Pas trop d'attente. Un super accueil de la part d'une serveuse blonde (sûrement la responsable).       Visité en octobre        J'aime    Partager       \",\n",
       " \"                  J Claude D  Local\\xa0Guide · 160\\xa0avis               il y a 3\\xa0mois Nouveau    Endroit juste exceptionnel. Remontez le temps dans un lieu mythique datant de 1876. Au départ cet endroit était pour les ouvriers qui travaillaient dans le quartier et pouvaient manger à pas cher. Le Bouillon à gardé ce côté bonne …    Plus      Visité en août             +5         J'aime1    Partager       \"]"
      ]
     },
     "execution_count": 42,
     "metadata": {},
     "output_type": "execute_result"
    }
   ],
   "source": [
    "reviews"
   ]
  },
  {
   "cell_type": "code",
   "execution_count": 43,
   "id": "a5c26cc8",
   "metadata": {
    "ExecuteTime": {
     "end_time": "2021-11-22T13:50:51.355501Z",
     "start_time": "2021-11-22T13:50:51.320930Z"
    }
   },
   "outputs": [
    {
     "data": {
      "text/html": [
       "<div>\n",
       "<style scoped>\n",
       "    .dataframe tbody tr th:only-of-type {\n",
       "        vertical-align: middle;\n",
       "    }\n",
       "\n",
       "    .dataframe tbody tr th {\n",
       "        vertical-align: top;\n",
       "    }\n",
       "\n",
       "    .dataframe thead th {\n",
       "        text-align: right;\n",
       "    }\n",
       "</style>\n",
       "<table border=\"1\" class=\"dataframe\">\n",
       "  <thead>\n",
       "    <tr style=\"text-align: right;\">\n",
       "      <th></th>\n",
       "      <th>data</th>\n",
       "      <th>rate</th>\n",
       "      <th>review</th>\n",
       "    </tr>\n",
       "  </thead>\n",
       "  <tbody>\n",
       "    <tr>\n",
       "      <th>0</th>\n",
       "      <td>il y a une semaine</td>\n",
       "      <td>4</td>\n",
       "      <td>Jean-Luc Paredes  Local Guid...</td>\n",
       "    </tr>\n",
       "    <tr>\n",
       "      <th>1</th>\n",
       "      <td>il y a 4 jours</td>\n",
       "      <td>4</td>\n",
       "      <td>Pascal vacaresse  Local Guid...</td>\n",
       "    </tr>\n",
       "    <tr>\n",
       "      <th>2</th>\n",
       "      <td>il y a 4 jours</td>\n",
       "      <td>5</td>\n",
       "      <td>Marie Claude Suchet  Local G...</td>\n",
       "    </tr>\n",
       "    <tr>\n",
       "      <th>3</th>\n",
       "      <td>il y a un mois</td>\n",
       "      <td>4</td>\n",
       "      <td>Michel C.  Local Guide · 140...</td>\n",
       "    </tr>\n",
       "    <tr>\n",
       "      <th>4</th>\n",
       "      <td>il y a un mois</td>\n",
       "      <td>5</td>\n",
       "      <td>Jackie Ibanez  Local Guide ·...</td>\n",
       "    </tr>\n",
       "  </tbody>\n",
       "</table>\n",
       "</div>"
      ],
      "text/plain": [
       "                 data rate                                             review\n",
       "0  il y a une semaine    4                    Jean-Luc Paredes  Local Guid...\n",
       "1      il y a 4 jours    4                    Pascal vacaresse  Local Guid...\n",
       "2      il y a 4 jours    5                    Marie Claude Suchet  Local G...\n",
       "3      il y a un mois    4                    Michel C.  Local Guide · 140...\n",
       "4      il y a un mois    5                    Jackie Ibanez  Local Guide ·..."
      ]
     },
     "execution_count": 43,
     "metadata": {},
     "output_type": "execute_result"
    }
   ],
   "source": [
    "data_to_clean = pd.DataFrame({'data':review_dates,\n",
    "                              'rate':review_rates,\n",
    "                              'review':reviews})\n",
    "data_to_clean.head()"
   ]
  },
  {
   "cell_type": "code",
   "execution_count": 44,
   "id": "fe3f0cf9",
   "metadata": {
    "ExecuteTime": {
     "end_time": "2021-11-22T13:51:11.738641Z",
     "start_time": "2021-11-22T13:51:11.705924Z"
    }
   },
   "outputs": [],
   "source": [
    "data_to_clean.to_csv('data_to_clean.csv')"
   ]
  },
  {
   "cell_type": "code",
   "execution_count": null,
   "id": "e04af6f5",
   "metadata": {},
   "outputs": [],
   "source": []
  }
 ],
 "metadata": {
  "kernelspec": {
   "display_name": "Python 3 (ipykernel)",
   "language": "python",
   "name": "python3"
  },
  "language_info": {
   "codemirror_mode": {
    "name": "ipython",
    "version": 3
   },
   "file_extension": ".py",
   "mimetype": "text/x-python",
   "name": "python",
   "nbconvert_exporter": "python",
   "pygments_lexer": "ipython3",
   "version": "3.8.12"
  },
  "toc": {
   "base_numbering": 1,
   "nav_menu": {},
   "number_sections": true,
   "sideBar": true,
   "skip_h1_title": false,
   "title_cell": "Table of Contents",
   "title_sidebar": "Contents",
   "toc_cell": false,
   "toc_position": {
    "height": "calc(100% - 180px)",
    "left": "10px",
    "top": "150px",
    "width": "165px"
   },
   "toc_section_display": true,
   "toc_window_display": true
  }
 },
 "nbformat": 4,
 "nbformat_minor": 5
}
