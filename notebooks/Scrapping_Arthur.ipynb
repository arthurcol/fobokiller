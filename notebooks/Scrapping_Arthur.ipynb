{
 "cells": [
  {
   "cell_type": "markdown",
   "id": "00a40894",
   "metadata": {},
   "source": [
    "## Imports"
   ]
  },
  {
   "cell_type": "code",
   "execution_count": 9,
   "id": "df7d6d74",
   "metadata": {
    "ExecuteTime": {
     "end_time": "2021-11-22T13:36:33.499179Z",
     "start_time": "2021-11-22T13:36:33.439656Z"
    }
   },
   "outputs": [],
   "source": [
    "import pandas as pd \n",
    "import numpy as np \n",
    "import requests\n",
    "from selenium import webdriver\n",
    "import matplotlib.pyplot as plt\n",
    "import folium\n",
    "from math import radians, sin, cos, asin, sqrt, ceil\n",
    "import time\n",
    "import os\n",
    "\n",
    "from selenium import webdriver\n",
    "import chromedriver_binary\n",
    "\n",
    "from selenium.webdriver.common.keys import Keys\n",
    "\n",
    "from selenium.webdriver.common.by import By\n",
    "from selenium.webdriver.support.ui import WebDriverWait\n",
    "from selenium.webdriver.support import expected_conditions as ec\n",
    "from selenium.webdriver.chrome.options import Options\n",
    "\n",
    "from bs4 import BeautifulSoup\n",
    "\n",
    "from dotenv import load_dotenv, find_dotenv"
   ]
  },
  {
   "cell_type": "code",
   "execution_count": 11,
   "id": "9587aa38",
   "metadata": {
    "ExecuteTime": {
     "end_time": "2021-11-22T13:36:37.525535Z",
     "start_time": "2021-11-22T13:36:37.498568Z"
    }
   },
   "outputs": [],
   "source": [
    "path = find_dotenv()\n",
    "load_dotenv(path)\n",
    "yelp_key=os.getenv('YELP_KEY')\n",
    "google_key=os.getenv('GOOGLE_PLACE_KEY')"
   ]
  },
  {
   "cell_type": "markdown",
   "id": "3d0087c2",
   "metadata": {},
   "source": [
    "## Get list of restaurants from Yelp API"
   ]
  },
  {
   "cell_type": "code",
   "execution_count": 12,
   "id": "ff1f436e",
   "metadata": {
    "ExecuteTime": {
     "end_time": "2021-11-22T13:36:38.785600Z",
     "start_time": "2021-11-22T13:36:38.760264Z"
    }
   },
   "outputs": [],
   "source": [
    "#Haversine Distance function used to compute radius\n",
    "\n",
    "def haversine_distance(lon1, lat1, lon2, lat2):\n",
    "    \"\"\"\n",
    "    Compute distance between two pairs of coordinates (lon1, lat1, lon2, lat2)\n",
    "    \"\"\"\n",
    "    lon1, lat1, lon2, lat2 = map(radians, [lon1, lat1, lon2, lat2])\n",
    "    dlon = lon2 - lon1\n",
    "    dlat = lat2 - lat1\n",
    "    a = sin(dlat / 2) ** 2 + cos(lat1) * cos(lat2) * sin(dlon / 2) ** 2\n",
    "    return 2 * 6371 * asin(sqrt(a))"
   ]
  },
  {
   "cell_type": "code",
   "execution_count": 13,
   "id": "2baa8353",
   "metadata": {
    "ExecuteTime": {
     "end_time": "2021-11-22T13:36:39.328179Z",
     "start_time": "2021-11-22T13:36:39.301220Z"
    }
   },
   "outputs": [],
   "source": [
    "#Divide Paris into subzones to request more restaurants from Yelp API\n",
    "\n",
    "def subzones_paris(n_subzones):\n",
    "    \"\"\"\n",
    "    Divide Paris into n_subzones squares. Returns list of centers (lat,lon)\n",
    "    and the radius (in meters) to use for the API request\n",
    "    \"\"\"\n",
    "    #lat-lon boundaries for Paris\n",
    "    up_left=np.array([48.9002,2.2617])\n",
    "    up_right=np.array([48.9002,2.4488])\n",
    "    down_right=np.array([48.8202,2.4488])\n",
    "    down_left=np.array([48.8202,2.2617])\n",
    "\n",
    "    coor = np.array([up_left,up_right,down_right,down_left])\n",
    "\n",
    "    #compute distance\n",
    "    dist_h=up_right-up_left\n",
    "    dist_v=up_left-down_left\n",
    "\n",
    "    #divide in n_subzones\n",
    "\n",
    "    epsilon_h=dist_h/n_subzones**0.5\n",
    "    epsilon_v=dist_v/n_subzones**0.5\n",
    "\n",
    "    centers=[]\n",
    "    start=up_left\n",
    "\n",
    "    for i in range(int(n_subzones**0.5)):\n",
    "        for j in range(int(n_subzones**0.5)):\n",
    "            start=(i+0.5)*epsilon_v+(j+0.5)*epsilon_h+up_left\n",
    "            centers.append(start)\n",
    "            \n",
    "    \n",
    "    radius = haversine_distance(up_left[0], up_left[1], centers[0][0], centers[0][1])\n",
    "    \n",
    "    return centers,radius*1000"
   ]
  },
  {
   "cell_type": "code",
   "execution_count": 14,
   "id": "99846927",
   "metadata": {
    "ExecuteTime": {
     "end_time": "2021-11-22T13:36:40.048199Z",
     "start_time": "2021-11-22T13:36:40.024132Z"
    }
   },
   "outputs": [],
   "source": [
    "def map_centers(centers,radius):\n",
    "    centers_start=centers[int((len(centers)-1)/2)]\n",
    "    m = folium.Map(location=list(centers_start), zoom_start=13)\n",
    "    \n",
    "    for c in centers:\n",
    "        folium.Circle(radius=radius,location=list(c),\n",
    "                      color=\"crimson\",fill=False).add_to(m)\n",
    "        \n",
    "    return m "
   ]
  },
  {
   "cell_type": "code",
   "execution_count": 15,
   "id": "9deed463",
   "metadata": {
    "ExecuteTime": {
     "end_time": "2021-11-22T13:36:40.785749Z",
     "start_time": "2021-11-22T13:36:40.736972Z"
    }
   },
   "outputs": [
    {
     "data": {
      "text/html": [
       "<div style=\"width:100%;\"><div style=\"position:relative;width:100%;height:0;padding-bottom:60%;\"><span style=\"color:#565656\">Make this Notebook Trusted to load map: File -> Trust Notebook</span><iframe src=\"about:blank\" style=\"position:absolute;width:100%;height:100%;left:0;top:0;border:none !important;\" data-html=%3C%21DOCTYPE%20html%3E%0A%3Chead%3E%20%20%20%20%0A%20%20%20%20%3Cmeta%20http-equiv%3D%22content-type%22%20content%3D%22text/html%3B%20charset%3DUTF-8%22%20/%3E%0A%20%20%20%20%0A%20%20%20%20%20%20%20%20%3Cscript%3E%0A%20%20%20%20%20%20%20%20%20%20%20%20L_NO_TOUCH%20%3D%20false%3B%0A%20%20%20%20%20%20%20%20%20%20%20%20L_DISABLE_3D%20%3D%20false%3B%0A%20%20%20%20%20%20%20%20%3C/script%3E%0A%20%20%20%20%0A%20%20%20%20%3Cstyle%3Ehtml%2C%20body%20%7Bwidth%3A%20100%25%3Bheight%3A%20100%25%3Bmargin%3A%200%3Bpadding%3A%200%3B%7D%3C/style%3E%0A%20%20%20%20%3Cstyle%3E%23map%20%7Bposition%3Aabsolute%3Btop%3A0%3Bbottom%3A0%3Bright%3A0%3Bleft%3A0%3B%7D%3C/style%3E%0A%20%20%20%20%3Cscript%20src%3D%22https%3A//cdn.jsdelivr.net/npm/leaflet%401.6.0/dist/leaflet.js%22%3E%3C/script%3E%0A%20%20%20%20%3Cscript%20src%3D%22https%3A//code.jquery.com/jquery-1.12.4.min.js%22%3E%3C/script%3E%0A%20%20%20%20%3Cscript%20src%3D%22https%3A//maxcdn.bootstrapcdn.com/bootstrap/3.2.0/js/bootstrap.min.js%22%3E%3C/script%3E%0A%20%20%20%20%3Cscript%20src%3D%22https%3A//cdnjs.cloudflare.com/ajax/libs/Leaflet.awesome-markers/2.0.2/leaflet.awesome-markers.js%22%3E%3C/script%3E%0A%20%20%20%20%3Clink%20rel%3D%22stylesheet%22%20href%3D%22https%3A//cdn.jsdelivr.net/npm/leaflet%401.6.0/dist/leaflet.css%22/%3E%0A%20%20%20%20%3Clink%20rel%3D%22stylesheet%22%20href%3D%22https%3A//maxcdn.bootstrapcdn.com/bootstrap/3.2.0/css/bootstrap.min.css%22/%3E%0A%20%20%20%20%3Clink%20rel%3D%22stylesheet%22%20href%3D%22https%3A//maxcdn.bootstrapcdn.com/bootstrap/3.2.0/css/bootstrap-theme.min.css%22/%3E%0A%20%20%20%20%3Clink%20rel%3D%22stylesheet%22%20href%3D%22https%3A//maxcdn.bootstrapcdn.com/font-awesome/4.6.3/css/font-awesome.min.css%22/%3E%0A%20%20%20%20%3Clink%20rel%3D%22stylesheet%22%20href%3D%22https%3A//cdnjs.cloudflare.com/ajax/libs/Leaflet.awesome-markers/2.0.2/leaflet.awesome-markers.css%22/%3E%0A%20%20%20%20%3Clink%20rel%3D%22stylesheet%22%20href%3D%22https%3A//cdn.jsdelivr.net/gh/python-visualization/folium/folium/templates/leaflet.awesome.rotate.min.css%22/%3E%0A%20%20%20%20%0A%20%20%20%20%20%20%20%20%20%20%20%20%3Cmeta%20name%3D%22viewport%22%20content%3D%22width%3Ddevice-width%2C%0A%20%20%20%20%20%20%20%20%20%20%20%20%20%20%20%20initial-scale%3D1.0%2C%20maximum-scale%3D1.0%2C%20user-scalable%3Dno%22%20/%3E%0A%20%20%20%20%20%20%20%20%20%20%20%20%3Cstyle%3E%0A%20%20%20%20%20%20%20%20%20%20%20%20%20%20%20%20%23map_4ae56eb2c1ed4964861e09c05c65c274%20%7B%0A%20%20%20%20%20%20%20%20%20%20%20%20%20%20%20%20%20%20%20%20position%3A%20relative%3B%0A%20%20%20%20%20%20%20%20%20%20%20%20%20%20%20%20%20%20%20%20width%3A%20100.0%25%3B%0A%20%20%20%20%20%20%20%20%20%20%20%20%20%20%20%20%20%20%20%20height%3A%20100.0%25%3B%0A%20%20%20%20%20%20%20%20%20%20%20%20%20%20%20%20%20%20%20%20left%3A%200.0%25%3B%0A%20%20%20%20%20%20%20%20%20%20%20%20%20%20%20%20%20%20%20%20top%3A%200.0%25%3B%0A%20%20%20%20%20%20%20%20%20%20%20%20%20%20%20%20%7D%0A%20%20%20%20%20%20%20%20%20%20%20%20%3C/style%3E%0A%20%20%20%20%20%20%20%20%0A%3C/head%3E%0A%3Cbody%3E%20%20%20%20%0A%20%20%20%20%0A%20%20%20%20%20%20%20%20%20%20%20%20%3Cdiv%20class%3D%22folium-map%22%20id%3D%22map_4ae56eb2c1ed4964861e09c05c65c274%22%20%3E%3C/div%3E%0A%20%20%20%20%20%20%20%20%0A%3C/body%3E%0A%3Cscript%3E%20%20%20%20%0A%20%20%20%20%0A%20%20%20%20%20%20%20%20%20%20%20%20var%20map_4ae56eb2c1ed4964861e09c05c65c274%20%3D%20L.map%28%0A%20%20%20%20%20%20%20%20%20%20%20%20%20%20%20%20%22map_4ae56eb2c1ed4964861e09c05c65c274%22%2C%0A%20%20%20%20%20%20%20%20%20%20%20%20%20%20%20%20%7B%0A%20%20%20%20%20%20%20%20%20%20%20%20%20%20%20%20%20%20%20%20center%3A%20%5B48.9302%2C%202.4254124999999997%5D%2C%0A%20%20%20%20%20%20%20%20%20%20%20%20%20%20%20%20%20%20%20%20crs%3A%20L.CRS.EPSG3857%2C%0A%20%20%20%20%20%20%20%20%20%20%20%20%20%20%20%20%20%20%20%20zoom%3A%2013%2C%0A%20%20%20%20%20%20%20%20%20%20%20%20%20%20%20%20%20%20%20%20zoomControl%3A%20true%2C%0A%20%20%20%20%20%20%20%20%20%20%20%20%20%20%20%20%20%20%20%20preferCanvas%3A%20false%2C%0A%20%20%20%20%20%20%20%20%20%20%20%20%20%20%20%20%7D%0A%20%20%20%20%20%20%20%20%20%20%20%20%29%3B%0A%0A%20%20%20%20%20%20%20%20%20%20%20%20%0A%0A%20%20%20%20%20%20%20%20%0A%20%20%20%20%0A%20%20%20%20%20%20%20%20%20%20%20%20var%20tile_layer_cdc3326972df41de8a5ba90fbf689844%20%3D%20L.tileLayer%28%0A%20%20%20%20%20%20%20%20%20%20%20%20%20%20%20%20%22https%3A//%7Bs%7D.tile.openstreetmap.org/%7Bz%7D/%7Bx%7D/%7By%7D.png%22%2C%0A%20%20%20%20%20%20%20%20%20%20%20%20%20%20%20%20%7B%22attribution%22%3A%20%22Data%20by%20%5Cu0026copy%3B%20%5Cu003ca%20href%3D%5C%22http%3A//openstreetmap.org%5C%22%5Cu003eOpenStreetMap%5Cu003c/a%5Cu003e%2C%20under%20%5Cu003ca%20href%3D%5C%22http%3A//www.openstreetmap.org/copyright%5C%22%5Cu003eODbL%5Cu003c/a%5Cu003e.%22%2C%20%22detectRetina%22%3A%20false%2C%20%22maxNativeZoom%22%3A%2018%2C%20%22maxZoom%22%3A%2018%2C%20%22minZoom%22%3A%200%2C%20%22noWrap%22%3A%20false%2C%20%22opacity%22%3A%201%2C%20%22subdomains%22%3A%20%22abc%22%2C%20%22tms%22%3A%20false%7D%0A%20%20%20%20%20%20%20%20%20%20%20%20%29.addTo%28map_4ae56eb2c1ed4964861e09c05c65c274%29%3B%0A%20%20%20%20%20%20%20%20%0A%20%20%20%20%0A%20%20%20%20%20%20%20%20%20%20%20%20var%20circle_17b894204923464a969b10549b9e254f%20%3D%20L.circle%28%0A%20%20%20%20%20%20%20%20%20%20%20%20%20%20%20%20%5B48.910199999999996%2C%202.2850875%5D%2C%0A%20%20%20%20%20%20%20%20%20%20%20%20%20%20%20%20%7B%22bubblingMouseEvents%22%3A%20true%2C%20%22color%22%3A%20%22crimson%22%2C%20%22dashArray%22%3A%20null%2C%20%22dashOffset%22%3A%20null%2C%20%22fill%22%3A%20false%2C%20%22fillColor%22%3A%20%22crimson%22%2C%20%22fillOpacity%22%3A%200.2%2C%20%22fillRule%22%3A%20%22evenodd%22%2C%20%22lineCap%22%3A%20%22round%22%2C%20%22lineJoin%22%3A%20%22round%22%2C%20%22opacity%22%3A%201.0%2C%20%22radius%22%3A%202827.9775313347986%2C%20%22stroke%22%3A%20true%2C%20%22weight%22%3A%203%7D%0A%20%20%20%20%20%20%20%20%20%20%20%20%29.addTo%28map_4ae56eb2c1ed4964861e09c05c65c274%29%3B%0A%20%20%20%20%20%20%20%20%0A%20%20%20%20%0A%20%20%20%20%20%20%20%20%20%20%20%20var%20circle_113cb55211fc4dddbb832acba52459a7%20%3D%20L.circle%28%0A%20%20%20%20%20%20%20%20%20%20%20%20%20%20%20%20%5B48.910199999999996%2C%202.3318624999999997%5D%2C%0A%20%20%20%20%20%20%20%20%20%20%20%20%20%20%20%20%7B%22bubblingMouseEvents%22%3A%20true%2C%20%22color%22%3A%20%22crimson%22%2C%20%22dashArray%22%3A%20null%2C%20%22dashOffset%22%3A%20null%2C%20%22fill%22%3A%20false%2C%20%22fillColor%22%3A%20%22crimson%22%2C%20%22fillOpacity%22%3A%200.2%2C%20%22fillRule%22%3A%20%22evenodd%22%2C%20%22lineCap%22%3A%20%22round%22%2C%20%22lineJoin%22%3A%20%22round%22%2C%20%22opacity%22%3A%201.0%2C%20%22radius%22%3A%202827.9775313347986%2C%20%22stroke%22%3A%20true%2C%20%22weight%22%3A%203%7D%0A%20%20%20%20%20%20%20%20%20%20%20%20%29.addTo%28map_4ae56eb2c1ed4964861e09c05c65c274%29%3B%0A%20%20%20%20%20%20%20%20%0A%20%20%20%20%0A%20%20%20%20%20%20%20%20%20%20%20%20var%20circle_e1c9f39b855c4b2baeb152750e6531ba%20%3D%20L.circle%28%0A%20%20%20%20%20%20%20%20%20%20%20%20%20%20%20%20%5B48.910199999999996%2C%202.3786375%5D%2C%0A%20%20%20%20%20%20%20%20%20%20%20%20%20%20%20%20%7B%22bubblingMouseEvents%22%3A%20true%2C%20%22color%22%3A%20%22crimson%22%2C%20%22dashArray%22%3A%20null%2C%20%22dashOffset%22%3A%20null%2C%20%22fill%22%3A%20false%2C%20%22fillColor%22%3A%20%22crimson%22%2C%20%22fillOpacity%22%3A%200.2%2C%20%22fillRule%22%3A%20%22evenodd%22%2C%20%22lineCap%22%3A%20%22round%22%2C%20%22lineJoin%22%3A%20%22round%22%2C%20%22opacity%22%3A%201.0%2C%20%22radius%22%3A%202827.9775313347986%2C%20%22stroke%22%3A%20true%2C%20%22weight%22%3A%203%7D%0A%20%20%20%20%20%20%20%20%20%20%20%20%29.addTo%28map_4ae56eb2c1ed4964861e09c05c65c274%29%3B%0A%20%20%20%20%20%20%20%20%0A%20%20%20%20%0A%20%20%20%20%20%20%20%20%20%20%20%20var%20circle_23c8ad27b91444d7b33d34284ba147ec%20%3D%20L.circle%28%0A%20%20%20%20%20%20%20%20%20%20%20%20%20%20%20%20%5B48.910199999999996%2C%202.4254124999999997%5D%2C%0A%20%20%20%20%20%20%20%20%20%20%20%20%20%20%20%20%7B%22bubblingMouseEvents%22%3A%20true%2C%20%22color%22%3A%20%22crimson%22%2C%20%22dashArray%22%3A%20null%2C%20%22dashOffset%22%3A%20null%2C%20%22fill%22%3A%20false%2C%20%22fillColor%22%3A%20%22crimson%22%2C%20%22fillOpacity%22%3A%200.2%2C%20%22fillRule%22%3A%20%22evenodd%22%2C%20%22lineCap%22%3A%20%22round%22%2C%20%22lineJoin%22%3A%20%22round%22%2C%20%22opacity%22%3A%201.0%2C%20%22radius%22%3A%202827.9775313347986%2C%20%22stroke%22%3A%20true%2C%20%22weight%22%3A%203%7D%0A%20%20%20%20%20%20%20%20%20%20%20%20%29.addTo%28map_4ae56eb2c1ed4964861e09c05c65c274%29%3B%0A%20%20%20%20%20%20%20%20%0A%20%20%20%20%0A%20%20%20%20%20%20%20%20%20%20%20%20var%20circle_02b07b29c32e4630bf10d75fdb3b2cee%20%3D%20L.circle%28%0A%20%20%20%20%20%20%20%20%20%20%20%20%20%20%20%20%5B48.9302%2C%202.2850875%5D%2C%0A%20%20%20%20%20%20%20%20%20%20%20%20%20%20%20%20%7B%22bubblingMouseEvents%22%3A%20true%2C%20%22color%22%3A%20%22crimson%22%2C%20%22dashArray%22%3A%20null%2C%20%22dashOffset%22%3A%20null%2C%20%22fill%22%3A%20false%2C%20%22fillColor%22%3A%20%22crimson%22%2C%20%22fillOpacity%22%3A%200.2%2C%20%22fillRule%22%3A%20%22evenodd%22%2C%20%22lineCap%22%3A%20%22round%22%2C%20%22lineJoin%22%3A%20%22round%22%2C%20%22opacity%22%3A%201.0%2C%20%22radius%22%3A%202827.9775313347986%2C%20%22stroke%22%3A%20true%2C%20%22weight%22%3A%203%7D%0A%20%20%20%20%20%20%20%20%20%20%20%20%29.addTo%28map_4ae56eb2c1ed4964861e09c05c65c274%29%3B%0A%20%20%20%20%20%20%20%20%0A%20%20%20%20%0A%20%20%20%20%20%20%20%20%20%20%20%20var%20circle_94e44e0e18cd4059afbcc09bd96f9b17%20%3D%20L.circle%28%0A%20%20%20%20%20%20%20%20%20%20%20%20%20%20%20%20%5B48.9302%2C%202.3318624999999997%5D%2C%0A%20%20%20%20%20%20%20%20%20%20%20%20%20%20%20%20%7B%22bubblingMouseEvents%22%3A%20true%2C%20%22color%22%3A%20%22crimson%22%2C%20%22dashArray%22%3A%20null%2C%20%22dashOffset%22%3A%20null%2C%20%22fill%22%3A%20false%2C%20%22fillColor%22%3A%20%22crimson%22%2C%20%22fillOpacity%22%3A%200.2%2C%20%22fillRule%22%3A%20%22evenodd%22%2C%20%22lineCap%22%3A%20%22round%22%2C%20%22lineJoin%22%3A%20%22round%22%2C%20%22opacity%22%3A%201.0%2C%20%22radius%22%3A%202827.9775313347986%2C%20%22stroke%22%3A%20true%2C%20%22weight%22%3A%203%7D%0A%20%20%20%20%20%20%20%20%20%20%20%20%29.addTo%28map_4ae56eb2c1ed4964861e09c05c65c274%29%3B%0A%20%20%20%20%20%20%20%20%0A%20%20%20%20%0A%20%20%20%20%20%20%20%20%20%20%20%20var%20circle_0e3ad5a9bde248869e113985ac97f4ee%20%3D%20L.circle%28%0A%20%20%20%20%20%20%20%20%20%20%20%20%20%20%20%20%5B48.9302%2C%202.3786375%5D%2C%0A%20%20%20%20%20%20%20%20%20%20%20%20%20%20%20%20%7B%22bubblingMouseEvents%22%3A%20true%2C%20%22color%22%3A%20%22crimson%22%2C%20%22dashArray%22%3A%20null%2C%20%22dashOffset%22%3A%20null%2C%20%22fill%22%3A%20false%2C%20%22fillColor%22%3A%20%22crimson%22%2C%20%22fillOpacity%22%3A%200.2%2C%20%22fillRule%22%3A%20%22evenodd%22%2C%20%22lineCap%22%3A%20%22round%22%2C%20%22lineJoin%22%3A%20%22round%22%2C%20%22opacity%22%3A%201.0%2C%20%22radius%22%3A%202827.9775313347986%2C%20%22stroke%22%3A%20true%2C%20%22weight%22%3A%203%7D%0A%20%20%20%20%20%20%20%20%20%20%20%20%29.addTo%28map_4ae56eb2c1ed4964861e09c05c65c274%29%3B%0A%20%20%20%20%20%20%20%20%0A%20%20%20%20%0A%20%20%20%20%20%20%20%20%20%20%20%20var%20circle_da92c4a33ee44400973d2050e0ff9b77%20%3D%20L.circle%28%0A%20%20%20%20%20%20%20%20%20%20%20%20%20%20%20%20%5B48.9302%2C%202.4254124999999997%5D%2C%0A%20%20%20%20%20%20%20%20%20%20%20%20%20%20%20%20%7B%22bubblingMouseEvents%22%3A%20true%2C%20%22color%22%3A%20%22crimson%22%2C%20%22dashArray%22%3A%20null%2C%20%22dashOffset%22%3A%20null%2C%20%22fill%22%3A%20false%2C%20%22fillColor%22%3A%20%22crimson%22%2C%20%22fillOpacity%22%3A%200.2%2C%20%22fillRule%22%3A%20%22evenodd%22%2C%20%22lineCap%22%3A%20%22round%22%2C%20%22lineJoin%22%3A%20%22round%22%2C%20%22opacity%22%3A%201.0%2C%20%22radius%22%3A%202827.9775313347986%2C%20%22stroke%22%3A%20true%2C%20%22weight%22%3A%203%7D%0A%20%20%20%20%20%20%20%20%20%20%20%20%29.addTo%28map_4ae56eb2c1ed4964861e09c05c65c274%29%3B%0A%20%20%20%20%20%20%20%20%0A%20%20%20%20%0A%20%20%20%20%20%20%20%20%20%20%20%20var%20circle_760b3974c97e460fb9ac89e9c55fed7d%20%3D%20L.circle%28%0A%20%20%20%20%20%20%20%20%20%20%20%20%20%20%20%20%5B48.950199999999995%2C%202.2850875%5D%2C%0A%20%20%20%20%20%20%20%20%20%20%20%20%20%20%20%20%7B%22bubblingMouseEvents%22%3A%20true%2C%20%22color%22%3A%20%22crimson%22%2C%20%22dashArray%22%3A%20null%2C%20%22dashOffset%22%3A%20null%2C%20%22fill%22%3A%20false%2C%20%22fillColor%22%3A%20%22crimson%22%2C%20%22fillOpacity%22%3A%200.2%2C%20%22fillRule%22%3A%20%22evenodd%22%2C%20%22lineCap%22%3A%20%22round%22%2C%20%22lineJoin%22%3A%20%22round%22%2C%20%22opacity%22%3A%201.0%2C%20%22radius%22%3A%202827.9775313347986%2C%20%22stroke%22%3A%20true%2C%20%22weight%22%3A%203%7D%0A%20%20%20%20%20%20%20%20%20%20%20%20%29.addTo%28map_4ae56eb2c1ed4964861e09c05c65c274%29%3B%0A%20%20%20%20%20%20%20%20%0A%20%20%20%20%0A%20%20%20%20%20%20%20%20%20%20%20%20var%20circle_77bb7f3e253445cb9d20643958b241f0%20%3D%20L.circle%28%0A%20%20%20%20%20%20%20%20%20%20%20%20%20%20%20%20%5B48.950199999999995%2C%202.3318624999999997%5D%2C%0A%20%20%20%20%20%20%20%20%20%20%20%20%20%20%20%20%7B%22bubblingMouseEvents%22%3A%20true%2C%20%22color%22%3A%20%22crimson%22%2C%20%22dashArray%22%3A%20null%2C%20%22dashOffset%22%3A%20null%2C%20%22fill%22%3A%20false%2C%20%22fillColor%22%3A%20%22crimson%22%2C%20%22fillOpacity%22%3A%200.2%2C%20%22fillRule%22%3A%20%22evenodd%22%2C%20%22lineCap%22%3A%20%22round%22%2C%20%22lineJoin%22%3A%20%22round%22%2C%20%22opacity%22%3A%201.0%2C%20%22radius%22%3A%202827.9775313347986%2C%20%22stroke%22%3A%20true%2C%20%22weight%22%3A%203%7D%0A%20%20%20%20%20%20%20%20%20%20%20%20%29.addTo%28map_4ae56eb2c1ed4964861e09c05c65c274%29%3B%0A%20%20%20%20%20%20%20%20%0A%20%20%20%20%0A%20%20%20%20%20%20%20%20%20%20%20%20var%20circle_5c73fc1a13af440ab82649619143cb93%20%3D%20L.circle%28%0A%20%20%20%20%20%20%20%20%20%20%20%20%20%20%20%20%5B48.950199999999995%2C%202.3786375%5D%2C%0A%20%20%20%20%20%20%20%20%20%20%20%20%20%20%20%20%7B%22bubblingMouseEvents%22%3A%20true%2C%20%22color%22%3A%20%22crimson%22%2C%20%22dashArray%22%3A%20null%2C%20%22dashOffset%22%3A%20null%2C%20%22fill%22%3A%20false%2C%20%22fillColor%22%3A%20%22crimson%22%2C%20%22fillOpacity%22%3A%200.2%2C%20%22fillRule%22%3A%20%22evenodd%22%2C%20%22lineCap%22%3A%20%22round%22%2C%20%22lineJoin%22%3A%20%22round%22%2C%20%22opacity%22%3A%201.0%2C%20%22radius%22%3A%202827.9775313347986%2C%20%22stroke%22%3A%20true%2C%20%22weight%22%3A%203%7D%0A%20%20%20%20%20%20%20%20%20%20%20%20%29.addTo%28map_4ae56eb2c1ed4964861e09c05c65c274%29%3B%0A%20%20%20%20%20%20%20%20%0A%20%20%20%20%0A%20%20%20%20%20%20%20%20%20%20%20%20var%20circle_6c3ec903a2174c2095f084e8813ae8d6%20%3D%20L.circle%28%0A%20%20%20%20%20%20%20%20%20%20%20%20%20%20%20%20%5B48.950199999999995%2C%202.4254124999999997%5D%2C%0A%20%20%20%20%20%20%20%20%20%20%20%20%20%20%20%20%7B%22bubblingMouseEvents%22%3A%20true%2C%20%22color%22%3A%20%22crimson%22%2C%20%22dashArray%22%3A%20null%2C%20%22dashOffset%22%3A%20null%2C%20%22fill%22%3A%20false%2C%20%22fillColor%22%3A%20%22crimson%22%2C%20%22fillOpacity%22%3A%200.2%2C%20%22fillRule%22%3A%20%22evenodd%22%2C%20%22lineCap%22%3A%20%22round%22%2C%20%22lineJoin%22%3A%20%22round%22%2C%20%22opacity%22%3A%201.0%2C%20%22radius%22%3A%202827.9775313347986%2C%20%22stroke%22%3A%20true%2C%20%22weight%22%3A%203%7D%0A%20%20%20%20%20%20%20%20%20%20%20%20%29.addTo%28map_4ae56eb2c1ed4964861e09c05c65c274%29%3B%0A%20%20%20%20%20%20%20%20%0A%20%20%20%20%0A%20%20%20%20%20%20%20%20%20%20%20%20var%20circle_37cbf3636a21480f8fedc47e2a8f5f36%20%3D%20L.circle%28%0A%20%20%20%20%20%20%20%20%20%20%20%20%20%20%20%20%5B48.9702%2C%202.2850875%5D%2C%0A%20%20%20%20%20%20%20%20%20%20%20%20%20%20%20%20%7B%22bubblingMouseEvents%22%3A%20true%2C%20%22color%22%3A%20%22crimson%22%2C%20%22dashArray%22%3A%20null%2C%20%22dashOffset%22%3A%20null%2C%20%22fill%22%3A%20false%2C%20%22fillColor%22%3A%20%22crimson%22%2C%20%22fillOpacity%22%3A%200.2%2C%20%22fillRule%22%3A%20%22evenodd%22%2C%20%22lineCap%22%3A%20%22round%22%2C%20%22lineJoin%22%3A%20%22round%22%2C%20%22opacity%22%3A%201.0%2C%20%22radius%22%3A%202827.9775313347986%2C%20%22stroke%22%3A%20true%2C%20%22weight%22%3A%203%7D%0A%20%20%20%20%20%20%20%20%20%20%20%20%29.addTo%28map_4ae56eb2c1ed4964861e09c05c65c274%29%3B%0A%20%20%20%20%20%20%20%20%0A%20%20%20%20%0A%20%20%20%20%20%20%20%20%20%20%20%20var%20circle_f7f36fa83b6945dcbbaebcb00c17179c%20%3D%20L.circle%28%0A%20%20%20%20%20%20%20%20%20%20%20%20%20%20%20%20%5B48.9702%2C%202.3318624999999997%5D%2C%0A%20%20%20%20%20%20%20%20%20%20%20%20%20%20%20%20%7B%22bubblingMouseEvents%22%3A%20true%2C%20%22color%22%3A%20%22crimson%22%2C%20%22dashArray%22%3A%20null%2C%20%22dashOffset%22%3A%20null%2C%20%22fill%22%3A%20false%2C%20%22fillColor%22%3A%20%22crimson%22%2C%20%22fillOpacity%22%3A%200.2%2C%20%22fillRule%22%3A%20%22evenodd%22%2C%20%22lineCap%22%3A%20%22round%22%2C%20%22lineJoin%22%3A%20%22round%22%2C%20%22opacity%22%3A%201.0%2C%20%22radius%22%3A%202827.9775313347986%2C%20%22stroke%22%3A%20true%2C%20%22weight%22%3A%203%7D%0A%20%20%20%20%20%20%20%20%20%20%20%20%29.addTo%28map_4ae56eb2c1ed4964861e09c05c65c274%29%3B%0A%20%20%20%20%20%20%20%20%0A%20%20%20%20%0A%20%20%20%20%20%20%20%20%20%20%20%20var%20circle_3138c22635d44e1b9ac42bc5770c3087%20%3D%20L.circle%28%0A%20%20%20%20%20%20%20%20%20%20%20%20%20%20%20%20%5B48.9702%2C%202.3786375%5D%2C%0A%20%20%20%20%20%20%20%20%20%20%20%20%20%20%20%20%7B%22bubblingMouseEvents%22%3A%20true%2C%20%22color%22%3A%20%22crimson%22%2C%20%22dashArray%22%3A%20null%2C%20%22dashOffset%22%3A%20null%2C%20%22fill%22%3A%20false%2C%20%22fillColor%22%3A%20%22crimson%22%2C%20%22fillOpacity%22%3A%200.2%2C%20%22fillRule%22%3A%20%22evenodd%22%2C%20%22lineCap%22%3A%20%22round%22%2C%20%22lineJoin%22%3A%20%22round%22%2C%20%22opacity%22%3A%201.0%2C%20%22radius%22%3A%202827.9775313347986%2C%20%22stroke%22%3A%20true%2C%20%22weight%22%3A%203%7D%0A%20%20%20%20%20%20%20%20%20%20%20%20%29.addTo%28map_4ae56eb2c1ed4964861e09c05c65c274%29%3B%0A%20%20%20%20%20%20%20%20%0A%20%20%20%20%0A%20%20%20%20%20%20%20%20%20%20%20%20var%20circle_59858e5685534f5191715d1e3aa1bf39%20%3D%20L.circle%28%0A%20%20%20%20%20%20%20%20%20%20%20%20%20%20%20%20%5B48.9702%2C%202.4254124999999997%5D%2C%0A%20%20%20%20%20%20%20%20%20%20%20%20%20%20%20%20%7B%22bubblingMouseEvents%22%3A%20true%2C%20%22color%22%3A%20%22crimson%22%2C%20%22dashArray%22%3A%20null%2C%20%22dashOffset%22%3A%20null%2C%20%22fill%22%3A%20false%2C%20%22fillColor%22%3A%20%22crimson%22%2C%20%22fillOpacity%22%3A%200.2%2C%20%22fillRule%22%3A%20%22evenodd%22%2C%20%22lineCap%22%3A%20%22round%22%2C%20%22lineJoin%22%3A%20%22round%22%2C%20%22opacity%22%3A%201.0%2C%20%22radius%22%3A%202827.9775313347986%2C%20%22stroke%22%3A%20true%2C%20%22weight%22%3A%203%7D%0A%20%20%20%20%20%20%20%20%20%20%20%20%29.addTo%28map_4ae56eb2c1ed4964861e09c05c65c274%29%3B%0A%20%20%20%20%20%20%20%20%0A%3C/script%3E onload=\"this.contentDocument.open();this.contentDocument.write(    decodeURIComponent(this.getAttribute('data-html')));this.contentDocument.close();\" allowfullscreen webkitallowfullscreen mozallowfullscreen></iframe></div></div>"
      ],
      "text/plain": [
       "<folium.folium.Map at 0x118d40550>"
      ]
     },
     "execution_count": 15,
     "metadata": {},
     "output_type": "execute_result"
    }
   ],
   "source": [
    "map_centers(*subzones_paris(16))"
   ]
  },
  {
   "cell_type": "code",
   "execution_count": 16,
   "id": "d91bb5a1",
   "metadata": {
    "ExecuteTime": {
     "end_time": "2021-11-22T13:36:44.927931Z",
     "start_time": "2021-11-22T13:36:44.900581Z"
    }
   },
   "outputs": [],
   "source": [
    "def get_restaurants(centers,radius,api_key):\n",
    "    \"\"\"\n",
    "    Returns DataFrame of restaurants in Paris\n",
    "    \"\"\"\n",
    "    headers={'Authorization':f'Bearer {yelp_key}'}\n",
    "    url = 'https://api.yelp.com/v3/businesses/search'\n",
    "\n",
    "    data = []\n",
    "    \n",
    "    for i,c in enumerate(centers):\n",
    "        print(f'---------- Requesting API for subzone #{i+1} ----------')\n",
    "        for offset in range(0, 200, 50):\n",
    "            print(f'   ------- Requesting API with offset = {offset} -------   ')\n",
    "            params = {\n",
    "                'limit': 50, \n",
    "                'categories':['restaurants'],\n",
    "                'sort_by':'review_count',\n",
    "                'offset': offset,\n",
    "                'latitude':c[0],\n",
    "                'longitude':c[1],\n",
    "                'radius':int(radius)\n",
    "            }\n",
    "\n",
    "            response = requests.get(url, headers=headers, params=params)\n",
    "            if response.status_code == 200:\n",
    "                data += response.json()['businesses']\n",
    "            elif response.status_code == 400:\n",
    "                print('400 Bad Request')\n",
    "                break\n",
    "                \n",
    "    print(f'#####   Request completed, {len(data)} businesses fetched   ###')\n",
    "    return data"
   ]
  },
  {
   "cell_type": "code",
   "execution_count": 18,
   "id": "bfae2ae1",
   "metadata": {
    "ExecuteTime": {
     "end_time": "2021-11-22T13:38:44.840253Z",
     "start_time": "2021-11-22T13:38:32.940119Z"
    }
   },
   "outputs": [
    {
     "name": "stdout",
     "output_type": "stream",
     "text": [
      "---------- Requesting API for subzone #1 ----------\n",
      "   ------- Requesting API with offset = 0 -------   \n",
      "   ------- Requesting API with offset = 50 -------   \n",
      "   ------- Requesting API with offset = 100 -------   \n",
      "   ------- Requesting API with offset = 150 -------   \n",
      "---------- Requesting API for subzone #2 ----------\n",
      "   ------- Requesting API with offset = 0 -------   \n",
      "   ------- Requesting API with offset = 50 -------   \n",
      "   ------- Requesting API with offset = 100 -------   \n",
      "   ------- Requesting API with offset = 150 -------   \n",
      "---------- Requesting API for subzone #3 ----------\n",
      "   ------- Requesting API with offset = 0 -------   \n",
      "   ------- Requesting API with offset = 50 -------   \n",
      "   ------- Requesting API with offset = 100 -------   \n",
      "   ------- Requesting API with offset = 150 -------   \n",
      "---------- Requesting API for subzone #4 ----------\n",
      "   ------- Requesting API with offset = 0 -------   \n",
      "   ------- Requesting API with offset = 50 -------   \n",
      "   ------- Requesting API with offset = 100 -------   \n",
      "   ------- Requesting API with offset = 150 -------   \n",
      "#####   Request completed, 800 businesses fetched   ###\n"
     ]
    }
   ],
   "source": [
    "centers,radius = subzones_paris(4)\n",
    "data = get_restaurants(centers,radius,yelp_key)"
   ]
  },
  {
   "cell_type": "markdown",
   "id": "4489d4d2",
   "metadata": {},
   "source": [
    "## Yelp Reviews Scrapping"
   ]
  },
  {
   "cell_type": "code",
   "execution_count": 19,
   "id": "a89431f0",
   "metadata": {
    "ExecuteTime": {
     "end_time": "2021-11-22T13:38:50.716250Z",
     "start_time": "2021-11-22T13:38:50.684160Z"
    }
   },
   "outputs": [],
   "source": [
    "### Create DF for Yelp data\n",
    "\n",
    "\n",
    "def create_df_yelp(data):\n",
    "\n",
    "    df = pd.DataFrame(columns=[\n",
    "        'alias', 'name', 'url', 'categories', 'latitude', 'longitude',\n",
    "        'address', 'zip_code', 'price', 'rating', 'review_count'\n",
    "    ])\n",
    "\n",
    "    features_to_loop = [\n",
    "        'alias', 'name', 'url', 'categories', 'price', 'rating', 'review_count'\n",
    "    ]\n",
    "\n",
    "    #populate DF\n",
    "    #if condition to avoid raising errors in case restaurant doesn't have all informations\n",
    "\n",
    "    for i, d in enumerate(data):\n",
    "\n",
    "        for f in features_to_loop:\n",
    "            if f in d:\n",
    "                df.loc[i, f] = d[f]\n",
    "            else:\n",
    "                df.loc[i, f] = ''\n",
    "\n",
    "        if 'location' in d:\n",
    "            if 'latitude' in d['coordinates']:\n",
    "                df.loc[i, 'latitude'] = d['coordinates']['latitude']\n",
    "            else:\n",
    "                df.loc[i, 'latitude'] = ''\n",
    "\n",
    "            if 'longitude' in d['coordinates']:\n",
    "                df.loc[i, 'longitude'] = d['coordinates']['longitude']\n",
    "            else:\n",
    "                df.loc[i, 'longitude'] = ''\n",
    "\n",
    "            if 'address1' in d['location']:\n",
    "                df.loc[i, 'address'] = d['location']['address1']\n",
    "            else:\n",
    "                df.loc[i, 'address'] = ''\n",
    "\n",
    "            if 'zip_code' in d['location']:\n",
    "                df.loc[i, 'zip_code'] = d['location']['zip_code']\n",
    "            else:\n",
    "                df.loc[i, 'zip_code'] = 0\n",
    "\n",
    "    #clean DF\n",
    "    #dtypes\n",
    "    df['latitude'] = df['latitude'].astype(float)\n",
    "    df['longitude'] = df['longitude'].astype(float)\n",
    "    df['zip_code'] = df['zip_code'].replace('', 0).astype(int)\n",
    "    df['rating'] = df['rating'].astype(float)\n",
    "    df['review_count'] = df['review_count'].astype(float)\n",
    "\n",
    "    #url\n",
    "    df['url'] = df['url'].apply(lambda txt: txt.split('?', 1)[0])\n",
    "\n",
    "    #price\n",
    "    prices = {'€': '1', '€€': '2', '€€€': '3', '€€€€': '4'}\n",
    "\n",
    "    for euro, num in prices.items():\n",
    "        df['price'] = df['price'].replace(euro, num)\n",
    "\n",
    "    df['price'] = df['price'].replace('', 0).astype(int)\n",
    "\n",
    "    #categories\n",
    "    df['categories'] = df['categories'].apply(\n",
    "        lambda dicts: ', '.join([d['alias'] for d in dicts]))\n",
    "\n",
    "    return df.drop_duplicates()"
   ]
  },
  {
   "cell_type": "code",
   "execution_count": 20,
   "id": "5d832dc9",
   "metadata": {
    "ExecuteTime": {
     "end_time": "2021-11-22T13:38:52.282935Z",
     "start_time": "2021-11-22T13:38:51.591005Z"
    }
   },
   "outputs": [],
   "source": [
    "df = create_df_yelp(data)"
   ]
  },
  {
   "cell_type": "code",
   "execution_count": 21,
   "id": "9162dd17",
   "metadata": {
    "ExecuteTime": {
     "end_time": "2021-11-22T13:38:52.318354Z",
     "start_time": "2021-11-22T13:38:52.285010Z"
    },
    "scrolled": true
   },
   "outputs": [
    {
     "data": {
      "text/html": [
       "<div>\n",
       "<style scoped>\n",
       "    .dataframe tbody tr th:only-of-type {\n",
       "        vertical-align: middle;\n",
       "    }\n",
       "\n",
       "    .dataframe tbody tr th {\n",
       "        vertical-align: top;\n",
       "    }\n",
       "\n",
       "    .dataframe thead th {\n",
       "        text-align: right;\n",
       "    }\n",
       "</style>\n",
       "<table border=\"1\" class=\"dataframe\">\n",
       "  <thead>\n",
       "    <tr style=\"text-align: right;\">\n",
       "      <th></th>\n",
       "      <th>alias</th>\n",
       "      <th>name</th>\n",
       "      <th>url</th>\n",
       "      <th>categories</th>\n",
       "      <th>latitude</th>\n",
       "      <th>longitude</th>\n",
       "      <th>address</th>\n",
       "      <th>zip_code</th>\n",
       "      <th>price</th>\n",
       "      <th>rating</th>\n",
       "      <th>review_count</th>\n",
       "    </tr>\n",
       "  </thead>\n",
       "  <tbody>\n",
       "    <tr>\n",
       "      <th>0</th>\n",
       "      <td>bouillon-chartier-paris</td>\n",
       "      <td>Bouillon Chartier</td>\n",
       "      <td>https://www.yelp.com/biz/bouillon-chartier-paris</td>\n",
       "      <td>french</td>\n",
       "      <td>48.871940</td>\n",
       "      <td>2.343170</td>\n",
       "      <td>7 rue du Faubourg Montmartre</td>\n",
       "      <td>75009</td>\n",
       "      <td>2</td>\n",
       "      <td>3.5</td>\n",
       "      <td>953.0</td>\n",
       "    </tr>\n",
       "    <tr>\n",
       "      <th>1</th>\n",
       "      <td>le-potager-du-père-thierry-paris-2</td>\n",
       "      <td>Le Potager du Père Thierry</td>\n",
       "      <td>https://www.yelp.com/biz/le-potager-du-p%C3%A8...</td>\n",
       "      <td>french</td>\n",
       "      <td>48.884476</td>\n",
       "      <td>2.341335</td>\n",
       "      <td>16 rue des Trois Frères</td>\n",
       "      <td>75018</td>\n",
       "      <td>2</td>\n",
       "      <td>4.5</td>\n",
       "      <td>427.0</td>\n",
       "    </tr>\n",
       "    <tr>\n",
       "      <th>2</th>\n",
       "      <td>la-cave-gourmande-paris-2</td>\n",
       "      <td>La Cave Gourmande</td>\n",
       "      <td>https://www.yelp.com/biz/la-cave-gourmande-par...</td>\n",
       "      <td>bistros</td>\n",
       "      <td>48.884499</td>\n",
       "      <td>2.339847</td>\n",
       "      <td>96 rue des Martyrs</td>\n",
       "      <td>75018</td>\n",
       "      <td>2</td>\n",
       "      <td>4.5</td>\n",
       "      <td>336.0</td>\n",
       "    </tr>\n",
       "    <tr>\n",
       "      <th>3</th>\n",
       "      <td>holybelly-19-paris</td>\n",
       "      <td>Holybelly 19</td>\n",
       "      <td>https://www.yelp.com/biz/holybelly-19-paris</td>\n",
       "      <td>breakfast_brunch, cafes, desserts</td>\n",
       "      <td>48.872130</td>\n",
       "      <td>2.360780</td>\n",
       "      <td>19 rue Lucien Sampaix</td>\n",
       "      <td>75010</td>\n",
       "      <td>2</td>\n",
       "      <td>4.5</td>\n",
       "      <td>296.0</td>\n",
       "    </tr>\n",
       "    <tr>\n",
       "      <th>4</th>\n",
       "      <td>le-relais-de-venise-l-entrecôte-paris-2</td>\n",
       "      <td>Le Relais de Venise - l'Entrecôte</td>\n",
       "      <td>https://www.yelp.com/biz/le-relais-de-venise-l...</td>\n",
       "      <td>desserts, bbq</td>\n",
       "      <td>48.878045</td>\n",
       "      <td>2.285062</td>\n",
       "      <td>271 boulevard Pereire</td>\n",
       "      <td>75017</td>\n",
       "      <td>3</td>\n",
       "      <td>4.0</td>\n",
       "      <td>275.0</td>\n",
       "    </tr>\n",
       "  </tbody>\n",
       "</table>\n",
       "</div>"
      ],
      "text/plain": [
       "                                     alias                               name  \\\n",
       "0                  bouillon-chartier-paris                  Bouillon Chartier   \n",
       "1       le-potager-du-père-thierry-paris-2         Le Potager du Père Thierry   \n",
       "2                la-cave-gourmande-paris-2                  La Cave Gourmande   \n",
       "3                       holybelly-19-paris                       Holybelly 19   \n",
       "4  le-relais-de-venise-l-entrecôte-paris-2  Le Relais de Venise - l'Entrecôte   \n",
       "\n",
       "                                                 url  \\\n",
       "0   https://www.yelp.com/biz/bouillon-chartier-paris   \n",
       "1  https://www.yelp.com/biz/le-potager-du-p%C3%A8...   \n",
       "2  https://www.yelp.com/biz/la-cave-gourmande-par...   \n",
       "3        https://www.yelp.com/biz/holybelly-19-paris   \n",
       "4  https://www.yelp.com/biz/le-relais-de-venise-l...   \n",
       "\n",
       "                          categories   latitude  longitude  \\\n",
       "0                             french  48.871940   2.343170   \n",
       "1                             french  48.884476   2.341335   \n",
       "2                            bistros  48.884499   2.339847   \n",
       "3  breakfast_brunch, cafes, desserts  48.872130   2.360780   \n",
       "4                      desserts, bbq  48.878045   2.285062   \n",
       "\n",
       "                        address  zip_code  price  rating  review_count  \n",
       "0  7 rue du Faubourg Montmartre     75009      2     3.5         953.0  \n",
       "1       16 rue des Trois Frères     75018      2     4.5         427.0  \n",
       "2            96 rue des Martyrs     75018      2     4.5         336.0  \n",
       "3         19 rue Lucien Sampaix     75010      2     4.5         296.0  \n",
       "4         271 boulevard Pereire     75017      3     4.0         275.0  "
      ]
     },
     "execution_count": 21,
     "metadata": {},
     "output_type": "execute_result"
    }
   ],
   "source": [
    "df.head()"
   ]
  },
  {
   "cell_type": "code",
   "execution_count": 22,
   "id": "c282d137",
   "metadata": {
    "ExecuteTime": {
     "end_time": "2021-11-22T13:38:54.822464Z",
     "start_time": "2021-11-22T13:38:54.797702Z"
    },
    "scrolled": true
   },
   "outputs": [
    {
     "data": {
      "text/plain": [
       "alias                                    soul-kitchen-paris\n",
       "name                                           Soul Kitchen\n",
       "url             https://www.yelp.com/biz/soul-kitchen-paris\n",
       "categories               coffee, desserts, breakfast_brunch\n",
       "latitude                                           48.88916\n",
       "longitude                                          2.342305\n",
       "address                                      33 rue Lamarck\n",
       "zip_code                                              75018\n",
       "price                                                     2\n",
       "rating                                                  4.5\n",
       "review_count                                          129.0\n",
       "Name: 45, dtype: object"
      ]
     },
     "execution_count": 22,
     "metadata": {},
     "output_type": "execute_result"
    }
   ],
   "source": [
    "df.loc[45]"
   ]
  },
  {
   "cell_type": "code",
   "execution_count": null,
   "id": "cf2319e9",
   "metadata": {},
   "outputs": [],
   "source": [
    " xpath_rate = f'//yelp-react-root/div[1]/div[4]/div/div/div[2]/div/div[1]/div[2]/section/div[2]/div/ul/li[{i}]/div/div[2]/div/div[1]/span/div'\n",
    "            "
   ]
  },
  {
   "cell_type": "code",
   "execution_count": 45,
   "id": "ab76bd58",
   "metadata": {
    "ExecuteTime": {
     "end_time": "2021-11-22T13:57:12.892021Z",
     "start_time": "2021-11-22T13:57:12.832945Z"
    }
   },
   "outputs": [],
   "source": [
    "url_ = df.loc[50,'url']"
   ]
  },
  {
   "cell_type": "code",
   "execution_count": null,
   "id": "14c18134",
   "metadata": {},
   "outputs": [],
   "source": [
    "#get rating and date\n",
    "        for i,rate in enumerate(soup.find_all(class_=\"arrange__373c0__2iVWK gutter-1__373c0__1NOjO vertical-align-middle__373c0__2sr2a border-color--default__373c0__r305k\")[:10]):\n",
    "            if verbose>1:\n",
    "                print(f'--Getting rate and date #{i+1}...')\n",
    "            rates.append(rate.find('span').find('div').attrs['aria-label'])\n",
    "            dates.append(rate.find(class_=\"css-wc5edd\").string)\n",
    "                "
   ]
  },
  {
   "cell_type": "code",
   "execution_count": 155,
   "id": "1ff53aa5",
   "metadata": {
    "ExecuteTime": {
     "end_time": "2021-11-22T15:30:37.605012Z",
     "start_time": "2021-11-22T15:30:37.489603Z"
    }
   },
   "outputs": [],
   "source": [
    "### SCRAPPING ONE RESTAURANT --- YELP ###\n",
    "\n",
    "def get_reviews_yelp(url,verbose=0,quiet_mode=True,load_strategy='eager'):\n",
    "    \n",
    "    #pages\n",
    "    \n",
    "    options=Options()\n",
    "    if quiet_mode:\n",
    "        options.add_argument('--headless')\n",
    "    options.page_load_strategy = load_strategy\n",
    "    driver = webdriver.Chrome(options=options)\n",
    "    \n",
    "    driver.get(url)\n",
    "    xpath_page=\"//yelp-react-root/div[1]/div[4]/div/div/div[2]/div/div[1]/div[2]/section/div[2]/div/div[4]/div[2]/span\"\n",
    "    \n",
    "    page = driver.find_element_by_xpath(xpath_page).text\n",
    "    n_pages=int(page.split('of ')[1])\n",
    "    reviews=[]\n",
    "    rates=[]\n",
    "    dates=[]\n",
    "    \n",
    "    print(f'### {n_pages} pages to scrap ###')\n",
    "    \n",
    "    for n in range(n_pages):\n",
    "        \n",
    "        if verbose>0:\n",
    "            print(f'--- Fetching reviews of page #{n+1}...')\n",
    "        \n",
    "        #url of the n_page\n",
    "        url_=f'{url}?start={n*10}'\n",
    "        driver.get(url_)\n",
    "        xpath_all_review=f\"//yelp-react-root/div[1]/div[4]/div/div/div[2]/div/div[1]/div[2]/section/div[2]/div/ul\"\n",
    "            \n",
    "            \n",
    "           \n",
    "        review_block = driver.find_element_by_xpath(xpath_all_review)\n",
    "        all_reviews = review_block.find_elements_by_tag_name('li')\n",
    "        for r in all_reviews:\n",
    "            reviews.append(r.text)\n",
    "\n",
    "        if verbose>1:\n",
    "            print(f'--Getting reviews #{i}...')\n",
    "\n",
    "        #review = driver.find_element_by_xpath(xpath_review)\n",
    "        #rate = driver.find_element_by_xpath(xpath_rate)\n",
    "\n",
    "        #reviews.append(review.text)\n",
    "        #rates.append(rate.get_attribute('aria-label'))\n",
    "            \n",
    "        \n",
    "            \n",
    "    return dates,rates,reviews"
   ]
  },
  {
   "cell_type": "code",
   "execution_count": 156,
   "id": "2afe521f",
   "metadata": {
    "ExecuteTime": {
     "end_time": "2021-11-22T15:30:38.333669Z",
     "start_time": "2021-11-22T15:30:38.307655Z"
    }
   },
   "outputs": [
    {
     "data": {
      "text/plain": [
       "'https://www.yelp.com/biz/la-fourmi-paris'"
      ]
     },
     "execution_count": 156,
     "metadata": {},
     "output_type": "execute_result"
    }
   ],
   "source": [
    "df.loc[50,'url']"
   ]
  },
  {
   "cell_type": "code",
   "execution_count": 157,
   "id": "649646d5",
   "metadata": {
    "ExecuteTime": {
     "end_time": "2021-11-22T15:31:02.327453Z",
     "start_time": "2021-11-22T15:30:38.839825Z"
    }
   },
   "outputs": [
    {
     "name": "stderr",
     "output_type": "stream",
     "text": [
      "/var/folders/zd/9ts3jb2s5472mty2sgdddp3m0000gn/T/ipykernel_42052/1032252001.py:16: DeprecationWarning: find_element_by_* commands are deprecated. Please use find_element() instead\n",
      "  page = driver.find_element_by_xpath(xpath_page).text\n"
     ]
    },
    {
     "name": "stdout",
     "output_type": "stream",
     "text": [
      "### 2 pages to scrap ###\n",
      "--- Fetching reviews of page #1...\n"
     ]
    },
    {
     "name": "stderr",
     "output_type": "stream",
     "text": [
      "/var/folders/zd/9ts3jb2s5472mty2sgdddp3m0000gn/T/ipykernel_42052/1032252001.py:36: DeprecationWarning: find_element_by_* commands are deprecated. Please use find_element() instead\n",
      "  review_block = driver.find_element_by_xpath(xpath_all_review)\n",
      "/Users/arthurcollard/.pyenv/versions/3.8.12/envs/FOBO/lib/python3.8/site-packages/selenium/webdriver/remote/webelement.py:358: UserWarning: find_elements_by_* commands are deprecated. Please use find_elements() instead\n",
      "  warnings.warn(\"find_elements_by_* commands are deprecated. Please use find_elements() instead\")\n"
     ]
    },
    {
     "name": "stdout",
     "output_type": "stream",
     "text": [
      "--Getting reviews #10...\n",
      "--- Fetching reviews of page #2...\n",
      "--Getting reviews #10...\n"
     ]
    }
   ],
   "source": [
    "dates,rates,reviews = get_reviews_yelp(df.loc[50,'url'],verbose=2)"
   ]
  },
  {
   "cell_type": "code",
   "execution_count": 158,
   "id": "7acca655",
   "metadata": {
    "ExecuteTime": {
     "end_time": "2021-11-22T15:31:02.401961Z",
     "start_time": "2021-11-22T15:31:02.330569Z"
    }
   },
   "outputs": [
    {
     "data": {
      "text/plain": [
       "([],\n",
       " [],\n",
       " ['Ariane V.\\nParis, France\\n28\\n45\\n74\\n2/11/2013\\nLa fourmi literally means \"the ant\", and when you go there you understand why: the place is hiving of activity like a true anthill.\\nIt\\'s kind of complicated to find a table but somehow you always manage to. And once you have you feel home, looking at Pigalle neighborhood from the large windows.\\nThe place is a true French bar, where students and young workers meet at night, to grab a cheap beer or a generous (thought very simple) meal. The staff is friendly but won\\'t linger to talk to people as they are always busy.\\nUseful 3\\nFunny\\nCool',\n",
       "  \"Jeremy S.\\nEncinitas, CA\\n916\\n1257\\n2303\\n8/3/2015\\n1 photo\\nGreat spot to grab a drink and relax amidst a nice breeze of Montmarte. This location actually has a cool little breeze that runs through the Rue onto the outdoor seating. The beer selection is rather limited but the draft pints served is not bad at all. The servers here are rather attentive and the location is not too bad. This particular spot does get a bit crowded at certain hours of the evening but does provide you with a rather u our people watching experience. Overall, not superb, but it'll do in a pinch when a pint is needed...\\n\\nPros-\\nBreezes\\nLocation\\nAttentiveness\\nPeople watching\\nOutdoor seating\\nInteresting mix of people\\n\\nCons-\\nDirty restrooms\\nOdd location\\nLots of street hustlers\\nUseful 5\\nFunny 2\\nCool 3\",\n",
       "  'Ada C.\\nElite 2021\\nLondon, United Kingdom\\n236\\n808\\n323\\n11/6/2015\\nGood indie bar in Montmartre that has a great laid back vibe. If you sit at the bar, you can get the bar price until 20h.\\nUseful\\nFunny\\nCool',\n",
       "  \"Tony L.\\nElite 2021\\nManhattan, NY\\n632\\n645\\n613\\n7/24/2012\\nChaotic, open late and very much a neighborhood bar. I loved my brief stay up the street at Hotel André Gill...and having this place just down the street was excellent.\\n\\nThe beer was good and cold, the prices were right, the mood was completely French (with not one tourist in sight) and the service was amiable enough to get orders taken and delivered. I loved every minute of it. It's loud and alive at night.\\n\\nI'd easily come back here any night I happen to be strolling down Blvd de Rouchechouart or Rue des Martyrs. I'd recommend it to anyone but my parents.\\nUseful 3\\nFunny 1\\nCool 2\",\n",
       "  'Sophie G.\\nLondon, United Kingdom\\n0\\n2\\n1/4/2018\\nA very understated traditional French cafe bar. The barman was helpful in serving us even though the kitchen was closed and we had an awesome cheese and meat mixed platter which was really reasonably priced. Great value & nice beer. Would recommend.\\nUseful\\nFunny\\nCool',\n",
       "  \"Jennifer O.\\nElite 2021\\nPhoenix, AZ\\n413\\n2406\\n243\\n1/18/2015\\nI will start by saying, I can't comment on the food here, I did not eat; however, I did have a good experience drinking here. They have cheap draft beer and the bartenders were quick and efficient in managing their customers. The decor is very interesting and it was a fun place to people watch. Additionally, they had some of the coolest bathrooms in Paris! If you're looking for a cheap beer, check this place out!\\nUseful\\nFunny\\nCool 1\",\n",
       "  'Amber Z.\\nParis, France\\n62\\n1087\\n79\\n8/31/2017\\nThis is a great chill place. They are always busy, from dinner to late night. We had the burger and the thai steak tartare. Both were excellent. The tartare spices were great and it came with fries and salad and bread. A very friendly neighborhood place.\\nUseful\\nFunny\\nCool',\n",
       "  'Elizabeth W.\\nStone Mountain, GA\\n26\\n40\\n2\\n5/18/2016\\nI had lunch -- wish I could have been there at night. What a gas! Walking along rue Martyrs and it was quickly obvious that this was a \"local.\" SO glad I went in. Fun, good food, great people -- including a couple of \"characters.\" I had a \"tartine\" of melted cheese, chilled smoked salmon, and a sauce/dressing -- some kind of mayonnaise -- frites, un biere, et une espresso. Sound track included Elvis, Johnny Cash, the Doors. Knew I was in the right place. Formidable!\\nUseful 1\\nFunny\\nCool',\n",
       "  \"Nicolas C.\\nSan Jose, CA\\n72\\n180\\n372\\n4/27/2014\\n1 photo\\nA good, casual place for drinks, but I went for lunch from their very affordable daily menu. I enjoyed the food, but the bar is set so high in France! Very nice staff. Roomy dining area with a street corner view of the hustle and bustle of Paris. Within walking distance from the Sacré-Coeur, so it's a smart place to stop for lunch as you do all your sightseeing.\\nFish of the day and an eggplant stack, served with rice pilaf\\nUseful\\nFunny\\nCool\",\n",
       "  \"Ersinan C.\\nSan Francisco, CA\\n234\\n21\\n1/29/2015\\nPerfect place to have a coffee or drink. When I was staying around Montmartre, I'd come in for a morning coffee (1 eur) at the bar and the staff was always super nice. It's a great place to read and do offline work in the afternoon (no wifi). During the evening early in the week, it's good to grab a drink...but later in the week it's hard to find seats. But the vibe in there is super chill...really love it. Reminds me of my favorite places in Budapest & Berlin...\\nUseful\\nFunny\\nCool\",\n",
       "  \"Jay M.\\nAlgiers, LA\\n50\\n10\\n23\\n3/18/2015\\nWe came here a couple of times late night as it was around the corner from our flat. It had a college bar feel to it; not a whole lot of selection, the stuff they did have wasn't great, and the service was a little slow. It was a great place to meet people for a drink, and then move on to something a little better or maybe more our speed.\\nUseful\\nFunny\\nCool\",\n",
       "  \"Kelsi C.\\nManhattan, NY\\n147\\n32\\n21\\n3/4/2011\\nGreat bar! Super roomy, but always buzzing.\\nCozy but masculine decor, with a great chandelier made out of old green wine bottles. Laid back aging hipster atmosphere.\\nI've never eaten here but the plates I passed looked pretty appetizing. Basically I'd say it's a good place to go with a small handful of friends for a couple of beers, and maybe a bite to eat. It's a no pressure, laid back kind of place, so leave your heels at home.\\nUseful 1\\nFunny\\nCool 1\",\n",
       "  'Diana W.\\nParis, France\\n54\\n229\\n8\\n3/30/2011\\nOne of my favorite places to go for a drink with friends or catch a later dinner. I adore the chaos of La Fourmi: the sporadically placed tables, the shuffling of chairs, the nimble waitress carrying teetering glasses of wine and sloshing beers. The cheeseburgers are pas mal and the prices are right. The decor is great and service is actually pretty quick (although not guaranteed friendly).\\n\\nBouffe: 7/10     Boisson: 8/10     Ambiance: 9/10\\nUseful 1\\nFunny\\nCool 1',\n",
       "  \"Karina K.\\nParis, France\\n108\\n110\\n142\\n4/4/2012\\nIt's a must in the neighborhood, but frankly, it is not as friendly as you might hear. Nobody ever spoke to me while I was there on my own (a few times) and the staff is usually super busy and not that friendly either. But a good, affordable spot anyhow.\\nUseful 2\\nFunny\\nCool 1\",\n",
       "  \"Doris H.\\nMontreal, Canada\\n0\\n20\\n6/24/2014\\nThis place is in a great location. So much sightseeing and walking around so it's a perfect place to take a break. Prices are excellent for the area. The beer selection is limited but enough for our evening pub break. The food is okay. Friendly staff, interesting decor, a good place overall.\\nUseful\\nFunny\\nCool\",\n",
       "  'Qype User (tacke…)\\nOffenbach, Germany\\n15\\n90\\n91\\n5/22/2008\\nUpdated review\\nOut-of-the-ordinary coffehouse which is frequented by mostly young Parisians. The good coffee served by the friendly staff will give you a great start for the day.\\nUseful\\nFunny\\nCool\\n5/22/2008Previous review\\nEher alternatives Cafe in Montmartre das von vor allem jungen Publikum besucht wird. Nette Bedienung und guter Kaffee ermöglichen einen guten Start in den Tag.\\nRead more',\n",
       "  'Qype User (AnneLo…)\\nLondon, United Kingdom\\n9\\n9\\n2\\n3/22/2011\\nMythical place for Parisians in Pigalle, a friendly and cool atmosphere, nice decoration and staff. It is always busy\\nUseful\\nFunny\\nCool',\n",
       "  'Qype User (Bro…)\\nParis, France\\n2\\n5\\n8/21/2008\\ngood bar,cheap, always crowded so hard to find a space but worth having few drinks before going to a nearby Divan du Monde\\nUseful\\nFunny\\nCool'])"
      ]
     },
     "execution_count": 158,
     "metadata": {},
     "output_type": "execute_result"
    }
   ],
   "source": [
    "dates,rates,reviews "
   ]
  },
  {
   "cell_type": "code",
   "execution_count": 151,
   "id": "47a8df55",
   "metadata": {
    "ExecuteTime": {
     "end_time": "2021-11-22T15:28:20.530685Z",
     "start_time": "2021-11-22T15:28:20.491049Z"
    }
   },
   "outputs": [
    {
     "data": {
      "text/plain": [
       "(0, 0, 0)"
      ]
     },
     "execution_count": 151,
     "metadata": {},
     "output_type": "execute_result"
    }
   ],
   "source": [
    "len(dates) , len(reviews) , len(rates)"
   ]
  },
  {
   "cell_type": "code",
   "execution_count": 125,
   "id": "0818d73e",
   "metadata": {
    "ExecuteTime": {
     "end_time": "2021-11-22T15:02:27.359104Z",
     "start_time": "2021-11-22T15:02:19.133201Z"
    }
   },
   "outputs": [
    {
     "name": "stderr",
     "output_type": "stream",
     "text": [
      "/var/folders/zd/9ts3jb2s5472mty2sgdddp3m0000gn/T/ipykernel_42052/2119553630.py:11: DeprecationWarning: find_element_by_* commands are deprecated. Please use find_element() instead\n",
      "  review = driver.find_element_by_xpath(xpath_review)\n"
     ]
    },
    {
     "ename": "AttributeError",
     "evalue": "'list' object has no attribute 'shape'",
     "output_type": "error",
     "traceback": [
      "\u001b[0;31m---------------------------------------------------------------------------\u001b[0m",
      "\u001b[0;31mAttributeError\u001b[0m                            Traceback (most recent call last)",
      "\u001b[0;32m/var/folders/zd/9ts3jb2s5472mty2sgdddp3m0000gn/T/ipykernel_42052/2119553630.py\u001b[0m in \u001b[0;36m<module>\u001b[0;34m\u001b[0m\n\u001b[1;32m     11\u001b[0m     \u001b[0mreview\u001b[0m \u001b[0;34m=\u001b[0m \u001b[0mdriver\u001b[0m\u001b[0;34m.\u001b[0m\u001b[0mfind_element_by_xpath\u001b[0m\u001b[0;34m(\u001b[0m\u001b[0mxpath_review\u001b[0m\u001b[0;34m)\u001b[0m\u001b[0;34m\u001b[0m\u001b[0;34m\u001b[0m\u001b[0m\n\u001b[1;32m     12\u001b[0m     \u001b[0mreviews\u001b[0m\u001b[0;34m.\u001b[0m\u001b[0mappend\u001b[0m\u001b[0;34m(\u001b[0m\u001b[0mreview\u001b[0m\u001b[0;34m)\u001b[0m\u001b[0;34m\u001b[0m\u001b[0;34m\u001b[0m\u001b[0m\n\u001b[0;32m---> 13\u001b[0;31m \u001b[0mreviews\u001b[0m\u001b[0;34m.\u001b[0m\u001b[0mshape\u001b[0m\u001b[0;34m\u001b[0m\u001b[0;34m\u001b[0m\u001b[0m\n\u001b[0m",
      "\u001b[0;31mAttributeError\u001b[0m: 'list' object has no attribute 'shape'"
     ]
    }
   ],
   "source": [
    "options=Options()\n",
    "if True:\n",
    "    options.add_argument('--headless')\n",
    "options.page_load_strategy = 'normal'\n",
    "driver = webdriver.Chrome(options=options)\n",
    "    \n",
    "driver.get(url_)\n",
    "reviews=[]\n",
    "for i in range(1,11):\n",
    "    xpath_review=f\"//yelp-react-root/div[1]/div[4]/div/div/div[2]/div/div[1]/div[2]/section/div[2]/div/ul\"\n",
    "    review = driver.find_element_by_xpath(xpath_review)\n",
    "    reviews.append(review)\n",
    "reviews"
   ]
  },
  {
   "cell_type": "markdown",
   "id": "8a64da94",
   "metadata": {},
   "source": [
    "## Google Review Scrapping"
   ]
  },
  {
   "cell_type": "code",
   "execution_count": 35,
   "id": "e439fc38",
   "metadata": {
    "ExecuteTime": {
     "end_time": "2021-11-22T13:49:08.770433Z",
     "start_time": "2021-11-22T13:49:08.746906Z"
    }
   },
   "outputs": [],
   "source": [
    "## Get place ID \n",
    "\n",
    "def get_place_google_id(name,latitude,longitude):\n",
    "\n",
    "    url = 'https://maps.googleapis.com/maps/api/place/findplacefromtext/json'\n",
    "    params={\n",
    "        'key' : google_key,\n",
    "        'input' : name,\n",
    "        'inputtype' : 'textquery',\n",
    "        'locationbias' : f'point:{latitude},{longitude}'\n",
    "    }\n",
    "    \n",
    "    response = requests.get(url,params=params)\n",
    "    \n",
    "    #if conditions to avoid raising errors\n",
    "    if response.status_code != 200:\n",
    "        return ''\n",
    "        \n",
    "    if 'candidates' in response.json():\n",
    "        response = response.json()['candidates']\n",
    "        if len(response)==0:\n",
    "            return ''\n",
    "        if 'place_id' in response[0]:\n",
    "            return response[0]['place_id']\n",
    "    \n",
    "    return ''\n"
   ]
  },
  {
   "cell_type": "code",
   "execution_count": 36,
   "id": "fab5fab0",
   "metadata": {
    "ExecuteTime": {
     "end_time": "2021-11-22T13:49:09.867665Z",
     "start_time": "2021-11-22T13:49:09.347605Z"
    }
   },
   "outputs": [
    {
     "data": {
      "text/plain": [
       "'ChIJ4xutfT5u5kcRaJn2NkiOhPU'"
      ]
     },
     "execution_count": 36,
     "metadata": {},
     "output_type": "execute_result"
    }
   ],
   "source": [
    "## id_ for testing purposes -- don't request API multiple times\n",
    "\n",
    "name = df.loc[0,'name']\n",
    "lat = df.loc[0,'latitude']\n",
    "lon = df.loc[0,'longitude']\n",
    "id_=get_place_google_id(name,lat,lon)\n",
    "\n",
    "id_"
   ]
  },
  {
   "cell_type": "code",
   "execution_count": 37,
   "id": "bde7e1ca",
   "metadata": {
    "ExecuteTime": {
     "end_time": "2021-11-22T13:49:10.841254Z",
     "start_time": "2021-11-22T13:49:10.816798Z"
    }
   },
   "outputs": [],
   "source": [
    "## Get place url\n",
    "\n",
    "def get_place_google_url(place_id):\n",
    "    url='https://maps.googleapis.com/maps/api/place/details/json'\n",
    "    params={\n",
    "        'key' : google_key,\n",
    "        'place_id' : place_id,\n",
    "        'fields' : 'url'\n",
    "    }\n",
    "    \n",
    "    response = requests.get(url,params=params)\n",
    "    \n",
    "    #if conditions to avoid raising errors\n",
    "    if response.status_code != 200:\n",
    "        return ''\n",
    "    \n",
    "    if 'result' in response.json():\n",
    "        response = response.json()['result']\n",
    "        if 'url' in response:\n",
    "            return response['url']\n",
    "    \n",
    "    return ''\n"
   ]
  },
  {
   "cell_type": "code",
   "execution_count": 38,
   "id": "2099925a",
   "metadata": {
    "ExecuteTime": {
     "end_time": "2021-11-22T13:49:11.609523Z",
     "start_time": "2021-11-22T13:49:11.458186Z"
    }
   },
   "outputs": [
    {
     "data": {
      "text/plain": [
       "'https://maps.google.com/?cid=17691421677029071208'"
      ]
     },
     "execution_count": 38,
     "metadata": {},
     "output_type": "execute_result"
    }
   ],
   "source": [
    "## url_for_test for testing purposes -- don't request API multiple times\n",
    "\n",
    "url_for_test=get_place_google_url(id_)\n",
    "url_for_test"
   ]
  },
  {
   "cell_type": "code",
   "execution_count": 39,
   "id": "dcfcb976",
   "metadata": {
    "ExecuteTime": {
     "end_time": "2021-11-22T13:49:14.473050Z",
     "start_time": "2021-11-22T13:49:14.444385Z"
    }
   },
   "outputs": [],
   "source": [
    "### Get all reviews from a Google page\n",
    "\n",
    "\n",
    "def get_reviews_google(url,scroll_limit=None,quiet_mode=True,return_count=False):\n",
    "    \n",
    "    options=Options()\n",
    "    if quiet_mode:\n",
    "        options.add_argument('--headless')    \n",
    "    driver = webdriver.Chrome(options=options)\n",
    "    driver.get(url)\n",
    "\n",
    "    \n",
    "    ###Expand all the reviews using Selenium\n",
    "        # privacy pop-up\n",
    "    xpath = \"/html/body/c-wiz/div/div/div/div[2]/div[1]/div[4]/form/div[1]/div/button/span\"\n",
    "    driver.find_element_by_xpath(xpath).click()\n",
    "\n",
    "        #review_count click\n",
    "    xpath = '//*[@id=\"pane\"]/div/div[1]/div/div/div[2]/div[1]/div[1]/div[2]/div/div[1]/span[1]/span/span[1]/span[2]'\n",
    "\n",
    "    review_count = driver.find_element_by_xpath(xpath).text\n",
    "    review_count=review_count.split(' ', 1)[0]\n",
    "\n",
    "    driver.find_element_by_xpath(xpath).click()\n",
    "\n",
    "        #scroll to show all reviews\n",
    "    time.sleep(2)\n",
    "    if scroll_limit:\n",
    "        review_count=scroll_limit\n",
    "    scrollable_div = driver.find_element_by_xpath('//*[@id=\"pane\"]/div/div[1]/div/div/div[2]')\n",
    "    for i in range(0,(round(int(review_count)/10-1))):\n",
    "            driver.execute_script('arguments[0].scrollTop = arguments[0].scrollHeight', \n",
    "                    scrollable_div)\n",
    "            time.sleep(2)\n",
    "\n",
    "\n",
    "    ### Scrap the reviews info using BS      \n",
    "    soup = BeautifulSoup(driver.page_source, 'html.parser')\n",
    "    \n",
    "    #Scrap the reviews text\n",
    "    reviews_soup = soup.find_all('div', class_='ODSEW-ShBeI NIyLF-haAclf gm2-body-2')\n",
    "    reviews = [r.text for r in reviews_soup]\n",
    "    \n",
    "    #Scrap the reviews rate\n",
    "    review_rates_soup = [s.find('span',class_='ODSEW-ShBeI-H1e3jb') for s in reviews_soup]\n",
    "    review_rates = [rr.attrs['aria-label'][1] for rr in review_rates_soup]\n",
    "    \n",
    "    #Scrap the reviews date\n",
    "    review_dates_soup=[s.find('span', class_='ODSEW-ShBeI-RgZmSc-date') for s in reviews_soup]\n",
    "    review_dates=[rd.text for rd in review_dates_soup]\n",
    "    \n",
    "    \n",
    "    if return_count:\n",
    "        return review_count,review_dates,review_rates,reviews\n",
    "    \n",
    "    return review_dates,review_rates,reviews\n"
   ]
  },
  {
   "cell_type": "code",
   "execution_count": 40,
   "id": "d7520627",
   "metadata": {
    "ExecuteTime": {
     "end_time": "2021-11-22T13:49:30.705706Z",
     "start_time": "2021-11-22T13:49:17.393718Z"
    }
   },
   "outputs": [
    {
     "name": "stderr",
     "output_type": "stream",
     "text": [
      "/var/folders/zd/9ts3jb2s5472mty2sgdddp3m0000gn/T/ipykernel_42052/2372629914.py:16: DeprecationWarning: find_element_by_* commands are deprecated. Please use find_element() instead\n",
      "  driver.find_element_by_xpath(xpath).click()\n",
      "/var/folders/zd/9ts3jb2s5472mty2sgdddp3m0000gn/T/ipykernel_42052/2372629914.py:21: DeprecationWarning: find_element_by_* commands are deprecated. Please use find_element() instead\n",
      "  review_count = driver.find_element_by_xpath(xpath).text\n",
      "/var/folders/zd/9ts3jb2s5472mty2sgdddp3m0000gn/T/ipykernel_42052/2372629914.py:24: DeprecationWarning: find_element_by_* commands are deprecated. Please use find_element() instead\n",
      "  driver.find_element_by_xpath(xpath).click()\n",
      "/var/folders/zd/9ts3jb2s5472mty2sgdddp3m0000gn/T/ipykernel_42052/2372629914.py:30: DeprecationWarning: find_element_by_* commands are deprecated. Please use find_element() instead\n",
      "  scrollable_div = driver.find_element_by_xpath('//*[@id=\"pane\"]/div/div[1]/div/div/div[2]')\n"
     ]
    }
   ],
   "source": [
    "review_dates,review_rates,reviews = get_reviews_google(url_for_test,scroll_limit=40,quiet_mode=False)"
   ]
  },
  {
   "cell_type": "code",
   "execution_count": 41,
   "id": "2791a1fb",
   "metadata": {
    "ExecuteTime": {
     "end_time": "2021-11-22T13:49:49.192398Z",
     "start_time": "2021-11-22T13:49:49.146324Z"
    }
   },
   "outputs": [
    {
     "data": {
      "text/plain": [
       "['il y a une semaine',\n",
       " 'il y a 4\\xa0jours',\n",
       " 'il y a 4\\xa0jours',\n",
       " 'il y a un mois',\n",
       " 'il y a un mois',\n",
       " 'il y a 2\\xa0mois',\n",
       " 'il y a 2\\xa0mois',\n",
       " 'il y a une semaine',\n",
       " 'il y a un mois',\n",
       " 'il y a 2\\xa0mois',\n",
       " 'il y a 3\\xa0mois',\n",
       " 'il y a 2\\xa0mois',\n",
       " 'il y a 3\\xa0mois',\n",
       " 'il y a 3\\xa0mois',\n",
       " 'il y a 4\\xa0mois',\n",
       " 'il y a 3\\xa0semaines',\n",
       " 'il y a 4\\xa0mois',\n",
       " 'il y a 3\\xa0mois',\n",
       " 'il y a 4\\xa0mois',\n",
       " 'il y a 2\\xa0semaines',\n",
       " 'il y a une semaine',\n",
       " 'il y a une semaine',\n",
       " 'il y a une semaine',\n",
       " 'il y a un mois',\n",
       " 'il y a un mois',\n",
       " 'il y a 4\\xa0mois',\n",
       " 'il y a 3\\xa0semaines',\n",
       " 'il y a 3\\xa0mois',\n",
       " 'il y a un mois',\n",
       " 'il y a 3\\xa0mois',\n",
       " 'il y a une semaine',\n",
       " 'il y a une semaine',\n",
       " 'il y a 3\\xa0mois',\n",
       " 'il y a un mois',\n",
       " 'il y a 4\\xa0mois',\n",
       " 'il y a une semaine',\n",
       " 'il y a 3\\xa0mois',\n",
       " 'il y a 3\\xa0semaines',\n",
       " 'il y a une semaine',\n",
       " 'il y a 3\\xa0mois']"
      ]
     },
     "execution_count": 41,
     "metadata": {},
     "output_type": "execute_result"
    }
   ],
   "source": [
    "review_dates"
   ]
  },
  {
   "cell_type": "code",
   "execution_count": 42,
   "id": "a5f9179b",
   "metadata": {
    "ExecuteTime": {
     "end_time": "2021-11-22T13:49:55.901610Z",
     "start_time": "2021-11-22T13:49:55.876205Z"
    }
   },
   "outputs": [
    {
     "data": {
      "text/plain": [
       "[\"                  Jean-Luc Paredes  Local\\xa0Guide6\\xa0avis               il y a une semaine Nouveau    Excellent ! Typique ! La vrai brasserie parisienne telle qu'on l'espère ! Un serveur au top. Des voisins de table sympa. Tout était réuni pour passer un agréable moment !       Visité en novembre                J'aime    Partager       \",\n",
       " \"                  Pascal vacaresse  Local\\xa0Guide · 48\\xa0avis               il y a 4\\xa0jours Nouveau    De passage à Paris pour quelques jours. Une visite dans ce lieu me semblait incontournable. Victime de leur succès 1h30 d'attente pour avoir une table. Restauration convenable et les prix accessibles pour tous. Un peu bruyant. …    Plus      Visité en novembre             +2         J'aime    Partager       \",\n",
       " \"                  Marie Claude Suchet  Local\\xa0Guide · 172\\xa0avis               il y a 4\\xa0jours Nouveau    C'est vrai c'est vraiment une brasserie hors du temps où vous pouvez manger seul, car c'est un véritable spectacle. Nous y sommes allés entre collègues et nous avons eu la chance d'être reçus au fond de la salle dans un petit recoin fort …    Plus      Visité en novembre             +3         J'aime    Partager       \",\n",
       " \"                  Michel C.  Local\\xa0Guide · 140\\xa0avis               il y a un mois Nouveau    Endroit sympa un peu hors du temps. Si l'on veut prendre son temps et manger en tête à tête en amoureux c'est non. Il y aura toujours quelqu'un à côté. Service express c'est le but. La terrine maison est très bonne. Le baba au rhum très …    Plus      Visité en septembre                      J'aime8    Partager       \",\n",
       " '                  Jackie Ibanez  Local\\xa0Guide · 56\\xa0avis               il y a un mois Nouveau    Endroit magnifique, le vrai bistrot parisien où on vous reçoit avec un grand sourire. Excellent rapport qualité prix !!! Merci à notre serveur N\"31  pour sa gentillesse, son sourire, sa bonne humeur et efficacité.       Visité en octobre                   J\\'aime    Partager       ',\n",
       " \"                  Lam Son Gossart-Tran  Local\\xa0Guide · 61\\xa0avis               il y a 2\\xa0mois Nouveau    Très bon rapport qualité prix. C’est une bonne brasserie parisienne, les plats sont simples et bons pour la plupart. Le poulet rôti est un peu sec et le riz n’a pas de sauce c’est dommage. Les spaghettis bolognaises étaient un peu trop …    Plus      Visité en août             +5         J'aime1    Partager       \",\n",
       " \"                  Arnaud B  Local\\xa0Guide · 28\\xa0avis               il y a 2\\xa0mois Nouveau    Institution Parisienne.\\nExcellent rapport qualité prix.\\nService efficace dans la conformité des règles des grandes brasseries. …    Plus      Visité en septembre                      J'aime5    Partager       \",\n",
       " \"                  Bastien Novak  Local\\xa0Guide · 39\\xa0avis               il y a une semaine Nouveau    Brasserie typique parisienne. Nous avons passé un très bon moment avec notre serveur Christophe avec qui on a eu le temps de discuter malgré le rythme de fou que les serveurs mènent       Visité en novembre             +2         J'aime    Partager       \",\n",
       " \"                  Laure Touloumet  Local\\xa0Guide12\\xa0avis               il y a un mois Nouveau    Prévoir 30 à 45 mn de file d'attente à l'extérieur, un jeudi soir à l'heure du dîner pour pénétrer dans cette institution Parisienne qui mérite le coup d'œil. Un lieu chargé de notre histoire populaire, qui ne désemplit pas. La qualité des …    Plus      Visité en octobre                   J'aime4    Partager       \",\n",
       " \"                  Sophia P  Local\\xa0Guide · 78\\xa0avis               il y a 2\\xa0mois Nouveau    Bouillon typique parisien. Serveurs sympathiques, service rapide. Cadre photogénique. Ambiance parisienne. Plats de brasserie française. Ne partez pas sans avoir goûté la fameuse profiterole «\\xa0Chartier\\xa0»       Visité en septembre             +6         J'aime2    Partager       \",\n",
       " \"                  Séb Cham  Local\\xa0Guide · 115\\xa0avis               il y a 3\\xa0mois Nouveau    Restaurant populaire dans le sens noble du terme. Service rapide et efficace. Serveurs adorables avec toujours le bon mot. Commande sur la nappe. Bon rapport qualité/prix. A recommander surtout que c'est dans un beau cadre.       Visité en juillet                   J'aime7    Partager       \",\n",
       " \"                  Bernard Fleur  Local\\xa0Guide · 56\\xa0avis               il y a 2\\xa0mois Nouveau    Lieu magnifique !\\nNous y mangeons très bien de bons plats traditionnels à un prix dérisoire.\\nService rapide et agréable, malgré le monde et la file d’attente on nous laisse …    Plus      Visité en septembre                   J'aime2    Partager       \",\n",
       " \"                  Luka D  Local\\xa0Guide · 55\\xa0avis               il y a 3\\xa0mois Nouveau    Victime de son succès et de l’hype autour des «Bouillons» nous avons attendu plus d’une heure devant l’établissement.\\nUne fois installé nous décidons de choisir nos entrées ainsi que nos plats, pour …    Plus      Visité en juillet             +5         J'aime4    Partager       \",\n",
       " \"                  Mickael gauthier  Local\\xa0Guide · 75\\xa0avis               il y a 3\\xa0mois Nouveau    Une référence a Paris. Si vous ne connaissez pas il ne faut plus hésiter. Une des plus vieilles de brasserie qui a su rester dans son jus. Parfois de l'attente mais encore une fois c'est un maigre sacrifice. Côté gastro les plats sont …    Plus      Visité en août             +3         J'aime2    Partager       \",\n",
       " \"                  Julien Pach  Local\\xa0Guide · 242\\xa0avis               il y a 4\\xa0mois Nouveau    Une institution ! Très bon restaurant populaire à Paris. C'est grand, il y a beaucoup de monde, mais c'est très bon et le service est rapide.\\nOn a été surpris par la qualité des plats qui semblent faient maison et sont …    Plus      Visité en juillet             +23         J'aime3    Partager       \",\n",
       " \"                  Siam Bkn  Local\\xa0Guide · 64\\xa0avis               il y a 3\\xa0semaines Nouveau    Un déj sur le pouce entre midi et 2 d'une journée boulot à mille à l'heure.\\nUn service top (comme dans tous les Bouillons), des assiettes parfaites (comme dans tous les Bouillons). Bref, rien à dire. …    Plus      Visité en septembre                      J'aime    Partager       \",\n",
       " \"                  Audrey LYP  Local\\xa0Guide · 101\\xa0avis               il y a 4\\xa0mois Nouveau    Correcte.\\n\\nOn est arrivé là-bas et il y avait la queue pour rentrer dans le restaurant. On …    Plus      Visité en juillet                      J'aime14    Partager       \",\n",
       " \"                  Marc Gastaldo  Local\\xa0Guide11\\xa0avis               il y a 3\\xa0mois Nouveau    Après avoir testé hier, un autre bouillon, décevant pour les mets uniquement... Là, tout était parfait et vraiment dans l'esprit de ce style d'affaire. Simple petit reproche, bar trop cuit. Mais fallait-il que je tente un poisson, dans un bouillon ?.       Visité en août                   J'aime1    Partager       \",\n",
       " \"                  jerome H  Local\\xa0Guide · 689\\xa0avis               il y a 4\\xa0mois Nouveau    Super !\\nLe cadre et le déjeuner !\\nJe recommande cette brasserie qui est une véritable Institution ! …    Plus      Visité en juillet             +6         J'aime2    Partager       \",\n",
       " \"                  Philippe Lamigo  Local\\xa0Guide · 64\\xa0avis               il y a 2\\xa0semaines Nouveau    Désolant d'un si mauvais accueil pas de priorité pour les handicapés !\\nUne attente de plus de 40 minutes dans une file gérée par un gars qui se prend pour le Boss avec un manteau gris !et tout cela pour déguster des plats sans saveurs\\nSoirée gâchée.       Visité en novembre                J'aime    Partager       \",\n",
       " \"                  Name3333  Local\\xa0Guide · 60\\xa0avis               il y a une semaine Nouveau    Restaurant proposant des plats simples et familiaux.\\nSuperbe décoration d'intérieur faisant un peu penser à une gare.\\nLes plats sont délicieux, bien servi et garnis, et sont rapidement servis.\\nLes serveurs sont super sympa, chaleureux et très convivial.\\nUn régal 😄       Visité en novembre        J'aime    Partager       \",\n",
       " \"                  Karine Bodart  Local\\xa0Guide1\\xa0avis               il y a une semaine Nouveau    Service déplorable : serveur mains sales qui nous a obligé à partager la même carafe et panière de pains avec nos voisins que nous ne connaissions évidemment pas. Plats froids. Blanquette désastreuse : viande pas assez cuite, aucun légume …    Plus      Visité en novembre        J'aime    Partager       \",\n",
       " \"                  aurelie M  Local\\xa0Guide3\\xa0avis               il y a une semaine Nouveau    Personnel efficace et serviable, nous n'avons pas fait beaucoup de queue. Les plats sont typiquement français même si la présentation est simple les plats sont super bons ! Comme chez nos grands parents pour un prix juste imbattables ! …    Plus      Visité en novembre        J'aime    Partager       \",\n",
       " \"                  abdel dih  Local\\xa0Guide6\\xa0avis               il y a un mois Nouveau    La vraie brasserie Parisienne du 19 em siècle comme on en voit peu en province, la plupart d'entre elles ont  été remplacées par des  banques, agences immobilières  ou en cabinets d'assurances. C'est pour moi la brasserie incontournable à …    Plus      Visité en octobre                   J'aime1    Partager       \",\n",
       " \"                  Aurélien Biedermann  Local\\xa0Guide · 36\\xa0avis               il y a un mois Nouveau    Si vous y allez en dehors des horaires de pointe vous rentrerez direct. Le service est très rapide et sympathique. Les plats sont simples mais toujours de qualité avec une carte très diverse quand même.\\nEt puis l'endroit est magnifique !       Visité en septembre             J'aime    Partager       \",\n",
       " \"                  Jean-Noël Durand  Local\\xa0Guide · 226\\xa0avis               il y a 4\\xa0mois Nouveau    Nourriture correcte pour le prix qui est très abordable.\\nLe cadre est plutôt sympathique, cependant le restaurant est plutôt bruyant lorsqu’il est plein.       Visité en juillet             +2         J'aime    Partager       \",\n",
       " \"                  Victor Tran  Local\\xa0Guide · 101\\xa0avis               il y a 3\\xa0semaines Nouveau    30min d'attente un samedi à 16h\\nPas mal de choix, très français\\nPrix très correct et plat assez bon …    Plus      Visité en octobre                   J'aime    Partager       \",\n",
       " \"                  Bruno Lopes  Local\\xa0Guide · 24\\xa0avis               il y a 3\\xa0mois Nouveau    C'est mon meilleur restaurant en France ! Le service est parfait et les serveurs sont très respectueux et les plats sont très bons et pas cher. À chaque fois que je vais en ce restaurant je suis toujours en extase ! Je vous conseille cet endroit 👏       Visité en juillet                      J'aime2    Partager       \",\n",
       " \"                  Alexandre  Local\\xa0Guide · 437\\xa0avis               il y a un mois Nouveau    Bon restaurant à Paris où les prix sont abordable. La salle est magnifique mais assez bruyante. …    Plus      Visité en octobre                J'aime3    Partager       \",\n",
       " \"                  magali massias  Local\\xa0Guide · 5\\xa0avis               il y a 3\\xa0mois Nouveau    Nous nous faisions une joie de pouvoir déjeuner dans cette cantine et nous avons été agréablement surprit de ne pas faire de queu un samedi à 12h45 en plein mois de juillet …    Plus      Visité en juillet             J'aime1    Partager       \",\n",
       " \"                  Elise Sahl  Local\\xa0Guide2\\xa0avis               il y a une semaine Nouveau    Outre la qualité de la nourriture plus que moyenne, j'ai retrouvé du boeuf dans mes pâtes végétariennes. Le serveur n'a rien trouvé de mieux que de nier en bloc, jurant que c'était impossible.\\nLe décor est sympathique, mais c'est tout.       Visité en novembre        J'aime    Partager       \",\n",
       " \"                  nicolas blaz  Local\\xa0Guide · 108\\xa0avis               il y a une semaine Nouveau    Endroit vraiment top\\nNotre serveur @Mathieu souriant et pro\\nService nickel       Visité en novembre             J'aime    Partager       \",\n",
       " \"                  A. Martin  Local\\xa0Guide4\\xa0avis               il y a 3\\xa0mois Nouveau    On souhaite mon mari et moi vous remercier ainsi que votre Chef de Cuisine et toute l'équipe. Nous avons apprécié la cuisine brasserie, votre accueil et toute l'attention de notre serveur le n°24. Nous avons passé un excellent moment dans votre établissement magnifique, typique et mythique de PARIS. Quelle ambiance.       Visité en août             J'aime    Partager       \",\n",
       " \"                  MC MC  Local\\xa0Guide · 421\\xa0avis               il y a un mois Nouveau    Tres belle déco, idéalement situé tout près de la Gare Montparnasse. Tous les grands classiques sont bien présents pour un prix modérés, comme la coutume le veut dans un bouillon. Un peu moins fréquenté que le bouillon Pigalle.       Visité en octobre                   J'aime1    Partager       \",\n",
       " \"                  Rym Kochlef  Local\\xa0Guide · 237\\xa0avis               il y a 4\\xa0mois Nouveau    Bon bistrot !\\nLes plats sont bons (surtout le confit de canard, je vous le conseille!!!)\\nLes crevettes aussi comme entrée, c’est hyper bon …    Plus      Visité en juillet             +3         J'aime    Partager       \",\n",
       " \"                  Sandrine Petit  Local\\xa0Guide · 80\\xa0avis               il y a une semaine Nouveau    Topissime, ambiance et décor rétro. La commande et addition sur la nappe. Cuisine familiale.\\nLe restaurant ouvre ses portes à partir de 11h30, un conseil, soyez y !! A partir de midi, la queue sur le trottoir est interminable 😲       Visité en novembre        J'aime    Partager       \",\n",
       " \"                  Laurent HERBETTE  Local\\xa0Guide · 305\\xa0avis               il y a 3\\xa0mois Nouveau    accueil excellent personnel agréable pris en compte rapide de nos commandes\\ntout est bon\\nje recommande\\nle serveur est au top       Visité en août             +12         J'aime    Partager       \",\n",
       " \"                  Dan Dan  Local\\xa0Guide · 72\\xa0avis               il y a 3\\xa0semaines Nouveau    Ils auraient dû appeler le restaurant «\\xa0La boite à sardines\\xa0» (les clients étant les sardines…)\\nMenus corrects et prix raisonnables mais bien trop de monde, tassés les uns …    Plus      Visité en octobre             J'aime    Partager       \",\n",
       " \"                  Dimitry Chevalier  Local\\xa0Guide1\\xa0avis               il y a une semaine Nouveau    Super repas, très bien manger ! Pas trop d'attente. Un super accueil de la part d'une serveuse blonde (sûrement la responsable).       Visité en octobre        J'aime    Partager       \",\n",
       " \"                  J Claude D  Local\\xa0Guide · 160\\xa0avis               il y a 3\\xa0mois Nouveau    Endroit juste exceptionnel. Remontez le temps dans un lieu mythique datant de 1876. Au départ cet endroit était pour les ouvriers qui travaillaient dans le quartier et pouvaient manger à pas cher. Le Bouillon à gardé ce côté bonne …    Plus      Visité en août             +5         J'aime1    Partager       \"]"
      ]
     },
     "execution_count": 42,
     "metadata": {},
     "output_type": "execute_result"
    }
   ],
   "source": [
    "reviews"
   ]
  },
  {
   "cell_type": "code",
   "execution_count": 43,
   "id": "a5c26cc8",
   "metadata": {
    "ExecuteTime": {
     "end_time": "2021-11-22T13:50:51.355501Z",
     "start_time": "2021-11-22T13:50:51.320930Z"
    }
   },
   "outputs": [
    {
     "data": {
      "text/html": [
       "<div>\n",
       "<style scoped>\n",
       "    .dataframe tbody tr th:only-of-type {\n",
       "        vertical-align: middle;\n",
       "    }\n",
       "\n",
       "    .dataframe tbody tr th {\n",
       "        vertical-align: top;\n",
       "    }\n",
       "\n",
       "    .dataframe thead th {\n",
       "        text-align: right;\n",
       "    }\n",
       "</style>\n",
       "<table border=\"1\" class=\"dataframe\">\n",
       "  <thead>\n",
       "    <tr style=\"text-align: right;\">\n",
       "      <th></th>\n",
       "      <th>data</th>\n",
       "      <th>rate</th>\n",
       "      <th>review</th>\n",
       "    </tr>\n",
       "  </thead>\n",
       "  <tbody>\n",
       "    <tr>\n",
       "      <th>0</th>\n",
       "      <td>il y a une semaine</td>\n",
       "      <td>4</td>\n",
       "      <td>Jean-Luc Paredes  Local Guid...</td>\n",
       "    </tr>\n",
       "    <tr>\n",
       "      <th>1</th>\n",
       "      <td>il y a 4 jours</td>\n",
       "      <td>4</td>\n",
       "      <td>Pascal vacaresse  Local Guid...</td>\n",
       "    </tr>\n",
       "    <tr>\n",
       "      <th>2</th>\n",
       "      <td>il y a 4 jours</td>\n",
       "      <td>5</td>\n",
       "      <td>Marie Claude Suchet  Local G...</td>\n",
       "    </tr>\n",
       "    <tr>\n",
       "      <th>3</th>\n",
       "      <td>il y a un mois</td>\n",
       "      <td>4</td>\n",
       "      <td>Michel C.  Local Guide · 140...</td>\n",
       "    </tr>\n",
       "    <tr>\n",
       "      <th>4</th>\n",
       "      <td>il y a un mois</td>\n",
       "      <td>5</td>\n",
       "      <td>Jackie Ibanez  Local Guide ·...</td>\n",
       "    </tr>\n",
       "  </tbody>\n",
       "</table>\n",
       "</div>"
      ],
      "text/plain": [
       "                 data rate                                             review\n",
       "0  il y a une semaine    4                    Jean-Luc Paredes  Local Guid...\n",
       "1      il y a 4 jours    4                    Pascal vacaresse  Local Guid...\n",
       "2      il y a 4 jours    5                    Marie Claude Suchet  Local G...\n",
       "3      il y a un mois    4                    Michel C.  Local Guide · 140...\n",
       "4      il y a un mois    5                    Jackie Ibanez  Local Guide ·..."
      ]
     },
     "execution_count": 43,
     "metadata": {},
     "output_type": "execute_result"
    }
   ],
   "source": [
    "data_to_clean = pd.DataFrame({'data':review_dates,\n",
    "                              'rate':review_rates,\n",
    "                              'review':reviews})\n",
    "data_to_clean.head()"
   ]
  },
  {
   "cell_type": "code",
   "execution_count": 44,
   "id": "7c1d88df",
   "metadata": {
    "ExecuteTime": {
     "end_time": "2021-11-22T13:51:11.738641Z",
     "start_time": "2021-11-22T13:51:11.705924Z"
    }
   },
   "outputs": [],
   "source": [
    "data_to_clean.to_csv('data_to_clean.csv')"
   ]
  },
  {
   "cell_type": "code",
   "execution_count": null,
   "id": "c219501a",
   "metadata": {},
   "outputs": [],
   "source": []
  }
 ],
 "metadata": {
  "kernelspec": {
   "display_name": "Python 3 (ipykernel)",
   "language": "python",
   "name": "python3"
  },
  "language_info": {
   "codemirror_mode": {
    "name": "ipython",
    "version": 3
   },
   "file_extension": ".py",
   "mimetype": "text/x-python",
   "name": "python",
   "nbconvert_exporter": "python",
   "pygments_lexer": "ipython3",
   "version": "3.8.12"
  },
  "toc": {
   "base_numbering": 1,
   "nav_menu": {},
   "number_sections": true,
   "sideBar": true,
   "skip_h1_title": false,
   "title_cell": "Table of Contents",
   "title_sidebar": "Contents",
   "toc_cell": false,
   "toc_position": {
    "height": "calc(100% - 180px)",
    "left": "10px",
    "top": "150px",
    "width": "165px"
   },
   "toc_section_display": true,
   "toc_window_display": true
  }
 },
 "nbformat": 4,
 "nbformat_minor": 5
}
