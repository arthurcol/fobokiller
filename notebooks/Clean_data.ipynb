{
 "cells": [
  {
   "cell_type": "code",
   "execution_count": 150,
   "id": "9db00287",
   "metadata": {
    "ExecuteTime": {
     "end_time": "2021-11-24T09:57:13.600643Z",
     "start_time": "2021-11-24T09:57:13.580007Z"
    },
    "scrolled": true
   },
   "outputs": [
    {
     "data": {
      "text/html": [
       "<div>\n",
       "<style scoped>\n",
       "    .dataframe tbody tr th:only-of-type {\n",
       "        vertical-align: middle;\n",
       "    }\n",
       "\n",
       "    .dataframe tbody tr th {\n",
       "        vertical-align: top;\n",
       "    }\n",
       "\n",
       "    .dataframe thead th {\n",
       "        text-align: right;\n",
       "    }\n",
       "</style>\n",
       "<table border=\"1\" class=\"dataframe\">\n",
       "  <thead>\n",
       "    <tr style=\"text-align: right;\">\n",
       "      <th></th>\n",
       "      <th>alias</th>\n",
       "      <th>date</th>\n",
       "      <th>rate</th>\n",
       "      <th>review</th>\n",
       "    </tr>\n",
       "  </thead>\n",
       "  <tbody>\n",
       "    <tr>\n",
       "      <th>0</th>\n",
       "      <td>le-sud-paris</td>\n",
       "      <td>11/20/2018</td>\n",
       "      <td>5 star rating</td>\n",
       "      <td>Ed W.\\nElite 2021\\nMiami, FL\\n259\\n562\\n4232\\n...</td>\n",
       "    </tr>\n",
       "    <tr>\n",
       "      <th>1</th>\n",
       "      <td>le-sud-paris</td>\n",
       "      <td>7/4/2021</td>\n",
       "      <td>2 star rating</td>\n",
       "      <td>Jaki F.\\nElite 2021\\nSignal Hill, CA\\n358\\n270...</td>\n",
       "    </tr>\n",
       "    <tr>\n",
       "      <th>2</th>\n",
       "      <td>le-sud-paris</td>\n",
       "      <td>6/20/2018</td>\n",
       "      <td>3 star rating</td>\n",
       "      <td>Jen S.\\nElite 2021\\nBuffalo, NY\\n71\\n322\\n809\\...</td>\n",
       "    </tr>\n",
       "    <tr>\n",
       "      <th>3</th>\n",
       "      <td>le-sud-paris</td>\n",
       "      <td>9/28/2015</td>\n",
       "      <td>3 star rating</td>\n",
       "      <td>Sam S.\\nElite 2021\\nMunich, Germany\\n2133\\n255...</td>\n",
       "    </tr>\n",
       "    <tr>\n",
       "      <th>4</th>\n",
       "      <td>le-sud-paris</td>\n",
       "      <td>8/8/2019</td>\n",
       "      <td>1 star rating</td>\n",
       "      <td>Fahad A.\\nLos Angeles, CA\\n0\\n10\\n15\\n8/8/2019...</td>\n",
       "    </tr>\n",
       "  </tbody>\n",
       "</table>\n",
       "</div>"
      ],
      "text/plain": [
       "          alias        date           rate  \\\n",
       "0  le-sud-paris  11/20/2018  5 star rating   \n",
       "1  le-sud-paris    7/4/2021  2 star rating   \n",
       "2  le-sud-paris   6/20/2018  3 star rating   \n",
       "3  le-sud-paris   9/28/2015  3 star rating   \n",
       "4  le-sud-paris    8/8/2019  1 star rating   \n",
       "\n",
       "                                              review  \n",
       "0  Ed W.\\nElite 2021\\nMiami, FL\\n259\\n562\\n4232\\n...  \n",
       "1  Jaki F.\\nElite 2021\\nSignal Hill, CA\\n358\\n270...  \n",
       "2  Jen S.\\nElite 2021\\nBuffalo, NY\\n71\\n322\\n809\\...  \n",
       "3  Sam S.\\nElite 2021\\nMunich, Germany\\n2133\\n255...  \n",
       "4  Fahad A.\\nLos Angeles, CA\\n0\\n10\\n15\\n8/8/2019...  "
      ]
     },
     "execution_count": 150,
     "metadata": {},
     "output_type": "execute_result"
    }
   ],
   "source": [
    "import pandas as pd\n",
    "import numpy as np\n",
    "import string\n",
    "from nltk.corpus import stopwords\n",
    "from nltk.tokenize import word_tokenize\n",
    "import seaborn as sns\n",
    "import matplotlib.pyplot as plt\n",
    "import pandas as pd\n",
    "import numpy as np\n",
    "from datetime import datetime\n",
    "data = pd.read_csv('../fobokiller/data/scrapping.csv',nrows=100,index_col=0)\n",
    "data.head()"
   ]
  },
  {
   "cell_type": "code",
   "execution_count": 151,
   "id": "24711800",
   "metadata": {
    "ExecuteTime": {
     "end_time": "2021-11-24T09:57:14.030435Z",
     "start_time": "2021-11-24T09:57:14.024298Z"
    }
   },
   "outputs": [],
   "source": [
    "def clear_data_text(text, language='english'):\n",
    "    #remove before the begin of the comment\n",
    "    for i in range(5):\n",
    "        pos = 0\n",
    "        pos = text.find('\\n')\n",
    "        text = text[pos+1:]\n",
    "    \n",
    "    #remove punctuation\n",
    "    for punctuation in string.punctuation:\n",
    "        text = text.replace(punctuation, '')\n",
    "\n",
    "    # remove number\n",
    "    text = ''.join(word for word in text if not word.isdigit())\n",
    "\n",
    "    #pass in lowercase\n",
    "    text = text.lower()\n",
    "\n",
    "    #remove stop words\n",
    "    stop_words = set(stopwords.words(language))\n",
    "    \n",
    "    #text to list of word\n",
    "    word_tokens = word_tokenize(text)\n",
    "\n",
    "    #list to string\n",
    "    text = \" \".join([w for w in word_tokens if not w in stop_words])\n",
    "    #remove after the end of the comment\n",
    "    text = text.rstrip('useful funny cool')\n",
    "    return text"
   ]
  },
  {
   "cell_type": "code",
   "execution_count": 152,
   "id": "1268ae4d",
   "metadata": {
    "ExecuteTime": {
     "end_time": "2021-11-24T09:57:14.931497Z",
     "start_time": "2021-11-24T09:57:14.858682Z"
    }
   },
   "outputs": [],
   "source": [
    "#clean text\n",
    "data['review_clean'] = data['review'].apply(clear_data_text)"
   ]
  },
  {
   "cell_type": "code",
   "execution_count": 153,
   "id": "43590bff",
   "metadata": {
    "ExecuteTime": {
     "end_time": "2021-11-24T09:57:15.366025Z",
     "start_time": "2021-11-24T09:57:15.363102Z"
    }
   },
   "outputs": [],
   "source": [
    "#def function to change date format\n",
    "def change_date(date,format_='%m/%d/%Y'):\n",
    "    date_tmp = datetime.strptime(date,format_)\n",
    "    return date_tmp"
   ]
  },
  {
   "cell_type": "code",
   "execution_count": 154,
   "id": "63f858aa",
   "metadata": {
    "ExecuteTime": {
     "end_time": "2021-11-24T09:57:16.332016Z",
     "start_time": "2021-11-24T09:57:16.326538Z"
    }
   },
   "outputs": [],
   "source": [
    "#apply change date\n",
    "data['date'] = data['date'].apply(change_date)"
   ]
  },
  {
   "cell_type": "code",
   "execution_count": 155,
   "id": "5fd0af6a",
   "metadata": {
    "ExecuteTime": {
     "end_time": "2021-11-24T09:57:17.445227Z",
     "start_time": "2021-11-24T09:57:17.441927Z"
    }
   },
   "outputs": [],
   "source": [
    "#function to keep digit from rate string\n",
    "def keep_digit(rate):\n",
    "    for char in rate.split():\n",
    "        if char.isdigit():\n",
    "            return int(char)\n",
    "    pass"
   ]
  },
  {
   "cell_type": "code",
   "execution_count": 156,
   "id": "95de5977",
   "metadata": {
    "ExecuteTime": {
     "end_time": "2021-11-24T09:57:17.908833Z",
     "start_time": "2021-11-24T09:57:17.904505Z"
    }
   },
   "outputs": [],
   "source": [
    "#apply digit function \n",
    "data['rate'] = data['rate'].apply(keep_digit)"
   ]
  },
  {
   "cell_type": "code",
   "execution_count": 157,
   "id": "4741786e",
   "metadata": {
    "ExecuteTime": {
     "end_time": "2021-11-24T09:57:18.352261Z",
     "start_time": "2021-11-24T09:57:18.342430Z"
    }
   },
   "outputs": [
    {
     "data": {
      "text/html": [
       "<div>\n",
       "<style scoped>\n",
       "    .dataframe tbody tr th:only-of-type {\n",
       "        vertical-align: middle;\n",
       "    }\n",
       "\n",
       "    .dataframe tbody tr th {\n",
       "        vertical-align: top;\n",
       "    }\n",
       "\n",
       "    .dataframe thead th {\n",
       "        text-align: right;\n",
       "    }\n",
       "</style>\n",
       "<table border=\"1\" class=\"dataframe\">\n",
       "  <thead>\n",
       "    <tr style=\"text-align: right;\">\n",
       "      <th></th>\n",
       "      <th>alias</th>\n",
       "      <th>date</th>\n",
       "      <th>rate</th>\n",
       "      <th>review</th>\n",
       "      <th>review_clean</th>\n",
       "    </tr>\n",
       "  </thead>\n",
       "  <tbody>\n",
       "    <tr>\n",
       "      <th>0</th>\n",
       "      <td>le-sud-paris</td>\n",
       "      <td>2018-11-20</td>\n",
       "      <td>5</td>\n",
       "      <td>Ed W.\\nElite 2021\\nMiami, FL\\n259\\n562\\n4232\\n...</td>\n",
       "      <td>updated review photos traditional parisian coo...</td>\n",
       "    </tr>\n",
       "    <tr>\n",
       "      <th>1</th>\n",
       "      <td>le-sud-paris</td>\n",
       "      <td>2021-07-04</td>\n",
       "      <td>2</td>\n",
       "      <td>Jaki F.\\nElite 2021\\nSignal Hill, CA\\n358\\n270...</td>\n",
       "      <td>photos im sure happening restaurant excited di...</td>\n",
       "    </tr>\n",
       "    <tr>\n",
       "      <th>2</th>\n",
       "      <td>le-sud-paris</td>\n",
       "      <td>2018-06-20</td>\n",
       "      <td>3</td>\n",
       "      <td>Jen S.\\nElite 2021\\nBuffalo, NY\\n71\\n322\\n809\\...</td>\n",
       "      <td>photos ambience enticing end day definitely di...</td>\n",
       "    </tr>\n",
       "    <tr>\n",
       "      <th>3</th>\n",
       "      <td>le-sud-paris</td>\n",
       "      <td>2015-09-28</td>\n",
       "      <td>3</td>\n",
       "      <td>Sam S.\\nElite 2021\\nMunich, Germany\\n2133\\n255...</td>\n",
       "      <td>photos ambience star opinion expensive tourist...</td>\n",
       "    </tr>\n",
       "    <tr>\n",
       "      <th>4</th>\n",
       "      <td>le-sud-paris</td>\n",
       "      <td>2019-08-08</td>\n",
       "      <td>1</td>\n",
       "      <td>Fahad A.\\nLos Angeles, CA\\n0\\n10\\n15\\n8/8/2019...</td>\n",
       "      <td>photos worst restaurant ever servers help us f...</td>\n",
       "    </tr>\n",
       "  </tbody>\n",
       "</table>\n",
       "</div>"
      ],
      "text/plain": [
       "          alias       date  rate  \\\n",
       "0  le-sud-paris 2018-11-20     5   \n",
       "1  le-sud-paris 2021-07-04     2   \n",
       "2  le-sud-paris 2018-06-20     3   \n",
       "3  le-sud-paris 2015-09-28     3   \n",
       "4  le-sud-paris 2019-08-08     1   \n",
       "\n",
       "                                              review  \\\n",
       "0  Ed W.\\nElite 2021\\nMiami, FL\\n259\\n562\\n4232\\n...   \n",
       "1  Jaki F.\\nElite 2021\\nSignal Hill, CA\\n358\\n270...   \n",
       "2  Jen S.\\nElite 2021\\nBuffalo, NY\\n71\\n322\\n809\\...   \n",
       "3  Sam S.\\nElite 2021\\nMunich, Germany\\n2133\\n255...   \n",
       "4  Fahad A.\\nLos Angeles, CA\\n0\\n10\\n15\\n8/8/2019...   \n",
       "\n",
       "                                        review_clean  \n",
       "0  updated review photos traditional parisian coo...  \n",
       "1  photos im sure happening restaurant excited di...  \n",
       "2  photos ambience enticing end day definitely di...  \n",
       "3  photos ambience star opinion expensive tourist...  \n",
       "4  photos worst restaurant ever servers help us f...  "
      ]
     },
     "execution_count": 157,
     "metadata": {},
     "output_type": "execute_result"
    }
   ],
   "source": [
    "data.head()"
   ]
  },
  {
   "cell_type": "code",
   "execution_count": null,
   "id": "385cd717",
   "metadata": {},
   "outputs": [],
   "source": []
  }
 ],
 "metadata": {
  "kernelspec": {
   "display_name": "Python 3 (ipykernel)",
   "language": "python",
   "name": "python3"
  },
  "language_info": {
   "codemirror_mode": {
    "name": "ipython",
    "version": 3
   },
   "file_extension": ".py",
   "mimetype": "text/x-python",
   "name": "python",
   "nbconvert_exporter": "python",
   "pygments_lexer": "ipython3",
   "version": "3.8.12"
  },
  "toc": {
   "base_numbering": 1,
   "nav_menu": {},
   "number_sections": true,
   "sideBar": true,
   "skip_h1_title": false,
   "title_cell": "Table of Contents",
   "title_sidebar": "Contents",
   "toc_cell": false,
   "toc_position": {},
   "toc_section_display": true,
   "toc_window_display": false
  }
 },
 "nbformat": 4,
 "nbformat_minor": 5
}
