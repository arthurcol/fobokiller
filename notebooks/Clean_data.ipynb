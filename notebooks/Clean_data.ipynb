{
 "cells": [
  {
   "cell_type": "code",
   "execution_count": 177,
   "id": "9db00287",
   "metadata": {
    "ExecuteTime": {
     "end_time": "2021-11-24T10:15:00.887384Z",
     "start_time": "2021-11-24T10:15:00.869729Z"
    },
    "scrolled": true
   },
   "outputs": [
    {
     "data": {
      "text/html": [
       "<div>\n",
       "<style scoped>\n",
       "    .dataframe tbody tr th:only-of-type {\n",
       "        vertical-align: middle;\n",
       "    }\n",
       "\n",
       "    .dataframe tbody tr th {\n",
       "        vertical-align: top;\n",
       "    }\n",
       "\n",
       "    .dataframe thead th {\n",
       "        text-align: right;\n",
       "    }\n",
       "</style>\n",
       "<table border=\"1\" class=\"dataframe\">\n",
       "  <thead>\n",
       "    <tr style=\"text-align: right;\">\n",
       "      <th></th>\n",
       "      <th>alias</th>\n",
       "      <th>date</th>\n",
       "      <th>rate</th>\n",
       "      <th>review</th>\n",
       "    </tr>\n",
       "  </thead>\n",
       "  <tbody>\n",
       "    <tr>\n",
       "      <th>0</th>\n",
       "      <td>le-sud-paris</td>\n",
       "      <td>11/20/2018</td>\n",
       "      <td>5 star rating</td>\n",
       "      <td>Ed W.\\nElite 2021\\nMiami, FL\\n259\\n562\\n4232\\n...</td>\n",
       "    </tr>\n",
       "    <tr>\n",
       "      <th>1</th>\n",
       "      <td>le-sud-paris</td>\n",
       "      <td>7/4/2021</td>\n",
       "      <td>2 star rating</td>\n",
       "      <td>Jaki F.\\nElite 2021\\nSignal Hill, CA\\n358\\n270...</td>\n",
       "    </tr>\n",
       "    <tr>\n",
       "      <th>2</th>\n",
       "      <td>le-sud-paris</td>\n",
       "      <td>6/20/2018</td>\n",
       "      <td>3 star rating</td>\n",
       "      <td>Jen S.\\nElite 2021\\nBuffalo, NY\\n71\\n322\\n809\\...</td>\n",
       "    </tr>\n",
       "    <tr>\n",
       "      <th>3</th>\n",
       "      <td>le-sud-paris</td>\n",
       "      <td>9/28/2015</td>\n",
       "      <td>3 star rating</td>\n",
       "      <td>Sam S.\\nElite 2021\\nMunich, Germany\\n2133\\n255...</td>\n",
       "    </tr>\n",
       "    <tr>\n",
       "      <th>4</th>\n",
       "      <td>le-sud-paris</td>\n",
       "      <td>8/8/2019</td>\n",
       "      <td>1 star rating</td>\n",
       "      <td>Fahad A.\\nLos Angeles, CA\\n0\\n10\\n15\\n8/8/2019...</td>\n",
       "    </tr>\n",
       "  </tbody>\n",
       "</table>\n",
       "</div>"
      ],
      "text/plain": [
       "          alias        date           rate  \\\n",
       "0  le-sud-paris  11/20/2018  5 star rating   \n",
       "1  le-sud-paris    7/4/2021  2 star rating   \n",
       "2  le-sud-paris   6/20/2018  3 star rating   \n",
       "3  le-sud-paris   9/28/2015  3 star rating   \n",
       "4  le-sud-paris    8/8/2019  1 star rating   \n",
       "\n",
       "                                              review  \n",
       "0  Ed W.\\nElite 2021\\nMiami, FL\\n259\\n562\\n4232\\n...  \n",
       "1  Jaki F.\\nElite 2021\\nSignal Hill, CA\\n358\\n270...  \n",
       "2  Jen S.\\nElite 2021\\nBuffalo, NY\\n71\\n322\\n809\\...  \n",
       "3  Sam S.\\nElite 2021\\nMunich, Germany\\n2133\\n255...  \n",
       "4  Fahad A.\\nLos Angeles, CA\\n0\\n10\\n15\\n8/8/2019...  "
      ]
     },
     "execution_count": 177,
     "metadata": {},
     "output_type": "execute_result"
    }
   ],
   "source": [
    "import pandas as pd\n",
    "import numpy as np\n",
    "import string\n",
    "from nltk.corpus import stopwords\n",
    "from nltk.tokenize import word_tokenize\n",
    "import seaborn as sns\n",
    "import matplotlib.pyplot as plt\n",
    "import pandas as pd\n",
    "import numpy as np\n",
    "from datetime import datetime\n",
    "data = pd.read_csv('../fobokiller/data/scrapping.csv',nrows=100,index_col=0)\n",
    "data.head()"
   ]
  },
  {
   "cell_type": "code",
   "execution_count": 183,
   "id": "24711800",
   "metadata": {
    "ExecuteTime": {
     "end_time": "2021-11-24T10:17:09.447895Z",
     "start_time": "2021-11-24T10:17:09.439717Z"
    }
   },
   "outputs": [],
   "source": [
    "def clear_data_text(text, language='english'):\n",
    "    #remove before the begin of the comment\n",
    "    for i in range(5):\n",
    "        pos = 0\n",
    "        pos = text.find('\\n')\n",
    "        text = text[pos+1:]\n",
    "    \n",
    "    #remove punctuation\n",
    "    for punctuation in string.punctuation:\n",
    "        text = text.replace(punctuation, '')\n",
    "\n",
    "    # remove number\n",
    "    text = ''.join(word for word in text if not word.isdigit())\n",
    "\n",
    "    #pass in lowercase\n",
    "    text = text.lower()\n",
    "\n",
    "    #remove stop words\n",
    "    stop_words = set(stopwords.words(language))\n",
    "    \n",
    "    #text to list of word\n",
    "    word_tokens = word_tokenize(text)\n",
    "\n",
    "    #list to string\n",
    "    text = \" \".join([w for w in word_tokens if not w in stop_words])\n",
    "    \n",
    "    #remove after the end of the comment\n",
    "    if text.endswith('useful funny cool'):\n",
    "        text = text[:-len('useful funny cool')]\n",
    "    if text.startswith('updated review'):\n",
    "        text = text[len('updated review'):]\n",
    "    if text.startswith('photos'):\n",
    "        text = text[len('photos'):]\n",
    "    if text.startswith('photo'):\n",
    "        text = text[len('photo'):]\n",
    "    text = text.strip()\n",
    "    return text"
   ]
  },
  {
   "cell_type": "code",
   "execution_count": 184,
   "id": "1268ae4d",
   "metadata": {
    "ExecuteTime": {
     "end_time": "2021-11-24T10:17:10.746735Z",
     "start_time": "2021-11-24T10:17:10.670286Z"
    }
   },
   "outputs": [],
   "source": [
    "#clean text\n",
    "data['review_clean'] = data['review'].apply(clear_data_text)"
   ]
  },
  {
   "cell_type": "code",
   "execution_count": 153,
   "id": "fbcba177",
   "metadata": {
    "ExecuteTime": {
     "end_time": "2021-11-24T09:57:15.366025Z",
     "start_time": "2021-11-24T09:57:15.363102Z"
    }
   },
   "outputs": [],
   "source": [
    "#def function to change date format\n",
    "def change_date(date,format_='%m/%d/%Y'):\n",
    "    date_tmp = datetime.strptime(date,format_)\n",
    "    return date_tmp"
   ]
  },
  {
   "cell_type": "code",
   "execution_count": 154,
   "id": "f8f53187",
   "metadata": {
    "ExecuteTime": {
     "end_time": "2021-11-24T09:57:16.332016Z",
     "start_time": "2021-11-24T09:57:16.326538Z"
    }
   },
   "outputs": [],
   "source": [
    "#apply change date\n",
    "data['date'] = data['date'].apply(change_date)"
   ]
  },
  {
   "cell_type": "code",
   "execution_count": 155,
   "id": "432d97a7",
   "metadata": {
    "ExecuteTime": {
     "end_time": "2021-11-24T09:57:17.445227Z",
     "start_time": "2021-11-24T09:57:17.441927Z"
    }
   },
   "outputs": [],
   "source": [
    "#function to keep digit from rate string\n",
    "def keep_digit(rate):\n",
    "    for char in rate.split():\n",
    "        if char.isdigit():\n",
    "            return int(char)\n",
    "    pass"
   ]
  },
  {
   "cell_type": "code",
   "execution_count": 156,
   "id": "6605f222",
   "metadata": {
    "ExecuteTime": {
     "end_time": "2021-11-24T09:57:17.908833Z",
     "start_time": "2021-11-24T09:57:17.904505Z"
    }
   },
   "outputs": [],
   "source": [
    "#apply digit function \n",
    "data['rate'] = data['rate'].apply(keep_digit)"
   ]
  },
  {
   "cell_type": "code",
   "execution_count": 180,
   "id": "6148548e",
   "metadata": {
    "ExecuteTime": {
     "end_time": "2021-11-24T10:15:04.825155Z",
     "start_time": "2021-11-24T10:15:04.814678Z"
    }
   },
   "outputs": [
    {
     "data": {
      "text/html": [
       "<div>\n",
       "<style scoped>\n",
       "    .dataframe tbody tr th:only-of-type {\n",
       "        vertical-align: middle;\n",
       "    }\n",
       "\n",
       "    .dataframe tbody tr th {\n",
       "        vertical-align: top;\n",
       "    }\n",
       "\n",
       "    .dataframe thead th {\n",
       "        text-align: right;\n",
       "    }\n",
       "</style>\n",
       "<table border=\"1\" class=\"dataframe\">\n",
       "  <thead>\n",
       "    <tr style=\"text-align: right;\">\n",
       "      <th></th>\n",
       "      <th>alias</th>\n",
       "      <th>date</th>\n",
       "      <th>rate</th>\n",
       "      <th>review</th>\n",
       "      <th>review_clean</th>\n",
       "    </tr>\n",
       "  </thead>\n",
       "  <tbody>\n",
       "    <tr>\n",
       "      <th>0</th>\n",
       "      <td>le-sud-paris</td>\n",
       "      <td>11/20/2018</td>\n",
       "      <td>5 star rating</td>\n",
       "      <td>Ed W.\\nElite 2021\\nMiami, FL\\n259\\n562\\n4232\\n...</td>\n",
       "      <td>photos traditional parisian cooking style res...</td>\n",
       "    </tr>\n",
       "    <tr>\n",
       "      <th>1</th>\n",
       "      <td>le-sud-paris</td>\n",
       "      <td>7/4/2021</td>\n",
       "      <td>2 star rating</td>\n",
       "      <td>Jaki F.\\nElite 2021\\nSignal Hill, CA\\n358\\n270...</td>\n",
       "      <td>im sure happening restaurant excited dine ser...</td>\n",
       "    </tr>\n",
       "    <tr>\n",
       "      <th>2</th>\n",
       "      <td>le-sud-paris</td>\n",
       "      <td>6/20/2018</td>\n",
       "      <td>3 star rating</td>\n",
       "      <td>Jen S.\\nElite 2021\\nBuffalo, NY\\n71\\n322\\n809\\...</td>\n",
       "      <td>ambience enticing end day definitely directed...</td>\n",
       "    </tr>\n",
       "    <tr>\n",
       "      <th>3</th>\n",
       "      <td>le-sud-paris</td>\n",
       "      <td>9/28/2015</td>\n",
       "      <td>3 star rating</td>\n",
       "      <td>Sam S.\\nElite 2021\\nMunich, Germany\\n2133\\n255...</td>\n",
       "      <td>ambience star opinion expensive tourist trap ...</td>\n",
       "    </tr>\n",
       "    <tr>\n",
       "      <th>4</th>\n",
       "      <td>le-sud-paris</td>\n",
       "      <td>8/8/2019</td>\n",
       "      <td>1 star rating</td>\n",
       "      <td>Fahad A.\\nLos Angeles, CA\\n0\\n10\\n15\\n8/8/2019...</td>\n",
       "      <td>worst restaurant ever servers help us food bl...</td>\n",
       "    </tr>\n",
       "  </tbody>\n",
       "</table>\n",
       "</div>"
      ],
      "text/plain": [
       "          alias        date           rate  \\\n",
       "0  le-sud-paris  11/20/2018  5 star rating   \n",
       "1  le-sud-paris    7/4/2021  2 star rating   \n",
       "2  le-sud-paris   6/20/2018  3 star rating   \n",
       "3  le-sud-paris   9/28/2015  3 star rating   \n",
       "4  le-sud-paris    8/8/2019  1 star rating   \n",
       "\n",
       "                                              review  \\\n",
       "0  Ed W.\\nElite 2021\\nMiami, FL\\n259\\n562\\n4232\\n...   \n",
       "1  Jaki F.\\nElite 2021\\nSignal Hill, CA\\n358\\n270...   \n",
       "2  Jen S.\\nElite 2021\\nBuffalo, NY\\n71\\n322\\n809\\...   \n",
       "3  Sam S.\\nElite 2021\\nMunich, Germany\\n2133\\n255...   \n",
       "4  Fahad A.\\nLos Angeles, CA\\n0\\n10\\n15\\n8/8/2019...   \n",
       "\n",
       "                                        review_clean  \n",
       "0   photos traditional parisian cooking style res...  \n",
       "1   im sure happening restaurant excited dine ser...  \n",
       "2   ambience enticing end day definitely directed...  \n",
       "3   ambience star opinion expensive tourist trap ...  \n",
       "4   worst restaurant ever servers help us food bl...  "
      ]
     },
     "execution_count": 180,
     "metadata": {},
     "output_type": "execute_result"
    }
   ],
   "source": [
    "data.head()"
   ]
  },
  {
   "cell_type": "code",
   "execution_count": 185,
   "id": "1b6bf385",
   "metadata": {
    "ExecuteTime": {
     "end_time": "2021-11-24T10:17:12.622171Z",
     "start_time": "2021-11-24T10:17:12.616823Z"
    }
   },
   "outputs": [
    {
     "data": {
      "text/plain": [
       "'ambience star opinion expensive tourist trap moment enter feel like transported south france sort stops service ok arrogant run many items menu time arrived menu cards english bit giveaway expensive mains many dishes wanted order available wine list small ok wines red ordinary lack provençal aperitifs also equally disappointing petit pots starter ok four dips pots breads blow away anyway main whole fish also ok slightly overcooked forgot bring sides whole meal left whole fish nothing else cafe gourmand highlight evening chocolate mousse die dont think would come back paris one favourite cities eat extensive culinary scene confident way better lot less money town leave place people want pay lot money ok food see photos sam le sud'"
      ]
     },
     "execution_count": 185,
     "metadata": {},
     "output_type": "execute_result"
    }
   ],
   "source": [
    "data.loc[3,'review_clean']"
   ]
  },
  {
   "cell_type": "code",
   "execution_count": 199,
   "id": "8c40344e",
   "metadata": {
    "ExecuteTime": {
     "end_time": "2021-11-24T10:46:39.668369Z",
     "start_time": "2021-11-24T10:46:39.665449Z"
    }
   },
   "outputs": [],
   "source": [
    "del test"
   ]
  },
  {
   "cell_type": "code",
   "execution_count": 237,
   "id": "935b6a93",
   "metadata": {
    "ExecuteTime": {
     "end_time": "2021-11-24T10:59:35.673576Z",
     "start_time": "2021-11-24T10:59:35.165629Z"
    }
   },
   "outputs": [],
   "source": [
    "test=pd.read_csv('../fobokiller/data/scrapping_cleaned.csv',index_col=0)"
   ]
  },
  {
   "cell_type": "code",
   "execution_count": 238,
   "id": "7f69c3d0",
   "metadata": {
    "ExecuteTime": {
     "end_time": "2021-11-24T10:59:45.363787Z",
     "start_time": "2021-11-24T10:59:45.357347Z"
    }
   },
   "outputs": [
    {
     "data": {
      "text/plain": [
       "(45839, 5)"
      ]
     },
     "execution_count": 238,
     "metadata": {},
     "output_type": "execute_result"
    }
   ],
   "source": [
    "test.shape"
   ]
  },
  {
   "cell_type": "code",
   "execution_count": 236,
   "id": "cf934c0b",
   "metadata": {
    "ExecuteTime": {
     "end_time": "2021-11-24T10:58:06.643123Z",
     "start_time": "2021-11-24T10:58:06.638182Z"
    }
   },
   "outputs": [
    {
     "data": {
      "text/plain": [
       "'less block le meridian hotel known steak tartare disappoint cod good rib steak id recommend appetizer platter wine list ok good service'"
      ]
     },
     "execution_count": 236,
     "metadata": {},
     "output_type": "execute_result"
    }
   ],
   "source": [
    "test.loc[5,'review_clean']"
   ]
  },
  {
   "cell_type": "code",
   "execution_count": 231,
   "id": "c2eea79f",
   "metadata": {
    "ExecuteTime": {
     "end_time": "2021-11-24T10:56:32.525865Z",
     "start_time": "2021-11-24T10:56:32.518415Z"
    }
   },
   "outputs": [],
   "source": [
    "def clear_data_text_TEST(text, language='english'):\n",
    "    #remove before the begin of the comment\n",
    "    for i in range(5):\n",
    "        pos = 0\n",
    "        pos = text.find('\\n')\n",
    "        text = text[pos+1:]\n",
    "    \n",
    "    #remove punctuation\n",
    "    for punctuation in string.punctuation:\n",
    "        text = text.replace(punctuation, '')\n",
    "\n",
    "    # remove number\n",
    "    text = ''.join(word for word in text if not word.isdigit())\n",
    "\n",
    "    #pass in lowercase\n",
    "    text = text.lower()\n",
    "\n",
    "    #remove stop words\n",
    "    stop_words = set(stopwords.words(language))\n",
    "    \n",
    "    #text to list of word\n",
    "    word_tokens = word_tokenize(text)\n",
    "\n",
    "    #list to string\n",
    "    text = \" \".join([w for w in word_tokens if not w in stop_words])\n",
    "    \n",
    "    if text.endswith('useful funny cool'):\n",
    "        text = text[:-len('useful funny cool')]\n",
    "    if text.startswith('updated review'):\n",
    "        text = text.split('useful funny cool',1)[0]\n",
    "        text = text[len('updated review'):]\n",
    "    \n",
    "    return text"
   ]
  },
  {
   "cell_type": "code",
   "execution_count": 232,
   "id": "97a7c4ab",
   "metadata": {
    "ExecuteTime": {
     "end_time": "2021-11-24T10:56:33.337455Z",
     "start_time": "2021-11-24T10:56:33.330674Z"
    }
   },
   "outputs": [
    {
     "data": {
      "text/plain": [
       "' photo less block le meridian hotel known steak tartare disappoint cod good rib steak id recommend appetizer platter wine list ok good service '"
      ]
     },
     "execution_count": 232,
     "metadata": {},
     "output_type": "execute_result"
    }
   ],
   "source": [
    "review_to_split = test.loc[5,'review']\n",
    "rts=clear_data_text_TEST(review_to_split)\n",
    "rts"
   ]
  },
  {
   "cell_type": "code",
   "execution_count": 233,
   "id": "7d455794",
   "metadata": {
    "ExecuteTime": {
     "end_time": "2021-11-24T10:56:34.354512Z",
     "start_time": "2021-11-24T10:56:34.350344Z"
    }
   },
   "outputs": [
    {
     "data": {
      "text/plain": [
       "\"Roger Q.\\nLos Altos, CA\\n49\\n205\\n181\\n1/29/2018\\nUpdated review\\n1 photo\\nThis is less than a block from Le Meridian Hotel. They are known for their steak tartare and it did not disappoint. The cod was good as was their rib steak. I'd recommend the appetizer platter. Wine list is just ok. Good service.\\nUseful 1\\nFunny\\nCool 1\\n7/6/2015Previous review\\nThe monk fish was fantastic. As was the bouillabaisse. Decent French wines. Locally sourced ingredients. Friendly staff that lets one sit as long as one wishes.\\nRead more\""
      ]
     },
     "execution_count": 233,
     "metadata": {},
     "output_type": "execute_result"
    }
   ],
   "source": [
    "review_to_split"
   ]
  },
  {
   "cell_type": "code",
   "execution_count": null,
   "id": "d167e051",
   "metadata": {},
   "outputs": [],
   "source": []
  }
 ],
 "metadata": {
  "kernelspec": {
   "display_name": "Python 3 (ipykernel)",
   "language": "python",
   "name": "python3"
  },
  "language_info": {
   "codemirror_mode": {
    "name": "ipython",
    "version": 3
   },
   "file_extension": ".py",
   "mimetype": "text/x-python",
   "name": "python",
   "nbconvert_exporter": "python",
   "pygments_lexer": "ipython3",
   "version": "3.8.12"
  },
  "toc": {
   "base_numbering": 1,
   "nav_menu": {},
   "number_sections": true,
   "sideBar": true,
   "skip_h1_title": false,
   "title_cell": "Table of Contents",
   "title_sidebar": "Contents",
   "toc_cell": false,
   "toc_position": {},
   "toc_section_display": true,
   "toc_window_display": false
  }
 },
 "nbformat": 4,
 "nbformat_minor": 5
}
