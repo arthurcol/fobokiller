{
 "cells": [
  {
   "cell_type": "code",
   "execution_count": 44,
   "id": "51c4cc2d",
   "metadata": {
    "ExecuteTime": {
     "end_time": "2021-11-25T13:12:27.343694Z",
     "start_time": "2021-11-25T13:12:27.340001Z"
    }
   },
   "outputs": [],
   "source": [
    "import pandas as pd\n",
    "import numpy as np \n",
    "import string\n",
    "import re\n",
    "import matplotlib.pyplot as plt\n",
    "from sentence_transformers import SentenceTransformer,util"
   ]
  },
  {
   "cell_type": "code",
   "execution_count": 6,
   "id": "91a92b50",
   "metadata": {
    "ExecuteTime": {
     "end_time": "2021-11-25T11:39:30.266021Z",
     "start_time": "2021-11-25T11:39:21.806877Z"
    }
   },
   "outputs": [
    {
     "name": "stdout",
     "output_type": "stream",
     "text": [
      "[[ 0.0225026  -0.07829174 -0.02303076 ... -0.00827927  0.02652692\n",
      "  -0.00201898]\n",
      " [ 0.04170236  0.0010974  -0.01553417 ... -0.02181627 -0.0635936\n",
      "  -0.00875283]]\n"
     ]
    }
   ],
   "source": [
    "model = SentenceTransformer('sentence-transformers/all-mpnet-base-v2')\n",
    "embeddings = model.encode(sentences)\n",
    "print(embeddings)"
   ]
  },
  {
   "cell_type": "code",
   "execution_count": 122,
   "id": "90b6c593",
   "metadata": {
    "ExecuteTime": {
     "end_time": "2021-11-25T13:39:04.688814Z",
     "start_time": "2021-11-25T13:39:04.658720Z"
    }
   },
   "outputs": [],
   "source": [
    "df = pd.read_csv('../fobokiller/data/scrapping_cleaned_top2vec.csv',index_col=0,nrows=1001)"
   ]
  },
  {
   "cell_type": "code",
   "execution_count": 123,
   "id": "e4f92f96",
   "metadata": {
    "ExecuteTime": {
     "end_time": "2021-11-25T13:39:05.304848Z",
     "start_time": "2021-11-25T13:39:05.294457Z"
    }
   },
   "outputs": [
    {
     "data": {
      "text/html": [
       "<div>\n",
       "<style scoped>\n",
       "    .dataframe tbody tr th:only-of-type {\n",
       "        vertical-align: middle;\n",
       "    }\n",
       "\n",
       "    .dataframe tbody tr th {\n",
       "        vertical-align: top;\n",
       "    }\n",
       "\n",
       "    .dataframe thead th {\n",
       "        text-align: right;\n",
       "    }\n",
       "</style>\n",
       "<table border=\"1\" class=\"dataframe\">\n",
       "  <thead>\n",
       "    <tr style=\"text-align: right;\">\n",
       "      <th></th>\n",
       "      <th>alias</th>\n",
       "      <th>date</th>\n",
       "      <th>rate</th>\n",
       "      <th>review</th>\n",
       "      <th>review_clean</th>\n",
       "    </tr>\n",
       "  </thead>\n",
       "  <tbody>\n",
       "    <tr>\n",
       "      <th>0</th>\n",
       "      <td>le-sud-paris</td>\n",
       "      <td>2018-11-20</td>\n",
       "      <td>5</td>\n",
       "      <td>Ed W.\\nElite 2021\\nMiami, FL\\n259\\n562\\n4232\\n...</td>\n",
       "      <td>this is not your traditional parisian cooking ...</td>\n",
       "    </tr>\n",
       "    <tr>\n",
       "      <th>1</th>\n",
       "      <td>le-sud-paris</td>\n",
       "      <td>2021-07-04</td>\n",
       "      <td>2</td>\n",
       "      <td>Jaki F.\\nElite 2021\\nSignal Hill, CA\\n358\\n270...</td>\n",
       "      <td>i'm not sure what is happening at this restaur...</td>\n",
       "    </tr>\n",
       "    <tr>\n",
       "      <th>2</th>\n",
       "      <td>le-sud-paris</td>\n",
       "      <td>2018-06-20</td>\n",
       "      <td>3</td>\n",
       "      <td>Jen S.\\nElite 2021\\nBuffalo, NY\\n71\\n322\\n809\\...</td>\n",
       "      <td>ambience is enticing, but at the end of the da...</td>\n",
       "    </tr>\n",
       "    <tr>\n",
       "      <th>3</th>\n",
       "      <td>le-sud-paris</td>\n",
       "      <td>2015-09-28</td>\n",
       "      <td>3</td>\n",
       "      <td>Sam S.\\nElite 2021\\nMunich, Germany\\n2133\\n255...</td>\n",
       "      <td>ambience here is star but in my opinion this i...</td>\n",
       "    </tr>\n",
       "    <tr>\n",
       "      <th>4</th>\n",
       "      <td>le-sud-paris</td>\n",
       "      <td>2019-08-08</td>\n",
       "      <td>1</td>\n",
       "      <td>Fahad A.\\nLos Angeles, CA\\n0\\n10\\n15\\n8/8/2019...</td>\n",
       "      <td>worst restaurant ever! the servers were not th...</td>\n",
       "    </tr>\n",
       "  </tbody>\n",
       "</table>\n",
       "</div>"
      ],
      "text/plain": [
       "          alias        date  rate  \\\n",
       "0  le-sud-paris  2018-11-20     5   \n",
       "1  le-sud-paris  2021-07-04     2   \n",
       "2  le-sud-paris  2018-06-20     3   \n",
       "3  le-sud-paris  2015-09-28     3   \n",
       "4  le-sud-paris  2019-08-08     1   \n",
       "\n",
       "                                              review  \\\n",
       "0  Ed W.\\nElite 2021\\nMiami, FL\\n259\\n562\\n4232\\n...   \n",
       "1  Jaki F.\\nElite 2021\\nSignal Hill, CA\\n358\\n270...   \n",
       "2  Jen S.\\nElite 2021\\nBuffalo, NY\\n71\\n322\\n809\\...   \n",
       "3  Sam S.\\nElite 2021\\nMunich, Germany\\n2133\\n255...   \n",
       "4  Fahad A.\\nLos Angeles, CA\\n0\\n10\\n15\\n8/8/2019...   \n",
       "\n",
       "                                        review_clean  \n",
       "0  this is not your traditional parisian cooking ...  \n",
       "1  i'm not sure what is happening at this restaur...  \n",
       "2  ambience is enticing, but at the end of the da...  \n",
       "3  ambience here is star but in my opinion this i...  \n",
       "4  worst restaurant ever! the servers were not th...  "
      ]
     },
     "execution_count": 123,
     "metadata": {},
     "output_type": "execute_result"
    }
   ],
   "source": [
    "df.head()"
   ]
  },
  {
   "cell_type": "code",
   "execution_count": 48,
   "id": "794b4a5c",
   "metadata": {
    "ExecuteTime": {
     "end_time": "2021-11-25T13:13:57.061846Z",
     "start_time": "2021-11-25T13:13:57.057080Z"
    },
    "scrolled": true
   },
   "outputs": [
    {
     "data": {
      "text/plain": [
       "['Hello',\n",
       " '',\n",
       " '',\n",
       " ' I am a reviewer ',\n",
       " ' Did I love this restaurant ',\n",
       " ' Nope',\n",
       " '',\n",
       " '',\n",
       " '']"
      ]
     },
     "execution_count": 48,
     "metadata": {},
     "output_type": "execute_result"
    }
   ],
   "source": [
    "test= \"Hello... I am a reviewer ! Did I love this restaurant ? Nope...\"\n",
    "re.split('[.?!]',test)"
   ]
  },
  {
   "cell_type": "markdown",
   "id": "85154def",
   "metadata": {},
   "source": [
    "## using the whole review"
   ]
  },
  {
   "cell_type": "code",
   "execution_count": null,
   "id": "ba7bc74d",
   "metadata": {},
   "outputs": [],
   "source": []
  },
  {
   "cell_type": "code",
   "execution_count": 33,
   "id": "6bf5a4c5",
   "metadata": {
    "ExecuteTime": {
     "end_time": "2021-11-25T11:57:09.434001Z",
     "start_time": "2021-11-25T11:56:28.343587Z"
    }
   },
   "outputs": [],
   "source": [
    "sentences = df['review_clean']\n",
    "embeddings = model.encode(sentences)\n"
   ]
  },
  {
   "cell_type": "code",
   "execution_count": 36,
   "id": "9638c534",
   "metadata": {
    "ExecuteTime": {
     "end_time": "2021-11-25T11:57:09.575584Z",
     "start_time": "2021-11-25T11:57:09.449974Z"
    },
    "scrolled": true
   },
   "outputs": [
    {
     "name": "stdout",
     "output_type": "stream",
     "text": [
      "Top-5 most similar pairs:\n",
      "ambience is enticing, but at the end of the day it's definitely directed toward a tourist crowd. fortunately food is great. the interior has a make believe outdoor atmosphere with several real trees throughout the dining area. lighting is somewhat dim, seating is cosy with not the most comfortable chairs. the staff is not the most friendly, but get their jobs done well. food was awesome. went with four others and no complaints about the short menu. prices aren't cheap, so if you're on a budget or with picky eaters, probably not your first choice. see all photos from jen s. for le sud \n",
      " ambience here is star but in my opinion this is an expensive tourist trap. the moment you enter you feel like you have been transported to the south of france but, it sort of stops there. the service is ok and arrogant. they had run out of many items on the menu by the time we arrived. the menu cards in english were a bit of a giveaway for me. it was expensive mains and many of the dishes i wanted to order were not available. the wine list is small and has some ok wines in it. the red we had was ordinary and, the lack of provençal aperitifs also, equally disappointing. i had the petit pots for starter which was ok. four dips in pots with breads. it did not blow me away in anyway. my main of whole fish was also ok and slightly overcooked. they forgot to bring my sides for the whole meal and i was left with a whole fish and nothing else. my cafe gourmand was the highlight of the evening and the chocolate mousse was to die for. i don't think i would come back here again. paris is one of my favourite cities to eat out as, there is such an extensive culinary scene here. i am confident i can do way better for a lot less money, in this town. i will leave this place for the people who want to pay a lot of money for ok food :-)) see all photos from sam s. for le sud \n",
      " 0.8551\n",
      "just had dinner here and the food and service were great! the atmosphere is cozy and charming, replicating the south of france (hence the restaurant name). the servers were very attentive and took time to explain the menu to each table. we realized one of our servers was also one of the restaurant owners. we ate the lamb confit and seafood platter which were delicious! it is a little pricey, but definitely worth the experience. \n",
      " great atmosphere and friendly service. the staff don't speak a lot of english as others have mentioned. but they do have english menu. i ordered the la bourride which is a melting pot (literally came in a hot pot) of tender seafood simmering in a very smooth but not over-flavored broth. it was a hit and the broth goes well with the special garlic? butter bread that come with the dish. i had wanted to try their creme burlee but will have to wait for the next time. will definely come back and try some if their dishes like the lamb confit. la bourride. \n",
      " 0.8503\n",
      "this is not your traditional parisian cooking style.... this restaurant is a full on southern france cuisine. we were looking for a good boulliabese .... and here at le sud they have the boulliabese version also from southern france and is called bourride. is almost the same but thickened with egg yolks. this is a most have. it was delicious! as appetizer i recommend the salmon tartare and the small whiting fish. for main courses we had filet de daurade, entrecote and the bourride which i already told you it was awesome. the fish came on bed of vegetables cooked perfectly.  desserts here are very good as well.... rich and creamy homemade icecream, and one that they called coffee and petit desserts, which as it says comes with a mini version of tiramisu, lemon custard, chocolate mousse and coffee. all very good. my favorite were chocolate icecream and pistachio icecream. needless to say that service here is very, very good. the restaurant itself is beautiful, just like walking into a southern garden in the middle of marseille. in my opinion this is one of the best restaurants in paris. affordable and with a unique charm. \n",
      " ambience here is star but in my opinion this is an expensive tourist trap. the moment you enter you feel like you have been transported to the south of france but, it sort of stops there. the service is ok and arrogant. they had run out of many items on the menu by the time we arrived. the menu cards in english were a bit of a giveaway for me. it was expensive mains and many of the dishes i wanted to order were not available. the wine list is small and has some ok wines in it. the red we had was ordinary and, the lack of provençal aperitifs also, equally disappointing. i had the petit pots for starter which was ok. four dips in pots with breads. it did not blow me away in anyway. my main of whole fish was also ok and slightly overcooked. they forgot to bring my sides for the whole meal and i was left with a whole fish and nothing else. my cafe gourmand was the highlight of the evening and the chocolate mousse was to die for. i don't think i would come back here again. paris is one of my favourite cities to eat out as, there is such an extensive culinary scene here. i am confident i can do way better for a lot less money, in this town. i will leave this place for the people who want to pay a lot of money for ok food :-)) see all photos from sam s. for le sud \n",
      " 0.8464\n",
      "i really enjoyed this place on my first night in paris. i chose the place because they speak english, at first i was just making time to go for another restaurant for dinner (where btw don't speak english) but i stayed because of the ambience, order the artichoke as a snack and was delicious, then order the scargots that were really good and finally dessert that was delicious but can't remember the name. my waiter kevin was incredibly nice and patient with me and my lack of french. \n",
      " the loveliness of this restaurant is absolutely typical of paris - though it was the first time i had forayed out into the th. warm and inviting - full of great classics - i had foie gras and terrine and had veal kidneys and potatoes for my main. patient with the \"comment dit-ons\" of the conversational, not fluent, speaker, and just generally awesome. make reservations. it's easy for or to grab a table, but i saw at least parties of or more get turned away on the lazy sunday afternoon i was having a great meal and writing. \n",
      " 0.8449\n",
      "very beautiful parisian set up. every time i come to paris, i always eat here. food is always delicious. i recommend this restaurant for a very parisian experience!! \n",
      " avoid this place . the restaurant is quite lovely with an authentic country french atmosphere which is quite inviting from the street . that is where the charm ends . the service was very disappointing . it was clear that the staff was not interested in american visitors - although those around us appeared to be getting better service ! staff made no effort to communicate ( although we attempted with broken french to our best ) with us . the food was below average and in spite of five different meals , nothing was worth remembering . the menu is quite one dimensional and without any genuine originality . dessert was clearly purchased from down the street and re-served . overall a very negative experience . \n",
      " 0.8400\n"
     ]
    }
   ],
   "source": [
    "# Compute cosine similarity between all pairs\n",
    "cos_sim = util.cos_sim(embeddings, embeddings)\n",
    "\n",
    "#Add all pairs to a list with their cosine similarity score\n",
    "all_sentence_combinations = []\n",
    "for i in range(len(cos_sim)-1):\n",
    "    for j in range(i+1, len(cos_sim)):\n",
    "        all_sentence_combinations.append([cos_sim[i][j], i, j])\n",
    "\n",
    "#Sort list by the highest cosine similarity score\n",
    "all_sentence_combinations = sorted(all_sentence_combinations, key=lambda x: x[0], reverse=True)\n",
    "\n",
    "print(\"Top-5 most similar pairs:\")\n",
    "for score, i, j in all_sentence_combinations[0:5]:\n",
    "    print(\"{} \\n {} \\n {:.4f}\".format(sentences[i], sentences[j], cos_sim[i][j]))\n",
    "    "
   ]
  },
  {
   "cell_type": "code",
   "execution_count": null,
   "id": "f754faac",
   "metadata": {},
   "outputs": [],
   "source": []
  },
  {
   "cell_type": "markdown",
   "id": "ddbdab96",
   "metadata": {},
   "source": [
    "## splitting the review into sentences\n"
   ]
  },
  {
   "cell_type": "code",
   "execution_count": 124,
   "id": "7feae384",
   "metadata": {
    "ExecuteTime": {
     "end_time": "2021-11-25T13:39:08.425228Z",
     "start_time": "2021-11-25T13:39:08.421485Z"
    }
   },
   "outputs": [],
   "source": [
    "def splitter(text):\n",
    "    tmp = re.split('[.?!]',text)\n",
    "    tmp=filter(None, tmp)\n",
    "    return list(tmp)"
   ]
  },
  {
   "cell_type": "code",
   "execution_count": 125,
   "id": "2e66b31b",
   "metadata": {
    "ExecuteTime": {
     "end_time": "2021-11-25T13:39:08.826222Z",
     "start_time": "2021-11-25T13:39:08.809930Z"
    }
   },
   "outputs": [],
   "source": [
    "df['review_sentences'] = df['review_clean'].apply(splitter)"
   ]
  },
  {
   "cell_type": "code",
   "execution_count": 126,
   "id": "275b28c8",
   "metadata": {
    "ExecuteTime": {
     "end_time": "2021-11-25T13:39:09.191292Z",
     "start_time": "2021-11-25T13:39:09.178788Z"
    }
   },
   "outputs": [],
   "source": [
    "df_exploded=df.explode('review_sentences').reset_index(drop=True)"
   ]
  },
  {
   "cell_type": "code",
   "execution_count": 127,
   "id": "bfb6a17e",
   "metadata": {
    "ExecuteTime": {
     "end_time": "2021-11-25T13:39:09.831836Z",
     "start_time": "2021-11-25T13:39:09.818082Z"
    }
   },
   "outputs": [
    {
     "data": {
      "text/html": [
       "<div>\n",
       "<style scoped>\n",
       "    .dataframe tbody tr th:only-of-type {\n",
       "        vertical-align: middle;\n",
       "    }\n",
       "\n",
       "    .dataframe tbody tr th {\n",
       "        vertical-align: top;\n",
       "    }\n",
       "\n",
       "    .dataframe thead th {\n",
       "        text-align: right;\n",
       "    }\n",
       "</style>\n",
       "<table border=\"1\" class=\"dataframe\">\n",
       "  <thead>\n",
       "    <tr style=\"text-align: right;\">\n",
       "      <th></th>\n",
       "      <th>alias</th>\n",
       "      <th>date</th>\n",
       "      <th>rate</th>\n",
       "      <th>review</th>\n",
       "      <th>review_clean</th>\n",
       "      <th>review_sentences</th>\n",
       "    </tr>\n",
       "  </thead>\n",
       "  <tbody>\n",
       "    <tr>\n",
       "      <th>0</th>\n",
       "      <td>le-sud-paris</td>\n",
       "      <td>2018-11-20</td>\n",
       "      <td>5</td>\n",
       "      <td>Ed W.\\nElite 2021\\nMiami, FL\\n259\\n562\\n4232\\n...</td>\n",
       "      <td>this is not your traditional parisian cooking ...</td>\n",
       "      <td>this is not your traditional parisian cooking ...</td>\n",
       "    </tr>\n",
       "    <tr>\n",
       "      <th>1</th>\n",
       "      <td>le-sud-paris</td>\n",
       "      <td>2018-11-20</td>\n",
       "      <td>5</td>\n",
       "      <td>Ed W.\\nElite 2021\\nMiami, FL\\n259\\n562\\n4232\\n...</td>\n",
       "      <td>this is not your traditional parisian cooking ...</td>\n",
       "      <td>this restaurant is a full on southern france ...</td>\n",
       "    </tr>\n",
       "    <tr>\n",
       "      <th>2</th>\n",
       "      <td>le-sud-paris</td>\n",
       "      <td>2018-11-20</td>\n",
       "      <td>5</td>\n",
       "      <td>Ed W.\\nElite 2021\\nMiami, FL\\n259\\n562\\n4232\\n...</td>\n",
       "      <td>this is not your traditional parisian cooking ...</td>\n",
       "      <td>we were looking for a good boulliabese</td>\n",
       "    </tr>\n",
       "    <tr>\n",
       "      <th>3</th>\n",
       "      <td>le-sud-paris</td>\n",
       "      <td>2018-11-20</td>\n",
       "      <td>5</td>\n",
       "      <td>Ed W.\\nElite 2021\\nMiami, FL\\n259\\n562\\n4232\\n...</td>\n",
       "      <td>this is not your traditional parisian cooking ...</td>\n",
       "      <td>and here at le sud they have the boulliabese ...</td>\n",
       "    </tr>\n",
       "    <tr>\n",
       "      <th>4</th>\n",
       "      <td>le-sud-paris</td>\n",
       "      <td>2018-11-20</td>\n",
       "      <td>5</td>\n",
       "      <td>Ed W.\\nElite 2021\\nMiami, FL\\n259\\n562\\n4232\\n...</td>\n",
       "      <td>this is not your traditional parisian cooking ...</td>\n",
       "      <td>is almost the same but thickened with egg yolks</td>\n",
       "    </tr>\n",
       "    <tr>\n",
       "      <th>...</th>\n",
       "      <td>...</td>\n",
       "      <td>...</td>\n",
       "      <td>...</td>\n",
       "      <td>...</td>\n",
       "      <td>...</td>\n",
       "      <td>...</td>\n",
       "    </tr>\n",
       "    <tr>\n",
       "      <th>8021</th>\n",
       "      <td>refuge-des-fondues-paris</td>\n",
       "      <td>2018-12-12</td>\n",
       "      <td>4</td>\n",
       "      <td>Taylor S.\\nDenver, CO\\n4755\\n533\\n6153\\n12/12/...</td>\n",
       "      <td>would i normally travel abroad to eat fondue? ...</td>\n",
       "      <td>cheese fondue is delish</td>\n",
       "    </tr>\n",
       "    <tr>\n",
       "      <th>8022</th>\n",
       "      <td>refuge-des-fondues-paris</td>\n",
       "      <td>2018-12-12</td>\n",
       "      <td>4</td>\n",
       "      <td>Taylor S.\\nDenver, CO\\n4755\\n533\\n6153\\n12/12/...</td>\n",
       "      <td>would i normally travel abroad to eat fondue? ...</td>\n",
       "      <td>the whole time is just a riot</td>\n",
       "    </tr>\n",
       "    <tr>\n",
       "      <th>8023</th>\n",
       "      <td>refuge-des-fondues-paris</td>\n",
       "      <td>2018-12-12</td>\n",
       "      <td>4</td>\n",
       "      <td>Taylor S.\\nDenver, CO\\n4755\\n533\\n6153\\n12/12/...</td>\n",
       "      <td>would i normally travel abroad to eat fondue? ...</td>\n",
       "      <td>be nice to your servers too</td>\n",
       "    </tr>\n",
       "    <tr>\n",
       "      <th>8024</th>\n",
       "      <td>refuge-des-fondues-paris</td>\n",
       "      <td>2018-12-12</td>\n",
       "      <td>4</td>\n",
       "      <td>Taylor S.\\nDenver, CO\\n4755\\n533\\n6153\\n12/12/...</td>\n",
       "      <td>would i normally travel abroad to eat fondue? ...</td>\n",
       "      <td>they are doing their best in a small space so...</td>\n",
       "    </tr>\n",
       "    <tr>\n",
       "      <th>8025</th>\n",
       "      <td>refuge-des-fondues-paris</td>\n",
       "      <td>2018-12-12</td>\n",
       "      <td>4</td>\n",
       "      <td>Taylor S.\\nDenver, CO\\n4755\\n533\\n6153\\n12/12/...</td>\n",
       "      <td>would i normally travel abroad to eat fondue? ...</td>\n",
       "      <td>and if you're wearing a dress, be warned</td>\n",
       "    </tr>\n",
       "  </tbody>\n",
       "</table>\n",
       "<p>8026 rows × 6 columns</p>\n",
       "</div>"
      ],
      "text/plain": [
       "                         alias        date  rate  \\\n",
       "0                 le-sud-paris  2018-11-20     5   \n",
       "1                 le-sud-paris  2018-11-20     5   \n",
       "2                 le-sud-paris  2018-11-20     5   \n",
       "3                 le-sud-paris  2018-11-20     5   \n",
       "4                 le-sud-paris  2018-11-20     5   \n",
       "...                        ...         ...   ...   \n",
       "8021  refuge-des-fondues-paris  2018-12-12     4   \n",
       "8022  refuge-des-fondues-paris  2018-12-12     4   \n",
       "8023  refuge-des-fondues-paris  2018-12-12     4   \n",
       "8024  refuge-des-fondues-paris  2018-12-12     4   \n",
       "8025  refuge-des-fondues-paris  2018-12-12     4   \n",
       "\n",
       "                                                 review  \\\n",
       "0     Ed W.\\nElite 2021\\nMiami, FL\\n259\\n562\\n4232\\n...   \n",
       "1     Ed W.\\nElite 2021\\nMiami, FL\\n259\\n562\\n4232\\n...   \n",
       "2     Ed W.\\nElite 2021\\nMiami, FL\\n259\\n562\\n4232\\n...   \n",
       "3     Ed W.\\nElite 2021\\nMiami, FL\\n259\\n562\\n4232\\n...   \n",
       "4     Ed W.\\nElite 2021\\nMiami, FL\\n259\\n562\\n4232\\n...   \n",
       "...                                                 ...   \n",
       "8021  Taylor S.\\nDenver, CO\\n4755\\n533\\n6153\\n12/12/...   \n",
       "8022  Taylor S.\\nDenver, CO\\n4755\\n533\\n6153\\n12/12/...   \n",
       "8023  Taylor S.\\nDenver, CO\\n4755\\n533\\n6153\\n12/12/...   \n",
       "8024  Taylor S.\\nDenver, CO\\n4755\\n533\\n6153\\n12/12/...   \n",
       "8025  Taylor S.\\nDenver, CO\\n4755\\n533\\n6153\\n12/12/...   \n",
       "\n",
       "                                           review_clean  \\\n",
       "0     this is not your traditional parisian cooking ...   \n",
       "1     this is not your traditional parisian cooking ...   \n",
       "2     this is not your traditional parisian cooking ...   \n",
       "3     this is not your traditional parisian cooking ...   \n",
       "4     this is not your traditional parisian cooking ...   \n",
       "...                                                 ...   \n",
       "8021  would i normally travel abroad to eat fondue? ...   \n",
       "8022  would i normally travel abroad to eat fondue? ...   \n",
       "8023  would i normally travel abroad to eat fondue? ...   \n",
       "8024  would i normally travel abroad to eat fondue? ...   \n",
       "8025  would i normally travel abroad to eat fondue? ...   \n",
       "\n",
       "                                       review_sentences  \n",
       "0     this is not your traditional parisian cooking ...  \n",
       "1      this restaurant is a full on southern france ...  \n",
       "2               we were looking for a good boulliabese   \n",
       "3      and here at le sud they have the boulliabese ...  \n",
       "4       is almost the same but thickened with egg yolks  \n",
       "...                                                 ...  \n",
       "8021                            cheese fondue is delish  \n",
       "8022                      the whole time is just a riot  \n",
       "8023                        be nice to your servers too  \n",
       "8024   they are doing their best in a small space so...  \n",
       "8025           and if you're wearing a dress, be warned  \n",
       "\n",
       "[8026 rows x 6 columns]"
      ]
     },
     "execution_count": 127,
     "metadata": {},
     "output_type": "execute_result"
    }
   ],
   "source": [
    "df_exploded"
   ]
  },
  {
   "cell_type": "code",
   "execution_count": 128,
   "id": "f44474b1",
   "metadata": {
    "ExecuteTime": {
     "end_time": "2021-11-25T13:48:00.584530Z",
     "start_time": "2021-11-25T13:42:11.204023Z"
    }
   },
   "outputs": [],
   "source": [
    "sentences = df_exploded['review_sentences']\n",
    "embeddings = model.encode(sentences)"
   ]
  },
  {
   "cell_type": "code",
   "execution_count": null,
   "id": "a8c21f6e",
   "metadata": {
    "ExecuteTime": {
     "start_time": "2021-11-25T13:42:12.300Z"
    }
   },
   "outputs": [],
   "source": [
    "# Compute cosine similarity between all pairs\n",
    "cos_sim = util.cos_sim(embeddings, embeddings)\n",
    "\n",
    "#Add all pairs to a list with their cosine similarity score\n",
    "all_sentence_combinations = []\n",
    "for i in range(len(cos_sim)-1):\n",
    "    for j in range(i+1, len(cos_sim)):\n",
    "        all_sentence_combinations.append([cos_sim[i][j], i, j])\n",
    "\n",
    "#Sort list by the highest cosine similarity score\n",
    "all_sentence_combinations = sorted(all_sentence_combinations, key=lambda x: x[0], reverse=True)\n",
    "\n",
    "print(\"Top-5 most similar pairs:\")\n",
    "for score, i, j in all_sentence_combinations[0:5]:\n",
    "    print(\"{} \\n {} \\n {:.4f}\".format(sentences[i], sentences[j], cos_sim[i][j]))\n",
    "    "
   ]
  },
  {
   "cell_type": "code",
   "execution_count": null,
   "id": "e10f9faf",
   "metadata": {},
   "outputs": [],
   "source": []
  }
 ],
 "metadata": {
  "kernelspec": {
   "display_name": "Python 3 (ipykernel)",
   "language": "python",
   "name": "python3"
  },
  "language_info": {
   "codemirror_mode": {
    "name": "ipython",
    "version": 3
   },
   "file_extension": ".py",
   "mimetype": "text/x-python",
   "name": "python",
   "nbconvert_exporter": "python",
   "pygments_lexer": "ipython3",
   "version": "3.8.12"
  },
  "toc": {
   "base_numbering": 1,
   "nav_menu": {},
   "number_sections": true,
   "sideBar": true,
   "skip_h1_title": false,
   "title_cell": "Table of Contents",
   "title_sidebar": "Contents",
   "toc_cell": false,
   "toc_position": {},
   "toc_section_display": true,
   "toc_window_display": false
  }
 },
 "nbformat": 4,
 "nbformat_minor": 5
}
