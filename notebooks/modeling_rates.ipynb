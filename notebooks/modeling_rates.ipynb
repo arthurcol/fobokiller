{
  "nbformat": 4,
  "nbformat_minor": 0,
  "metadata": {
    "colab": {
      "name": "modeling_rates.ipynb",
      "provenance": [],
      "collapsed_sections": [
        "Y2Jjz1YjI0h4",
        "N_InadX7I_0l",
        "I8xtqXRIj_dp",
        "W6dAj2FbkH0r"
      ]
    },
    "kernelspec": {
      "name": "python3",
      "display_name": "Python 3"
    },
    "language_info": {
      "name": "python"
    },
    "accelerator": "GPU"
  },
  "cells": [
    {
      "cell_type": "markdown",
      "metadata": {
        "id": "uatniOTQzUjI"
      },
      "source": [
        "## Imports and loading data"
      ]
    },
    {
      "cell_type": "code",
      "metadata": {
        "id": "wb5tGnP4wSiE",
        "colab": {
          "base_uri": "https://localhost:8080/"
        },
        "outputId": "76df3fb4-060d-4cb2-dd51-708cfdb4456b"
      },
      "source": [
        "!pip install -q sentence-transformers"
      ],
      "execution_count": 1,
      "outputs": [
        {
          "output_type": "stream",
          "name": "stdout",
          "text": [
            "\u001b[K     |████████████████████████████████| 78 kB 2.6 MB/s \n",
            "\u001b[K     |████████████████████████████████| 3.1 MB 31.5 MB/s \n",
            "\u001b[K     |████████████████████████████████| 3.3 MB 31.5 MB/s \n",
            "\u001b[K     |████████████████████████████████| 1.2 MB 21.4 MB/s \n",
            "\u001b[K     |████████████████████████████████| 59 kB 5.9 MB/s \n",
            "\u001b[K     |████████████████████████████████| 596 kB 36.0 MB/s \n",
            "\u001b[K     |████████████████████████████████| 895 kB 37.5 MB/s \n",
            "\u001b[?25h  Building wheel for sentence-transformers (setup.py) ... \u001b[?25l\u001b[?25hdone\n"
          ]
        }
      ]
    },
    {
      "cell_type": "code",
      "metadata": {
        "id": "VtnxDmdLyArK",
        "colab": {
          "base_uri": "https://localhost:8080/"
        },
        "outputId": "579199e2-e2d3-4140-eff2-89f7147709fe"
      },
      "source": [
        "!pip install pickle5 -q"
      ],
      "execution_count": 2,
      "outputs": [
        {
          "output_type": "stream",
          "name": "stdout",
          "text": [
            "\u001b[?25l\r\u001b[K     |█▎                              | 10 kB 18.1 MB/s eta 0:00:01\r\u001b[K     |██▋                             | 20 kB 22.9 MB/s eta 0:00:01\r\u001b[K     |███▉                            | 30 kB 13.3 MB/s eta 0:00:01\r\u001b[K     |█████▏                          | 40 kB 9.4 MB/s eta 0:00:01\r\u001b[K     |██████▍                         | 51 kB 5.9 MB/s eta 0:00:01\r\u001b[K     |███████▊                        | 61 kB 5.8 MB/s eta 0:00:01\r\u001b[K     |█████████                       | 71 kB 5.3 MB/s eta 0:00:01\r\u001b[K     |██████████▎                     | 81 kB 5.9 MB/s eta 0:00:01\r\u001b[K     |███████████▌                    | 92 kB 5.8 MB/s eta 0:00:01\r\u001b[K     |████████████▉                   | 102 kB 5.5 MB/s eta 0:00:01\r\u001b[K     |██████████████                  | 112 kB 5.5 MB/s eta 0:00:01\r\u001b[K     |███████████████▍                | 122 kB 5.5 MB/s eta 0:00:01\r\u001b[K     |████████████████▋               | 133 kB 5.5 MB/s eta 0:00:01\r\u001b[K     |██████████████████              | 143 kB 5.5 MB/s eta 0:00:01\r\u001b[K     |███████████████████▏            | 153 kB 5.5 MB/s eta 0:00:01\r\u001b[K     |████████████████████▌           | 163 kB 5.5 MB/s eta 0:00:01\r\u001b[K     |█████████████████████▊          | 174 kB 5.5 MB/s eta 0:00:01\r\u001b[K     |███████████████████████         | 184 kB 5.5 MB/s eta 0:00:01\r\u001b[K     |████████████████████████▎       | 194 kB 5.5 MB/s eta 0:00:01\r\u001b[K     |█████████████████████████▋      | 204 kB 5.5 MB/s eta 0:00:01\r\u001b[K     |██████████████████████████▉     | 215 kB 5.5 MB/s eta 0:00:01\r\u001b[K     |████████████████████████████▏   | 225 kB 5.5 MB/s eta 0:00:01\r\u001b[K     |█████████████████████████████▍  | 235 kB 5.5 MB/s eta 0:00:01\r\u001b[K     |██████████████████████████████▊ | 245 kB 5.5 MB/s eta 0:00:01\r\u001b[K     |████████████████████████████████| 256 kB 5.5 MB/s eta 0:00:01\r\u001b[K     |████████████████████████████████| 256 kB 5.5 MB/s \n",
            "\u001b[?25h"
          ]
        }
      ]
    },
    {
      "cell_type": "code",
      "metadata": {
        "id": "udqG4cjF6y1N"
      },
      "source": [
        "#canonical\n",
        "import pandas as pd\n",
        "import numpy as np \n",
        "\n",
        "#words/sentences  preprocessing\n",
        "from gensim.models import Word2Vec\n",
        "from sklearn.model_selection import train_test_split\n",
        "from sentence_transformers import SentenceTransformer\n",
        "from tensorflow.keras.utils import to_categorical\n",
        "from tensorflow.keras.preprocessing.sequence import pad_sequences\n",
        "\n",
        "#modeling\n",
        "from tensorflow.keras import models,layers\n",
        "\n",
        "#google import\n",
        "from google.colab import auth\n",
        "from google.colab import drive\n",
        "import pickle5 as pickle"
      ],
      "execution_count": 3,
      "outputs": []
    },
    {
      "cell_type": "code",
      "metadata": {
        "colab": {
          "base_uri": "https://localhost:8080/"
        },
        "id": "DdG6ithpYkaZ",
        "outputId": "d56d3f70-0d73-42c4-8070-3fea21c35c7a"
      },
      "source": [
        "drive.mount('/content/drive',force_remount=True)"
      ],
      "execution_count": 4,
      "outputs": [
        {
          "output_type": "stream",
          "name": "stdout",
          "text": [
            "Mounted at /content/drive\n"
          ]
        }
      ]
    },
    {
      "cell_type": "code",
      "metadata": {
        "id": "VsUn6_Uyj64m"
      },
      "source": [
        "import matplotlib.pyplot as plt\n",
        "import seaborn as sns\n",
        "def plot_loss_metrics(history, title=None):\n",
        "    \"\"\"\n",
        "    used in DL to plot accuracy and metrics\n",
        "    must be passed the history of the fitted model\n",
        "    \"\"\"\n",
        "    # -- Retrieve metrics used\n",
        "    metrics = []\n",
        "    val_metrics = []\n",
        "\n",
        "    for m in history.history.keys():\n",
        "        if m.startswith('val_'):\n",
        "            val_metrics.append(m)\n",
        "        else:\n",
        "            metrics.append(m)\n",
        "\n",
        "    if len(metrics) % 2 != 0:\n",
        "        row = len(metrics) // 2 + 1\n",
        "\n",
        "    if len(metrics) % 2 == 0:\n",
        "        row = len(metrics) // 2\n",
        "\n",
        "    fig,axs = plt.subplots(row,2,figsize=(13, 4 * row))\n",
        "\n",
        "    for m,ax in zip(metrics,axs.flat):\n",
        "        ax.plot(history.history[m])\n",
        "        ax.plot(history.history[f'val_{m}'])\n",
        "        ax.set_title(f'Model {m}')\n",
        "        ax.set_ylabel(f'{m}')\n",
        "        ax.set_xlabel('Epoch')\n",
        "        ax.legend(['Train', 'Test'], loc='best')\n",
        "        ax.grid(axis=\"x\", linewidth=0.5)\n",
        "        ax.grid(axis=\"y\", linewidth=0.5)\n",
        "\n",
        "    if len(metrics) % 2 != 0:\n",
        "        fig.delaxes[axs.flat[-1]]\n",
        "\n",
        "    if title:\n",
        "        fig.suptitle(title)\n",
        "\n",
        "    pass"
      ],
      "execution_count": 5,
      "outputs": []
    },
    {
      "cell_type": "markdown",
      "metadata": {
        "id": "Y2Jjz1YjI0h4"
      },
      "source": [
        "## Creating embedding for reviews based on sentences embedding"
      ]
    },
    {
      "cell_type": "code",
      "metadata": {
        "id": "9m4g3AnNbziQ"
      },
      "source": [
        "#load embedding from gdrive\n",
        "with open('/content/gdrive/MyDrive/FOBOKILLER/data/embeddings.pkl','rb') as file:\n",
        "  embedding = pickle.load(file)['embeddings']\n"
      ],
      "execution_count": null,
      "outputs": []
    },
    {
      "cell_type": "code",
      "metadata": {
        "colab": {
          "base_uri": "https://localhost:8080/",
          "height": 196
        },
        "id": "9ULgNI0zyQOf",
        "outputId": "173cd406-5c86-4611-8540-efaceec056ea"
      },
      "source": [
        "#load dataset from gdrive\n",
        "with open('/content/gdrive/MyDrive/FOBOKILLER/data/scrapping_cleaned_sentences.csv', 'rb') as file:\n",
        "  dataset = pd.read_csv(file,index_col=0)\n",
        "\n",
        "dataset.head(3)"
      ],
      "execution_count": null,
      "outputs": [
        {
          "output_type": "execute_result",
          "data": {
            "text/html": [
              "<div>\n",
              "<style scoped>\n",
              "    .dataframe tbody tr th:only-of-type {\n",
              "        vertical-align: middle;\n",
              "    }\n",
              "\n",
              "    .dataframe tbody tr th {\n",
              "        vertical-align: top;\n",
              "    }\n",
              "\n",
              "    .dataframe thead th {\n",
              "        text-align: right;\n",
              "    }\n",
              "</style>\n",
              "<table border=\"1\" class=\"dataframe\">\n",
              "  <thead>\n",
              "    <tr style=\"text-align: right;\">\n",
              "      <th></th>\n",
              "      <th>alias</th>\n",
              "      <th>date</th>\n",
              "      <th>rate</th>\n",
              "      <th>review</th>\n",
              "      <th>review_clean</th>\n",
              "      <th>review_sentences</th>\n",
              "    </tr>\n",
              "  </thead>\n",
              "  <tbody>\n",
              "    <tr>\n",
              "      <th>0</th>\n",
              "      <td>le-sud-paris</td>\n",
              "      <td>2018-11-20</td>\n",
              "      <td>5</td>\n",
              "      <td>Ed W.\\nElite 2021\\nMiami, FL\\n259\\n562\\n4232\\n...</td>\n",
              "      <td>this is not your traditional parisian cooking ...</td>\n",
              "      <td>this is not your traditional parisian cooking ...</td>\n",
              "    </tr>\n",
              "    <tr>\n",
              "      <th>1</th>\n",
              "      <td>le-sud-paris</td>\n",
              "      <td>2018-11-20</td>\n",
              "      <td>5</td>\n",
              "      <td>Ed W.\\nElite 2021\\nMiami, FL\\n259\\n562\\n4232\\n...</td>\n",
              "      <td>this is not your traditional parisian cooking ...</td>\n",
              "      <td>this restaurant is a full on southern france ...</td>\n",
              "    </tr>\n",
              "    <tr>\n",
              "      <th>2</th>\n",
              "      <td>le-sud-paris</td>\n",
              "      <td>2018-11-20</td>\n",
              "      <td>5</td>\n",
              "      <td>Ed W.\\nElite 2021\\nMiami, FL\\n259\\n562\\n4232\\n...</td>\n",
              "      <td>this is not your traditional parisian cooking ...</td>\n",
              "      <td>we were looking for a good boulliabese</td>\n",
              "    </tr>\n",
              "  </tbody>\n",
              "</table>\n",
              "</div>"
            ],
            "text/plain": [
              "          alias  ...                                   review_sentences\n",
              "0  le-sud-paris  ...  this is not your traditional parisian cooking ...\n",
              "1  le-sud-paris  ...   this restaurant is a full on southern france ...\n",
              "2  le-sud-paris  ...            we were looking for a good boulliabese \n",
              "\n",
              "[3 rows x 6 columns]"
            ]
          },
          "metadata": {},
          "execution_count": 6
        }
      ]
    },
    {
      "cell_type": "code",
      "metadata": {
        "colab": {
          "base_uri": "https://localhost:8080/"
        },
        "id": "RP7aP7pI0B2a",
        "outputId": "4939097f-4cc2-4243-f8d9-fbb6bb617d51"
      },
      "source": [
        "dataset['rate'].shape , embedding.shape"
      ],
      "execution_count": null,
      "outputs": [
        {
          "output_type": "execute_result",
          "data": {
            "text/plain": [
              "((459349,), TensorShape([459349, 768]))"
            ]
          },
          "metadata": {},
          "execution_count": 7
        }
      ]
    },
    {
      "cell_type": "code",
      "metadata": {
        "id": "H1CidlGd8Y9e"
      },
      "source": [
        "#groupby sentences\n",
        "dataset = dataset.assign(embedding=[*np.array(embedding)])\n"
      ],
      "execution_count": null,
      "outputs": []
    },
    {
      "cell_type": "code",
      "metadata": {
        "id": "aqPnOd8V8tw3"
      },
      "source": [
        "dataset = dataset.groupby('review_clean').agg({'review_sentences':list,'embedding':list,'rate':'mean'}).reset_index()"
      ],
      "execution_count": null,
      "outputs": []
    },
    {
      "cell_type": "code",
      "metadata": {
        "id": "flfBhCfXHmGJ"
      },
      "source": [
        "## Saving the file\n",
        "\n",
        "with open('/content/gdrive/MyDrive/FOBOKILLER/data/review_embed.pkl','wb') as file:\n",
        "  pickle.dump(dataset,file)"
      ],
      "execution_count": null,
      "outputs": []
    },
    {
      "cell_type": "markdown",
      "metadata": {
        "id": "N_InadX7I_0l"
      },
      "source": [
        "## loading the embedding previously built"
      ]
    },
    {
      "cell_type": "code",
      "metadata": {
        "id": "v3NT3eLmZail",
        "colab": {
          "base_uri": "https://localhost:8080/"
        },
        "outputId": "14096701-f2d8-4e5c-8242-5d361739dc23"
      },
      "source": [
        "!pwd"
      ],
      "execution_count": 9,
      "outputs": [
        {
          "output_type": "stream",
          "name": "stdout",
          "text": [
            "/content\n"
          ]
        }
      ]
    },
    {
      "cell_type": "code",
      "metadata": {
        "id": "tvGij-LTJFY0"
      },
      "source": [
        "with open('drive/MyDrive/FOBOKILLER/data/review_embed.pkl','rb') as file:\n",
        "  dataset = pickle.load(file)"
      ],
      "execution_count": 11,
      "outputs": []
    },
    {
      "cell_type": "code",
      "metadata": {
        "colab": {
          "base_uri": "https://localhost:8080/"
        },
        "id": "84ea66FGMUTN",
        "outputId": "f5170db6-d90a-4e13-b09d-22d662e4a208"
      },
      "source": [
        "# Creating balanced dataset\n",
        "df1=dataset[dataset['rate']==1].sample(3000)\n",
        "df2=dataset[dataset['rate']==2].sample(3000)\n",
        "df3=dataset[dataset['rate']==3].sample(3000)\n",
        "df4=dataset[dataset['rate']==4].sample(3000)\n",
        "df5=dataset[dataset['rate']==5].sample(3000)\n",
        "\n",
        "dataset_balanced=pd.concat([df1,df2,df3,df4,df5])\n",
        "df1.shape,df2.shape,df3.shape,df4.shape,df5.shape,dataset_balanced.shape"
      ],
      "execution_count": 12,
      "outputs": [
        {
          "output_type": "execute_result",
          "data": {
            "text/plain": [
              "((3000, 4), (3000, 4), (3000, 4), (3000, 4), (3000, 4), (15000, 4))"
            ]
          },
          "metadata": {},
          "execution_count": 12
        }
      ]
    },
    {
      "cell_type": "code",
      "metadata": {
        "id": "WMsytZWUcDXh"
      },
      "source": [
        "#dataprep\n",
        "X=np.array(dataset_balanced['embedding'])\n",
        "y=dataset_balanced['rate']\n",
        "#Data\n",
        "#split train test no changed\n",
        "X_train,X_test,y_train,y_test = train_test_split(X,y,test_size=.3)\n",
        "# Pad the training and test embedded sentences\n",
        "X_train_pad = pad_sequences(X_train, dtype='float32', padding='post', maxlen=30)\n",
        "X_test_pad = pad_sequences(X_test, dtype='float32', padding='post', maxlen=30)\n",
        "\n",
        "#ohe\n",
        "y_cat=to_categorical(y)"
      ],
      "execution_count": 97,
      "outputs": []
    },
    {
      "cell_type": "code",
      "metadata": {
        "colab": {
          "base_uri": "https://localhost:8080/"
        },
        "id": "ma0jKcSzl4GM",
        "outputId": "b342d45c-7653-48be-df71-47af27947b67"
      },
      "source": [
        "np.array(X_train_pad[0]).shape"
      ],
      "execution_count": 101,
      "outputs": [
        {
          "output_type": "execute_result",
          "data": {
            "text/plain": [
              "(30, 768)"
            ]
          },
          "metadata": {},
          "execution_count": 101
        }
      ]
    },
    {
      "cell_type": "markdown",
      "metadata": {
        "id": "I8xtqXRIj_dp"
      },
      "source": [
        "## GRU model for multi classification"
      ]
    },
    {
      "cell_type": "code",
      "metadata": {
        "id": "Ak1L0VyUj-0r"
      },
      "source": [
        "##ohe\n",
        "y_train_cat=to_categorical(y_train)\n",
        "y_test_cat = to_categorical(y_test)"
      ],
      "execution_count": 49,
      "outputs": []
    },
    {
      "cell_type": "code",
      "metadata": {
        "colab": {
          "base_uri": "https://localhost:8080/"
        },
        "id": "7GQTsC4yby9B",
        "outputId": "a6cc1896-17ac-4225-a00b-2057985c625e"
      },
      "source": [
        "# checking shapes\n",
        "X_train.shape,X_test.shape,y_train_cat.shape,y_test_cat.shape"
      ],
      "execution_count": 50,
      "outputs": [
        {
          "output_type": "execute_result",
          "data": {
            "text/plain": [
              "((10500,), (4500,), (10500, 6), (4500, 6))"
            ]
          },
          "metadata": {},
          "execution_count": 50
        }
      ]
    },
    {
      "cell_type": "code",
      "metadata": {
        "id": "nICrQzbjdrbI"
      },
      "source": [
        "def init_model():\n",
        "    model = models.Sequential()\n",
        "    model.add(layers.Masking())\n",
        "    model.add(layers.GRU(200, return_sequences=True, activation='tanh'))\n",
        "    model.add(layers.Dropout(.2))\n",
        "    model.add(layers.GRU(100,return_sequences=True, activation='tanh'))\n",
        "    model.add(layers.Dropout(.2))\n",
        "    model.add(layers.GRU(50, activation='tanh'))\n",
        "    model.add(layers.Dropout(.1))\n",
        "    model.add(layers.Dense(15, activation='relu'))\n",
        "    model.add(layers.Dense(6, activation='softmax'))\n",
        "\n",
        "    model.compile(loss='categorical_crossentropy',\n",
        "                  optimizer='rmsprop',\n",
        "                  metrics=['accuracy'])\n",
        "    \n",
        "    return model\n",
        "\n",
        "model = init_model()"
      ],
      "execution_count": 25,
      "outputs": []
    },
    {
      "cell_type": "code",
      "metadata": {
        "colab": {
          "base_uri": "https://localhost:8080/"
        },
        "id": "TgO8uEMpesWJ",
        "outputId": "fe05ac57-1dab-482a-99fb-27b47b9ef76c"
      },
      "source": [
        "from tensorflow.keras.callbacks import EarlyStopping\n",
        "\n",
        "es = EarlyStopping(patience=3, restore_best_weights=True)\n",
        "\n",
        "history = model.fit(X_train_pad, y_train_cat, \n",
        "          batch_size = 8,\n",
        "          epochs=100,\n",
        "          validation_split=0.3,\n",
        "          callbacks=[es],\n",
        "         )"
      ],
      "execution_count": 26,
      "outputs": [
        {
          "output_type": "stream",
          "name": "stdout",
          "text": [
            "Epoch 1/100\n",
            "919/919 [==============================] - 60s 42ms/step - loss: 1.0812 - accuracy: 0.5126 - val_loss: 0.9329 - val_accuracy: 0.5773\n",
            "Epoch 2/100\n",
            "919/919 [==============================] - 33s 36ms/step - loss: 0.9184 - accuracy: 0.5911 - val_loss: 0.8803 - val_accuracy: 0.6055\n",
            "Epoch 3/100\n",
            "919/919 [==============================] - 33s 36ms/step - loss: 0.8657 - accuracy: 0.6194 - val_loss: 0.9015 - val_accuracy: 0.5989\n",
            "Epoch 4/100\n",
            "919/919 [==============================] - 33s 36ms/step - loss: 0.8282 - accuracy: 0.6329 - val_loss: 0.8876 - val_accuracy: 0.6081\n",
            "Epoch 5/100\n",
            "919/919 [==============================] - 33s 36ms/step - loss: 0.8010 - accuracy: 0.6532 - val_loss: 0.8936 - val_accuracy: 0.6147\n"
          ]
        }
      ]
    },
    {
      "cell_type": "code",
      "metadata": {
        "id": "0drQawkPoMeZ"
      },
      "source": [
        ""
      ],
      "execution_count": 30,
      "outputs": []
    },
    {
      "cell_type": "code",
      "metadata": {
        "colab": {
          "base_uri": "https://localhost:8080/",
          "height": 295
        },
        "id": "_16Djw3xfI5R",
        "outputId": "306d6f01-b44f-4fa5-80c0-04a976701308"
      },
      "source": [
        "plot_loss_metrics(history)"
      ],
      "execution_count": 31,
      "outputs": [
        {
          "output_type": "display_data",
          "data": {
            "image/png": "[encoded data removed]",
            "text/plain": [
              "<Figure size 936x288 with 2 Axes>"
            ]
          },
          "metadata": {
            "needs_background": "light"
          }
        }
      ]
    },
    {
      "cell_type": "code",
      "metadata": {
        "colab": {
          "base_uri": "https://localhost:8080/"
        },
        "id": "6sCeGeKRlE47",
        "outputId": "8578b776-e657-4d5c-84ce-3fd6bdf93dd6"
      },
      "source": [
        "model.evaluate(X_test_pad,y_test_cat)"
      ],
      "execution_count": 33,
      "outputs": [
        {
          "output_type": "stream",
          "name": "stdout",
          "text": [
            "141/141 [==============================] - 2s 16ms/step - loss: 0.9040 - accuracy: 0.6044\n"
          ]
        },
        {
          "output_type": "execute_result",
          "data": {
            "text/plain": [
              "[0.9039617776870728, 0.6044444441795349]"
            ]
          },
          "metadata": {},
          "execution_count": 33
        }
      ]
    },
    {
      "cell_type": "markdown",
      "metadata": {
        "id": "W6dAj2FbkH0r"
      },
      "source": [
        "## GRU model for binary classification\n",
        "\n"
      ]
    },
    {
      "cell_type": "code",
      "metadata": {
        "id": "2NlAXhjyfeXc"
      },
      "source": [
        "#y binary :\n",
        "y_train_binary = np.where(y_train<4,0,1)\n",
        "y_test_binary = np.where(y_test<4,0,1)"
      ],
      "execution_count": 51,
      "outputs": []
    },
    {
      "cell_type": "code",
      "metadata": {
        "id": "E46vxSYppyEw"
      },
      "source": [
        "def init_model_binary():\n",
        "    model = models.Sequential()\n",
        "    model.add(layers.Masking())\n",
        "    model.add(layers.GRU(200,return_sequences=True, activation='tanh'))\n",
        "    model.add(layers.Dropout(.2))\n",
        "    model.add(layers.GRU(100,return_sequences=True, activation='tanh'))\n",
        "    model.add(layers.Dropout(.2))\n",
        "    model.add(layers.GRU(50, activation='tanh'))\n",
        "    model.add(layers.Dropout(.2))\n",
        "    model.add(layers.Dense(15, activation='relu'))\n",
        "    model.add(layers.Dense(1, activation='sigmoid'))\n",
        "\n",
        "    model.compile(loss='binary_crossentropy',\n",
        "                  optimizer='rmsprop',\n",
        "                  metrics=['accuracy'])\n",
        "    \n",
        "    return model\n",
        "\n",
        "model_binary = init_model_binary()"
      ],
      "execution_count": 39,
      "outputs": []
    },
    {
      "cell_type": "code",
      "metadata": {
        "colab": {
          "base_uri": "https://localhost:8080/",
          "height": 538
        },
        "id": "4bgAMsNhqHYk",
        "outputId": "d8933796-5978-4ef8-fc06-134a7b526d4b"
      },
      "source": [
        "es = EarlyStopping(patience=5, restore_best_weights=True)\n",
        "\n",
        "history_binary = model_binary.fit(X_train_pad, y_train_binary, \n",
        "          batch_size = 16,\n",
        "          epochs=100,\n",
        "          validation_split=0.3,\n",
        "          callbacks=[es]\n",
        "         )\n",
        "plot_loss_metrics(history_binary)"
      ],
      "execution_count": 40,
      "outputs": [
        {
          "output_type": "stream",
          "name": "stdout",
          "text": [
            "Epoch 1/100\n",
            "460/460 [==============================] - 44s 54ms/step - loss: 0.3112 - accuracy: 0.8720 - val_loss: 0.2676 - val_accuracy: 0.8810\n",
            "Epoch 2/100\n",
            "460/460 [==============================] - 19s 41ms/step - loss: 0.2546 - accuracy: 0.8955 - val_loss: 0.2498 - val_accuracy: 0.8911\n",
            "Epoch 3/100\n",
            "460/460 [==============================] - 19s 41ms/step - loss: 0.2371 - accuracy: 0.9050 - val_loss: 0.2581 - val_accuracy: 0.8930\n",
            "Epoch 4/100\n",
            "460/460 [==============================] - 19s 41ms/step - loss: 0.2242 - accuracy: 0.9084 - val_loss: 0.2646 - val_accuracy: 0.8940\n",
            "Epoch 5/100\n",
            "460/460 [==============================] - 19s 41ms/step - loss: 0.2055 - accuracy: 0.9156 - val_loss: 0.2846 - val_accuracy: 0.8937\n",
            "Epoch 6/100\n",
            "460/460 [==============================] - 19s 41ms/step - loss: 0.1920 - accuracy: 0.9207 - val_loss: 0.2645 - val_accuracy: 0.8889\n",
            "Epoch 7/100\n",
            "460/460 [==============================] - 19s 41ms/step - loss: 0.1739 - accuracy: 0.9286 - val_loss: 0.3165 - val_accuracy: 0.8870\n"
          ]
        },
        {
          "output_type": "display_data",
          "data": {
            "image/png": "[encoded data removed]",
            "text/plain": [
              "<Figure size 936x288 with 2 Axes>"
            ]
          },
          "metadata": {
            "needs_background": "light"
          }
        }
      ]
    },
    {
      "cell_type": "code",
      "metadata": {
        "colab": {
          "base_uri": "https://localhost:8080/"
        },
        "id": "fYRJVm1vqOwq",
        "outputId": "364eb7c0-4f8e-48d2-c0ec-a744f623ff28"
      },
      "source": [
        ""
      ],
      "execution_count": null,
      "outputs": [
        {
          "output_type": "execute_result",
          "data": {
            "text/plain": [
              "0.3983809523809524"
            ]
          },
          "metadata": {},
          "execution_count": 94
        }
      ]
    },
    {
      "cell_type": "code",
      "metadata": {
        "colab": {
          "base_uri": "https://localhost:8080/"
        },
        "id": "M1LoCIhCrfKq",
        "outputId": "e2ceb141-9fc5-46cd-ee6c-cc30efbb9f2f"
      },
      "source": [
        "model_binary.evaluate(X_test_pad,y_test_binary)"
      ],
      "execution_count": null,
      "outputs": [
        {
          "output_type": "stream",
          "name": "stdout",
          "text": [
            "141/141 [==============================] - 1s 10ms/step - loss: 0.2342 - accuracy: 0.9033\n"
          ]
        },
        {
          "output_type": "execute_result",
          "data": {
            "text/plain": [
              "[0.23417919874191284, 0.903333306312561]"
            ]
          },
          "metadata": {},
          "execution_count": 97
        }
      ]
    },
    {
      "cell_type": "code",
      "metadata": {
        "id": "uiVq_5FDrkrt"
      },
      "source": [
        ""
      ],
      "execution_count": null,
      "outputs": []
    },
    {
      "cell_type": "markdown",
      "metadata": {
        "id": "o1o5jY9Qlcbb"
      },
      "source": [
        "## Checking weights"
      ]
    },
    {
      "cell_type": "code",
      "metadata": {
        "id": "AgMrBDVNiw4R"
      },
      "source": [
        "encode = SentenceTransformer('/content/drive/MyDrive/FOBOKILLER/data/model')"
      ],
      "execution_count": 69,
      "outputs": []
    },
    {
      "cell_type": "code",
      "metadata": {
        "id": "svNA2H5hlgV9"
      },
      "source": [
        "def make_heatmap_html(txt, preproc, model):\n",
        "    txt = pad_sequences(txt, dtype='float32', padding='post', maxlen=30)\n",
        "    pred = model_binary.predict(txt)\n",
        "    pad = txt\n",
        "    class_output = model.output[:]    \n",
        "    last_conv_layer = model.get_layer(\"conv1d_92\")\n",
        "    grads = K.gradients(class_output, last_conv_layer.output)[0]    \n",
        "    pooled_grads = K.mean(grads)    \n",
        "    iterate = K.function([model.input],[pooled_grads, last_conv_layer.output[0]])    \n",
        "    pooled_grads_value, conv_layer_output_value = iterate([pad])\n",
        "    heatmap = np.mean(conv_layer_output_value, axis=-1)    \n",
        "    heatmap = np.maximum(heatmap, 0)    \n",
        "    heatmap /= np.max(heatmap)\n",
        "    # find the ratio of the text vs the conv layer length    norm_len = preproc.max_len/last_conv_layer.output_shape[1]    \n",
        "    html = \"\"\n",
        "    if pred <= 0.4:        \n",
        "      word_span = \"<span style='background-color:rgba(57,160,{},{})'>{} </span>\"    \n",
        "    elif pred <= 0.7:        \n",
        "      word_span = \"<span style='background-color:rgba({},104,83,{})'>{} </span>\"    \n",
        "    else:        \n",
        "      word_span = \"<span style='background-color:rgba({},0,1,{})'>{} </span>\"\n",
        "\n",
        "    for j, i in enumerate(txt.split()):        \n",
        "      html += word_span.format(heatmap[math.floor(j/norm_len)]*255,                                 \n",
        "                               heatmap[math.floor(j/norm_len)]-0.3,                                 \n",
        "                               i)\n",
        "    return html"
      ],
      "execution_count": 85,
      "outputs": []
    },
    {
      "cell_type": "code",
      "metadata": {
        "id": "9A5uZaM3iIzO",
        "colab": {
          "base_uri": "https://localhost:8080/"
        },
        "outputId": "fad95db2-bb18-446d-d00a-a0b7cda0e389"
      },
      "source": [
        "np.array(dataset.loc[32,'embedding']).shape"
      ],
      "execution_count": 94,
      "outputs": [
        {
          "output_type": "execute_result",
          "data": {
            "text/plain": [
              "(8, 768)"
            ]
          },
          "metadata": {},
          "execution_count": 94
        }
      ]
    },
    {
      "cell_type": "code",
      "metadata": {
        "colab": {
          "base_uri": "https://localhost:8080/"
        },
        "id": "OBbHjpKpmeDd",
        "outputId": "ae6e79b1-5f69-4807-8c37-acc2b4b828b4"
      },
      "source": [
        "X_test_pad[0].shape"
      ],
      "execution_count": 104,
      "outputs": [
        {
          "output_type": "execute_result",
          "data": {
            "text/plain": [
              "(30, 768)"
            ]
          },
          "metadata": {},
          "execution_count": 104
        }
      ]
    },
    {
      "cell_type": "code",
      "metadata": {
        "colab": {
          "base_uri": "https://localhost:8080/",
          "height": 731
        },
        "id": "at1b-rJChGno",
        "outputId": "e2fdae10-55ee-41d2-ffc5-2a6746dc0b15"
      },
      "source": [
        "model_binary.predict(X_test_pad[0])"
      ],
      "execution_count": 105,
      "outputs": [
        {
          "output_type": "stream",
          "name": "stdout",
          "text": [
            "WARNING:tensorflow:Model was constructed with shape (None, 30, 768) for input KerasTensor(type_spec=TensorSpec(shape=(None, 30, 768), dtype=tf.float32, name='masking_2_input'), name='masking_2_input', description=\"created by layer 'masking_2_input'\"), but it was called on an input with incompatible shape (None, None).\n"
          ]
        },
        {
          "output_type": "error",
          "ename": "ValueError",
          "evalue": "ignored",
          "traceback": [
            "\u001b[0;31m---------------------------------------------------------------------------\u001b[0m",
            "\u001b[0;31mValueError\u001b[0m                                Traceback (most recent call last)",
            "\u001b[0;32m<ipython-input-105-10f147d0e743>\u001b[0m in \u001b[0;36m<module>\u001b[0;34m()\u001b[0m\n\u001b[0;32m----> 1\u001b[0;31m \u001b[0mmodel_binary\u001b[0m\u001b[0;34m.\u001b[0m\u001b[0mpredict\u001b[0m\u001b[0;34m(\u001b[0m\u001b[0mX_test_pad\u001b[0m\u001b[0;34m[\u001b[0m\u001b[0;36m0\u001b[0m\u001b[0;34m]\u001b[0m\u001b[0;34m)\u001b[0m\u001b[0;34m\u001b[0m\u001b[0;34m\u001b[0m\u001b[0m\n\u001b[0m",
            "\u001b[0;32m/usr/local/lib/python3.7/dist-packages/keras/utils/traceback_utils.py\u001b[0m in \u001b[0;36merror_handler\u001b[0;34m(*args, **kwargs)\u001b[0m\n\u001b[1;32m     65\u001b[0m     \u001b[0;32mexcept\u001b[0m \u001b[0mException\u001b[0m \u001b[0;32mas\u001b[0m \u001b[0me\u001b[0m\u001b[0;34m:\u001b[0m  \u001b[0;31m# pylint: disable=broad-except\u001b[0m\u001b[0;34m\u001b[0m\u001b[0;34m\u001b[0m\u001b[0m\n\u001b[1;32m     66\u001b[0m       \u001b[0mfiltered_tb\u001b[0m \u001b[0;34m=\u001b[0m \u001b[0m_process_traceback_frames\u001b[0m\u001b[0;34m(\u001b[0m\u001b[0me\u001b[0m\u001b[0;34m.\u001b[0m\u001b[0m__traceback__\u001b[0m\u001b[0;34m)\u001b[0m\u001b[0;34m\u001b[0m\u001b[0;34m\u001b[0m\u001b[0m\n\u001b[0;32m---> 67\u001b[0;31m       \u001b[0;32mraise\u001b[0m \u001b[0me\u001b[0m\u001b[0;34m.\u001b[0m\u001b[0mwith_traceback\u001b[0m\u001b[0;34m(\u001b[0m\u001b[0mfiltered_tb\u001b[0m\u001b[0;34m)\u001b[0m \u001b[0;32mfrom\u001b[0m \u001b[0;32mNone\u001b[0m\u001b[0;34m\u001b[0m\u001b[0;34m\u001b[0m\u001b[0m\n\u001b[0m\u001b[1;32m     68\u001b[0m     \u001b[0;32mfinally\u001b[0m\u001b[0;34m:\u001b[0m\u001b[0;34m\u001b[0m\u001b[0;34m\u001b[0m\u001b[0m\n\u001b[1;32m     69\u001b[0m       \u001b[0;32mdel\u001b[0m \u001b[0mfiltered_tb\u001b[0m\u001b[0;34m\u001b[0m\u001b[0;34m\u001b[0m\u001b[0m\n",
            "\u001b[0;32m/usr/local/lib/python3.7/dist-packages/tensorflow/python/framework/func_graph.py\u001b[0m in \u001b[0;36mautograph_handler\u001b[0;34m(*args, **kwargs)\u001b[0m\n\u001b[1;32m   1127\u001b[0m           \u001b[0;32mexcept\u001b[0m \u001b[0mException\u001b[0m \u001b[0;32mas\u001b[0m \u001b[0me\u001b[0m\u001b[0;34m:\u001b[0m  \u001b[0;31m# pylint:disable=broad-except\u001b[0m\u001b[0;34m\u001b[0m\u001b[0;34m\u001b[0m\u001b[0m\n\u001b[1;32m   1128\u001b[0m             \u001b[0;32mif\u001b[0m \u001b[0mhasattr\u001b[0m\u001b[0;34m(\u001b[0m\u001b[0me\u001b[0m\u001b[0;34m,\u001b[0m \u001b[0;34m\"ag_error_metadata\"\u001b[0m\u001b[0;34m)\u001b[0m\u001b[0;34m:\u001b[0m\u001b[0;34m\u001b[0m\u001b[0;34m\u001b[0m\u001b[0m\n\u001b[0;32m-> 1129\u001b[0;31m               \u001b[0;32mraise\u001b[0m \u001b[0me\u001b[0m\u001b[0;34m.\u001b[0m\u001b[0mag_error_metadata\u001b[0m\u001b[0;34m.\u001b[0m\u001b[0mto_exception\u001b[0m\u001b[0;34m(\u001b[0m\u001b[0me\u001b[0m\u001b[0;34m)\u001b[0m\u001b[0;34m\u001b[0m\u001b[0;34m\u001b[0m\u001b[0m\n\u001b[0m\u001b[1;32m   1130\u001b[0m             \u001b[0;32melse\u001b[0m\u001b[0;34m:\u001b[0m\u001b[0;34m\u001b[0m\u001b[0;34m\u001b[0m\u001b[0m\n\u001b[1;32m   1131\u001b[0m               \u001b[0;32mraise\u001b[0m\u001b[0;34m\u001b[0m\u001b[0;34m\u001b[0m\u001b[0m\n",
            "\u001b[0;31mValueError\u001b[0m: in user code:\n\n    File \"/usr/local/lib/python3.7/dist-packages/keras/engine/training.py\", line 1621, in predict_function  *\n        return step_function(self, iterator)\n    File \"/usr/local/lib/python3.7/dist-packages/keras/engine/training.py\", line 1611, in step_function  **\n        outputs = model.distribute_strategy.run(run_step, args=(data,))\n    File \"/usr/local/lib/python3.7/dist-packages/keras/engine/training.py\", line 1604, in run_step  **\n        outputs = model.predict_step(data)\n    File \"/usr/local/lib/python3.7/dist-packages/keras/engine/training.py\", line 1572, in predict_step\n        return self(x, training=False)\n    File \"/usr/local/lib/python3.7/dist-packages/keras/utils/traceback_utils.py\", line 67, in error_handler\n        raise e.with_traceback(filtered_tb) from None\n    File \"/usr/local/lib/python3.7/dist-packages/keras/engine/input_spec.py\", line 213, in assert_input_compatibility\n        raise ValueError(f'Input {input_index} of layer \"{layer_name}\" '\n\n    ValueError: Exception encountered when calling layer \"sequential_2\" (type Sequential).\n    \n    Input 0 of layer \"gru_6\" is incompatible with the layer: expected ndim=3, found ndim=2. Full shape received: (None, None)\n    \n    Call arguments received:\n      • inputs=tf.Tensor(shape=(None, None), dtype=float32)\n      • training=False\n      • mask=None\n"
          ]
        }
      ]
    },
    {
      "cell_type": "code",
      "metadata": {
        "colab": {
          "base_uri": "https://localhost:8080/",
          "height": 206
        },
        "id": "K3iIEvhih9PT",
        "outputId": "fe566d28-a598-47e8-c574-b5fbec47166e"
      },
      "source": [
        "dataset.head()"
      ],
      "execution_count": 73,
      "outputs": [
        {
          "output_type": "execute_result",
          "data": {
            "text/html": [
              "<div>\n",
              "<style scoped>\n",
              "    .dataframe tbody tr th:only-of-type {\n",
              "        vertical-align: middle;\n",
              "    }\n",
              "\n",
              "    .dataframe tbody tr th {\n",
              "        vertical-align: top;\n",
              "    }\n",
              "\n",
              "    .dataframe thead th {\n",
              "        text-align: right;\n",
              "    }\n",
              "</style>\n",
              "<table border=\"1\" class=\"dataframe\">\n",
              "  <thead>\n",
              "    <tr style=\"text-align: right;\">\n",
              "      <th></th>\n",
              "      <th>review_clean</th>\n",
              "      <th>review_sentences</th>\n",
              "      <th>embedding</th>\n",
              "      <th>rate</th>\n",
              "    </tr>\n",
              "  </thead>\n",
              "  <tbody>\n",
              "    <tr>\n",
              "      <th>0</th>\n",
              "      <td>!!! a theif working amongst you!!! myself, my ...</td>\n",
              "      <td>[ a theif working amongst you,  myself, my sis...</td>\n",
              "      <td>[[0.045603834, -0.017338777, 0.0012167644, 0.0...</td>\n",
              "      <td>1.0</td>\n",
              "    </tr>\n",
              "    <tr>\n",
              "      <th>1</th>\n",
              "      <td>\"\"\"\"avoid at all costs\"\"\"\"\"\" this was an absol...</td>\n",
              "      <td>[\"\"\"\"avoid at all costs\"\"\"\"\"\" this was an abso...</td>\n",
              "      <td>[[0.019589972, 0.048924193, -0.015198772, -0.0...</td>\n",
              "      <td>1.0</td>\n",
              "    </tr>\n",
              "    <tr>\n",
              "      <th>2</th>\n",
              "      <td>\"$$$\" food but only at a \"$\" price. will be co...</td>\n",
              "      <td>[\"$$$\" food but only at a \"$\" price,  will be ...</td>\n",
              "      <td>[[0.016501594, 0.1083755, 0.014006043, -0.0319...</td>\n",
              "      <td>5.0</td>\n",
              "    </tr>\n",
              "    <tr>\n",
              "      <th>3</th>\n",
              "      <td>\"a middle finger salute\" well i haven't had ma...</td>\n",
              "      <td>[\"a middle finger salute\" well i haven't had m...</td>\n",
              "      <td>[[0.019542666, -0.017905522, 0.0037664298, 0.0...</td>\n",
              "      <td>1.0</td>\n",
              "    </tr>\n",
              "    <tr>\n",
              "      <th>4</th>\n",
              "      <td>\"a true disappointment and a waste of money an...</td>\n",
              "      <td>[\"a true disappointment and a waste of money a...</td>\n",
              "      <td>[[0.036009785, 0.0029092361, 0.0132899275, 0.0...</td>\n",
              "      <td>1.0</td>\n",
              "    </tr>\n",
              "  </tbody>\n",
              "</table>\n",
              "</div>"
            ],
            "text/plain": [
              "                                        review_clean  ... rate\n",
              "0  !!! a theif working amongst you!!! myself, my ...  ...  1.0\n",
              "1  \"\"\"\"avoid at all costs\"\"\"\"\"\" this was an absol...  ...  1.0\n",
              "2  \"$$$\" food but only at a \"$\" price. will be co...  ...  5.0\n",
              "3  \"a middle finger salute\" well i haven't had ma...  ...  1.0\n",
              "4  \"a true disappointment and a waste of money an...  ...  1.0\n",
              "\n",
              "[5 rows x 4 columns]"
            ]
          },
          "metadata": {},
          "execution_count": 73
        }
      ]
    },
    {
      "cell_type": "code",
      "metadata": {
        "colab": {
          "base_uri": "https://localhost:8080/"
        },
        "id": "boTcwoSJiQEX",
        "outputId": "988aaa55-2e9a-4077-8b1c-50f3afb3d72d"
      },
      "source": [
        "txt= pad_sequences(np.array(dataset.loc[2,'embedding']), dtype='float32', padding='post', maxlen=30)\n",
        "txt.shape"
      ],
      "execution_count": 95,
      "outputs": [
        {
          "output_type": "execute_result",
          "data": {
            "text/plain": [
              "(6, 30)"
            ]
          },
          "metadata": {},
          "execution_count": 95
        }
      ]
    },
    {
      "cell_type": "code",
      "metadata": {
        "colab": {
          "base_uri": "https://localhost:8080/"
        },
        "id": "0kEa1Hk5k9qJ",
        "outputId": "401eeaba-cc0e-4fb2-ca14-c6ddd4f9e0ab"
      },
      "source": [
        "np.array(dataset.loc[2,'embedding']).shape"
      ],
      "execution_count": 96,
      "outputs": [
        {
          "output_type": "execute_result",
          "data": {
            "text/plain": [
              "(6, 768)"
            ]
          },
          "metadata": {},
          "execution_count": 96
        }
      ]
    },
    {
      "cell_type": "code",
      "metadata": {
        "id": "ABY0RypMjqqJ"
      },
      "source": [
        "html = make_heatmap_html(txt, txt, model)"
      ],
      "execution_count": null,
      "outputs": []
    }
  ]
}